{
 "cells": [
  {
   "cell_type": "code",
   "execution_count": 2,
   "id": "346c9522-6027-4859-a951-9cf69105d8cc",
   "metadata": {},
   "outputs": [
    {
     "data": {
      "text/plain": [
       "'cfv1i'"
      ]
     },
     "execution_count": 2,
     "metadata": {},
     "output_type": "execute_result"
    }
   ],
   "source": [
    "import importlib\n",
    "\n",
    "cf = importlib.import_module(\"calc_funcs_v1i\")\n",
    "cf.calc_funcs_ver"
   ]
  },
  {
   "cell_type": "code",
   "execution_count": null,
   "id": "77e62a68-daa9-4227-aa44-1f373b1f8591",
   "metadata": {},
   "outputs": [],
   "source": [
    "import calc_funcs_v1i as cf\n",
    "import numpy as np\n",
    "import xarray as xr\n",
    "import matplotlib.pyplot as plt\n",
    "import matplotlib.patheffects as path_effects\n",
    "import cartopy.crs as ccrs\n",
    "import cartopy.feature as cfeature\n",
    "import cmocean\n",
    "import logging\n",
    "import copy"
   ]
  },
  {
   "cell_type": "code",
   "execution_count": null,
   "id": "aa9d81db-3585-4f50-9b72-860d4c164e23",
   "metadata": {},
   "outputs": [],
   "source": [
    "plt.rcParams['text.usetex'] = True\n",
    "da_dims_valid = (\"latitude\", \"longitude\")\n",
    "da_names_cyclic_valid = [\"hour_max\", \"hour_min\"]\n",
    "figwidth_default = 20"
   ]
  },
  {
   "cell_type": "code",
   "execution_count": null,
   "id": "0c1e7941-486f-4335-89b9-16d8c79e7d61",
   "metadata": {},
   "outputs": [],
   "source": [
    "def create_pcolormesh(da, extents=None, ax=None):\n",
    "    \n",
    "    assert ((str(type(da)) == \"<class 'xarray.core.dataarray.DataArray'>\") & \n",
    "            (da.dims == da_dims_valid)), \\\n",
    "        f\"da must be an xarray.DataArray with da.dims == {da_dims_valid}\"\n",
    "    \n",
    "    if extents:\n",
    "        assert (isinstance(extents, list) & (len(extents) == 4) & \n",
    "                (extents[1] > extents[0]) & (extents[3] > extents[2])), \\\n",
    "            \"extents must a 4 element list in [W, E, S, N] format or None\"\n",
    "    else:\n",
    "        extents = []\n",
    "        extents.append(da.longitude.min())\n",
    "        extents.append(da.longitude.max())\n",
    "        extents.append(da.latitude.min())\n",
    "        extents.append(da.latitude.max())\n",
    "    \n",
    "    if ax:\n",
    "        assert str(type(ax)) == \"<class 'cartopy.mpl.geoaxes.GeoAxesSubplot'>\", \\\n",
    "            \"ax must be a cartopy.GeoAxesSubplot or None\"\n",
    "    else:\n",
    "        ax_input = None\n",
    "        figwidth = figwidth_default / 2\n",
    "        figheight = figwidth * (extents[3]-extents[2]) / (extents[1]-extents[0])\n",
    "        fig, ax = plt.subplots(1, 1, figsize=(figwidth, figheight), \n",
    "                               subplot_kw = {\"projection\": ccrs.PlateCarree()}\n",
    "                              )\n",
    "    \n",
    "    if da.attrs[\"full_name\"].split(\" \")[0] == \"Difference\":\n",
    "        vmin = None\n",
    "        vmax = None\n",
    "        levels = None\n",
    "        if da.name in da_names_cyclic_valid:\n",
    "            cmap = \"twilight_shifted\"\n",
    "            levels = np.arange(-12, 13)\n",
    "        else:\n",
    "            cmap = cmocean.cm.balance\n",
    "    else:\n",
    "        vmin = None\n",
    "        vmax = None\n",
    "        levels = None\n",
    "        if da.name in da_names_cyclic_valid:\n",
    "            cmap = cmocean.cm.phase\n",
    "            levels = np.arange(0, 25)\n",
    "        else:\n",
    "            cmap = \"viridis\"\n",
    "            vmin = (da\n",
    "                    .sel(longitude=slice(extents[0], extents[1]), \n",
    "                         latitude=slice(extents[3], extents[2]))\n",
    "                    .min()\n",
    "                   )\n",
    "            vmax = (da\n",
    "                    .sel(longitude=slice(extents[0], extents[1]), \n",
    "                         latitude=slice(extents[3], extents[2]))\n",
    "                    .max()\n",
    "                   )\n",
    "        \n",
    "    ax.set_extent(extents=extents, crs=ccrs.PlateCarree())\n",
    "    da.plot.pcolormesh(ax = ax, cmap = cmap, transform = ccrs.PlateCarree(),\n",
    "                       vmin = vmin, vmax = vmax, levels = levels,\n",
    "                       cbar_kwargs = {\"label\": \"{} [{}]\"\n",
    "                                      .format(da.attrs[\"abbreviation\"], \n",
    "                                              da.attrs[\"units\"])\n",
    "                                     }\n",
    "                      )\n",
    "    ax.set_title(da.attrs[\"full_name\"])\n",
    "    ax.add_feature(cfeature.COASTLINE)\n",
    "    ax.gridlines(draw_labels=True, x_inline=False, y_inline=False)\n",
    "    \n",
    "    if ax_input == None:\n",
    "        fig.tight_layout()\n",
    "        plt.show()"
   ]
  },
  {
   "cell_type": "code",
   "execution_count": null,
   "id": "77dd03ad-a59c-42a3-a51d-19fce1a48e0c",
   "metadata": {},
   "outputs": [],
   "source": [
    "def create_quiver(da_u, da_v, extents=None, ax=None):\n",
    "    \n",
    "    assert ((str(type(da_u)) == \"<class 'xarray.core.dataarray.DataArray'>\") & \n",
    "            (da_u.dims == da_dims_valid)), \\\n",
    "        f\"da_u must be an xarray.DataArray with da_u.dims == {da_dims_valid}\"\n",
    "    \n",
    "    assert ((str(type(da_v)) == \"<class 'xarray.core.dataarray.DataArray'>\") & \n",
    "            (da_v.dims == da_dims_valid)), \\\n",
    "        f\"da_v must be an xarray.DataArray with da_v.dims == {da_dims_valid}\"\n",
    "    \n",
    "    attrs_u = copy.deepcopy(da_u.attrs)\n",
    "    attrs_u[\"abbreviation\"] = attrs_u[\"abbreviation\"].replace(\"_u\", \"\")\n",
    "    attrs_u[\"full_name\"] = (attrs_u[\"full_name\"]\n",
    "                            .replace(\"Zonal Component of \", \"\"))\n",
    "    \n",
    "    attrs_v = copy.deepcopy(da_v.attrs)\n",
    "    attrs_v[\"full_name\"] = (attrs_v[\"full_name\"]\n",
    "                            .replace(\"Meridional Component of \", \"\"))\n",
    "    \n",
    "    assert attrs_u[\"full_name\"] == attrs_v[\"full_name\"], \\\n",
    "        (\"da_u and da_v must be the zonal and meridional components \" +\n",
    "         \"of the same variable\")\n",
    "    \n",
    "    vector_test = (attrs_u[\"abbreviation\"]\n",
    "                   .split(\"(\")[-1]\n",
    "                   .split(\")\")[0]\n",
    "                   .split(\"^\")[0]\n",
    "                   .split(\"$\")[0]\n",
    "                   .replace(\"U\", \"WV\")\n",
    "                   .lower())\n",
    "    \n",
    "    assert vector_test in cf.vectors, \\\n",
    "        \"da_u and da_v must be the components of a vector parameter\"\n",
    "    \n",
    "    if extents:\n",
    "        assert (isinstance(extents, list) & (len(extents) == 4) & \n",
    "                (extents[1] > extents[0]) & (extents[3] > extents[2])), \\\n",
    "            \"extents must a 4 element list in [W, E, S, N] format or None\"\n",
    "    else:\n",
    "        extents = []\n",
    "        extents.append(da_u.longitude.min())\n",
    "        extents.append(da_u.longitude.max())\n",
    "        extents.append(da_u.latitude.min())\n",
    "        extents.append(da_u.latitude.max())\n",
    "    \n",
    "    if ax:\n",
    "        assert str(type(ax)) == \"<class 'cartopy.mpl.geoaxes.GeoAxesSubplot'>\", \\\n",
    "            \"ax must be a cartopy.GeoAxesSubplot or None\"\n",
    "    else:\n",
    "        ax_input = None\n",
    "        figwidth = figwidth_default / 2\n",
    "        figheight = figwidth * (extents[3]-extents[2]) / (extents[1]-extents[0])\n",
    "        fig, ax = plt.subplots(1, 1, figsize=(figwidth, figheight), \n",
    "                               subplot_kw = {\"projection\": ccrs.PlateCarree()}\n",
    "                              )\n",
    "    \n",
    "    if attrs_u[\"full_name\"].split(\" \")[0] == \"Difference\":\n",
    "        cmap = cmocean.cm.tempo\n",
    "    else:\n",
    "        cmap = cmocean.cm.speed\n",
    "        \n",
    "    da_mag = xr.DataArray(cf.get_magnitude(da_u, da_v), name = \"mag\")\n",
    "    da_u_unit = xr.DataArray(da_u / da_mag, name = \"u_unit\")\n",
    "    da_v_unit = xr.DataArray(da_v / da_mag, name = \"v_unit\")\n",
    "    ds = xr.merge([da_mag, da_u_unit, da_v_unit])\n",
    "    ax.set_extent(extents=extents, crs=ccrs.PlateCarree())\n",
    "    ds.plot.quiver(x = \"longitude\", y = \"latitude\", ax = ax, \n",
    "                   u = \"u_unit\", v = \"v_unit\", \n",
    "                   hue = \"mag\", cmap = cmap, transform = ccrs.PlateCarree(),\n",
    "                   cbar_kwargs={\"label\": \"{} [{}]\"\n",
    "                                .format(attrs_u[\"abbreviation\"], \n",
    "                                        attrs_u[\"units\"])\n",
    "                               }\n",
    "                  )\n",
    "    ax.set_title(attrs_u[\"full_name\"])\n",
    "    ax.add_feature(cfeature.COASTLINE)\n",
    "    ax.gridlines(draw_labels=True, x_inline=False, y_inline=False)\n",
    "    \n",
    "    if ax_input == None:\n",
    "        fig.tight_layout()\n",
    "        plt.show()"
   ]
  },
  {
   "cell_type": "code",
   "execution_count": null,
   "id": "1f098279-9aac-48b0-943a-3b006ad3fe95",
   "metadata": {},
   "outputs": [],
   "source": [
    "def create_individual_calc_plot(calc_func, region, period_start, period_end, months_subset, param, hour, ax):\n",
    "    # set extents using region\n",
    "    # set vmin an vmax here?\n",
    "    # create output=True/False argument?\n",
    "    # or rather, output if it doesn't exist, otherwise just continue with code (don't terminate)?"
   ]
  },
  {
   "cell_type": "code",
   "execution_count": null,
   "id": "33671d18-f421-487d-b58b-a6142afe3d05",
   "metadata": {},
   "outputs": [],
   "source": [
    "def create_individual_comp_plot(\n",
    "    calc_func, region, period1_start, period1_end, period2_start, period2_end, \n",
    "    months_subset, param, hour, output, vmin, vmax, ax_period1, ax_period2, ax_diff\n",
    "):"
   ]
  },
  {
   "cell_type": "code",
   "execution_count": null,
   "id": "a67960a6-ff78-401c-b35b-c096b8869e88",
   "metadata": {},
   "outputs": [],
   "source": []
  },
  {
   "cell_type": "code",
   "execution_count": null,
   "id": "15b94c22-9f47-4368-b3b3-eae2cf04d72c",
   "metadata": {},
   "outputs": [],
   "source": [
    "da_land_elev = xr.open_dataset(f\"../data_processed/era5_land_elev/{cf.calc_funcs_ver}_calc_global_static_land-elev.nc\")[\"lse\"]\n",
    "da_lai_mean = xr.open_dataset(f\"../data_processed/glass_mean_clim/{cf.calc_funcs_ver}_calc_wa_Jan-1992_Dec-1996_all_glass-mean_avhrr.nc\")[\"mlai\"]\n",
    "da_lai_mean_diff = xr.open_dataset(f\"../data_processed/glass_mean_clim/{cf.calc_funcs_ver}_diff_wa_Jan-1992_Dec-1996_Jan-2002_Dec-2006_all_glass-mean_avhrr.nc\")[\"mlai\"]\n",
    "da_mslp_mean = xr.open_dataset(f\"../data_processed/era5_mdp_clim_stats_given_var_or_dvar/{cf.calc_funcs_ver}_calc_wa_Jan-1992_Dec-1996_all_era5-mdp_mslp_stats.nc\")[\"mean\"]\n",
    "da_mslp_mean_diff = xr.open_dataset(f\"../data_processed/era5_mdp_clim_stats_given_var_or_dvar/{cf.calc_funcs_ver}_diff_wa_Jan-1992_Dec-1996_Jan-2002_Dec-2006_all_era5-mdp_mslp_stats.nc\")[\"mean\"]\n",
    "da_mslp_hour_max = xr.open_dataset(f\"../data_processed/era5_mdp_clim_stats_given_var_or_dvar/{cf.calc_funcs_ver}_calc_wa_Jan-1992_Dec-1996_all_era5-mdp_mslp_stats.nc\")[\"hour_max\"]\n",
    "da_mslp_hour_max_diff = xr.open_dataset(f\"../data_processed/era5_mdp_clim_stats_given_var_or_dvar/{cf.calc_funcs_ver}_diff_wa_Jan-1992_Dec-1996_Jan-2002_Dec-2006_all_era5-mdp_mslp_stats.nc\")[\"hour_max\"]\n",
    "da_wv100_mean_u = xr.open_dataset(f\"../data_processed/era5_mdp_clim_stats_given_var_or_dvar/{cf.calc_funcs_ver}_calc_wa_Jan-1992_Dec-1996_all_era5-mdp_wv100_stats.nc\")[\"mean_u\"]\n",
    "da_wv100_mean_v = xr.open_dataset(f\"../data_processed/era5_mdp_clim_stats_given_var_or_dvar/{cf.calc_funcs_ver}_calc_wa_Jan-1992_Dec-1996_all_era5-mdp_wv100_stats.nc\")[\"mean_v\"]\n",
    "da_wv100_mean_u_diff = xr.open_dataset(f\"../data_processed/era5_mdp_clim_stats_given_var_or_dvar/{cf.calc_funcs_ver}_diff_wa_Jan-1992_Dec-1996_Jan-2002_Dec-2006_all_era5-mdp_wv100_stats.nc\")[\"mean_u\"]\n",
    "da_wv100_mean_v_diff = xr.open_dataset(f\"../data_processed/era5_mdp_clim_stats_given_var_or_dvar/{cf.calc_funcs_ver}_diff_wa_Jan-1992_Dec-1996_Jan-2002_Dec-2006_all_era5-mdp_wv100_stats.nc\")[\"mean_v\"]"
   ]
  },
  {
   "cell_type": "code",
   "execution_count": null,
   "id": "71a32df4-0a14-4f21-b256-a016b641329e",
   "metadata": {},
   "outputs": [],
   "source": [
    "create_pcolormesh(da_land_elev, cf.regions[\"wa\"][\"extent\"])"
   ]
  },
  {
   "cell_type": "code",
   "execution_count": null,
   "id": "2bdbb353-72a6-4a06-bb76-5354686b048f",
   "metadata": {},
   "outputs": [],
   "source": [
    "create_pcolormesh(da_lai_mean)"
   ]
  },
  {
   "cell_type": "code",
   "execution_count": null,
   "id": "076df839-9068-4645-91c4-f5712fe7f804",
   "metadata": {},
   "outputs": [],
   "source": [
    "create_pcolormesh(da_lai_mean_diff)"
   ]
  },
  {
   "cell_type": "code",
   "execution_count": null,
   "id": "d61978da-3f4d-4db5-a8fc-1423c6bb5b5f",
   "metadata": {
    "tags": []
   },
   "outputs": [],
   "source": [
    "create_pcolormesh(da_mslp_mean)"
   ]
  },
  {
   "cell_type": "code",
   "execution_count": null,
   "id": "ff4e70e5-55f0-428c-b53d-994469a4cdc3",
   "metadata": {},
   "outputs": [],
   "source": [
    "create_pcolormesh(da_mslp_mean_diff)"
   ]
  },
  {
   "cell_type": "code",
   "execution_count": null,
   "id": "da7fce6d-4f42-4bc9-91ee-6ecbe4f941ca",
   "metadata": {},
   "outputs": [],
   "source": [
    "create_pcolormesh(da_mslp_hour_max)"
   ]
  },
  {
   "cell_type": "code",
   "execution_count": null,
   "id": "ca465dba-9011-4c26-b397-c576cebdbb7f",
   "metadata": {},
   "outputs": [],
   "source": [
    "create_pcolormesh(da_mslp_hour_max_diff)"
   ]
  },
  {
   "cell_type": "code",
   "execution_count": null,
   "id": "e8bf5aaa-a4c6-41d2-9779-981bab5c9943",
   "metadata": {},
   "outputs": [],
   "source": [
    "create_quiver(da_wv100_mean_u, da_wv100_mean_v)"
   ]
  },
  {
   "cell_type": "code",
   "execution_count": null,
   "id": "d41ca0c1-88f5-490b-9b03-c4fc72008ad2",
   "metadata": {},
   "outputs": [],
   "source": [
    "create_quiver(da_wv100_mean_u_diff, da_wv100_mean_v_diff)"
   ]
  },
  {
   "cell_type": "code",
   "execution_count": null,
   "id": "8fcbbbd0-d139-4325-880e-a519930542e7",
   "metadata": {},
   "outputs": [],
   "source": []
  },
  {
   "cell_type": "code",
   "execution_count": null,
   "id": "7cd8c223-e0cd-4a02-8d93-d991193ccfc3",
   "metadata": {},
   "outputs": [],
   "source": []
  },
  {
   "cell_type": "code",
   "execution_count": null,
   "id": "ab4b58f2-0d6b-47a6-a9d3-d944c17af69b",
   "metadata": {},
   "outputs": [],
   "source": []
  },
  {
   "cell_type": "code",
   "execution_count": null,
   "id": "2d8eeb04-d4a1-4d99-97ed-843893dcafec",
   "metadata": {},
   "outputs": [],
   "source": []
  },
  {
   "cell_type": "code",
   "execution_count": null,
   "id": "6781ca68-ef24-4d2b-b8ca-1c247bbf874d",
   "metadata": {},
   "outputs": [],
   "source": []
  },
  {
   "cell_type": "code",
   "execution_count": null,
   "id": "6555096e-0dfa-40de-878d-91c5aa827192",
   "metadata": {},
   "outputs": [],
   "source": []
  },
  {
   "cell_type": "code",
   "execution_count": null,
   "id": "e0f8dac1-492b-48f9-a04b-53d56c6edf04",
   "metadata": {},
   "outputs": [],
   "source": []
  },
  {
   "cell_type": "code",
   "execution_count": null,
   "id": "2c10c99d-7b7e-4195-a3f9-ec385d96dbcf",
   "metadata": {},
   "outputs": [],
   "source": []
  },
  {
   "cell_type": "code",
   "execution_count": null,
   "id": "39b48965-9feb-4f01-a522-01fe55b19a38",
   "metadata": {},
   "outputs": [],
   "source": []
  },
  {
   "cell_type": "code",
   "execution_count": null,
   "id": "4651b41c-a423-44e7-ae4d-236a5f8aa4e3",
   "metadata": {},
   "outputs": [],
   "source": []
  },
  {
   "cell_type": "code",
   "execution_count": null,
   "id": "1d055fb8-baa9-4975-9af2-ece8051a81ad",
   "metadata": {},
   "outputs": [],
   "source": []
  },
  {
   "cell_type": "code",
   "execution_count": null,
   "id": "f74c0ec5-1b93-4ed2-9e68-bf199ae1e8e0",
   "metadata": {},
   "outputs": [],
   "source": []
  },
  {
   "cell_type": "code",
   "execution_count": null,
   "id": "458f0877-4fd7-401c-a867-8019ceb09459",
   "metadata": {},
   "outputs": [],
   "source": []
  },
  {
   "cell_type": "code",
   "execution_count": null,
   "id": "1fdcb5b7-14a5-45a0-8f8b-0c54ead9071c",
   "metadata": {},
   "outputs": [],
   "source": [
    "# from dask.distributed import Client\n",
    "# client = Client()\n",
    "# client"
   ]
  },
  {
   "cell_type": "code",
   "execution_count": null,
   "id": "9c20f12e-7d78-4384-866c-2b6c94f505e7",
   "metadata": {},
   "outputs": [],
   "source": [
    "# client.close()"
   ]
  },
  {
   "cell_type": "code",
   "execution_count": null,
   "id": "88815e8f-f6a4-4778-abf1-523aba2a5360",
   "metadata": {},
   "outputs": [],
   "source": []
  },
  {
   "cell_type": "code",
   "execution_count": null,
   "id": "71b2092c-30a6-41a3-8305-27e322bb9f04",
   "metadata": {},
   "outputs": [],
   "source": [
    "import ipywidgets as ipw\n",
    "import hvplot.xarray # noqa\n",
    "import hvplot.pandas # noqa\n",
    "import panel as pn\n",
    "import pandas as pd\n",
    "import panel.widgets as pnw\n",
    "import xarray as xr"
   ]
  },
  {
   "cell_type": "code",
   "execution_count": null,
   "id": "7b38e275-0629-4e89-9060-da191f11290a",
   "metadata": {},
   "outputs": [],
   "source": []
  },
  {
   "cell_type": "code",
   "execution_count": null,
   "id": "34ba8089-51c4-4fc4-b0de-3bf5f14d2913",
   "metadata": {},
   "outputs": [],
   "source": [
    "%%time\n",
    "cf.calc_glass_mean_clim(\"wa\", \"Jun-2000\", \"Aug-2005\", [8, 6,7])"
   ]
  },
  {
   "cell_type": "code",
   "execution_count": null,
   "id": "b9d51c88-9924-4d92-8d1e-bed41822ad28",
   "metadata": {},
   "outputs": [],
   "source": [
    "%%time\n",
    "cf.calc_era5_mdp_clim_given_var_or_dvar(\"sa\", \"Dec-1994\", \"Feb-2000\", \"djf\", \"wv10\")"
   ]
  },
  {
   "cell_type": "code",
   "execution_count": null,
   "id": "91f0cfc2-4a65-450e-b2a4-fb93d36383d7",
   "metadata": {},
   "outputs": [],
   "source": [
    "%%time\n",
    "cf.calc_era5_mdp_clim_stats_given_var_or_dvar(\"sa\", \"Dec-1994\", \"Feb-2000\", \"jja\", \"dwv100\")"
   ]
  },
  {
   "cell_type": "code",
   "execution_count": null,
   "id": "97a04f11-35a7-4857-9b44-ab06367d60bb",
   "metadata": {},
   "outputs": [],
   "source": [
    "%%time\n",
    "cf.calc_era5_wsd_clim(\"wa\", \"Jun-2000\", \"Aug-2005\", [1,3,5,7,9,11])"
   ]
  },
  {
   "cell_type": "code",
   "execution_count": null,
   "id": "13ad7114-ea13-408c-842b-57783d8cd353",
   "metadata": {},
   "outputs": [],
   "source": [
    "%%time\n",
    "cf.calc_diff(cf.calc_era5_mdp_clim_given_var_or_dvar, \"ca\", \"Jan-1985\", \"Dec-1994\", \"Jan-1995\", \"Jan-2004\", \"all\", \"dnac\")"
   ]
  },
  {
   "cell_type": "code",
   "execution_count": null,
   "id": "88197396-e0d7-45d6-8a71-f31f75f901dd",
   "metadata": {},
   "outputs": [],
   "source": []
  },
  {
   "cell_type": "code",
   "execution_count": null,
   "id": "e48ce90b-56d9-45cc-851c-8e192e903a31",
   "metadata": {},
   "outputs": [],
   "source": [
    "test1 = xr.open_dataset(f\"../data_processed/glass_mean_clim/{cf.calc_funcs_ver}_calc_wa_Jun-2000_Aug-2005_6-7-8_glass-mean_avhrr.nc\")\n",
    "test1"
   ]
  },
  {
   "cell_type": "code",
   "execution_count": null,
   "id": "b46ba1d0-e50f-4d49-a8c2-5a162c291486",
   "metadata": {},
   "outputs": [],
   "source": [
    "test1[\"mlai\"].plot()"
   ]
  },
  {
   "cell_type": "code",
   "execution_count": null,
   "id": "e4406c5f-9c20-4871-a0a9-6d34ed97975d",
   "metadata": {},
   "outputs": [],
   "source": [
    "test1[\"mfapar\"].plot()"
   ]
  },
  {
   "cell_type": "code",
   "execution_count": null,
   "id": "b9106d36-2c2e-46ad-8e36-28b692ed4461",
   "metadata": {},
   "outputs": [],
   "source": []
  },
  {
   "cell_type": "code",
   "execution_count": null,
   "id": "d26e92ff-4a98-4b8b-9d5a-92c604e4a089",
   "metadata": {},
   "outputs": [],
   "source": [
    "test2 = xr.open_dataset(f\"../data_processed/era5_mdp_clim_given_var_or_dvar/{cf.calc_funcs_ver}_calc_sa_Dec-1994_Feb-2000_djf_era5-mdp_wv10.nc\")\n",
    "test2"
   ]
  },
  {
   "cell_type": "code",
   "execution_count": null,
   "id": "8b43703d-5fe5-46a6-bedd-e09bb2fa0849",
   "metadata": {},
   "outputs": [],
   "source": [
    "test2[\"u10\"].sel(hour=21).plot()"
   ]
  },
  {
   "cell_type": "code",
   "execution_count": null,
   "id": "061093ef-6581-4232-b2e7-b7c4667cfef9",
   "metadata": {},
   "outputs": [],
   "source": [
    "test2[\"v10\"].sel(hour=21).plot()"
   ]
  },
  {
   "cell_type": "code",
   "execution_count": null,
   "id": "e637ea8f-f73c-4195-8dab-e2a7c8d6de89",
   "metadata": {},
   "outputs": [],
   "source": []
  },
  {
   "cell_type": "code",
   "execution_count": null,
   "id": "6bcb2fa2-c20f-4e35-9f9a-8bd96891210c",
   "metadata": {},
   "outputs": [],
   "source": [
    "test3 = xr.open_dataset(f\"../data_processed/era5_mdp_clim_given_var_or_dvar/{cf.calc_funcs_ver}_diff_ca_Jan-1985_Dec-1994_Jan-1995_Jan-2004_all_era5-mdp_dnac.nc\")\n",
    "test3"
   ]
  },
  {
   "cell_type": "code",
   "execution_count": null,
   "id": "c0bf4712-241f-48c4-958c-1f16601f7d7e",
   "metadata": {},
   "outputs": [],
   "source": [
    "test3[\"dnse\"].sel(hour=21).plot()"
   ]
  },
  {
   "cell_type": "code",
   "execution_count": null,
   "id": "943d8b7f-6b2e-4178-a697-eec05d9563f4",
   "metadata": {},
   "outputs": [],
   "source": [
    "test3[\"dvidmf\"].sel(hour=21).plot()"
   ]
  },
  {
   "cell_type": "code",
   "execution_count": null,
   "id": "3484eea1-66ff-4a59-9dfa-5f0ebf37e42e",
   "metadata": {},
   "outputs": [],
   "source": [
    "test3[\"dvidcfwf\"].sel(hour=21).plot()"
   ]
  },
  {
   "cell_type": "code",
   "execution_count": null,
   "id": "0695a2a5-532f-4331-b2a5-b78cd8bdbbb7",
   "metadata": {},
   "outputs": [],
   "source": [
    "test3[\"dvidclwf\"].sel(hour=21).plot()"
   ]
  },
  {
   "cell_type": "code",
   "execution_count": null,
   "id": "1f88c13d-b994-450d-a1b5-7a4604b6b47e",
   "metadata": {},
   "outputs": [],
   "source": [
    "test3[\"dtcwv\"].sel(hour=21).plot()"
   ]
  },
  {
   "cell_type": "code",
   "execution_count": null,
   "id": "7c677d52-4d0c-4044-aabb-f3bd287feaa2",
   "metadata": {},
   "outputs": [],
   "source": [
    "test3[\"dnac\"].sel(hour=21).plot()"
   ]
  },
  {
   "cell_type": "code",
   "execution_count": null,
   "id": "a9962ab2-a52a-4fd2-b175-6ad47e815f68",
   "metadata": {},
   "outputs": [],
   "source": []
  },
  {
   "cell_type": "code",
   "execution_count": null,
   "id": "16fb9161-f158-45e3-942b-c67862efc205",
   "metadata": {},
   "outputs": [],
   "source": [
    "test4 = xr.open_dataset(f\"../data_processed/era5_mdp_clim_stats_given_var_or_dvar/{cf.calc_funcs_ver}_calc_sa_Dec-1994_Feb-2000_jja_era5-mdp_dwv100_stats.nc\")\n",
    "test4"
   ]
  },
  {
   "cell_type": "code",
   "execution_count": null,
   "id": "48473149-619e-42fc-ab89-ddabcc6f12ed",
   "metadata": {},
   "outputs": [],
   "source": [
    "test4[\"hour_max\"].plot()"
   ]
  },
  {
   "cell_type": "code",
   "execution_count": null,
   "id": "62ad8796-e1cc-422d-970b-91497ecbbd12",
   "metadata": {},
   "outputs": [],
   "source": [
    "test4[\"hour_min\"].plot()"
   ]
  },
  {
   "cell_type": "code",
   "execution_count": null,
   "id": "36c46a27-3c32-40ed-b1d6-d83e5dd7053a",
   "metadata": {},
   "outputs": [],
   "source": [
    "test4[\"max_u\"].plot()"
   ]
  },
  {
   "cell_type": "code",
   "execution_count": null,
   "id": "386c0c1b-bfe4-426f-a6fc-d05d7823443c",
   "metadata": {},
   "outputs": [],
   "source": [
    "test4[\"max_v\"].plot()"
   ]
  },
  {
   "cell_type": "code",
   "execution_count": null,
   "id": "f71ec070-7b1b-44f0-9c59-b2e8a8a819f8",
   "metadata": {},
   "outputs": [],
   "source": [
    "test4[\"min_u\"].plot()"
   ]
  },
  {
   "cell_type": "code",
   "execution_count": null,
   "id": "b1db494a-d03d-4e4c-8003-2ffcfae4125c",
   "metadata": {},
   "outputs": [],
   "source": [
    "test4[\"min_v\"].plot()"
   ]
  },
  {
   "cell_type": "code",
   "execution_count": null,
   "id": "f9bc5d35-7e88-44ef-96cb-bbe6229b3a20",
   "metadata": {},
   "outputs": [],
   "source": [
    "test4[\"mean_u\"].plot()"
   ]
  },
  {
   "cell_type": "code",
   "execution_count": null,
   "id": "a78ce424-d0d1-4373-8fea-77dbee82c06d",
   "metadata": {},
   "outputs": [],
   "source": [
    "test4[\"mean_v\"].plot()"
   ]
  },
  {
   "cell_type": "code",
   "execution_count": null,
   "id": "2d5ac6e3-f79c-44fe-96ae-2f9226b72588",
   "metadata": {},
   "outputs": [],
   "source": [
    "test4[\"range\"].plot()"
   ]
  },
  {
   "cell_type": "code",
   "execution_count": null,
   "id": "7a7f53eb-b097-4da3-8f56-da0fd322d874",
   "metadata": {},
   "outputs": [],
   "source": [
    "# test4[\"max\"].plot()"
   ]
  },
  {
   "cell_type": "code",
   "execution_count": null,
   "id": "3d012234-8676-42a7-a510-b9cf2eab9786",
   "metadata": {},
   "outputs": [],
   "source": [
    "# test4[\"min\"].plot()"
   ]
  },
  {
   "cell_type": "code",
   "execution_count": null,
   "id": "f1564798-58fe-46ae-8b5d-9137eecd0443",
   "metadata": {},
   "outputs": [],
   "source": [
    "# test4[\"mean\"].plot()"
   ]
  },
  {
   "cell_type": "code",
   "execution_count": null,
   "id": "bd228b24-030a-4840-b694-3555fcd6eaed",
   "metadata": {},
   "outputs": [],
   "source": []
  },
  {
   "cell_type": "code",
   "execution_count": null,
   "id": "8ec4e4b8-c788-4b30-bf3f-6f1a4dc97236",
   "metadata": {},
   "outputs": [],
   "source": [
    "test5 = xr.open_dataset(f\"../data_processed/era5_wsd_clim/{cf.calc_funcs_ver}_calc_wa_Jun-2000_Aug-2005_1-3-5-7-9-11_era5-wsd.nc\")\n",
    "test5"
   ]
  },
  {
   "cell_type": "code",
   "execution_count": null,
   "id": "b79dddd3-29ec-4351-a877-608344d03a45",
   "metadata": {},
   "outputs": [],
   "source": [
    "test5[\"ws100_mean\"].plot()"
   ]
  },
  {
   "cell_type": "code",
   "execution_count": null,
   "id": "4b4c5b0a-ea32-4254-9df5-eb40648df055",
   "metadata": {},
   "outputs": [],
   "source": [
    "test5[\"ws100_std\"].plot()"
   ]
  },
  {
   "cell_type": "code",
   "execution_count": null,
   "id": "b1345c3b-0204-4524-8b15-60f3f5a7c3b1",
   "metadata": {},
   "outputs": [],
   "source": [
    "test5[\"c100\"].plot()"
   ]
  },
  {
   "cell_type": "code",
   "execution_count": null,
   "id": "e2ae036e-e1ee-446e-a96d-6e4daee16bb6",
   "metadata": {},
   "outputs": [],
   "source": [
    "test5[\"k100\"].plot()"
   ]
  },
  {
   "cell_type": "code",
   "execution_count": null,
   "id": "433504ab-ad79-45db-b98b-9c45b07aea15",
   "metadata": {},
   "outputs": [],
   "source": [
    "test5[\"eroe100\"].plot()"
   ]
  },
  {
   "cell_type": "code",
   "execution_count": null,
   "id": "21a57111-c0d4-42f7-971e-95cdfdbccfb6",
   "metadata": {},
   "outputs": [],
   "source": [
    "test5[\"tgcf100\"].plot()"
   ]
  },
  {
   "cell_type": "code",
   "execution_count": null,
   "id": "52dc59d6-2edc-41f8-9658-baf8041541cd",
   "metadata": {},
   "outputs": [],
   "source": [
    "test5[\"eroe100\"].where(test5[\"eroe100\"]==test5[\"eroe100\"].max(), drop = True).squeeze()"
   ]
  },
  {
   "cell_type": "code",
   "execution_count": null,
   "id": "b7d5c1b7-57e8-47b4-9813-5d7f3eaf1332",
   "metadata": {},
   "outputs": [],
   "source": []
  },
  {
   "cell_type": "code",
   "execution_count": null,
   "id": "9f972775-9707-4ad6-95c6-10ba99cc2805",
   "metadata": {},
   "outputs": [],
   "source": [
    "%%time\n",
    "cf.calc_diff(cf.calc_glass_mean_clim, \"wa\", \"Jan-1985\", \"Dec-1990\", \"Jan-2005\", \"Dec-2010\", \"all\")"
   ]
  },
  {
   "cell_type": "code",
   "execution_count": null,
   "id": "ef8c472b-c81a-4c7d-bef7-ad70d69d14c6",
   "metadata": {},
   "outputs": [],
   "source": [
    "%%time\n",
    "cf.calc_diff(cf.calc_era5_mdp_clim_given_var_or_dvar, \"wa\", \"Jan-1985\", \"Dec-1990\", \"Jan-2005\", \"Dec-2010\", \"all\", \"nac\")"
   ]
  },
  {
   "cell_type": "code",
   "execution_count": null,
   "id": "e2226f81-690e-4e5a-b0f8-0909848c67e9",
   "metadata": {},
   "outputs": [],
   "source": [
    "%%time\n",
    "cf.calc_diff(cf.calc_era5_mdp_clim_stats_given_var_or_dvar, \"wa\", \"Jan-1985\", \"Dec-1990\", \"Jan-2005\", \"Dec-2010\", \"all\", \"wv10\")"
   ]
  },
  {
   "cell_type": "code",
   "execution_count": null,
   "id": "967c3f70-a83a-4175-bdb2-f27856776a1d",
   "metadata": {},
   "outputs": [],
   "source": [
    "%%time\n",
    "cf.calc_diff(cf.calc_era5_wsd_clim, \"wa\", \"Jan-1985\", \"Dec-1990\", \"Jan-2005\", \"Dec-2010\", \"all\")"
   ]
  },
  {
   "cell_type": "code",
   "execution_count": null,
   "id": "56be943c-fcde-43e5-8d6f-045ead8967ce",
   "metadata": {},
   "outputs": [],
   "source": []
  },
  {
   "cell_type": "code",
   "execution_count": null,
   "id": "21a2f226-86a2-48a0-b7f8-211a4c03d452",
   "metadata": {},
   "outputs": [],
   "source": [
    "test6 = xr.open_dataset(f\"../data_processed/glass_mean_clim/{cf.calc_funcs_ver}_diff_wa_Jan-1985_Dec-1990_Jan-2005_Dec-2010_all_glass-mean_avhrr.nc\")\n",
    "test6"
   ]
  },
  {
   "cell_type": "code",
   "execution_count": null,
   "id": "2e4f0765-9c87-4740-b9fe-03ea5b556baa",
   "metadata": {},
   "outputs": [],
   "source": [
    "test6[\"mlai\"].plot()"
   ]
  },
  {
   "cell_type": "code",
   "execution_count": null,
   "id": "3439cc61-ab80-44b3-8b10-33e174a38836",
   "metadata": {},
   "outputs": [],
   "source": [
    "test6[\"mfapar\"].plot()"
   ]
  },
  {
   "cell_type": "code",
   "execution_count": null,
   "id": "91773584-70e7-4301-ada5-b6c6e26dc384",
   "metadata": {},
   "outputs": [],
   "source": []
  },
  {
   "cell_type": "code",
   "execution_count": null,
   "id": "c53240de-3b11-4e4f-b924-24b25cb3dbc8",
   "metadata": {},
   "outputs": [],
   "source": [
    "test7 = xr.open_dataset(f\"../data_processed/era5_mdp_clim_given_var_or_dvar/{cf.calc_funcs_ver}_diff_wa_Jan-1985_Dec-1990_Jan-2005_Dec-2010_all_era5-mdp_nac.nc\")\n",
    "test7"
   ]
  },
  {
   "cell_type": "code",
   "execution_count": null,
   "id": "60676337-2dde-4d12-ad42-61b583145073",
   "metadata": {},
   "outputs": [],
   "source": [
    "test7[\"nse\"].sel(hour=21).plot()"
   ]
  },
  {
   "cell_type": "code",
   "execution_count": null,
   "id": "d1c92b77-1482-4a03-a8d3-6e8241278b72",
   "metadata": {},
   "outputs": [],
   "source": [
    "test7[\"vidmf\"].sel(hour=21).plot()"
   ]
  },
  {
   "cell_type": "code",
   "execution_count": null,
   "id": "3740665a-a157-4faa-9048-34f3d104ce60",
   "metadata": {},
   "outputs": [],
   "source": [
    "test7[\"vidcfwf\"].sel(hour=21).plot()"
   ]
  },
  {
   "cell_type": "code",
   "execution_count": null,
   "id": "39d59390-64eb-431a-b1ca-35b50b128328",
   "metadata": {},
   "outputs": [],
   "source": [
    "test7[\"vidclwf\"].sel(hour=21).plot()"
   ]
  },
  {
   "cell_type": "code",
   "execution_count": null,
   "id": "66879ce6-2cd4-4f73-8ce4-e348d46bf3be",
   "metadata": {},
   "outputs": [],
   "source": [
    "test7[\"tcwv\"].sel(hour=21).plot()"
   ]
  },
  {
   "cell_type": "code",
   "execution_count": null,
   "id": "e8e6e122-d5bc-4db5-8a30-22fb3c78caac",
   "metadata": {},
   "outputs": [],
   "source": [
    "test7[\"nac\"].sel(hour=21).plot()"
   ]
  },
  {
   "cell_type": "code",
   "execution_count": null,
   "id": "51abff9f-2b08-42f4-903a-9fc0c18429a9",
   "metadata": {},
   "outputs": [],
   "source": []
  },
  {
   "cell_type": "code",
   "execution_count": null,
   "id": "57084714-6ac3-4831-bec2-e4a5f1566207",
   "metadata": {},
   "outputs": [],
   "source": [
    "test8 = xr.open_dataset(f\"../data_processed/era5_mdp_clim_stats_given_var_or_dvar/{cf.calc_funcs_ver}_diff_wa_Jan-1985_Dec-1990_Jan-2005_Dec-2010_all_era5-mdp_wv10_stats.nc\")\n",
    "test8"
   ]
  },
  {
   "cell_type": "code",
   "execution_count": null,
   "id": "bebf1e30-09c8-4ecf-ae11-139a0a1d8437",
   "metadata": {},
   "outputs": [],
   "source": [
    "test8[\"hour_max\"].plot()"
   ]
  },
  {
   "cell_type": "code",
   "execution_count": null,
   "id": "5e9065ee-b461-4001-a7e1-6b3847711110",
   "metadata": {},
   "outputs": [],
   "source": [
    "test8[\"hour_min\"].plot()"
   ]
  },
  {
   "cell_type": "code",
   "execution_count": null,
   "id": "7a97ffaf-e808-4db6-859d-c1411a24a230",
   "metadata": {},
   "outputs": [],
   "source": [
    "test8[\"max_u\"].plot()"
   ]
  },
  {
   "cell_type": "code",
   "execution_count": null,
   "id": "d0afa906-804c-485e-8918-cd5b4dc0ca46",
   "metadata": {},
   "outputs": [],
   "source": [
    "test8[\"max_v\"].plot()"
   ]
  },
  {
   "cell_type": "code",
   "execution_count": null,
   "id": "5a3a17db-6db7-43a2-8e27-fa163813ceb4",
   "metadata": {},
   "outputs": [],
   "source": [
    "test8[\"min_u\"].plot()"
   ]
  },
  {
   "cell_type": "code",
   "execution_count": null,
   "id": "165a7844-600f-444c-a6ae-adeeb1acad52",
   "metadata": {},
   "outputs": [],
   "source": [
    "test8[\"min_v\"].plot()"
   ]
  },
  {
   "cell_type": "code",
   "execution_count": null,
   "id": "3b53a236-2efc-4479-a09e-1e6e4e636a74",
   "metadata": {},
   "outputs": [],
   "source": [
    "test8[\"mean_u\"].plot()"
   ]
  },
  {
   "cell_type": "code",
   "execution_count": null,
   "id": "4e0afe9d-bf44-47e2-bcf4-db2d02c9a27b",
   "metadata": {},
   "outputs": [],
   "source": [
    "test8[\"mean_v\"].plot()"
   ]
  },
  {
   "cell_type": "code",
   "execution_count": null,
   "id": "9e3d9112-4a96-47fe-9942-c24ad535024d",
   "metadata": {},
   "outputs": [],
   "source": [
    "test8[\"range\"].plot()"
   ]
  },
  {
   "cell_type": "code",
   "execution_count": null,
   "id": "819cd9bf-a99b-4bef-b74d-571cc2102049",
   "metadata": {},
   "outputs": [],
   "source": []
  },
  {
   "cell_type": "code",
   "execution_count": null,
   "id": "d7a52baf-0368-4e33-9bfc-42e37a2f0ef0",
   "metadata": {},
   "outputs": [],
   "source": [
    "test9 = xr.open_dataset(f\"../data_processed/era5_wsd_clim/{cf.calc_funcs_ver}_diff_wa_Jan-1985_Dec-1990_Jan-2005_Dec-2010_all_era5-wsd.nc\")\n",
    "test9"
   ]
  },
  {
   "cell_type": "code",
   "execution_count": null,
   "id": "f4f19c7e-8303-4e33-beb5-cc284408c8c3",
   "metadata": {},
   "outputs": [],
   "source": [
    "test9[\"ws100_mean\"].plot()"
   ]
  },
  {
   "cell_type": "code",
   "execution_count": null,
   "id": "1bf5cd62-c449-4c85-9c5c-832fda4e62f3",
   "metadata": {},
   "outputs": [],
   "source": [
    "test9[\"ws100_std\"].plot()"
   ]
  },
  {
   "cell_type": "code",
   "execution_count": null,
   "id": "2cd8a6b4-1eea-4e06-b56c-b62dcd48f656",
   "metadata": {},
   "outputs": [],
   "source": [
    "test9[\"c100\"].plot()"
   ]
  },
  {
   "cell_type": "code",
   "execution_count": null,
   "id": "dde889a2-a411-4f7c-8aaf-22f41644cef1",
   "metadata": {},
   "outputs": [],
   "source": [
    "test9[\"k100\"].plot()"
   ]
  },
  {
   "cell_type": "code",
   "execution_count": null,
   "id": "c0caef0e-248c-4241-af26-524f308f1c94",
   "metadata": {},
   "outputs": [],
   "source": [
    "test9[\"eroe100\"].plot()"
   ]
  },
  {
   "cell_type": "code",
   "execution_count": null,
   "id": "687f977b-63f3-4b89-9ca1-4799830071f8",
   "metadata": {},
   "outputs": [],
   "source": [
    "test9[\"tgcf100\"].plot()"
   ]
  },
  {
   "cell_type": "code",
   "execution_count": null,
   "id": "1e9a8f64-ab31-41b5-b891-e38fb1d25434",
   "metadata": {},
   "outputs": [],
   "source": [
    "test9[\"eroe100\"].where(test9[\"eroe100\"]==test9[\"eroe100\"].max(), drop = True).squeeze()"
   ]
  },
  {
   "cell_type": "code",
   "execution_count": null,
   "id": "1172f757-a100-4ed5-82b2-06f0b1a41cf8",
   "metadata": {},
   "outputs": [],
   "source": []
  },
  {
   "cell_type": "code",
   "execution_count": null,
   "id": "8f22622d-8210-454e-9136-ba91bdc85584",
   "metadata": {},
   "outputs": [],
   "source": [
    "%%time\n",
    "cf.calc_era5_land_elev()"
   ]
  },
  {
   "cell_type": "code",
   "execution_count": null,
   "id": "2f257276-8945-48c0-986c-113f44401173",
   "metadata": {},
   "outputs": [],
   "source": [
    "test10 = xr.open_dataset(f\"../data_processed/era5_land_elev/{cf.calc_funcs_ver}_calc_global_static_land-elev.nc\")\n",
    "test10"
   ]
  },
  {
   "cell_type": "code",
   "execution_count": null,
   "id": "42185c58-7151-40e1-9b86-59cdb817fe40",
   "metadata": {},
   "outputs": [],
   "source": [
    "test10[\"lse\"].plot()"
   ]
  },
  {
   "cell_type": "code",
   "execution_count": null,
   "id": "660a6aee-3322-4e67-94dd-275aa11a179f",
   "metadata": {},
   "outputs": [],
   "source": []
  },
  {
   "cell_type": "code",
   "execution_count": null,
   "id": "708d70b2-3313-464c-9788-9b568fea8cf7",
   "metadata": {},
   "outputs": [],
   "source": [
    "%%time\n",
    "cf.calc_glass_rolling_avg_of_annual_diff(\"wa\", 1984, 1987, 7)"
   ]
  },
  {
   "cell_type": "code",
   "execution_count": null,
   "id": "246b9ee4-af6a-4d33-a9b2-aed32f548efd",
   "metadata": {},
   "outputs": [],
   "source": [
    "test11 = xr.open_dataset(f\"../data_processed/glass_rolling_avg_of_annual_diff/{cf.calc_funcs_ver}_calc_wa_1984_1987_7-year_glass-rolling-diff_pref-avhrr.nc\")\n",
    "test11"
   ]
  },
  {
   "cell_type": "code",
   "execution_count": null,
   "id": "1a601513-2700-44cd-b204-4b8be8608e04",
   "metadata": {},
   "outputs": [],
   "source": [
    "test11[\"mlai\"].isel(year=0).plot()"
   ]
  },
  {
   "cell_type": "code",
   "execution_count": null,
   "id": "c80c30cc-bc62-454c-b95a-19cf42f6d9ea",
   "metadata": {},
   "outputs": [],
   "source": [
    "test11[\"mfapar\"].isel(year=0).plot()"
   ]
  },
  {
   "cell_type": "code",
   "execution_count": null,
   "id": "61bb88f8-7eca-441e-a2d1-0b65ea0ac7be",
   "metadata": {},
   "outputs": [],
   "source": []
  },
  {
   "cell_type": "code",
   "execution_count": null,
   "id": "b1e69b3a-72c7-42e6-a28a-3b9a0b1d7f5f",
   "metadata": {},
   "outputs": [],
   "source": [
    "%%time\n",
    "cf.calc_glass_rolling_avg_of_annual_diff(\"wa\", 1983, 2019, 5)"
   ]
  },
  {
   "cell_type": "code",
   "execution_count": null,
   "id": "6056911e-68b9-49eb-b278-25fa218b02e9",
   "metadata": {},
   "outputs": [],
   "source": [
    "%%time\n",
    "cf.calc_glass_rolling_avg_of_annual_diff(\"wa\", 1984, 2018, 7)"
   ]
  },
  {
   "cell_type": "code",
   "execution_count": null,
   "id": "97bb34c3-09ee-4e6d-b6db-125a2009dbcc",
   "metadata": {},
   "outputs": [],
   "source": [
    "test12 = xr.open_dataset(f\"../data_processed/glass_rolling_avg_of_annual_diff/{cf.calc_funcs_ver}_calc_wa_1983_2019_5-year_glass-rolling-diff_pref-avhrr.nc\")\n",
    "test12"
   ]
  },
  {
   "cell_type": "code",
   "execution_count": null,
   "id": "b991ff76-61b7-44a1-a535-74b989bcbcfa",
   "metadata": {},
   "outputs": [],
   "source": [
    "test12[\"mlai\"].interactive.sel(year=pnw.DiscreteSlider).plot(cmap = \"RdBu\", vmin = -1, vmax = 1)"
   ]
  },
  {
   "cell_type": "code",
   "execution_count": null,
   "id": "810a8463-97ac-4882-8214-fad9f2229529",
   "metadata": {},
   "outputs": [],
   "source": [
    "test13 = xr.open_dataset(f\"../data_processed/glass_rolling_avg_of_annual_diff/{cf.calc_funcs_ver}_calc_wa_1984_2018_7-year_glass-rolling-diff_pref-avhrr.nc\")\n",
    "test13"
   ]
  },
  {
   "cell_type": "code",
   "execution_count": null,
   "id": "a6348cff-9282-4e3d-9363-3ff0de261d55",
   "metadata": {},
   "outputs": [],
   "source": [
    "test13[\"mlai\"].interactive.sel(year=pnw.DiscreteSlider).plot(cmap = \"RdBu\", vmin = -1, vmax = 1)"
   ]
  },
  {
   "cell_type": "code",
   "execution_count": null,
   "id": "28d96bb4-9479-470a-9abe-4bca434100e5",
   "metadata": {},
   "outputs": [],
   "source": []
  },
  {
   "cell_type": "code",
   "execution_count": null,
   "id": "7461c149-3652-40c3-b342-eca1ed3ce4ed",
   "metadata": {},
   "outputs": [],
   "source": [
    "%%time\n",
    "cf.create_all_possible_calc_data_files(\"wa\", \"Jan-1992\", \"Dec-1996\", \"all\")"
   ]
  },
  {
   "cell_type": "code",
   "execution_count": null,
   "id": "8dffd070-829a-4793-9fae-9beecd7767e3",
   "metadata": {},
   "outputs": [],
   "source": [
    "%%time\n",
    "cf.create_all_possible_calc_data_files(\"wa\", \"Jan-2002\", \"Dec-2006\", \"all\")"
   ]
  },
  {
   "cell_type": "code",
   "execution_count": null,
   "id": "7f54149a-23a6-42d2-baa1-2f7886e055fb",
   "metadata": {},
   "outputs": [],
   "source": [
    "%%time\n",
    "cf.create_all_possible_diff_data_files(\"wa\", \"Jan-1992\", \"Dec-1996\", \"Jan-2002\", \"Dec-2006\", \"all\")"
   ]
  },
  {
   "cell_type": "code",
   "execution_count": null,
   "id": "6257f2a9-36a8-4ab2-8821-f393f70dc9c1",
   "metadata": {},
   "outputs": [],
   "source": [
    "test14 = xr.open_dataset(f\"../data_processed/glass_mean_clim/{cf.calc_funcs_ver}_diff_wa_Jan-1992_Dec-1996_Jan-2002_Dec-2006_all_glass-mean_avhrr.nc\")\n",
    "test14[\"mlai\"].plot()"
   ]
  },
  {
   "cell_type": "code",
   "execution_count": null,
   "id": "b3fdefde-bf35-496d-9498-4ed31c005cd9",
   "metadata": {},
   "outputs": [],
   "source": [
    "test15 = xr.open_dataset(f\"../data_processed/era5_wsd_clim/{cf.calc_funcs_ver}_diff_wa_Jan-1992_Dec-1996_Jan-2002_Dec-2006_all_era5-wsd.nc\")\n",
    "test15[\"ws10_mean\"].plot()"
   ]
  },
  {
   "cell_type": "code",
   "execution_count": null,
   "id": "100f1341-5887-4ec1-99e3-16695c1cabbc",
   "metadata": {},
   "outputs": [],
   "source": []
  },
  {
   "cell_type": "code",
   "execution_count": null,
   "id": "4eef6eed-7881-4e2d-9cc9-4ef1bc709d57",
   "metadata": {},
   "outputs": [],
   "source": [
    "%%time\n",
    "cf.calc_diff(cf.calc_era5_mdp_clim_stats_given_var_or_dvar, \"wa\", \"Jan-1992\", \"Dec-1996\", \"Jan-2002\", \"Dec-2006\", \"all\", \"wv100\")"
   ]
  },
  {
   "cell_type": "code",
   "execution_count": null,
   "id": "0e77af9f-9beb-4acc-84d2-ce5eb1ef4f5b",
   "metadata": {},
   "outputs": [],
   "source": [
    "%%time\n",
    "cf.calc_diff(cf.calc_era5_mdp_clim_stats_given_var_or_dvar, \"wa\", \"Jan-1992\", \"Dec-1996\", \"Jan-2002\", \"Dec-2006\", \"all\", \"ws100\")"
   ]
  },
  {
   "cell_type": "code",
   "execution_count": null,
   "id": "3887f95c-2ae8-4618-83f9-774e60e70b30",
   "metadata": {},
   "outputs": [],
   "source": [
    "test16 = xr.open_dataset(f\"../data_processed/era5_mdp_clim_stats_given_var_or_dvar/{cf.calc_funcs_ver}_diff_wa_Jan-1992_Dec-1996_Jan-2002_Dec-2006_all_era5-mdp_wv100_stats.nc\")\n",
    "test16[\"range\"].plot()"
   ]
  },
  {
   "cell_type": "code",
   "execution_count": null,
   "id": "d7fef3df-927d-432c-9cc8-08a9960318f2",
   "metadata": {},
   "outputs": [],
   "source": [
    "test17 = xr.open_dataset(f\"../data_processed/era5_mdp_clim_stats_given_var_or_dvar/{cf.calc_funcs_ver}_diff_wa_Jan-1992_Dec-1996_Jan-2002_Dec-2006_all_era5-mdp_ws100_stats.nc\")\n",
    "test17[\"range\"].plot()"
   ]
  },
  {
   "cell_type": "code",
   "execution_count": null,
   "id": "6e4da440-f85d-482b-938f-e707913c8dbd",
   "metadata": {},
   "outputs": [],
   "source": [
    "test16"
   ]
  },
  {
   "cell_type": "code",
   "execution_count": null,
   "id": "cc24349f-2643-4d4b-bc91-f637e975daec",
   "metadata": {},
   "outputs": [],
   "source": [
    "test17"
   ]
  },
  {
   "cell_type": "code",
   "execution_count": null,
   "id": "0d9d48f7-7415-4953-931c-08e4e7d268a1",
   "metadata": {},
   "outputs": [],
   "source": []
  },
  {
   "cell_type": "code",
   "execution_count": null,
   "id": "0e48b75e-6a51-4f76-a052-5decf2d306d6",
   "metadata": {},
   "outputs": [],
   "source": [
    "def create_pcolormesh(da, extents=None, ax=None):\n",
    "    \n",
    "    assert ((str(type(da)) == \"<class 'xarray.core.dataarray.DataArray'>\") & \n",
    "            (da.dims == da_dims_valid)), \\\n",
    "        f\"da must be an xarray.DataArray with da.dims == {da_dims_valid}\"\n",
    "    assert da.name not in da_names_cyclic_valid, \\\n",
    "        f\"da.name must not be one of: {da_names_cyclic_valid}\"\n",
    "    \n",
    "    if extents:\n",
    "        assert (isinstance(extents, list) & (len(extents) == 4) & \n",
    "                (extents[1] > extents[0]) & (extents[3] > extents[2])), \\\n",
    "            \"extents must a 4 element list in [W, E, S, N] format or None\"\n",
    "    else:\n",
    "        extents = []\n",
    "        extents.append(da.longitude.min())\n",
    "        extents.append(da.longitude.max())\n",
    "        extents.append(da.latitude.min())\n",
    "        extents.append(da.latitude.max())\n",
    "    \n",
    "    if ax:\n",
    "        assert str(type(ax)) == \"<class 'cartopy.mpl.geoaxes.GeoAxesSubplot'>\", \\\n",
    "            \"ax must be a cartopy.GeoAxesSubplot or None\"\n",
    "    else:\n",
    "        ax_input = None\n",
    "        figwidth = figwidth_default / 2\n",
    "        figheight = figwidth * (extents[3]-extents[2]) / (extents[1]-extents[0])\n",
    "        fig, ax = plt.subplots(1, 1, figsize=(figwidth, figheight), \n",
    "                               subplot_kw = {\"projection\": ccrs.PlateCarree()}\n",
    "                              )\n",
    "    \n",
    "    if da.attrs[\"full_name\"].split(\" \")[0] == \"Difference\":\n",
    "        cmap = cmocean.cm.balance\n",
    "        vmin = None\n",
    "        vmax = None\n",
    "    else:\n",
    "        cmap = \"viridis\"\n",
    "        vmin = (da\n",
    "                .sel(longitude=slice(extents[0], extents[1]), \n",
    "                     latitude=slice(extents[3], extents[2]))\n",
    "                .min()\n",
    "               )\n",
    "        vmax = (da\n",
    "                .sel(longitude=slice(extents[0], extents[1]), \n",
    "                     latitude=slice(extents[3], extents[2]))\n",
    "                .max()\n",
    "               )\n",
    "        \n",
    "    ax.set_extent(extents=extents, crs=ccrs.PlateCarree())\n",
    "    da.plot.pcolormesh(ax = ax, cmap = cmap, transform = ccrs.PlateCarree(),\n",
    "                       vmin = vmin, vmax = vmax, \n",
    "                       cbar_kwargs = {\"label\": \"{} [{}]\"\n",
    "                                      .format(da.attrs[\"abbreviation\"], \n",
    "                                              da.attrs[\"units\"])\n",
    "                                     }\n",
    "                      )\n",
    "    ax.set_title(da.attrs[\"full_name\"])\n",
    "    ax.add_feature(cfeature.COASTLINE)\n",
    "    ax.gridlines(draw_labels=True, x_inline=False, y_inline=False)\n",
    "    \n",
    "    if ax_input == None:\n",
    "        fig.tight_layout()\n",
    "        plt.show()"
   ]
  },
  {
   "cell_type": "code",
   "execution_count": null,
   "id": "f91e395d-f505-4814-a02c-14b6397688dc",
   "metadata": {},
   "outputs": [],
   "source": [
    "def create_pcolormesh_cyclic(da, extents=None, ax=None):\n",
    "    \n",
    "    assert ((str(type(da)) == \"<class 'xarray.core.dataarray.DataArray'>\") & \n",
    "            (da.dims == da_dims_valid)), \\\n",
    "        f\"da must be an xarray.DataArray with da.dims == {da_dims_valid}\"\n",
    "    assert da.name in da_names_cyclic_valid, \\\n",
    "        f\"da.name must be one of: {da_names_cyclic_valid}\"\n",
    "    \n",
    "    if extents:\n",
    "        assert (isinstance(extents, list) & (len(extents) == 4) & \n",
    "                (extents[1] > extents[0]) & (extents[3] > extents[2])), \\\n",
    "            \"extents must a 4 element list in [W, E, S, N] format or None\"\n",
    "    else:\n",
    "        extents = []\n",
    "        extents.append(da.longitude.min())\n",
    "        extents.append(da.longitude.max())\n",
    "        extents.append(da.latitude.min())\n",
    "        extents.append(da.latitude.max())\n",
    "    \n",
    "    if ax:\n",
    "        assert str(type(ax)) == \"<class 'cartopy.mpl.geoaxes.GeoAxesSubplot'>\", \\\n",
    "            \"ax must be a cartopy.GeoAxesSubplot or None\"\n",
    "    else:\n",
    "        ax_input = None\n",
    "        figwidth = figwidth_default / 2\n",
    "        figheight = figwidth * (extents[3]-extents[2]) / (extents[1]-extents[0])\n",
    "        fig, ax = plt.subplots(1, 1, figsize=(figwidth, figheight), \n",
    "                               subplot_kw = {\"projection\": ccrs.PlateCarree()}\n",
    "                              )\n",
    "    \n",
    "    if da.attrs[\"full_name\"].split(\" \")[0] == \"Difference\":\n",
    "        cmap = \"twilight_shifted\"\n",
    "        levels = np.arange(-12, 13)\n",
    "    else:\n",
    "        cmap = cmocean.cm.phase\n",
    "        levels = np.arange(0, 25)\n",
    "        \n",
    "    ax.set_extent(extents=extents, crs=ccrs.PlateCarree())\n",
    "    da.plot.pcolormesh(ax = ax, cmap = cmap, transform = ccrs.PlateCarree(),\n",
    "                       levels = levels,\n",
    "                       cbar_kwargs = {\"label\": \"{} [{}]\"\n",
    "                                      .format(da.attrs[\"abbreviation\"], \n",
    "                                              da.attrs[\"units\"])\n",
    "                                     }\n",
    "                      )\n",
    "    ax.set_title(da.attrs[\"full_name\"])\n",
    "    ax.add_feature(cfeature.COASTLINE)\n",
    "    ax.gridlines(draw_labels=True, x_inline=False, y_inline=False)\n",
    "    \n",
    "    if ax_input == None:\n",
    "        fig.tight_layout()\n",
    "        plt.show()"
   ]
  },
  {
   "cell_type": "code",
   "execution_count": null,
   "id": "cc180f25-623c-41d1-a204-67f806c67e5b",
   "metadata": {},
   "outputs": [],
   "source": [
    "def create_quiver(da_u, da_v, extents):\n",
    "    plt.rcParams['text.usetex'] = True\n",
    "    fig, ax = plt.subplots(1, 1, figsize=(10, 5), \n",
    "                           subplot_kw = {\"projection\": ccrs.PlateCarree()}\n",
    "                          )\n",
    "    add_quiver(da_u=da_u, da_v=da_v, ax=ax, extents=cf.regions[\"wa\"][\"extent\"])\n",
    "    fig.tight_layout()\n",
    "    plt.show()"
   ]
  },
  {
   "cell_type": "code",
   "execution_count": null,
   "id": "33c0a1c2-34fd-49c8-8801-2999dad0952e",
   "metadata": {},
   "outputs": [],
   "source": [
    "def add_quiver(da_u, da_v, ax, extents):\n",
    "    # var_or_dvar = (da_u\n",
    "    #                .attrs[\"abbreviation\"]\n",
    "    #                .split(\"(\")[-1]\n",
    "    #                .split(\")\")[0]\n",
    "    #                .split(\"^\")[0]\n",
    "    #                .replace(\"U\", \"wv\")\n",
    "    #               )\n",
    "    # attrs = cf.da_attrs[var_or_dvar] # This won't work for dvars\n",
    "    attrs = copy.deepcopy(da_u.attrs)\n",
    "    attrs[\"abbreviation\"] = attrs[\"abbreviation\"].replace(\"_u\", \"\")\n",
    "    attrs[\"full_name\"] = attrs[\"full_name\"].replace(\"Zonal Component of \", \"\")\n",
    "    if attrs[\"full_name\"].split(\" \")[0] == \"Difference\":\n",
    "        cmap = cmocean.cm.tempo\n",
    "    else:\n",
    "        cmap = cmocean.cm.speed\n",
    "    da_mag = xr.DataArray(cf.get_magnitude(da_u, da_v), name = \"mag\")\n",
    "    da_u_unit = xr.DataArray(da_u / da_mag, name = \"u_unit\")\n",
    "    da_v_unit = xr.DataArray(da_v / da_mag, name = \"v_unit\")\n",
    "    ds = xr.merge([da_mag, da_u_unit, da_v_unit])\n",
    "    ds.plot.quiver(x = \"longitude\", y = \"latitude\", ax = ax, \n",
    "                   u = \"u_unit\", v = \"v_unit\", \n",
    "                   hue = \"mag\", cmap = cmap, transform = ccrs.PlateCarree(),\n",
    "                   cbar_kwargs={\"label\": \"{} [{}]\"\n",
    "                                .format(attrs[\"abbreviation\"], \n",
    "                                        attrs[\"units\"])\n",
    "                               }\n",
    "                  )\n",
    "    ax.set_title(attrs[\"full_name\"])\n",
    "    ax.add_feature(cfeature.COASTLINE)\n",
    "    ax.gridlines(draw_labels=True, x_inline=False, y_inline=False)"
   ]
  }
 ],
 "metadata": {
  "kernelspec": {
   "display_name": "Python 3 (ipykernel)",
   "language": "python",
   "name": "python3"
  },
  "language_info": {
   "codemirror_mode": {
    "name": "ipython",
    "version": 3
   },
   "file_extension": ".py",
   "mimetype": "text/x-python",
   "name": "python",
   "nbconvert_exporter": "python",
   "pygments_lexer": "ipython3",
   "version": "3.10.4"
  }
 },
 "nbformat": 4,
 "nbformat_minor": 5
}
