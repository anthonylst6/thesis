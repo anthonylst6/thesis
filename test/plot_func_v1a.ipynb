{
 "cells": [
  {
   "cell_type": "code",
   "execution_count": null,
   "id": "77e62a68-daa9-4227-aa44-1f373b1f8591",
   "metadata": {},
   "outputs": [],
   "source": [
    "import matplotlib.pyplot as plt\n",
    "import cmocean\n",
    "import cartopy.crs as ccrs\n",
    "import cartopy.feature as cfeature\n",
    "import calc_funcs_v1g as cf\n",
    "import xarray as xr"
   ]
  },
  {
   "cell_type": "code",
   "execution_count": null,
   "id": "32c35e74-1782-4a3b-b66d-3ca7064adad0",
   "metadata": {},
   "outputs": [],
   "source": []
  },
  {
   "cell_type": "code",
   "execution_count": null,
   "id": "9cab7bfc-95ad-40b2-9d87-ceecae47fdce",
   "metadata": {},
   "outputs": [],
   "source": []
  },
  {
   "cell_type": "code",
   "execution_count": null,
   "id": "29cae2d7-1069-4f46-a07f-0009e8515dc8",
   "metadata": {},
   "outputs": [],
   "source": []
  },
  {
   "cell_type": "code",
   "execution_count": null,
   "id": "8787d77c-0b84-4e6d-81f9-3519f7c44bbe",
   "metadata": {},
   "outputs": [],
   "source": []
  },
  {
   "cell_type": "code",
   "execution_count": null,
   "id": "1fdcb5b7-14a5-45a0-8f8b-0c54ead9071c",
   "metadata": {},
   "outputs": [],
   "source": [
    "# from dask.distributed import Client\n",
    "# client = Client()\n",
    "# client"
   ]
  },
  {
   "cell_type": "code",
   "execution_count": null,
   "id": "9c20f12e-7d78-4384-866c-2b6c94f505e7",
   "metadata": {},
   "outputs": [],
   "source": [
    "# client.close()"
   ]
  },
  {
   "cell_type": "code",
   "execution_count": null,
   "id": "88815e8f-f6a4-4778-abf1-523aba2a5360",
   "metadata": {},
   "outputs": [],
   "source": []
  },
  {
   "cell_type": "code",
   "execution_count": null,
   "id": "71b2092c-30a6-41a3-8305-27e322bb9f04",
   "metadata": {},
   "outputs": [],
   "source": [
    "import ipywidgets as ipw\n",
    "import hvplot.xarray # noqa\n",
    "import hvplot.pandas # noqa\n",
    "import panel as pn\n",
    "import pandas as pd\n",
    "import panel.widgets as pnw\n",
    "import xarray as xr"
   ]
  },
  {
   "cell_type": "code",
   "execution_count": null,
   "id": "7b38e275-0629-4e89-9060-da191f11290a",
   "metadata": {},
   "outputs": [],
   "source": []
  },
  {
   "cell_type": "code",
   "execution_count": null,
   "id": "34ba8089-51c4-4fc4-b0de-3bf5f14d2913",
   "metadata": {},
   "outputs": [],
   "source": [
    "%%time\n",
    "cf.calc_glass_mean_clim(\"wa\", \"Jun-2000\", \"Aug-2005\", [8, 6,7])"
   ]
  },
  {
   "cell_type": "code",
   "execution_count": null,
   "id": "b9d51c88-9924-4d92-8d1e-bed41822ad28",
   "metadata": {},
   "outputs": [],
   "source": [
    "%%time\n",
    "cf.calc_era5_mdp_clim_given_var_or_dvar(\"sa\", \"Dec-1994\", \"Feb-2000\", \"djf\", \"wv10\")"
   ]
  },
  {
   "cell_type": "code",
   "execution_count": null,
   "id": "91f0cfc2-4a65-450e-b2a4-fb93d36383d7",
   "metadata": {},
   "outputs": [],
   "source": [
    "%%time\n",
    "cf.calc_era5_mdp_clim_stats_given_var_or_dvar(\"sa\", \"Dec-1994\", \"Feb-2000\", \"jja\", \"dwv100\")"
   ]
  },
  {
   "cell_type": "code",
   "execution_count": null,
   "id": "97a04f11-35a7-4857-9b44-ab06367d60bb",
   "metadata": {},
   "outputs": [],
   "source": [
    "%%time\n",
    "cf.calc_era5_wsd_clim(\"wa\", \"Jun-2000\", \"Aug-2005\", [1,3,5,7,9,11])"
   ]
  },
  {
   "cell_type": "code",
   "execution_count": null,
   "id": "13ad7114-ea13-408c-842b-57783d8cd353",
   "metadata": {},
   "outputs": [],
   "source": [
    "%%time\n",
    "cf.calc_diff(cf.calc_era5_mdp_clim_given_var_or_dvar, \"ca\", \"Jan-1985\", \"Dec-1994\", \"Jan-1995\", \"Jan-2004\", \"all\", \"dnac\")"
   ]
  },
  {
   "cell_type": "code",
   "execution_count": null,
   "id": "88197396-e0d7-45d6-8a71-f31f75f901dd",
   "metadata": {},
   "outputs": [],
   "source": []
  },
  {
   "cell_type": "code",
   "execution_count": null,
   "id": "e48ce90b-56d9-45cc-851c-8e192e903a31",
   "metadata": {},
   "outputs": [],
   "source": [
    "test1 = xr.open_dataset(f\"../data_processed/glass_mean_clim/{cf.calc_funcs_ver}_calc_wa_Jun-2000_Aug-2005_6-7-8_glass-mean_avhrr.nc\")\n",
    "test1"
   ]
  },
  {
   "cell_type": "code",
   "execution_count": null,
   "id": "b46ba1d0-e50f-4d49-a8c2-5a162c291486",
   "metadata": {},
   "outputs": [],
   "source": [
    "test1[\"mlai\"].plot()"
   ]
  },
  {
   "cell_type": "code",
   "execution_count": null,
   "id": "e4406c5f-9c20-4871-a0a9-6d34ed97975d",
   "metadata": {},
   "outputs": [],
   "source": [
    "test1[\"mfapar\"].plot()"
   ]
  },
  {
   "cell_type": "code",
   "execution_count": null,
   "id": "b9106d36-2c2e-46ad-8e36-28b692ed4461",
   "metadata": {},
   "outputs": [],
   "source": []
  },
  {
   "cell_type": "code",
   "execution_count": null,
   "id": "d26e92ff-4a98-4b8b-9d5a-92c604e4a089",
   "metadata": {},
   "outputs": [],
   "source": [
    "test2 = xr.open_dataset(f\"../data_processed/era5_mdp_clim_given_var_or_dvar/{cf.calc_funcs_ver}_calc_sa_Dec-1994_Feb-2000_djf_era5-mdp_wv10.nc\")\n",
    "test2"
   ]
  },
  {
   "cell_type": "code",
   "execution_count": null,
   "id": "8b43703d-5fe5-46a6-bedd-e09bb2fa0849",
   "metadata": {},
   "outputs": [],
   "source": [
    "test2[\"u10\"].sel(hour=21).plot()"
   ]
  },
  {
   "cell_type": "code",
   "execution_count": null,
   "id": "061093ef-6581-4232-b2e7-b7c4667cfef9",
   "metadata": {},
   "outputs": [],
   "source": [
    "test2[\"v10\"].sel(hour=21).plot()"
   ]
  },
  {
   "cell_type": "code",
   "execution_count": null,
   "id": "e637ea8f-f73c-4195-8dab-e2a7c8d6de89",
   "metadata": {},
   "outputs": [],
   "source": []
  },
  {
   "cell_type": "code",
   "execution_count": null,
   "id": "6bcb2fa2-c20f-4e35-9f9a-8bd96891210c",
   "metadata": {},
   "outputs": [],
   "source": [
    "test3 = xr.open_dataset(f\"../data_processed/era5_mdp_clim_given_var_or_dvar/{cf.calc_funcs_ver}_diff_ca_Jan-1985_Dec-1994_Jan-1995_Jan-2004_all_era5-mdp_dnac.nc\")\n",
    "test3"
   ]
  },
  {
   "cell_type": "code",
   "execution_count": null,
   "id": "c0bf4712-241f-48c4-958c-1f16601f7d7e",
   "metadata": {},
   "outputs": [],
   "source": [
    "test3[\"dnse\"].sel(hour=21).plot()"
   ]
  },
  {
   "cell_type": "code",
   "execution_count": null,
   "id": "943d8b7f-6b2e-4178-a697-eec05d9563f4",
   "metadata": {},
   "outputs": [],
   "source": [
    "test3[\"dvidmf\"].sel(hour=21).plot()"
   ]
  },
  {
   "cell_type": "code",
   "execution_count": null,
   "id": "3484eea1-66ff-4a59-9dfa-5f0ebf37e42e",
   "metadata": {},
   "outputs": [],
   "source": [
    "test3[\"dvidcfwf\"].sel(hour=21).plot()"
   ]
  },
  {
   "cell_type": "code",
   "execution_count": null,
   "id": "0695a2a5-532f-4331-b2a5-b78cd8bdbbb7",
   "metadata": {},
   "outputs": [],
   "source": [
    "test3[\"dvidclwf\"].sel(hour=21).plot()"
   ]
  },
  {
   "cell_type": "code",
   "execution_count": null,
   "id": "1f88c13d-b994-450d-a1b5-7a4604b6b47e",
   "metadata": {},
   "outputs": [],
   "source": [
    "test3[\"dtcwv\"].sel(hour=21).plot()"
   ]
  },
  {
   "cell_type": "code",
   "execution_count": null,
   "id": "7c677d52-4d0c-4044-aabb-f3bd287feaa2",
   "metadata": {},
   "outputs": [],
   "source": [
    "test3[\"dnac\"].sel(hour=21).plot()"
   ]
  },
  {
   "cell_type": "code",
   "execution_count": null,
   "id": "a9962ab2-a52a-4fd2-b175-6ad47e815f68",
   "metadata": {},
   "outputs": [],
   "source": []
  },
  {
   "cell_type": "code",
   "execution_count": null,
   "id": "16fb9161-f158-45e3-942b-c67862efc205",
   "metadata": {},
   "outputs": [],
   "source": [
    "test4 = xr.open_dataset(f\"../data_processed/era5_mdp_clim_stats_given_var_or_dvar/{cf.calc_funcs_ver}_calc_sa_Dec-1994_Feb-2000_jja_era5-mdp_dwv100_stats.nc\")\n",
    "test4"
   ]
  },
  {
   "cell_type": "code",
   "execution_count": null,
   "id": "48473149-619e-42fc-ab89-ddabcc6f12ed",
   "metadata": {},
   "outputs": [],
   "source": [
    "test4[\"hour_max\"].plot()"
   ]
  },
  {
   "cell_type": "code",
   "execution_count": null,
   "id": "62ad8796-e1cc-422d-970b-91497ecbbd12",
   "metadata": {},
   "outputs": [],
   "source": [
    "test4[\"hour_min\"].plot()"
   ]
  },
  {
   "cell_type": "code",
   "execution_count": null,
   "id": "36c46a27-3c32-40ed-b1d6-d83e5dd7053a",
   "metadata": {},
   "outputs": [],
   "source": [
    "test4[\"max_u\"].plot()"
   ]
  },
  {
   "cell_type": "code",
   "execution_count": null,
   "id": "386c0c1b-bfe4-426f-a6fc-d05d7823443c",
   "metadata": {},
   "outputs": [],
   "source": [
    "test4[\"max_v\"].plot()"
   ]
  },
  {
   "cell_type": "code",
   "execution_count": null,
   "id": "f71ec070-7b1b-44f0-9c59-b2e8a8a819f8",
   "metadata": {},
   "outputs": [],
   "source": [
    "test4[\"min_u\"].plot()"
   ]
  },
  {
   "cell_type": "code",
   "execution_count": null,
   "id": "b1db494a-d03d-4e4c-8003-2ffcfae4125c",
   "metadata": {},
   "outputs": [],
   "source": [
    "test4[\"min_v\"].plot()"
   ]
  },
  {
   "cell_type": "code",
   "execution_count": null,
   "id": "f9bc5d35-7e88-44ef-96cb-bbe6229b3a20",
   "metadata": {},
   "outputs": [],
   "source": [
    "test4[\"mean_u\"].plot()"
   ]
  },
  {
   "cell_type": "code",
   "execution_count": null,
   "id": "a78ce424-d0d1-4373-8fea-77dbee82c06d",
   "metadata": {},
   "outputs": [],
   "source": [
    "test4[\"mean_v\"].plot()"
   ]
  },
  {
   "cell_type": "code",
   "execution_count": null,
   "id": "2d5ac6e3-f79c-44fe-96ae-2f9226b72588",
   "metadata": {},
   "outputs": [],
   "source": [
    "test4[\"range\"].plot()"
   ]
  },
  {
   "cell_type": "code",
   "execution_count": null,
   "id": "7a7f53eb-b097-4da3-8f56-da0fd322d874",
   "metadata": {},
   "outputs": [],
   "source": [
    "# test4[\"max\"].plot()"
   ]
  },
  {
   "cell_type": "code",
   "execution_count": null,
   "id": "3d012234-8676-42a7-a510-b9cf2eab9786",
   "metadata": {},
   "outputs": [],
   "source": [
    "# test4[\"min\"].plot()"
   ]
  },
  {
   "cell_type": "code",
   "execution_count": null,
   "id": "f1564798-58fe-46ae-8b5d-9137eecd0443",
   "metadata": {},
   "outputs": [],
   "source": [
    "# test4[\"mean\"].plot()"
   ]
  },
  {
   "cell_type": "code",
   "execution_count": null,
   "id": "bd228b24-030a-4840-b694-3555fcd6eaed",
   "metadata": {},
   "outputs": [],
   "source": []
  },
  {
   "cell_type": "code",
   "execution_count": null,
   "id": "8ec4e4b8-c788-4b30-bf3f-6f1a4dc97236",
   "metadata": {},
   "outputs": [],
   "source": [
    "test5 = xr.open_dataset(f\"../data_processed/era5_wsd_clim/{cf.calc_funcs_ver}_calc_wa_Jun-2000_Aug-2005_1-3-5-7-9-11_era5-wsd.nc\")\n",
    "test5"
   ]
  },
  {
   "cell_type": "code",
   "execution_count": null,
   "id": "b79dddd3-29ec-4351-a877-608344d03a45",
   "metadata": {},
   "outputs": [],
   "source": [
    "test5[\"ws100_mean\"].plot()"
   ]
  },
  {
   "cell_type": "code",
   "execution_count": null,
   "id": "4b4c5b0a-ea32-4254-9df5-eb40648df055",
   "metadata": {},
   "outputs": [],
   "source": [
    "test5[\"ws100_std\"].plot()"
   ]
  },
  {
   "cell_type": "code",
   "execution_count": null,
   "id": "b1345c3b-0204-4524-8b15-60f3f5a7c3b1",
   "metadata": {},
   "outputs": [],
   "source": [
    "test5[\"c100\"].plot()"
   ]
  },
  {
   "cell_type": "code",
   "execution_count": null,
   "id": "e2ae036e-e1ee-446e-a96d-6e4daee16bb6",
   "metadata": {},
   "outputs": [],
   "source": [
    "test5[\"k100\"].plot()"
   ]
  },
  {
   "cell_type": "code",
   "execution_count": null,
   "id": "433504ab-ad79-45db-b98b-9c45b07aea15",
   "metadata": {},
   "outputs": [],
   "source": [
    "test5[\"eroe100\"].plot()"
   ]
  },
  {
   "cell_type": "code",
   "execution_count": null,
   "id": "21a57111-c0d4-42f7-971e-95cdfdbccfb6",
   "metadata": {},
   "outputs": [],
   "source": [
    "test5[\"tgcf100\"].plot()"
   ]
  },
  {
   "cell_type": "code",
   "execution_count": null,
   "id": "52dc59d6-2edc-41f8-9658-baf8041541cd",
   "metadata": {},
   "outputs": [],
   "source": [
    "test5[\"eroe100\"].where(test5[\"eroe100\"]==test5[\"eroe100\"].max(), drop = True).squeeze()"
   ]
  },
  {
   "cell_type": "code",
   "execution_count": null,
   "id": "b7d5c1b7-57e8-47b4-9813-5d7f3eaf1332",
   "metadata": {},
   "outputs": [],
   "source": []
  },
  {
   "cell_type": "code",
   "execution_count": null,
   "id": "9f972775-9707-4ad6-95c6-10ba99cc2805",
   "metadata": {},
   "outputs": [],
   "source": [
    "%%time\n",
    "cf.calc_diff(cf.calc_glass_mean_clim, \"wa\", \"Jan-1985\", \"Dec-1990\", \"Jan-2005\", \"Dec-2010\", \"all\")"
   ]
  },
  {
   "cell_type": "code",
   "execution_count": null,
   "id": "ef8c472b-c81a-4c7d-bef7-ad70d69d14c6",
   "metadata": {},
   "outputs": [],
   "source": [
    "%%time\n",
    "cf.calc_diff(cf.calc_era5_mdp_clim_given_var_or_dvar, \"wa\", \"Jan-1985\", \"Dec-1990\", \"Jan-2005\", \"Dec-2010\", \"all\", \"nac\")"
   ]
  },
  {
   "cell_type": "code",
   "execution_count": null,
   "id": "e2226f81-690e-4e5a-b0f8-0909848c67e9",
   "metadata": {},
   "outputs": [],
   "source": [
    "%%time\n",
    "cf.calc_diff(cf.calc_era5_mdp_clim_stats_given_var_or_dvar, \"wa\", \"Jan-1985\", \"Dec-1990\", \"Jan-2005\", \"Dec-2010\", \"all\", \"wv10\")"
   ]
  },
  {
   "cell_type": "code",
   "execution_count": null,
   "id": "967c3f70-a83a-4175-bdb2-f27856776a1d",
   "metadata": {},
   "outputs": [],
   "source": [
    "%%time\n",
    "cf.calc_diff(cf.calc_era5_wsd_clim, \"wa\", \"Jan-1985\", \"Dec-1990\", \"Jan-2005\", \"Dec-2010\", \"all\")"
   ]
  },
  {
   "cell_type": "code",
   "execution_count": null,
   "id": "56be943c-fcde-43e5-8d6f-045ead8967ce",
   "metadata": {},
   "outputs": [],
   "source": []
  },
  {
   "cell_type": "code",
   "execution_count": null,
   "id": "21a2f226-86a2-48a0-b7f8-211a4c03d452",
   "metadata": {},
   "outputs": [],
   "source": [
    "test6 = xr.open_dataset(f\"../data_processed/glass_mean_clim/{cf.calc_funcs_ver}_diff_wa_Jan-1985_Dec-1990_Jan-2005_Dec-2010_all_glass-mean_avhrr.nc\")\n",
    "test6"
   ]
  },
  {
   "cell_type": "code",
   "execution_count": null,
   "id": "2e4f0765-9c87-4740-b9fe-03ea5b556baa",
   "metadata": {},
   "outputs": [],
   "source": [
    "test6[\"mlai\"].plot()"
   ]
  },
  {
   "cell_type": "code",
   "execution_count": null,
   "id": "3439cc61-ab80-44b3-8b10-33e174a38836",
   "metadata": {},
   "outputs": [],
   "source": [
    "test6[\"mfapar\"].plot()"
   ]
  },
  {
   "cell_type": "code",
   "execution_count": null,
   "id": "91773584-70e7-4301-ada5-b6c6e26dc384",
   "metadata": {},
   "outputs": [],
   "source": []
  },
  {
   "cell_type": "code",
   "execution_count": null,
   "id": "c53240de-3b11-4e4f-b924-24b25cb3dbc8",
   "metadata": {},
   "outputs": [],
   "source": [
    "test7 = xr.open_dataset(f\"../data_processed/era5_mdp_clim_given_var_or_dvar/{cf.calc_funcs_ver}_diff_wa_Jan-1985_Dec-1990_Jan-2005_Dec-2010_all_era5-mdp_nac.nc\")\n",
    "test7"
   ]
  },
  {
   "cell_type": "code",
   "execution_count": null,
   "id": "60676337-2dde-4d12-ad42-61b583145073",
   "metadata": {},
   "outputs": [],
   "source": [
    "test7[\"nse\"].sel(hour=21).plot()"
   ]
  },
  {
   "cell_type": "code",
   "execution_count": null,
   "id": "d1c92b77-1482-4a03-a8d3-6e8241278b72",
   "metadata": {},
   "outputs": [],
   "source": [
    "test7[\"vidmf\"].sel(hour=21).plot()"
   ]
  },
  {
   "cell_type": "code",
   "execution_count": null,
   "id": "3740665a-a157-4faa-9048-34f3d104ce60",
   "metadata": {},
   "outputs": [],
   "source": [
    "test7[\"vidcfwf\"].sel(hour=21).plot()"
   ]
  },
  {
   "cell_type": "code",
   "execution_count": null,
   "id": "39d59390-64eb-431a-b1ca-35b50b128328",
   "metadata": {},
   "outputs": [],
   "source": [
    "test7[\"vidclwf\"].sel(hour=21).plot()"
   ]
  },
  {
   "cell_type": "code",
   "execution_count": null,
   "id": "66879ce6-2cd4-4f73-8ce4-e348d46bf3be",
   "metadata": {},
   "outputs": [],
   "source": [
    "test7[\"tcwv\"].sel(hour=21).plot()"
   ]
  },
  {
   "cell_type": "code",
   "execution_count": null,
   "id": "e8e6e122-d5bc-4db5-8a30-22fb3c78caac",
   "metadata": {},
   "outputs": [],
   "source": [
    "test7[\"nac\"].sel(hour=21).plot()"
   ]
  },
  {
   "cell_type": "code",
   "execution_count": null,
   "id": "51abff9f-2b08-42f4-903a-9fc0c18429a9",
   "metadata": {},
   "outputs": [],
   "source": []
  },
  {
   "cell_type": "code",
   "execution_count": null,
   "id": "57084714-6ac3-4831-bec2-e4a5f1566207",
   "metadata": {},
   "outputs": [],
   "source": [
    "test8 = xr.open_dataset(f\"../data_processed/era5_mdp_clim_stats_given_var_or_dvar/{cf.calc_funcs_ver}_diff_wa_Jan-1985_Dec-1990_Jan-2005_Dec-2010_all_era5-mdp_wv10_stats.nc\")\n",
    "test8"
   ]
  },
  {
   "cell_type": "code",
   "execution_count": null,
   "id": "bebf1e30-09c8-4ecf-ae11-139a0a1d8437",
   "metadata": {},
   "outputs": [],
   "source": [
    "test8[\"hour_max\"].plot()"
   ]
  },
  {
   "cell_type": "code",
   "execution_count": null,
   "id": "5e9065ee-b461-4001-a7e1-6b3847711110",
   "metadata": {},
   "outputs": [],
   "source": [
    "test8[\"hour_min\"].plot()"
   ]
  },
  {
   "cell_type": "code",
   "execution_count": null,
   "id": "7a97ffaf-e808-4db6-859d-c1411a24a230",
   "metadata": {},
   "outputs": [],
   "source": [
    "test8[\"max_u\"].plot()"
   ]
  },
  {
   "cell_type": "code",
   "execution_count": null,
   "id": "d0afa906-804c-485e-8918-cd5b4dc0ca46",
   "metadata": {},
   "outputs": [],
   "source": [
    "test8[\"max_v\"].plot()"
   ]
  },
  {
   "cell_type": "code",
   "execution_count": null,
   "id": "5a3a17db-6db7-43a2-8e27-fa163813ceb4",
   "metadata": {},
   "outputs": [],
   "source": [
    "test8[\"min_u\"].plot()"
   ]
  },
  {
   "cell_type": "code",
   "execution_count": null,
   "id": "165a7844-600f-444c-a6ae-adeeb1acad52",
   "metadata": {},
   "outputs": [],
   "source": [
    "test8[\"min_v\"].plot()"
   ]
  },
  {
   "cell_type": "code",
   "execution_count": null,
   "id": "3b53a236-2efc-4479-a09e-1e6e4e636a74",
   "metadata": {},
   "outputs": [],
   "source": [
    "test8[\"mean_u\"].plot()"
   ]
  },
  {
   "cell_type": "code",
   "execution_count": null,
   "id": "4e0afe9d-bf44-47e2-bcf4-db2d02c9a27b",
   "metadata": {},
   "outputs": [],
   "source": [
    "test8[\"mean_v\"].plot()"
   ]
  },
  {
   "cell_type": "code",
   "execution_count": null,
   "id": "9e3d9112-4a96-47fe-9942-c24ad535024d",
   "metadata": {},
   "outputs": [],
   "source": [
    "test8[\"range\"].plot()"
   ]
  },
  {
   "cell_type": "code",
   "execution_count": null,
   "id": "819cd9bf-a99b-4bef-b74d-571cc2102049",
   "metadata": {},
   "outputs": [],
   "source": []
  },
  {
   "cell_type": "code",
   "execution_count": null,
   "id": "d7a52baf-0368-4e33-9bfc-42e37a2f0ef0",
   "metadata": {},
   "outputs": [],
   "source": [
    "test9 = xr.open_dataset(f\"../data_processed/era5_wsd_clim/{cf.calc_funcs_ver}_diff_wa_Jan-1985_Dec-1990_Jan-2005_Dec-2010_all_era5-wsd.nc\")\n",
    "test9"
   ]
  },
  {
   "cell_type": "code",
   "execution_count": null,
   "id": "f4f19c7e-8303-4e33-beb5-cc284408c8c3",
   "metadata": {},
   "outputs": [],
   "source": [
    "test9[\"ws100_mean\"].plot()"
   ]
  },
  {
   "cell_type": "code",
   "execution_count": null,
   "id": "1bf5cd62-c449-4c85-9c5c-832fda4e62f3",
   "metadata": {},
   "outputs": [],
   "source": [
    "test9[\"ws100_std\"].plot()"
   ]
  },
  {
   "cell_type": "code",
   "execution_count": null,
   "id": "2cd8a6b4-1eea-4e06-b56c-b62dcd48f656",
   "metadata": {},
   "outputs": [],
   "source": [
    "test9[\"c100\"].plot()"
   ]
  },
  {
   "cell_type": "code",
   "execution_count": null,
   "id": "dde889a2-a411-4f7c-8aaf-22f41644cef1",
   "metadata": {},
   "outputs": [],
   "source": [
    "test9[\"k100\"].plot()"
   ]
  },
  {
   "cell_type": "code",
   "execution_count": null,
   "id": "c0caef0e-248c-4241-af26-524f308f1c94",
   "metadata": {},
   "outputs": [],
   "source": [
    "test9[\"eroe100\"].plot()"
   ]
  },
  {
   "cell_type": "code",
   "execution_count": null,
   "id": "687f977b-63f3-4b89-9ca1-4799830071f8",
   "metadata": {},
   "outputs": [],
   "source": [
    "test9[\"tgcf100\"].plot()"
   ]
  },
  {
   "cell_type": "code",
   "execution_count": null,
   "id": "1e9a8f64-ab31-41b5-b891-e38fb1d25434",
   "metadata": {},
   "outputs": [],
   "source": [
    "test9[\"eroe100\"].where(test9[\"eroe100\"]==test9[\"eroe100\"].max(), drop = True).squeeze()"
   ]
  },
  {
   "cell_type": "code",
   "execution_count": null,
   "id": "1172f757-a100-4ed5-82b2-06f0b1a41cf8",
   "metadata": {},
   "outputs": [],
   "source": []
  },
  {
   "cell_type": "code",
   "execution_count": null,
   "id": "8f22622d-8210-454e-9136-ba91bdc85584",
   "metadata": {},
   "outputs": [],
   "source": [
    "%%time\n",
    "cf.calc_era5_land_elev()"
   ]
  },
  {
   "cell_type": "code",
   "execution_count": null,
   "id": "2f257276-8945-48c0-986c-113f44401173",
   "metadata": {},
   "outputs": [],
   "source": [
    "test10 = xr.open_dataset(f\"../data_processed/era5_land_elev/{cf.calc_funcs_ver}_calc_global_static_land-elev.nc\")\n",
    "test10"
   ]
  },
  {
   "cell_type": "code",
   "execution_count": null,
   "id": "42185c58-7151-40e1-9b86-59cdb817fe40",
   "metadata": {},
   "outputs": [],
   "source": [
    "test10[\"lse\"].plot()"
   ]
  },
  {
   "cell_type": "code",
   "execution_count": null,
   "id": "660a6aee-3322-4e67-94dd-275aa11a179f",
   "metadata": {},
   "outputs": [],
   "source": []
  },
  {
   "cell_type": "code",
   "execution_count": null,
   "id": "708d70b2-3313-464c-9788-9b568fea8cf7",
   "metadata": {},
   "outputs": [],
   "source": [
    "%%time\n",
    "cf.calc_glass_rolling_avg_of_annual_diff(\"wa\", 1984, 1987, 7)"
   ]
  },
  {
   "cell_type": "code",
   "execution_count": null,
   "id": "246b9ee4-af6a-4d33-a9b2-aed32f548efd",
   "metadata": {},
   "outputs": [],
   "source": [
    "test11 = xr.open_dataset(f\"../data_processed/glass_rolling_avg_of_annual_diff/{cf.calc_funcs_ver}_calc_wa_1984_1987_7-year_glass-rolling-diff_pref-avhrr.nc\")\n",
    "test11"
   ]
  },
  {
   "cell_type": "code",
   "execution_count": null,
   "id": "1a601513-2700-44cd-b204-4b8be8608e04",
   "metadata": {},
   "outputs": [],
   "source": [
    "test11[\"mlai\"].isel(year=0).plot()"
   ]
  },
  {
   "cell_type": "code",
   "execution_count": null,
   "id": "c80c30cc-bc62-454c-b95a-19cf42f6d9ea",
   "metadata": {},
   "outputs": [],
   "source": [
    "test11[\"mfapar\"].isel(year=0).plot()"
   ]
  },
  {
   "cell_type": "code",
   "execution_count": null,
   "id": "61bb88f8-7eca-441e-a2d1-0b65ea0ac7be",
   "metadata": {},
   "outputs": [],
   "source": []
  },
  {
   "cell_type": "code",
   "execution_count": null,
   "id": "b1e69b3a-72c7-42e6-a28a-3b9a0b1d7f5f",
   "metadata": {},
   "outputs": [],
   "source": [
    "%%time\n",
    "cf.calc_glass_rolling_avg_of_annual_diff(\"wa\", 1983, 2019, 5)"
   ]
  },
  {
   "cell_type": "code",
   "execution_count": null,
   "id": "6056911e-68b9-49eb-b278-25fa218b02e9",
   "metadata": {},
   "outputs": [],
   "source": [
    "%%time\n",
    "cf.calc_glass_rolling_avg_of_annual_diff(\"wa\", 1984, 2018, 7)"
   ]
  },
  {
   "cell_type": "code",
   "execution_count": null,
   "id": "97bb34c3-09ee-4e6d-b6db-125a2009dbcc",
   "metadata": {},
   "outputs": [],
   "source": [
    "test12 = xr.open_dataset(f\"../data_processed/glass_rolling_avg_of_annual_diff/{cf.calc_funcs_ver}_calc_wa_1983_2019_5-year_glass-rolling-diff_pref-avhrr.nc\")\n",
    "test12"
   ]
  },
  {
   "cell_type": "code",
   "execution_count": null,
   "id": "b991ff76-61b7-44a1-a535-74b989bcbcfa",
   "metadata": {},
   "outputs": [],
   "source": [
    "test12[\"mlai\"].interactive.sel(year=pnw.DiscreteSlider).plot(cmap = \"RdBu\", vmin = -1, vmax = 1)"
   ]
  },
  {
   "cell_type": "code",
   "execution_count": null,
   "id": "810a8463-97ac-4882-8214-fad9f2229529",
   "metadata": {},
   "outputs": [],
   "source": [
    "test13 = xr.open_dataset(f\"../data_processed/glass_rolling_avg_of_annual_diff/{cf.calc_funcs_ver}_calc_wa_1984_2018_7-year_glass-rolling-diff_pref-avhrr.nc\")\n",
    "test13"
   ]
  },
  {
   "cell_type": "code",
   "execution_count": null,
   "id": "a6348cff-9282-4e3d-9363-3ff0de261d55",
   "metadata": {},
   "outputs": [],
   "source": [
    "test13[\"mlai\"].interactive.sel(year=pnw.DiscreteSlider).plot(cmap = \"RdBu\", vmin = -1, vmax = 1)"
   ]
  },
  {
   "cell_type": "code",
   "execution_count": null,
   "id": "28d96bb4-9479-470a-9abe-4bca434100e5",
   "metadata": {},
   "outputs": [],
   "source": []
  },
  {
   "cell_type": "code",
   "execution_count": null,
   "id": "7461c149-3652-40c3-b342-eca1ed3ce4ed",
   "metadata": {},
   "outputs": [],
   "source": [
    "%%time\n",
    "cf.create_all_possible_calc_data_files(\"wa\", \"Jan-1992\", \"Dec-1996\", \"all\")"
   ]
  },
  {
   "cell_type": "code",
   "execution_count": null,
   "id": "8dffd070-829a-4793-9fae-9beecd7767e3",
   "metadata": {},
   "outputs": [],
   "source": [
    "%%time\n",
    "cf.create_all_possible_calc_data_files(\"wa\", \"Jan-2002\", \"Dec-2006\", \"all\")"
   ]
  },
  {
   "cell_type": "code",
   "execution_count": null,
   "id": "7f54149a-23a6-42d2-baa1-2f7886e055fb",
   "metadata": {},
   "outputs": [],
   "source": [
    "%%time\n",
    "cf.create_all_possible_diff_data_files(\"wa\", \"Jan-1992\", \"Dec-1996\", \"Jan-2002\", \"Dec-2006\", \"all\")"
   ]
  },
  {
   "cell_type": "code",
   "execution_count": null,
   "id": "6257f2a9-36a8-4ab2-8821-f393f70dc9c1",
   "metadata": {},
   "outputs": [],
   "source": [
    "test14 = xr.open_dataset(f\"../data_processed/glass_mean_clim/{cf.calc_funcs_ver}_diff_wa_Jan-1992_Dec-1996_Jan-2002_Dec-2006_all_glass-mean_avhrr.nc\")\n",
    "test14[\"mlai\"].plot()"
   ]
  },
  {
   "cell_type": "code",
   "execution_count": null,
   "id": "b3fdefde-bf35-496d-9498-4ed31c005cd9",
   "metadata": {},
   "outputs": [],
   "source": [
    "test15 = xr.open_dataset(f\"../data_processed/era5_wsd_clim/{cf.calc_funcs_ver}_diff_wa_Jan-1992_Dec-1996_Jan-2002_Dec-2006_all_era5-wsd.nc\")\n",
    "test15[\"ws10_mean\"].plot()"
   ]
  },
  {
   "cell_type": "code",
   "execution_count": null,
   "id": "100f1341-5887-4ec1-99e3-16695c1cabbc",
   "metadata": {},
   "outputs": [],
   "source": []
  },
  {
   "cell_type": "code",
   "execution_count": null,
   "id": "bbc03f40-9600-432b-9ad8-11301ba63a6e",
   "metadata": {},
   "outputs": [],
   "source": [
    "\"\\N{DEGREE SIGN}\""
   ]
  },
  {
   "cell_type": "code",
   "execution_count": null,
   "id": "bd2a13e5-0ee4-48ab-97c4-d50c114e0dcb",
   "metadata": {},
   "outputs": [],
   "source": [
    "r\"test \\sum_i^n\""
   ]
  },
  {
   "cell_type": "code",
   "execution_count": null,
   "id": "52740db2-7630-4dd0-a242-7cf9215c15d6",
   "metadata": {},
   "outputs": [],
   "source": [
    "'\\\\textit{Velocity (\\N{DEGREE SIGN}/sec)}'"
   ]
  },
  {
   "cell_type": "code",
   "execution_count": null,
   "id": "7fe4fe37-2f25-4aa0-b6d2-e7e4c48747b3",
   "metadata": {},
   "outputs": [],
   "source": [
    "r'\\textit{Velocity (\\N{DEGREE SIGN}/sec)}'"
   ]
  },
  {
   "cell_type": "code",
   "execution_count": null,
   "id": "2ca66e9c-6114-4cd2-8f3c-e657c8f35e41",
   "metadata": {},
   "outputs": [],
   "source": [
    "r'\\TeX\\ is Number $\\displaystyle\\sum_{n=1}^\\infty'"
   ]
  },
  {
   "cell_type": "code",
   "execution_count": null,
   "id": "5cb9eabc-6b2d-423e-af07-6ebd8210d6e2",
   "metadata": {},
   "outputs": [],
   "source": [
    "import numpy as np\n",
    "import matplotlib.pyplot as plt\n",
    "\n",
    "plt.rcParams['text.usetex'] = True\n",
    "\n",
    "\n",
    "t = np.linspace(0.0, 1.0, 100)\n",
    "s = np.cos(4 * np.pi * t) + 2\n",
    "\n",
    "fig, ax = plt.subplots(figsize=(6, 4), tight_layout=True)\n",
    "ax.plot(t, s)\n",
    "\n",
    "\n",
    "abbr = \"min_u^{diff}(WV10)\"\n",
    "units = \"m s^{-1}\"\n",
    "# ax.set_xlabel(r'\\textbf{time (s)}')\n",
    "# ax.set_xlabel(r'$hour_{max}^{2000-1999}$')\n",
    "# ax.set_xlabel(r'$annual-difference _{7-yr} ^{roll-avg} (MLAI)$')\n",
    "# ax.set_xlabel(r'$    min_u^{diff}(WV10)$')\n",
    "ax.set_xlabel(r\"${} \\ [{}]$\".format(abbr, units))\n",
    "ax.set_ylabel('\\\\textit{Velocity (\\N{DEGREE SIGN}/sec)}', fontsize=16)\n",
    "ax.set_title(r'\\TeX\\ is Number $\\displaystyle\\sum_{n=1}^\\infty'\n",
    "             r'\\frac{-e^{i\\pi}}{2^n}$!', fontsize=16, color='r')"
   ]
  },
  {
   "cell_type": "code",
   "execution_count": null,
   "id": "6fcd9f7d-da01-4a75-ae44-8ad94674b534",
   "metadata": {},
   "outputs": [],
   "source": []
  }
 ],
 "metadata": {
  "kernelspec": {
   "display_name": "Python 3 (ipykernel)",
   "language": "python",
   "name": "python3"
  },
  "language_info": {
   "codemirror_mode": {
    "name": "ipython",
    "version": 3
   },
   "file_extension": ".py",
   "mimetype": "text/x-python",
   "name": "python",
   "nbconvert_exporter": "python",
   "pygments_lexer": "ipython3",
   "version": "3.10.4"
  }
 },
 "nbformat": 4,
 "nbformat_minor": 5
}
