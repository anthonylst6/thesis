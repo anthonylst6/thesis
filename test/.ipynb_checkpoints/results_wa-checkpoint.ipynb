{
 "cells": [
  {
   "cell_type": "code",
   "execution_count": null,
   "id": "898677e6-0eeb-4dd9-b357-624cf561b400",
   "metadata": {},
   "outputs": [],
   "source": [
    "# The following code requires around XXX GB of RAM if using YYY CPUs"
   ]
  },
  {
   "cell_type": "code",
   "execution_count": null,
   "id": "65d428b8-385f-4551-a4f9-f3e47db9143c",
   "metadata": {},
   "outputs": [],
   "source": [
    "# Import libraries\n",
    "import importlib\n",
    "from glob import glob"
   ]
  },
  {
   "cell_type": "code",
   "execution_count": null,
   "id": "d329ff48-0e82-4665-8f77-e5c31a44df97",
   "metadata": {},
   "outputs": [],
   "source": [
    "# Choose calc_funcs_ver to use in plotting scripts.\n",
    "cfv = \"latest\"\n",
    "\n",
    "assert (isinstance(cfv, str) & (len(cfv) == 5) & (cfv[:3] == \"cfv\") & \n",
    "        cfv[3].isnumeric() & cfv[4].isalpha() & cfv[4].islower()) | (cfv == \"latest\"), \\\n",
    "    (\"cfv must be 'latest' or of form 'cfvXY' where X is a single digit number \" +\n",
    "     \"and Y is a lowercase alphabet character. eg. cfv1n\")\n",
    "\n",
    "if cfv == \"latest\":\n",
    "    calc_funcs_scripts = glob(\"calc_funcs_*.py\")\n",
    "    calc_funcs_scripts.sort()\n",
    "    calc_funcs_module = calc_funcs_scripts[-1][:-3]\n",
    "    \n",
    "else:\n",
    "    calc_funcs_module = \"calc_funcs_\" + cfv[2:]\n",
    "    \n",
    "cf = importlib.import_module(calc_funcs_module)\n",
    "\n",
    "print(f\"Using: {calc_funcs_module}\")"
   ]
  },
  {
   "cell_type": "code",
   "execution_count": null,
   "id": "c357f502-e2c6-4fe0-9498-e2c61bcd0f7e",
   "metadata": {},
   "outputs": [],
   "source": [
    "# Choose plot_funcs_ver to use.\n",
    "pfv = \"latest\"\n",
    "\n",
    "assert (isinstance(pfv, str) & (len(pfv) == 5) & (pfv[:3] == \"pfv\") & \n",
    "        pfv[3].isnumeric() & pfv[4].isalpha() & pfv[4].islower()) | (pfv == \"latest\"), \\\n",
    "    (\"pfv must be 'latest' or of form 'pfvXY' where X is a single digit number \" +\n",
    "     \"and Y is a lowercase alphabet character. eg. pfv1e\")\n",
    "\n",
    "if pfv == \"latest\":\n",
    "    plot_funcs_scripts = glob(\"plot_funcs_*.py\")\n",
    "    plot_funcs_scripts.sort()\n",
    "    plot_funcs_module = plot_funcs_scripts[-1][:-3]\n",
    "    \n",
    "else:\n",
    "    plot_funcs_module = \"plot_funcs_\" + pfv[2:]\n",
    "    \n",
    "pf = importlib.import_module(plot_funcs_module)\n",
    "\n",
    "print(f\"Using: {plot_funcs_module}\")"
   ]
  },
  {
   "cell_type": "code",
   "execution_count": null,
   "id": "7e63b55d-acce-4e35-8961-34c0516b0c19",
   "metadata": {},
   "outputs": [],
   "source": [
    "# Create glass rolling avg files to identify years with significant LAI change\n",
    "cf.calc_glass_rolling_avg_of_annual_diff(\"wa\", 1983, 2019, \"all\", 5, \"avhrr\")\n",
    "cf.calc_glass_rolling_avg_of_annual_diff(\"wa\", 1983, 2019, \"all\", 5, \"modis\")"
   ]
  },
  {
   "cell_type": "code",
   "execution_count": null,
   "id": "98acf437-f3b4-41bd-ac78-404f3baa9960",
   "metadata": {},
   "outputs": [],
   "source": [
    "# Plot the glass rolling avg files to identify years with significant LAI change\n",
    "pf.create_glass_rolling_plot(\"wa\", 1983, 2019, \"all\", 5, \"mlai\", glass_source_pref=\"avhrr\", output=True)\n",
    "pf.create_glass_rolling_plot(\"wa\", 1983, 2019, \"all\", 5, \"mlai\", glass_source_pref=\"modis\", output=True)"
   ]
  },
  {
   "cell_type": "code",
   "execution_count": null,
   "id": "1ea814ad-a2a7-499a-8971-00d00defde7d",
   "metadata": {},
   "outputs": [],
   "source": [
    "# Create all possible diff data files for selected periods\n",
    "# Do this for year round, wet season only, and dry season only\n",
    "cf.create_all_possible_diff_data_files(\"wa\", \"Jan-1994\", \"Dec-1998\", \"Jan-2004\", \"Dec-2008\", \"all\")\n",
    "cf.create_all_possible_diff_data_files(\"wa\", \"Jan-1994\", \"Dec-1998\", \"Jan-2004\", \"Dec-2008\", \"mam\")\n",
    "cf.create_all_possible_diff_data_files(\"wa\", \"Jan-1994\", \"Dec-1998\", \"Jan-2004\", \"Dec-2008\", \"djf\")"
   ]
  },
  {
   "cell_type": "code",
   "execution_count": null,
   "id": "00f4c30b-0cd5-47c9-ac4d-5c375f25f13a",
   "metadata": {},
   "outputs": [],
   "source": [
    "# Create all possible diff data files for selected periods for rabbit-proof fence\n",
    "# Do this for year round, wet season only, and dry season only\n",
    "cf.create_all_possible_diff_data_files(\"wa\", \"Jan-2019\", \"Dec-2019\", \"Jan-2021\", \"Dec-2021\", \"all\")\n",
    "cf.create_all_possible_diff_data_files(\"wa\", \"Jan-2019\", \"Dec-2019\", \"Jan-2021\", \"Dec-2021\", \"mam\")\n",
    "cf.create_all_possible_diff_data_files(\"wa\", \"Jan-2019\", \"Dec-2019\", \"Jan-2021\", \"Dec-2021\", \"djf\")"
   ]
  },
  {
   "cell_type": "code",
   "execution_count": null,
   "id": "40ad33ca-12c7-4cf6-bef9-6bc2e00bb3e8",
   "metadata": {},
   "outputs": [],
   "source": [
    "# Create the relevant ERA5 analysis plots\n"
   ]
  }
 ],
 "metadata": {
  "kernelspec": {
   "display_name": "Python 3 (ipykernel)",
   "language": "python",
   "name": "python3"
  },
  "language_info": {
   "codemirror_mode": {
    "name": "ipython",
    "version": 3
   },
   "file_extension": ".py",
   "mimetype": "text/x-python",
   "name": "python",
   "nbconvert_exporter": "python",
   "pygments_lexer": "ipython3",
   "version": "3.10.4"
  }
 },
 "nbformat": 4,
 "nbformat_minor": 5
}
