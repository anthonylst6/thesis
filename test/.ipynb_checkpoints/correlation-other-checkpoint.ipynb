{
 "cells": [
  {
   "cell_type": "markdown",
   "id": "26ca9935-8f63-432e-b54a-f88f39c2f049",
   "metadata": {},
   "source": [
    "### For general:\n",
    "\n",
    "https://xarray.pydata.org/en/stable/howdoi.html\n",
    "\n",
    "### For possibly other lines of approach:\n",
    "\n",
    "tutorial\n",
    "https://tutorial.xarray.dev/intermediate/01-high-level-computation-patterns.html\n",
    "\n",
    "user guide\n",
    "https://docs.xarray.dev/en/stable/user-guide/groupby.html\n",
    "\n",
    "### For coarsen:\n",
    "\n",
    "standardise dimension names\n",
    "https://cf-xarray.readthedocs.io/en/latest/howtouse.html\n",
    "https://xarray.pydata.org/en/stable/generated/xarray.Dataset.rename.html#xarray.Dataset.rename\n",
    "\n",
    "correlation\n",
    "https://docs.xarray.dev/en/stable/generated/xarray.corr.html\n",
    "\n",
    "or align first then correlation\n",
    "https://docs.xarray.dev/en/latest/generated/xarray.align.html\n",
    "\n",
    "### For groupbybins:\n",
    "\n",
    "stacked\n",
    "https://docs.xarray.dev/en/stable/user-guide/groupby.html\n",
    "\n",
    "groupbybins\n",
    "https://docs.xarray.dev/en/stable/generated/xarray.DataArray.groupby_bins.html\n",
    "\n",
    "or groupbybins then reindex\n",
    "https://xarray.pydata.org/en/stable/generated/xarray.Dataset.reindex_like.html#xarray.Dataset.reindex_like\n",
    "\n",
    "workarounds\n",
    "https://discourse.pangeo.io/t/xarray-dataset-grouby-bins-without-squishing-other-dimensions/1692\n",
    "https://github.com/pydata/xarray/issues/2488\n",
    "https://stackoverflow.com/questions/40465026/groupby-bins-on-two-variables\n",
    "https://github.com/pydata/xarray/issues/6610\n",
    "\n",
    "### For xhistogram:\n",
    "\n",
    "api\n",
    "https://xhistogram.readthedocs.io/en/latest/api.html\n",
    "\n",
    "tutorial\n",
    "https://xhistogram.readthedocs.io/en/latest/tutorial.html\n",
    "\n",
    "### For flox:\n",
    "\n",
    "api\n",
    "https://flox.readthedocs.io/en/latest/generated/flox.xarray.xarray_reduce.html\n",
    "\n",
    "strategies\n",
    "https://flox.readthedocs.io/en/latest/user-stories/climatology.html"
   ]
  },
  {
   "cell_type": "code",
   "execution_count": null,
   "id": "0f3ca04a-f1e1-46e8-8bc6-bee58799cf3c",
   "metadata": {},
   "outputs": [],
   "source": []
  }
 ],
 "metadata": {
  "kernelspec": {
   "display_name": "Python 3 (ipykernel)",
   "language": "python",
   "name": "python3"
  },
  "language_info": {
   "codemirror_mode": {
    "name": "ipython",
    "version": 3
   },
   "file_extension": ".py",
   "mimetype": "text/x-python",
   "name": "python",
   "nbconvert_exporter": "python",
   "pygments_lexer": "ipython3",
   "version": "3.10.4"
  }
 },
 "nbformat": 4,
 "nbformat_minor": 5
}
