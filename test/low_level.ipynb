{
 "cells": [
  {
   "cell_type": "code",
   "execution_count": null,
   "id": "806e077d-1244-4087-a800-a6da7e5183c6",
   "metadata": {},
   "outputs": [],
   "source": [
    "# Import libraries\n",
    "from datetime import datetime\n",
    "import glob\n",
    "import numpy as np\n",
    "import matplotlib.pyplot as plt\n",
    "import cmocean\n",
    "import cartopy.crs as ccrs\n",
    "import cartopy.feature as cfeature\n",
    "import xarray as xr\n",
    "import xskillscore as xs\n",
    "import hvplot.xarray\n",
    "import metpy.calc as mpcalc\n",
    "import metpy.plots as mpplots\n",
    "from matplotlib.patheffects import withStroke\n",
    "from metpy.io import parse_metar_file\n",
    "from metpy.units import pandas_dataframe_to_unit_arrays\n",
    "from siphon.catalog import TDSCatalog\n",
    "import re\n",
    "import dask\n",
    "import gc\n",
    "from dask.distributed import Client"
   ]
  },
  {
   "cell_type": "code",
   "execution_count": 14,
   "id": "59e3876d-1842-41ee-bc78-663c7762c09c",
   "metadata": {},
   "outputs": [],
   "source": [
    "# Axis extents for each region in [W, E, S, N] format\n",
    "# Timezones in hours +- GMT\n",
    "settings = {\n",
    "    # Central America (mostly Honduras-Nicaragua-Costa Rica)\n",
    "    \"ca\": {\"extent\": [-91, -81, 7, 17], \"tz\": -6},\n",
    "    # South America (mostly eastern Brazil)\n",
    "    \"sa\": {\"extent\": [-65, -30, -15, 0], \"tz\": -3},\n",
    "    # Western Australia (mostly near the west coast)\n",
    "    \"wa\": {\"extent\": [113, 123, -35, -30], \"tz\": +8}\n",
    "}"
   ]
  },
  {
   "cell_type": "code",
   "execution_count": 17,
   "id": "37fd4993-a955-49fb-8d2c-7bea7b959fc2",
   "metadata": {},
   "outputs": [],
   "source": [
    "def calc_mlai_climatology(region, periodstart, periodend, subset, outputname=None):\n",
    "    assert(region in settings.keys()), f\"region not one of: {*[*settings],}\"\n",
    "    # avhrr vs modis?\n",
    "    # assert periodstart and periodend structure is mmm-yyyy\n",
    "    # asset periodstart is after jan-1981 and periodend is before dec-2021\n",
    "    \n",
    "    \n",
    "    # assert periodstart and periodend structure is yyyy-ddd\n",
    "    # assert periodstart is after 1981-001 and periodend is before 2021-365\n",
    "    print(region)"
   ]
  },
  {
   "cell_type": "code",
   "execution_count": 19,
   "id": "0f5b0e6d-017b-409e-ab79-4c243781629c",
   "metadata": {},
   "outputs": [
    {
     "name": "stdout",
     "output_type": "stream",
     "text": [
      "ca\n"
     ]
    }
   ],
   "source": [
    "calc_mlai_climatology(\"ca\", 1980, 2000, \"jja\")"
   ]
  },
  {
   "cell_type": "code",
   "execution_count": null,
   "id": "2d653b0c-87f3-47f4-bc0d-87f4393ab13d",
   "metadata": {},
   "outputs": [],
   "source": []
  },
  {
   "cell_type": "code",
   "execution_count": null,
   "id": "da4c938d-c7e5-458e-b6c3-5d0124c62c66",
   "metadata": {},
   "outputs": [],
   "source": []
  },
  {
   "cell_type": "code",
   "execution_count": null,
   "id": "12d2472a-7875-4f72-ad78-832d8ac61cd2",
   "metadata": {},
   "outputs": [],
   "source": []
  },
  {
   "cell_type": "code",
   "execution_count": null,
   "id": "681a9264-ebfe-4c11-a922-0d4dc26acadd",
   "metadata": {},
   "outputs": [],
   "source": []
  },
  {
   "cell_type": "code",
   "execution_count": 10,
   "id": "9d918748-c381-4480-a2be-c0b591f7f407",
   "metadata": {},
   "outputs": [
    {
     "data": {
      "text/plain": [
       "[113, 123, -35, -30]"
      ]
     },
     "execution_count": 10,
     "metadata": {},
     "output_type": "execute_result"
    }
   ],
   "source": [
    "areas[\"wa\"][\"extent\"]"
   ]
  },
  {
   "cell_type": "code",
   "execution_count": null,
   "id": "84ef5bf7-fe5f-4548-a56a-76e5163f4d54",
   "metadata": {},
   "outputs": [],
   "source": [
    "# Axis extents for each region in [W, E, S, N] format\n",
    "extent = {\n",
    "    # Central America (mostly Honduras-Nicaragua-Costa Rica)\n",
    "    \"ca\": [-91, -81, 7, 17],\n",
    "    # South America (mostly eastern Brazil)\n",
    "    \"sa\": [-65, -30, -15, 0],\n",
    "    # Western Australia (mostly near the west coast)\n",
    "    \"wa\": [113, 123, -35, -30]\n",
    "}"
   ]
  },
  {
   "cell_type": "code",
   "execution_count": null,
   "id": "c0cc16a9-45b3-495b-87e4-56ce1d0a673f",
   "metadata": {},
   "outputs": [],
   "source": [
    "tz = {\"ca\": -6, # +- 0\n",
    "      \"sa\": -3, # +- 1.5\n",
    "      \"wa\": +8} # +- 0"
   ]
  },
  {
   "cell_type": "code",
   "execution_count": null,
   "id": "afb895bd-21eb-4c55-98fd-429595d4b5bd",
   "metadata": {},
   "outputs": [],
   "source": []
  },
  {
   "cell_type": "code",
   "execution_count": null,
   "id": "f7fc222a-384f-4b99-a28a-817b87f89e98",
   "metadata": {},
   "outputs": [],
   "source": []
  }
 ],
 "metadata": {
  "kernelspec": {
   "display_name": "Python 3 (ipykernel)",
   "language": "python",
   "name": "python3"
  },
  "language_info": {
   "codemirror_mode": {
    "name": "ipython",
    "version": 3
   },
   "file_extension": ".py",
   "mimetype": "text/x-python",
   "name": "python",
   "nbconvert_exporter": "python",
   "pygments_lexer": "ipython3",
   "version": "3.10.4"
  }
 },
 "nbformat": 4,
 "nbformat_minor": 5
}
