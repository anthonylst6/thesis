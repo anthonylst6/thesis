{
 "cells": [
  {
   "cell_type": "code",
   "execution_count": null,
   "id": "806e077d-1244-4087-a800-a6da7e5183c6",
   "metadata": {},
   "outputs": [],
   "source": [
    "# Import libraries\n",
    "from datetime import datetime\n",
    "import glob\n",
    "import numpy as np\n",
    "import matplotlib.pyplot as plt\n",
    "import cmocean\n",
    "import cartopy.crs as ccrs\n",
    "import cartopy.feature as cfeature\n",
    "import xarray as xr\n",
    "import xskillscore as xs\n",
    "import hvplot.xarray\n",
    "import metpy.calc as mpcalc\n",
    "import metpy.plots as mpplots\n",
    "from matplotlib.patheffects import withStroke\n",
    "from metpy.io import parse_metar_file\n",
    "from metpy.units import pandas_dataframe_to_unit_arrays\n",
    "from siphon.catalog import TDSCatalog\n",
    "import re\n",
    "import dask\n",
    "import gc\n",
    "from dask.distributed import Client"
   ]
  },
  {
   "cell_type": "code",
   "execution_count": null,
   "id": "7ea6dfb5-5e2a-41a0-a8cd-68d5f8458595",
   "metadata": {},
   "outputs": [],
   "source": []
  },
  {
   "cell_type": "code",
   "execution_count": null,
   "id": "7eff3d64-486f-43ef-a879-0287902c0fce",
   "metadata": {},
   "outputs": [],
   "source": []
  },
  {
   "cell_type": "code",
   "execution_count": null,
   "id": "2555ee9e-e77a-4c4e-8e7f-a07eb3b45bd4",
   "metadata": {},
   "outputs": [],
   "source": []
  },
  {
   "cell_type": "code",
   "execution_count": null,
   "id": "4f52f943-a452-4e1e-b18d-5f4f34e2e2a5",
   "metadata": {},
   "outputs": [],
   "source": []
  },
  {
   "cell_type": "code",
   "execution_count": 150,
   "id": "998f8680-5d1d-428f-8c44-d471c5ef256f",
   "metadata": {},
   "outputs": [],
   "source": [
    "from datetime import datetime"
   ]
  },
  {
   "cell_type": "code",
   "execution_count": 151,
   "id": "59e3876d-1842-41ee-bc78-663c7762c09c",
   "metadata": {},
   "outputs": [],
   "source": [
    "# Axis extents for each region in [W, E, S, N] format\n",
    "# Timezones in hours +- GMT\n",
    "settings = {\n",
    "    # Central America (mostly Honduras-Nicaragua-Costa Rica)\n",
    "    \"ca\": {\"extent\": [-91, -81, 7, 17], \"tz\": -6},\n",
    "    # South America (mostly eastern Brazil)\n",
    "    \"sa\": {\"extent\": [-65, -30, -15, 0], \"tz\": -3},\n",
    "    # Western Australia (mostly near the west coast)\n",
    "    \"wa\": {\"extent\": [113, 123, -35, -30], \"tz\": +8}\n",
    "}"
   ]
  },
  {
   "cell_type": "code",
   "execution_count": 176,
   "id": "4d0f669d-59ac-49be-911f-104fb7f558b8",
   "metadata": {},
   "outputs": [],
   "source": [
    "# months = [\"Jan\", \"Feb\", \"Mar\", \"Apr\", \"May\", \"Jun\",\n",
    "#           \"Jul\", \"Aug\", \"Sep\", \"Oct\", \"Nov\", \"Dec\"]\n",
    "# years = range(1981, 2022)\n",
    "avhrr_earliest = \"Jan-1981\"\n",
    "modis_earliest = \"Mar-2000\"\n",
    "avhrr_latest = \"Dec-2018\"\n",
    "modis_latest = \"Dec-2021\"\n",
    "subsets = [\"all\", \"djf\", \"mam\", \"jja\", \"son\",\n",
    "           \"Jan\", \"Feb\", \"Mar\", \"Apr\", \"May\", \"Jun\",\n",
    "           \"Jul\", \"Aug\", \"Sep\", \"Oct\", \"Nov\", \"Dec\"]"
   ]
  },
  {
   "cell_type": "code",
   "execution_count": 177,
   "id": "16a30a62-4814-498e-a845-68d296cfdeee",
   "metadata": {},
   "outputs": [],
   "source": [
    "def data_source_to_use(periodstart, periodend):\n",
    "    if ((periodstart >= datetime.strptime(avhrr_earliest, \"%b-%Y\")) & \n",
    "        (periodstart < datetime.strptime(modis_earliest, \"%b-%Y\")) &\n",
    "        (periodend <= datetime.strptime(avhrr_latest, \"%b-%Y\"))):\n",
    "        data_source = \"avhrr\"\n",
    "    elif ((periodstart >= datetime.strptime(modis_earliest, \"%b-%Y\")) &\n",
    "          (periodend <= datetime.strptime(modis_latest, \"%b-%Y\"))):\n",
    "        data_source = \"modis\"\n",
    "    else:\n",
    "        raise Exception(\"If periodstart is before Mar-2000, \" +\n",
    "                        \"periodend cannot be after Dec-2018 \" +\n",
    "                        \"(since this would cover both an \" +\n",
    "                        \"AVHRR-only and a MODIS-only period)\")\n",
    "    return(data_source)"
   ]
  },
  {
   "cell_type": "code",
   "execution_count": 195,
   "id": "37fd4993-a955-49fb-8d2c-7bea7b959fc2",
   "metadata": {
    "tags": []
   },
   "outputs": [],
   "source": [
    "def calc_mlai_climatology(region, periodstart, periodend, subset, outputname=None):\n",
    "    \"\"\"\n",
    "    Calculate mean leaf area index (MLAI) climatology\n",
    "    \n",
    "    Args:\n",
    "        region (str): Region to perform calculation over.\n",
    "                        Must be one of [\"ca\", \"sa\", \"wa\"]\n",
    "        periodstart (str): Start of period to perform calculation over.\n",
    "                        Must be of form \"%b-%Y\" eg. \"Jul-1990\".\n",
    "                        Must be between \"Jan-1981\" and \"Dec-2021\".\n",
    "        periodend (str): End of period to perform calculation over.\n",
    "                        Must be of form \"%b-%Y\" eg. \"Jul-1990\".\n",
    "                        Must be between \"Jan-1981\" and \"Dec-2021\".\n",
    "        subset (str): Subset of period to perform calculation over.\n",
    "                        Must be one of [\"all\", \"djf\", \"mam\", \"jja\", \"son\",\n",
    "                        \"Jan\", \"Feb\", \"Mar\", \"Apr\", \"May\", \"Jun\",\n",
    "                        \"Jul\", \"Aug\", \"Sep\", \"Oct\", \"Nov\", \"Dec\"]\n",
    "        outputname (str): Name of output netcdf4 file. If none is\n",
    "                        given then the default will be\n",
    "                        region_periodstart_periodend_subset_mlai.nc\n",
    "    \n",
    "    For each grid cell, calculate the mean leaf area index (MLAI) over \n",
    "    the period from periodstart to periodend. The calculation uses 8-day \n",
    "    satellite HDF data from the data_raw folder as input, then outputs \n",
    "    the result as a netcdf4 file into the data_processed folder.\n",
    "    \"\"\"\n",
    "    assert region in settings.keys(), \\\n",
    "        f\"region must be one of: {*[*settings],}\"\n",
    "    # assert(isinstance(periodstart, str)), {\"periodstart must be a string \" +\n",
    "    #                                       \"of form '%b-%Y' eg. Jul-1990\"}\n",
    "    # assert(len(periodstart)==8), {\"periodstart must be a string \" +\n",
    "    #                               \"of form '%b-%Y' eg. Jul-1990\"}\n",
    "    # assert(periodstart[3]==\"-\"), {\"periodstart must be a string \" +\n",
    "    #                               \"of form '%b-%Y' eg. Jul-1990\"}\n",
    "    # assert(periodstart[0:3] in months), {\"periodstart must be a string \" +\n",
    "    #                                      \"of form '%b-%Y' eg. Jul-1990\"}\n",
    "    # assert(int(periodstart[4:8]) in years), {\"periodstart must be a string \" +\n",
    "    #                                          \"of form '%b-%Y' eg. Jul-1990\"}\n",
    "    periodstart = datetime.strptime(periodstart, \"%b-%Y\")\n",
    "    periodend = datetime.strptime(periodend, \"%b-%Y\")\n",
    "    assert periodend >= periodstart, \\\n",
    "        \"periodend must be equal to or later than periodstart\"\n",
    "    assert periodstart >= datetime.strptime(avhrr_earliest, \"%b-%Y\"), \\\n",
    "        f\"periodstart must be equal to or later than {avhrr_earliest}\"\n",
    "    assert periodend <= datetime.strptime(modis_latest, \"%b-%Y\"), \\\n",
    "        f\"periodend must be equal to or earlier than {modis_latest}\"\n",
    "    data_source = data_source_to_use(periodstart, periodend)\n",
    "    assert subset in subsets, \\\n",
    "        f\"subset must be one of: {*[*subsets],}\"\n",
    "    if outputname:\n",
    "        assert(isinstance(outputname, str))\n",
    "    else:\n",
    "        outputname = f\"{region}_{periodstart}_{periodend}_{subset}_mlai_{data_source}\"\n",
    "    \n",
    "    \n",
    "    \n",
    "    print(data_source)\n",
    "    print(region)"
   ]
  },
  {
   "cell_type": "code",
   "execution_count": 196,
   "id": "0f5b0e6d-017b-409e-ab79-4c243781629c",
   "metadata": {},
   "outputs": [
    {
     "name": "stdout",
     "output_type": "stream",
     "text": [
      "modis\n",
      "ca\n"
     ]
    }
   ],
   "source": [
    "calc_mlai_climatology(\"ca\", \"Jul-2000\", \"Aug-2021\", \"jja\")"
   ]
  },
  {
   "cell_type": "code",
   "execution_count": 87,
   "id": "5b761bc7-878d-475e-980b-e617aab0f1ae",
   "metadata": {},
   "outputs": [
    {
     "data": {
      "text/plain": [
       "True"
      ]
     },
     "execution_count": 87,
     "metadata": {},
     "output_type": "execute_result"
    }
   ],
   "source": [
    "datetime.strptime(\"Feb-1980\", \"%b-%Y\") >= datetime.strptime(\"Feb-1980\", \"%b-%Y\")"
   ]
  },
  {
   "cell_type": "code",
   "execution_count": 142,
   "id": "1ef24d7b-6fd2-46b2-893d-6d2b816f2152",
   "metadata": {},
   "outputs": [
    {
     "data": {
      "text/plain": [
       "False"
      ]
     },
     "execution_count": 142,
     "metadata": {},
     "output_type": "execute_result"
    }
   ],
   "source": [
    "True & False"
   ]
  },
  {
   "cell_type": "code",
   "execution_count": 187,
   "id": "8c246fa2-9a58-49af-9d64-2ecb10a1f13c",
   "metadata": {},
   "outputs": [
    {
     "data": {
      "text/plain": [
       "False"
      ]
     },
     "execution_count": 187,
     "metadata": {},
     "output_type": "execute_result"
    }
   ],
   "source": [
    "isinstance(None, str)"
   ]
  },
  {
   "cell_type": "code",
   "execution_count": 194,
   "id": "ed6ca478-d6e2-4446-9be2-55730226358b",
   "metadata": {},
   "outputs": [
    {
     "name": "stdout",
     "output_type": "stream",
     "text": [
      "bye\n"
     ]
    }
   ],
   "source": [
    "if None:\n",
    "    print(\"hello\")\n",
    "else:\n",
    "    print(\"bye\")"
   ]
  },
  {
   "cell_type": "code",
   "execution_count": null,
   "id": "3f4316c9-bd78-413f-9f96-8ec2a9f731ba",
   "metadata": {},
   "outputs": [],
   "source": []
  },
  {
   "cell_type": "code",
   "execution_count": null,
   "id": "f2644383-3505-4e62-841a-223e4f2f1d74",
   "metadata": {},
   "outputs": [],
   "source": []
  },
  {
   "cell_type": "code",
   "execution_count": null,
   "id": "513f933f-ffb9-43d1-9638-11213ce57894",
   "metadata": {},
   "outputs": [],
   "source": []
  },
  {
   "cell_type": "code",
   "execution_count": null,
   "id": "952b4507-5027-402d-9bfa-7379e267e398",
   "metadata": {},
   "outputs": [],
   "source": []
  },
  {
   "cell_type": "code",
   "execution_count": null,
   "id": "04d53130-ee5b-44f2-92a0-b0ebdee3cd18",
   "metadata": {},
   "outputs": [],
   "source": []
  },
  {
   "cell_type": "code",
   "execution_count": null,
   "id": "2f4f67be-4daa-4ea0-830c-1aed4d1c2e35",
   "metadata": {},
   "outputs": [],
   "source": []
  },
  {
   "cell_type": "code",
   "execution_count": null,
   "id": "8b74a182-4907-4d91-9cd9-445870b9bffd",
   "metadata": {},
   "outputs": [],
   "source": []
  },
  {
   "cell_type": "code",
   "execution_count": 10,
   "id": "9d918748-c381-4480-a2be-c0b591f7f407",
   "metadata": {},
   "outputs": [
    {
     "data": {
      "text/plain": [
       "[113, 123, -35, -30]"
      ]
     },
     "execution_count": 10,
     "metadata": {},
     "output_type": "execute_result"
    }
   ],
   "source": [
    "areas[\"wa\"][\"extent\"]"
   ]
  },
  {
   "cell_type": "code",
   "execution_count": null,
   "id": "84ef5bf7-fe5f-4548-a56a-76e5163f4d54",
   "metadata": {},
   "outputs": [],
   "source": [
    "# Axis extents for each region in [W, E, S, N] format\n",
    "extent = {\n",
    "    # Central America (mostly Honduras-Nicaragua-Costa Rica)\n",
    "    \"ca\": [-91, -81, 7, 17],\n",
    "    # South America (mostly eastern Brazil)\n",
    "    \"sa\": [-65, -30, -15, 0],\n",
    "    # Western Australia (mostly near the west coast)\n",
    "    \"wa\": [113, 123, -35, -30]\n",
    "}"
   ]
  },
  {
   "cell_type": "code",
   "execution_count": null,
   "id": "c0cc16a9-45b3-495b-87e4-56ce1d0a673f",
   "metadata": {},
   "outputs": [],
   "source": [
    "tz = {\"ca\": -6, # +- 0\n",
    "      \"sa\": -3, # +- 1.5\n",
    "      \"wa\": +8} # +- 0"
   ]
  },
  {
   "cell_type": "code",
   "execution_count": null,
   "id": "afb895bd-21eb-4c55-98fd-429595d4b5bd",
   "metadata": {},
   "outputs": [],
   "source": []
  },
  {
   "cell_type": "code",
   "execution_count": null,
   "id": "f7fc222a-384f-4b99-a28a-817b87f89e98",
   "metadata": {},
   "outputs": [],
   "source": []
  }
 ],
 "metadata": {
  "kernelspec": {
   "display_name": "Python 3 (ipykernel)",
   "language": "python",
   "name": "python3"
  },
  "language_info": {
   "codemirror_mode": {
    "name": "ipython",
    "version": 3
   },
   "file_extension": ".py",
   "mimetype": "text/x-python",
   "name": "python",
   "nbconvert_exporter": "python",
   "pygments_lexer": "ipython3",
   "version": "3.10.4"
  }
 },
 "nbformat": 4,
 "nbformat_minor": 5
}
