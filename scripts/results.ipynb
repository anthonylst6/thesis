{
 "cells": [
  {
   "cell_type": "markdown",
   "id": "91a1c803-3c9f-44c2-8dc7-ace8b6a41fdb",
   "metadata": {
    "tags": []
   },
   "source": [
    "# Setup\n",
    "\n",
    "Note: the following code requires up to 70 GB of RAM over 18 hours if using 6 CPUs\n",
    "\n",
    "It can also be run with less RAM but this will require manual restarting of code everytime RAM limit is reached"
   ]
  },
  {
   "cell_type": "markdown",
   "id": "c376f7e4-8563-4845-9f58-9dec736cd5cc",
   "metadata": {},
   "source": [
    "## Import libraries for analysis"
   ]
  },
  {
   "cell_type": "code",
   "execution_count": null,
   "id": "65d428b8-385f-4551-a4f9-f3e47db9143c",
   "metadata": {},
   "outputs": [],
   "source": [
    "import importlib\n",
    "from glob import glob\n",
    "from datetime import datetime"
   ]
  },
  {
   "cell_type": "markdown",
   "id": "a0b117e4-f25e-43dd-baa6-a5b1fea84532",
   "metadata": {},
   "source": [
    "## Import calc_funcs module for use in analysis"
   ]
  },
  {
   "cell_type": "code",
   "execution_count": null,
   "id": "d329ff48-0e82-4665-8f77-e5c31a44df97",
   "metadata": {},
   "outputs": [],
   "source": [
    "# Choose calc_funcs_ver to use in plotting scripts.\n",
    "cfv = \"latest\"\n",
    "\n",
    "assert (isinstance(cfv, str) & (len(cfv) == 5) & (cfv[:3] == \"cfv\") & \n",
    "        cfv[3].isnumeric() & cfv[4].isalpha() & cfv[4].islower()) | (cfv == \"latest\"), \\\n",
    "    (\"cfv must be 'latest' or of form 'cfvXY' where X is a single digit number \" +\n",
    "     \"and Y is a lowercase alphabet character. eg. cfv1n\")\n",
    "\n",
    "if cfv == \"latest\":\n",
    "    calc_funcs_scripts = glob(\"calc_funcs_*.py\")\n",
    "    calc_funcs_scripts.sort()\n",
    "    calc_funcs_module = calc_funcs_scripts[-1][:-3]\n",
    "    \n",
    "else:\n",
    "    calc_funcs_module = \"calc_funcs_\" + cfv[2:]\n",
    "    \n",
    "cf = importlib.import_module(calc_funcs_module)\n",
    "\n",
    "print(f\"Using: {calc_funcs_module}\")"
   ]
  },
  {
   "cell_type": "markdown",
   "id": "519a42af-198e-47c8-b127-85cef910e890",
   "metadata": {},
   "source": [
    "## Import plot_funcs module for use in analysis"
   ]
  },
  {
   "cell_type": "code",
   "execution_count": null,
   "id": "c357f502-e2c6-4fe0-9498-e2c61bcd0f7e",
   "metadata": {},
   "outputs": [],
   "source": [
    "# Choose plot_funcs_ver to use.\n",
    "pfv = \"latest\"\n",
    "\n",
    "assert (isinstance(pfv, str) & (len(pfv) == 5) & (pfv[:3] == \"pfv\") & \n",
    "        pfv[3].isnumeric() & pfv[4].isalpha() & pfv[4].islower()) | (pfv == \"latest\"), \\\n",
    "    (\"pfv must be 'latest' or of form 'pfvXY' where X is a single digit number \" +\n",
    "     \"and Y is a lowercase alphabet character. eg. pfv1e\")\n",
    "\n",
    "if pfv == \"latest\":\n",
    "    plot_funcs_scripts = glob(\"plot_funcs_*.py\")\n",
    "    plot_funcs_scripts.sort()\n",
    "    plot_funcs_module = plot_funcs_scripts[-1][:-3]\n",
    "    \n",
    "else:\n",
    "    plot_funcs_module = \"plot_funcs_\" + pfv[2:]\n",
    "    \n",
    "pf = importlib.import_module(plot_funcs_module)\n",
    "\n",
    "print(f\"Using: {plot_funcs_module}\")"
   ]
  },
  {
   "cell_type": "markdown",
   "id": "6fec7992-6d4a-46d5-8ee6-0c14ef370642",
   "metadata": {},
   "source": [
    "## Analysis settings using selected periods from results below\n",
    "\n",
    "Specify these all here in the beginning so errors from changes are minimised"
   ]
  },
  {
   "cell_type": "code",
   "execution_count": null,
   "id": "b6aadd9b-dccf-4d79-8b09-48c2dfed74c8",
   "metadata": {},
   "outputs": [],
   "source": [
    "# General analysis settings\n",
    "region = \"wa\"\n",
    "year_start = 1983\n",
    "year_end = 2019\n",
    "window_size = 5\n",
    "months_wet = \"jja\"\n",
    "months_dry = \"djf\"\n",
    "hours_light = [8, 9, 10, 11, 12, 13, 14, 15]\n",
    "hours_night = [20, 21, 22, 23, 0, 1, 2, 3]\n",
    "perc = False\n",
    "mask_perc_quantile = pf.mask_perc_quantile_default\n",
    "mask_period1 = None\n",
    "mask_period2 = None\n",
    "extents = None\n",
    "cfv_data = None\n",
    "\n",
    "# Entire periods covered by AVHRR or MODIS data and for which there is FAPAR data\n",
    "period_start_avhrr = \"Jan-1982\"\n",
    "period_end_avhrr = \"Dec-2018\"\n",
    "period_start_modis = \"Jan-2001\"\n",
    "period_end_modis = \"Dec-2020\"\n",
    "\n",
    "# Periods with similar background atmospheric oscillations\n",
    "period1_mid_sim = \"Dec-1999\"\n",
    "period1_start_sim = \"Jun-1997\"\n",
    "period1_end_sim = \"May-2002\"\n",
    "period2_mid_sim = \"Mar-2013\"\n",
    "period2_start_sim = \"Sep-2010\"\n",
    "period2_end_sim = \"Aug-2015\"\n",
    "if (datetime.strptime(period1_start_sim, \"%b-%Y\") >= \n",
    "    datetime.strptime(cf.modis_earliest, \"%b-%Y\")):\n",
    "    glass_source_pref_sim = \"modis\"\n",
    "else:\n",
    "    glass_source_pref_sim = \"avhrr\"\n",
    "\n",
    "# # Periods with dissimilar background atmospheric oscillations\n",
    "# period1_mid_dis = \"Sep-1990\"\n",
    "# period1_start_dis = \"Mar-1988\"\n",
    "# period1_end_dis = \"Feb-1993\"\n",
    "# period2_mid_dis = \"Jul-2016\"\n",
    "# period2_start_dis = \"Jan-2014\"\n",
    "# period2_end_dis = \"Dec-2018\"\n",
    "# if (datetime.strptime(period1_start_dis, \"%b-%Y\") >= \n",
    "#     datetime.strptime(cf.modis_earliest, \"%b-%Y\")):\n",
    "#     glass_source_pref_dis = \"modis\"\n",
    "# else:\n",
    "#     glass_source_pref_dis = \"avhrr\"\n",
    "\n",
    "# # Single months with very dissimilar background atmospheric oscillations\n",
    "# month1_dis = \"Nov-1996\"\n",
    "# month2_dis = \"Sep-2015\"\n",
    "# if (datetime.strptime(month1_dis, \"%b-%Y\") >= \n",
    "#     datetime.strptime(cf.modis_earliest, \"%b-%Y\")):\n",
    "#     glass_source_pref_dis_month = \"modis\"\n",
    "# else:\n",
    "#     glass_source_pref_dis_month = \"avhrr\""
   ]
  },
  {
   "cell_type": "code",
   "execution_count": null,
   "id": "b0a9282e-4ddc-4d08-830a-324e6d63d5e4",
   "metadata": {},
   "outputs": [],
   "source": [
    "# # General analysis settings\n",
    "# region = \"ca\"\n",
    "# year_start = 1983\n",
    "# year_end = 2019\n",
    "# window_size = 5\n",
    "# months_wet = [5, 6, 7, 8, 9, 10]\n",
    "# months_dry = [11, 12, 1, 2, 3, 4]\n",
    "# hours_light = [8, 9, 10, 11, 12, 13, 14, 15]\n",
    "# hours_night = [20, 21, 22, 23, 0, 1, 2, 3]\n",
    "# perc = False\n",
    "# mask_perc_quantile = pf.mask_perc_quantile_default\n",
    "# mask_period1 = None\n",
    "# mask_period2 = None\n",
    "# extents = None\n",
    "# cfv_data = None\n",
    "\n",
    "# # Entire periods covered by AVHRR or MODIS data and for which there is FAPAR data\n",
    "# period_start_avhrr = \"Jan-1982\"\n",
    "# period_end_avhrr = \"Dec-2018\"\n",
    "# period_start_modis = \"Jan-2001\"\n",
    "# period_end_modis = \"Dec-2020\"\n",
    "\n",
    "# # Periods with similar background atmospheric oscillations\n",
    "# period1_mid_sim = \"Jul-2005\"\n",
    "# period1_start_sim = \"Jan-2003\"\n",
    "# period1_end_sim = \"Dec-2007\"\n",
    "# period2_mid_sim = \"Jul-2018\"\n",
    "# period2_start_sim = \"Jan-2016\"\n",
    "# period2_end_sim = \"Dec-2020\"\n",
    "# if (datetime.strptime(period1_start_sim, \"%b-%Y\") >= \n",
    "#     datetime.strptime(cf.modis_earliest, \"%b-%Y\")):\n",
    "#     glass_source_pref_sim = \"modis\"\n",
    "# else:\n",
    "#     glass_source_pref_sim = \"avhrr\"\n",
    "    \n",
    "# # # Periods with dissimilar background atmospheric oscillations\n",
    "# # period1_mid_dis = \"Mar-1985\"\n",
    "# # period1_start_dis = \"Sep-1982\"\n",
    "# # period1_end_dis = \"Aug-1987\"\n",
    "# # period2_mid_dis = \"Jul-2010\"\n",
    "# # period2_start_dis = \"Jan-2008\"\n",
    "# # period2_end_dis = \"Dec-2012\"\n",
    "# # if (datetime.strptime(period1_start_dis, \"%b-%Y\") >= \n",
    "# #     datetime.strptime(cf.modis_earliest, \"%b-%Y\")):\n",
    "# #     glass_source_pref_dis = \"modis\"\n",
    "# # else:\n",
    "# #     glass_source_pref_dis = \"avhrr\"\n",
    "\n",
    "# # # Single months with very dissimilar background atmospheric oscillations\n",
    "# # month1_dis = \"Nov-1996\"\n",
    "# # month2_dis = \"Sep-2015\"\n",
    "# # if (datetime.strptime(month1_dis, \"%b-%Y\") >= \n",
    "# #     datetime.strptime(cf.modis_earliest, \"%b-%Y\")):\n",
    "# #     glass_source_pref_dis_month = \"modis\"\n",
    "# # else:\n",
    "# #     glass_source_pref_dis_month = \"avhrr\""
   ]
  },
  {
   "cell_type": "code",
   "execution_count": null,
   "id": "18ecd0bf-8825-4a65-92ce-fc87bb5bcd37",
   "metadata": {},
   "outputs": [],
   "source": [
    "# # General analysis settings\n",
    "# region = \"sa\"\n",
    "# year_start = 1983\n",
    "# year_end = 2019\n",
    "# window_size = 5\n",
    "# months_wet = [1, 2, 3, 4, 5, 6]\n",
    "# months_dry = [7, 8, 9, 10, 11, 12]\n",
    "# hours_light = [8, 9, 10, 11, 12, 13, 14, 15]\n",
    "# hours_night = [20, 21, 22, 23, 0, 1, 2, 3]\n",
    "# perc = False\n",
    "# mask_perc_quantile = pf.mask_perc_quantile_default\n",
    "# mask_period1 = None\n",
    "# mask_period2 = None\n",
    "# extents = None\n",
    "# cfv_data = None\n",
    "\n",
    "# # Entire periods covered by AVHRR or MODIS data and for which there is FAPAR data\n",
    "# period_start_avhrr = \"Jan-1982\"\n",
    "# period_end_avhrr = \"Dec-2018\"\n",
    "# period_start_modis = \"Jan-2001\"\n",
    "# period_end_modis = \"Dec-2020\"\n",
    "\n",
    "# # Periods with similar background atmospheric oscillations\n",
    "# period1_mid_sim = \"Jul-2005\"\n",
    "# period1_start_sim = \"Jan-2003\"\n",
    "# period1_end_sim = \"Dec-2007\"\n",
    "# period2_mid_sim = \"Jul-2018\"\n",
    "# period2_start_sim = \"Jan-2016\"\n",
    "# period2_end_sim = \"Dec-2020\"\n",
    "# if (datetime.strptime(period1_start_sim, \"%b-%Y\") >= \n",
    "#     datetime.strptime(cf.modis_earliest, \"%b-%Y\")):\n",
    "#     glass_source_pref_sim = \"modis\"\n",
    "# else:\n",
    "#     glass_source_pref_sim = \"avhrr\"\n",
    "    \n",
    "# # # Periods with dissimilar background atmospheric oscillations\n",
    "# # period1_mid_dis = \"Mar-1985\"\n",
    "# # period1_start_dis = \"Sep-1982\"\n",
    "# # period1_end_dis = \"Aug-1987\"\n",
    "# # period2_mid_dis = \"Jul-2010\"\n",
    "# # period2_start_dis = \"Jan-2008\"\n",
    "# # period2_end_dis = \"Dec-2012\"\n",
    "# # if (datetime.strptime(period1_start_dis, \"%b-%Y\") >= \n",
    "# #     datetime.strptime(cf.modis_earliest, \"%b-%Y\")):\n",
    "# #     glass_source_pref_dis = \"modis\"\n",
    "# # else:\n",
    "# #     glass_source_pref_dis = \"avhrr\"\n",
    "\n",
    "# # # Single months with very dissimilar background atmospheric oscillations\n",
    "# # month1_dis = \"Nov-1996\"\n",
    "# # month2_dis = \"Sep-2015\"\n",
    "# # if (datetime.strptime(month1_dis, \"%b-%Y\") >= \n",
    "# #     datetime.strptime(cf.modis_earliest, \"%b-%Y\")):\n",
    "# #     glass_source_pref_dis_month = \"modis\"\n",
    "# # else:\n",
    "# #     glass_source_pref_dis_month = \"avhrr\""
   ]
  },
  {
   "cell_type": "code",
   "execution_count": null,
   "id": "decbfd28-494c-423e-a018-377903f8f3fa",
   "metadata": {},
   "outputs": [],
   "source": []
  },
  {
   "cell_type": "markdown",
   "id": "4deb12cb-39b9-45c1-890f-a9ec2e69aa56",
   "metadata": {
    "tags": []
   },
   "source": [
    "# Selection of periods for analysis"
   ]
  },
  {
   "cell_type": "markdown",
   "id": "63573b7a-5057-4218-9ef4-2f69da00cd5d",
   "metadata": {
    "tags": []
   },
   "source": [
    "## Years with extensive or concentrated leaf area index change\n",
    "\n",
    "5-year rolling averages are used to average out LAI changes from short-term climate fluctuations"
   ]
  },
  {
   "cell_type": "code",
   "execution_count": null,
   "id": "3b381c17-e69c-4652-afe8-02e99570509c",
   "metadata": {},
   "outputs": [],
   "source": [
    "# Plot the glass rolling avg files to identify years with significant LAI change \n",
    "# using AVHRR data\n",
    "pf.create_glass_rolling_plot(\n",
    "    region=region, year_start=year_start, year_end=year_end, period_months=\"all\", \n",
    "    window_size=window_size, param_glass_mean=\"mlai\", glass_source_pref=\"avhrr\", \n",
    "    extents=extents, vmin=None, vmax=None, cfv_data=cfv_data, output=True\n",
    ")"
   ]
  },
  {
   "cell_type": "code",
   "execution_count": null,
   "id": "8fcf6cab-f95c-41b5-b222-d4c068e5b744",
   "metadata": {},
   "outputs": [],
   "source": [
    "# Plot the glass rolling avg files to identify years with significant LAI change \n",
    "# using MODIS data\n",
    "pf.create_glass_rolling_plot(\n",
    "    region=region, year_start=year_start, year_end=year_end, period_months=\"all\", \n",
    "    window_size=window_size, param_glass_mean=\"mlai\", glass_source_pref=\"modis\", \n",
    "    extents=extents, vmin=None, vmax=None, cfv_data=cfv_data, output=True\n",
    ")"
   ]
  },
  {
   "cell_type": "code",
   "execution_count": null,
   "id": "2166d15f-e729-4d04-881c-c795092e5f35",
   "metadata": {},
   "outputs": [],
   "source": [
    "# Check the difference in MLAI for periods with similar background\n",
    "# atmospheric oscillations\n",
    "pf.create_individual_comp_plot(\n",
    "    calc_func=cf.calc_glass_mean_clim, region=region, \n",
    "    period1_start=period1_start_sim, period1_end=period1_end_sim, \n",
    "    period2_start=period2_start_sim, period2_end=period2_end_sim, \n",
    "    period1_months=\"all\", period2_months=\"all\", period1_hours=None, period2_hours=None,\n",
    "    arg_extra=\"mlai\", glass_source_pref=glass_source_pref_sim, \n",
    "    var_or_dvar=None, perc=perc, mask_perc_quantile=mask_perc_quantile, \n",
    "    mask_period1=mask_period1, mask_period2=mask_period2, extents=extents, \n",
    "    vmin_periods=None, vmax_periods=None, vmin_diff=None, vmax_diff=None, \n",
    "    ax_period1=None, ax_period2=None, ax_diff=None, cfv_data=cfv_data, output=True\n",
    ")"
   ]
  },
  {
   "cell_type": "code",
   "execution_count": null,
   "id": "7afe1b62-069a-465e-bfb6-3717e86a8c2c",
   "metadata": {},
   "outputs": [],
   "source": [
    "# # Check the difference in MLAI for periods with dissimilar background\n",
    "# # atmospheric oscillations\n",
    "# pf.create_individual_comp_plot(\n",
    "#     calc_func=cf.calc_glass_mean_clim, region=region, \n",
    "#     period1_start=period1_start_dis, period1_end=period1_end_dis, \n",
    "#     period2_start=period2_start_dis, period2_end=period2_end_dis, \n",
    "#     period1_months=\"all\", period2_months=\"all\", period1_hours=None, period2_hours=None,\n",
    "#     arg_extra=\"mlai\", glass_source_pref=glass_source_pref_dis, \n",
    "#     var_or_dvar=None, perc=perc, mask_perc_quantile=mask_perc_quantile, \n",
    "#     mask_period1=mask_period1, mask_period2=mask_period2, extents=extents, \n",
    "#     vmin_periods=None, vmax_periods=None, vmin_diff=None, vmax_diff=None, \n",
    "#     ax_period1=None, ax_period2=None, ax_diff=None, cfv_data=cfv_data, output=True\n",
    "# )"
   ]
  },
  {
   "cell_type": "code",
   "execution_count": null,
   "id": "36cc1b49-63e2-4dc9-ae91-f23b1cd2179a",
   "metadata": {},
   "outputs": [],
   "source": []
  },
  {
   "cell_type": "markdown",
   "id": "c4b102c0-669e-4622-a8cf-989816ecb66e",
   "metadata": {
    "tags": []
   },
   "source": [
    "## Periods with similar / dissimilar background atmospheric oscillations\n",
    "\n",
    "Criteria for selection of periods:\n",
    "\n",
    "- 5-year rolling averages for relevant climate indices were similar / dissimilar\n",
    "- Change in leaf area index between the periods was extensive\n",
    "- Periods cover a similar / dissimilar amount of time spent in La Nina / El Nino (where relevant) and Negative / Positive Indian Ocean Dipole (where relevant)\n",
    "- Monthly values for relevant climate indices over each period display a similar / dissimilar time evolution pattern\n",
    "- For WA, relevant indices are AAOI and DMI\n",
    "- For CA and SA, relevant indices are AMOI, PDOI and ONI"
   ]
  },
  {
   "cell_type": "code",
   "execution_count": null,
   "id": "7fba0d23-ef84-4aee-bdaf-45d73777961c",
   "metadata": {},
   "outputs": [],
   "source": [
    "# Create climate indices plot to help select periods with similar background \n",
    "# atmospheric oscillations\n",
    "pf.create_climate_indices_plot(\n",
    "    year_start=year_start, year_end=year_end, window_size=window_size, \n",
    "    period1_mid=period1_mid_sim, period2_mid=period2_mid_sim, \n",
    "    month1_mark=None, month2_mark=None, \n",
    "    cfv_data=cfv_data, output=True\n",
    ")"
   ]
  },
  {
   "cell_type": "code",
   "execution_count": null,
   "id": "e0efef61-6f04-4cea-88d8-5952f3d42132",
   "metadata": {},
   "outputs": [],
   "source": [
    "# # Create climate indices plot to help select periods with dissimilar background \n",
    "# # atmospheric oscillations\n",
    "# pf.create_climate_indices_plot(\n",
    "#     year_start=year_start, year_end=year_end, window_size=window_size, \n",
    "#     period1_mid=period1_mid_dis, period2_mid=period2_mid_dis, \n",
    "#     # month1_mark=month1_dis, month2_mark=month2_dis, \n",
    "#     cfv_data=cfv_data, output=True\n",
    "# )"
   ]
  },
  {
   "cell_type": "code",
   "execution_count": null,
   "id": "14eadd0e-3bcf-4445-92b2-37568754e778",
   "metadata": {},
   "outputs": [],
   "source": []
  },
  {
   "cell_type": "markdown",
   "id": "4f603b70-712e-4918-bf5a-9aa76c64c796",
   "metadata": {
    "tags": []
   },
   "source": [
    "# Create all output plot files"
   ]
  },
  {
   "cell_type": "markdown",
   "id": "7b00af8b-2a48-46be-9e76-0714fa18a0dd",
   "metadata": {
    "tags": []
   },
   "source": [
    "## Static plots"
   ]
  },
  {
   "cell_type": "code",
   "execution_count": null,
   "id": "d22dfa29-cffc-490d-b1c5-010bbb34fab6",
   "metadata": {},
   "outputs": [],
   "source": [
    "# Create climate indices plot with no labels\n",
    "pf.create_climate_indices_plot(\n",
    "    year_start=year_start, year_end=year_end, window_size=window_size, \n",
    "    period1_mid=None, period2_mid=None, month1_mark=None, month2_mark=None, \n",
    "    cfv_data=cfv_data, output=True\n",
    ")"
   ]
  },
  {
   "cell_type": "code",
   "execution_count": null,
   "id": "0f7582eb-af94-439e-98b0-26bc389bb8c7",
   "metadata": {},
   "outputs": [],
   "source": [
    "# Combined plot for orography of each region\n",
    "pf.create_comb_orog_static_plot(cfv_data=cfv_data, output=True)"
   ]
  },
  {
   "cell_type": "code",
   "execution_count": null,
   "id": "9f1b752b-bde3-4f16-bfb0-69e446b5c35b",
   "metadata": {},
   "outputs": [],
   "source": [
    "# Plot for land surface elevation\n",
    "pf.create_orog_static_plot(\n",
    "    param_orog=\"lse\", region=region, extents=extents, vmin=None, vmax=None, \n",
    "    ax=None, cfv_data=cfv_data, output=True\n",
    ")"
   ]
  },
  {
   "cell_type": "code",
   "execution_count": null,
   "id": "fd9f0854-5ffa-4ef8-8f02-2600c403f6a4",
   "metadata": {},
   "outputs": [],
   "source": [
    "# Plot for slope of sub-gridscale orography\n",
    "pf.create_orog_static_plot(\n",
    "    param_orog=\"ssgo\", region=region, extents=extents, vmin=None, vmax=None, \n",
    "    ax=None, cfv_data=cfv_data, output=True\n",
    ")"
   ]
  },
  {
   "cell_type": "code",
   "execution_count": null,
   "id": "a1e4481c-24e0-48b1-b131-c62eb7ac4d78",
   "metadata": {},
   "outputs": [],
   "source": []
  },
  {
   "cell_type": "markdown",
   "id": "c4e672ce-3c0d-4d21-a919-63191848f03b",
   "metadata": {
    "tags": []
   },
   "source": [
    "## Entire modis period"
   ]
  },
  {
   "cell_type": "markdown",
   "id": "d8c8f780-6c99-4511-99a9-a272055e7342",
   "metadata": {
    "tags": []
   },
   "source": [
    "### Entire modis period, wet vs dry months"
   ]
  },
  {
   "cell_type": "markdown",
   "id": "cba3448c-3a75-4a4c-87c6-19c953eff4a7",
   "metadata": {
    "tags": []
   },
   "source": [
    "#### Entire modis period, wet vs dry months, all hours"
   ]
  },
  {
   "cell_type": "code",
   "execution_count": null,
   "id": "f55a807f-6b45-4e8c-bf44-285e72d87fb8",
   "metadata": {},
   "outputs": [],
   "source": [
    "pf.create_all_possible_comp_plot_files(\n",
    "    region=region, period1_start=period_start_modis, period1_end=period_end_modis, \n",
    "    period2_start=period_start_modis, period2_end=period_end_modis, \n",
    "    period1_months=months_wet, period2_months=months_dry, \n",
    "    period1_hours=\"all\", period2_hours=\"all\",\n",
    "    glass_source_pref=\"modis\", \n",
    "    perc=perc, mask_perc_quantile=mask_perc_quantile, \n",
    "    mask_period1=mask_period1, mask_period2=mask_period2, \n",
    "    extents=extents, cfv_data=cfv_data\n",
    ")"
   ]
  },
  {
   "cell_type": "markdown",
   "id": "8ce9a50c-7f3b-4285-8256-d2e907a22282",
   "metadata": {},
   "source": [
    "#### Entire modis period, wet vs dry months, day hours"
   ]
  },
  {
   "cell_type": "code",
   "execution_count": null,
   "id": "db0f621c-dd0f-4eba-83a6-5e9a1ccfcf7f",
   "metadata": {},
   "outputs": [],
   "source": [
    "pf.create_all_possible_comp_plot_files(\n",
    "    region=region, period1_start=period_start_modis, period1_end=period_end_modis, \n",
    "    period2_start=period_start_modis, period2_end=period_end_modis, \n",
    "    period1_months=months_wet, period2_months=months_dry, \n",
    "    period1_hours=hours_light, period2_hours=hours_light,\n",
    "    glass_source_pref=\"modis\", \n",
    "    perc=perc, mask_perc_quantile=mask_perc_quantile, \n",
    "    mask_period1=mask_period1, mask_period2=mask_period2, \n",
    "    extents=extents, cfv_data=cfv_data\n",
    ")"
   ]
  },
  {
   "cell_type": "markdown",
   "id": "1e1d1fcf-0e9f-42b7-8836-12749caa377f",
   "metadata": {},
   "source": [
    "#### Entire modis period, wet vs dry months, night hours"
   ]
  },
  {
   "cell_type": "code",
   "execution_count": null,
   "id": "b88a3185-4f33-4380-be61-8d7e91335bd2",
   "metadata": {},
   "outputs": [],
   "source": [
    "pf.create_all_possible_comp_plot_files(\n",
    "    region=region, period1_start=period_start_modis, period1_end=period_end_modis, \n",
    "    period2_start=period_start_modis, period2_end=period_end_modis, \n",
    "    period1_months=months_wet, period2_months=months_dry, \n",
    "    period1_hours=hours_night, period2_hours=hours_night,\n",
    "    glass_source_pref=\"modis\", \n",
    "    perc=perc, mask_perc_quantile=mask_perc_quantile, \n",
    "    mask_period1=mask_period1, mask_period2=mask_period2, \n",
    "    extents=extents, cfv_data=cfv_data\n",
    ")"
   ]
  },
  {
   "cell_type": "markdown",
   "id": "b4a28150-0354-464d-acdf-fec09ceea5e3",
   "metadata": {
    "tags": []
   },
   "source": [
    "### Entire modis period, day vs night hours"
   ]
  },
  {
   "cell_type": "markdown",
   "id": "668e8834-e27b-4935-a0af-6ebfb8c84b82",
   "metadata": {
    "tags": []
   },
   "source": [
    "#### Entire modis period, day vs night hours, all months"
   ]
  },
  {
   "cell_type": "code",
   "execution_count": null,
   "id": "a6c00653-c82b-444e-bdbc-d1170ed92dc0",
   "metadata": {},
   "outputs": [],
   "source": [
    "pf.create_all_possible_comp_plot_files(\n",
    "    region=region, period1_start=period_start_modis, period1_end=period_end_modis, \n",
    "    period2_start=period_start_modis, period2_end=period_end_modis, \n",
    "    period1_months=\"all\", period2_months=\"all\", \n",
    "    period1_hours=hours_light, period2_hours=hours_night,\n",
    "    glass_source_pref=\"modis\", \n",
    "    perc=perc, mask_perc_quantile=mask_perc_quantile, \n",
    "    mask_period1=mask_period1, mask_period2=mask_period2, \n",
    "    extents=extents, cfv_data=cfv_data\n",
    ")"
   ]
  },
  {
   "cell_type": "markdown",
   "id": "f64b57cd-a42f-4ba6-bed5-1951d49de867",
   "metadata": {},
   "source": [
    "#### Entire modis period, day vs night hours, wet months"
   ]
  },
  {
   "cell_type": "code",
   "execution_count": null,
   "id": "63e09b33-1aa2-4e42-b65b-133579434f51",
   "metadata": {},
   "outputs": [],
   "source": [
    "pf.create_all_possible_comp_plot_files(\n",
    "    region=region, period1_start=period_start_modis, period1_end=period_end_modis, \n",
    "    period2_start=period_start_modis, period2_end=period_end_modis, \n",
    "    period1_months=months_wet, period2_months=months_wet, \n",
    "    period1_hours=hours_light, period2_hours=hours_night,\n",
    "    glass_source_pref=\"modis\", \n",
    "    perc=perc, mask_perc_quantile=mask_perc_quantile, \n",
    "    mask_period1=mask_period1, mask_period2=mask_period2, \n",
    "    extents=extents, cfv_data=cfv_data\n",
    ")"
   ]
  },
  {
   "cell_type": "markdown",
   "id": "a66e3974-fb1d-4c7b-adc4-d0b569e0169c",
   "metadata": {},
   "source": [
    "#### Entire modis period, day vs night hours, dry months"
   ]
  },
  {
   "cell_type": "code",
   "execution_count": null,
   "id": "cfc2d35a-91ef-4fa6-abdd-edf8c4813036",
   "metadata": {},
   "outputs": [],
   "source": [
    "pf.create_all_possible_comp_plot_files(\n",
    "    region=region, period1_start=period_start_modis, period1_end=period_end_modis, \n",
    "    period2_start=period_start_modis, period2_end=period_end_modis, \n",
    "    period1_months=months_dry, period2_months=months_dry, \n",
    "    period1_hours=hours_light, period2_hours=hours_night,\n",
    "    glass_source_pref=\"modis\", \n",
    "    perc=perc, mask_perc_quantile=mask_perc_quantile, \n",
    "    mask_period1=mask_period1, mask_period2=mask_period2, \n",
    "    extents=extents, cfv_data=cfv_data\n",
    ")"
   ]
  },
  {
   "cell_type": "code",
   "execution_count": null,
   "id": "318e401e-9a5e-4e21-8c37-993d862e858a",
   "metadata": {},
   "outputs": [],
   "source": []
  },
  {
   "cell_type": "markdown",
   "id": "b5348e9f-2747-4b5b-9c42-a4f6c9fc6b57",
   "metadata": {
    "tags": []
   },
   "source": [
    "## Similar periods"
   ]
  },
  {
   "cell_type": "markdown",
   "id": "7a2b2426-8258-4e2d-8807-d2ececf0415f",
   "metadata": {
    "tags": []
   },
   "source": [
    "### Similar periods, wet months"
   ]
  },
  {
   "cell_type": "markdown",
   "id": "dada6995-2a61-4fb3-9a32-c167acb631ff",
   "metadata": {
    "tags": []
   },
   "source": [
    "#### Similar periods, wet months, all hours"
   ]
  },
  {
   "cell_type": "code",
   "execution_count": null,
   "id": "e2a2957d-6b1b-47ff-8160-866d311ad778",
   "metadata": {},
   "outputs": [],
   "source": [
    "pf.create_all_possible_comp_plot_files(\n",
    "    region=region, period1_start=period1_start_sim, period1_end=period1_end_sim, \n",
    "    period2_start=period2_start_sim, period2_end=period2_end_sim, \n",
    "    period1_months=months_wet, period2_months=months_wet, \n",
    "    period1_hours=\"all\", period2_hours=\"all\",\n",
    "    glass_source_pref=glass_source_pref_sim, \n",
    "    perc=perc, mask_perc_quantile=mask_perc_quantile, \n",
    "    mask_period1=mask_period1, mask_period2=mask_period2, \n",
    "    extents=extents, cfv_data=cfv_data\n",
    ")"
   ]
  },
  {
   "cell_type": "markdown",
   "id": "b7daf20b-8672-40bb-8708-b2f0892c3db8",
   "metadata": {
    "tags": []
   },
   "source": [
    "#### Similar periods, wet months, day hours"
   ]
  },
  {
   "cell_type": "code",
   "execution_count": null,
   "id": "a607ace8-1db7-4257-86f7-e978767e7f55",
   "metadata": {},
   "outputs": [],
   "source": [
    "pf.create_all_possible_comp_plot_files(\n",
    "    region=region, period1_start=period1_start_sim, period1_end=period1_end_sim, \n",
    "    period2_start=period2_start_sim, period2_end=period2_end_sim, \n",
    "    period1_months=months_wet, period2_months=months_wet, \n",
    "    period1_hours=hours_light, period2_hours=hours_light,\n",
    "    glass_source_pref=glass_source_pref_sim, \n",
    "    perc=perc, mask_perc_quantile=mask_perc_quantile, \n",
    "    mask_period1=mask_period1, mask_period2=mask_period2, \n",
    "    extents=extents, cfv_data=cfv_data\n",
    ")"
   ]
  },
  {
   "cell_type": "markdown",
   "id": "ec01f46d-4787-4e0e-b6de-d57103eb10d3",
   "metadata": {},
   "source": [
    "#### Similar periods, wet months, night hours"
   ]
  },
  {
   "cell_type": "code",
   "execution_count": null,
   "id": "86f2f95d-e11b-43b8-983a-0a9d7b98c236",
   "metadata": {},
   "outputs": [],
   "source": [
    "pf.create_all_possible_comp_plot_files(\n",
    "    region=region, period1_start=period1_start_sim, period1_end=period1_end_sim, \n",
    "    period2_start=period2_start_sim, period2_end=period2_end_sim, \n",
    "    period1_months=months_wet, period2_months=months_wet, \n",
    "    period1_hours=hours_night, period2_hours=hours_night,\n",
    "    glass_source_pref=glass_source_pref_sim, \n",
    "    perc=perc, mask_perc_quantile=mask_perc_quantile, \n",
    "    mask_period1=mask_period1, mask_period2=mask_period2, \n",
    "    extents=extents, cfv_data=cfv_data\n",
    ")"
   ]
  },
  {
   "cell_type": "markdown",
   "id": "a3b86c06-99ca-40d4-8ae8-e9d8a869cf5a",
   "metadata": {
    "tags": []
   },
   "source": [
    "### Similar periods, dry months"
   ]
  },
  {
   "cell_type": "markdown",
   "id": "2c25a27f-5f24-4bea-82af-35ab243eebad",
   "metadata": {
    "tags": []
   },
   "source": [
    "#### Similar periods, dry months, all hours"
   ]
  },
  {
   "cell_type": "code",
   "execution_count": null,
   "id": "e46cddf0-bf82-46a8-8867-acf75a3944a9",
   "metadata": {},
   "outputs": [],
   "source": [
    "pf.create_all_possible_comp_plot_files(\n",
    "    region=region, period1_start=period1_start_sim, period1_end=period1_end_sim, \n",
    "    period2_start=period2_start_sim, period2_end=period2_end_sim, \n",
    "    period1_months=months_dry, period2_months=months_dry, \n",
    "    period1_hours=\"all\", period2_hours=\"all\",\n",
    "    glass_source_pref=glass_source_pref_sim, \n",
    "    perc=perc, mask_perc_quantile=mask_perc_quantile, \n",
    "    mask_period1=mask_period1, mask_period2=mask_period2, \n",
    "    extents=extents, cfv_data=cfv_data\n",
    ")"
   ]
  },
  {
   "cell_type": "markdown",
   "id": "d9727669-5f79-40fb-b44b-b9e074875b70",
   "metadata": {
    "tags": []
   },
   "source": [
    "#### Similar periods, dry months, day hours"
   ]
  },
  {
   "cell_type": "code",
   "execution_count": null,
   "id": "2c4cfec2-8630-4827-9b31-a5bb68fea74c",
   "metadata": {},
   "outputs": [],
   "source": [
    "pf.create_all_possible_comp_plot_files(\n",
    "    region=region, period1_start=period1_start_sim, period1_end=period1_end_sim, \n",
    "    period2_start=period2_start_sim, period2_end=period2_end_sim, \n",
    "    period1_months=months_dry, period2_months=months_dry, \n",
    "    period1_hours=hours_light, period2_hours=hours_light,\n",
    "    glass_source_pref=glass_source_pref_sim, \n",
    "    perc=perc, mask_perc_quantile=mask_perc_quantile, \n",
    "    mask_period1=mask_period1, mask_period2=mask_period2, \n",
    "    extents=extents, cfv_data=cfv_data\n",
    ")"
   ]
  },
  {
   "cell_type": "markdown",
   "id": "96df8e3c-3ad0-4049-a473-5c65e88432c1",
   "metadata": {},
   "source": [
    "#### Similar periods, dry months, night hours"
   ]
  },
  {
   "cell_type": "code",
   "execution_count": null,
   "id": "cde8595c-bad7-46e3-a082-c7901e22a344",
   "metadata": {},
   "outputs": [],
   "source": [
    "pf.create_all_possible_comp_plot_files(\n",
    "    region=region, period1_start=period1_start_sim, period1_end=period1_end_sim, \n",
    "    period2_start=period2_start_sim, period2_end=period2_end_sim, \n",
    "    period1_months=months_dry, period2_months=months_dry, \n",
    "    period1_hours=hours_night, period2_hours=hours_night,\n",
    "    glass_source_pref=glass_source_pref_sim, \n",
    "    perc=perc, mask_perc_quantile=mask_perc_quantile, \n",
    "    mask_period1=mask_period1, mask_period2=mask_period2, \n",
    "    extents=extents, cfv_data=cfv_data\n",
    ")"
   ]
  },
  {
   "cell_type": "code",
   "execution_count": null,
   "id": "47e910c3-1a6d-46f4-8e87-80551e2b4436",
   "metadata": {},
   "outputs": [],
   "source": []
  },
  {
   "cell_type": "markdown",
   "id": "6f52e981-902c-4583-93ed-45c16a9ea16b",
   "metadata": {
    "tags": []
   },
   "source": [
    "## Entire avhrr period"
   ]
  },
  {
   "cell_type": "markdown",
   "id": "f21d429b-112f-4d3d-a491-4ab4a3eab07e",
   "metadata": {},
   "source": [
    "### Entire avhrr period, wet vs dry months"
   ]
  },
  {
   "cell_type": "markdown",
   "id": "4a7c6c46-d055-4521-9e25-202e4e8d20a2",
   "metadata": {},
   "source": [
    "#### Entire avhrr period, wet vs dry months, all hours"
   ]
  },
  {
   "cell_type": "code",
   "execution_count": null,
   "id": "d4789a15-ec2a-41ab-9dc5-4aafa5dc6d88",
   "metadata": {},
   "outputs": [],
   "source": [
    "# pf.create_all_possible_comp_plot_files(\n",
    "#     region=region, period1_start=period_start_avhrr, period1_end=period_end_avhrr, \n",
    "#     period2_start=period_start_avhrr, period2_end=period_end_avhrr, \n",
    "#     period1_months=months_wet, period2_months=months_dry, \n",
    "#     period1_hours=\"all\", period2_hours=\"all\",\n",
    "#     glass_source_pref=\"avhrr\", \n",
    "#     perc=perc, mask_perc_quantile=mask_perc_quantile, \n",
    "#     mask_period1=mask_period1, mask_period2=mask_period2, \n",
    "#     extents=extents, cfv_data=cfv_data\n",
    "# )"
   ]
  },
  {
   "cell_type": "markdown",
   "id": "a50cbdc1-a88d-4b79-9b7c-d11613ad2264",
   "metadata": {},
   "source": [
    "#### Entire avhrr period, wet vs dry months, day hours"
   ]
  },
  {
   "cell_type": "code",
   "execution_count": null,
   "id": "5b01cc0b-30f8-4c0a-a101-9cbf5f1bd3b8",
   "metadata": {},
   "outputs": [],
   "source": [
    "# pf.create_all_possible_comp_plot_files(\n",
    "#     region=region, period1_start=period_start_avhrr, period1_end=period_end_avhrr, \n",
    "#     period2_start=period_start_avhrr, period2_end=period_end_avhrr, \n",
    "#     period1_months=months_wet, period2_months=months_dry, \n",
    "#     period1_hours=hours_light, period2_hours=hours_light,\n",
    "#     glass_source_pref=\"avhrr\", \n",
    "#     perc=perc, mask_perc_quantile=mask_perc_quantile, \n",
    "#     mask_period1=mask_period1, mask_period2=mask_period2, \n",
    "#     extents=extents, cfv_data=cfv_data\n",
    "# )"
   ]
  },
  {
   "cell_type": "markdown",
   "id": "6a92e413-e1ec-44cb-ac63-bc60bb9b4f51",
   "metadata": {},
   "source": [
    "#### Entire avhrr period, wet vs dry months, night hours"
   ]
  },
  {
   "cell_type": "code",
   "execution_count": null,
   "id": "afff4704-b3dd-4436-9e6f-169a42f6a14e",
   "metadata": {},
   "outputs": [],
   "source": [
    "# pf.create_all_possible_comp_plot_files(\n",
    "#     region=region, period1_start=period_start_avhrr, period1_end=period_end_avhrr, \n",
    "#     period2_start=period_start_avhrr, period2_end=period_end_avhrr, \n",
    "#     period1_months=months_wet, period2_months=months_dry, \n",
    "#     period1_hours=hours_night, period2_hours=hours_night,\n",
    "#     glass_source_pref=\"avhrr\", \n",
    "#     perc=perc, mask_perc_quantile=mask_perc_quantile, \n",
    "#     mask_period1=mask_period1, mask_period2=mask_period2, \n",
    "#     extents=extents, cfv_data=cfv_data\n",
    "# )"
   ]
  },
  {
   "cell_type": "markdown",
   "id": "328e3dbc-0721-4c85-b547-b2732a46f784",
   "metadata": {},
   "source": [
    "### Entire avhrr period, day vs night hours"
   ]
  },
  {
   "cell_type": "markdown",
   "id": "2c525c63-bf8c-4044-9893-28244cc8feb1",
   "metadata": {
    "tags": []
   },
   "source": [
    "#### Entire avhrr period, day vs night hours, all months"
   ]
  },
  {
   "cell_type": "code",
   "execution_count": null,
   "id": "e22f0a2b-b28f-4658-8a85-f7dd56d50ed5",
   "metadata": {},
   "outputs": [],
   "source": [
    "# pf.create_all_possible_comp_plot_files(\n",
    "#     region=region, period1_start=period_start_avhrr, period1_end=period_end_avhrr, \n",
    "#     period2_start=period_start_avhrr, period2_end=period_end_avhrr, \n",
    "#     period1_months=\"all\", period2_months=\"all\", \n",
    "#     period1_hours=hours_light, period2_hours=hours_night,\n",
    "#     glass_source_pref=\"avhrr\", \n",
    "#     perc=perc, mask_perc_quantile=mask_perc_quantile, \n",
    "#     mask_period1=mask_period1, mask_period2=mask_period2, \n",
    "#     extents=extents, cfv_data=cfv_data\n",
    "# )"
   ]
  },
  {
   "cell_type": "markdown",
   "id": "6484727d-b0f1-44e0-879c-211511a29993",
   "metadata": {},
   "source": [
    "#### Entire avhrr period, day vs night hours, wet months"
   ]
  },
  {
   "cell_type": "code",
   "execution_count": null,
   "id": "8deb0d69-ca8a-4c12-8405-3461d488f784",
   "metadata": {},
   "outputs": [],
   "source": [
    "# pf.create_all_possible_comp_plot_files(\n",
    "#     region=region, period1_start=period_start_avhrr, period1_end=period_end_avhrr, \n",
    "#     period2_start=period_start_avhrr, period2_end=period_end_avhrr, \n",
    "#     period1_months=months_wet, period2_months=months_wet, \n",
    "#     period1_hours=hours_light, period2_hours=hours_night,\n",
    "#     glass_source_pref=\"avhrr\", \n",
    "#     perc=perc, mask_perc_quantile=mask_perc_quantile, \n",
    "#     mask_period1=mask_period1, mask_period2=mask_period2, \n",
    "#     extents=extents, cfv_data=cfv_data\n",
    "# )"
   ]
  },
  {
   "cell_type": "markdown",
   "id": "a1896b54-93c4-4c62-b927-170f80d98fc6",
   "metadata": {},
   "source": [
    "#### Entire avhrr period, day vs night hours, dry months"
   ]
  },
  {
   "cell_type": "code",
   "execution_count": null,
   "id": "4d816f98-f967-41db-bec3-caab48c71aa3",
   "metadata": {},
   "outputs": [],
   "source": [
    "# pf.create_all_possible_comp_plot_files(\n",
    "#     region=region, period1_start=period_start_avhrr, period1_end=period_end_avhrr, \n",
    "#     period2_start=period_start_avhrr, period2_end=period_end_avhrr, \n",
    "#     period1_months=months_dry, period2_months=months_dry, \n",
    "#     period1_hours=hours_light, period2_hours=hours_night,\n",
    "#     glass_source_pref=\"avhrr\", \n",
    "#     perc=perc, mask_perc_quantile=mask_perc_quantile, \n",
    "#     mask_period1=mask_period1, mask_period2=mask_period2, \n",
    "#     extents=extents, cfv_data=cfv_data\n",
    "# )"
   ]
  },
  {
   "cell_type": "code",
   "execution_count": null,
   "id": "a4a7fe22-906a-4538-b3d4-0fea8ab0f4b5",
   "metadata": {},
   "outputs": [],
   "source": []
  },
  {
   "cell_type": "markdown",
   "id": "6472059c-7c49-4c40-b232-553a5babbaa2",
   "metadata": {
    "tags": []
   },
   "source": [
    "## Dissimilar periods"
   ]
  },
  {
   "cell_type": "markdown",
   "id": "520b11b2-09ce-4358-acc5-010a92586d7d",
   "metadata": {
    "tags": []
   },
   "source": [
    "### Dissimilar periods, wet months"
   ]
  },
  {
   "cell_type": "markdown",
   "id": "9800a6fe-25bc-4d3c-90c6-a3d732128a77",
   "metadata": {
    "tags": []
   },
   "source": [
    "#### Dissimilar periods, wet months, all hours"
   ]
  },
  {
   "cell_type": "code",
   "execution_count": null,
   "id": "2b0ecfa6-186d-4134-90ae-54571a082147",
   "metadata": {},
   "outputs": [],
   "source": [
    "# pf.create_all_possible_comp_plot_files(\n",
    "#     region=region, period1_start=period1_start_dis, period1_end=period1_end_dis, \n",
    "#     period2_start=period2_start_dis, period2_end=period2_end_dis, \n",
    "#     period1_months=months_wet, period2_months=months_wet, \n",
    "#     period1_hours=\"all\", period2_hours=\"all\",\n",
    "#     glass_source_pref=glass_source_pref_dis, \n",
    "#     perc=perc, mask_perc_quantile=mask_perc_quantile, \n",
    "#     mask_period1=mask_period1, mask_period2=mask_period2, \n",
    "#     extents=extents, cfv_data=cfv_data\n",
    "# )"
   ]
  },
  {
   "cell_type": "markdown",
   "id": "ef86cefe-1caa-4512-934d-79ef127bffcc",
   "metadata": {
    "tags": []
   },
   "source": [
    "#### Dissimilar periods, wet months, day hours"
   ]
  },
  {
   "cell_type": "code",
   "execution_count": null,
   "id": "4b0d3b15-5356-436d-9f4a-ad324935b78c",
   "metadata": {},
   "outputs": [],
   "source": [
    "# pf.create_all_possible_comp_plot_files(\n",
    "#     region=region, period1_start=period1_start_dis, period1_end=period1_end_dis, \n",
    "#     period2_start=period2_start_dis, period2_end=period2_end_dis, \n",
    "#     period1_months=months_wet, period2_months=months_wet, \n",
    "#     period1_hours=hours_light, period2_hours=hours_light,\n",
    "#     glass_source_pref=glass_source_pref_dis, \n",
    "#     perc=perc, mask_perc_quantile=mask_perc_quantile, \n",
    "#     mask_period1=mask_period1, mask_period2=mask_period2, \n",
    "#     extents=extents, cfv_data=cfv_data\n",
    "# )"
   ]
  },
  {
   "cell_type": "markdown",
   "id": "5259b6da-999d-4f69-b85b-f5daecfa8ee7",
   "metadata": {},
   "source": [
    "#### Dissimilar periods, wet months, night hours"
   ]
  },
  {
   "cell_type": "code",
   "execution_count": null,
   "id": "b435b6c6-549a-41d1-8148-ddb2ebfe7ff6",
   "metadata": {},
   "outputs": [],
   "source": [
    "# pf.create_all_possible_comp_plot_files(\n",
    "#     region=region, period1_start=period1_start_dis, period1_end=period1_end_dis, \n",
    "#     period2_start=period2_start_dis, period2_end=period2_end_dis, \n",
    "#     period1_months=months_wet, period2_months=months_wet, \n",
    "#     period1_hours=hours_night, period2_hours=hours_night,\n",
    "#     glass_source_pref=glass_source_pref_dis, \n",
    "#     perc=perc, mask_perc_quantile=mask_perc_quantile, \n",
    "#     mask_period1=mask_period1, mask_period2=mask_period2, \n",
    "#     extents=extents, cfv_data=cfv_data\n",
    "# )"
   ]
  },
  {
   "cell_type": "markdown",
   "id": "4f4aaf0e-9d96-41c7-bbfc-61143c4d6e5d",
   "metadata": {
    "tags": []
   },
   "source": [
    "### Dissimilar periods, dry months"
   ]
  },
  {
   "cell_type": "markdown",
   "id": "dd640e67-a296-4028-8a17-a42ff5341b82",
   "metadata": {
    "tags": []
   },
   "source": [
    "#### Dissimilar periods, dry months, all hours"
   ]
  },
  {
   "cell_type": "code",
   "execution_count": null,
   "id": "735467bf-dd33-4d5d-b0fa-8604ff072536",
   "metadata": {},
   "outputs": [],
   "source": [
    "# pf.create_all_possible_comp_plot_files(\n",
    "#     region=region, period1_start=period1_start_dis, period1_end=period1_end_dis, \n",
    "#     period2_start=period2_start_dis, period2_end=period2_end_dis, \n",
    "#     period1_months=months_dry, period2_months=months_dry, \n",
    "#     period1_hours=\"all\", period2_hours=\"all\",\n",
    "#     glass_source_pref=glass_source_pref_dis, \n",
    "#     perc=perc, mask_perc_quantile=mask_perc_quantile, \n",
    "#     mask_period1=mask_period1, mask_period2=mask_period2, \n",
    "#     extents=extents, cfv_data=cfv_data\n",
    "# )"
   ]
  },
  {
   "cell_type": "markdown",
   "id": "be93f452-0aa0-4295-8dd8-23b166eacb8c",
   "metadata": {
    "tags": []
   },
   "source": [
    "#### Dissimilar periods, dry months, day hours"
   ]
  },
  {
   "cell_type": "code",
   "execution_count": null,
   "id": "2be3b3e7-3db3-4860-aa7e-893c89812e4d",
   "metadata": {},
   "outputs": [],
   "source": [
    "# pf.create_all_possible_comp_plot_files(\n",
    "#     region=region, period1_start=period1_start_dis, period1_end=period1_end_dis, \n",
    "#     period2_start=period2_start_dis, period2_end=period2_end_dis, \n",
    "#     period1_months=months_dry, period2_months=months_dry, \n",
    "#     period1_hours=hours_light, period2_hours=hours_light,\n",
    "#     glass_source_pref=glass_source_pref_dis, \n",
    "#     perc=perc, mask_perc_quantile=mask_perc_quantile, \n",
    "#     mask_period1=mask_period1, mask_period2=mask_period2, \n",
    "#     extents=extents, cfv_data=cfv_data\n",
    "# )"
   ]
  },
  {
   "cell_type": "markdown",
   "id": "0b87b11f-a8c7-4e0b-9d5f-0aed43c603a0",
   "metadata": {},
   "source": [
    "#### Dissimilar periods, dry months, night hours"
   ]
  },
  {
   "cell_type": "code",
   "execution_count": null,
   "id": "c689f158-26c4-481c-88f5-5221f17aa01d",
   "metadata": {},
   "outputs": [],
   "source": [
    "# pf.create_all_possible_comp_plot_files(\n",
    "#     region=region, period1_start=period1_start_dis, period1_end=period1_end_dis, \n",
    "#     period2_start=period2_start_dis, period2_end=period2_end_dis, \n",
    "#     period1_months=months_dry, period2_months=months_dry, \n",
    "#     period1_hours=hours_night, period2_hours=hours_night,\n",
    "#     glass_source_pref=glass_source_pref_dis, \n",
    "#     perc=perc, mask_perc_quantile=mask_perc_quantile, \n",
    "#     mask_period1=mask_period1, mask_period2=mask_period2, \n",
    "#     extents=extents, cfv_data=cfv_data\n",
    "# )"
   ]
  },
  {
   "cell_type": "code",
   "execution_count": null,
   "id": "3ac7bd63-2e21-4aab-82e2-0eeefc32c564",
   "metadata": {},
   "outputs": [],
   "source": []
  },
  {
   "cell_type": "markdown",
   "id": "f83dab9c-71fd-4224-9de6-d099b1b3bad4",
   "metadata": {
    "tags": []
   },
   "source": [
    "# Scrap"
   ]
  },
  {
   "cell_type": "code",
   "execution_count": null,
   "id": "327f95ae-8d53-45f4-ab02-66994f2772c6",
   "metadata": {},
   "outputs": [],
   "source": [
    "# import lcl\n",
    "# import numpy as np\n",
    "# import matplotlib.pyplot as plt\n",
    "\n",
    "# p_0 = 101325\n",
    "# T_0 = 293.15\n",
    "# rh_0 = 0.9\n",
    "\n",
    "# p = list(np.arange(100000, 103100, 100))\n",
    "# T = list(np.arange(273.15, 344.15, 1))\n",
    "# rh = list(np.arange(0, 1.01, 0.01))\n",
    "\n",
    "# lcl_p = [lcl.lcl(p=p_i, T=T_0, rh=rh_0) for p_i in p]\n",
    "# lcl_T = [lcl.lcl(p=p_0, T=T_i, rh=rh_0) for T_i in T]\n",
    "# lcl_rh = [lcl.lcl(p=p_0, T=T_0, rh=rh_i) for rh_i in rh]\n",
    "\n",
    "# fig, axes = plt.subplots(1, 3, figsize=(20, 5))\n",
    "# axes[0].plot(p, lcl_p)\n",
    "# axes[1].plot(T, lcl_T)\n",
    "# axes[2].plot(rh, lcl_rh)\n",
    "# fig.tight_layout()"
   ]
  },
  {
   "cell_type": "code",
   "execution_count": null,
   "id": "e29073d9-94a1-40ef-aaac-f5983e698121",
   "metadata": {},
   "outputs": [],
   "source": []
  }
 ],
 "metadata": {
  "kernelspec": {
   "display_name": "Python 3 (ipykernel)",
   "language": "python",
   "name": "python3"
  },
  "language_info": {
   "codemirror_mode": {
    "name": "ipython",
    "version": 3
   },
   "file_extension": ".py",
   "mimetype": "text/x-python",
   "name": "python",
   "nbconvert_exporter": "python",
   "pygments_lexer": "ipython3",
   "version": "3.10.4"
  }
 },
 "nbformat": 4,
 "nbformat_minor": 5
}
