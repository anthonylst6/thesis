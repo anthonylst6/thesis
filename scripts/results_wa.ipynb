{
 "cells": [
  {
   "cell_type": "markdown",
   "id": "91a1c803-3c9f-44c2-8dc7-ace8b6a41fdb",
   "metadata": {
    "tags": []
   },
   "source": [
    "# Setup\n",
    "\n",
    "Note: the following code requires up to 70 GB of RAM over 18 hours if using 6 CPUs\n",
    "\n",
    "It can also be run with less RAM but this will require manual restarting of code everytime RAM limit is reached"
   ]
  },
  {
   "cell_type": "markdown",
   "id": "c376f7e4-8563-4845-9f58-9dec736cd5cc",
   "metadata": {},
   "source": [
    "## Import libraries for analysis"
   ]
  },
  {
   "cell_type": "code",
   "execution_count": null,
   "id": "65d428b8-385f-4551-a4f9-f3e47db9143c",
   "metadata": {},
   "outputs": [],
   "source": [
    "import importlib\n",
    "from glob import glob\n",
    "from datetime import datetime"
   ]
  },
  {
   "cell_type": "markdown",
   "id": "a0b117e4-f25e-43dd-baa6-a5b1fea84532",
   "metadata": {},
   "source": [
    "## Import calc_funcs module for use in analysis"
   ]
  },
  {
   "cell_type": "code",
   "execution_count": null,
   "id": "d329ff48-0e82-4665-8f77-e5c31a44df97",
   "metadata": {},
   "outputs": [],
   "source": [
    "# Choose calc_funcs_ver to use in plotting scripts.\n",
    "cfv = \"latest\"\n",
    "\n",
    "assert (isinstance(cfv, str) & (len(cfv) == 5) & (cfv[:3] == \"cfv\") & \n",
    "        cfv[3].isnumeric() & cfv[4].isalpha() & cfv[4].islower()) | (cfv == \"latest\"), \\\n",
    "    (\"cfv must be 'latest' or of form 'cfvXY' where X is a single digit number \" +\n",
    "     \"and Y is a lowercase alphabet character. eg. cfv1n\")\n",
    "\n",
    "if cfv == \"latest\":\n",
    "    calc_funcs_scripts = glob(\"calc_funcs_*.py\")\n",
    "    calc_funcs_scripts.sort()\n",
    "    calc_funcs_module = calc_funcs_scripts[-1][:-3]\n",
    "    \n",
    "else:\n",
    "    calc_funcs_module = \"calc_funcs_\" + cfv[2:]\n",
    "    \n",
    "cf = importlib.import_module(calc_funcs_module)\n",
    "\n",
    "print(f\"Using: {calc_funcs_module}\")"
   ]
  },
  {
   "cell_type": "markdown",
   "id": "519a42af-198e-47c8-b127-85cef910e890",
   "metadata": {},
   "source": [
    "## Import plot_funcs module for use in analysis"
   ]
  },
  {
   "cell_type": "code",
   "execution_count": null,
   "id": "c357f502-e2c6-4fe0-9498-e2c61bcd0f7e",
   "metadata": {},
   "outputs": [],
   "source": [
    "# Choose plot_funcs_ver to use.\n",
    "pfv = \"latest\"\n",
    "\n",
    "assert (isinstance(pfv, str) & (len(pfv) == 5) & (pfv[:3] == \"pfv\") & \n",
    "        pfv[3].isnumeric() & pfv[4].isalpha() & pfv[4].islower()) | (pfv == \"latest\"), \\\n",
    "    (\"pfv must be 'latest' or of form 'pfvXY' where X is a single digit number \" +\n",
    "     \"and Y is a lowercase alphabet character. eg. pfv1e\")\n",
    "\n",
    "if pfv == \"latest\":\n",
    "    plot_funcs_scripts = glob(\"plot_funcs_*.py\")\n",
    "    plot_funcs_scripts.sort()\n",
    "    plot_funcs_module = plot_funcs_scripts[-1][:-3]\n",
    "    \n",
    "else:\n",
    "    plot_funcs_module = \"plot_funcs_\" + pfv[2:]\n",
    "    \n",
    "pf = importlib.import_module(plot_funcs_module)\n",
    "\n",
    "print(f\"Using: {plot_funcs_module}\")"
   ]
  },
  {
   "cell_type": "markdown",
   "id": "6fec7992-6d4a-46d5-8ee6-0c14ef370642",
   "metadata": {},
   "source": [
    "## Analysis settings using selected periods from results below\n",
    "\n",
    "Specify these all here in the beginning so errors from changes are minimised"
   ]
  },
  {
   "cell_type": "code",
   "execution_count": null,
   "id": "13a1a957-2a79-4df4-96d1-b2bd2fe49a91",
   "metadata": {},
   "outputs": [],
   "source": [
    "# General analysis settings\n",
    "region = \"wa\"\n",
    "year_start = 1983\n",
    "year_end = 2019\n",
    "window_size = 5\n",
    "months_wet = \"jja\"\n",
    "months_dry = \"djf\"\n",
    "hours_light = [8, 9, 10, 11, 12, 13, 14, 15]\n",
    "hours_night = [20, 21, 22, 23, 0, 1, 2, 3]\n",
    "perc = False\n",
    "mask_perc_quantile = pf.mask_perc_quantile_default\n",
    "mask_period1 = None\n",
    "mask_period2 = None\n",
    "extents = None\n",
    "cfv_data = None\n",
    "\n",
    "# Entire periods covered by AVHRR or MODIS data and for which there is FAPAR data\n",
    "period_start_avhrr = \"Jan-1982\"\n",
    "period_end_avhrr = \"Dec-2018\"\n",
    "period_start_modis = \"Jan-2001\"\n",
    "period_end_modis = \"Dec-2020\"\n",
    "\n",
    "# Periods with similar background atmospheric oscillations\n",
    "period1_mid_sim = \"Dec-1999\"\n",
    "period1_start_sim = \"Jun-1997\"\n",
    "period1_end_sim = \"May-2002\"\n",
    "period2_mid_sim = \"Mar-2013\"\n",
    "period2_start_sim = \"Sep-2010\"\n",
    "period2_end_sim = \"Aug-2015\"\n",
    "if (datetime.strptime(period1_start_sim, \"%b-%Y\") >= \n",
    "    datetime.strptime(cf.modis_earliest, \"%b-%Y\")):\n",
    "    glass_source_pref_sim = \"modis\"\n",
    "else:\n",
    "    glass_source_pref_sim = \"avhrr\"\n",
    "\n",
    "# Periods with dissimilar background atmospheric oscillations\n",
    "period1_mid_dis = \"Sep-1990\"\n",
    "period1_start_dis = \"Mar-1988\"\n",
    "period1_end_dis = \"Feb-1993\"\n",
    "period2_mid_dis = \"Jul-2016\"\n",
    "period2_start_dis = \"Jan-2014\"\n",
    "period2_end_dis = \"Dec-2018\"\n",
    "if (datetime.strptime(period1_start_dis, \"%b-%Y\") >= \n",
    "    datetime.strptime(cf.modis_earliest, \"%b-%Y\")):\n",
    "    glass_source_pref_dis = \"modis\"\n",
    "else:\n",
    "    glass_source_pref_dis = \"avhrr\"\n",
    "\n",
    "# Single months with very dissimilar background atmospheric oscillations\n",
    "month1_dis = \"Nov-1996\"\n",
    "month2_dis = \"Sep-2015\"\n",
    "if (datetime.strptime(month1_dis, \"%b-%Y\") >= \n",
    "    datetime.strptime(cf.modis_earliest, \"%b-%Y\")):\n",
    "    glass_source_pref_dis_month = \"modis\"\n",
    "else:\n",
    "    glass_source_pref_dis_month = \"avhrr\""
   ]
  },
  {
   "cell_type": "markdown",
   "id": "a7d9fc5d-e1a3-4c0c-8956-6d44b1834e38",
   "metadata": {
    "jp-MarkdownHeadingCollapsed": true,
    "tags": []
   },
   "source": [
    "### Analysis settings for other regions"
   ]
  },
  {
   "cell_type": "code",
   "execution_count": null,
   "id": "b6aadd9b-dccf-4d79-8b09-48c2dfed74c8",
   "metadata": {},
   "outputs": [],
   "source": [
    "# # General analysis settings\n",
    "# region = \"wa\"\n",
    "# year_start = 1983\n",
    "# year_end = 2019\n",
    "# window_size = 5\n",
    "# months_wet = \"jja\"\n",
    "# months_dry = \"djf\"\n",
    "# hours_light = [8, 9, 10, 11, 12, 13, 14, 15]\n",
    "# hours_night = [20, 21, 22, 23, 0, 1, 2, 3]\n",
    "# perc = False\n",
    "# mask_perc_quantile = pf.mask_perc_quantile_default\n",
    "# mask_period1 = None\n",
    "# mask_period2 = None\n",
    "# extents = None\n",
    "# cfv_data = None\n",
    "\n",
    "# # Entire periods covered by AVHRR or MODIS data and for which there is FAPAR data\n",
    "# period_start_avhrr = \"Jan-1982\"\n",
    "# period_end_avhrr = \"Dec-2018\"\n",
    "# period_start_modis = \"Jan-2001\"\n",
    "# period_end_modis = \"Dec-2020\"\n",
    "\n",
    "# # Periods with similar background atmospheric oscillations\n",
    "# period1_mid_sim = \"Dec-1999\"\n",
    "# period1_start_sim = \"Jun-1997\"\n",
    "# period1_end_sim = \"May-2002\"\n",
    "# period2_mid_sim = \"Mar-2013\"\n",
    "# period2_start_sim = \"Sep-2010\"\n",
    "# period2_end_sim = \"Aug-2015\"\n",
    "# if (datetime.strptime(period1_start_sim, \"%b-%Y\") >= \n",
    "#     datetime.strptime(cf.modis_earliest, \"%b-%Y\")):\n",
    "#     glass_source_pref_sim = \"modis\"\n",
    "# else:\n",
    "#     glass_source_pref_sim = \"avhrr\"\n",
    "\n",
    "# # Periods with dissimilar background atmospheric oscillations\n",
    "# period1_mid_dis = \"Sep-1990\"\n",
    "# period1_start_dis = \"Mar-1988\"\n",
    "# period1_end_dis = \"Feb-1993\"\n",
    "# period2_mid_dis = \"Jul-2016\"\n",
    "# period2_start_dis = \"Jan-2014\"\n",
    "# period2_end_dis = \"Dec-2018\"\n",
    "# if (datetime.strptime(period1_start_dis, \"%b-%Y\") >= \n",
    "#     datetime.strptime(cf.modis_earliest, \"%b-%Y\")):\n",
    "#     glass_source_pref_dis = \"modis\"\n",
    "# else:\n",
    "#     glass_source_pref_dis = \"avhrr\"\n",
    "\n",
    "# # Single months with very dissimilar background atmospheric oscillations\n",
    "# month1_dis = \"Nov-1996\"\n",
    "# month2_dis = \"Sep-2015\"\n",
    "# if (datetime.strptime(month1_dis, \"%b-%Y\") >= \n",
    "#     datetime.strptime(cf.modis_earliest, \"%b-%Y\")):\n",
    "#     glass_source_pref_dis_month = \"modis\"\n",
    "# else:\n",
    "#     glass_source_pref_dis_month = \"avhrr\""
   ]
  },
  {
   "cell_type": "code",
   "execution_count": null,
   "id": "b0a9282e-4ddc-4d08-830a-324e6d63d5e4",
   "metadata": {},
   "outputs": [],
   "source": [
    "# # General analysis settings\n",
    "# region = \"ca\"\n",
    "# year_start = 1983\n",
    "# year_end = 2019\n",
    "# window_size = 5\n",
    "# months_wet = [5, 6, 7, 8, 9, 10]\n",
    "# months_dry = [11, 12, 1, 2, 3, 4]\n",
    "# hours_light = [8, 9, 10, 11, 12, 13, 14, 15]\n",
    "# hours_night = [20, 21, 22, 23, 0, 1, 2, 3]\n",
    "# perc = False\n",
    "# mask_perc_quantile = pf.mask_perc_quantile_default\n",
    "# mask_period1 = None\n",
    "# mask_period2 = None\n",
    "# extents = None\n",
    "# cfv_data = None\n",
    "\n",
    "# # Entire periods covered by AVHRR or MODIS data and for which there is FAPAR data\n",
    "# period_start_avhrr = \"Jan-1982\"\n",
    "# period_end_avhrr = \"Dec-2018\"\n",
    "# period_start_modis = \"Jan-2001\"\n",
    "# period_end_modis = \"Dec-2020\"\n",
    "\n",
    "# # Periods with similar background atmospheric oscillations\n",
    "# period1_mid_sim = \"Jul-1983\"\n",
    "# period1_start_sim = \"Jan-1981\"\n",
    "# period1_end_sim = \"Dec-1985\"\n",
    "# period2_mid_sim = \"Jul-1994\"\n",
    "# period2_start_sim = \"Jan-1992\"\n",
    "# period2_end_sim = \"Dec-1996\"\n",
    "# if (datetime.strptime(period1_start_sim, \"%b-%Y\") >= \n",
    "#     datetime.strptime(cf.modis_earliest, \"%b-%Y\")):\n",
    "#     glass_source_pref_sim = \"modis\"\n",
    "# else:\n",
    "#     glass_source_pref_sim = \"avhrr\"\n",
    "    \n",
    "# # Periods with dissimilar background atmospheric oscillations\n",
    "# period1_mid_dis = \"Mar-1985\"\n",
    "# period1_start_dis = \"Sep-1982\"\n",
    "# period1_end_dis = \"Aug-1987\"\n",
    "# period2_mid_dis = \"Jul-2010\"\n",
    "# period2_start_dis = \"Jan-2008\"\n",
    "# period2_end_dis = \"Dec-2012\"\n",
    "# if (datetime.strptime(period1_start_dis, \"%b-%Y\") >= \n",
    "#     datetime.strptime(cf.modis_earliest, \"%b-%Y\")):\n",
    "#     glass_source_pref_dis = \"modis\"\n",
    "# else:\n",
    "#     glass_source_pref_dis = \"avhrr\"\n",
    "\n",
    "# # Single months with very dissimilar background atmospheric oscillations\n",
    "# month1_dis = \"Nov-1996\"\n",
    "# month2_dis = \"Sep-2015\"\n",
    "# if (datetime.strptime(month1_dis, \"%b-%Y\") >= \n",
    "#     datetime.strptime(cf.modis_earliest, \"%b-%Y\")):\n",
    "#     glass_source_pref_dis_month = \"modis\"\n",
    "# else:\n",
    "#     glass_source_pref_dis_month = \"avhrr\""
   ]
  },
  {
   "cell_type": "code",
   "execution_count": null,
   "id": "18ecd0bf-8825-4a65-92ce-fc87bb5bcd37",
   "metadata": {},
   "outputs": [],
   "source": [
    "# # General analysis settings\n",
    "# region = \"sa\"\n",
    "# year_start = 1983\n",
    "# year_end = 2019\n",
    "# window_size = 5\n",
    "# months_wet = [1, 2, 3, 4, 5, 6]\n",
    "# months_dry = [7, 8, 9, 10, 11, 12]\n",
    "# hours_light = [8, 9, 10, 11, 12, 13, 14, 15]\n",
    "# hours_night = [20, 21, 22, 23, 0, 1, 2, 3]\n",
    "# perc = False\n",
    "# mask_perc_quantile = pf.mask_perc_quantile_default\n",
    "# mask_period1 = None\n",
    "# mask_period2 = None\n",
    "# extents = None\n",
    "# cfv_data = None\n",
    "\n",
    "# # Entire periods covered by AVHRR or MODIS data and for which there is FAPAR data\n",
    "# period_start_avhrr = \"Jan-1982\"\n",
    "# period_end_avhrr = \"Dec-2018\"\n",
    "# period_start_modis = \"Jan-2001\"\n",
    "# period_end_modis = \"Dec-2020\"\n",
    "\n",
    "# # Periods with similar background atmospheric oscillations\n",
    "# period1_mid_sim = \"Jul-2005\"\n",
    "# period1_start_sim = \"Jan-2003\"\n",
    "# period1_end_sim = \"Dec-2007\"\n",
    "# period2_mid_sim = \"Jul-2018\"\n",
    "# period2_start_sim = \"Jan-2016\"\n",
    "# period2_end_sim = \"Dec-2020\"\n",
    "# if (datetime.strptime(period1_start_sim, \"%b-%Y\") >= \n",
    "#     datetime.strptime(cf.modis_earliest, \"%b-%Y\")):\n",
    "#     glass_source_pref_sim = \"modis\"\n",
    "# else:\n",
    "#     glass_source_pref_sim = \"avhrr\"\n",
    "    \n",
    "# # Periods with dissimilar background atmospheric oscillations\n",
    "# period1_mid_dis = \"Mar-1985\"\n",
    "# period1_start_dis = \"Sep-1982\"\n",
    "# period1_end_dis = \"Aug-1987\"\n",
    "# period2_mid_dis = \"Jul-2010\"\n",
    "# period2_start_dis = \"Jan-2008\"\n",
    "# period2_end_dis = \"Dec-2012\"\n",
    "# if (datetime.strptime(period1_start_dis, \"%b-%Y\") >= \n",
    "#     datetime.strptime(cf.modis_earliest, \"%b-%Y\")):\n",
    "#     glass_source_pref_dis = \"modis\"\n",
    "# else:\n",
    "#     glass_source_pref_dis = \"avhrr\"\n",
    "\n",
    "# # Single months with very dissimilar background atmospheric oscillations\n",
    "# month1_dis = \"Nov-1996\"\n",
    "# month2_dis = \"Sep-2015\"\n",
    "# if (datetime.strptime(month1_dis, \"%b-%Y\") >= \n",
    "#     datetime.strptime(cf.modis_earliest, \"%b-%Y\")):\n",
    "#     glass_source_pref_dis_month = \"modis\"\n",
    "# else:\n",
    "#     glass_source_pref_dis_month = \"avhrr\""
   ]
  },
  {
   "cell_type": "code",
   "execution_count": null,
   "id": "decbfd28-494c-423e-a018-377903f8f3fa",
   "metadata": {},
   "outputs": [],
   "source": []
  },
  {
   "cell_type": "markdown",
   "id": "4deb12cb-39b9-45c1-890f-a9ec2e69aa56",
   "metadata": {
    "jp-MarkdownHeadingCollapsed": true,
    "tags": []
   },
   "source": [
    "# Selection of periods for analysis"
   ]
  },
  {
   "cell_type": "markdown",
   "id": "63573b7a-5057-4218-9ef4-2f69da00cd5d",
   "metadata": {
    "tags": []
   },
   "source": [
    "## Years with extensive or concentrated leaf area index change\n",
    "\n",
    "5-year rolling averages are used to average out LAI changes from short-term climate fluctuations"
   ]
  },
  {
   "cell_type": "code",
   "execution_count": null,
   "id": "3b381c17-e69c-4652-afe8-02e99570509c",
   "metadata": {},
   "outputs": [],
   "source": [
    "# Plot the glass rolling avg files to identify years with significant LAI change \n",
    "# using AVHRR data\n",
    "pf.create_glass_rolling_plot(\n",
    "    region=region, year_start=year_start, year_end=year_end, period_months=\"all\", \n",
    "    window_size=window_size, param_glass_mean=\"mlai\", glass_source_pref=\"avhrr\", \n",
    "    extents=extents, vmin=None, vmax=None, cfv_data=cfv_data, output=True\n",
    ")"
   ]
  },
  {
   "cell_type": "code",
   "execution_count": null,
   "id": "8fcf6cab-f95c-41b5-b222-d4c068e5b744",
   "metadata": {},
   "outputs": [],
   "source": [
    "# Plot the glass rolling avg files to identify years with significant LAI change \n",
    "# using MODIS data\n",
    "pf.create_glass_rolling_plot(\n",
    "    region=region, year_start=year_start, year_end=year_end, period_months=\"all\", \n",
    "    window_size=window_size, param_glass_mean=\"mlai\", glass_source_pref=\"modis\", \n",
    "    extents=extents, vmin=None, vmax=None, cfv_data=cfv_data, output=True\n",
    ")"
   ]
  },
  {
   "cell_type": "code",
   "execution_count": null,
   "id": "2166d15f-e729-4d04-881c-c795092e5f35",
   "metadata": {},
   "outputs": [],
   "source": [
    "# Check the difference in MLAI for periods with similar background\n",
    "# atmospheric oscillations\n",
    "pf.create_individual_comp_plot(\n",
    "    calc_func=cf.calc_glass_mean_clim, region=region, \n",
    "    period1_start=period1_start_sim, period1_end=period1_end_sim, \n",
    "    period2_start=period2_start_sim, period2_end=period2_end_sim, \n",
    "    period1_months=\"all\", period2_months=\"all\", period1_hours=None, period2_hours=None,\n",
    "    arg_extra=\"mlai\", glass_source_pref=glass_source_pref_sim, \n",
    "    var_or_dvar=None, perc=perc, mask_perc_quantile=mask_perc_quantile, \n",
    "    mask_period1=mask_period1, mask_period2=mask_period2, extents=extents, \n",
    "    vmin_periods=None, vmax_periods=None, vmin_diff=None, vmax_diff=None, \n",
    "    ax_period1=None, ax_period2=None, ax_diff=None, cfv_data=cfv_data, output=True\n",
    ")"
   ]
  },
  {
   "cell_type": "code",
   "execution_count": null,
   "id": "7afe1b62-069a-465e-bfb6-3717e86a8c2c",
   "metadata": {},
   "outputs": [],
   "source": [
    "# Check the difference in MLAI for periods with dissimilar background\n",
    "# atmospheric oscillations\n",
    "pf.create_individual_comp_plot(\n",
    "    calc_func=cf.calc_glass_mean_clim, region=region, \n",
    "    period1_start=period1_start_dis, period1_end=period1_end_dis, \n",
    "    period2_start=period2_start_dis, period2_end=period2_end_dis, \n",
    "    period1_months=\"all\", period2_months=\"all\", period1_hours=None, period2_hours=None,\n",
    "    arg_extra=\"mlai\", glass_source_pref=glass_source_pref_dis, \n",
    "    var_or_dvar=None, perc=perc, mask_perc_quantile=mask_perc_quantile, \n",
    "    mask_period1=mask_period1, mask_period2=mask_period2, extents=extents, \n",
    "    vmin_periods=None, vmax_periods=None, vmin_diff=None, vmax_diff=None, \n",
    "    ax_period1=None, ax_period2=None, ax_diff=None, cfv_data=cfv_data, output=True\n",
    ")"
   ]
  },
  {
   "cell_type": "code",
   "execution_count": null,
   "id": "36cc1b49-63e2-4dc9-ae91-f23b1cd2179a",
   "metadata": {},
   "outputs": [],
   "source": []
  },
  {
   "cell_type": "markdown",
   "id": "c4b102c0-669e-4622-a8cf-989816ecb66e",
   "metadata": {
    "tags": []
   },
   "source": [
    "## Periods with similar / dissimilar background atmospheric oscillations\n",
    "\n",
    "Criteria for selection of periods (in order of priority):\n",
    "\n",
    "- 5-year rolling averages for relevant climate indices were similar / dissimilar\n",
    "- Change in leaf area index between the periods was extensive\n",
    "- Periods cover a similar / dissimilar amount of time spent in La Nina / El Nino (where relevant) and Negative / Positive Indian Ocean Dipole (where relevant)\n",
    "- Monthly values for relevant climate indices over each period display a similar / dissimilar time evolution pattern\n",
    "- For WA, relevant indices are AAOI and DMI\n",
    "- For CA and SA, relevant indices are AMOI, PDOI and ONI"
   ]
  },
  {
   "cell_type": "code",
   "execution_count": null,
   "id": "7fba0d23-ef84-4aee-bdaf-45d73777961c",
   "metadata": {},
   "outputs": [],
   "source": [
    "# Create climate indices plot to help select periods with similar background \n",
    "# atmospheric oscillations\n",
    "pf.create_climate_indices_plot(\n",
    "    year_start=year_start, year_end=year_end, window_size=window_size, \n",
    "    period1_mid=period1_mid_sim, period2_mid=period2_mid_sim, \n",
    "    month1_mark=None, month2_mark=None, \n",
    "    cfv_data=cfv_data, output=True\n",
    ")"
   ]
  },
  {
   "cell_type": "code",
   "execution_count": null,
   "id": "e0efef61-6f04-4cea-88d8-5952f3d42132",
   "metadata": {},
   "outputs": [],
   "source": [
    "# Create climate indices plot to help select periods with dissimilar background \n",
    "# atmospheric oscillations\n",
    "pf.create_climate_indices_plot(\n",
    "    year_start=year_start, year_end=year_end, window_size=window_size, \n",
    "    period1_mid=period1_mid_dis, period2_mid=period2_mid_dis, \n",
    "    month1_mark=month1_dis, month2_mark=month2_dis, \n",
    "    cfv_data=cfv_data, output=True\n",
    ")"
   ]
  },
  {
   "cell_type": "code",
   "execution_count": null,
   "id": "14eadd0e-3bcf-4445-92b2-37568754e778",
   "metadata": {},
   "outputs": [],
   "source": []
  },
  {
   "cell_type": "markdown",
   "id": "ef7b1649-2bf5-4432-b321-b65a85aff04e",
   "metadata": {
    "jp-MarkdownHeadingCollapsed": true,
    "tags": []
   },
   "source": [
    "# Selected highlights"
   ]
  },
  {
   "cell_type": "markdown",
   "id": "22bbd35c-efc8-4c12-8207-5fd54a1c16a1",
   "metadata": {
    "jp-MarkdownHeadingCollapsed": true,
    "tags": []
   },
   "source": [
    "## Entire modis period"
   ]
  },
  {
   "cell_type": "markdown",
   "id": "679a07f2-8d46-46b8-a1a2-de662cbfd1e7",
   "metadata": {},
   "source": [
    "### Entire modis period, wet vs dry months"
   ]
  },
  {
   "cell_type": "markdown",
   "id": "486b93c1-4353-4a91-8685-97ce2ef95ed3",
   "metadata": {},
   "source": [
    "#### Entire modis period, wet vs dry months, all hours"
   ]
  },
  {
   "cell_type": "code",
   "execution_count": null,
   "id": "c6883776-f9ff-4b52-9475-868804295d4d",
   "metadata": {},
   "outputs": [],
   "source": []
  },
  {
   "cell_type": "markdown",
   "id": "ba57b2ac-5e61-430a-b08e-b3efe01be8e2",
   "metadata": {},
   "source": [
    "#### Entire modis period, wet vs dry months, day hours"
   ]
  },
  {
   "cell_type": "code",
   "execution_count": null,
   "id": "751af40b-51d1-4e9a-967b-ae5482778429",
   "metadata": {},
   "outputs": [],
   "source": []
  },
  {
   "cell_type": "markdown",
   "id": "a82d34f5-47d8-4b15-b86c-09208c3acd36",
   "metadata": {},
   "source": [
    "#### Entire modis period, wet vs dry months, night hours"
   ]
  },
  {
   "cell_type": "code",
   "execution_count": null,
   "id": "e5648048-a3f6-4ee8-8f19-725953ba16b4",
   "metadata": {},
   "outputs": [],
   "source": []
  },
  {
   "cell_type": "markdown",
   "id": "1c7c2652-fcd1-48cf-9a27-25a12efe1d5b",
   "metadata": {},
   "source": [
    "### Entire modis period, day vs night hours"
   ]
  },
  {
   "cell_type": "markdown",
   "id": "823f4528-1910-4e10-be8a-0e4a97dfa21b",
   "metadata": {
    "tags": []
   },
   "source": [
    "#### Entire modis period, day vs night hours, all months"
   ]
  },
  {
   "cell_type": "code",
   "execution_count": null,
   "id": "88cfe980-1d23-4962-8991-91c93bf1d470",
   "metadata": {},
   "outputs": [],
   "source": []
  },
  {
   "cell_type": "markdown",
   "id": "9452bf20-9302-4793-8d17-90be82524101",
   "metadata": {},
   "source": [
    "#### Entire modis period, day vs night hours, wet months"
   ]
  },
  {
   "cell_type": "code",
   "execution_count": null,
   "id": "a7ddb9ab-4128-47d6-bcb1-720411370bce",
   "metadata": {},
   "outputs": [],
   "source": []
  },
  {
   "cell_type": "markdown",
   "id": "eadc8e92-04df-4a8b-92c0-1ae0687c256c",
   "metadata": {},
   "source": [
    "#### Entire modis period, day vs night hours, dry months"
   ]
  },
  {
   "cell_type": "code",
   "execution_count": null,
   "id": "34f886a6-a5de-4243-bf13-f3c8f67be71a",
   "metadata": {},
   "outputs": [],
   "source": []
  },
  {
   "cell_type": "code",
   "execution_count": null,
   "id": "8dc91322-d588-48ca-934a-595a4acfad96",
   "metadata": {},
   "outputs": [],
   "source": []
  },
  {
   "cell_type": "markdown",
   "id": "45240d37-acc8-450a-8c6f-a2d1c6b95fef",
   "metadata": {
    "jp-MarkdownHeadingCollapsed": true,
    "tags": []
   },
   "source": [
    "## Entire avhrr period"
   ]
  },
  {
   "cell_type": "markdown",
   "id": "e7ef653f-f2da-4074-ba00-85d9abfe63e4",
   "metadata": {},
   "source": [
    "### Entire avhrr period, wet vs dry months"
   ]
  },
  {
   "cell_type": "markdown",
   "id": "ba377f63-84a7-4936-b54f-cb625db4c516",
   "metadata": {},
   "source": [
    "#### Entire avhrr period, wet vs dry months, all hours"
   ]
  },
  {
   "cell_type": "code",
   "execution_count": null,
   "id": "a6b8c9ae-a62b-476a-8a1c-33dbf968ad56",
   "metadata": {},
   "outputs": [],
   "source": []
  },
  {
   "cell_type": "markdown",
   "id": "6150e7a6-6b51-44de-9cd3-26353399d53b",
   "metadata": {},
   "source": [
    "#### Entire avhrr period, wet vs dry months, day hours"
   ]
  },
  {
   "cell_type": "code",
   "execution_count": null,
   "id": "d33fd087-a718-41b2-a034-31a96db0b935",
   "metadata": {},
   "outputs": [],
   "source": []
  },
  {
   "cell_type": "markdown",
   "id": "998f778c-20ac-4081-8a81-fe9c06834754",
   "metadata": {},
   "source": [
    "#### Entire avhrr period, wet vs dry months, night hours"
   ]
  },
  {
   "cell_type": "code",
   "execution_count": null,
   "id": "86db0c16-4bea-4587-9ef0-69497f287b37",
   "metadata": {},
   "outputs": [],
   "source": []
  },
  {
   "cell_type": "markdown",
   "id": "11434fd2-2fe8-4b0e-9e2a-a3134b4aa8cd",
   "metadata": {},
   "source": [
    "### Entire avhrr period, day vs night hours"
   ]
  },
  {
   "cell_type": "markdown",
   "id": "cb3dec33-d199-4a74-ac26-2e912e546b25",
   "metadata": {
    "tags": []
   },
   "source": [
    "#### Entire avhrr period, day vs night hours, all months"
   ]
  },
  {
   "cell_type": "code",
   "execution_count": null,
   "id": "09f3659a-95c3-47ef-8679-f015e441adcf",
   "metadata": {},
   "outputs": [],
   "source": []
  },
  {
   "cell_type": "markdown",
   "id": "91954ecf-306f-43af-a3b3-74941a9d5b01",
   "metadata": {},
   "source": [
    "#### Entire avhrr period, day vs night hours, wet months"
   ]
  },
  {
   "cell_type": "code",
   "execution_count": null,
   "id": "466beabe-4df3-43e8-bbce-e7c4ae7791af",
   "metadata": {},
   "outputs": [],
   "source": []
  },
  {
   "cell_type": "markdown",
   "id": "afeae42b-e09b-4c84-9008-bd7c5a0abdaa",
   "metadata": {},
   "source": [
    "#### Entire avhrr period, day vs night hours, dry months"
   ]
  },
  {
   "cell_type": "code",
   "execution_count": null,
   "id": "8896cf1e-b601-4f6c-b091-6a6883bdfbf8",
   "metadata": {},
   "outputs": [],
   "source": []
  },
  {
   "cell_type": "code",
   "execution_count": null,
   "id": "5c69b768-871b-4c22-99f9-8ce49c6ef50b",
   "metadata": {},
   "outputs": [],
   "source": []
  },
  {
   "cell_type": "markdown",
   "id": "9926f231-24c4-4004-84c0-054e85de8327",
   "metadata": {
    "jp-MarkdownHeadingCollapsed": true,
    "tags": []
   },
   "source": [
    "## Similar periods"
   ]
  },
  {
   "cell_type": "markdown",
   "id": "ecebefb3-e6f6-4cd8-aa02-5fb2362868ad",
   "metadata": {},
   "source": [
    "### Similar periods, wet vs dry months"
   ]
  },
  {
   "cell_type": "markdown",
   "id": "37e48a7f-7fd5-494a-9bb5-58f2ab861114",
   "metadata": {},
   "source": [
    "#### Similar periods, wet vs dry months, all hours"
   ]
  },
  {
   "cell_type": "code",
   "execution_count": null,
   "id": "c30b848e-79fe-4697-a0e8-af3fea48cfac",
   "metadata": {},
   "outputs": [],
   "source": []
  },
  {
   "cell_type": "markdown",
   "id": "c9d14a85-4aa0-4a0c-a4eb-88538b56985a",
   "metadata": {},
   "source": [
    "#### Similar periods, wet vs dry months, day hours"
   ]
  },
  {
   "cell_type": "code",
   "execution_count": null,
   "id": "311d3172-6704-4da2-8ee1-b3ff77eefe9e",
   "metadata": {},
   "outputs": [],
   "source": []
  },
  {
   "cell_type": "markdown",
   "id": "bf232dac-0412-42de-933a-098cdb25f526",
   "metadata": {},
   "source": [
    "#### Similar periods, wet vs dry months, night hours"
   ]
  },
  {
   "cell_type": "code",
   "execution_count": null,
   "id": "4ef541da-daef-4b33-9ec0-406cadd76af7",
   "metadata": {},
   "outputs": [],
   "source": []
  },
  {
   "cell_type": "markdown",
   "id": "28155a9a-7ef9-4f00-9dac-45c885cf11d3",
   "metadata": {},
   "source": [
    "### Similar periods, day vs night hours"
   ]
  },
  {
   "cell_type": "markdown",
   "id": "a1449e36-f362-4b30-99d8-9eb91db505bc",
   "metadata": {
    "tags": []
   },
   "source": [
    "#### Similar periods, day vs night hours, all months"
   ]
  },
  {
   "cell_type": "code",
   "execution_count": null,
   "id": "e0cbe7fb-fd8d-434e-a282-0a42426d765f",
   "metadata": {},
   "outputs": [],
   "source": []
  },
  {
   "cell_type": "markdown",
   "id": "89822659-1449-45ed-bf88-656fedb80f49",
   "metadata": {},
   "source": [
    "#### Similar periods, day vs night hours, wet months"
   ]
  },
  {
   "cell_type": "code",
   "execution_count": null,
   "id": "ad4dabbc-d73e-4949-a004-f3fe868bb1d0",
   "metadata": {},
   "outputs": [],
   "source": []
  },
  {
   "cell_type": "markdown",
   "id": "3d6db5ce-f0ee-4ed5-8150-fe0604f6eac1",
   "metadata": {},
   "source": [
    "#### Similar periods, day vs night hours, dry months"
   ]
  },
  {
   "cell_type": "code",
   "execution_count": null,
   "id": "a9b57c86-5ebe-4f36-a522-52728b7f5c51",
   "metadata": {},
   "outputs": [],
   "source": []
  },
  {
   "cell_type": "code",
   "execution_count": null,
   "id": "de4a48a1-6224-49be-b27d-97c54c9eeab1",
   "metadata": {},
   "outputs": [],
   "source": []
  },
  {
   "cell_type": "markdown",
   "id": "7059706c-0688-4499-b808-6ec9fc964aff",
   "metadata": {
    "jp-MarkdownHeadingCollapsed": true,
    "tags": []
   },
   "source": [
    "## Dissimilar periods"
   ]
  },
  {
   "cell_type": "markdown",
   "id": "855c74c1-a9c4-4766-a012-c24290fb568e",
   "metadata": {},
   "source": [
    "### Dissimilar periods, wet vs dry months"
   ]
  },
  {
   "cell_type": "markdown",
   "id": "7729d87e-a7c1-496d-93c2-1d3a1f062b17",
   "metadata": {},
   "source": [
    "#### Dissimilar periods, wet vs dry months, all hours"
   ]
  },
  {
   "cell_type": "code",
   "execution_count": null,
   "id": "ff861e11-be0b-4342-a4d3-1cce3751b284",
   "metadata": {},
   "outputs": [],
   "source": []
  },
  {
   "cell_type": "markdown",
   "id": "7fa0d99f-ddf4-4b9e-bf98-b4d7bb5ad3b2",
   "metadata": {},
   "source": [
    "#### Dissimilar periods, wet vs dry months, day hours"
   ]
  },
  {
   "cell_type": "code",
   "execution_count": null,
   "id": "667e9ce0-c585-4e85-ba8e-9d0816913a15",
   "metadata": {},
   "outputs": [],
   "source": []
  },
  {
   "cell_type": "markdown",
   "id": "08c8850d-0c21-4b9f-825e-02716d9d9158",
   "metadata": {},
   "source": [
    "#### Dissimilar periods, wet vs dry months, night hours"
   ]
  },
  {
   "cell_type": "code",
   "execution_count": null,
   "id": "1c78c5b5-73ca-467e-b851-995cdc00f281",
   "metadata": {},
   "outputs": [],
   "source": []
  },
  {
   "cell_type": "markdown",
   "id": "5c65db10-a7d6-4878-98d0-7044e30bad86",
   "metadata": {},
   "source": [
    "### Dissimilar periods, day vs night hours"
   ]
  },
  {
   "cell_type": "markdown",
   "id": "8ace1715-e4c2-46d2-9a2f-ee482377e790",
   "metadata": {
    "tags": []
   },
   "source": [
    "#### Dissimilar periods, day vs night hours, all months"
   ]
  },
  {
   "cell_type": "code",
   "execution_count": null,
   "id": "7e07825a-2a63-40c1-bdc2-7286197d831a",
   "metadata": {},
   "outputs": [],
   "source": []
  },
  {
   "cell_type": "markdown",
   "id": "ccbc809e-d2f4-4f17-b045-a97320d75134",
   "metadata": {},
   "source": [
    "#### Dissimilar periods, day vs night hours, wet months"
   ]
  },
  {
   "cell_type": "code",
   "execution_count": null,
   "id": "cb6d63c3-8deb-446c-bbae-bbfeb4c008ab",
   "metadata": {},
   "outputs": [],
   "source": []
  },
  {
   "cell_type": "markdown",
   "id": "4ce6b6c9-9eda-42c0-b5bb-b8043b5d528e",
   "metadata": {},
   "source": [
    "#### Dissimilar periods, day vs night hours, dry months"
   ]
  },
  {
   "cell_type": "code",
   "execution_count": null,
   "id": "4d3c8ae4-66ee-4e4c-be80-25037792cfb3",
   "metadata": {},
   "outputs": [],
   "source": []
  },
  {
   "cell_type": "code",
   "execution_count": null,
   "id": "64156015-6ec0-47c7-8676-7bb951f82fc2",
   "metadata": {},
   "outputs": [],
   "source": []
  },
  {
   "cell_type": "markdown",
   "id": "4f603b70-712e-4918-bf5a-9aa76c64c796",
   "metadata": {
    "tags": []
   },
   "source": [
    "# Create all output plot files"
   ]
  },
  {
   "cell_type": "markdown",
   "id": "7b00af8b-2a48-46be-9e76-0714fa18a0dd",
   "metadata": {
    "jp-MarkdownHeadingCollapsed": true,
    "tags": []
   },
   "source": [
    "## Static plots"
   ]
  },
  {
   "cell_type": "code",
   "execution_count": null,
   "id": "d22dfa29-cffc-490d-b1c5-010bbb34fab6",
   "metadata": {},
   "outputs": [],
   "source": [
    "# Create climate indices plot with no labels\n",
    "pf.create_climate_indices_plot(\n",
    "    year_start=year_start, year_end=year_end, window_size=window_size, \n",
    "    period1_mid=None, period2_mid=None, month1_mark=None, month2_mark=None, \n",
    "    cfv_data=cfv_data, output=True\n",
    ")"
   ]
  },
  {
   "cell_type": "code",
   "execution_count": null,
   "id": "9f1b752b-bde3-4f16-bfb0-69e446b5c35b",
   "metadata": {},
   "outputs": [],
   "source": [
    "# Plot for land surface elevation\n",
    "pf.create_orog_static_plot(\n",
    "    param_orog=\"lse\", region=region, extents=extents, vmin=None, vmax=None, \n",
    "    ax=None, cfv_data=cfv_data, output=True\n",
    ")"
   ]
  },
  {
   "cell_type": "code",
   "execution_count": null,
   "id": "fd9f0854-5ffa-4ef8-8f02-2600c403f6a4",
   "metadata": {},
   "outputs": [],
   "source": [
    "# Plot for slope of sub-gridscale orography\n",
    "pf.create_orog_static_plot(\n",
    "    param_orog=\"ssgo\", region=region, extents=extents, vmin=None, vmax=None, \n",
    "    ax=None, cfv_data=cfv_data, output=True\n",
    ")"
   ]
  },
  {
   "cell_type": "code",
   "execution_count": null,
   "id": "a1e4481c-24e0-48b1-b131-c62eb7ac4d78",
   "metadata": {},
   "outputs": [],
   "source": []
  },
  {
   "cell_type": "markdown",
   "id": "c4e672ce-3c0d-4d21-a919-63191848f03b",
   "metadata": {
    "tags": []
   },
   "source": [
    "## Entire modis period"
   ]
  },
  {
   "cell_type": "markdown",
   "id": "d8c8f780-6c99-4511-99a9-a272055e7342",
   "metadata": {},
   "source": [
    "### Entire modis period, wet vs dry months"
   ]
  },
  {
   "cell_type": "markdown",
   "id": "cba3448c-3a75-4a4c-87c6-19c953eff4a7",
   "metadata": {},
   "source": [
    "#### Entire modis period, wet vs dry months, all hours"
   ]
  },
  {
   "cell_type": "code",
   "execution_count": null,
   "id": "f55a807f-6b45-4e8c-bf44-285e72d87fb8",
   "metadata": {},
   "outputs": [],
   "source": [
    "pf.create_all_possible_comp_plot_files(\n",
    "    region=region, period1_start=period_start_modis, period1_end=period_end_modis, \n",
    "    period2_start=period_start_modis, period2_end=period_end_modis, \n",
    "    period1_months=months_wet, period2_months=months_dry, \n",
    "    period1_hours=\"all\", period2_hours=\"all\",\n",
    "    glass_source_pref=glass_source_pref_sim, \n",
    "    perc=perc, mask_perc_quantile=mask_perc_quantile, \n",
    "    mask_period1=mask_period1, mask_period2=mask_period2, \n",
    "    extents=extents, cfv_data=cfv_data\n",
    ")"
   ]
  },
  {
   "cell_type": "markdown",
   "id": "8ce9a50c-7f3b-4285-8256-d2e907a22282",
   "metadata": {},
   "source": [
    "#### Entire modis period, wet vs dry months, day hours"
   ]
  },
  {
   "cell_type": "code",
   "execution_count": null,
   "id": "db0f621c-dd0f-4eba-83a6-5e9a1ccfcf7f",
   "metadata": {},
   "outputs": [],
   "source": [
    "pf.create_all_possible_comp_plot_files(\n",
    "    region=region, period1_start=period_start_modis, period1_end=period_end_modis, \n",
    "    period2_start=period_start_modis, period2_end=period_end_modis, \n",
    "    period1_months=months_wet, period2_months=months_dry, \n",
    "    period1_hours=hours_light, period2_hours=hours_light,\n",
    "    glass_source_pref=glass_source_pref_sim, \n",
    "    perc=perc, mask_perc_quantile=mask_perc_quantile, \n",
    "    mask_period1=mask_period1, mask_period2=mask_period2, \n",
    "    extents=extents, cfv_data=cfv_data\n",
    ")"
   ]
  },
  {
   "cell_type": "markdown",
   "id": "1e1d1fcf-0e9f-42b7-8836-12749caa377f",
   "metadata": {},
   "source": [
    "#### Entire modis period, wet vs dry months, night hours"
   ]
  },
  {
   "cell_type": "code",
   "execution_count": null,
   "id": "b88a3185-4f33-4380-be61-8d7e91335bd2",
   "metadata": {},
   "outputs": [],
   "source": [
    "pf.create_all_possible_comp_plot_files(\n",
    "    region=region, period1_start=period_start_modis, period1_end=period_end_modis, \n",
    "    period2_start=period_start_modis, period2_end=period_end_modis, \n",
    "    period1_months=months_wet, period2_months=months_dry, \n",
    "    period1_hours=hours_night, period2_hours=hours_night,\n",
    "    glass_source_pref=glass_source_pref_sim, \n",
    "    perc=perc, mask_perc_quantile=mask_perc_quantile, \n",
    "    mask_period1=mask_period1, mask_period2=mask_period2, \n",
    "    extents=extents, cfv_data=cfv_data\n",
    ")"
   ]
  },
  {
   "cell_type": "markdown",
   "id": "b4a28150-0354-464d-acdf-fec09ceea5e3",
   "metadata": {},
   "source": [
    "### Entire modis period, day vs night hours"
   ]
  },
  {
   "cell_type": "markdown",
   "id": "668e8834-e27b-4935-a0af-6ebfb8c84b82",
   "metadata": {
    "tags": []
   },
   "source": [
    "#### Entire modis period, day vs night hours, all months"
   ]
  },
  {
   "cell_type": "code",
   "execution_count": null,
   "id": "a6c00653-c82b-444e-bdbc-d1170ed92dc0",
   "metadata": {},
   "outputs": [],
   "source": [
    "pf.create_all_possible_comp_plot_files(\n",
    "    region=region, period1_start=period_start_modis, period1_end=period_end_modis, \n",
    "    period2_start=period_start_modis, period2_end=period_end_modis, \n",
    "    period1_months=\"all\", period2_months=\"all\", \n",
    "    period1_hours=hours_light, period2_hours=hours_night,\n",
    "    glass_source_pref=glass_source_pref_sim, \n",
    "    perc=perc, mask_perc_quantile=mask_perc_quantile, \n",
    "    mask_period1=mask_period1, mask_period2=mask_period2, \n",
    "    extents=extents, cfv_data=cfv_data\n",
    ")"
   ]
  },
  {
   "cell_type": "markdown",
   "id": "f64b57cd-a42f-4ba6-bed5-1951d49de867",
   "metadata": {},
   "source": [
    "#### Entire modis period, day vs night hours, wet months"
   ]
  },
  {
   "cell_type": "code",
   "execution_count": null,
   "id": "63e09b33-1aa2-4e42-b65b-133579434f51",
   "metadata": {},
   "outputs": [],
   "source": [
    "pf.create_all_possible_comp_plot_files(\n",
    "    region=region, period1_start=period_start_modis, period1_end=period_end_modis, \n",
    "    period2_start=period_start_modis, period2_end=period_end_modis, \n",
    "    period1_months=months_wet, period2_months=months_wet, \n",
    "    period1_hours=hours_light, period2_hours=hours_night,\n",
    "    glass_source_pref=glass_source_pref_sim, \n",
    "    perc=perc, mask_perc_quantile=mask_perc_quantile, \n",
    "    mask_period1=mask_period1, mask_period2=mask_period2, \n",
    "    extents=extents, cfv_data=cfv_data\n",
    ")"
   ]
  },
  {
   "cell_type": "markdown",
   "id": "a66e3974-fb1d-4c7b-adc4-d0b569e0169c",
   "metadata": {},
   "source": [
    "#### Entire modis period, day vs night hours, dry months"
   ]
  },
  {
   "cell_type": "code",
   "execution_count": null,
   "id": "cfc2d35a-91ef-4fa6-abdd-edf8c4813036",
   "metadata": {},
   "outputs": [],
   "source": [
    "pf.create_all_possible_comp_plot_files(\n",
    "    region=region, period1_start=period_start_modis, period1_end=period_end_modis, \n",
    "    period2_start=period_start_modis, period2_end=period_end_modis, \n",
    "    period1_months=months_dry, period2_months=months_dry, \n",
    "    period1_hours=hours_light, period2_hours=hours_night,\n",
    "    glass_source_pref=glass_source_pref_sim, \n",
    "    perc=perc, mask_perc_quantile=mask_perc_quantile, \n",
    "    mask_period1=mask_period1, mask_period2=mask_period2, \n",
    "    extents=extents, cfv_data=cfv_data\n",
    ")"
   ]
  },
  {
   "cell_type": "code",
   "execution_count": null,
   "id": "318e401e-9a5e-4e21-8c37-993d862e858a",
   "metadata": {},
   "outputs": [],
   "source": []
  },
  {
   "cell_type": "markdown",
   "id": "6f52e981-902c-4583-93ed-45c16a9ea16b",
   "metadata": {
    "jp-MarkdownHeadingCollapsed": true,
    "tags": []
   },
   "source": [
    "## Entire avhrr period"
   ]
  },
  {
   "cell_type": "markdown",
   "id": "f21d429b-112f-4d3d-a491-4ab4a3eab07e",
   "metadata": {},
   "source": [
    "### Entire avhrr period, wet vs dry months"
   ]
  },
  {
   "cell_type": "markdown",
   "id": "4a7c6c46-d055-4521-9e25-202e4e8d20a2",
   "metadata": {},
   "source": [
    "#### Entire avhrr period, wet vs dry months, all hours"
   ]
  },
  {
   "cell_type": "code",
   "execution_count": null,
   "id": "d4789a15-ec2a-41ab-9dc5-4aafa5dc6d88",
   "metadata": {},
   "outputs": [],
   "source": [
    "pf.create_all_possible_comp_plot_files(\n",
    "    region=region, period1_start=period_start_avhrr, period1_end=period_end_avhrr, \n",
    "    period2_start=period_start_avhrr, period2_end=period_end_avhrr, \n",
    "    period1_months=months_wet, period2_months=months_dry, \n",
    "    period1_hours=\"all\", period2_hours=\"all\",\n",
    "    glass_source_pref=glass_source_pref_sim, \n",
    "    perc=perc, mask_perc_quantile=mask_perc_quantile, \n",
    "    mask_period1=mask_period1, mask_period2=mask_period2, \n",
    "    extents=extents, cfv_data=cfv_data\n",
    ")"
   ]
  },
  {
   "cell_type": "markdown",
   "id": "a50cbdc1-a88d-4b79-9b7c-d11613ad2264",
   "metadata": {},
   "source": [
    "#### Entire avhrr period, wet vs dry months, day hours"
   ]
  },
  {
   "cell_type": "code",
   "execution_count": null,
   "id": "5b01cc0b-30f8-4c0a-a101-9cbf5f1bd3b8",
   "metadata": {},
   "outputs": [],
   "source": [
    "pf.create_all_possible_comp_plot_files(\n",
    "    region=region, period1_start=period_start_avhrr, period1_end=period_end_avhrr, \n",
    "    period2_start=period_start_avhrr, period2_end=period_end_avhrr, \n",
    "    period1_months=months_wet, period2_months=months_dry, \n",
    "    period1_hours=hours_light, period2_hours=hours_light,\n",
    "    glass_source_pref=glass_source_pref_sim, \n",
    "    perc=perc, mask_perc_quantile=mask_perc_quantile, \n",
    "    mask_period1=mask_period1, mask_period2=mask_period2, \n",
    "    extents=extents, cfv_data=cfv_data\n",
    ")"
   ]
  },
  {
   "cell_type": "markdown",
   "id": "6a92e413-e1ec-44cb-ac63-bc60bb9b4f51",
   "metadata": {},
   "source": [
    "#### Entire avhrr period, wet vs dry months, night hours"
   ]
  },
  {
   "cell_type": "code",
   "execution_count": null,
   "id": "afff4704-b3dd-4436-9e6f-169a42f6a14e",
   "metadata": {},
   "outputs": [],
   "source": [
    "pf.create_all_possible_comp_plot_files(\n",
    "    region=region, period1_start=period_start_avhrr, period1_end=period_end_avhrr, \n",
    "    period2_start=period_start_avhrr, period2_end=period_end_avhrr, \n",
    "    period1_months=months_wet, period2_months=months_dry, \n",
    "    period1_hours=hours_night, period2_hours=hours_night,\n",
    "    glass_source_pref=glass_source_pref_sim, \n",
    "    perc=perc, mask_perc_quantile=mask_perc_quantile, \n",
    "    mask_period1=mask_period1, mask_period2=mask_period2, \n",
    "    extents=extents, cfv_data=cfv_data\n",
    ")"
   ]
  },
  {
   "cell_type": "markdown",
   "id": "328e3dbc-0721-4c85-b547-b2732a46f784",
   "metadata": {},
   "source": [
    "### Entire avhrr period, day vs night hours"
   ]
  },
  {
   "cell_type": "markdown",
   "id": "2c525c63-bf8c-4044-9893-28244cc8feb1",
   "metadata": {
    "tags": []
   },
   "source": [
    "#### Entire avhrr period, day vs night hours, all months"
   ]
  },
  {
   "cell_type": "code",
   "execution_count": null,
   "id": "e22f0a2b-b28f-4658-8a85-f7dd56d50ed5",
   "metadata": {},
   "outputs": [],
   "source": [
    "pf.create_all_possible_comp_plot_files(\n",
    "    region=region, period1_start=period_start_avhrr, period1_end=period_end_avhrr, \n",
    "    period2_start=period_start_avhrr, period2_end=period_end_avhrr, \n",
    "    period1_months=\"all\", period2_months=\"all\", \n",
    "    period1_hours=hours_light, period2_hours=hours_night,\n",
    "    glass_source_pref=glass_source_pref_sim, \n",
    "    perc=perc, mask_perc_quantile=mask_perc_quantile, \n",
    "    mask_period1=mask_period1, mask_period2=mask_period2, \n",
    "    extents=extents, cfv_data=cfv_data\n",
    ")"
   ]
  },
  {
   "cell_type": "markdown",
   "id": "6484727d-b0f1-44e0-879c-211511a29993",
   "metadata": {},
   "source": [
    "#### Entire avhrr period, day vs night hours, wet months"
   ]
  },
  {
   "cell_type": "code",
   "execution_count": null,
   "id": "8deb0d69-ca8a-4c12-8405-3461d488f784",
   "metadata": {},
   "outputs": [],
   "source": [
    "pf.create_all_possible_comp_plot_files(\n",
    "    region=region, period1_start=period_start_avhrr, period1_end=period_end_avhrr, \n",
    "    period2_start=period_start_avhrr, period2_end=period_end_avhrr, \n",
    "    period1_months=months_wet, period2_months=months_wet, \n",
    "    period1_hours=hours_light, period2_hours=hours_night,\n",
    "    glass_source_pref=glass_source_pref_sim, \n",
    "    perc=perc, mask_perc_quantile=mask_perc_quantile, \n",
    "    mask_period1=mask_period1, mask_period2=mask_period2, \n",
    "    extents=extents, cfv_data=cfv_data\n",
    ")"
   ]
  },
  {
   "cell_type": "markdown",
   "id": "a1896b54-93c4-4c62-b927-170f80d98fc6",
   "metadata": {},
   "source": [
    "#### Entire avhrr period, day vs night hours, dry months"
   ]
  },
  {
   "cell_type": "code",
   "execution_count": null,
   "id": "4d816f98-f967-41db-bec3-caab48c71aa3",
   "metadata": {},
   "outputs": [],
   "source": [
    "pf.create_all_possible_comp_plot_files(\n",
    "    region=region, period1_start=period_start_avhrr, period1_end=period_end_avhrr, \n",
    "    period2_start=period_start_avhrr, period2_end=period_end_avhrr, \n",
    "    period1_months=months_dry, period2_months=months_dry, \n",
    "    period1_hours=hours_light, period2_hours=hours_night,\n",
    "    glass_source_pref=glass_source_pref_sim, \n",
    "    perc=perc, mask_perc_quantile=mask_perc_quantile, \n",
    "    mask_period1=mask_period1, mask_period2=mask_period2, \n",
    "    extents=extents, cfv_data=cfv_data\n",
    ")"
   ]
  },
  {
   "cell_type": "code",
   "execution_count": null,
   "id": "a4a7fe22-906a-4538-b3d4-0fea8ab0f4b5",
   "metadata": {},
   "outputs": [],
   "source": []
  },
  {
   "cell_type": "markdown",
   "id": "05e23bd0-7f18-4e8a-9b95-6d5943ede6e7",
   "metadata": {
    "jp-MarkdownHeadingCollapsed": true,
    "tags": []
   },
   "source": [
    "## Similar periods"
   ]
  },
  {
   "cell_type": "markdown",
   "id": "9f8dfde1-67d1-426b-a2cc-56bd3242400f",
   "metadata": {},
   "source": [
    "### Similar periods, wet vs dry months"
   ]
  },
  {
   "cell_type": "markdown",
   "id": "4b8126ce-6f17-4b54-864a-0240af4a8e54",
   "metadata": {},
   "source": [
    "#### Similar periods, wet vs dry months, all hours"
   ]
  },
  {
   "cell_type": "code",
   "execution_count": null,
   "id": "f9c8eb24-c78b-4e51-9d75-456428304373",
   "metadata": {},
   "outputs": [],
   "source": []
  },
  {
   "cell_type": "markdown",
   "id": "d0098b04-2390-414a-8f26-69f0b662a566",
   "metadata": {},
   "source": [
    "#### Similar periods, wet vs dry months, day hours"
   ]
  },
  {
   "cell_type": "code",
   "execution_count": null,
   "id": "fb343caa-c3be-4782-85d7-a41467bdcf61",
   "metadata": {},
   "outputs": [],
   "source": []
  },
  {
   "cell_type": "markdown",
   "id": "2d14c4c3-6d50-42fd-b50d-c890b9ac2bfb",
   "metadata": {},
   "source": [
    "#### Similar periods, wet vs dry months, night hours"
   ]
  },
  {
   "cell_type": "code",
   "execution_count": null,
   "id": "a2b04ade-ac60-4db0-aabf-64210ae6db8f",
   "metadata": {},
   "outputs": [],
   "source": []
  },
  {
   "cell_type": "markdown",
   "id": "855b77c4-341f-4484-ae8b-2e7a584dff87",
   "metadata": {},
   "source": [
    "### Similar periods, day vs night hours"
   ]
  },
  {
   "cell_type": "markdown",
   "id": "c935a06a-cbae-4748-8c7c-2c10754864d5",
   "metadata": {
    "tags": []
   },
   "source": [
    "#### Similar periods, day vs night hours, all months"
   ]
  },
  {
   "cell_type": "code",
   "execution_count": null,
   "id": "ab531e3a-c5bf-4926-a82f-82d0e6afc7ef",
   "metadata": {},
   "outputs": [],
   "source": []
  },
  {
   "cell_type": "markdown",
   "id": "0f53c1aa-4399-4f7a-9750-ef609554de10",
   "metadata": {},
   "source": [
    "#### Similar periods, day vs night hours, wet months"
   ]
  },
  {
   "cell_type": "code",
   "execution_count": null,
   "id": "cf58bd22-a359-4d3e-8157-e7e75c9b36fc",
   "metadata": {},
   "outputs": [],
   "source": []
  },
  {
   "cell_type": "markdown",
   "id": "ed5ea62e-adb3-4d7f-9844-682661894b37",
   "metadata": {},
   "source": [
    "#### Similar periods, day vs night hours, dry months"
   ]
  },
  {
   "cell_type": "code",
   "execution_count": null,
   "id": "496ba3e4-d942-415b-b4ae-281af66a539d",
   "metadata": {},
   "outputs": [],
   "source": []
  },
  {
   "cell_type": "code",
   "execution_count": null,
   "id": "6fbc4940-6dcb-4b7d-9104-12618811e330",
   "metadata": {},
   "outputs": [],
   "source": []
  },
  {
   "cell_type": "markdown",
   "id": "0cb6f6ca-abe0-4875-a96d-8753b0a56214",
   "metadata": {
    "jp-MarkdownHeadingCollapsed": true,
    "tags": []
   },
   "source": [
    "## Dissimilar periods"
   ]
  },
  {
   "cell_type": "markdown",
   "id": "da8ff2c6-9e5a-4788-a568-a3b5506f0c2e",
   "metadata": {},
   "source": [
    "### Dissimilar periods, wet vs dry months"
   ]
  },
  {
   "cell_type": "markdown",
   "id": "21f5777b-ca51-45c1-81c5-823acb2b750b",
   "metadata": {},
   "source": [
    "#### Dissimilar periods, wet vs dry months, all hours"
   ]
  },
  {
   "cell_type": "code",
   "execution_count": null,
   "id": "100a4463-8fd4-44ab-a385-ca26d1e85484",
   "metadata": {},
   "outputs": [],
   "source": []
  },
  {
   "cell_type": "markdown",
   "id": "ab4e5481-1dfb-4a20-bfd7-048b5af3c571",
   "metadata": {},
   "source": [
    "#### Dissimilar periods, wet vs dry months, day hours"
   ]
  },
  {
   "cell_type": "code",
   "execution_count": null,
   "id": "7b660c27-80da-4685-b221-fe65e70a75b1",
   "metadata": {},
   "outputs": [],
   "source": []
  },
  {
   "cell_type": "markdown",
   "id": "86036085-1187-495a-813f-f4ae2f9bccef",
   "metadata": {},
   "source": [
    "#### Dissimilar periods, wet vs dry months, night hours"
   ]
  },
  {
   "cell_type": "code",
   "execution_count": null,
   "id": "715c8e16-b2f8-4074-acbc-a5404d4c9ae4",
   "metadata": {},
   "outputs": [],
   "source": []
  },
  {
   "cell_type": "markdown",
   "id": "ec37a760-a685-4f34-b34d-878933d9f62d",
   "metadata": {},
   "source": [
    "### Dissimilar periods, day vs night hours"
   ]
  },
  {
   "cell_type": "markdown",
   "id": "5ac06209-b487-4263-96c8-1886eb86a9f1",
   "metadata": {
    "tags": []
   },
   "source": [
    "#### Dissimilar periods, day vs night hours, all months"
   ]
  },
  {
   "cell_type": "code",
   "execution_count": null,
   "id": "dca389c9-a58f-425c-8b30-a78a33ce9286",
   "metadata": {},
   "outputs": [],
   "source": []
  },
  {
   "cell_type": "markdown",
   "id": "0e6b7649-a02b-4d83-aff7-a978914879f2",
   "metadata": {},
   "source": [
    "#### Dissimilar periods, day vs night hours, wet months"
   ]
  },
  {
   "cell_type": "code",
   "execution_count": null,
   "id": "e54b229c-9d26-49ef-bc20-19fa8fa2029e",
   "metadata": {},
   "outputs": [],
   "source": []
  },
  {
   "cell_type": "markdown",
   "id": "1fe23957-a858-4d58-83d5-30aff7cec6cd",
   "metadata": {},
   "source": [
    "#### Dissimilar periods, day vs night hours, dry months"
   ]
  },
  {
   "cell_type": "code",
   "execution_count": null,
   "id": "f022c211-e431-47a3-9ddf-f3526954c470",
   "metadata": {},
   "outputs": [],
   "source": []
  },
  {
   "cell_type": "code",
   "execution_count": null,
   "id": "22c88c39-2852-488b-a919-8727da6437a1",
   "metadata": {},
   "outputs": [],
   "source": []
  },
  {
   "cell_type": "markdown",
   "id": "f83dab9c-71fd-4224-9de6-d099b1b3bad4",
   "metadata": {
    "jp-MarkdownHeadingCollapsed": true,
    "tags": []
   },
   "source": [
    "# Scrap"
   ]
  },
  {
   "cell_type": "markdown",
   "id": "975d5ec0-4e3e-4754-b4b5-dc26f87f3d46",
   "metadata": {
    "tags": []
   },
   "source": [
    "## Create all output comparison plot files over each season"
   ]
  },
  {
   "cell_type": "code",
   "execution_count": null,
   "id": "e86706a9-0d04-4aa1-a416-6288c9055584",
   "metadata": {},
   "outputs": [],
   "source": [
    "pf.create_all_possible_comp_plot_files(\n",
    "    region=region, period1_start=period1_start_sim, period1_end=period1_end_sim, \n",
    "    period2_start=period2_start_sim, period2_end=period2_end_sim, \n",
    "    period1_months=\"jja\", period2_months=\"djf\", \n",
    "    period1_hours=[8,9,10,11,12,13,14,15], period2_hours=[8,9,10,11,12,13,14,15],\n",
    "    glass_source_pref=glass_source_pref_sim, perc=False, \n",
    "    mask_perc_quantile=pf.mask_perc_quantile_default, \n",
    "    mask_period1=None, mask_period2=None, extents=None, cfv_data=None\n",
    ")"
   ]
  },
  {
   "cell_type": "code",
   "execution_count": null,
   "id": "79a1de21-0759-4440-a316-d3fee1510fa8",
   "metadata": {},
   "outputs": [],
   "source": []
  },
  {
   "cell_type": "code",
   "execution_count": null,
   "id": "17708038-d1ed-4c50-afb5-23fd1192d034",
   "metadata": {},
   "outputs": [],
   "source": []
  },
  {
   "cell_type": "code",
   "execution_count": null,
   "id": "fb49e8ab-d9cc-43d0-bfa6-332820c0f103",
   "metadata": {},
   "outputs": [],
   "source": [
    "# Create all possible diff data files for periods with similar background \n",
    "# atmospheric oscillations (year round, wet season only, and dry season only)\n",
    "cf.create_all_possible_diff_data_files(\n",
    "    region=region, period1_start=period1_start_sim, period1_end=period1_end_sim,\n",
    "    period2_start=period2_start_sim, period2_end=period2_end_sim, months_subset=\"all\"\n",
    ")\n",
    "cf.create_all_possible_diff_data_files(\n",
    "    region=region, period1_start=period1_start_sim, period1_end=period1_end_sim,\n",
    "    period2_start=period2_start_sim, period2_end=period2_end_sim, months_subset=months_wet\n",
    ")\n",
    "cf.create_all_possible_diff_data_files(\n",
    "    region=region, period1_start=period1_start_sim, period1_end=period1_end_sim,\n",
    "    period2_start=period2_start_sim, period2_end=period2_end_sim, months_subset=months_dry\n",
    ")"
   ]
  },
  {
   "cell_type": "code",
   "execution_count": null,
   "id": "b3ffe173-d194-4b61-9f8e-cc16c05896a8",
   "metadata": {},
   "outputs": [],
   "source": [
    "# Create all possible diff data files for periods with dissimilar background \n",
    "# atmospheric oscillations (year round, wet season only, and dry season only)\n",
    "cf.create_all_possible_diff_data_files(\n",
    "    region=region, period1_start=period1_start_dis, period1_end=period1_end_dis,\n",
    "    period2_start=period2_start_dis, period2_end=period2_end_dis, months_subset=\"all\"\n",
    ")\n",
    "cf.create_all_possible_diff_data_files(\n",
    "    region=region, period1_start=period1_start_dis, period1_end=period1_end_dis,\n",
    "    period2_start=period2_start_dis, period2_end=period2_end_dis, months_subset=months_wet\n",
    ")\n",
    "cf.create_all_possible_diff_data_files(\n",
    "    region=region, period1_start=period1_start_dis, period1_end=period1_end_dis,\n",
    "    period2_start=period2_start_dis, period2_end=period2_end_dis, months_subset=months_dry\n",
    ")"
   ]
  },
  {
   "cell_type": "code",
   "execution_count": null,
   "id": "6c05a8a1-7f85-4124-8f53-9867612cbf79",
   "metadata": {},
   "outputs": [],
   "source": [
    "# Create all possible diff data files for months with dissimilar background \n",
    "# atmospheric oscillations\n",
    "cf.create_all_possible_diff_data_files(\n",
    "    region=region, period1_start=month1_dis, period1_end=month1_dis,\n",
    "    period2_start=month2_dis, period2_end=month2_dis, months_subset=\"all\"\n",
    ")"
   ]
  },
  {
   "cell_type": "code",
   "execution_count": null,
   "id": "80532ed7-f833-418b-8023-d58c738ab649",
   "metadata": {},
   "outputs": [],
   "source": []
  },
  {
   "cell_type": "code",
   "execution_count": null,
   "id": "265a221e-040e-4be2-9c36-35cd755de2c4",
   "metadata": {},
   "outputs": [],
   "source": []
  },
  {
   "cell_type": "code",
   "execution_count": null,
   "id": "70b2ddbb-4f7f-4d8c-9cf4-0feb0c10e9c5",
   "metadata": {},
   "outputs": [],
   "source": [
    "# Create all possible comp plot files for periods with similar background \n",
    "# atmospheric oscillations (year round, wet season only, and dry season only)\n",
    "pf.create_all_possible_comp_plot_files(\n",
    "    region=region, period1_start=period1_start_sim, period1_end=period1_end_sim, \n",
    "    period2_start=period2_start_sim, period2_end=period2_end_sim, months_subset=\"all\", \n",
    "    glass_source_pref=glass_source_pref_sim, perc=False, \n",
    "    mask_perc_quantile=pf.mask_perc_quantile_default, \n",
    "    mask_period1=None, mask_period2=None, extents=None, cfv_data=None\n",
    ")\n",
    "pf.create_all_possible_comp_plot_files(\n",
    "    region=region, period1_start=period1_start_sim, period1_end=period1_end_sim, \n",
    "    period2_start=period2_start_sim, period2_end=period2_end_sim, months_subset=months_wet, \n",
    "    glass_source_pref=glass_source_pref_sim, perc=False, \n",
    "    mask_perc_quantile=pf.mask_perc_quantile_default, \n",
    "    mask_period1=None, mask_period2=None, extents=None, cfv_data=None\n",
    ")\n",
    "pf.create_all_possible_comp_plot_files(\n",
    "    region=region, period1_start=period1_start_sim, period1_end=period1_end_sim, \n",
    "    period2_start=period2_start_sim, period2_end=period2_end_sim, months_subset=months_dry, \n",
    "    glass_source_pref=glass_source_pref_sim, perc=False, \n",
    "    mask_perc_quantile=pf.mask_perc_quantile_default, \n",
    "    mask_period1=None, mask_period2=None, extents=None, cfv_data=None\n",
    ")"
   ]
  },
  {
   "cell_type": "code",
   "execution_count": null,
   "id": "686cc006-2d2a-4684-b265-0e7ea301473b",
   "metadata": {},
   "outputs": [],
   "source": [
    "# Create all possible comp plot files for periods with dissimilar background \n",
    "# atmospheric oscillations (year round, wet season only, and dry season only)\n",
    "pf.create_all_possible_comp_plot_files(\n",
    "    region=region, period1_start=period1_start_dis, period1_end=period1_end_dis, \n",
    "    period2_start=period2_start_dis, period2_end=period2_end_dis, months_subset=\"all\", \n",
    "    glass_source_pref=glass_source_pref_dis, perc=False, \n",
    "    mask_perc_quantile=pf.mask_perc_quantile_default, \n",
    "    mask_period1=None, mask_period2=None, extents=None, cfv_data=None\n",
    ")\n",
    "pf.create_all_possible_comp_plot_files(\n",
    "    region=region, period1_start=period1_start_dis, period1_end=period1_end_dis, \n",
    "    period2_start=period2_start_dis, period2_end=period2_end_dis, months_subset=months_wet, \n",
    "    glass_source_pref=glass_source_pref_dis, perc=False, \n",
    "    mask_perc_quantile=pf.mask_perc_quantile_default, \n",
    "    mask_period1=None, mask_period2=None, extents=None, cfv_data=None\n",
    ")\n",
    "pf.create_all_possible_comp_plot_files(\n",
    "    region=region, period1_start=period1_start_dis, period1_end=period1_end_dis, \n",
    "    period2_start=period2_start_dis, period2_end=period2_end_dis, months_subset=months_dry, \n",
    "    glass_source_pref=glass_source_pref_dis, perc=False, \n",
    "    mask_perc_quantile=pf.mask_perc_quantile_default, \n",
    "    mask_period1=None, mask_period2=None, extents=None, cfv_data=None\n",
    ")"
   ]
  },
  {
   "cell_type": "code",
   "execution_count": null,
   "id": "894dbc64-6df8-4624-8d71-e988a216c359",
   "metadata": {},
   "outputs": [],
   "source": [
    "# Create all possible comp plot files for months with dissimilar background \n",
    "# atmospheric oscillations\n",
    "pf.create_all_possible_comp_plot_files(\n",
    "    region=region, period1_start=month1_dis, period1_end=month1_dis, \n",
    "    period2_start=month2_dis, period2_end=month2_dis, months_subset=\"all\", \n",
    "    glass_source_pref=glass_source_pref_dis_month, perc=False, \n",
    "    mask_perc_quantile=pf.mask_perc_quantile_default, \n",
    "    mask_period1=None, mask_period2=None, extents=None, cfv_data=None\n",
    ")"
   ]
  },
  {
   "cell_type": "code",
   "execution_count": null,
   "id": "1b187ba2-d467-4082-98e9-726dd5d34785",
   "metadata": {},
   "outputs": [],
   "source": []
  },
  {
   "cell_type": "markdown",
   "id": "4fce2381-8d1d-4b81-9e2f-9db5dfb35edd",
   "metadata": {
    "jp-MarkdownHeadingCollapsed": true,
    "tags": []
   },
   "source": [
    "# Overview for similar periods"
   ]
  },
  {
   "cell_type": "markdown",
   "id": "1f3769bb-13b8-41f7-888b-f4d194be0dd3",
   "metadata": {},
   "source": [
    "## Similar periods (all months)"
   ]
  },
  {
   "cell_type": "markdown",
   "id": "643e8403-61ac-4499-8f0d-3c39be44a794",
   "metadata": {
    "jp-MarkdownHeadingCollapsed": true,
    "tags": []
   },
   "source": [
    "### Similar periods (all months): MDP stats "
   ]
  },
  {
   "cell_type": "code",
   "execution_count": null,
   "id": "0827daeb-4973-423a-aa92-2c5c49d15e9f",
   "metadata": {},
   "outputs": [],
   "source": [
    "pf.plot_comp_mdp_clim_stats_given_var_or_dvar(\n",
    "    region=region, period1_start=period1_start_sim, period1_end=period1_end_sim, \n",
    "    period2_start=period2_start_sim, period2_end=period2_end_sim, months_subset=\"all\", \n",
    "    glass_source_pref=glass_source_pref_sim, var_or_dvar=\"wv100\", \n",
    "    perc=False, mask_perc_quantile=pf.mask_perc_quantile_default, \n",
    "    mask_period1=None, mask_period2=None, extents=None, cfv_data=None, output=True\n",
    ")"
   ]
  },
  {
   "cell_type": "code",
   "execution_count": null,
   "id": "498b72c1-084a-4fff-8828-9ea47d536539",
   "metadata": {},
   "outputs": [],
   "source": [
    "pf.plot_comp_mdp_clim_stats_given_var_or_dvar(\n",
    "    region=region, period1_start=period1_start_sim, period1_end=period1_end_sim, \n",
    "    period2_start=period2_start_sim, period2_end=period2_end_sim, months_subset=\"all\", \n",
    "    glass_source_pref=glass_source_pref_sim, var_or_dvar=\"ws100\", \n",
    "    perc=False, mask_perc_quantile=pf.mask_perc_quantile_default, \n",
    "    mask_period1=None, mask_period2=None, extents=None, cfv_data=None, output=True\n",
    ")"
   ]
  },
  {
   "cell_type": "code",
   "execution_count": null,
   "id": "a38cea90-25cb-4c01-a629-60b8e72f6911",
   "metadata": {},
   "outputs": [],
   "source": [
    "pf.plot_comp_mdp_clim_stats_given_var_or_dvar(\n",
    "    region=region, period1_start=period1_start_sim, period1_end=period1_end_sim, \n",
    "    period2_start=period2_start_sim, period2_end=period2_end_sim, months_subset=\"all\", \n",
    "    glass_source_pref=glass_source_pref_sim, var_or_dvar=\"u100\", \n",
    "    perc=False, mask_perc_quantile=pf.mask_perc_quantile_default, \n",
    "    mask_period1=None, mask_period2=None, extents=None, cfv_data=None, output=True\n",
    ")"
   ]
  },
  {
   "cell_type": "code",
   "execution_count": null,
   "id": "5378f198-078a-439b-bbf1-1acc2bd8460a",
   "metadata": {},
   "outputs": [],
   "source": [
    "pf.plot_comp_mdp_clim_stats_given_var_or_dvar(\n",
    "    region=region, period1_start=period1_start_sim, period1_end=period1_end_sim, \n",
    "    period2_start=period2_start_sim, period2_end=period2_end_sim, months_subset=\"all\", \n",
    "    glass_source_pref=glass_source_pref_sim, var_or_dvar=\"v100\", \n",
    "    perc=False, mask_perc_quantile=pf.mask_perc_quantile_default, \n",
    "    mask_period1=None, mask_period2=None, extents=None, cfv_data=None, output=True\n",
    ")"
   ]
  },
  {
   "cell_type": "code",
   "execution_count": null,
   "id": "8005a514-d39c-4ebb-927d-0fcbb4b45756",
   "metadata": {},
   "outputs": [],
   "source": [
    "pf.plot_comp_mdp_clim_stats_given_var_or_dvar(\n",
    "    region=region, period1_start=period1_start_sim, period1_end=period1_end_sim, \n",
    "    period2_start=period2_start_sim, period2_end=period2_end_sim, months_subset=\"all\", \n",
    "    glass_source_pref=glass_source_pref_sim, var_or_dvar=\"mslp\", \n",
    "    perc=False, mask_perc_quantile=pf.mask_perc_quantile_default, \n",
    "    mask_period1=None, mask_period2=None, extents=None, cfv_data=None, output=True\n",
    ")"
   ]
  },
  {
   "cell_type": "code",
   "execution_count": null,
   "id": "1d83c3ef-5599-4705-922a-47bab89669d1",
   "metadata": {},
   "outputs": [],
   "source": [
    "pf.plot_comp_mdp_clim_stats_given_var_or_dvar(\n",
    "    region=region, period1_start=period1_start_sim, period1_end=period1_end_sim, \n",
    "    period2_start=period2_start_sim, period2_end=period2_end_sim, months_subset=\"all\", \n",
    "    glass_source_pref=glass_source_pref_sim, var_or_dvar=\"t2\", \n",
    "    perc=False, mask_perc_quantile=pf.mask_perc_quantile_default, \n",
    "    mask_period1=None, mask_period2=None, extents=None, cfv_data=None, output=True\n",
    ")"
   ]
  },
  {
   "cell_type": "code",
   "execution_count": null,
   "id": "73fd36a5-1483-471d-82bf-eff61822e207",
   "metadata": {},
   "outputs": [],
   "source": [
    "pf.plot_comp_mdp_clim_stats_given_var_or_dvar(\n",
    "    region=region, period1_start=period1_start_sim, period1_end=period1_end_sim, \n",
    "    period2_start=period2_start_sim, period2_end=period2_end_sim, months_subset=\"all\", \n",
    "    glass_source_pref=glass_source_pref_sim, var_or_dvar=\"nac\", \n",
    "    perc=False, mask_perc_quantile=pf.mask_perc_quantile_default, \n",
    "    mask_period1=None, mask_period2=None, extents=None, cfv_data=None, output=True\n",
    ")"
   ]
  },
  {
   "cell_type": "markdown",
   "id": "fd4fd34e-d695-450b-887d-699fca2beac3",
   "metadata": {
    "jp-MarkdownHeadingCollapsed": true,
    "tags": []
   },
   "source": [
    "### Similar periods (all months): MDP values"
   ]
  },
  {
   "cell_type": "code",
   "execution_count": null,
   "id": "9f6d53a0-c5b8-4dad-bdec-8ea1d153f2fc",
   "metadata": {},
   "outputs": [],
   "source": [
    "pf.plot_comp_mdp_clim_values_given_var_or_dvar(\n",
    "    region=region, period1_start=period1_start_sim, period1_end=period1_end_sim, \n",
    "    period2_start=period2_start_sim, period2_end=period2_end_sim, months_subset=\"all\", \n",
    "    glass_source_pref=glass_source_pref_sim, var_or_dvar=\"dwv100\", time=\"0-5\",\n",
    "    perc=False, mask_perc_quantile=pf.mask_perc_quantile_default, \n",
    "    mask_period1=None, mask_period2=None, extents=None, cfv_data=None, output=True\n",
    ")"
   ]
  },
  {
   "cell_type": "code",
   "execution_count": null,
   "id": "5b5c21a0-f481-48c5-a3d5-98fabada28aa",
   "metadata": {},
   "outputs": [],
   "source": [
    "pf.plot_comp_mdp_clim_values_given_var_or_dvar(\n",
    "    region=region, period1_start=period1_start_sim, period1_end=period1_end_sim, \n",
    "    period2_start=period2_start_sim, period2_end=period2_end_sim, months_subset=\"all\", \n",
    "    glass_source_pref=glass_source_pref_sim, var_or_dvar=\"dwv100\", time=\"6-11\",\n",
    "    perc=False, mask_perc_quantile=pf.mask_perc_quantile_default, \n",
    "    mask_period1=None, mask_period2=None, extents=None, cfv_data=None, output=True\n",
    ")"
   ]
  },
  {
   "cell_type": "code",
   "execution_count": null,
   "id": "92ec9503-8850-43f5-b2c7-ee607a8f6c54",
   "metadata": {},
   "outputs": [],
   "source": [
    "pf.plot_comp_mdp_clim_values_given_var_or_dvar(\n",
    "    region=region, period1_start=period1_start_sim, period1_end=period1_end_sim, \n",
    "    period2_start=period2_start_sim, period2_end=period2_end_sim, months_subset=\"all\", \n",
    "    glass_source_pref=glass_source_pref_sim, var_or_dvar=\"dwv100\", time=\"12-17\",\n",
    "    perc=False, mask_perc_quantile=pf.mask_perc_quantile_default, \n",
    "    mask_period1=None, mask_period2=None, extents=None, cfv_data=None, output=True\n",
    ")"
   ]
  },
  {
   "cell_type": "code",
   "execution_count": null,
   "id": "84d0897b-680f-4d7d-9863-a28e1c4ec097",
   "metadata": {},
   "outputs": [],
   "source": [
    "pf.plot_comp_mdp_clim_values_given_var_or_dvar(\n",
    "    region=region, period1_start=period1_start_sim, period1_end=period1_end_sim, \n",
    "    period2_start=period2_start_sim, period2_end=period2_end_sim, months_subset=\"all\", \n",
    "    glass_source_pref=glass_source_pref_sim, var_or_dvar=\"dwv100\", time=\"18-23\",\n",
    "    perc=False, mask_perc_quantile=pf.mask_perc_quantile_default, \n",
    "    mask_period1=None, mask_period2=None, extents=None, cfv_data=None, output=True\n",
    ")"
   ]
  },
  {
   "cell_type": "code",
   "execution_count": null,
   "id": "1de299dd-e12c-4215-a3f6-ad73031ef563",
   "metadata": {},
   "outputs": [],
   "source": [
    "pf.plot_comp_mdp_clim_values_given_var_or_dvar(\n",
    "    region=region, period1_start=period1_start_sim, period1_end=period1_end_sim, \n",
    "    period2_start=period2_start_sim, period2_end=period2_end_sim, months_subset=\"all\", \n",
    "    glass_source_pref=glass_source_pref_sim, var_or_dvar=\"dmslp\", time=\"0-5\",\n",
    "    perc=False, mask_perc_quantile=pf.mask_perc_quantile_default, \n",
    "    mask_period1=None, mask_period2=None, extents=None, cfv_data=None, output=True\n",
    ")"
   ]
  },
  {
   "cell_type": "code",
   "execution_count": null,
   "id": "32c8e99a-d41c-415c-bdaf-923fa1df0649",
   "metadata": {},
   "outputs": [],
   "source": [
    "pf.plot_comp_mdp_clim_values_given_var_or_dvar(\n",
    "    region=region, period1_start=period1_start_sim, period1_end=period1_end_sim, \n",
    "    period2_start=period2_start_sim, period2_end=period2_end_sim, months_subset=\"all\", \n",
    "    glass_source_pref=glass_source_pref_sim, var_or_dvar=\"dmslp\", time=\"6-11\",\n",
    "    perc=False, mask_perc_quantile=pf.mask_perc_quantile_default, \n",
    "    mask_period1=None, mask_period2=None, extents=None, cfv_data=None, output=True\n",
    ")"
   ]
  },
  {
   "cell_type": "code",
   "execution_count": null,
   "id": "d2f87e08-526a-4738-b014-7589b7a6625e",
   "metadata": {},
   "outputs": [],
   "source": [
    "pf.plot_comp_mdp_clim_values_given_var_or_dvar(\n",
    "    region=region, period1_start=period1_start_sim, period1_end=period1_end_sim, \n",
    "    period2_start=period2_start_sim, period2_end=period2_end_sim, months_subset=\"all\", \n",
    "    glass_source_pref=glass_source_pref_sim, var_or_dvar=\"dmslp\", time=\"12-17\",\n",
    "    perc=False, mask_perc_quantile=pf.mask_perc_quantile_default, \n",
    "    mask_period1=None, mask_period2=None, extents=None, cfv_data=None, output=True\n",
    ")"
   ]
  },
  {
   "cell_type": "code",
   "execution_count": null,
   "id": "5f942dbf-30f0-492d-841d-5b0b1b1fc5c5",
   "metadata": {},
   "outputs": [],
   "source": [
    "pf.plot_comp_mdp_clim_values_given_var_or_dvar(\n",
    "    region=region, period1_start=period1_start_sim, period1_end=period1_end_sim, \n",
    "    period2_start=period2_start_sim, period2_end=period2_end_sim, months_subset=\"all\", \n",
    "    glass_source_pref=glass_source_pref_sim, var_or_dvar=\"dmslp\", time=\"18-23\",\n",
    "    perc=False, mask_perc_quantile=pf.mask_perc_quantile_default, \n",
    "    mask_period1=None, mask_period2=None, extents=None, cfv_data=None, output=True\n",
    ")"
   ]
  },
  {
   "cell_type": "code",
   "execution_count": null,
   "id": "377bdb85-a8b3-4e11-b2d8-676024638822",
   "metadata": {},
   "outputs": [],
   "source": [
    "pf.plot_comp_mdp_clim_values_given_var_or_dvar(\n",
    "    region=region, period1_start=period1_start_sim, period1_end=period1_end_sim, \n",
    "    period2_start=period2_start_sim, period2_end=period2_end_sim, months_subset=\"all\", \n",
    "    glass_source_pref=glass_source_pref_sim, var_or_dvar=\"dt2\", time=\"0-5\",\n",
    "    perc=False, mask_perc_quantile=pf.mask_perc_quantile_default, \n",
    "    mask_period1=None, mask_period2=None, extents=None, cfv_data=None, output=True\n",
    ")"
   ]
  },
  {
   "cell_type": "code",
   "execution_count": null,
   "id": "6f844d8f-fbdc-4b90-ad67-7d104de3a794",
   "metadata": {},
   "outputs": [],
   "source": [
    "pf.plot_comp_mdp_clim_values_given_var_or_dvar(\n",
    "    region=region, period1_start=period1_start_sim, period1_end=period1_end_sim, \n",
    "    period2_start=period2_start_sim, period2_end=period2_end_sim, months_subset=\"all\", \n",
    "    glass_source_pref=glass_source_pref_sim, var_or_dvar=\"dt2\", time=\"6-11\",\n",
    "    perc=False, mask_perc_quantile=pf.mask_perc_quantile_default, \n",
    "    mask_period1=None, mask_period2=None, extents=None, cfv_data=None, output=True\n",
    ")"
   ]
  },
  {
   "cell_type": "code",
   "execution_count": null,
   "id": "5476fc84-729e-4f67-ac21-7929a53259f2",
   "metadata": {},
   "outputs": [],
   "source": [
    "pf.plot_comp_mdp_clim_values_given_var_or_dvar(\n",
    "    region=region, period1_start=period1_start_sim, period1_end=period1_end_sim, \n",
    "    period2_start=period2_start_sim, period2_end=period2_end_sim, months_subset=\"all\", \n",
    "    glass_source_pref=glass_source_pref_sim, var_or_dvar=\"dt2\", time=\"12-17\",\n",
    "    perc=False, mask_perc_quantile=pf.mask_perc_quantile_default, \n",
    "    mask_period1=None, mask_period2=None, extents=None, cfv_data=None, output=True\n",
    ")"
   ]
  },
  {
   "cell_type": "code",
   "execution_count": null,
   "id": "4e81fd62-310c-4fdc-a38b-10a3cf3eccb4",
   "metadata": {},
   "outputs": [],
   "source": [
    "pf.plot_comp_mdp_clim_values_given_var_or_dvar(\n",
    "    region=region, period1_start=period1_start_sim, period1_end=period1_end_sim, \n",
    "    period2_start=period2_start_sim, period2_end=period2_end_sim, months_subset=\"all\", \n",
    "    glass_source_pref=glass_source_pref_sim, var_or_dvar=\"dt2\", time=\"18-23\",\n",
    "    perc=False, mask_perc_quantile=pf.mask_perc_quantile_default, \n",
    "    mask_period1=None, mask_period2=None, extents=None, cfv_data=None, output=True\n",
    ")"
   ]
  },
  {
   "cell_type": "code",
   "execution_count": null,
   "id": "443d465e-2abb-43b0-9152-be210ef489a4",
   "metadata": {},
   "outputs": [],
   "source": [
    "pf.plot_comp_mdp_clim_values_given_var_or_dvar(\n",
    "    region=region, period1_start=period1_start_sim, period1_end=period1_end_sim, \n",
    "    period2_start=period2_start_sim, period2_end=period2_end_sim, months_subset=\"all\", \n",
    "    glass_source_pref=glass_source_pref_sim, var_or_dvar=\"dnac\", time=\"0-5\",\n",
    "    perc=False, mask_perc_quantile=pf.mask_perc_quantile_default, \n",
    "    mask_period1=None, mask_period2=None, extents=None, cfv_data=None, output=True\n",
    ")"
   ]
  },
  {
   "cell_type": "code",
   "execution_count": null,
   "id": "6a8880ba-c870-4e9f-bea1-c380d12d74d4",
   "metadata": {},
   "outputs": [],
   "source": [
    "pf.plot_comp_mdp_clim_values_given_var_or_dvar(\n",
    "    region=region, period1_start=period1_start_sim, period1_end=period1_end_sim, \n",
    "    period2_start=period2_start_sim, period2_end=period2_end_sim, months_subset=\"all\", \n",
    "    glass_source_pref=glass_source_pref_sim, var_or_dvar=\"dnac\", time=\"6-11\",\n",
    "    perc=False, mask_perc_quantile=pf.mask_perc_quantile_default, \n",
    "    mask_period1=None, mask_period2=None, extents=None, cfv_data=None, output=True\n",
    ")"
   ]
  },
  {
   "cell_type": "code",
   "execution_count": null,
   "id": "3684d7ea-0432-41eb-be30-a6e16df58e30",
   "metadata": {},
   "outputs": [],
   "source": [
    "pf.plot_comp_mdp_clim_values_given_var_or_dvar(\n",
    "    region=region, period1_start=period1_start_sim, period1_end=period1_end_sim, \n",
    "    period2_start=period2_start_sim, period2_end=period2_end_sim, months_subset=\"all\", \n",
    "    glass_source_pref=glass_source_pref_sim, var_or_dvar=\"dnac\", time=\"12-17\",\n",
    "    perc=False, mask_perc_quantile=pf.mask_perc_quantile_default, \n",
    "    mask_period1=None, mask_period2=None, extents=None, cfv_data=None, output=True\n",
    ")"
   ]
  },
  {
   "cell_type": "code",
   "execution_count": null,
   "id": "d4eab4d1-3df7-4f63-8110-7ebeacc17c9a",
   "metadata": {},
   "outputs": [],
   "source": [
    "pf.plot_comp_mdp_clim_values_given_var_or_dvar(\n",
    "    region=region, period1_start=period1_start_sim, period1_end=period1_end_sim, \n",
    "    period2_start=period2_start_sim, period2_end=period2_end_sim, months_subset=\"all\", \n",
    "    glass_source_pref=glass_source_pref_sim, var_or_dvar=\"dnac\", time=\"18-23\",\n",
    "    perc=False, mask_perc_quantile=pf.mask_perc_quantile_default, \n",
    "    mask_period1=None, mask_period2=None, extents=None, cfv_data=None, output=True\n",
    ")"
   ]
  },
  {
   "cell_type": "code",
   "execution_count": null,
   "id": "01121cb3-a528-40b8-a685-dfe0724d09db",
   "metadata": {},
   "outputs": [],
   "source": [
    "pf.plot_comp_mdp_clim_values_given_var_or_dvar(\n",
    "    region=region, period1_start=period1_start_sim, period1_end=period1_end_sim, \n",
    "    period2_start=period2_start_sim, period2_end=period2_end_sim, months_subset=\"all\", \n",
    "    glass_source_pref=glass_source_pref_sim, var_or_dvar=\"nac\", time=\"0-5\",\n",
    "    perc=False, mask_perc_quantile=pf.mask_perc_quantile_default, \n",
    "    mask_period1=None, mask_period2=None, extents=None, cfv_data=None, output=True\n",
    ")"
   ]
  },
  {
   "cell_type": "code",
   "execution_count": null,
   "id": "632d2810-35db-43e9-8337-d6b77f7bfe54",
   "metadata": {},
   "outputs": [],
   "source": [
    "pf.plot_comp_mdp_clim_values_given_var_or_dvar(\n",
    "    region=region, period1_start=period1_start_sim, period1_end=period1_end_sim, \n",
    "    period2_start=period2_start_sim, period2_end=period2_end_sim, months_subset=\"all\", \n",
    "    glass_source_pref=glass_source_pref_sim, var_or_dvar=\"nac\", time=\"6-11\",\n",
    "    perc=False, mask_perc_quantile=pf.mask_perc_quantile_default, \n",
    "    mask_period1=None, mask_period2=None, extents=None, cfv_data=None, output=True\n",
    ")"
   ]
  },
  {
   "cell_type": "code",
   "execution_count": null,
   "id": "791a4744-af43-4e89-8675-92a5d7603a03",
   "metadata": {},
   "outputs": [],
   "source": [
    "pf.plot_comp_mdp_clim_values_given_var_or_dvar(\n",
    "    region=region, period1_start=period1_start_sim, period1_end=period1_end_sim, \n",
    "    period2_start=period2_start_sim, period2_end=period2_end_sim, months_subset=\"all\", \n",
    "    glass_source_pref=glass_source_pref_sim, var_or_dvar=\"nac\", time=\"12-17\",\n",
    "    perc=False, mask_perc_quantile=pf.mask_perc_quantile_default, \n",
    "    mask_period1=None, mask_period2=None, extents=None, cfv_data=None, output=True\n",
    ")"
   ]
  },
  {
   "cell_type": "code",
   "execution_count": null,
   "id": "40bc092d-a943-4d27-8c96-48323155b92b",
   "metadata": {},
   "outputs": [],
   "source": [
    "pf.plot_comp_mdp_clim_values_given_var_or_dvar(\n",
    "    region=region, period1_start=period1_start_sim, period1_end=period1_end_sim, \n",
    "    period2_start=period2_start_sim, period2_end=period2_end_sim, months_subset=\"all\", \n",
    "    glass_source_pref=glass_source_pref_sim, var_or_dvar=\"nac\", time=\"18-23\",\n",
    "    perc=False, mask_perc_quantile=pf.mask_perc_quantile_default, \n",
    "    mask_period1=None, mask_period2=None, extents=None, cfv_data=None, output=True\n",
    ")"
   ]
  },
  {
   "cell_type": "markdown",
   "id": "33223ffe-67f4-46f8-95a8-0514c583bb6a",
   "metadata": {
    "jp-MarkdownHeadingCollapsed": true,
    "tags": []
   },
   "source": [
    "### Similar periods (all months): WSD"
   ]
  },
  {
   "cell_type": "code",
   "execution_count": null,
   "id": "385bbc54-1546-48ac-b54f-6efae3724ed1",
   "metadata": {},
   "outputs": [],
   "source": [
    "pf.plot_comp_wsd_clim(\n",
    "    region=region, period1_start=period1_start_sim, period1_end=period1_end_sim, \n",
    "    period2_start=period2_start_sim, period2_end=period2_end_sim, months_subset=\"all\", \n",
    "    glass_source_pref=glass_source_pref_sim, \n",
    "    perc=False, mask_perc_quantile=pf.mask_perc_quantile_default, \n",
    "    mask_period1=None, mask_period2=None, extents=None, cfv_data=None, output=True\n",
    ")"
   ]
  },
  {
   "cell_type": "markdown",
   "id": "6395dec0-6104-4b50-b185-29c5c861bd4d",
   "metadata": {},
   "source": [
    "## Similar periods (wet season)"
   ]
  },
  {
   "cell_type": "markdown",
   "id": "a69cabaf-f443-444b-9359-1fdfed8e8175",
   "metadata": {
    "jp-MarkdownHeadingCollapsed": true,
    "tags": []
   },
   "source": [
    "### Similar periods (wet season): MDP stats"
   ]
  },
  {
   "cell_type": "code",
   "execution_count": null,
   "id": "341198ea-781d-4e66-b8d5-0207e492b009",
   "metadata": {},
   "outputs": [],
   "source": [
    "pf.plot_comp_mdp_clim_stats_given_var_or_dvar(\n",
    "    region=region, period1_start=period1_start_sim, period1_end=period1_end_sim, \n",
    "    period2_start=period2_start_sim, period2_end=period2_end_sim, months_subset=months_wet, \n",
    "    glass_source_pref=glass_source_pref_sim, var_or_dvar=\"wv100\", \n",
    "    perc=False, mask_perc_quantile=pf.mask_perc_quantile_default, \n",
    "    mask_period1=None, mask_period2=None, extents=None, cfv_data=None, output=True\n",
    ")"
   ]
  },
  {
   "cell_type": "code",
   "execution_count": null,
   "id": "0716ebb0-41e7-4d3d-ae5e-037eed7f5efe",
   "metadata": {},
   "outputs": [],
   "source": [
    "pf.plot_comp_mdp_clim_stats_given_var_or_dvar(\n",
    "    region=region, period1_start=period1_start_sim, period1_end=period1_end_sim, \n",
    "    period2_start=period2_start_sim, period2_end=period2_end_sim, months_subset=months_wet, \n",
    "    glass_source_pref=glass_source_pref_sim, var_or_dvar=\"ws100\", \n",
    "    perc=False, mask_perc_quantile=pf.mask_perc_quantile_default, \n",
    "    mask_period1=None, mask_period2=None, extents=None, cfv_data=None, output=True\n",
    ")"
   ]
  },
  {
   "cell_type": "code",
   "execution_count": null,
   "id": "1c8cbd7c-eb68-4037-b019-8ebbaaa30a79",
   "metadata": {},
   "outputs": [],
   "source": [
    "pf.plot_comp_mdp_clim_stats_given_var_or_dvar(\n",
    "    region=region, period1_start=period1_start_sim, period1_end=period1_end_sim, \n",
    "    period2_start=period2_start_sim, period2_end=period2_end_sim, months_subset=months_wet, \n",
    "    glass_source_pref=glass_source_pref_sim, var_or_dvar=\"u100\", \n",
    "    perc=False, mask_perc_quantile=pf.mask_perc_quantile_default, \n",
    "    mask_period1=None, mask_period2=None, extents=None, cfv_data=None, output=True\n",
    ")"
   ]
  },
  {
   "cell_type": "code",
   "execution_count": null,
   "id": "facf8a5a-773a-476f-8fcb-23698d5fca18",
   "metadata": {},
   "outputs": [],
   "source": [
    "pf.plot_comp_mdp_clim_stats_given_var_or_dvar(\n",
    "    region=region, period1_start=period1_start_sim, period1_end=period1_end_sim, \n",
    "    period2_start=period2_start_sim, period2_end=period2_end_sim, months_subset=months_wet, \n",
    "    glass_source_pref=glass_source_pref_sim, var_or_dvar=\"v100\", \n",
    "    perc=False, mask_perc_quantile=pf.mask_perc_quantile_default, \n",
    "    mask_period1=None, mask_period2=None, extents=None, cfv_data=None, output=True\n",
    ")"
   ]
  },
  {
   "cell_type": "code",
   "execution_count": null,
   "id": "2070a983-cf86-4c20-9255-cfb033322bb3",
   "metadata": {},
   "outputs": [],
   "source": [
    "pf.plot_comp_mdp_clim_stats_given_var_or_dvar(\n",
    "    region=region, period1_start=period1_start_sim, period1_end=period1_end_sim, \n",
    "    period2_start=period2_start_sim, period2_end=period2_end_sim, months_subset=months_wet, \n",
    "    glass_source_pref=glass_source_pref_sim, var_or_dvar=\"mslp\", \n",
    "    perc=False, mask_perc_quantile=pf.mask_perc_quantile_default, \n",
    "    mask_period1=None, mask_period2=None, extents=None, cfv_data=None, output=True\n",
    ")"
   ]
  },
  {
   "cell_type": "code",
   "execution_count": null,
   "id": "731f534c-6bff-4444-ae47-85bfacc6024d",
   "metadata": {},
   "outputs": [],
   "source": [
    "pf.plot_comp_mdp_clim_stats_given_var_or_dvar(\n",
    "    region=region, period1_start=period1_start_sim, period1_end=period1_end_sim, \n",
    "    period2_start=period2_start_sim, period2_end=period2_end_sim, months_subset=months_wet, \n",
    "    glass_source_pref=glass_source_pref_sim, var_or_dvar=\"t2\", \n",
    "    perc=False, mask_perc_quantile=pf.mask_perc_quantile_default, \n",
    "    mask_period1=None, mask_period2=None, extents=None, cfv_data=None, output=True\n",
    ")"
   ]
  },
  {
   "cell_type": "code",
   "execution_count": null,
   "id": "7e6bf7fc-2098-4c35-8372-2b8dca1095eb",
   "metadata": {},
   "outputs": [],
   "source": [
    "pf.plot_comp_mdp_clim_stats_given_var_or_dvar(\n",
    "    region=region, period1_start=period1_start_sim, period1_end=period1_end_sim, \n",
    "    period2_start=period2_start_sim, period2_end=period2_end_sim, months_subset=months_wet, \n",
    "    glass_source_pref=glass_source_pref_sim, var_or_dvar=\"nac\", \n",
    "    perc=False, mask_perc_quantile=pf.mask_perc_quantile_default, \n",
    "    mask_period1=None, mask_period2=None, extents=None, cfv_data=None, output=True\n",
    ")"
   ]
  },
  {
   "cell_type": "markdown",
   "id": "1c1d2d99-04b4-4651-8ca5-66e20539ed95",
   "metadata": {
    "jp-MarkdownHeadingCollapsed": true,
    "tags": []
   },
   "source": [
    "### Similar periods (wet season): MDP values"
   ]
  },
  {
   "cell_type": "code",
   "execution_count": null,
   "id": "957a934d-7a10-4679-b598-b64af1c9d2c2",
   "metadata": {},
   "outputs": [],
   "source": [
    "pf.plot_comp_mdp_clim_values_given_var_or_dvar(\n",
    "    region=region, period1_start=period1_start_sim, period1_end=period1_end_sim, \n",
    "    period2_start=period2_start_sim, period2_end=period2_end_sim, months_subset=months_wet, \n",
    "    glass_source_pref=glass_source_pref_sim, var_or_dvar=\"dwv100\", time=\"0-5\",\n",
    "    perc=False, mask_perc_quantile=pf.mask_perc_quantile_default, \n",
    "    mask_period1=None, mask_period2=None, extents=None, cfv_data=None, output=True\n",
    ")"
   ]
  },
  {
   "cell_type": "code",
   "execution_count": null,
   "id": "449eac8d-3b98-44a6-938e-78919369fad4",
   "metadata": {},
   "outputs": [],
   "source": [
    "pf.plot_comp_mdp_clim_values_given_var_or_dvar(\n",
    "    region=region, period1_start=period1_start_sim, period1_end=period1_end_sim, \n",
    "    period2_start=period2_start_sim, period2_end=period2_end_sim, months_subset=months_wet, \n",
    "    glass_source_pref=glass_source_pref_sim, var_or_dvar=\"dwv100\", time=\"6-11\",\n",
    "    perc=False, mask_perc_quantile=pf.mask_perc_quantile_default, \n",
    "    mask_period1=None, mask_period2=None, extents=None, cfv_data=None, output=True\n",
    ")"
   ]
  },
  {
   "cell_type": "code",
   "execution_count": null,
   "id": "123d401d-cf66-44e6-bbe7-62b7311a3bee",
   "metadata": {},
   "outputs": [],
   "source": [
    "pf.plot_comp_mdp_clim_values_given_var_or_dvar(\n",
    "    region=region, period1_start=period1_start_sim, period1_end=period1_end_sim, \n",
    "    period2_start=period2_start_sim, period2_end=period2_end_sim, months_subset=months_wet, \n",
    "    glass_source_pref=glass_source_pref_sim, var_or_dvar=\"dwv100\", time=\"12-17\",\n",
    "    perc=False, mask_perc_quantile=pf.mask_perc_quantile_default, \n",
    "    mask_period1=None, mask_period2=None, extents=None, cfv_data=None, output=True\n",
    ")"
   ]
  },
  {
   "cell_type": "code",
   "execution_count": null,
   "id": "0dd18242-e984-4f96-8214-ec9fc223b3fb",
   "metadata": {},
   "outputs": [],
   "source": [
    "pf.plot_comp_mdp_clim_values_given_var_or_dvar(\n",
    "    region=region, period1_start=period1_start_sim, period1_end=period1_end_sim, \n",
    "    period2_start=period2_start_sim, period2_end=period2_end_sim, months_subset=months_wet, \n",
    "    glass_source_pref=glass_source_pref_sim, var_or_dvar=\"dwv100\", time=\"18-23\",\n",
    "    perc=False, mask_perc_quantile=pf.mask_perc_quantile_default, \n",
    "    mask_period1=None, mask_period2=None, extents=None, cfv_data=None, output=True\n",
    ")"
   ]
  },
  {
   "cell_type": "code",
   "execution_count": null,
   "id": "4d94d9a9-c0ba-4dc0-bb0d-ee1914fe14f7",
   "metadata": {},
   "outputs": [],
   "source": [
    "pf.plot_comp_mdp_clim_values_given_var_or_dvar(\n",
    "    region=region, period1_start=period1_start_sim, period1_end=period1_end_sim, \n",
    "    period2_start=period2_start_sim, period2_end=period2_end_sim, months_subset=months_wet, \n",
    "    glass_source_pref=glass_source_pref_sim, var_or_dvar=\"dmslp\", time=\"0-5\",\n",
    "    perc=False, mask_perc_quantile=pf.mask_perc_quantile_default, \n",
    "    mask_period1=None, mask_period2=None, extents=None, cfv_data=None, output=True\n",
    ")"
   ]
  },
  {
   "cell_type": "code",
   "execution_count": null,
   "id": "d5346c65-594c-4610-9ee6-5c4769b88073",
   "metadata": {},
   "outputs": [],
   "source": [
    "pf.plot_comp_mdp_clim_values_given_var_or_dvar(\n",
    "    region=region, period1_start=period1_start_sim, period1_end=period1_end_sim, \n",
    "    period2_start=period2_start_sim, period2_end=period2_end_sim, months_subset=months_wet, \n",
    "    glass_source_pref=glass_source_pref_sim, var_or_dvar=\"dmslp\", time=\"6-11\",\n",
    "    perc=False, mask_perc_quantile=pf.mask_perc_quantile_default, \n",
    "    mask_period1=None, mask_period2=None, extents=None, cfv_data=None, output=True\n",
    ")"
   ]
  },
  {
   "cell_type": "code",
   "execution_count": null,
   "id": "a5df88fd-dd22-49f7-aa75-10c5170b2857",
   "metadata": {},
   "outputs": [],
   "source": [
    "pf.plot_comp_mdp_clim_values_given_var_or_dvar(\n",
    "    region=region, period1_start=period1_start_sim, period1_end=period1_end_sim, \n",
    "    period2_start=period2_start_sim, period2_end=period2_end_sim, months_subset=months_wet, \n",
    "    glass_source_pref=glass_source_pref_sim, var_or_dvar=\"dmslp\", time=\"12-17\",\n",
    "    perc=False, mask_perc_quantile=pf.mask_perc_quantile_default, \n",
    "    mask_period1=None, mask_period2=None, extents=None, cfv_data=None, output=True\n",
    ")"
   ]
  },
  {
   "cell_type": "code",
   "execution_count": null,
   "id": "6916e9ab-ac6b-456f-8b1a-630eafb10fe0",
   "metadata": {},
   "outputs": [],
   "source": [
    "pf.plot_comp_mdp_clim_values_given_var_or_dvar(\n",
    "    region=region, period1_start=period1_start_sim, period1_end=period1_end_sim, \n",
    "    period2_start=period2_start_sim, period2_end=period2_end_sim, months_subset=months_wet, \n",
    "    glass_source_pref=glass_source_pref_sim, var_or_dvar=\"dmslp\", time=\"18-23\",\n",
    "    perc=False, mask_perc_quantile=pf.mask_perc_quantile_default, \n",
    "    mask_period1=None, mask_period2=None, extents=None, cfv_data=None, output=True\n",
    ")"
   ]
  },
  {
   "cell_type": "code",
   "execution_count": null,
   "id": "11dab186-6bfc-47b9-b740-36e9f32a7bff",
   "metadata": {},
   "outputs": [],
   "source": [
    "pf.plot_comp_mdp_clim_values_given_var_or_dvar(\n",
    "    region=region, period1_start=period1_start_sim, period1_end=period1_end_sim, \n",
    "    period2_start=period2_start_sim, period2_end=period2_end_sim, months_subset=months_wet, \n",
    "    glass_source_pref=glass_source_pref_sim, var_or_dvar=\"dt2\", time=\"0-5\",\n",
    "    perc=False, mask_perc_quantile=pf.mask_perc_quantile_default, \n",
    "    mask_period1=None, mask_period2=None, extents=None, cfv_data=None, output=True\n",
    ")"
   ]
  },
  {
   "cell_type": "code",
   "execution_count": null,
   "id": "38339a36-4312-44a3-b646-5c2d4a11cdf8",
   "metadata": {},
   "outputs": [],
   "source": [
    "pf.plot_comp_mdp_clim_values_given_var_or_dvar(\n",
    "    region=region, period1_start=period1_start_sim, period1_end=period1_end_sim, \n",
    "    period2_start=period2_start_sim, period2_end=period2_end_sim, months_subset=months_wet, \n",
    "    glass_source_pref=glass_source_pref_sim, var_or_dvar=\"dt2\", time=\"6-11\",\n",
    "    perc=False, mask_perc_quantile=pf.mask_perc_quantile_default, \n",
    "    mask_period1=None, mask_period2=None, extents=None, cfv_data=None, output=True\n",
    ")"
   ]
  },
  {
   "cell_type": "code",
   "execution_count": null,
   "id": "dcae3bb3-43b4-4ec4-bcd9-a6ede004ebec",
   "metadata": {},
   "outputs": [],
   "source": [
    "pf.plot_comp_mdp_clim_values_given_var_or_dvar(\n",
    "    region=region, period1_start=period1_start_sim, period1_end=period1_end_sim, \n",
    "    period2_start=period2_start_sim, period2_end=period2_end_sim, months_subset=months_wet, \n",
    "    glass_source_pref=glass_source_pref_sim, var_or_dvar=\"dt2\", time=\"12-17\",\n",
    "    perc=False, mask_perc_quantile=pf.mask_perc_quantile_default, \n",
    "    mask_period1=None, mask_period2=None, extents=None, cfv_data=None, output=True\n",
    ")"
   ]
  },
  {
   "cell_type": "code",
   "execution_count": null,
   "id": "149a8b96-7706-4b56-a299-f761f342140a",
   "metadata": {},
   "outputs": [],
   "source": [
    "pf.plot_comp_mdp_clim_values_given_var_or_dvar(\n",
    "    region=region, period1_start=period1_start_sim, period1_end=period1_end_sim, \n",
    "    period2_start=period2_start_sim, period2_end=period2_end_sim, months_subset=months_wet, \n",
    "    glass_source_pref=glass_source_pref_sim, var_or_dvar=\"dt2\", time=\"18-23\",\n",
    "    perc=False, mask_perc_quantile=pf.mask_perc_quantile_default, \n",
    "    mask_period1=None, mask_period2=None, extents=None, cfv_data=None, output=True\n",
    ")"
   ]
  },
  {
   "cell_type": "code",
   "execution_count": null,
   "id": "60472123-843b-47e5-9c03-8efe100c7903",
   "metadata": {},
   "outputs": [],
   "source": [
    "pf.plot_comp_mdp_clim_values_given_var_or_dvar(\n",
    "    region=region, period1_start=period1_start_sim, period1_end=period1_end_sim, \n",
    "    period2_start=period2_start_sim, period2_end=period2_end_sim, months_subset=months_wet, \n",
    "    glass_source_pref=glass_source_pref_sim, var_or_dvar=\"dnac\", time=\"0-5\",\n",
    "    perc=False, mask_perc_quantile=pf.mask_perc_quantile_default, \n",
    "    mask_period1=None, mask_period2=None, extents=None, cfv_data=None, output=True\n",
    ")"
   ]
  },
  {
   "cell_type": "code",
   "execution_count": null,
   "id": "ac9d07af-e857-4dcd-80f3-c9154276a70b",
   "metadata": {},
   "outputs": [],
   "source": [
    "pf.plot_comp_mdp_clim_values_given_var_or_dvar(\n",
    "    region=region, period1_start=period1_start_sim, period1_end=period1_end_sim, \n",
    "    period2_start=period2_start_sim, period2_end=period2_end_sim, months_subset=months_wet, \n",
    "    glass_source_pref=glass_source_pref_sim, var_or_dvar=\"dnac\", time=\"6-11\",\n",
    "    perc=False, mask_perc_quantile=pf.mask_perc_quantile_default, \n",
    "    mask_period1=None, mask_period2=None, extents=None, cfv_data=None, output=True\n",
    ")"
   ]
  },
  {
   "cell_type": "code",
   "execution_count": null,
   "id": "165bdf48-db6d-41ab-a13a-4d090899e186",
   "metadata": {},
   "outputs": [],
   "source": [
    "pf.plot_comp_mdp_clim_values_given_var_or_dvar(\n",
    "    region=region, period1_start=period1_start_sim, period1_end=period1_end_sim, \n",
    "    period2_start=period2_start_sim, period2_end=period2_end_sim, months_subset=months_wet, \n",
    "    glass_source_pref=glass_source_pref_sim, var_or_dvar=\"dnac\", time=\"12-17\",\n",
    "    perc=False, mask_perc_quantile=pf.mask_perc_quantile_default, \n",
    "    mask_period1=None, mask_period2=None, extents=None, cfv_data=None, output=True\n",
    ")"
   ]
  },
  {
   "cell_type": "code",
   "execution_count": null,
   "id": "400b2689-cbcd-4fff-a921-8b5ce01a6a3a",
   "metadata": {},
   "outputs": [],
   "source": [
    "pf.plot_comp_mdp_clim_values_given_var_or_dvar(\n",
    "    region=region, period1_start=period1_start_sim, period1_end=period1_end_sim, \n",
    "    period2_start=period2_start_sim, period2_end=period2_end_sim, months_subset=months_wet, \n",
    "    glass_source_pref=glass_source_pref_sim, var_or_dvar=\"dnac\", time=\"18-23\",\n",
    "    perc=False, mask_perc_quantile=pf.mask_perc_quantile_default, \n",
    "    mask_period1=None, mask_period2=None, extents=None, cfv_data=None, output=True\n",
    ")"
   ]
  },
  {
   "cell_type": "code",
   "execution_count": null,
   "id": "2bd56b79-cd49-4295-9a56-5de3044a7826",
   "metadata": {},
   "outputs": [],
   "source": [
    "pf.plot_comp_mdp_clim_values_given_var_or_dvar(\n",
    "    region=region, period1_start=period1_start_sim, period1_end=period1_end_sim, \n",
    "    period2_start=period2_start_sim, period2_end=period2_end_sim, months_subset=months_wet, \n",
    "    glass_source_pref=glass_source_pref_sim, var_or_dvar=\"nac\", time=\"0-5\",\n",
    "    perc=False, mask_perc_quantile=pf.mask_perc_quantile_default, \n",
    "    mask_period1=None, mask_period2=None, extents=None, cfv_data=None, output=True\n",
    ")"
   ]
  },
  {
   "cell_type": "code",
   "execution_count": null,
   "id": "d27ad776-ef25-4687-ab8b-8ab5f18f1093",
   "metadata": {},
   "outputs": [],
   "source": [
    "pf.plot_comp_mdp_clim_values_given_var_or_dvar(\n",
    "    region=region, period1_start=period1_start_sim, period1_end=period1_end_sim, \n",
    "    period2_start=period2_start_sim, period2_end=period2_end_sim, months_subset=months_wet, \n",
    "    glass_source_pref=glass_source_pref_sim, var_or_dvar=\"nac\", time=\"6-11\",\n",
    "    perc=False, mask_perc_quantile=pf.mask_perc_quantile_default, \n",
    "    mask_period1=None, mask_period2=None, extents=None, cfv_data=None, output=True\n",
    ")"
   ]
  },
  {
   "cell_type": "code",
   "execution_count": null,
   "id": "21468cc0-9fee-4d55-95dc-9de0d721472e",
   "metadata": {},
   "outputs": [],
   "source": [
    "pf.plot_comp_mdp_clim_values_given_var_or_dvar(\n",
    "    region=region, period1_start=period1_start_sim, period1_end=period1_end_sim, \n",
    "    period2_start=period2_start_sim, period2_end=period2_end_sim, months_subset=months_wet, \n",
    "    glass_source_pref=glass_source_pref_sim, var_or_dvar=\"nac\", time=\"12-17\",\n",
    "    perc=False, mask_perc_quantile=pf.mask_perc_quantile_default, \n",
    "    mask_period1=None, mask_period2=None, extents=None, cfv_data=None, output=True\n",
    ")"
   ]
  },
  {
   "cell_type": "code",
   "execution_count": null,
   "id": "d979a577-df17-431f-8843-4ff0d0f3a091",
   "metadata": {},
   "outputs": [],
   "source": [
    "pf.plot_comp_mdp_clim_values_given_var_or_dvar(\n",
    "    region=region, period1_start=period1_start_sim, period1_end=period1_end_sim, \n",
    "    period2_start=period2_start_sim, period2_end=period2_end_sim, months_subset=months_wet, \n",
    "    glass_source_pref=glass_source_pref_sim, var_or_dvar=\"nac\", time=\"18-23\",\n",
    "    perc=False, mask_perc_quantile=pf.mask_perc_quantile_default, \n",
    "    mask_period1=None, mask_period2=None, extents=None, cfv_data=None, output=True\n",
    ")"
   ]
  },
  {
   "cell_type": "markdown",
   "id": "031f6e63-a35c-4162-93f1-74f7cfe08818",
   "metadata": {
    "jp-MarkdownHeadingCollapsed": true,
    "tags": []
   },
   "source": [
    "### Similar periods (wet season): WSD"
   ]
  },
  {
   "cell_type": "code",
   "execution_count": null,
   "id": "0850d931-e1db-4dad-ae05-9580c163b4ce",
   "metadata": {},
   "outputs": [],
   "source": [
    "pf.plot_comp_wsd_clim(\n",
    "    region=region, period1_start=period1_start_sim, period1_end=period1_end_sim, \n",
    "    period2_start=period2_start_sim, period2_end=period2_end_sim, months_subset=months_wet, \n",
    "    glass_source_pref=glass_source_pref_sim, \n",
    "    perc=False, mask_perc_quantile=pf.mask_perc_quantile_default, \n",
    "    mask_period1=None, mask_period2=None, extents=None, cfv_data=None, output=True\n",
    ")"
   ]
  },
  {
   "cell_type": "markdown",
   "id": "cc3b333f-c6ef-48f2-bfb0-d953ba420b80",
   "metadata": {},
   "source": [
    "## Similar periods (dry season)"
   ]
  },
  {
   "cell_type": "markdown",
   "id": "d31cff45-01fc-4d6d-938f-4c3502d42f14",
   "metadata": {
    "jp-MarkdownHeadingCollapsed": true,
    "tags": []
   },
   "source": [
    "### Similar periods (dry season): MDP stats"
   ]
  },
  {
   "cell_type": "code",
   "execution_count": null,
   "id": "93996e5f-fea2-4a03-aed4-881a944a55fb",
   "metadata": {},
   "outputs": [],
   "source": [
    "pf.plot_comp_mdp_clim_stats_given_var_or_dvar(\n",
    "    region=region, period1_start=period1_start_sim, period1_end=period1_end_sim, \n",
    "    period2_start=period2_start_sim, period2_end=period2_end_sim, months_subset=months_dry, \n",
    "    glass_source_pref=glass_source_pref_sim, var_or_dvar=\"wv100\", \n",
    "    perc=False, mask_perc_quantile=pf.mask_perc_quantile_default, \n",
    "    mask_period1=None, mask_period2=None, extents=None, cfv_data=None, output=True\n",
    ")"
   ]
  },
  {
   "cell_type": "code",
   "execution_count": null,
   "id": "fddab7cd-e16e-406d-9098-f74d28f72636",
   "metadata": {},
   "outputs": [],
   "source": [
    "pf.plot_comp_mdp_clim_stats_given_var_or_dvar(\n",
    "    region=region, period1_start=period1_start_sim, period1_end=period1_end_sim, \n",
    "    period2_start=period2_start_sim, period2_end=period2_end_sim, months_subset=months_dry, \n",
    "    glass_source_pref=glass_source_pref_sim, var_or_dvar=\"ws100\", \n",
    "    perc=False, mask_perc_quantile=pf.mask_perc_quantile_default, \n",
    "    mask_period1=None, mask_period2=None, extents=None, cfv_data=None, output=True\n",
    ")"
   ]
  },
  {
   "cell_type": "code",
   "execution_count": null,
   "id": "816a9f8e-fe4d-457e-884d-d6fd1b3668d9",
   "metadata": {},
   "outputs": [],
   "source": [
    "pf.plot_comp_mdp_clim_stats_given_var_or_dvar(\n",
    "    region=region, period1_start=period1_start_sim, period1_end=period1_end_sim, \n",
    "    period2_start=period2_start_sim, period2_end=period2_end_sim, months_subset=months_dry, \n",
    "    glass_source_pref=glass_source_pref_sim, var_or_dvar=\"u100\", \n",
    "    perc=False, mask_perc_quantile=pf.mask_perc_quantile_default, \n",
    "    mask_period1=None, mask_period2=None, extents=None, cfv_data=None, output=True\n",
    ")"
   ]
  },
  {
   "cell_type": "code",
   "execution_count": null,
   "id": "0c4b80ae-194b-4636-abda-e91fb5d177cf",
   "metadata": {},
   "outputs": [],
   "source": [
    "pf.plot_comp_mdp_clim_stats_given_var_or_dvar(\n",
    "    region=region, period1_start=period1_start_sim, period1_end=period1_end_sim, \n",
    "    period2_start=period2_start_sim, period2_end=period2_end_sim, months_subset=months_dry, \n",
    "    glass_source_pref=glass_source_pref_sim, var_or_dvar=\"v100\", \n",
    "    perc=False, mask_perc_quantile=pf.mask_perc_quantile_default, \n",
    "    mask_period1=None, mask_period2=None, extents=None, cfv_data=None, output=True\n",
    ")"
   ]
  },
  {
   "cell_type": "code",
   "execution_count": null,
   "id": "2f067fc8-c789-496d-ab6c-a410adbf7004",
   "metadata": {},
   "outputs": [],
   "source": [
    "pf.plot_comp_mdp_clim_stats_given_var_or_dvar(\n",
    "    region=region, period1_start=period1_start_sim, period1_end=period1_end_sim, \n",
    "    period2_start=period2_start_sim, period2_end=period2_end_sim, months_subset=months_dry, \n",
    "    glass_source_pref=glass_source_pref_sim, var_or_dvar=\"mslp\", \n",
    "    perc=False, mask_perc_quantile=pf.mask_perc_quantile_default, \n",
    "    mask_period1=None, mask_period2=None, extents=None, cfv_data=None, output=True\n",
    ")"
   ]
  },
  {
   "cell_type": "code",
   "execution_count": null,
   "id": "0f71fb97-358a-4305-befe-63954cc6c5ad",
   "metadata": {},
   "outputs": [],
   "source": [
    "pf.plot_comp_mdp_clim_stats_given_var_or_dvar(\n",
    "    region=region, period1_start=period1_start_sim, period1_end=period1_end_sim, \n",
    "    period2_start=period2_start_sim, period2_end=period2_end_sim, months_subset=months_dry, \n",
    "    glass_source_pref=glass_source_pref_sim, var_or_dvar=\"t2\", \n",
    "    perc=False, mask_perc_quantile=pf.mask_perc_quantile_default, \n",
    "    mask_period1=None, mask_period2=None, extents=None, cfv_data=None, output=True\n",
    ")"
   ]
  },
  {
   "cell_type": "code",
   "execution_count": null,
   "id": "b1f80429-bd41-4880-b903-3166c9be4511",
   "metadata": {},
   "outputs": [],
   "source": [
    "pf.plot_comp_mdp_clim_stats_given_var_or_dvar(\n",
    "    region=region, period1_start=period1_start_sim, period1_end=period1_end_sim, \n",
    "    period2_start=period2_start_sim, period2_end=period2_end_sim, months_subset=months_dry, \n",
    "    glass_source_pref=glass_source_pref_sim, var_or_dvar=\"nac\", \n",
    "    perc=False, mask_perc_quantile=pf.mask_perc_quantile_default, \n",
    "    mask_period1=None, mask_period2=None, extents=None, cfv_data=None, output=True\n",
    ")"
   ]
  },
  {
   "cell_type": "markdown",
   "id": "88e61ca0-46f7-4877-b023-e6eb33b4f899",
   "metadata": {
    "jp-MarkdownHeadingCollapsed": true,
    "tags": []
   },
   "source": [
    "### Similar periods (dry season): MDP values"
   ]
  },
  {
   "cell_type": "code",
   "execution_count": null,
   "id": "8e2d10bc-9934-48e5-a754-00ef50d87b93",
   "metadata": {},
   "outputs": [],
   "source": [
    "pf.plot_comp_mdp_clim_values_given_var_or_dvar(\n",
    "    region=region, period1_start=period1_start_sim, period1_end=period1_end_sim, \n",
    "    period2_start=period2_start_sim, period2_end=period2_end_sim, months_subset=months_dry, \n",
    "    glass_source_pref=glass_source_pref_sim, var_or_dvar=\"dwv100\", time=\"0-5\",\n",
    "    perc=False, mask_perc_quantile=pf.mask_perc_quantile_default, \n",
    "    mask_period1=None, mask_period2=None, extents=None, cfv_data=None, output=True\n",
    ")"
   ]
  },
  {
   "cell_type": "code",
   "execution_count": null,
   "id": "6b0b4409-438d-4143-be79-43cd28adcc71",
   "metadata": {},
   "outputs": [],
   "source": [
    "pf.plot_comp_mdp_clim_values_given_var_or_dvar(\n",
    "    region=region, period1_start=period1_start_sim, period1_end=period1_end_sim, \n",
    "    period2_start=period2_start_sim, period2_end=period2_end_sim, months_subset=months_dry, \n",
    "    glass_source_pref=glass_source_pref_sim, var_or_dvar=\"dwv100\", time=\"6-11\",\n",
    "    perc=False, mask_perc_quantile=pf.mask_perc_quantile_default, \n",
    "    mask_period1=None, mask_period2=None, extents=None, cfv_data=None, output=True\n",
    ")"
   ]
  },
  {
   "cell_type": "code",
   "execution_count": null,
   "id": "199a046b-f4a2-4600-8f37-0d11681c8e20",
   "metadata": {},
   "outputs": [],
   "source": [
    "pf.plot_comp_mdp_clim_values_given_var_or_dvar(\n",
    "    region=region, period1_start=period1_start_sim, period1_end=period1_end_sim, \n",
    "    period2_start=period2_start_sim, period2_end=period2_end_sim, months_subset=months_dry, \n",
    "    glass_source_pref=glass_source_pref_sim, var_or_dvar=\"dwv100\", time=\"12-17\",\n",
    "    perc=False, mask_perc_quantile=pf.mask_perc_quantile_default, \n",
    "    mask_period1=None, mask_period2=None, extents=None, cfv_data=None, output=True\n",
    ")"
   ]
  },
  {
   "cell_type": "code",
   "execution_count": null,
   "id": "1a48d724-e3e6-4b65-bc36-cd9315151bf2",
   "metadata": {},
   "outputs": [],
   "source": [
    "pf.plot_comp_mdp_clim_values_given_var_or_dvar(\n",
    "    region=region, period1_start=period1_start_sim, period1_end=period1_end_sim, \n",
    "    period2_start=period2_start_sim, period2_end=period2_end_sim, months_subset=months_dry, \n",
    "    glass_source_pref=glass_source_pref_sim, var_or_dvar=\"dwv100\", time=\"18-23\",\n",
    "    perc=False, mask_perc_quantile=pf.mask_perc_quantile_default, \n",
    "    mask_period1=None, mask_period2=None, extents=None, cfv_data=None, output=True\n",
    ")"
   ]
  },
  {
   "cell_type": "code",
   "execution_count": null,
   "id": "60bab856-9762-400b-bb09-a21814512dfb",
   "metadata": {},
   "outputs": [],
   "source": [
    "pf.plot_comp_mdp_clim_values_given_var_or_dvar(\n",
    "    region=region, period1_start=period1_start_sim, period1_end=period1_end_sim, \n",
    "    period2_start=period2_start_sim, period2_end=period2_end_sim, months_subset=months_dry, \n",
    "    glass_source_pref=glass_source_pref_sim, var_or_dvar=\"dmslp\", time=\"0-5\",\n",
    "    perc=False, mask_perc_quantile=pf.mask_perc_quantile_default, \n",
    "    mask_period1=None, mask_period2=None, extents=None, cfv_data=None, output=True\n",
    ")"
   ]
  },
  {
   "cell_type": "code",
   "execution_count": null,
   "id": "f6faa983-60e5-410c-82b3-dc09fda06a56",
   "metadata": {},
   "outputs": [],
   "source": [
    "pf.plot_comp_mdp_clim_values_given_var_or_dvar(\n",
    "    region=region, period1_start=period1_start_sim, period1_end=period1_end_sim, \n",
    "    period2_start=period2_start_sim, period2_end=period2_end_sim, months_subset=months_dry, \n",
    "    glass_source_pref=glass_source_pref_sim, var_or_dvar=\"dmslp\", time=\"6-11\",\n",
    "    perc=False, mask_perc_quantile=pf.mask_perc_quantile_default, \n",
    "    mask_period1=None, mask_period2=None, extents=None, cfv_data=None, output=True\n",
    ")"
   ]
  },
  {
   "cell_type": "code",
   "execution_count": null,
   "id": "06b30f65-d4a5-4823-8eb3-b1608967e036",
   "metadata": {},
   "outputs": [],
   "source": [
    "pf.plot_comp_mdp_clim_values_given_var_or_dvar(\n",
    "    region=region, period1_start=period1_start_sim, period1_end=period1_end_sim, \n",
    "    period2_start=period2_start_sim, period2_end=period2_end_sim, months_subset=months_dry, \n",
    "    glass_source_pref=glass_source_pref_sim, var_or_dvar=\"dmslp\", time=\"12-17\",\n",
    "    perc=False, mask_perc_quantile=pf.mask_perc_quantile_default, \n",
    "    mask_period1=None, mask_period2=None, extents=None, cfv_data=None, output=True\n",
    ")"
   ]
  },
  {
   "cell_type": "code",
   "execution_count": null,
   "id": "e4c04806-6829-4945-92dc-964372248384",
   "metadata": {},
   "outputs": [],
   "source": [
    "pf.plot_comp_mdp_clim_values_given_var_or_dvar(\n",
    "    region=region, period1_start=period1_start_sim, period1_end=period1_end_sim, \n",
    "    period2_start=period2_start_sim, period2_end=period2_end_sim, months_subset=months_dry, \n",
    "    glass_source_pref=glass_source_pref_sim, var_or_dvar=\"dmslp\", time=\"18-23\",\n",
    "    perc=False, mask_perc_quantile=pf.mask_perc_quantile_default, \n",
    "    mask_period1=None, mask_period2=None, extents=None, cfv_data=None, output=True\n",
    ")"
   ]
  },
  {
   "cell_type": "code",
   "execution_count": null,
   "id": "04c8ffec-ce78-4972-917d-4581e3694ef5",
   "metadata": {},
   "outputs": [],
   "source": [
    "pf.plot_comp_mdp_clim_values_given_var_or_dvar(\n",
    "    region=region, period1_start=period1_start_sim, period1_end=period1_end_sim, \n",
    "    period2_start=period2_start_sim, period2_end=period2_end_sim, months_subset=months_dry, \n",
    "    glass_source_pref=glass_source_pref_sim, var_or_dvar=\"dt2\", time=\"0-5\",\n",
    "    perc=False, mask_perc_quantile=pf.mask_perc_quantile_default, \n",
    "    mask_period1=None, mask_period2=None, extents=None, cfv_data=None, output=True\n",
    ")"
   ]
  },
  {
   "cell_type": "code",
   "execution_count": null,
   "id": "ef32308e-8b36-4f3e-bbe4-18946bfd4136",
   "metadata": {},
   "outputs": [],
   "source": [
    "pf.plot_comp_mdp_clim_values_given_var_or_dvar(\n",
    "    region=region, period1_start=period1_start_sim, period1_end=period1_end_sim, \n",
    "    period2_start=period2_start_sim, period2_end=period2_end_sim, months_subset=months_dry, \n",
    "    glass_source_pref=glass_source_pref_sim, var_or_dvar=\"dt2\", time=\"6-11\",\n",
    "    perc=False, mask_perc_quantile=pf.mask_perc_quantile_default, \n",
    "    mask_period1=None, mask_period2=None, extents=None, cfv_data=None, output=True\n",
    ")"
   ]
  },
  {
   "cell_type": "code",
   "execution_count": null,
   "id": "c1e14fa7-a046-4ece-9a62-9d95b7479425",
   "metadata": {},
   "outputs": [],
   "source": [
    "pf.plot_comp_mdp_clim_values_given_var_or_dvar(\n",
    "    region=region, period1_start=period1_start_sim, period1_end=period1_end_sim, \n",
    "    period2_start=period2_start_sim, period2_end=period2_end_sim, months_subset=months_dry, \n",
    "    glass_source_pref=glass_source_pref_sim, var_or_dvar=\"dt2\", time=\"12-17\",\n",
    "    perc=False, mask_perc_quantile=pf.mask_perc_quantile_default, \n",
    "    mask_period1=None, mask_period2=None, extents=None, cfv_data=None, output=True\n",
    ")"
   ]
  },
  {
   "cell_type": "code",
   "execution_count": null,
   "id": "0e95467a-308e-4095-98c3-e064ebbef74a",
   "metadata": {},
   "outputs": [],
   "source": [
    "pf.plot_comp_mdp_clim_values_given_var_or_dvar(\n",
    "    region=region, period1_start=period1_start_sim, period1_end=period1_end_sim, \n",
    "    period2_start=period2_start_sim, period2_end=period2_end_sim, months_subset=months_dry, \n",
    "    glass_source_pref=glass_source_pref_sim, var_or_dvar=\"dt2\", time=\"18-23\",\n",
    "    perc=False, mask_perc_quantile=pf.mask_perc_quantile_default, \n",
    "    mask_period1=None, mask_period2=None, extents=None, cfv_data=None, output=True\n",
    ")"
   ]
  },
  {
   "cell_type": "code",
   "execution_count": null,
   "id": "08da0fc5-bce6-426a-8572-d0d276ab43fa",
   "metadata": {},
   "outputs": [],
   "source": [
    "pf.plot_comp_mdp_clim_values_given_var_or_dvar(\n",
    "    region=region, period1_start=period1_start_sim, period1_end=period1_end_sim, \n",
    "    period2_start=period2_start_sim, period2_end=period2_end_sim, months_subset=months_dry, \n",
    "    glass_source_pref=glass_source_pref_sim, var_or_dvar=\"dnac\", time=\"0-5\",\n",
    "    perc=False, mask_perc_quantile=pf.mask_perc_quantile_default, \n",
    "    mask_period1=None, mask_period2=None, extents=None, cfv_data=None, output=True\n",
    ")"
   ]
  },
  {
   "cell_type": "code",
   "execution_count": null,
   "id": "4f113ec1-ebfb-40d1-8a92-7def049f6a5c",
   "metadata": {},
   "outputs": [],
   "source": [
    "pf.plot_comp_mdp_clim_values_given_var_or_dvar(\n",
    "    region=region, period1_start=period1_start_sim, period1_end=period1_end_sim, \n",
    "    period2_start=period2_start_sim, period2_end=period2_end_sim, months_subset=months_dry, \n",
    "    glass_source_pref=glass_source_pref_sim, var_or_dvar=\"dnac\", time=\"6-11\",\n",
    "    perc=False, mask_perc_quantile=pf.mask_perc_quantile_default, \n",
    "    mask_period1=None, mask_period2=None, extents=None, cfv_data=None, output=True\n",
    ")"
   ]
  },
  {
   "cell_type": "code",
   "execution_count": null,
   "id": "889474b2-6a49-4b8a-9002-670d20944bc7",
   "metadata": {},
   "outputs": [],
   "source": [
    "pf.plot_comp_mdp_clim_values_given_var_or_dvar(\n",
    "    region=region, period1_start=period1_start_sim, period1_end=period1_end_sim, \n",
    "    period2_start=period2_start_sim, period2_end=period2_end_sim, months_subset=months_dry, \n",
    "    glass_source_pref=glass_source_pref_sim, var_or_dvar=\"dnac\", time=\"12-17\",\n",
    "    perc=False, mask_perc_quantile=pf.mask_perc_quantile_default, \n",
    "    mask_period1=None, mask_period2=None, extents=None, cfv_data=None, output=True\n",
    ")"
   ]
  },
  {
   "cell_type": "code",
   "execution_count": null,
   "id": "0b3723b5-6b54-4868-b9ef-888727b6c791",
   "metadata": {},
   "outputs": [],
   "source": [
    "pf.plot_comp_mdp_clim_values_given_var_or_dvar(\n",
    "    region=region, period1_start=period1_start_sim, period1_end=period1_end_sim, \n",
    "    period2_start=period2_start_sim, period2_end=period2_end_sim, months_subset=months_dry, \n",
    "    glass_source_pref=glass_source_pref_sim, var_or_dvar=\"dnac\", time=\"18-23\",\n",
    "    perc=False, mask_perc_quantile=pf.mask_perc_quantile_default, \n",
    "    mask_period1=None, mask_period2=None, extents=None, cfv_data=None, output=True\n",
    ")"
   ]
  },
  {
   "cell_type": "code",
   "execution_count": null,
   "id": "20c67780-28c8-4b25-9aed-3828da142994",
   "metadata": {},
   "outputs": [],
   "source": [
    "pf.plot_comp_mdp_clim_values_given_var_or_dvar(\n",
    "    region=region, period1_start=period1_start_sim, period1_end=period1_end_sim, \n",
    "    period2_start=period2_start_sim, period2_end=period2_end_sim, months_subset=months_dry, \n",
    "    glass_source_pref=glass_source_pref_sim, var_or_dvar=\"nac\", time=\"0-5\",\n",
    "    perc=False, mask_perc_quantile=pf.mask_perc_quantile_default, \n",
    "    mask_period1=None, mask_period2=None, extents=None, cfv_data=None, output=True\n",
    ")"
   ]
  },
  {
   "cell_type": "code",
   "execution_count": null,
   "id": "f6e9fa69-40ef-45d3-bc62-d93b4a7e2092",
   "metadata": {},
   "outputs": [],
   "source": [
    "pf.plot_comp_mdp_clim_values_given_var_or_dvar(\n",
    "    region=region, period1_start=period1_start_sim, period1_end=period1_end_sim, \n",
    "    period2_start=period2_start_sim, period2_end=period2_end_sim, months_subset=months_dry, \n",
    "    glass_source_pref=glass_source_pref_sim, var_or_dvar=\"nac\", time=\"6-11\",\n",
    "    perc=False, mask_perc_quantile=pf.mask_perc_quantile_default, \n",
    "    mask_period1=None, mask_period2=None, extents=None, cfv_data=None, output=True\n",
    ")"
   ]
  },
  {
   "cell_type": "code",
   "execution_count": null,
   "id": "1e615414-a49e-42f9-b0d2-6f115eaae2bc",
   "metadata": {},
   "outputs": [],
   "source": [
    "pf.plot_comp_mdp_clim_values_given_var_or_dvar(\n",
    "    region=region, period1_start=period1_start_sim, period1_end=period1_end_sim, \n",
    "    period2_start=period2_start_sim, period2_end=period2_end_sim, months_subset=months_dry, \n",
    "    glass_source_pref=glass_source_pref_sim, var_or_dvar=\"nac\", time=\"12-17\",\n",
    "    perc=False, mask_perc_quantile=pf.mask_perc_quantile_default, \n",
    "    mask_period1=None, mask_period2=None, extents=None, cfv_data=None, output=True\n",
    ")"
   ]
  },
  {
   "cell_type": "code",
   "execution_count": null,
   "id": "0a7f8df8-330c-4aba-865f-5edbefe04696",
   "metadata": {},
   "outputs": [],
   "source": [
    "pf.plot_comp_mdp_clim_values_given_var_or_dvar(\n",
    "    region=region, period1_start=period1_start_sim, period1_end=period1_end_sim, \n",
    "    period2_start=period2_start_sim, period2_end=period2_end_sim, months_subset=months_dry, \n",
    "    glass_source_pref=glass_source_pref_sim, var_or_dvar=\"nac\", time=\"18-23\",\n",
    "    perc=False, mask_perc_quantile=pf.mask_perc_quantile_default, \n",
    "    mask_period1=None, mask_period2=None, extents=None, cfv_data=None, output=True\n",
    ")"
   ]
  },
  {
   "cell_type": "markdown",
   "id": "0405cef2-8824-4f79-af8c-f8ae5d275d48",
   "metadata": {
    "jp-MarkdownHeadingCollapsed": true,
    "tags": []
   },
   "source": [
    "### Similar periods (dry season): WSD"
   ]
  },
  {
   "cell_type": "code",
   "execution_count": null,
   "id": "12819e11-cc89-4933-8d25-798d7582e772",
   "metadata": {},
   "outputs": [],
   "source": [
    "pf.plot_comp_wsd_clim(\n",
    "    region=region, period1_start=period1_start_sim, period1_end=period1_end_sim, \n",
    "    period2_start=period2_start_sim, period2_end=period2_end_sim, months_subset=months_dry, \n",
    "    glass_source_pref=glass_source_pref_sim, \n",
    "    perc=False, mask_perc_quantile=pf.mask_perc_quantile_default, \n",
    "    mask_period1=None, mask_period2=None, extents=None, cfv_data=None, output=True\n",
    ")"
   ]
  },
  {
   "cell_type": "code",
   "execution_count": null,
   "id": "af1b81fd-ddb9-402c-8415-bb08704d59a2",
   "metadata": {},
   "outputs": [],
   "source": []
  },
  {
   "cell_type": "markdown",
   "id": "58cb46b7-00a3-43f3-ac10-0ee63680f0b6",
   "metadata": {
    "jp-MarkdownHeadingCollapsed": true,
    "tags": []
   },
   "source": [
    "# Overview for dissimilar periods"
   ]
  },
  {
   "cell_type": "markdown",
   "id": "bd38eb26-d45a-4e1f-b2a3-cdb217d1249f",
   "metadata": {},
   "source": [
    "## Dissimilar periods (all months)"
   ]
  },
  {
   "cell_type": "markdown",
   "id": "ecb53b4e-a5a8-4dd4-9944-a2049f9f446d",
   "metadata": {
    "jp-MarkdownHeadingCollapsed": true,
    "tags": []
   },
   "source": [
    "### Dissimilar periods (all months): MDP stats "
   ]
  },
  {
   "cell_type": "code",
   "execution_count": null,
   "id": "3a8e11d3-1f1d-4cb3-a078-137860d90603",
   "metadata": {},
   "outputs": [],
   "source": [
    "pf.plot_comp_mdp_clim_stats_given_var_or_dvar(\n",
    "    region=region, period1_start=period1_start_dis, period1_end=period1_end_dis, \n",
    "    period2_start=period2_start_dis, period2_end=period2_end_dis, months_subset=\"all\", \n",
    "    glass_source_pref=glass_source_pref_dis, var_or_dvar=\"wv100\", \n",
    "    perc=False, mask_perc_quantile=pf.mask_perc_quantile_default, \n",
    "    mask_period1=None, mask_period2=None, extents=None, cfv_data=None, output=True\n",
    ")"
   ]
  },
  {
   "cell_type": "code",
   "execution_count": null,
   "id": "7a9b3799-74c0-41e2-8e46-8882faed01ca",
   "metadata": {},
   "outputs": [],
   "source": [
    "pf.plot_comp_mdp_clim_stats_given_var_or_dvar(\n",
    "    region=region, period1_start=period1_start_dis, period1_end=period1_end_dis, \n",
    "    period2_start=period2_start_dis, period2_end=period2_end_dis, months_subset=\"all\", \n",
    "    glass_source_pref=glass_source_pref_dis, var_or_dvar=\"ws100\", \n",
    "    perc=False, mask_perc_quantile=pf.mask_perc_quantile_default, \n",
    "    mask_period1=None, mask_period2=None, extents=None, cfv_data=None, output=True\n",
    ")"
   ]
  },
  {
   "cell_type": "code",
   "execution_count": null,
   "id": "9b59af1c-464f-4421-b0de-0c9e873fb80d",
   "metadata": {},
   "outputs": [],
   "source": [
    "pf.plot_comp_mdp_clim_stats_given_var_or_dvar(\n",
    "    region=region, period1_start=period1_start_dis, period1_end=period1_end_dis, \n",
    "    period2_start=period2_start_dis, period2_end=period2_end_dis, months_subset=\"all\", \n",
    "    glass_source_pref=glass_source_pref_dis, var_or_dvar=\"u100\", \n",
    "    perc=False, mask_perc_quantile=pf.mask_perc_quantile_default, \n",
    "    mask_period1=None, mask_period2=None, extents=None, cfv_data=None, output=True\n",
    ")"
   ]
  },
  {
   "cell_type": "code",
   "execution_count": null,
   "id": "aa453e06-eed8-441b-991e-1d99ef9eb1b7",
   "metadata": {},
   "outputs": [],
   "source": [
    "pf.plot_comp_mdp_clim_stats_given_var_or_dvar(\n",
    "    region=region, period1_start=period1_start_dis, period1_end=period1_end_dis, \n",
    "    period2_start=period2_start_dis, period2_end=period2_end_dis, months_subset=\"all\", \n",
    "    glass_source_pref=glass_source_pref_dis, var_or_dvar=\"v100\", \n",
    "    perc=False, mask_perc_quantile=pf.mask_perc_quantile_default, \n",
    "    mask_period1=None, mask_period2=None, extents=None, cfv_data=None, output=True\n",
    ")"
   ]
  },
  {
   "cell_type": "code",
   "execution_count": null,
   "id": "65d0d887-5d26-4eb1-80e1-6a1babc5dc8b",
   "metadata": {},
   "outputs": [],
   "source": [
    "pf.plot_comp_mdp_clim_stats_given_var_or_dvar(\n",
    "    region=region, period1_start=period1_start_dis, period1_end=period1_end_dis, \n",
    "    period2_start=period2_start_dis, period2_end=period2_end_dis, months_subset=\"all\", \n",
    "    glass_source_pref=glass_source_pref_dis, var_or_dvar=\"mslp\", \n",
    "    perc=False, mask_perc_quantile=pf.mask_perc_quantile_default, \n",
    "    mask_period1=None, mask_period2=None, extents=None, cfv_data=None, output=True\n",
    ")"
   ]
  },
  {
   "cell_type": "code",
   "execution_count": null,
   "id": "28985d84-a5de-4db6-80bf-22df834dbbb1",
   "metadata": {},
   "outputs": [],
   "source": [
    "pf.plot_comp_mdp_clim_stats_given_var_or_dvar(\n",
    "    region=region, period1_start=period1_start_dis, period1_end=period1_end_dis, \n",
    "    period2_start=period2_start_dis, period2_end=period2_end_dis, months_subset=\"all\", \n",
    "    glass_source_pref=glass_source_pref_dis, var_or_dvar=\"t2\", \n",
    "    perc=False, mask_perc_quantile=pf.mask_perc_quantile_default, \n",
    "    mask_period1=None, mask_period2=None, extents=None, cfv_data=None, output=True\n",
    ")"
   ]
  },
  {
   "cell_type": "code",
   "execution_count": null,
   "id": "bd9b19bb-3fae-44ef-84a8-4253ae0194fc",
   "metadata": {},
   "outputs": [],
   "source": [
    "pf.plot_comp_mdp_clim_stats_given_var_or_dvar(\n",
    "    region=region, period1_start=period1_start_dis, period1_end=period1_end_dis, \n",
    "    period2_start=period2_start_dis, period2_end=period2_end_dis, months_subset=\"all\", \n",
    "    glass_source_pref=glass_source_pref_dis, var_or_dvar=\"nac\", \n",
    "    perc=False, mask_perc_quantile=pf.mask_perc_quantile_default, \n",
    "    mask_period1=None, mask_period2=None, extents=None, cfv_data=None, output=True\n",
    ")"
   ]
  },
  {
   "cell_type": "markdown",
   "id": "9b066f73-8cff-4634-bfda-df6b87bac69d",
   "metadata": {
    "jp-MarkdownHeadingCollapsed": true,
    "tags": []
   },
   "source": [
    "### Dissimilar periods (all months): MDP values"
   ]
  },
  {
   "cell_type": "code",
   "execution_count": null,
   "id": "ad01fe35-80ab-48f7-abe3-3c24c3f29925",
   "metadata": {},
   "outputs": [],
   "source": [
    "pf.plot_comp_mdp_clim_values_given_var_or_dvar(\n",
    "    region=region, period1_start=period1_start_dis, period1_end=period1_end_dis, \n",
    "    period2_start=period2_start_dis, period2_end=period2_end_dis, months_subset=\"all\", \n",
    "    glass_source_pref=glass_source_pref_dis, var_or_dvar=\"dwv100\", time=\"0-5\",\n",
    "    perc=False, mask_perc_quantile=pf.mask_perc_quantile_default, \n",
    "    mask_period1=None, mask_period2=None, extents=None, cfv_data=None, output=True\n",
    ")"
   ]
  },
  {
   "cell_type": "code",
   "execution_count": null,
   "id": "135a4f1f-5c15-4d11-8349-b7553c0801ef",
   "metadata": {},
   "outputs": [],
   "source": [
    "pf.plot_comp_mdp_clim_values_given_var_or_dvar(\n",
    "    region=region, period1_start=period1_start_dis, period1_end=period1_end_dis, \n",
    "    period2_start=period2_start_dis, period2_end=period2_end_dis, months_subset=\"all\", \n",
    "    glass_source_pref=glass_source_pref_dis, var_or_dvar=\"dwv100\", time=\"6-11\",\n",
    "    perc=False, mask_perc_quantile=pf.mask_perc_quantile_default, \n",
    "    mask_period1=None, mask_period2=None, extents=None, cfv_data=None, output=True\n",
    ")"
   ]
  },
  {
   "cell_type": "code",
   "execution_count": null,
   "id": "d3dc39cc-e5b3-4f39-a653-fa3b92c38ed2",
   "metadata": {},
   "outputs": [],
   "source": [
    "pf.plot_comp_mdp_clim_values_given_var_or_dvar(\n",
    "    region=region, period1_start=period1_start_dis, period1_end=period1_end_dis, \n",
    "    period2_start=period2_start_dis, period2_end=period2_end_dis, months_subset=\"all\", \n",
    "    glass_source_pref=glass_source_pref_dis, var_or_dvar=\"dwv100\", time=\"12-17\",\n",
    "    perc=False, mask_perc_quantile=pf.mask_perc_quantile_default, \n",
    "    mask_period1=None, mask_period2=None, extents=None, cfv_data=None, output=True\n",
    ")"
   ]
  },
  {
   "cell_type": "code",
   "execution_count": null,
   "id": "87bd07fd-bf9c-4485-a98d-e326a036445b",
   "metadata": {},
   "outputs": [],
   "source": [
    "pf.plot_comp_mdp_clim_values_given_var_or_dvar(\n",
    "    region=region, period1_start=period1_start_dis, period1_end=period1_end_dis, \n",
    "    period2_start=period2_start_dis, period2_end=period2_end_dis, months_subset=\"all\", \n",
    "    glass_source_pref=glass_source_pref_dis, var_or_dvar=\"dwv100\", time=\"18-23\",\n",
    "    perc=False, mask_perc_quantile=pf.mask_perc_quantile_default, \n",
    "    mask_period1=None, mask_period2=None, extents=None, cfv_data=None, output=True\n",
    ")"
   ]
  },
  {
   "cell_type": "code",
   "execution_count": null,
   "id": "c97f5661-1ead-4df6-a80b-f86116cbf279",
   "metadata": {},
   "outputs": [],
   "source": [
    "pf.plot_comp_mdp_clim_values_given_var_or_dvar(\n",
    "    region=region, period1_start=period1_start_dis, period1_end=period1_end_dis, \n",
    "    period2_start=period2_start_dis, period2_end=period2_end_dis, months_subset=\"all\", \n",
    "    glass_source_pref=glass_source_pref_dis, var_or_dvar=\"dmslp\", time=\"0-5\",\n",
    "    perc=False, mask_perc_quantile=pf.mask_perc_quantile_default, \n",
    "    mask_period1=None, mask_period2=None, extents=None, cfv_data=None, output=True\n",
    ")"
   ]
  },
  {
   "cell_type": "code",
   "execution_count": null,
   "id": "3ef30303-ee92-4a65-acf2-b252087251b8",
   "metadata": {},
   "outputs": [],
   "source": [
    "pf.plot_comp_mdp_clim_values_given_var_or_dvar(\n",
    "    region=region, period1_start=period1_start_dis, period1_end=period1_end_dis, \n",
    "    period2_start=period2_start_dis, period2_end=period2_end_dis, months_subset=\"all\", \n",
    "    glass_source_pref=glass_source_pref_dis, var_or_dvar=\"dmslp\", time=\"6-11\",\n",
    "    perc=False, mask_perc_quantile=pf.mask_perc_quantile_default, \n",
    "    mask_period1=None, mask_period2=None, extents=None, cfv_data=None, output=True\n",
    ")"
   ]
  },
  {
   "cell_type": "code",
   "execution_count": null,
   "id": "66c01fa5-9d6f-48c3-b2b7-0a25ac472aa4",
   "metadata": {},
   "outputs": [],
   "source": [
    "pf.plot_comp_mdp_clim_values_given_var_or_dvar(\n",
    "    region=region, period1_start=period1_start_dis, period1_end=period1_end_dis, \n",
    "    period2_start=period2_start_dis, period2_end=period2_end_dis, months_subset=\"all\", \n",
    "    glass_source_pref=glass_source_pref_dis, var_or_dvar=\"dmslp\", time=\"12-17\",\n",
    "    perc=False, mask_perc_quantile=pf.mask_perc_quantile_default, \n",
    "    mask_period1=None, mask_period2=None, extents=None, cfv_data=None, output=True\n",
    ")"
   ]
  },
  {
   "cell_type": "code",
   "execution_count": null,
   "id": "f765d663-dfe6-481d-a636-812b38b047e1",
   "metadata": {},
   "outputs": [],
   "source": [
    "pf.plot_comp_mdp_clim_values_given_var_or_dvar(\n",
    "    region=region, period1_start=period1_start_dis, period1_end=period1_end_dis, \n",
    "    period2_start=period2_start_dis, period2_end=period2_end_dis, months_subset=\"all\", \n",
    "    glass_source_pref=glass_source_pref_dis, var_or_dvar=\"dmslp\", time=\"18-23\",\n",
    "    perc=False, mask_perc_quantile=pf.mask_perc_quantile_default, \n",
    "    mask_period1=None, mask_period2=None, extents=None, cfv_data=None, output=True\n",
    ")"
   ]
  },
  {
   "cell_type": "code",
   "execution_count": null,
   "id": "c9fe8767-a4be-4300-8d39-8cb9640c83b5",
   "metadata": {},
   "outputs": [],
   "source": [
    "pf.plot_comp_mdp_clim_values_given_var_or_dvar(\n",
    "    region=region, period1_start=period1_start_dis, period1_end=period1_end_dis, \n",
    "    period2_start=period2_start_dis, period2_end=period2_end_dis, months_subset=\"all\", \n",
    "    glass_source_pref=glass_source_pref_dis, var_or_dvar=\"dt2\", time=\"0-5\",\n",
    "    perc=False, mask_perc_quantile=pf.mask_perc_quantile_default, \n",
    "    mask_period1=None, mask_period2=None, extents=None, cfv_data=None, output=True\n",
    ")"
   ]
  },
  {
   "cell_type": "code",
   "execution_count": null,
   "id": "4c39fe6a-e9fe-4f49-945a-95f8afb959af",
   "metadata": {},
   "outputs": [],
   "source": [
    "pf.plot_comp_mdp_clim_values_given_var_or_dvar(\n",
    "    region=region, period1_start=period1_start_dis, period1_end=period1_end_dis, \n",
    "    period2_start=period2_start_dis, period2_end=period2_end_dis, months_subset=\"all\", \n",
    "    glass_source_pref=glass_source_pref_dis, var_or_dvar=\"dt2\", time=\"6-11\",\n",
    "    perc=False, mask_perc_quantile=pf.mask_perc_quantile_default, \n",
    "    mask_period1=None, mask_period2=None, extents=None, cfv_data=None, output=True\n",
    ")"
   ]
  },
  {
   "cell_type": "code",
   "execution_count": null,
   "id": "bf6dd6b6-f2ad-4394-8b77-524a92bf4080",
   "metadata": {},
   "outputs": [],
   "source": [
    "pf.plot_comp_mdp_clim_values_given_var_or_dvar(\n",
    "    region=region, period1_start=period1_start_dis, period1_end=period1_end_dis, \n",
    "    period2_start=period2_start_dis, period2_end=period2_end_dis, months_subset=\"all\", \n",
    "    glass_source_pref=glass_source_pref_dis, var_or_dvar=\"dt2\", time=\"12-17\",\n",
    "    perc=False, mask_perc_quantile=pf.mask_perc_quantile_default, \n",
    "    mask_period1=None, mask_period2=None, extents=None, cfv_data=None, output=True\n",
    ")"
   ]
  },
  {
   "cell_type": "code",
   "execution_count": null,
   "id": "83b7203d-362c-4628-aaca-80805001a61c",
   "metadata": {},
   "outputs": [],
   "source": [
    "pf.plot_comp_mdp_clim_values_given_var_or_dvar(\n",
    "    region=region, period1_start=period1_start_dis, period1_end=period1_end_dis, \n",
    "    period2_start=period2_start_dis, period2_end=period2_end_dis, months_subset=\"all\", \n",
    "    glass_source_pref=glass_source_pref_dis, var_or_dvar=\"dt2\", time=\"18-23\",\n",
    "    perc=False, mask_perc_quantile=pf.mask_perc_quantile_default, \n",
    "    mask_period1=None, mask_period2=None, extents=None, cfv_data=None, output=True\n",
    ")"
   ]
  },
  {
   "cell_type": "code",
   "execution_count": null,
   "id": "83434d12-04f0-4e5a-8879-8f8f6877c91a",
   "metadata": {},
   "outputs": [],
   "source": [
    "pf.plot_comp_mdp_clim_values_given_var_or_dvar(\n",
    "    region=region, period1_start=period1_start_dis, period1_end=period1_end_dis, \n",
    "    period2_start=period2_start_dis, period2_end=period2_end_dis, months_subset=\"all\", \n",
    "    glass_source_pref=glass_source_pref_dis, var_or_dvar=\"dnac\", time=\"0-5\",\n",
    "    perc=False, mask_perc_quantile=pf.mask_perc_quantile_default, \n",
    "    mask_period1=None, mask_period2=None, extents=None, cfv_data=None, output=True\n",
    ")"
   ]
  },
  {
   "cell_type": "code",
   "execution_count": null,
   "id": "93c3ab44-8cda-4062-891b-2c7b93f52f68",
   "metadata": {},
   "outputs": [],
   "source": [
    "pf.plot_comp_mdp_clim_values_given_var_or_dvar(\n",
    "    region=region, period1_start=period1_start_dis, period1_end=period1_end_dis, \n",
    "    period2_start=period2_start_dis, period2_end=period2_end_dis, months_subset=\"all\", \n",
    "    glass_source_pref=glass_source_pref_dis, var_or_dvar=\"dnac\", time=\"6-11\",\n",
    "    perc=False, mask_perc_quantile=pf.mask_perc_quantile_default, \n",
    "    mask_period1=None, mask_period2=None, extents=None, cfv_data=None, output=True\n",
    ")"
   ]
  },
  {
   "cell_type": "code",
   "execution_count": null,
   "id": "1a379351-3fdb-4847-b9de-a0d04c1014c7",
   "metadata": {},
   "outputs": [],
   "source": [
    "pf.plot_comp_mdp_clim_values_given_var_or_dvar(\n",
    "    region=region, period1_start=period1_start_dis, period1_end=period1_end_dis, \n",
    "    period2_start=period2_start_dis, period2_end=period2_end_dis, months_subset=\"all\", \n",
    "    glass_source_pref=glass_source_pref_dis, var_or_dvar=\"dnac\", time=\"12-17\",\n",
    "    perc=False, mask_perc_quantile=pf.mask_perc_quantile_default, \n",
    "    mask_period1=None, mask_period2=None, extents=None, cfv_data=None, output=True\n",
    ")"
   ]
  },
  {
   "cell_type": "code",
   "execution_count": null,
   "id": "7becf0ad-aad8-450d-8e33-21100e3fa708",
   "metadata": {},
   "outputs": [],
   "source": [
    "pf.plot_comp_mdp_clim_values_given_var_or_dvar(\n",
    "    region=region, period1_start=period1_start_dis, period1_end=period1_end_dis, \n",
    "    period2_start=period2_start_dis, period2_end=period2_end_dis, months_subset=\"all\", \n",
    "    glass_source_pref=glass_source_pref_dis, var_or_dvar=\"dnac\", time=\"18-23\",\n",
    "    perc=False, mask_perc_quantile=pf.mask_perc_quantile_default, \n",
    "    mask_period1=None, mask_period2=None, extents=None, cfv_data=None, output=True\n",
    ")"
   ]
  },
  {
   "cell_type": "code",
   "execution_count": null,
   "id": "1fcf99fa-da5d-463c-8d47-f13aa2a2c20b",
   "metadata": {},
   "outputs": [],
   "source": [
    "pf.plot_comp_mdp_clim_values_given_var_or_dvar(\n",
    "    region=region, period1_start=period1_start_dis, period1_end=period1_end_dis, \n",
    "    period2_start=period2_start_dis, period2_end=period2_end_dis, months_subset=\"all\", \n",
    "    glass_source_pref=glass_source_pref_dis, var_or_dvar=\"nac\", time=\"0-5\",\n",
    "    perc=False, mask_perc_quantile=pf.mask_perc_quantile_default, \n",
    "    mask_period1=None, mask_period2=None, extents=None, cfv_data=None, output=True\n",
    ")"
   ]
  },
  {
   "cell_type": "code",
   "execution_count": null,
   "id": "35112a3d-a333-41db-85ce-f01fad27f5da",
   "metadata": {},
   "outputs": [],
   "source": [
    "pf.plot_comp_mdp_clim_values_given_var_or_dvar(\n",
    "    region=region, period1_start=period1_start_dis, period1_end=period1_end_dis, \n",
    "    period2_start=period2_start_dis, period2_end=period2_end_dis, months_subset=\"all\", \n",
    "    glass_source_pref=glass_source_pref_dis, var_or_dvar=\"nac\", time=\"6-11\",\n",
    "    perc=False, mask_perc_quantile=pf.mask_perc_quantile_default, \n",
    "    mask_period1=None, mask_period2=None, extents=None, cfv_data=None, output=True\n",
    ")"
   ]
  },
  {
   "cell_type": "code",
   "execution_count": null,
   "id": "a658b99c-2e4e-482e-ba16-38d30a83e4ca",
   "metadata": {},
   "outputs": [],
   "source": [
    "pf.plot_comp_mdp_clim_values_given_var_or_dvar(\n",
    "    region=region, period1_start=period1_start_dis, period1_end=period1_end_dis, \n",
    "    period2_start=period2_start_dis, period2_end=period2_end_dis, months_subset=\"all\", \n",
    "    glass_source_pref=glass_source_pref_dis, var_or_dvar=\"nac\", time=\"12-17\",\n",
    "    perc=False, mask_perc_quantile=pf.mask_perc_quantile_default, \n",
    "    mask_period1=None, mask_period2=None, extents=None, cfv_data=None, output=True\n",
    ")"
   ]
  },
  {
   "cell_type": "code",
   "execution_count": null,
   "id": "43785777-6ffe-4baf-a907-1cd8d66b14a5",
   "metadata": {},
   "outputs": [],
   "source": [
    "pf.plot_comp_mdp_clim_values_given_var_or_dvar(\n",
    "    region=region, period1_start=period1_start_dis, period1_end=period1_end_dis, \n",
    "    period2_start=period2_start_dis, period2_end=period2_end_dis, months_subset=\"all\", \n",
    "    glass_source_pref=glass_source_pref_dis, var_or_dvar=\"nac\", time=\"18-23\",\n",
    "    perc=False, mask_perc_quantile=pf.mask_perc_quantile_default, \n",
    "    mask_period1=None, mask_period2=None, extents=None, cfv_data=None, output=True\n",
    ")"
   ]
  },
  {
   "cell_type": "markdown",
   "id": "7135c0a6-fba2-46d9-94e6-5195f053d08e",
   "metadata": {
    "jp-MarkdownHeadingCollapsed": true,
    "tags": []
   },
   "source": [
    "### Dissimilar periods (all months): WSD"
   ]
  },
  {
   "cell_type": "code",
   "execution_count": null,
   "id": "c5fc57ae-e520-42ea-b8ae-db2f2b791275",
   "metadata": {},
   "outputs": [],
   "source": [
    "pf.plot_comp_wsd_clim(\n",
    "    region=region, period1_start=period1_start_dis, period1_end=period1_end_dis, \n",
    "    period2_start=period2_start_dis, period2_end=period2_end_dis, months_subset=\"all\", \n",
    "    glass_source_pref=glass_source_pref_dis, \n",
    "    perc=False, mask_perc_quantile=pf.mask_perc_quantile_default, \n",
    "    mask_period1=None, mask_period2=None, extents=None, cfv_data=None, output=True\n",
    ")"
   ]
  },
  {
   "cell_type": "markdown",
   "id": "f19b2899-8d0a-4f22-afd6-00525cdb8a6e",
   "metadata": {},
   "source": [
    "## Dissimilar periods (wet season)"
   ]
  },
  {
   "cell_type": "markdown",
   "id": "32220414-45e5-43a3-bd64-1e2850ecf644",
   "metadata": {
    "jp-MarkdownHeadingCollapsed": true,
    "tags": []
   },
   "source": [
    "### Dissimilar periods (wet season): MDP stats"
   ]
  },
  {
   "cell_type": "code",
   "execution_count": null,
   "id": "cd913b64-2dfb-4490-b602-c0e83f280b5b",
   "metadata": {},
   "outputs": [],
   "source": [
    "pf.plot_comp_mdp_clim_stats_given_var_or_dvar(\n",
    "    region=region, period1_start=period1_start_dis, period1_end=period1_end_dis, \n",
    "    period2_start=period2_start_dis, period2_end=period2_end_dis, months_subset=months_wet, \n",
    "    glass_source_pref=glass_source_pref_dis, var_or_dvar=\"wv100\", \n",
    "    perc=False, mask_perc_quantile=pf.mask_perc_quantile_default, \n",
    "    mask_period1=None, mask_period2=None, extents=None, cfv_data=None, output=True\n",
    ")"
   ]
  },
  {
   "cell_type": "code",
   "execution_count": null,
   "id": "9eae8797-1933-471f-ba39-0a446f09834e",
   "metadata": {},
   "outputs": [],
   "source": [
    "pf.plot_comp_mdp_clim_stats_given_var_or_dvar(\n",
    "    region=region, period1_start=period1_start_dis, period1_end=period1_end_dis, \n",
    "    period2_start=period2_start_dis, period2_end=period2_end_dis, months_subset=months_wet, \n",
    "    glass_source_pref=glass_source_pref_dis, var_or_dvar=\"ws100\", \n",
    "    perc=False, mask_perc_quantile=pf.mask_perc_quantile_default, \n",
    "    mask_period1=None, mask_period2=None, extents=None, cfv_data=None, output=True\n",
    ")"
   ]
  },
  {
   "cell_type": "code",
   "execution_count": null,
   "id": "e175d3f0-7452-4094-8fa5-46f4a166bce9",
   "metadata": {},
   "outputs": [],
   "source": [
    "pf.plot_comp_mdp_clim_stats_given_var_or_dvar(\n",
    "    region=region, period1_start=period1_start_dis, period1_end=period1_end_dis, \n",
    "    period2_start=period2_start_dis, period2_end=period2_end_dis, months_subset=months_wet, \n",
    "    glass_source_pref=glass_source_pref_dis, var_or_dvar=\"u100\", \n",
    "    perc=False, mask_perc_quantile=pf.mask_perc_quantile_default, \n",
    "    mask_period1=None, mask_period2=None, extents=None, cfv_data=None, output=True\n",
    ")"
   ]
  },
  {
   "cell_type": "code",
   "execution_count": null,
   "id": "b03a42f1-5945-4a16-876c-bf2887cf365b",
   "metadata": {},
   "outputs": [],
   "source": [
    "pf.plot_comp_mdp_clim_stats_given_var_or_dvar(\n",
    "    region=region, period1_start=period1_start_dis, period1_end=period1_end_dis, \n",
    "    period2_start=period2_start_dis, period2_end=period2_end_dis, months_subset=months_wet, \n",
    "    glass_source_pref=glass_source_pref_dis, var_or_dvar=\"v100\", \n",
    "    perc=False, mask_perc_quantile=pf.mask_perc_quantile_default, \n",
    "    mask_period1=None, mask_period2=None, extents=None, cfv_data=None, output=True\n",
    ")"
   ]
  },
  {
   "cell_type": "code",
   "execution_count": null,
   "id": "89309b9c-f953-4403-b004-dc076f527b42",
   "metadata": {},
   "outputs": [],
   "source": [
    "pf.plot_comp_mdp_clim_stats_given_var_or_dvar(\n",
    "    region=region, period1_start=period1_start_dis, period1_end=period1_end_dis, \n",
    "    period2_start=period2_start_dis, period2_end=period2_end_dis, months_subset=months_wet, \n",
    "    glass_source_pref=glass_source_pref_dis, var_or_dvar=\"mslp\", \n",
    "    perc=False, mask_perc_quantile=pf.mask_perc_quantile_default, \n",
    "    mask_period1=None, mask_period2=None, extents=None, cfv_data=None, output=True\n",
    ")"
   ]
  },
  {
   "cell_type": "code",
   "execution_count": null,
   "id": "4bcb74d9-e8b0-4344-9395-120ac293d3a2",
   "metadata": {},
   "outputs": [],
   "source": [
    "pf.plot_comp_mdp_clim_stats_given_var_or_dvar(\n",
    "    region=region, period1_start=period1_start_dis, period1_end=period1_end_dis, \n",
    "    period2_start=period2_start_dis, period2_end=period2_end_dis, months_subset=months_wet, \n",
    "    glass_source_pref=glass_source_pref_dis, var_or_dvar=\"t2\", \n",
    "    perc=False, mask_perc_quantile=pf.mask_perc_quantile_default, \n",
    "    mask_period1=None, mask_period2=None, extents=None, cfv_data=None, output=True\n",
    ")"
   ]
  },
  {
   "cell_type": "code",
   "execution_count": null,
   "id": "3bf3ed86-4b4b-4d40-b163-739ae015ed8e",
   "metadata": {},
   "outputs": [],
   "source": [
    "pf.plot_comp_mdp_clim_stats_given_var_or_dvar(\n",
    "    region=region, period1_start=period1_start_dis, period1_end=period1_end_dis, \n",
    "    period2_start=period2_start_dis, period2_end=period2_end_dis, months_subset=months_wet, \n",
    "    glass_source_pref=glass_source_pref_dis, var_or_dvar=\"nac\", \n",
    "    perc=False, mask_perc_quantile=pf.mask_perc_quantile_default, \n",
    "    mask_period1=None, mask_period2=None, extents=None, cfv_data=None, output=True\n",
    ")"
   ]
  },
  {
   "cell_type": "markdown",
   "id": "196751b0-6a10-401f-bf7a-ddafeb913ed4",
   "metadata": {
    "jp-MarkdownHeadingCollapsed": true,
    "tags": []
   },
   "source": [
    "### Dissimilar periods (wet season): MDP values"
   ]
  },
  {
   "cell_type": "code",
   "execution_count": null,
   "id": "5ec52202-bf2f-49d9-997d-423a5337efc5",
   "metadata": {},
   "outputs": [],
   "source": [
    "pf.plot_comp_mdp_clim_values_given_var_or_dvar(\n",
    "    region=region, period1_start=period1_start_dis, period1_end=period1_end_dis, \n",
    "    period2_start=period2_start_dis, period2_end=period2_end_dis, months_subset=months_wet, \n",
    "    glass_source_pref=glass_source_pref_dis, var_or_dvar=\"dwv100\", time=\"0-5\",\n",
    "    perc=False, mask_perc_quantile=pf.mask_perc_quantile_default, \n",
    "    mask_period1=None, mask_period2=None, extents=None, cfv_data=None, output=True\n",
    ")"
   ]
  },
  {
   "cell_type": "code",
   "execution_count": null,
   "id": "ad4ba573-5835-42fa-9bcb-e67d5f697f3c",
   "metadata": {},
   "outputs": [],
   "source": [
    "pf.plot_comp_mdp_clim_values_given_var_or_dvar(\n",
    "    region=region, period1_start=period1_start_dis, period1_end=period1_end_dis, \n",
    "    period2_start=period2_start_dis, period2_end=period2_end_dis, months_subset=months_wet, \n",
    "    glass_source_pref=glass_source_pref_dis, var_or_dvar=\"dwv100\", time=\"6-11\",\n",
    "    perc=False, mask_perc_quantile=pf.mask_perc_quantile_default, \n",
    "    mask_period1=None, mask_period2=None, extents=None, cfv_data=None, output=True\n",
    ")"
   ]
  },
  {
   "cell_type": "code",
   "execution_count": null,
   "id": "6ed1c11b-141c-4d79-bcce-9a4039e7109b",
   "metadata": {},
   "outputs": [],
   "source": [
    "pf.plot_comp_mdp_clim_values_given_var_or_dvar(\n",
    "    region=region, period1_start=period1_start_dis, period1_end=period1_end_dis, \n",
    "    period2_start=period2_start_dis, period2_end=period2_end_dis, months_subset=months_wet, \n",
    "    glass_source_pref=glass_source_pref_dis, var_or_dvar=\"dwv100\", time=\"12-17\",\n",
    "    perc=False, mask_perc_quantile=pf.mask_perc_quantile_default, \n",
    "    mask_period1=None, mask_period2=None, extents=None, cfv_data=None, output=True\n",
    ")"
   ]
  },
  {
   "cell_type": "code",
   "execution_count": null,
   "id": "dc64f872-0863-4c23-8f33-3e27a66cce17",
   "metadata": {},
   "outputs": [],
   "source": [
    "pf.plot_comp_mdp_clim_values_given_var_or_dvar(\n",
    "    region=region, period1_start=period1_start_dis, period1_end=period1_end_dis, \n",
    "    period2_start=period2_start_dis, period2_end=period2_end_dis, months_subset=months_wet, \n",
    "    glass_source_pref=glass_source_pref_dis, var_or_dvar=\"dwv100\", time=\"18-23\",\n",
    "    perc=False, mask_perc_quantile=pf.mask_perc_quantile_default, \n",
    "    mask_period1=None, mask_period2=None, extents=None, cfv_data=None, output=True\n",
    ")"
   ]
  },
  {
   "cell_type": "code",
   "execution_count": null,
   "id": "b3a2a62c-315d-43d0-857c-d06fbe94b0fd",
   "metadata": {},
   "outputs": [],
   "source": [
    "pf.plot_comp_mdp_clim_values_given_var_or_dvar(\n",
    "    region=region, period1_start=period1_start_dis, period1_end=period1_end_dis, \n",
    "    period2_start=period2_start_dis, period2_end=period2_end_dis, months_subset=months_wet, \n",
    "    glass_source_pref=glass_source_pref_dis, var_or_dvar=\"dmslp\", time=\"0-5\",\n",
    "    perc=False, mask_perc_quantile=pf.mask_perc_quantile_default, \n",
    "    mask_period1=None, mask_period2=None, extents=None, cfv_data=None, output=True\n",
    ")"
   ]
  },
  {
   "cell_type": "code",
   "execution_count": null,
   "id": "187be9c2-9e5a-4367-8648-51f50f131dbc",
   "metadata": {},
   "outputs": [],
   "source": [
    "pf.plot_comp_mdp_clim_values_given_var_or_dvar(\n",
    "    region=region, period1_start=period1_start_dis, period1_end=period1_end_dis, \n",
    "    period2_start=period2_start_dis, period2_end=period2_end_dis, months_subset=months_wet, \n",
    "    glass_source_pref=glass_source_pref_dis, var_or_dvar=\"dmslp\", time=\"6-11\",\n",
    "    perc=False, mask_perc_quantile=pf.mask_perc_quantile_default, \n",
    "    mask_period1=None, mask_period2=None, extents=None, cfv_data=None, output=True\n",
    ")"
   ]
  },
  {
   "cell_type": "code",
   "execution_count": null,
   "id": "77bc0a4d-3702-421a-9bbc-8402885e90e8",
   "metadata": {},
   "outputs": [],
   "source": [
    "pf.plot_comp_mdp_clim_values_given_var_or_dvar(\n",
    "    region=region, period1_start=period1_start_dis, period1_end=period1_end_dis, \n",
    "    period2_start=period2_start_dis, period2_end=period2_end_dis, months_subset=months_wet, \n",
    "    glass_source_pref=glass_source_pref_dis, var_or_dvar=\"dmslp\", time=\"12-17\",\n",
    "    perc=False, mask_perc_quantile=pf.mask_perc_quantile_default, \n",
    "    mask_period1=None, mask_period2=None, extents=None, cfv_data=None, output=True\n",
    ")"
   ]
  },
  {
   "cell_type": "code",
   "execution_count": null,
   "id": "1387cf31-bfdd-497f-b753-aa569b761cfa",
   "metadata": {},
   "outputs": [],
   "source": [
    "pf.plot_comp_mdp_clim_values_given_var_or_dvar(\n",
    "    region=region, period1_start=period1_start_dis, period1_end=period1_end_dis, \n",
    "    period2_start=period2_start_dis, period2_end=period2_end_dis, months_subset=months_wet, \n",
    "    glass_source_pref=glass_source_pref_dis, var_or_dvar=\"dmslp\", time=\"18-23\",\n",
    "    perc=False, mask_perc_quantile=pf.mask_perc_quantile_default, \n",
    "    mask_period1=None, mask_period2=None, extents=None, cfv_data=None, output=True\n",
    ")"
   ]
  },
  {
   "cell_type": "code",
   "execution_count": null,
   "id": "201e9f21-21f4-4e3c-87f7-eb9e1e9d5df7",
   "metadata": {},
   "outputs": [],
   "source": [
    "pf.plot_comp_mdp_clim_values_given_var_or_dvar(\n",
    "    region=region, period1_start=period1_start_dis, period1_end=period1_end_dis, \n",
    "    period2_start=period2_start_dis, period2_end=period2_end_dis, months_subset=months_wet, \n",
    "    glass_source_pref=glass_source_pref_dis, var_or_dvar=\"dt2\", time=\"0-5\",\n",
    "    perc=False, mask_perc_quantile=pf.mask_perc_quantile_default, \n",
    "    mask_period1=None, mask_period2=None, extents=None, cfv_data=None, output=True\n",
    ")"
   ]
  },
  {
   "cell_type": "code",
   "execution_count": null,
   "id": "053e6cc7-b228-4efb-a262-1134ed417d83",
   "metadata": {},
   "outputs": [],
   "source": [
    "pf.plot_comp_mdp_clim_values_given_var_or_dvar(\n",
    "    region=region, period1_start=period1_start_dis, period1_end=period1_end_dis, \n",
    "    period2_start=period2_start_dis, period2_end=period2_end_dis, months_subset=months_wet, \n",
    "    glass_source_pref=glass_source_pref_dis, var_or_dvar=\"dt2\", time=\"6-11\",\n",
    "    perc=False, mask_perc_quantile=pf.mask_perc_quantile_default, \n",
    "    mask_period1=None, mask_period2=None, extents=None, cfv_data=None, output=True\n",
    ")"
   ]
  },
  {
   "cell_type": "code",
   "execution_count": null,
   "id": "b32f9031-b53d-4242-894c-698531190ada",
   "metadata": {},
   "outputs": [],
   "source": [
    "pf.plot_comp_mdp_clim_values_given_var_or_dvar(\n",
    "    region=region, period1_start=period1_start_dis, period1_end=period1_end_dis, \n",
    "    period2_start=period2_start_dis, period2_end=period2_end_dis, months_subset=months_wet, \n",
    "    glass_source_pref=glass_source_pref_dis, var_or_dvar=\"dt2\", time=\"12-17\",\n",
    "    perc=False, mask_perc_quantile=pf.mask_perc_quantile_default, \n",
    "    mask_period1=None, mask_period2=None, extents=None, cfv_data=None, output=True\n",
    ")"
   ]
  },
  {
   "cell_type": "code",
   "execution_count": null,
   "id": "4b5ba8fe-cfc4-4c9e-ad1f-a88f6dcbecfd",
   "metadata": {},
   "outputs": [],
   "source": [
    "pf.plot_comp_mdp_clim_values_given_var_or_dvar(\n",
    "    region=region, period1_start=period1_start_dis, period1_end=period1_end_dis, \n",
    "    period2_start=period2_start_dis, period2_end=period2_end_dis, months_subset=months_wet, \n",
    "    glass_source_pref=glass_source_pref_dis, var_or_dvar=\"dt2\", time=\"18-23\",\n",
    "    perc=False, mask_perc_quantile=pf.mask_perc_quantile_default, \n",
    "    mask_period1=None, mask_period2=None, extents=None, cfv_data=None, output=True\n",
    ")"
   ]
  },
  {
   "cell_type": "code",
   "execution_count": null,
   "id": "91a4ef06-54f0-47af-a00e-890848fb97d3",
   "metadata": {},
   "outputs": [],
   "source": [
    "pf.plot_comp_mdp_clim_values_given_var_or_dvar(\n",
    "    region=region, period1_start=period1_start_dis, period1_end=period1_end_dis, \n",
    "    period2_start=period2_start_dis, period2_end=period2_end_dis, months_subset=months_wet, \n",
    "    glass_source_pref=glass_source_pref_dis, var_or_dvar=\"dnac\", time=\"0-5\",\n",
    "    perc=False, mask_perc_quantile=pf.mask_perc_quantile_default, \n",
    "    mask_period1=None, mask_period2=None, extents=None, cfv_data=None, output=True\n",
    ")"
   ]
  },
  {
   "cell_type": "code",
   "execution_count": null,
   "id": "4d01d69f-c4f8-4703-a6c6-8e7cabb42f38",
   "metadata": {},
   "outputs": [],
   "source": [
    "pf.plot_comp_mdp_clim_values_given_var_or_dvar(\n",
    "    region=region, period1_start=period1_start_dis, period1_end=period1_end_dis, \n",
    "    period2_start=period2_start_dis, period2_end=period2_end_dis, months_subset=months_wet, \n",
    "    glass_source_pref=glass_source_pref_dis, var_or_dvar=\"dnac\", time=\"6-11\",\n",
    "    perc=False, mask_perc_quantile=pf.mask_perc_quantile_default, \n",
    "    mask_period1=None, mask_period2=None, extents=None, cfv_data=None, output=True\n",
    ")"
   ]
  },
  {
   "cell_type": "code",
   "execution_count": null,
   "id": "0aa5558c-f0a1-4f26-9c4a-dba692ca7b56",
   "metadata": {},
   "outputs": [],
   "source": [
    "pf.plot_comp_mdp_clim_values_given_var_or_dvar(\n",
    "    region=region, period1_start=period1_start_dis, period1_end=period1_end_dis, \n",
    "    period2_start=period2_start_dis, period2_end=period2_end_dis, months_subset=months_wet, \n",
    "    glass_source_pref=glass_source_pref_dis, var_or_dvar=\"dnac\", time=\"12-17\",\n",
    "    perc=False, mask_perc_quantile=pf.mask_perc_quantile_default, \n",
    "    mask_period1=None, mask_period2=None, extents=None, cfv_data=None, output=True\n",
    ")"
   ]
  },
  {
   "cell_type": "code",
   "execution_count": null,
   "id": "37bc76fd-f565-4126-81d2-786ab55843be",
   "metadata": {},
   "outputs": [],
   "source": [
    "pf.plot_comp_mdp_clim_values_given_var_or_dvar(\n",
    "    region=region, period1_start=period1_start_dis, period1_end=period1_end_dis, \n",
    "    period2_start=period2_start_dis, period2_end=period2_end_dis, months_subset=months_wet, \n",
    "    glass_source_pref=glass_source_pref_dis, var_or_dvar=\"dnac\", time=\"18-23\",\n",
    "    perc=False, mask_perc_quantile=pf.mask_perc_quantile_default, \n",
    "    mask_period1=None, mask_period2=None, extents=None, cfv_data=None, output=True\n",
    ")"
   ]
  },
  {
   "cell_type": "code",
   "execution_count": null,
   "id": "adf46fb4-36d5-4b4b-bcec-c6918a963285",
   "metadata": {},
   "outputs": [],
   "source": [
    "pf.plot_comp_mdp_clim_values_given_var_or_dvar(\n",
    "    region=region, period1_start=period1_start_dis, period1_end=period1_end_dis, \n",
    "    period2_start=period2_start_dis, period2_end=period2_end_dis, months_subset=months_wet, \n",
    "    glass_source_pref=glass_source_pref_dis, var_or_dvar=\"nac\", time=\"0-5\",\n",
    "    perc=False, mask_perc_quantile=pf.mask_perc_quantile_default, \n",
    "    mask_period1=None, mask_period2=None, extents=None, cfv_data=None, output=True\n",
    ")"
   ]
  },
  {
   "cell_type": "code",
   "execution_count": null,
   "id": "fab98be4-8fbb-495d-a556-20672e887fc2",
   "metadata": {},
   "outputs": [],
   "source": [
    "pf.plot_comp_mdp_clim_values_given_var_or_dvar(\n",
    "    region=region, period1_start=period1_start_dis, period1_end=period1_end_dis, \n",
    "    period2_start=period2_start_dis, period2_end=period2_end_dis, months_subset=months_wet, \n",
    "    glass_source_pref=glass_source_pref_dis, var_or_dvar=\"nac\", time=\"6-11\",\n",
    "    perc=False, mask_perc_quantile=pf.mask_perc_quantile_default, \n",
    "    mask_period1=None, mask_period2=None, extents=None, cfv_data=None, output=True\n",
    ")"
   ]
  },
  {
   "cell_type": "code",
   "execution_count": null,
   "id": "75b06c47-2dd3-4d7c-bb3d-7dea8da75a9b",
   "metadata": {},
   "outputs": [],
   "source": [
    "pf.plot_comp_mdp_clim_values_given_var_or_dvar(\n",
    "    region=region, period1_start=period1_start_dis, period1_end=period1_end_dis, \n",
    "    period2_start=period2_start_dis, period2_end=period2_end_dis, months_subset=months_wet, \n",
    "    glass_source_pref=glass_source_pref_dis, var_or_dvar=\"nac\", time=\"12-17\",\n",
    "    perc=False, mask_perc_quantile=pf.mask_perc_quantile_default, \n",
    "    mask_period1=None, mask_period2=None, extents=None, cfv_data=None, output=True\n",
    ")"
   ]
  },
  {
   "cell_type": "code",
   "execution_count": null,
   "id": "0af37009-7027-40a0-9ced-6f5601ea5e98",
   "metadata": {},
   "outputs": [],
   "source": [
    "pf.plot_comp_mdp_clim_values_given_var_or_dvar(\n",
    "    region=region, period1_start=period1_start_dis, period1_end=period1_end_dis, \n",
    "    period2_start=period2_start_dis, period2_end=period2_end_dis, months_subset=months_wet, \n",
    "    glass_source_pref=glass_source_pref_dis, var_or_dvar=\"nac\", time=\"18-23\",\n",
    "    perc=False, mask_perc_quantile=pf.mask_perc_quantile_default, \n",
    "    mask_period1=None, mask_period2=None, extents=None, cfv_data=None, output=True\n",
    ")"
   ]
  },
  {
   "cell_type": "markdown",
   "id": "fb032f5a-e72c-4992-94f4-abde39440f48",
   "metadata": {
    "jp-MarkdownHeadingCollapsed": true,
    "tags": []
   },
   "source": [
    "### Dissimilar periods (wet season): WSD"
   ]
  },
  {
   "cell_type": "code",
   "execution_count": null,
   "id": "f93d0920-abbc-4731-9fde-ff4f049dd979",
   "metadata": {},
   "outputs": [],
   "source": [
    "pf.plot_comp_wsd_clim(\n",
    "    region=region, period1_start=period1_start_dis, period1_end=period1_end_dis, \n",
    "    period2_start=period2_start_dis, period2_end=period2_end_dis, months_subset=months_wet, \n",
    "    glass_source_pref=glass_source_pref_dis, \n",
    "    perc=False, mask_perc_quantile=pf.mask_perc_quantile_default, \n",
    "    mask_period1=None, mask_period2=None, extents=None, cfv_data=None, output=True\n",
    ")"
   ]
  },
  {
   "cell_type": "markdown",
   "id": "f75d2eae-31f1-4a8a-83af-689deac89e75",
   "metadata": {},
   "source": [
    "## Dissimilar periods (dry season)"
   ]
  },
  {
   "cell_type": "markdown",
   "id": "9217ac65-7f9c-41b8-bede-f388f089fe10",
   "metadata": {
    "jp-MarkdownHeadingCollapsed": true,
    "tags": []
   },
   "source": [
    "### Dissimilar periods (dry season): MDP stats"
   ]
  },
  {
   "cell_type": "code",
   "execution_count": null,
   "id": "5e89e5f8-2dc0-4d7d-a4b8-cdef90e0958b",
   "metadata": {},
   "outputs": [],
   "source": [
    "pf.plot_comp_mdp_clim_stats_given_var_or_dvar(\n",
    "    region=region, period1_start=period1_start_dis, period1_end=period1_end_dis, \n",
    "    period2_start=period2_start_dis, period2_end=period2_end_dis, months_subset=months_dry, \n",
    "    glass_source_pref=glass_source_pref_dis, var_or_dvar=\"wv100\", \n",
    "    perc=False, mask_perc_quantile=pf.mask_perc_quantile_default, \n",
    "    mask_period1=None, mask_period2=None, extents=None, cfv_data=None, output=True\n",
    ")"
   ]
  },
  {
   "cell_type": "code",
   "execution_count": null,
   "id": "31eecc72-2950-4746-9d51-0f278a20126b",
   "metadata": {},
   "outputs": [],
   "source": [
    "pf.plot_comp_mdp_clim_stats_given_var_or_dvar(\n",
    "    region=region, period1_start=period1_start_dis, period1_end=period1_end_dis, \n",
    "    period2_start=period2_start_dis, period2_end=period2_end_dis, months_subset=months_dry, \n",
    "    glass_source_pref=glass_source_pref_dis, var_or_dvar=\"ws100\", \n",
    "    perc=False, mask_perc_quantile=pf.mask_perc_quantile_default, \n",
    "    mask_period1=None, mask_period2=None, extents=None, cfv_data=None, output=True\n",
    ")"
   ]
  },
  {
   "cell_type": "code",
   "execution_count": null,
   "id": "fbc6898b-3b63-435c-944e-6126ca6cf824",
   "metadata": {},
   "outputs": [],
   "source": [
    "pf.plot_comp_mdp_clim_stats_given_var_or_dvar(\n",
    "    region=region, period1_start=period1_start_dis, period1_end=period1_end_dis, \n",
    "    period2_start=period2_start_dis, period2_end=period2_end_dis, months_subset=months_dry, \n",
    "    glass_source_pref=glass_source_pref_dis, var_or_dvar=\"u100\", \n",
    "    perc=False, mask_perc_quantile=pf.mask_perc_quantile_default, \n",
    "    mask_period1=None, mask_period2=None, extents=None, cfv_data=None, output=True\n",
    ")"
   ]
  },
  {
   "cell_type": "code",
   "execution_count": null,
   "id": "e76ad4e5-3dc9-43b8-9026-bafbe2ed2ccb",
   "metadata": {},
   "outputs": [],
   "source": [
    "pf.plot_comp_mdp_clim_stats_given_var_or_dvar(\n",
    "    region=region, period1_start=period1_start_dis, period1_end=period1_end_dis, \n",
    "    period2_start=period2_start_dis, period2_end=period2_end_dis, months_subset=months_dry, \n",
    "    glass_source_pref=glass_source_pref_dis, var_or_dvar=\"v100\", \n",
    "    perc=False, mask_perc_quantile=pf.mask_perc_quantile_default, \n",
    "    mask_period1=None, mask_period2=None, extents=None, cfv_data=None, output=True\n",
    ")"
   ]
  },
  {
   "cell_type": "code",
   "execution_count": null,
   "id": "69009ae3-7b97-4b5f-b21a-b6e38dc228dd",
   "metadata": {},
   "outputs": [],
   "source": [
    "pf.plot_comp_mdp_clim_stats_given_var_or_dvar(\n",
    "    region=region, period1_start=period1_start_dis, period1_end=period1_end_dis, \n",
    "    period2_start=period2_start_dis, period2_end=period2_end_dis, months_subset=months_dry, \n",
    "    glass_source_pref=glass_source_pref_dis, var_or_dvar=\"mslp\", \n",
    "    perc=False, mask_perc_quantile=pf.mask_perc_quantile_default, \n",
    "    mask_period1=None, mask_period2=None, extents=None, cfv_data=None, output=True\n",
    ")"
   ]
  },
  {
   "cell_type": "code",
   "execution_count": null,
   "id": "3044f6db-48d4-4246-9cb4-00c7b98961a2",
   "metadata": {},
   "outputs": [],
   "source": [
    "pf.plot_comp_mdp_clim_stats_given_var_or_dvar(\n",
    "    region=region, period1_start=period1_start_dis, period1_end=period1_end_dis, \n",
    "    period2_start=period2_start_dis, period2_end=period2_end_dis, months_subset=months_dry, \n",
    "    glass_source_pref=glass_source_pref_dis, var_or_dvar=\"t2\", \n",
    "    perc=False, mask_perc_quantile=pf.mask_perc_quantile_default, \n",
    "    mask_period1=None, mask_period2=None, extents=None, cfv_data=None, output=True\n",
    ")"
   ]
  },
  {
   "cell_type": "code",
   "execution_count": null,
   "id": "28cd0ab9-2579-443d-a188-9869a44ca0ed",
   "metadata": {},
   "outputs": [],
   "source": [
    "pf.plot_comp_mdp_clim_stats_given_var_or_dvar(\n",
    "    region=region, period1_start=period1_start_dis, period1_end=period1_end_dis, \n",
    "    period2_start=period2_start_dis, period2_end=period2_end_dis, months_subset=months_dry, \n",
    "    glass_source_pref=glass_source_pref_dis, var_or_dvar=\"nac\", \n",
    "    perc=False, mask_perc_quantile=pf.mask_perc_quantile_default, \n",
    "    mask_period1=None, mask_period2=None, extents=None, cfv_data=None, output=True\n",
    ")"
   ]
  },
  {
   "cell_type": "markdown",
   "id": "43ee8445-2326-4d89-a08e-8137b4df5388",
   "metadata": {
    "jp-MarkdownHeadingCollapsed": true,
    "tags": []
   },
   "source": [
    "### Dissimilar periods (dry season): MDP values"
   ]
  },
  {
   "cell_type": "code",
   "execution_count": null,
   "id": "5195804f-6c65-4416-84dd-e6e63f8000b9",
   "metadata": {},
   "outputs": [],
   "source": [
    "pf.plot_comp_mdp_clim_values_given_var_or_dvar(\n",
    "    region=region, period1_start=period1_start_dis, period1_end=period1_end_dis, \n",
    "    period2_start=period2_start_dis, period2_end=period2_end_dis, months_subset=months_dry, \n",
    "    glass_source_pref=glass_source_pref_dis, var_or_dvar=\"dwv100\", time=\"0-5\",\n",
    "    perc=False, mask_perc_quantile=pf.mask_perc_quantile_default, \n",
    "    mask_period1=None, mask_period2=None, extents=None, cfv_data=None, output=True\n",
    ")"
   ]
  },
  {
   "cell_type": "code",
   "execution_count": null,
   "id": "4cb5bc38-4f2b-480c-942d-97b23e09c87b",
   "metadata": {},
   "outputs": [],
   "source": [
    "pf.plot_comp_mdp_clim_values_given_var_or_dvar(\n",
    "    region=region, period1_start=period1_start_dis, period1_end=period1_end_dis, \n",
    "    period2_start=period2_start_dis, period2_end=period2_end_dis, months_subset=months_dry, \n",
    "    glass_source_pref=glass_source_pref_dis, var_or_dvar=\"dwv100\", time=\"6-11\",\n",
    "    perc=False, mask_perc_quantile=pf.mask_perc_quantile_default, \n",
    "    mask_period1=None, mask_period2=None, extents=None, cfv_data=None, output=True\n",
    ")"
   ]
  },
  {
   "cell_type": "code",
   "execution_count": null,
   "id": "aecc9eac-19b9-4965-acab-b309cd1daca0",
   "metadata": {},
   "outputs": [],
   "source": [
    "pf.plot_comp_mdp_clim_values_given_var_or_dvar(\n",
    "    region=region, period1_start=period1_start_dis, period1_end=period1_end_dis, \n",
    "    period2_start=period2_start_dis, period2_end=period2_end_dis, months_subset=months_dry, \n",
    "    glass_source_pref=glass_source_pref_dis, var_or_dvar=\"dwv100\", time=\"12-17\",\n",
    "    perc=False, mask_perc_quantile=pf.mask_perc_quantile_default, \n",
    "    mask_period1=None, mask_period2=None, extents=None, cfv_data=None, output=True\n",
    ")"
   ]
  },
  {
   "cell_type": "code",
   "execution_count": null,
   "id": "39722591-fcd6-455e-aecf-2e8715764541",
   "metadata": {},
   "outputs": [],
   "source": [
    "pf.plot_comp_mdp_clim_values_given_var_or_dvar(\n",
    "    region=region, period1_start=period1_start_dis, period1_end=period1_end_dis, \n",
    "    period2_start=period2_start_dis, period2_end=period2_end_dis, months_subset=months_dry, \n",
    "    glass_source_pref=glass_source_pref_dis, var_or_dvar=\"dwv100\", time=\"18-23\",\n",
    "    perc=False, mask_perc_quantile=pf.mask_perc_quantile_default, \n",
    "    mask_period1=None, mask_period2=None, extents=None, cfv_data=None, output=True\n",
    ")"
   ]
  },
  {
   "cell_type": "code",
   "execution_count": null,
   "id": "f187d042-3da9-4a2d-8ee9-42c2a715f445",
   "metadata": {},
   "outputs": [],
   "source": [
    "pf.plot_comp_mdp_clim_values_given_var_or_dvar(\n",
    "    region=region, period1_start=period1_start_dis, period1_end=period1_end_dis, \n",
    "    period2_start=period2_start_dis, period2_end=period2_end_dis, months_subset=months_dry, \n",
    "    glass_source_pref=glass_source_pref_dis, var_or_dvar=\"dmslp\", time=\"0-5\",\n",
    "    perc=False, mask_perc_quantile=pf.mask_perc_quantile_default, \n",
    "    mask_period1=None, mask_period2=None, extents=None, cfv_data=None, output=True\n",
    ")"
   ]
  },
  {
   "cell_type": "code",
   "execution_count": null,
   "id": "00618d1a-0de0-443a-88ee-9ff0e66c2ce1",
   "metadata": {},
   "outputs": [],
   "source": [
    "pf.plot_comp_mdp_clim_values_given_var_or_dvar(\n",
    "    region=region, period1_start=period1_start_dis, period1_end=period1_end_dis, \n",
    "    period2_start=period2_start_dis, period2_end=period2_end_dis, months_subset=months_dry, \n",
    "    glass_source_pref=glass_source_pref_dis, var_or_dvar=\"dmslp\", time=\"6-11\",\n",
    "    perc=False, mask_perc_quantile=pf.mask_perc_quantile_default, \n",
    "    mask_period1=None, mask_period2=None, extents=None, cfv_data=None, output=True\n",
    ")"
   ]
  },
  {
   "cell_type": "code",
   "execution_count": null,
   "id": "31534269-c5ec-4213-9340-5b2ca15fc985",
   "metadata": {},
   "outputs": [],
   "source": [
    "pf.plot_comp_mdp_clim_values_given_var_or_dvar(\n",
    "    region=region, period1_start=period1_start_dis, period1_end=period1_end_dis, \n",
    "    period2_start=period2_start_dis, period2_end=period2_end_dis, months_subset=months_dry, \n",
    "    glass_source_pref=glass_source_pref_dis, var_or_dvar=\"dmslp\", time=\"12-17\",\n",
    "    perc=False, mask_perc_quantile=pf.mask_perc_quantile_default, \n",
    "    mask_period1=None, mask_period2=None, extents=None, cfv_data=None, output=True\n",
    ")"
   ]
  },
  {
   "cell_type": "code",
   "execution_count": null,
   "id": "27aaedf8-fe8d-4bb3-b939-df2b134b871f",
   "metadata": {},
   "outputs": [],
   "source": [
    "pf.plot_comp_mdp_clim_values_given_var_or_dvar(\n",
    "    region=region, period1_start=period1_start_dis, period1_end=period1_end_dis, \n",
    "    period2_start=period2_start_dis, period2_end=period2_end_dis, months_subset=months_dry, \n",
    "    glass_source_pref=glass_source_pref_dis, var_or_dvar=\"dmslp\", time=\"18-23\",\n",
    "    perc=False, mask_perc_quantile=pf.mask_perc_quantile_default, \n",
    "    mask_period1=None, mask_period2=None, extents=None, cfv_data=None, output=True\n",
    ")"
   ]
  },
  {
   "cell_type": "code",
   "execution_count": null,
   "id": "b8da9ca7-2cfa-49d6-86b0-ad89dd04fdcc",
   "metadata": {},
   "outputs": [],
   "source": [
    "pf.plot_comp_mdp_clim_values_given_var_or_dvar(\n",
    "    region=region, period1_start=period1_start_dis, period1_end=period1_end_dis, \n",
    "    period2_start=period2_start_dis, period2_end=period2_end_dis, months_subset=months_dry, \n",
    "    glass_source_pref=glass_source_pref_dis, var_or_dvar=\"dt2\", time=\"0-5\",\n",
    "    perc=False, mask_perc_quantile=pf.mask_perc_quantile_default, \n",
    "    mask_period1=None, mask_period2=None, extents=None, cfv_data=None, output=True\n",
    ")"
   ]
  },
  {
   "cell_type": "code",
   "execution_count": null,
   "id": "8a19c9cd-cab7-4eab-b202-bb6c670feccc",
   "metadata": {},
   "outputs": [],
   "source": [
    "pf.plot_comp_mdp_clim_values_given_var_or_dvar(\n",
    "    region=region, period1_start=period1_start_dis, period1_end=period1_end_dis, \n",
    "    period2_start=period2_start_dis, period2_end=period2_end_dis, months_subset=months_dry, \n",
    "    glass_source_pref=glass_source_pref_dis, var_or_dvar=\"dt2\", time=\"6-11\",\n",
    "    perc=False, mask_perc_quantile=pf.mask_perc_quantile_default, \n",
    "    mask_period1=None, mask_period2=None, extents=None, cfv_data=None, output=True\n",
    ")"
   ]
  },
  {
   "cell_type": "code",
   "execution_count": null,
   "id": "1da8c190-e625-4ca2-9ee4-e8d34ea4b6f9",
   "metadata": {},
   "outputs": [],
   "source": [
    "pf.plot_comp_mdp_clim_values_given_var_or_dvar(\n",
    "    region=region, period1_start=period1_start_dis, period1_end=period1_end_dis, \n",
    "    period2_start=period2_start_dis, period2_end=period2_end_dis, months_subset=months_dry, \n",
    "    glass_source_pref=glass_source_pref_dis, var_or_dvar=\"dt2\", time=\"12-17\",\n",
    "    perc=False, mask_perc_quantile=pf.mask_perc_quantile_default, \n",
    "    mask_period1=None, mask_period2=None, extents=None, cfv_data=None, output=True\n",
    ")"
   ]
  },
  {
   "cell_type": "code",
   "execution_count": null,
   "id": "c05f3852-a1cd-4660-948c-e48489147d06",
   "metadata": {},
   "outputs": [],
   "source": [
    "pf.plot_comp_mdp_clim_values_given_var_or_dvar(\n",
    "    region=region, period1_start=period1_start_dis, period1_end=period1_end_dis, \n",
    "    period2_start=period2_start_dis, period2_end=period2_end_dis, months_subset=months_dry, \n",
    "    glass_source_pref=glass_source_pref_dis, var_or_dvar=\"dt2\", time=\"18-23\",\n",
    "    perc=False, mask_perc_quantile=pf.mask_perc_quantile_default, \n",
    "    mask_period1=None, mask_period2=None, extents=None, cfv_data=None, output=True\n",
    ")"
   ]
  },
  {
   "cell_type": "code",
   "execution_count": null,
   "id": "a0ba2bda-0655-4ad0-9288-73ea7f862336",
   "metadata": {},
   "outputs": [],
   "source": [
    "pf.plot_comp_mdp_clim_values_given_var_or_dvar(\n",
    "    region=region, period1_start=period1_start_dis, period1_end=period1_end_dis, \n",
    "    period2_start=period2_start_dis, period2_end=period2_end_dis, months_subset=months_dry, \n",
    "    glass_source_pref=glass_source_pref_dis, var_or_dvar=\"dnac\", time=\"0-5\",\n",
    "    perc=False, mask_perc_quantile=pf.mask_perc_quantile_default, \n",
    "    mask_period1=None, mask_period2=None, extents=None, cfv_data=None, output=True\n",
    ")"
   ]
  },
  {
   "cell_type": "code",
   "execution_count": null,
   "id": "881c61ee-8a17-4073-a8d3-7dfda18ece29",
   "metadata": {},
   "outputs": [],
   "source": [
    "pf.plot_comp_mdp_clim_values_given_var_or_dvar(\n",
    "    region=region, period1_start=period1_start_dis, period1_end=period1_end_dis, \n",
    "    period2_start=period2_start_dis, period2_end=period2_end_dis, months_subset=months_dry, \n",
    "    glass_source_pref=glass_source_pref_dis, var_or_dvar=\"dnac\", time=\"6-11\",\n",
    "    perc=False, mask_perc_quantile=pf.mask_perc_quantile_default, \n",
    "    mask_period1=None, mask_period2=None, extents=None, cfv_data=None, output=True\n",
    ")"
   ]
  },
  {
   "cell_type": "code",
   "execution_count": null,
   "id": "675cf58c-4310-49e5-8ecb-63be7b69cf9f",
   "metadata": {},
   "outputs": [],
   "source": [
    "pf.plot_comp_mdp_clim_values_given_var_or_dvar(\n",
    "    region=region, period1_start=period1_start_dis, period1_end=period1_end_dis, \n",
    "    period2_start=period2_start_dis, period2_end=period2_end_dis, months_subset=months_dry, \n",
    "    glass_source_pref=glass_source_pref_dis, var_or_dvar=\"dnac\", time=\"12-17\",\n",
    "    perc=False, mask_perc_quantile=pf.mask_perc_quantile_default, \n",
    "    mask_period1=None, mask_period2=None, extents=None, cfv_data=None, output=True\n",
    ")"
   ]
  },
  {
   "cell_type": "code",
   "execution_count": null,
   "id": "4fdcfc09-6a46-4a0b-8d43-422543ffba39",
   "metadata": {},
   "outputs": [],
   "source": [
    "pf.plot_comp_mdp_clim_values_given_var_or_dvar(\n",
    "    region=region, period1_start=period1_start_dis, period1_end=period1_end_dis, \n",
    "    period2_start=period2_start_dis, period2_end=period2_end_dis, months_subset=months_dry, \n",
    "    glass_source_pref=glass_source_pref_dis, var_or_dvar=\"dnac\", time=\"18-23\",\n",
    "    perc=False, mask_perc_quantile=pf.mask_perc_quantile_default, \n",
    "    mask_period1=None, mask_period2=None, extents=None, cfv_data=None, output=True\n",
    ")"
   ]
  },
  {
   "cell_type": "code",
   "execution_count": null,
   "id": "2b35e506-73a7-4cf6-b2c8-b89c28a602dc",
   "metadata": {},
   "outputs": [],
   "source": [
    "pf.plot_comp_mdp_clim_values_given_var_or_dvar(\n",
    "    region=region, period1_start=period1_start_dis, period1_end=period1_end_dis, \n",
    "    period2_start=period2_start_dis, period2_end=period2_end_dis, months_subset=months_dry, \n",
    "    glass_source_pref=glass_source_pref_dis, var_or_dvar=\"nac\", time=\"0-5\",\n",
    "    perc=False, mask_perc_quantile=pf.mask_perc_quantile_default, \n",
    "    mask_period1=None, mask_period2=None, extents=None, cfv_data=None, output=True\n",
    ")"
   ]
  },
  {
   "cell_type": "code",
   "execution_count": null,
   "id": "3e042e18-ba7d-45ea-adc5-abf54fae93cd",
   "metadata": {},
   "outputs": [],
   "source": [
    "pf.plot_comp_mdp_clim_values_given_var_or_dvar(\n",
    "    region=region, period1_start=period1_start_dis, period1_end=period1_end_dis, \n",
    "    period2_start=period2_start_dis, period2_end=period2_end_dis, months_subset=months_dry, \n",
    "    glass_source_pref=glass_source_pref_dis, var_or_dvar=\"nac\", time=\"6-11\",\n",
    "    perc=False, mask_perc_quantile=pf.mask_perc_quantile_default, \n",
    "    mask_period1=None, mask_period2=None, extents=None, cfv_data=None, output=True\n",
    ")"
   ]
  },
  {
   "cell_type": "code",
   "execution_count": null,
   "id": "12ce5d9f-33d8-474f-81e4-d295e183e28d",
   "metadata": {},
   "outputs": [],
   "source": [
    "pf.plot_comp_mdp_clim_values_given_var_or_dvar(\n",
    "    region=region, period1_start=period1_start_dis, period1_end=period1_end_dis, \n",
    "    period2_start=period2_start_dis, period2_end=period2_end_dis, months_subset=months_dry, \n",
    "    glass_source_pref=glass_source_pref_dis, var_or_dvar=\"nac\", time=\"12-17\",\n",
    "    perc=False, mask_perc_quantile=pf.mask_perc_quantile_default, \n",
    "    mask_period1=None, mask_period2=None, extents=None, cfv_data=None, output=True\n",
    ")"
   ]
  },
  {
   "cell_type": "code",
   "execution_count": null,
   "id": "a6ded209-9ad2-45fb-aa98-6ef251b619d9",
   "metadata": {},
   "outputs": [],
   "source": [
    "pf.plot_comp_mdp_clim_values_given_var_or_dvar(\n",
    "    region=region, period1_start=period1_start_dis, period1_end=period1_end_dis, \n",
    "    period2_start=period2_start_dis, period2_end=period2_end_dis, months_subset=months_dry, \n",
    "    glass_source_pref=glass_source_pref_dis, var_or_dvar=\"nac\", time=\"18-23\",\n",
    "    perc=False, mask_perc_quantile=pf.mask_perc_quantile_default, \n",
    "    mask_period1=None, mask_period2=None, extents=None, cfv_data=None, output=True\n",
    ")"
   ]
  },
  {
   "cell_type": "markdown",
   "id": "c150e5e5-8ac9-4033-a6c0-c898c3ad99c7",
   "metadata": {
    "jp-MarkdownHeadingCollapsed": true,
    "tags": []
   },
   "source": [
    "### Dissimilar periods (dry season): WSD"
   ]
  },
  {
   "cell_type": "code",
   "execution_count": null,
   "id": "700763e6-99b6-4e80-9e72-c74eb1a77794",
   "metadata": {},
   "outputs": [],
   "source": [
    "pf.plot_comp_wsd_clim(\n",
    "    region=region, period1_start=period1_start_dis, period1_end=period1_end_dis, \n",
    "    period2_start=period2_start_dis, period2_end=period2_end_dis, months_subset=months_dry, \n",
    "    glass_source_pref=glass_source_pref_dis, \n",
    "    perc=False, mask_perc_quantile=pf.mask_perc_quantile_default, \n",
    "    mask_period1=None, mask_period2=None, extents=None, cfv_data=None, output=True\n",
    ")"
   ]
  },
  {
   "cell_type": "code",
   "execution_count": null,
   "id": "126ef23e-f75e-493d-9552-8f65a6919b86",
   "metadata": {},
   "outputs": [],
   "source": []
  },
  {
   "cell_type": "markdown",
   "id": "91462c15-5bfc-4325-8040-59a198749a54",
   "metadata": {
    "jp-MarkdownHeadingCollapsed": true,
    "tags": []
   },
   "source": [
    "# Overview for dissimilar months"
   ]
  },
  {
   "cell_type": "markdown",
   "id": "b58c1b89-7427-45a0-8d07-fb3d9d47f6d7",
   "metadata": {},
   "source": [
    "## Dissimilar months"
   ]
  },
  {
   "cell_type": "markdown",
   "id": "820e8cb6-1b83-4035-8442-79215ae806b4",
   "metadata": {
    "jp-MarkdownHeadingCollapsed": true,
    "tags": []
   },
   "source": [
    "### Dissimilar months: MDP stats "
   ]
  },
  {
   "cell_type": "code",
   "execution_count": null,
   "id": "5926d4ca-5f09-4051-b8d0-e78db80d21a3",
   "metadata": {},
   "outputs": [],
   "source": [
    "pf.plot_comp_mdp_clim_stats_given_var_or_dvar(\n",
    "    region=region, period1_start=month1_dis, period1_end=month1_dis, \n",
    "    period2_start=month2_dis, period2_end=month2_dis, months_subset=\"all\", \n",
    "    glass_source_pref=glass_source_pref_dis_month, var_or_dvar=\"wv100\", \n",
    "    perc=False, mask_perc_quantile=pf.mask_perc_quantile_default, \n",
    "    mask_period1=None, mask_period2=None, extents=None, cfv_data=None, output=True\n",
    ")"
   ]
  },
  {
   "cell_type": "code",
   "execution_count": null,
   "id": "41fc0c3b-f580-4580-bc10-3c714ab10421",
   "metadata": {},
   "outputs": [],
   "source": [
    "pf.plot_comp_mdp_clim_stats_given_var_or_dvar(\n",
    "    region=region, period1_start=month1_dis, period1_end=month1_dis, \n",
    "    period2_start=month2_dis, period2_end=month2_dis, months_subset=\"all\", \n",
    "    glass_source_pref=glass_source_pref_dis_month, var_or_dvar=\"ws100\", \n",
    "    perc=False, mask_perc_quantile=pf.mask_perc_quantile_default, \n",
    "    mask_period1=None, mask_period2=None, extents=None, cfv_data=None, output=True\n",
    ")"
   ]
  },
  {
   "cell_type": "code",
   "execution_count": null,
   "id": "2857739f-c273-4f8e-a983-c18e116b42d8",
   "metadata": {},
   "outputs": [],
   "source": [
    "pf.plot_comp_mdp_clim_stats_given_var_or_dvar(\n",
    "    region=region, period1_start=month1_dis, period1_end=month1_dis, \n",
    "    period2_start=month2_dis, period2_end=month2_dis, months_subset=\"all\", \n",
    "    glass_source_pref=glass_source_pref_dis_month, var_or_dvar=\"u100\", \n",
    "    perc=False, mask_perc_quantile=pf.mask_perc_quantile_default, \n",
    "    mask_period1=None, mask_period2=None, extents=None, cfv_data=None, output=True\n",
    ")"
   ]
  },
  {
   "cell_type": "code",
   "execution_count": null,
   "id": "b548d19d-3426-49a1-9d84-5e3a66ff5ece",
   "metadata": {},
   "outputs": [],
   "source": [
    "pf.plot_comp_mdp_clim_stats_given_var_or_dvar(\n",
    "    region=region, period1_start=month1_dis, period1_end=month1_dis, \n",
    "    period2_start=month2_dis, period2_end=month2_dis, months_subset=\"all\", \n",
    "    glass_source_pref=glass_source_pref_dis_month, var_or_dvar=\"v100\", \n",
    "    perc=False, mask_perc_quantile=pf.mask_perc_quantile_default, \n",
    "    mask_period1=None, mask_period2=None, extents=None, cfv_data=None, output=True\n",
    ")"
   ]
  },
  {
   "cell_type": "code",
   "execution_count": null,
   "id": "aa15a876-8b5c-4432-abeb-09a678fd4539",
   "metadata": {},
   "outputs": [],
   "source": [
    "pf.plot_comp_mdp_clim_stats_given_var_or_dvar(\n",
    "    region=region, period1_start=month1_dis, period1_end=month1_dis, \n",
    "    period2_start=month2_dis, period2_end=month2_dis, months_subset=\"all\", \n",
    "    glass_source_pref=glass_source_pref_dis_month, var_or_dvar=\"mslp\", \n",
    "    perc=False, mask_perc_quantile=pf.mask_perc_quantile_default, \n",
    "    mask_period1=None, mask_period2=None, extents=None, cfv_data=None, output=True\n",
    ")"
   ]
  },
  {
   "cell_type": "code",
   "execution_count": null,
   "id": "41dced74-c62e-4906-b765-f42817cd6a31",
   "metadata": {},
   "outputs": [],
   "source": [
    "pf.plot_comp_mdp_clim_stats_given_var_or_dvar(\n",
    "    region=region, period1_start=month1_dis, period1_end=month1_dis, \n",
    "    period2_start=month2_dis, period2_end=month2_dis, months_subset=\"all\", \n",
    "    glass_source_pref=glass_source_pref_dis_month, var_or_dvar=\"t2\", \n",
    "    perc=False, mask_perc_quantile=pf.mask_perc_quantile_default, \n",
    "    mask_period1=None, mask_period2=None, extents=None, cfv_data=None, output=True\n",
    ")"
   ]
  },
  {
   "cell_type": "code",
   "execution_count": null,
   "id": "701745bc-3b56-4ea4-b844-e26e4ceb595c",
   "metadata": {},
   "outputs": [],
   "source": [
    "pf.plot_comp_mdp_clim_stats_given_var_or_dvar(\n",
    "    region=region, period1_start=month1_dis, period1_end=month1_dis, \n",
    "    period2_start=month2_dis, period2_end=month2_dis, months_subset=\"all\", \n",
    "    glass_source_pref=glass_source_pref_dis_month, var_or_dvar=\"nac\", \n",
    "    perc=False, mask_perc_quantile=pf.mask_perc_quantile_default, \n",
    "    mask_period1=None, mask_period2=None, extents=None, cfv_data=None, output=True\n",
    ")"
   ]
  },
  {
   "cell_type": "markdown",
   "id": "4c6a7fc7-865e-4d5c-805d-457c42b186cb",
   "metadata": {
    "jp-MarkdownHeadingCollapsed": true,
    "tags": []
   },
   "source": [
    "### Dissimilar months: MDP values"
   ]
  },
  {
   "cell_type": "code",
   "execution_count": null,
   "id": "5fa62ab4-dc9b-44c5-9dd2-acdbfd7437d5",
   "metadata": {},
   "outputs": [],
   "source": [
    "pf.plot_comp_mdp_clim_values_given_var_or_dvar(\n",
    "    region=region, period1_start=month1_dis, period1_end=month1_dis, \n",
    "    period2_start=month2_dis, period2_end=month2_dis, months_subset=\"all\", \n",
    "    glass_source_pref=glass_source_pref_dis_month, var_or_dvar=\"dwv100\", time=\"0-5\",\n",
    "    perc=False, mask_perc_quantile=pf.mask_perc_quantile_default, \n",
    "    mask_period1=None, mask_period2=None, extents=None, cfv_data=None, output=True\n",
    ")"
   ]
  },
  {
   "cell_type": "code",
   "execution_count": null,
   "id": "1180addb-3da2-41d3-8f29-d5bb1f7c99dd",
   "metadata": {},
   "outputs": [],
   "source": [
    "pf.plot_comp_mdp_clim_values_given_var_or_dvar(\n",
    "    region=region, period1_start=month1_dis, period1_end=month1_dis, \n",
    "    period2_start=month2_dis, period2_end=month2_dis, months_subset=\"all\", \n",
    "    glass_source_pref=glass_source_pref_dis_month, var_or_dvar=\"dwv100\", time=\"6-11\",\n",
    "    perc=False, mask_perc_quantile=pf.mask_perc_quantile_default, \n",
    "    mask_period1=None, mask_period2=None, extents=None, cfv_data=None, output=True\n",
    ")"
   ]
  },
  {
   "cell_type": "code",
   "execution_count": null,
   "id": "178f57e4-bc3c-424b-984c-6168985a5760",
   "metadata": {},
   "outputs": [],
   "source": [
    "pf.plot_comp_mdp_clim_values_given_var_or_dvar(\n",
    "    region=region, period1_start=month1_dis, period1_end=month1_dis, \n",
    "    period2_start=month2_dis, period2_end=month2_dis, months_subset=\"all\", \n",
    "    glass_source_pref=glass_source_pref_dis_month, var_or_dvar=\"dwv100\", time=\"12-17\",\n",
    "    perc=False, mask_perc_quantile=pf.mask_perc_quantile_default, \n",
    "    mask_period1=None, mask_period2=None, extents=None, cfv_data=None, output=True\n",
    ")"
   ]
  },
  {
   "cell_type": "code",
   "execution_count": null,
   "id": "2522e6ac-41b0-4a1d-b2b7-6df6592603b8",
   "metadata": {},
   "outputs": [],
   "source": [
    "pf.plot_comp_mdp_clim_values_given_var_or_dvar(\n",
    "    region=region, period1_start=month1_dis, period1_end=month1_dis, \n",
    "    period2_start=month2_dis, period2_end=month2_dis, months_subset=\"all\", \n",
    "    glass_source_pref=glass_source_pref_dis_month, var_or_dvar=\"dwv100\", time=\"18-23\",\n",
    "    perc=False, mask_perc_quantile=pf.mask_perc_quantile_default, \n",
    "    mask_period1=None, mask_period2=None, extents=None, cfv_data=None, output=True\n",
    ")"
   ]
  },
  {
   "cell_type": "code",
   "execution_count": null,
   "id": "cfc7fbf0-808a-45aa-85fb-feb43742d2ab",
   "metadata": {},
   "outputs": [],
   "source": [
    "pf.plot_comp_mdp_clim_values_given_var_or_dvar(\n",
    "    region=region, period1_start=month1_dis, period1_end=month1_dis, \n",
    "    period2_start=month2_dis, period2_end=month2_dis, months_subset=\"all\", \n",
    "    glass_source_pref=glass_source_pref_dis_month, var_or_dvar=\"dmslp\", time=\"0-5\",\n",
    "    perc=False, mask_perc_quantile=pf.mask_perc_quantile_default, \n",
    "    mask_period1=None, mask_period2=None, extents=None, cfv_data=None, output=True\n",
    ")"
   ]
  },
  {
   "cell_type": "code",
   "execution_count": null,
   "id": "2cc58dbf-5a19-42c1-8cab-faaaccb2ed74",
   "metadata": {},
   "outputs": [],
   "source": [
    "pf.plot_comp_mdp_clim_values_given_var_or_dvar(\n",
    "    region=region, period1_start=month1_dis, period1_end=month1_dis, \n",
    "    period2_start=month2_dis, period2_end=month2_dis, months_subset=\"all\", \n",
    "    glass_source_pref=glass_source_pref_dis_month, var_or_dvar=\"dmslp\", time=\"6-11\",\n",
    "    perc=False, mask_perc_quantile=pf.mask_perc_quantile_default, \n",
    "    mask_period1=None, mask_period2=None, extents=None, cfv_data=None, output=True\n",
    ")"
   ]
  },
  {
   "cell_type": "code",
   "execution_count": null,
   "id": "da3aaf6b-bcf9-42a1-a6f1-782dc35896c4",
   "metadata": {},
   "outputs": [],
   "source": [
    "pf.plot_comp_mdp_clim_values_given_var_or_dvar(\n",
    "    region=region, period1_start=month1_dis, period1_end=month1_dis, \n",
    "    period2_start=month2_dis, period2_end=month2_dis, months_subset=\"all\", \n",
    "    glass_source_pref=glass_source_pref_dis_month, var_or_dvar=\"dmslp\", time=\"12-17\",\n",
    "    perc=False, mask_perc_quantile=pf.mask_perc_quantile_default, \n",
    "    mask_period1=None, mask_period2=None, extents=None, cfv_data=None, output=True\n",
    ")"
   ]
  },
  {
   "cell_type": "code",
   "execution_count": null,
   "id": "540db75e-efb4-4482-a02c-442847dd6ba6",
   "metadata": {},
   "outputs": [],
   "source": [
    "pf.plot_comp_mdp_clim_values_given_var_or_dvar(\n",
    "    region=region, period1_start=month1_dis, period1_end=month1_dis, \n",
    "    period2_start=month2_dis, period2_end=month2_dis, months_subset=\"all\", \n",
    "    glass_source_pref=glass_source_pref_dis_month, var_or_dvar=\"dmslp\", time=\"18-23\",\n",
    "    perc=False, mask_perc_quantile=pf.mask_perc_quantile_default, \n",
    "    mask_period1=None, mask_period2=None, extents=None, cfv_data=None, output=True\n",
    ")"
   ]
  },
  {
   "cell_type": "code",
   "execution_count": null,
   "id": "2203d633-6f7c-4a59-864f-1e8340965a70",
   "metadata": {},
   "outputs": [],
   "source": [
    "pf.plot_comp_mdp_clim_values_given_var_or_dvar(\n",
    "    region=region, period1_start=month1_dis, period1_end=month1_dis, \n",
    "    period2_start=month2_dis, period2_end=month2_dis, months_subset=\"all\", \n",
    "    glass_source_pref=glass_source_pref_dis_month, var_or_dvar=\"dt2\", time=\"0-5\",\n",
    "    perc=False, mask_perc_quantile=pf.mask_perc_quantile_default, \n",
    "    mask_period1=None, mask_period2=None, extents=None, cfv_data=None, output=True\n",
    ")"
   ]
  },
  {
   "cell_type": "code",
   "execution_count": null,
   "id": "bccc07cc-f3e0-46cc-8568-beddb412d058",
   "metadata": {},
   "outputs": [],
   "source": [
    "pf.plot_comp_mdp_clim_values_given_var_or_dvar(\n",
    "    region=region, period1_start=month1_dis, period1_end=month1_dis, \n",
    "    period2_start=month2_dis, period2_end=month2_dis, months_subset=\"all\", \n",
    "    glass_source_pref=glass_source_pref_dis_month, var_or_dvar=\"dt2\", time=\"6-11\",\n",
    "    perc=False, mask_perc_quantile=pf.mask_perc_quantile_default, \n",
    "    mask_period1=None, mask_period2=None, extents=None, cfv_data=None, output=True\n",
    ")"
   ]
  },
  {
   "cell_type": "code",
   "execution_count": null,
   "id": "3f45e5e9-76d2-428c-a08b-da35d6e12285",
   "metadata": {},
   "outputs": [],
   "source": [
    "pf.plot_comp_mdp_clim_values_given_var_or_dvar(\n",
    "    region=region, period1_start=month1_dis, period1_end=month1_dis, \n",
    "    period2_start=month2_dis, period2_end=month2_dis, months_subset=\"all\", \n",
    "    glass_source_pref=glass_source_pref_dis_month, var_or_dvar=\"dt2\", time=\"12-17\",\n",
    "    perc=False, mask_perc_quantile=pf.mask_perc_quantile_default, \n",
    "    mask_period1=None, mask_period2=None, extents=None, cfv_data=None, output=True\n",
    ")"
   ]
  },
  {
   "cell_type": "code",
   "execution_count": null,
   "id": "ad32e409-7eb0-4e87-8a50-851d59241a7e",
   "metadata": {},
   "outputs": [],
   "source": [
    "pf.plot_comp_mdp_clim_values_given_var_or_dvar(\n",
    "    region=region, period1_start=month1_dis, period1_end=month1_dis, \n",
    "    period2_start=month2_dis, period2_end=month2_dis, months_subset=\"all\", \n",
    "    glass_source_pref=glass_source_pref_dis_month, var_or_dvar=\"dt2\", time=\"18-23\",\n",
    "    perc=False, mask_perc_quantile=pf.mask_perc_quantile_default, \n",
    "    mask_period1=None, mask_period2=None, extents=None, cfv_data=None, output=True\n",
    ")"
   ]
  },
  {
   "cell_type": "code",
   "execution_count": null,
   "id": "1d81b50c-38d7-40db-847c-e877b84784a9",
   "metadata": {},
   "outputs": [],
   "source": [
    "pf.plot_comp_mdp_clim_values_given_var_or_dvar(\n",
    "    region=region, period1_start=month1_dis, period1_end=month1_dis, \n",
    "    period2_start=month2_dis, period2_end=month2_dis, months_subset=\"all\", \n",
    "    glass_source_pref=glass_source_pref_dis_month, var_or_dvar=\"dnac\", time=\"0-5\",\n",
    "    perc=False, mask_perc_quantile=pf.mask_perc_quantile_default, \n",
    "    mask_period1=None, mask_period2=None, extents=None, cfv_data=None, output=True\n",
    ")"
   ]
  },
  {
   "cell_type": "code",
   "execution_count": null,
   "id": "ef07f21f-98d3-4fc7-ae6f-ff2ede8a280d",
   "metadata": {},
   "outputs": [],
   "source": [
    "pf.plot_comp_mdp_clim_values_given_var_or_dvar(\n",
    "    region=region, period1_start=month1_dis, period1_end=month1_dis, \n",
    "    period2_start=month2_dis, period2_end=month2_dis, months_subset=\"all\", \n",
    "    glass_source_pref=glass_source_pref_dis_month, var_or_dvar=\"dnac\", time=\"6-11\",\n",
    "    perc=False, mask_perc_quantile=pf.mask_perc_quantile_default, \n",
    "    mask_period1=None, mask_period2=None, extents=None, cfv_data=None, output=True\n",
    ")"
   ]
  },
  {
   "cell_type": "code",
   "execution_count": null,
   "id": "1985c280-2fb9-491a-b628-3a30a5698d78",
   "metadata": {},
   "outputs": [],
   "source": [
    "pf.plot_comp_mdp_clim_values_given_var_or_dvar(\n",
    "    region=region, period1_start=month1_dis, period1_end=month1_dis, \n",
    "    period2_start=month2_dis, period2_end=month2_dis, months_subset=\"all\", \n",
    "    glass_source_pref=glass_source_pref_dis_month, var_or_dvar=\"dnac\", time=\"12-17\",\n",
    "    perc=False, mask_perc_quantile=pf.mask_perc_quantile_default, \n",
    "    mask_period1=None, mask_period2=None, extents=None, cfv_data=None, output=True\n",
    ")"
   ]
  },
  {
   "cell_type": "code",
   "execution_count": null,
   "id": "9ba9f898-dea9-446e-a0de-2f77a4ad7798",
   "metadata": {},
   "outputs": [],
   "source": [
    "pf.plot_comp_mdp_clim_values_given_var_or_dvar(\n",
    "    region=region, period1_start=month1_dis, period1_end=month1_dis, \n",
    "    period2_start=month2_dis, period2_end=month2_dis, months_subset=\"all\", \n",
    "    glass_source_pref=glass_source_pref_dis_month, var_or_dvar=\"dnac\", time=\"18-23\",\n",
    "    perc=False, mask_perc_quantile=pf.mask_perc_quantile_default, \n",
    "    mask_period1=None, mask_period2=None, extents=None, cfv_data=None, output=True\n",
    ")"
   ]
  },
  {
   "cell_type": "code",
   "execution_count": null,
   "id": "d7c536f4-0019-4d0d-81dc-758c3e419dab",
   "metadata": {},
   "outputs": [],
   "source": [
    "pf.plot_comp_mdp_clim_values_given_var_or_dvar(\n",
    "    region=region, period1_start=month1_dis, period1_end=month1_dis, \n",
    "    period2_start=month2_dis, period2_end=month2_dis, months_subset=\"all\", \n",
    "    glass_source_pref=glass_source_pref_dis_month, var_or_dvar=\"nac\", time=\"0-5\",\n",
    "    perc=False, mask_perc_quantile=pf.mask_perc_quantile_default, \n",
    "    mask_period1=None, mask_period2=None, extents=None, cfv_data=None, output=True\n",
    ")"
   ]
  },
  {
   "cell_type": "code",
   "execution_count": null,
   "id": "154d9970-1616-4317-8104-dd2e94f17b27",
   "metadata": {},
   "outputs": [],
   "source": [
    "pf.plot_comp_mdp_clim_values_given_var_or_dvar(\n",
    "    region=region, period1_start=month1_dis, period1_end=month1_dis, \n",
    "    period2_start=month2_dis, period2_end=month2_dis, months_subset=\"all\", \n",
    "    glass_source_pref=glass_source_pref_dis_month, var_or_dvar=\"nac\", time=\"6-11\",\n",
    "    perc=False, mask_perc_quantile=pf.mask_perc_quantile_default, \n",
    "    mask_period1=None, mask_period2=None, extents=None, cfv_data=None, output=True\n",
    ")"
   ]
  },
  {
   "cell_type": "code",
   "execution_count": null,
   "id": "9ac0bc12-dbc6-4515-8750-ab52b1adfc58",
   "metadata": {},
   "outputs": [],
   "source": [
    "pf.plot_comp_mdp_clim_values_given_var_or_dvar(\n",
    "    region=region, period1_start=month1_dis, period1_end=month1_dis, \n",
    "    period2_start=month2_dis, period2_end=month2_dis, months_subset=\"all\", \n",
    "    glass_source_pref=glass_source_pref_dis_month, var_or_dvar=\"nac\", time=\"12-17\",\n",
    "    perc=False, mask_perc_quantile=pf.mask_perc_quantile_default, \n",
    "    mask_period1=None, mask_period2=None, extents=None, cfv_data=None, output=True\n",
    ")"
   ]
  },
  {
   "cell_type": "code",
   "execution_count": null,
   "id": "dc4be2f5-1749-452d-887e-d9b73ded4b74",
   "metadata": {},
   "outputs": [],
   "source": [
    "pf.plot_comp_mdp_clim_values_given_var_or_dvar(\n",
    "    region=region, period1_start=month1_dis, period1_end=month1_dis, \n",
    "    period2_start=month2_dis, period2_end=month2_dis, months_subset=\"all\", \n",
    "    glass_source_pref=glass_source_pref_dis_month, var_or_dvar=\"nac\", time=\"18-23\",\n",
    "    perc=False, mask_perc_quantile=pf.mask_perc_quantile_default, \n",
    "    mask_period1=None, mask_period2=None, extents=None, cfv_data=None, output=True\n",
    ")"
   ]
  },
  {
   "cell_type": "markdown",
   "id": "dd13cde0-13d6-40e0-85fa-e3030fef79c2",
   "metadata": {
    "tags": []
   },
   "source": [
    "### Dissimilar months: WSD"
   ]
  },
  {
   "cell_type": "code",
   "execution_count": null,
   "id": "e4c3ecb4-f4f6-41d9-afc1-46b079d73dd3",
   "metadata": {},
   "outputs": [],
   "source": [
    "pf.plot_comp_wsd_clim(\n",
    "    region=region, period1_start=month1_dis, period1_end=month1_dis, \n",
    "    period2_start=month2_dis, period2_end=month2_dis, months_subset=\"all\", \n",
    "    glass_source_pref=glass_source_pref_dis_month, \n",
    "    perc=False, mask_perc_quantile=pf.mask_perc_quantile_default, \n",
    "    mask_period1=None, mask_period2=None, extents=None, cfv_data=None, output=True\n",
    ")"
   ]
  },
  {
   "cell_type": "code",
   "execution_count": null,
   "id": "bb511646-6006-4039-9b6a-14461f45b3d3",
   "metadata": {},
   "outputs": [],
   "source": []
  },
  {
   "cell_type": "code",
   "execution_count": null,
   "id": "9b5369e0-ffe1-49de-9e4d-d7ecd6545c61",
   "metadata": {},
   "outputs": [],
   "source": []
  },
  {
   "cell_type": "markdown",
   "id": "7463d3af-7e00-4aa7-8eae-7199ef0a010c",
   "metadata": {
    "jp-MarkdownHeadingCollapsed": true,
    "tags": []
   },
   "source": [
    "# Scrap"
   ]
  },
  {
   "cell_type": "markdown",
   "id": "afa43f03-f07f-4eae-8397-22e561211ca5",
   "metadata": {},
   "source": [
    "## WA settings"
   ]
  },
  {
   "cell_type": "code",
   "execution_count": null,
   "id": "7759f964-8e1c-4deb-a93f-3b9c748878b2",
   "metadata": {},
   "outputs": [],
   "source": [
    "# General analysis settings\n",
    "region = \"wa\"\n",
    "year_start = 1983\n",
    "year_end = 2019\n",
    "window_size = 5\n",
    "months_wet = \"mam\"\n",
    "months_dry = \"djf\"\n",
    "\n",
    "# Periods with similar background atmospheric oscillations\n",
    "period1_mid_sim = \"Dec-1999\"\n",
    "period1_start_sim = \"Jun-1997\"\n",
    "period1_end_sim = \"May-2002\"\n",
    "period2_mid_sim = \"Mar-2013\"\n",
    "period2_start_sim = \"Sep-2010\"\n",
    "period2_end_sim = \"Aug-2015\"\n",
    "if (datetime.strptime(period1_start_sim, \"%b-%Y\") >= \n",
    "    datetime.strptime(cf.modis_earliest, \"%b-%Y\")):\n",
    "    glass_source_pref_sim = \"modis\"\n",
    "else:\n",
    "    glass_source_pref_sim = \"avhrr\"\n",
    "\n",
    "# Periods with dissimilar background atmospheric oscillations\n",
    "period1_mid_dis = \"Sep-1990\"\n",
    "period1_start_dis = \"Mar-1988\"\n",
    "period1_end_dis = \"Feb-1993\"\n",
    "period2_mid_dis = \"Jul-2016\"\n",
    "period2_start_dis = \"Jan-2014\"\n",
    "period2_end_dis = \"Dec-2018\"\n",
    "if (datetime.strptime(period1_start_dis, \"%b-%Y\") >= \n",
    "    datetime.strptime(cf.modis_earliest, \"%b-%Y\")):\n",
    "    glass_source_pref_dis = \"modis\"\n",
    "else:\n",
    "    glass_source_pref_dis = \"avhrr\"\n",
    "\n",
    "# Single months with very dissimilar background atmospheric oscillations\n",
    "month1_dis = \"Nov-1996\"\n",
    "month2_dis = \"Sep-2015\"\n",
    "if (datetime.strptime(month1_dis, \"%b-%Y\") >= \n",
    "    datetime.strptime(cf.modis_earliest, \"%b-%Y\")):\n",
    "    glass_source_pref_dis_month = \"modis\"\n",
    "else:\n",
    "    glass_source_pref_dis_month = \"avhrr\""
   ]
  },
  {
   "cell_type": "markdown",
   "id": "bef60b81-daad-4873-ab6d-07fdb4c0d6dc",
   "metadata": {},
   "source": [
    "## CA settings"
   ]
  },
  {
   "cell_type": "code",
   "execution_count": null,
   "id": "762741ee-6f5a-4328-ad45-ec1f4232a182",
   "metadata": {},
   "outputs": [],
   "source": [
    "# General analysis settings\n",
    "region = \"ca\"\n",
    "year_start = 1983\n",
    "year_end = 2019\n",
    "window_size = 5\n",
    "months_wet = [5, 6, 7, 8, 9, 10]\n",
    "months_dry = [11, 12, 1, 2, 3, 4]\n",
    "\n",
    "# Periods with similar background atmospheric oscillations\n",
    "period1_mid_sim = \"Jul-1983\"\n",
    "period1_start_sim = \"Jan-1981\"\n",
    "period1_end_sim = \"Dec-1985\"\n",
    "period2_mid_sim = \"Jul-1994\"\n",
    "period2_start_sim = \"Jan-1992\"\n",
    "period2_end_sim = \"Dec-1996\"\n",
    "if (datetime.strptime(period1_start_sim, \"%b-%Y\") >= \n",
    "    datetime.strptime(cf.modis_earliest, \"%b-%Y\")):\n",
    "    glass_source_pref_sim = \"modis\"\n",
    "else:\n",
    "    glass_source_pref_sim = \"avhrr\"\n",
    "    \n",
    "# Periods with dissimilar background atmospheric oscillations\n",
    "period1_mid_dis = \"Mar-1985\"\n",
    "period1_start_dis = \"Sep-1982\"\n",
    "period1_end_dis = \"Aug-1987\"\n",
    "period2_mid_dis = \"Jul-2010\"\n",
    "period2_start_dis = \"Jan-2008\"\n",
    "period2_end_dis = \"Dec-2012\"\n",
    "if (datetime.strptime(period1_start_dis, \"%b-%Y\") >= \n",
    "    datetime.strptime(cf.modis_earliest, \"%b-%Y\")):\n",
    "    glass_source_pref_dis = \"modis\"\n",
    "else:\n",
    "    glass_source_pref_dis = \"avhrr\"\n",
    "\n",
    "# Single months with very dissimilar background atmospheric oscillations\n",
    "month1_dis = \"Nov-1996\"\n",
    "month2_dis = \"Sep-2015\"\n",
    "if (datetime.strptime(month1_dis, \"%b-%Y\") >= \n",
    "    datetime.strptime(cf.modis_earliest, \"%b-%Y\")):\n",
    "    glass_source_pref_dis_month = \"modis\"\n",
    "else:\n",
    "    glass_source_pref_dis_month = \"avhrr\""
   ]
  },
  {
   "cell_type": "markdown",
   "id": "f47e3984-b445-4688-8d0e-573fbf6b1f92",
   "metadata": {},
   "source": [
    "## SA settings"
   ]
  },
  {
   "cell_type": "code",
   "execution_count": null,
   "id": "144ad8a8-49e7-4a1d-8967-b5dc40da65cf",
   "metadata": {},
   "outputs": [],
   "source": [
    "# General analysis settings\n",
    "region = \"sa\"\n",
    "year_start = 1983\n",
    "year_end = 2019\n",
    "window_size = 5\n",
    "months_wet = [1, 2, 3, 4, 5, 6]\n",
    "months_dry = [7, 8, 9, 10, 11, 12]\n",
    "\n",
    "# Periods with similar background atmospheric oscillations\n",
    "period1_mid_sim = \"Jul-2005\"\n",
    "period1_start_sim = \"Jan-2003\"\n",
    "period1_end_sim = \"Dec-2007\"\n",
    "period2_mid_sim = \"Jul-2018\"\n",
    "period2_start_sim = \"Jan-2016\"\n",
    "period2_end_sim = \"Dec-2020\"\n",
    "if (datetime.strptime(period1_start_sim, \"%b-%Y\") >= \n",
    "    datetime.strptime(cf.modis_earliest, \"%b-%Y\")):\n",
    "    glass_source_pref_sim = \"modis\"\n",
    "else:\n",
    "    glass_source_pref_sim = \"avhrr\"\n",
    "    \n",
    "# Periods with dissimilar background atmospheric oscillations\n",
    "period1_mid_dis = \"Mar-1985\"\n",
    "period1_start_dis = \"Sep-1982\"\n",
    "period1_end_dis = \"Aug-1987\"\n",
    "period2_mid_dis = \"Jul-2010\"\n",
    "period2_start_dis = \"Jan-2008\"\n",
    "period2_end_dis = \"Dec-2012\"\n",
    "if (datetime.strptime(period1_start_dis, \"%b-%Y\") >= \n",
    "    datetime.strptime(cf.modis_earliest, \"%b-%Y\")):\n",
    "    glass_source_pref_dis = \"modis\"\n",
    "else:\n",
    "    glass_source_pref_dis = \"avhrr\"\n",
    "\n",
    "# Single months with very dissimilar background atmospheric oscillations\n",
    "month1_dis = \"Nov-1996\"\n",
    "month2_dis = \"Sep-2015\"\n",
    "if (datetime.strptime(month1_dis, \"%b-%Y\") >= \n",
    "    datetime.strptime(cf.modis_earliest, \"%b-%Y\")):\n",
    "    glass_source_pref_dis_month = \"modis\"\n",
    "else:\n",
    "    glass_source_pref_dis_month = \"avhrr\""
   ]
  },
  {
   "cell_type": "code",
   "execution_count": null,
   "id": "8748860a-31cf-481d-a4a9-85a44c15b8ab",
   "metadata": {},
   "outputs": [],
   "source": []
  },
  {
   "cell_type": "code",
   "execution_count": null,
   "id": "f52b6e55-02f8-4cbf-aaa6-988ac2b1a4d5",
   "metadata": {},
   "outputs": [],
   "source": [
    "# Create all possible diff data files for periods with similar background \n",
    "# atmospheric oscillations (year round, wet season only, and dry season only)\n",
    "cf.create_all_possible_calc_data_files(\"wa\", \"Jan-2001\", \"Dec-2021\", [1])\n",
    "cf.create_all_possible_calc_data_files(\"wa\", \"Jan-2001\", \"Dec-2021\", [2])\n",
    "cf.create_all_possible_calc_data_files(\"wa\", \"Jan-2001\", \"Dec-2021\", [3])\n",
    "cf.create_all_possible_calc_data_files(\"wa\", \"Jan-2001\", \"Dec-2021\", [4])\n",
    "cf.create_all_possible_calc_data_files(\"wa\", \"Jan-2001\", \"Dec-2021\", [5])\n",
    "cf.create_all_possible_calc_data_files(\"wa\", \"Jan-2001\", \"Dec-2021\", [6])\n",
    "cf.create_all_possible_calc_data_files(\"wa\", \"Jan-2001\", \"Dec-2021\", [7])\n",
    "cf.create_all_possible_calc_data_files(\"wa\", \"Jan-2001\", \"Dec-2021\", [8])\n",
    "cf.create_all_possible_calc_data_files(\"wa\", \"Jan-2001\", \"Dec-2021\", [9])\n",
    "cf.create_all_possible_calc_data_files(\"wa\", \"Jan-2001\", \"Dec-2021\", [10])\n",
    "cf.create_all_possible_calc_data_files(\"wa\", \"Jan-2001\", \"Dec-2021\", [11])\n",
    "cf.create_all_possible_calc_data_files(\"wa\", \"Jan-2001\", \"Dec-2021\", [12])"
   ]
  },
  {
   "cell_type": "code",
   "execution_count": null,
   "id": "e668a3e2-60d4-4064-83fd-3b747eea295a",
   "metadata": {},
   "outputs": [],
   "source": [
    "import numpy as np\n",
    "import xarray as xr\n",
    "import geopandas as gpd\n",
    "import matplotlib.pyplot as plt\n",
    "import matplotlib.colors as colors\n",
    "import matplotlib.dates as mdates\n",
    "import cartopy.crs as ccrs\n",
    "import cartopy.feature as cfeature\n",
    "import cmocean\n",
    "import inspect\n",
    "import logging\n",
    "import copy\n",
    "import importlib\n",
    "import math\n",
    "from glob import glob\n",
    "from pathlib import Path\n",
    "from datetime import datetime\n",
    "from dateutil.relativedelta import relativedelta\n",
    "from textwrap import wrap"
   ]
  },
  {
   "cell_type": "code",
   "execution_count": null,
   "id": "d48f51c0-ebef-4846-8e2b-94cc947a1203",
   "metadata": {},
   "outputs": [],
   "source": [
    "var_or_dvar = \"slhf\"\n",
    "month1 = 5\n",
    "month2 = 10\n",
    "\n",
    "da1 = xr.open_dataset(f\"../data_processed/era5_mdp_clim_stats_given_var_or_dvar/cfv1n_calc_wa_Jan-2001_Dec-2021_{month1}_era5-mdp_{var_or_dvar}_stats.nc\")[\"mean\"]\n",
    "da2 = xr.open_dataset(f\"../data_processed/era5_mdp_clim_stats_given_var_or_dvar/cfv1n_calc_wa_Jan-2001_Dec-2021_{month2}_era5-mdp_{var_or_dvar}_stats.nc\")[\"mean\"]\n",
    "fig, axes = plt.subplots(1, 3, figsize=(20, 5), \n",
    "                             subplot_kw = {\"projection\": ccrs.PlateCarree()}\n",
    "                        )\n",
    "da1.plot(ax=axes[0])\n",
    "da2.plot(ax=axes[1])\n",
    "(da2-da1).plot(ax=axes[2])\n",
    "\n",
    "path_sbfwa = cf.get_path_for_sbfwa_def()\n",
    "if Path(path_sbfwa).exists() == False:\n",
    "    cf.proc_sbfwa_def()\n",
    "gdf_sbfwa = gpd.read_file(path_sbfwa)\n",
    "\n",
    "for i in range(0, 2+1):\n",
    "    ax=axes[i]\n",
    "    ax.set_extent(extents=cf.regions[\"wa\"][\"extents\"], crs=ccrs.PlateCarree())\n",
    "    ax.add_geometries(gdf_sbfwa.geometry, crs=ccrs.PlateCarree(), \n",
    "                      facecolor='none', edgecolor='k')\n",
    "    ax.add_feature(cfeature.COASTLINE)\n",
    "    grid = ax.gridlines(draw_labels=True, x_inline=False, y_inline=False)\n",
    "    grid.top_labels = False\n",
    "    grid.right_labels = False\n",
    "\n",
    "fig.tight_layout()"
   ]
  },
  {
   "cell_type": "code",
   "execution_count": null,
   "id": "69168786-e081-460a-9108-39857d45680d",
   "metadata": {},
   "outputs": [],
   "source": []
  },
  {
   "cell_type": "code",
   "execution_count": null,
   "id": "218f10ac-f93f-4535-be22-b8a7296dae9c",
   "metadata": {},
   "outputs": [],
   "source": [
    "pf.plot_comp_mdp_clim_stats_given_var_or_dvar(\n",
    "    region=region, period1_start=period1_start_sim, period1_end=period1_end_sim, \n",
    "    period2_start=period2_start_sim, period2_end=period2_end_sim, \n",
    "    period1_months=\"all\", period2_months=\"all\", \n",
    "    glass_source_pref=glass_source_pref_sim, var_or_dvar=\"wv100\", \n",
    "    perc=False, mask_perc_quantile=pf.mask_perc_quantile_default, \n",
    "    mask_period1=None, mask_period2=None, extents=None, cfv_data=None, output=True\n",
    ")"
   ]
  },
  {
   "cell_type": "code",
   "execution_count": null,
   "id": "db8aa76c-6592-4334-b385-eafe4b579cdf",
   "metadata": {},
   "outputs": [],
   "source": [
    "pf.plot_comp_mdp_clim_values_given_var_or_dvar(\n",
    "    region=region, period1_start=period1_start_sim, period1_end=period1_end_sim, \n",
    "    period2_start=period2_start_sim, period2_end=period2_end_sim, period1_months=\"all\", period2_months=\"all\",\n",
    "    glass_source_pref=glass_source_pref_sim, var_or_dvar=\"dwv100\", time=\"0-5\",\n",
    "    perc=False, mask_perc_quantile=pf.mask_perc_quantile_default, \n",
    "    mask_period1=None, mask_period2=None, extents=None, cfv_data=None, output=True\n",
    ")"
   ]
  },
  {
   "cell_type": "code",
   "execution_count": null,
   "id": "2cd887e1-9188-4bda-96c5-730355f6677b",
   "metadata": {},
   "outputs": [],
   "source": [
    "pf.plot_comp_mdp_clim_values_given_hour(\n",
    "    region=region, period1_start=period1_start_sim, period1_end=period1_end_sim, \n",
    "    period2_start=period2_start_sim, period2_end=period2_end_sim, period1_months=\"all\", period2_months=\"all\",\n",
    "    glass_source_pref=glass_source_pref_sim, hour=10, var_or_dvar_layer=\"cld\", var_or_dvar_type=\"dvars\",\n",
    "    perc=False, mask_perc_quantile=pf.mask_perc_quantile_default, \n",
    "    mask_period1=None, mask_period2=None, extents=None, cfv_data=None, output=True\n",
    ")"
   ]
  },
  {
   "cell_type": "code",
   "execution_count": null,
   "id": "2a976661-633f-48a6-8326-d526899375aa",
   "metadata": {},
   "outputs": [],
   "source": [
    "pf.plot_comp_wsd_clim(\n",
    "    region=region, period1_start=period1_start_sim, period1_end=period1_end_sim, \n",
    "    period2_start=period2_start_sim, period2_end=period2_end_sim, period1_months=\"all\", period2_months=\"all\",\n",
    "    glass_source_pref=glass_source_pref_sim, \n",
    "    perc=False, mask_perc_quantile=pf.mask_perc_quantile_default, \n",
    "    mask_period1=None, mask_period2=None, extents=None, cfv_data=None, output=True\n",
    ")"
   ]
  },
  {
   "cell_type": "code",
   "execution_count": null,
   "id": "655e6176-d67c-40a2-94fc-395aeeaa71cd",
   "metadata": {},
   "outputs": [],
   "source": [
    "pf.plot_comp_wsd_clim(\n",
    "    region=\"wa\", period1_start=\"Jan-2001\", period1_end=\"Dec-2021\", \n",
    "    period2_start=\"Jan-2001\", period2_end=\"Dec-2021\", period1_months=\"djf\", period2_months=\"mam\",\n",
    "    glass_source_pref=\"modis\", \n",
    "    perc=False, mask_perc_quantile=pf.mask_perc_quantile_default, \n",
    "    mask_period1=None, mask_period2=None, extents=None, cfv_data=None, output=True\n",
    ")"
   ]
  },
  {
   "cell_type": "code",
   "execution_count": null,
   "id": "25859b6a-bfd9-489e-8d2b-0d386ec5d652",
   "metadata": {},
   "outputs": [],
   "source": [
    "pf.plot_comp_mdp_clim_values_given_hour(\n",
    "    region=\"wa\", period1_start=\"Jan-2001\", period1_end=\"Dec-2021\", \n",
    "    period2_start=\"Jan-2001\", period2_end=\"Dec-2021\", period1_months=[11,3,4,5,6,7], period2_months=[8,9,10],\n",
    "    glass_source_pref=\"modis\", hour=12, var_or_dvar_layer=\"atm\", var_or_dvar_type=\"vars\",\n",
    "    perc=False, mask_perc_quantile=pf.mask_perc_quantile_default, \n",
    "    mask_period1=None, mask_period2=None, extents=None, cfv_data=None, output=True\n",
    ")"
   ]
  },
  {
   "cell_type": "code",
   "execution_count": null,
   "id": "9184999f-a9a9-4779-915a-8d3ccbb3ffe1",
   "metadata": {},
   "outputs": [],
   "source": []
  },
  {
   "cell_type": "code",
   "execution_count": null,
   "id": "9d3b8df1-2e73-418a-b217-f553ee0a9718",
   "metadata": {},
   "outputs": [],
   "source": []
  }
 ],
 "metadata": {
  "kernelspec": {
   "display_name": "Python 3 (ipykernel)",
   "language": "python",
   "name": "python3"
  },
  "language_info": {
   "codemirror_mode": {
    "name": "ipython",
    "version": 3
   },
   "file_extension": ".py",
   "mimetype": "text/x-python",
   "name": "python",
   "nbconvert_exporter": "python",
   "pygments_lexer": "ipython3",
   "version": "3.10.4"
  }
 },
 "nbformat": 4,
 "nbformat_minor": 5
}
