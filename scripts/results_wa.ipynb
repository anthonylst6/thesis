{
 "cells": [
  {
   "cell_type": "code",
   "execution_count": null,
   "id": "898677e6-0eeb-4dd9-b357-624cf561b400",
   "metadata": {},
   "outputs": [],
   "source": [
    "# The following code requires up to 30 GB of RAM over 2 hours if using 4 CPUs"
   ]
  },
  {
   "cell_type": "code",
   "execution_count": null,
   "id": "65d428b8-385f-4551-a4f9-f3e47db9143c",
   "metadata": {},
   "outputs": [],
   "source": [
    "# Import libraries\n",
    "import importlib\n",
    "from glob import glob"
   ]
  },
  {
   "cell_type": "code",
   "execution_count": null,
   "id": "d329ff48-0e82-4665-8f77-e5c31a44df97",
   "metadata": {},
   "outputs": [],
   "source": [
    "# Choose calc_funcs_ver to use in plotting scripts.\n",
    "cfv = \"latest\"\n",
    "\n",
    "assert (isinstance(cfv, str) & (len(cfv) == 5) & (cfv[:3] == \"cfv\") & \n",
    "        cfv[3].isnumeric() & cfv[4].isalpha() & cfv[4].islower()) | (cfv == \"latest\"), \\\n",
    "    (\"cfv must be 'latest' or of form 'cfvXY' where X is a single digit number \" +\n",
    "     \"and Y is a lowercase alphabet character. eg. cfv1n\")\n",
    "\n",
    "if cfv == \"latest\":\n",
    "    calc_funcs_scripts = glob(\"calc_funcs_*.py\")\n",
    "    calc_funcs_scripts.sort()\n",
    "    calc_funcs_module = calc_funcs_scripts[-1][:-3]\n",
    "    \n",
    "else:\n",
    "    calc_funcs_module = \"calc_funcs_\" + cfv[2:]\n",
    "    \n",
    "cf = importlib.import_module(calc_funcs_module)\n",
    "\n",
    "print(f\"Using: {calc_funcs_module}\")"
   ]
  },
  {
   "cell_type": "code",
   "execution_count": null,
   "id": "c357f502-e2c6-4fe0-9498-e2c61bcd0f7e",
   "metadata": {},
   "outputs": [],
   "source": [
    "# Choose plot_funcs_ver to use.\n",
    "pfv = \"latest\"\n",
    "\n",
    "assert (isinstance(pfv, str) & (len(pfv) == 5) & (pfv[:3] == \"pfv\") & \n",
    "        pfv[3].isnumeric() & pfv[4].isalpha() & pfv[4].islower()) | (pfv == \"latest\"), \\\n",
    "    (\"pfv must be 'latest' or of form 'pfvXY' where X is a single digit number \" +\n",
    "     \"and Y is a lowercase alphabet character. eg. pfv1e\")\n",
    "\n",
    "if pfv == \"latest\":\n",
    "    plot_funcs_scripts = glob(\"plot_funcs_*.py\")\n",
    "    plot_funcs_scripts.sort()\n",
    "    plot_funcs_module = plot_funcs_scripts[-1][:-3]\n",
    "    \n",
    "else:\n",
    "    plot_funcs_module = \"plot_funcs_\" + pfv[2:]\n",
    "    \n",
    "pf = importlib.import_module(plot_funcs_module)\n",
    "\n",
    "print(f\"Using: {plot_funcs_module}\")"
   ]
  },
  {
   "cell_type": "code",
   "execution_count": null,
   "id": "7e63b55d-acce-4e35-8961-34c0516b0c19",
   "metadata": {},
   "outputs": [],
   "source": [
    "# Create glass rolling avg files to identify years with significant LAI change\n",
    "cf.calc_glass_rolling_avg_of_annual_diff(\"wa\", 1983, 2019, \"all\", 5, \"avhrr\")\n",
    "cf.calc_glass_rolling_avg_of_annual_diff(\"wa\", 1983, 2019, \"all\", 5, \"modis\")"
   ]
  },
  {
   "cell_type": "code",
   "execution_count": null,
   "id": "98acf437-f3b4-41bd-ac78-404f3baa9960",
   "metadata": {},
   "outputs": [],
   "source": [
    "# Plot the glass rolling avg files to identify years with significant LAI change using AVHRR data\n",
    "pf.create_glass_rolling_plot(\"wa\", 1983, 2019, \"all\", 5, \"mlai\", glass_source_pref=\"avhrr\", extents=[117, 122, -35, -30], output=True)"
   ]
  },
  {
   "cell_type": "code",
   "execution_count": null,
   "id": "d37088ac-099d-4eee-950d-31a97e5d268c",
   "metadata": {},
   "outputs": [],
   "source": [
    "# Plot the glass rolling avg files to identify years with significant LAI change using MODIS data\n",
    "pf.create_glass_rolling_plot(\"wa\", 1983, 2019, \"all\", 5, \"mlai\", glass_source_pref=\"modis\", extents=[117, 122, -35, -30], output=True)"
   ]
  },
  {
   "cell_type": "code",
   "execution_count": null,
   "id": "1ea814ad-a2a7-499a-8971-00d00defde7d",
   "metadata": {},
   "outputs": [],
   "source": [
    "# Create all possible diff data files for selected periods\n",
    "# Do this for year round, wet season only, and dry season only\n",
    "cf.create_all_possible_diff_data_files(\"wa\", \"Jan-1994\", \"Dec-1998\", \"Jan-2004\", \"Dec-2008\", \"all\")\n",
    "cf.create_all_possible_diff_data_files(\"wa\", \"Jan-1994\", \"Dec-1998\", \"Jan-2004\", \"Dec-2008\", \"mam\")\n",
    "cf.create_all_possible_diff_data_files(\"wa\", \"Jan-1994\", \"Dec-1998\", \"Jan-2004\", \"Dec-2008\", \"djf\")"
   ]
  },
  {
   "cell_type": "code",
   "execution_count": null,
   "id": "00f4c30b-0cd5-47c9-ac4d-5c375f25f13a",
   "metadata": {},
   "outputs": [],
   "source": [
    "# Create all possible diff data files for selected periods for rabbit-proof fence\n",
    "# Do this for year round, wet season only, and dry season only\n",
    "cf.create_all_possible_diff_data_files(\"wa\", \"Jan-2019\", \"Dec-2019\", \"Jan-2021\", \"Dec-2021\", \"all\")\n",
    "cf.create_all_possible_diff_data_files(\"wa\", \"Jan-2019\", \"Dec-2019\", \"Jan-2021\", \"Dec-2021\", \"mam\")\n",
    "cf.create_all_possible_diff_data_files(\"wa\", \"Jan-2019\", \"Dec-2019\", \"Jan-2021\", \"Dec-2021\", \"djf\")"
   ]
  },
  {
   "cell_type": "markdown",
   "id": "71d641c4-7097-4be7-9347-94a6019be275",
   "metadata": {},
   "source": [
    "# Whole region\n",
    "\n",
    "- period1 = Jan-1994 to Dec-1998\n",
    "- period2 = Jan-2004 to Dec-2008\n",
    "- extents = [113, 123, -35, -30]\n",
    "- tz = UTC +8\n",
    "- glass_data_source = AVHRR"
   ]
  },
  {
   "cell_type": "markdown",
   "id": "4787dfdf-9336-4575-9598-0898be8dd493",
   "metadata": {},
   "source": [
    "## Whole region, year round (all months)"
   ]
  },
  {
   "cell_type": "markdown",
   "id": "727b7d7d-6acb-43c3-abbf-e45e6ad43457",
   "metadata": {},
   "source": [
    "### MDP climatology stats"
   ]
  },
  {
   "cell_type": "code",
   "execution_count": null,
   "id": "40ad33ca-12c7-4cf6-bef9-6bc2e00bb3e8",
   "metadata": {},
   "outputs": [],
   "source": [
    "pf.plot_comp_mdp_clim_stats_given_var_or_dvar(\n",
    "    region=\"wa\", period1_start=\"Jan-1994\", period1_end=\"Dec-1998\", \n",
    "    period2_start=\"Jan-2004\", period2_end=\"Dec-2008\", months_subset=\"all\", \n",
    "    glass_source_pref=\"avhrr\", var_or_dvar=\"mslp\", perc=False, \n",
    "    mask_perc_quantile=10, mask_period1=None, \n",
    "    mask_period2=None, extents=None, cfv_data=None, output=True\n",
    ")"
   ]
  },
  {
   "cell_type": "code",
   "execution_count": null,
   "id": "c92630b3-7300-47ac-8b73-cfddad1e734c",
   "metadata": {},
   "outputs": [],
   "source": [
    "pf.plot_comp_mdp_clim_stats_given_var_or_dvar(\n",
    "    region=\"wa\", period1_start=\"Jan-1994\", period1_end=\"Dec-1998\", \n",
    "    period2_start=\"Jan-2004\", period2_end=\"Dec-2008\", months_subset=\"all\", \n",
    "    glass_source_pref=\"avhrr\", var_or_dvar=\"nac\", perc=False, \n",
    "    mask_perc_quantile=20, mask_period1=None, \n",
    "    mask_period2=None, extents=None, cfv_data=None, output=True\n",
    ")"
   ]
  },
  {
   "cell_type": "code",
   "execution_count": null,
   "id": "0877f844-a901-4274-9ac8-78762c0a8c88",
   "metadata": {},
   "outputs": [],
   "source": [
    "pf.plot_comp_mdp_clim_stats_given_var_or_dvar(\n",
    "    region=\"wa\", period1_start=\"Jan-1994\", period1_end=\"Dec-1998\", \n",
    "    period2_start=\"Jan-2004\", period2_end=\"Dec-2008\", months_subset=\"all\", \n",
    "    glass_source_pref=\"avhrr\", var_or_dvar=\"t2\", perc=False, \n",
    "    mask_perc_quantile=20, mask_period1=None, \n",
    "    mask_period2=None, extents=None, cfv_data=None, output=True\n",
    ")"
   ]
  },
  {
   "cell_type": "code",
   "execution_count": null,
   "id": "98eaa7de-62f5-4f65-be64-50d5a737128b",
   "metadata": {},
   "outputs": [],
   "source": [
    "pf.plot_comp_mdp_clim_stats_given_var_or_dvar(\n",
    "    region=\"wa\", period1_start=\"Jan-1994\", period1_end=\"Dec-1998\", \n",
    "    period2_start=\"Jan-2004\", period2_end=\"Dec-2008\", months_subset=\"all\", \n",
    "    glass_source_pref=\"avhrr\", var_or_dvar=\"ws100\", perc=False, \n",
    "    mask_perc_quantile=10, mask_period1=None, \n",
    "    mask_period2=None, extents=None, cfv_data=None, output=True\n",
    ")"
   ]
  },
  {
   "cell_type": "code",
   "execution_count": null,
   "id": "fc7a9107-8f83-4ee1-890d-f142beab4ca4",
   "metadata": {},
   "outputs": [],
   "source": [
    "pf.plot_comp_mdp_clim_stats_given_var_or_dvar(\n",
    "    region=\"wa\", period1_start=\"Jan-1994\", period1_end=\"Dec-1998\", \n",
    "    period2_start=\"Jan-2004\", period2_end=\"Dec-2008\", months_subset=\"all\", \n",
    "    glass_source_pref=\"avhrr\", var_or_dvar=\"wv100\", perc=False, \n",
    "    mask_perc_quantile=10, mask_period1=None, \n",
    "    mask_period2=None, extents=None, cfv_data=None, output=True\n",
    ")"
   ]
  },
  {
   "cell_type": "markdown",
   "id": "e303896d-9acc-4071-82b8-0c1545345195",
   "metadata": {},
   "source": [
    "### MDP climatology values"
   ]
  },
  {
   "cell_type": "code",
   "execution_count": null,
   "id": "e19797f1-654d-4a13-bb60-9e412b27ac70",
   "metadata": {},
   "outputs": [],
   "source": []
  },
  {
   "cell_type": "markdown",
   "id": "ed11e895-8941-467c-a3f4-b63090b6417c",
   "metadata": {},
   "source": [
    "### WSD climatology"
   ]
  },
  {
   "cell_type": "code",
   "execution_count": null,
   "id": "0f5494bf-30ab-463c-80c5-1d991a410538",
   "metadata": {},
   "outputs": [],
   "source": [
    "pf.plot_comp_wsd_clim(\n",
    "    region=\"wa\", period1_start=\"Jan-1994\", period1_end=\"Dec-1998\", \n",
    "    period2_start=\"Jan-2004\", period2_end=\"Dec-2008\", months_subset=\"all\",\n",
    "    glass_source_pref=\"avhrr\", perc=False, mask_perc_quantile=10, \n",
    "    mask_period1=None, mask_period2=None, extents=None, cfv_data=None, output=True\n",
    ")"
   ]
  },
  {
   "cell_type": "markdown",
   "id": "e1a3bb4c-800d-4537-a7ee-73f029c126f6",
   "metadata": {},
   "source": [
    "## Whole region, wet season (MAM months)"
   ]
  },
  {
   "cell_type": "markdown",
   "id": "54ff9a48-03cf-4fc6-ae44-b09e8e7149a8",
   "metadata": {},
   "source": [
    "### MDP climatology stats"
   ]
  },
  {
   "cell_type": "code",
   "execution_count": null,
   "id": "0efc6e06-5e33-4bb6-95b8-2a372e36eee4",
   "metadata": {},
   "outputs": [],
   "source": []
  },
  {
   "cell_type": "markdown",
   "id": "825cad5d-eca3-4273-8823-0a3510bdb390",
   "metadata": {},
   "source": [
    "### MDP climatology values"
   ]
  },
  {
   "cell_type": "code",
   "execution_count": null,
   "id": "028346de-00a5-4377-9590-b636221bb840",
   "metadata": {},
   "outputs": [],
   "source": []
  },
  {
   "cell_type": "markdown",
   "id": "b69959bb-395d-4f5c-b4d4-573c38707eda",
   "metadata": {},
   "source": [
    "### WSD climatology"
   ]
  },
  {
   "cell_type": "code",
   "execution_count": null,
   "id": "e0b87ba2-1351-4ddc-bcca-40dd5c051caa",
   "metadata": {},
   "outputs": [],
   "source": []
  },
  {
   "cell_type": "markdown",
   "id": "6835eb38-d319-4e4a-a0ca-262821223105",
   "metadata": {},
   "source": [
    "## Whole region, dry season (DJF months)"
   ]
  },
  {
   "cell_type": "code",
   "execution_count": null,
   "id": "c84d39a6-35fd-4cec-bc12-310a5d41ab48",
   "metadata": {},
   "outputs": [],
   "source": []
  },
  {
   "cell_type": "markdown",
   "id": "41c6e22a-4568-4e32-a54a-7d405734fe75",
   "metadata": {},
   "source": [
    "### MDP climatology stats"
   ]
  },
  {
   "cell_type": "code",
   "execution_count": null,
   "id": "fad32ac2-7e44-45b5-b661-6c0be62f4dca",
   "metadata": {},
   "outputs": [],
   "source": []
  },
  {
   "cell_type": "markdown",
   "id": "265ba8e7-cc25-4004-908e-4504d6e39dda",
   "metadata": {},
   "source": [
    "### MDP climatology values"
   ]
  },
  {
   "cell_type": "code",
   "execution_count": null,
   "id": "1755fcef-d1e8-41f8-88ee-751c38393d96",
   "metadata": {},
   "outputs": [],
   "source": []
  },
  {
   "cell_type": "markdown",
   "id": "e333c2d2-6bf3-4ef7-a422-22c1cad65798",
   "metadata": {},
   "source": [
    "### WSD climatology"
   ]
  },
  {
   "cell_type": "code",
   "execution_count": null,
   "id": "94d00224-8b1e-4847-947f-80da243537e2",
   "metadata": {},
   "outputs": [],
   "source": []
  },
  {
   "cell_type": "markdown",
   "id": "672559dd-a83e-4f22-930f-4cf908fbc4c0",
   "metadata": {},
   "source": [
    "# Forrestania"
   ]
  },
  {
   "cell_type": "markdown",
   "id": "c84ffde1-45cb-48c4-ae59-5042a0a8cf4a",
   "metadata": {},
   "source": [
    "## Forrestania, year round (all months)\n",
    "\n",
    "- period1 = Jan-2019 to Dec-2019\n",
    "- period2 = Jan-2021 to Dec-2021\n",
    "- extents = [117, 122, -35, -30]\n",
    "- tz = UTC +8\n",
    "- glass_data_source = MODIS"
   ]
  },
  {
   "cell_type": "markdown",
   "id": "a2625524-ecd2-4c32-be54-cceeddfcfd0a",
   "metadata": {},
   "source": [
    "### MDP climatology stats"
   ]
  },
  {
   "cell_type": "code",
   "execution_count": null,
   "id": "9f444944-359c-43f3-b901-4444660f4067",
   "metadata": {},
   "outputs": [],
   "source": [
    "pf.plot_comp_mdp_clim_stats_given_var_or_dvar(\n",
    "    region=\"wa\", period1_start=\"Jan-2019\", period1_end=\"Dec-2019\", \n",
    "    period2_start=\"Jan-2021\", period2_end=\"Dec-2021\", months_subset=\"all\", \n",
    "    glass_source_pref=\"modis\", var_or_dvar=\"mslp\", perc=False, \n",
    "    mask_perc_quantile=10, mask_period1=None, \n",
    "    mask_period2=None, extents=[117, 122, -35, -30], cfv_data=None, output=True\n",
    ")"
   ]
  },
  {
   "cell_type": "code",
   "execution_count": null,
   "id": "d3702c35-f2f7-4408-9959-d563f2384638",
   "metadata": {},
   "outputs": [],
   "source": [
    "pf.plot_comp_mdp_clim_stats_given_var_or_dvar(\n",
    "    region=\"wa\", period1_start=\"Jan-2019\", period1_end=\"Dec-2019\", \n",
    "    period2_start=\"Jan-2021\", period2_end=\"Dec-2021\", months_subset=\"all\", \n",
    "    glass_source_pref=\"modis\", var_or_dvar=\"ws100\", perc=False, \n",
    "    mask_perc_quantile=10, mask_period1=None, \n",
    "    mask_period2=None, extents=[117, 122, -35, -30], cfv_data=None, output=True\n",
    ")"
   ]
  },
  {
   "cell_type": "code",
   "execution_count": null,
   "id": "32880966-7465-466c-a23a-9452ff19daff",
   "metadata": {},
   "outputs": [],
   "source": [
    "pf.plot_comp_mdp_clim_stats_given_var_or_dvar(\n",
    "    region=\"wa\", period1_start=\"Jan-2019\", period1_end=\"Dec-2019\", \n",
    "    period2_start=\"Jan-2021\", period2_end=\"Dec-2021\", months_subset=\"all\", \n",
    "    glass_source_pref=\"modis\", var_or_dvar=\"wv100\", perc=False, \n",
    "    mask_perc_quantile=10, mask_period1=None, \n",
    "    mask_period2=None, extents=[117, 122, -35, -30], cfv_data=None, output=True\n",
    ")"
   ]
  },
  {
   "cell_type": "markdown",
   "id": "254ec902-8aa8-45e6-84f9-e9dfb8e645e4",
   "metadata": {},
   "source": [
    "### MDP climatology values"
   ]
  },
  {
   "cell_type": "code",
   "execution_count": null,
   "id": "319fe8f7-8657-44b9-9cdb-73be80376820",
   "metadata": {},
   "outputs": [],
   "source": []
  },
  {
   "cell_type": "markdown",
   "id": "96652cef-4917-4160-9411-01480265cd65",
   "metadata": {},
   "source": [
    "### WSD climatology"
   ]
  },
  {
   "cell_type": "code",
   "execution_count": null,
   "id": "6e8ec252-9aa7-434b-95e4-32c3c3ea3424",
   "metadata": {},
   "outputs": [],
   "source": []
  },
  {
   "cell_type": "markdown",
   "id": "a81cd718-f6e9-4ea0-af55-2b3e5b5dce91",
   "metadata": {},
   "source": [
    "## Forrestania, wet season (MAM months)"
   ]
  },
  {
   "cell_type": "markdown",
   "id": "5c8f899d-1e59-492b-a69a-8f37b8b73119",
   "metadata": {},
   "source": [
    "### MDP climatology stats"
   ]
  },
  {
   "cell_type": "code",
   "execution_count": null,
   "id": "25dd2f19-e860-41cc-ae60-3a49ec7af6d7",
   "metadata": {},
   "outputs": [],
   "source": []
  },
  {
   "cell_type": "markdown",
   "id": "df876f41-095d-4a7f-a5a9-ead3a4507bf1",
   "metadata": {},
   "source": [
    "### MDP climatology values"
   ]
  },
  {
   "cell_type": "code",
   "execution_count": null,
   "id": "693cdc0e-07d0-42ad-b953-6e48df679544",
   "metadata": {},
   "outputs": [],
   "source": []
  },
  {
   "cell_type": "markdown",
   "id": "e8fbffc5-f872-4140-8450-44d88d3406f9",
   "metadata": {},
   "source": [
    "### WSD climatology"
   ]
  },
  {
   "cell_type": "code",
   "execution_count": null,
   "id": "86e29959-d55c-481f-bc41-6c7a92124099",
   "metadata": {},
   "outputs": [],
   "source": []
  },
  {
   "cell_type": "markdown",
   "id": "860251af-629b-42da-8b37-19aa0e4bdb82",
   "metadata": {},
   "source": [
    "## Forrestania, dry season (DJF months)"
   ]
  },
  {
   "cell_type": "code",
   "execution_count": null,
   "id": "b79fc956-fe6b-41ad-875c-a592b7eb3720",
   "metadata": {},
   "outputs": [],
   "source": []
  },
  {
   "cell_type": "markdown",
   "id": "4a83c50a-248c-4b13-ab5f-883f4689e7d6",
   "metadata": {},
   "source": [
    "### MDP climatology stats"
   ]
  },
  {
   "cell_type": "code",
   "execution_count": null,
   "id": "25c258a9-643c-4b8d-b2a6-954be19f9e69",
   "metadata": {},
   "outputs": [],
   "source": []
  },
  {
   "cell_type": "markdown",
   "id": "5809c9ae-e389-4219-b938-f87ff441c872",
   "metadata": {},
   "source": [
    "### MDP climatology values"
   ]
  },
  {
   "cell_type": "code",
   "execution_count": null,
   "id": "8b488bce-fb37-4cae-b87c-c1599ea39ed1",
   "metadata": {},
   "outputs": [],
   "source": []
  },
  {
   "cell_type": "markdown",
   "id": "1b64985d-59fd-4012-9da4-c6de52d411a1",
   "metadata": {},
   "source": [
    "### WSD climatology"
   ]
  },
  {
   "cell_type": "code",
   "execution_count": null,
   "id": "7dcd2f37-ca35-438b-85aa-9e202749d38a",
   "metadata": {},
   "outputs": [],
   "source": []
  }
 ],
 "metadata": {
  "kernelspec": {
   "display_name": "Python 3 (ipykernel)",
   "language": "python",
   "name": "python3"
  },
  "language_info": {
   "codemirror_mode": {
    "name": "ipython",
    "version": 3
   },
   "file_extension": ".py",
   "mimetype": "text/x-python",
   "name": "python",
   "nbconvert_exporter": "python",
   "pygments_lexer": "ipython3",
   "version": "3.10.4"
  }
 },
 "nbformat": 4,
 "nbformat_minor": 5
}
