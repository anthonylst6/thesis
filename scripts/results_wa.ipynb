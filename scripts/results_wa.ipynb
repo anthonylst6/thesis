{
 "cells": [
  {
   "cell_type": "markdown",
   "id": "91a1c803-3c9f-44c2-8dc7-ace8b6a41fdb",
   "metadata": {},
   "source": [
    "# Setup\n",
    "\n",
    "Note: the following code requires up to 30 GB of RAM over 2 hours if using 4 CPUs"
   ]
  },
  {
   "cell_type": "markdown",
   "id": "c376f7e4-8563-4845-9f58-9dec736cd5cc",
   "metadata": {},
   "source": [
    "## Import libraries for analysis"
   ]
  },
  {
   "cell_type": "code",
   "execution_count": null,
   "id": "65d428b8-385f-4551-a4f9-f3e47db9143c",
   "metadata": {},
   "outputs": [],
   "source": [
    "import importlib\n",
    "from glob import glob\n",
    "from datetime import datetime"
   ]
  },
  {
   "cell_type": "markdown",
   "id": "a0b117e4-f25e-43dd-baa6-a5b1fea84532",
   "metadata": {},
   "source": [
    "## Import calc_funcs module for use in analysis"
   ]
  },
  {
   "cell_type": "code",
   "execution_count": null,
   "id": "d329ff48-0e82-4665-8f77-e5c31a44df97",
   "metadata": {},
   "outputs": [],
   "source": [
    "# Choose calc_funcs_ver to use in plotting scripts.\n",
    "cfv = \"latest\"\n",
    "\n",
    "assert (isinstance(cfv, str) & (len(cfv) == 5) & (cfv[:3] == \"cfv\") & \n",
    "        cfv[3].isnumeric() & cfv[4].isalpha() & cfv[4].islower()) | (cfv == \"latest\"), \\\n",
    "    (\"cfv must be 'latest' or of form 'cfvXY' where X is a single digit number \" +\n",
    "     \"and Y is a lowercase alphabet character. eg. cfv1n\")\n",
    "\n",
    "if cfv == \"latest\":\n",
    "    calc_funcs_scripts = glob(\"calc_funcs_*.py\")\n",
    "    calc_funcs_scripts.sort()\n",
    "    calc_funcs_module = calc_funcs_scripts[-1][:-3]\n",
    "    \n",
    "else:\n",
    "    calc_funcs_module = \"calc_funcs_\" + cfv[2:]\n",
    "    \n",
    "cf = importlib.import_module(calc_funcs_module)\n",
    "\n",
    "print(f\"Using: {calc_funcs_module}\")"
   ]
  },
  {
   "cell_type": "markdown",
   "id": "519a42af-198e-47c8-b127-85cef910e890",
   "metadata": {},
   "source": [
    "## Import plot_funcs module for use in analysis"
   ]
  },
  {
   "cell_type": "code",
   "execution_count": null,
   "id": "c357f502-e2c6-4fe0-9498-e2c61bcd0f7e",
   "metadata": {},
   "outputs": [],
   "source": [
    "# Choose plot_funcs_ver to use.\n",
    "pfv = \"latest\"\n",
    "\n",
    "assert (isinstance(pfv, str) & (len(pfv) == 5) & (pfv[:3] == \"pfv\") & \n",
    "        pfv[3].isnumeric() & pfv[4].isalpha() & pfv[4].islower()) | (pfv == \"latest\"), \\\n",
    "    (\"pfv must be 'latest' or of form 'pfvXY' where X is a single digit number \" +\n",
    "     \"and Y is a lowercase alphabet character. eg. pfv1e\")\n",
    "\n",
    "if pfv == \"latest\":\n",
    "    plot_funcs_scripts = glob(\"plot_funcs_*.py\")\n",
    "    plot_funcs_scripts.sort()\n",
    "    plot_funcs_module = plot_funcs_scripts[-1][:-3]\n",
    "    \n",
    "else:\n",
    "    plot_funcs_module = \"plot_funcs_\" + pfv[2:]\n",
    "    \n",
    "pf = importlib.import_module(plot_funcs_module)\n",
    "\n",
    "print(f\"Using: {plot_funcs_module}\")"
   ]
  },
  {
   "cell_type": "markdown",
   "id": "6fec7992-6d4a-46d5-8ee6-0c14ef370642",
   "metadata": {},
   "source": [
    "## Analysis settings using selected periods from results below\n",
    "\n",
    "Specify these all here in the beginning so errors from changes are minimised"
   ]
  },
  {
   "cell_type": "code",
   "execution_count": null,
   "id": "13a1a957-2a79-4df4-96d1-b2bd2fe49a91",
   "metadata": {},
   "outputs": [],
   "source": [
    "# General analysis settings\n",
    "region = \"wa\"\n",
    "year_start = 1983\n",
    "year_end = 2019\n",
    "window_size = 5\n",
    "months_wet = \"mam\"\n",
    "months_dry = \"djf\"\n",
    "\n",
    "# Periods with similar background atmospheric oscillations\n",
    "period1_mid_sim = \"Dec-1999\"\n",
    "period1_start_sim = \"Jun-1997\"\n",
    "period1_end_sim = \"May-2002\"\n",
    "period2_mid_sim = \"Mar-2013\"\n",
    "period2_start_sim = \"Sep-2010\"\n",
    "period2_end_sim = \"Aug-2015\"\n",
    "if (datetime.strptime(period1_start_sim, \"%b-%Y\") >= \n",
    "    datetime.strptime(cf.modis_earliest, \"%b-%Y\")):\n",
    "    glass_source_pref_sim = \"modis\"\n",
    "else:\n",
    "    glass_source_pref_sim = \"avhrr\"\n",
    "\n",
    "# Periods with different background atmospheric oscillations\n",
    "period1_mid_dif = \"Sep-1990\"\n",
    "period1_start_dif = \"Mar-1988\"\n",
    "period1_end_dif = \"Feb-1993\"\n",
    "period2_mid_dif = \"Jun-2017\"\n",
    "period2_start_dif = \"Dec-2014\"\n",
    "period2_end_dif = \"Nov-2019\"\n",
    "if (datetime.strptime(period1_start_dif, \"%b-%Y\") >= \n",
    "    datetime.strptime(cf.modis_earliest, \"%b-%Y\")):\n",
    "    glass_source_pref_dif = \"modis\"\n",
    "else:\n",
    "    glass_source_pref_dif = \"avhrr\"\n",
    "\n",
    "# Single months with very different background atmospheric oscillations\n",
    "month1_dif = \"Nov-1996\"\n",
    "month2_dif = \"Sep-2015\"\n",
    "if (datetime.strptime(month1_dif, \"%b-%Y\") >= \n",
    "    datetime.strptime(cf.modis_earliest, \"%b-%Y\")):\n",
    "    glass_source_pref_dif_month = \"modis\"\n",
    "else:\n",
    "    glass_source_pref_dif_month = \"avhrr\""
   ]
  },
  {
   "cell_type": "markdown",
   "id": "4deb12cb-39b9-45c1-890f-a9ec2e69aa56",
   "metadata": {},
   "source": [
    "# Selection of periods for analysis"
   ]
  },
  {
   "cell_type": "markdown",
   "id": "63573b7a-5057-4218-9ef4-2f69da00cd5d",
   "metadata": {},
   "source": [
    "## Years with extensive or concentrated leaf area index change\n",
    "\n",
    "5-year rolling averages are used to average out LAI changes from short-term climate fluctuations"
   ]
  },
  {
   "cell_type": "code",
   "execution_count": null,
   "id": "02dc4005-244b-4780-b600-7249adc8c347",
   "metadata": {},
   "outputs": [],
   "source": [
    "# Create glass rolling avg files to identify years with significant LAI change\n",
    "cf.calc_glass_rolling_avg_of_annual_diff(\n",
    "    region=region, year_start=year_start, year_end=year_end, months_subset=\"all\", \n",
    "    window_size=window_size, glass_source_pref=\"avhrr\"\n",
    ")\n",
    "cf.calc_glass_rolling_avg_of_annual_diff(\n",
    "    region=region, year_start=year_start, year_end=year_end, months_subset=\"all\", \n",
    "    window_size=window_size, glass_source_pref=\"modis\"\n",
    ")"
   ]
  },
  {
   "cell_type": "code",
   "execution_count": null,
   "id": "3b381c17-e69c-4652-afe8-02e99570509c",
   "metadata": {},
   "outputs": [],
   "source": [
    "# Plot the glass rolling avg files to identify years with significant LAI change \n",
    "# using AVHRR data\n",
    "pf.create_glass_rolling_plot(\n",
    "    region=region, year_start=year_start, year_end=year_end, months_subset=\"all\", \n",
    "    window_size=window_size, param_glass_mean=\"mlai\", glass_source_pref=\"avhrr\", \n",
    "    extents=None, vmin=None, vmax=None, cfv_data=None, output=True\n",
    ")"
   ]
  },
  {
   "cell_type": "code",
   "execution_count": null,
   "id": "8fcf6cab-f95c-41b5-b222-d4c068e5b744",
   "metadata": {},
   "outputs": [],
   "source": [
    "# Plot the glass rolling avg files to identify years with significant LAI change \n",
    "# using MODIS data\n",
    "pf.create_glass_rolling_plot(\n",
    "    region=region, year_start=year_start, year_end=year_end, months_subset=\"all\", \n",
    "    window_size=window_size, param_glass_mean=\"mlai\", glass_source_pref=\"modis\", \n",
    "    extents=None, vmin=None, vmax=None, cfv_data=None, output=True\n",
    ")"
   ]
  },
  {
   "cell_type": "code",
   "execution_count": null,
   "id": "2166d15f-e729-4d04-881c-c795092e5f35",
   "metadata": {},
   "outputs": [],
   "source": [
    "# Check the difference in MLAI for a selected set of periods\n",
    "pf.create_individual_comp_plot(\n",
    "    calc_func=cf.calc_glass_mean_clim, region=region, \n",
    "    period1_start=period1_start_sim, period1_end=period1_end_sim, \n",
    "    period2_start=period2_start_sim, period2_end=period2_end_sim, \n",
    "    months_subset=\"all\", arg_extra=\"mlai\", glass_source_pref=glass_source_pref_sim, \n",
    "    var_or_dvar=None, perc=False, mask_perc_quantile=pf.mask_perc_quantile_default, \n",
    "    mask_period1=None, mask_period2=None, extents=None, \n",
    "    vmin_periods=None, vmax_periods=None, vmin_diff=None, vmax_diff=None, \n",
    "    ax_period1=None, ax_period2=None, ax_diff=None, cfv_data=None, output=True\n",
    ")"
   ]
  },
  {
   "cell_type": "markdown",
   "id": "c4b102c0-669e-4622-a8cf-989816ecb66e",
   "metadata": {},
   "source": [
    "## Periods with similar / different background atmospheric oscillations\n",
    "\n",
    "Select periods based on:\n",
    "- similar/different pattern in monthly values over each period\n",
    "- having similar/different 5-year rolling averages for relevant indices\n",
    "- for WA this is mainly the AAOI and DMI\n",
    "- for CA and SA this is mainly the AMOI, PDOI and ONI"
   ]
  },
  {
   "cell_type": "code",
   "execution_count": null,
   "id": "7fba0d23-ef84-4aee-bdaf-45d73777961c",
   "metadata": {},
   "outputs": [],
   "source": [
    "# Create climate indices plot to help select periods with similar background \n",
    "# atmospheric oscillations\n",
    "pf.create_climate_indices_plot(\n",
    "    year_start=year_start, year_end=year_end, window_size=window_size, \n",
    "    period1_mid=\"Dec-1999\", period2_mid=\"Mar-2013\", \n",
    "    month1_mark=None, month2_mark=None, \n",
    "    cfv_data=None, output=True\n",
    ")"
   ]
  },
  {
   "cell_type": "code",
   "execution_count": null,
   "id": "e0efef61-6f04-4cea-88d8-5952f3d42132",
   "metadata": {},
   "outputs": [],
   "source": [
    "# Create climate indices plot to help select periods with different background \n",
    "# atmospheric oscillations\n",
    "pf.create_climate_indices_plot(\n",
    "    year_start=year_start, year_end=year_end, window_size=window_size, \n",
    "    period1_mid=period1_mid_dif, period2_mid=period2_mid_dif, \n",
    "    month1_mark=month1_dif, month2_mark=month2_dif, \n",
    "    cfv_data=None, output=True\n",
    ")"
   ]
  },
  {
   "cell_type": "markdown",
   "id": "4f603b70-712e-4918-bf5a-9aa76c64c796",
   "metadata": {},
   "source": [
    "# Create all output files"
   ]
  },
  {
   "cell_type": "markdown",
   "id": "e19d76bf-011f-4bcc-b4c9-14dfd6538b9a",
   "metadata": {},
   "source": [
    "## Create all output data files over each season\n",
    "\n",
    "- this outputs all possible files for the difference in results between periods\n",
    "- it does so by invoking the create_all_possible_diff_data_files function\n",
    "- this function in turn calls upon the create_all_possible_calc_data_files function\n",
    "- so intermediate data files for each period are also implicitly outputted"
   ]
  },
  {
   "cell_type": "code",
   "execution_count": null,
   "id": "fb49e8ab-d9cc-43d0-bfa6-332820c0f103",
   "metadata": {},
   "outputs": [],
   "source": [
    "# Create all possible diff data files for periods with similar background \n",
    "# atmospheric oscillations (year round, wet season only, and dry season only)\n",
    "cf.create_all_possible_diff_data_files(\n",
    "    region=region, period1_start=period1_start_sim, period1_end=period1_end_sim,\n",
    "    period2_start=period2_start_sim, period2_end=period2_end_sim, months_subset=\"all\"\n",
    ")\n",
    "cf.create_all_possible_diff_data_files(\n",
    "    region=region, period1_start=period1_start_sim, period1_end=period1_end_sim,\n",
    "    period2_start=period2_start_sim, period2_end=period2_end_sim, months_subset=months_wet\n",
    ")\n",
    "cf.create_all_possible_diff_data_files(\n",
    "    region=region, period1_start=period1_start_sim, period1_end=period1_end_sim,\n",
    "    period2_start=period2_start_sim, period2_end=period2_end_sim, months_subset=months_dry\n",
    ")"
   ]
  },
  {
   "cell_type": "code",
   "execution_count": null,
   "id": "b3ffe173-d194-4b61-9f8e-cc16c05896a8",
   "metadata": {},
   "outputs": [],
   "source": [
    "# Create all possible diff data files for periods with different background \n",
    "# atmospheric oscillations (year round, wet season only, and dry season only)\n",
    "cf.create_all_possible_diff_data_files(\n",
    "    region=region, period1_start=period1_start_dif, period1_end=period1_end_dif,\n",
    "    period2_start=period2_start_dif, period2_end=period2_end_dif, months_subset=\"all\"\n",
    ")\n",
    "cf.create_all_possible_diff_data_files(\n",
    "    region=region, period1_start=period1_start_dif, period1_end=period1_end_dif,\n",
    "    period2_start=period2_start_dif, period2_end=period2_end_dif, months_subset=months_wet\n",
    ")\n",
    "cf.create_all_possible_diff_data_files(\n",
    "    region=region, period1_start=period1_start_dif, period1_end=period1_end_dif,\n",
    "    period2_start=period2_start_dif, period2_end=period2_end_dif, months_subset=months_dry\n",
    ")"
   ]
  },
  {
   "cell_type": "code",
   "execution_count": null,
   "id": "6c05a8a1-7f85-4124-8f53-9867612cbf79",
   "metadata": {},
   "outputs": [],
   "source": [
    "# Create all possible diff data files for months with different background \n",
    "# atmospheric oscillations\n",
    "cf.create_all_possible_diff_data_files(\n",
    "    region=region, period1_start=month1_dif, period1_end=month1_dif,\n",
    "    period2_start=month2_dif, period2_end=month2_dif, months_subset=\"all\"\n",
    ")"
   ]
  },
  {
   "cell_type": "markdown",
   "id": "7b00af8b-2a48-46be-9e76-0714fa18a0dd",
   "metadata": {},
   "source": [
    "## Create all static plot files"
   ]
  },
  {
   "cell_type": "code",
   "execution_count": null,
   "id": "d22dfa29-cffc-490d-b1c5-010bbb34fab6",
   "metadata": {},
   "outputs": [],
   "source": [
    "# Create climate indices plot with no labels\n",
    "pf.create_climate_indices_plot(\n",
    "    year_start=year_start, year_end=year_end, window_size=window_size, \n",
    "    period1_mid=None, period2_mid=None, month1_mark=None, month2_mark=None, \n",
    "    cfv_data=None, output=True\n",
    ")"
   ]
  },
  {
   "cell_type": "code",
   "execution_count": null,
   "id": "9f1b752b-bde3-4f16-bfb0-69e446b5c35b",
   "metadata": {},
   "outputs": [],
   "source": [
    "# Plot for land surface elevation\n",
    "pf.create_orog_static_plot(\n",
    "    param_orog=\"lse\", region=region, extents=None, vmin=None, vmax=None, \n",
    "    ax=None, cfv_data=None, output=True\n",
    ")"
   ]
  },
  {
   "cell_type": "code",
   "execution_count": null,
   "id": "fd9f0854-5ffa-4ef8-8f02-2600c403f6a4",
   "metadata": {},
   "outputs": [],
   "source": [
    "# Plot for slope of sub-gridscale orography\n",
    "pf.create_orog_static_plot(\n",
    "    param_orog=\"ssgo\", region=region, extents=None, vmin=None, vmax=None, \n",
    "    ax=None, cfv_data=None, output=True\n",
    ")"
   ]
  },
  {
   "cell_type": "markdown",
   "id": "ef7b1649-2bf5-4432-b321-b65a85aff04e",
   "metadata": {},
   "source": [
    "## Create all output comparison plot files over each season"
   ]
  },
  {
   "cell_type": "code",
   "execution_count": null,
   "id": "70b2ddbb-4f7f-4d8c-9cf4-0feb0c10e9c5",
   "metadata": {},
   "outputs": [],
   "source": [
    "# Create all possible comp plot files for periods with similar background \n",
    "# atmospheric oscillations (year round, wet season only, and dry season only)\n",
    "pf.create_all_possible_comp_plot_files(\n",
    "    region=region, period1_start=period1_start_sim, period1_end=period1_end_sim, \n",
    "    period2_start=period2_start_sim, period2_end=period2_end_sim, months_subset=\"all\", \n",
    "    glass_source_pref=glass_source_pref_sim, perc=False, \n",
    "    mask_perc_quantile=pf.mask_perc_quantile_default, \n",
    "    mask_period1=None, mask_period2=None, extents=None, cfv_data=None\n",
    ")\n",
    "pf.create_all_possible_comp_plot_files(\n",
    "    region=region, period1_start=period1_start_sim, period1_end=period1_end_sim, \n",
    "    period2_start=period2_start_sim, period2_end=period2_end_sim, months_subset=months_wet, \n",
    "    glass_source_pref=glass_source_pref_sim, perc=False, \n",
    "    mask_perc_quantile=pf.mask_perc_quantile_default, \n",
    "    mask_period1=None, mask_period2=None, extents=None, cfv_data=None\n",
    ")\n",
    "pf.create_all_possible_comp_plot_files(\n",
    "    region=region, period1_start=period1_start_sim, period1_end=period1_end_sim, \n",
    "    period2_start=period2_start_sim, period2_end=period2_end_sim, months_subset=months_dry, \n",
    "    glass_source_pref=glass_source_pref_sim, perc=False, \n",
    "    mask_perc_quantile=pf.mask_perc_quantile_default, \n",
    "    mask_period1=None, mask_period2=None, extents=None, cfv_data=None\n",
    ")"
   ]
  },
  {
   "cell_type": "code",
   "execution_count": null,
   "id": "686cc006-2d2a-4684-b265-0e7ea301473b",
   "metadata": {},
   "outputs": [],
   "source": [
    "# Create all possible comp plot files for periods with different background \n",
    "# atmospheric oscillations (year round, wet season only, and dry season only)\n",
    "pf.create_all_possible_comp_plot_files(\n",
    "    region=region, period1_start=period1_start_dif, period1_end=period1_end_dif, \n",
    "    period2_start=period2_start_dif, period2_end=period2_end_dif, months_subset=\"all\", \n",
    "    glass_source_pref=glass_source_pref_dif, perc=False, \n",
    "    mask_perc_quantile=pf.mask_perc_quantile_default, \n",
    "    mask_period1=None, mask_period2=None, extents=None, cfv_data=None\n",
    ")\n",
    "pf.create_all_possible_comp_plot_files(\n",
    "    region=region, period1_start=period1_start_dif, period1_end=period1_end_dif, \n",
    "    period2_start=period2_start_dif, period2_end=period2_end_dif, months_subset=months_wet, \n",
    "    glass_source_pref=glass_source_pref_dif, perc=False, \n",
    "    mask_perc_quantile=pf.mask_perc_quantile_default, \n",
    "    mask_period1=None, mask_period2=None, extents=None, cfv_data=None\n",
    ")\n",
    "pf.create_all_possible_comp_plot_files(\n",
    "    region=region, period1_start=period1_start_dif, period1_end=period1_end_dif, \n",
    "    period2_start=period2_start_dif, period2_end=period2_end_dif, months_subset=months_dry, \n",
    "    glass_source_pref=glass_source_pref_dif, perc=False, \n",
    "    mask_perc_quantile=pf.mask_perc_quantile_default, \n",
    "    mask_period1=None, mask_period2=None, extents=None, cfv_data=None\n",
    ")"
   ]
  },
  {
   "cell_type": "code",
   "execution_count": null,
   "id": "894dbc64-6df8-4624-8d71-e988a216c359",
   "metadata": {},
   "outputs": [],
   "source": [
    "# Create all possible comp plot files for months with different background \n",
    "# atmospheric oscillations\n",
    "pf.create_all_possible_comp_plot_files(\n",
    "    region=region, period1_start=month1_dif, period1_end=month1_dif, \n",
    "    period2_start=month2_dif, period2_end=month2_dif, months_subset=\"all\", \n",
    "    glass_source_pref=glass_source_pref_dif_month, perc=False, \n",
    "    mask_perc_quantile=pf.mask_perc_quantile_default, \n",
    "    mask_period1=None, mask_period2=None, extents=None, cfv_data=None\n",
    ")"
   ]
  },
  {
   "cell_type": "markdown",
   "id": "4fce2381-8d1d-4b81-9e2f-9db5dfb35edd",
   "metadata": {},
   "source": [
    "# Analysis"
   ]
  },
  {
   "cell_type": "code",
   "execution_count": null,
   "id": "0827daeb-4973-423a-aa92-2c5c49d15e9f",
   "metadata": {},
   "outputs": [],
   "source": [
    "pf.plot_comp_mdp_clim_stats_given_var_or_dvar(\n",
    "    region=region, period1_start=period1_start_sim, period1_end=period1_end_sim, \n",
    "    period2_start=period2_start_sim, period2_end=period2_end_sim, months_subset=\"all\", \n",
    "    glass_source_pref=glass_source_pref_sim, var_or_dvar=\"wv100\", \n",
    "    perc=False, mask_perc_quantile=pf.mask_perc_quantile_default, \n",
    "    mask_period1=None, mask_period2=None, extents=None, cfv_data=None, output=True\n",
    ")"
   ]
  },
  {
   "cell_type": "code",
   "execution_count": null,
   "id": "498b72c1-084a-4fff-8828-9ea47d536539",
   "metadata": {},
   "outputs": [],
   "source": [
    "pf.plot_comp_mdp_clim_stats_given_var_or_dvar(\n",
    "    region=region, period1_start=period1_start_sim, period1_end=period1_end_sim, \n",
    "    period2_start=period2_start_sim, period2_end=period2_end_sim, months_subset=\"all\", \n",
    "    glass_source_pref=glass_source_pref_sim, var_or_dvar=\"ws100\", \n",
    "    perc=False, mask_perc_quantile=pf.mask_perc_quantile_default, \n",
    "    mask_period1=None, mask_period2=None, extents=None, cfv_data=None, output=True\n",
    ")"
   ]
  },
  {
   "cell_type": "code",
   "execution_count": null,
   "id": "a38cea90-25cb-4c01-a629-60b8e72f6911",
   "metadata": {},
   "outputs": [],
   "source": [
    "pf.plot_comp_mdp_clim_stats_given_var_or_dvar(\n",
    "    region=region, period1_start=period1_start_sim, period1_end=period1_end_sim, \n",
    "    period2_start=period2_start_sim, period2_end=period2_end_sim, months_subset=\"all\", \n",
    "    glass_source_pref=glass_source_pref_sim, var_or_dvar=\"u100\", \n",
    "    perc=False, mask_perc_quantile=pf.mask_perc_quantile_default, \n",
    "    mask_period1=None, mask_period2=None, extents=None, cfv_data=None, output=True\n",
    ")"
   ]
  },
  {
   "cell_type": "code",
   "execution_count": null,
   "id": "5378f198-078a-439b-bbf1-1acc2bd8460a",
   "metadata": {},
   "outputs": [],
   "source": [
    "pf.plot_comp_mdp_clim_stats_given_var_or_dvar(\n",
    "    region=region, period1_start=period1_start_sim, period1_end=period1_end_sim, \n",
    "    period2_start=period2_start_sim, period2_end=period2_end_sim, months_subset=\"all\", \n",
    "    glass_source_pref=glass_source_pref_sim, var_or_dvar=\"v100\", \n",
    "    perc=False, mask_perc_quantile=pf.mask_perc_quantile_default, \n",
    "    mask_period1=None, mask_period2=None, extents=None, cfv_data=None, output=True\n",
    ")"
   ]
  },
  {
   "cell_type": "code",
   "execution_count": null,
   "id": "8005a514-d39c-4ebb-927d-0fcbb4b45756",
   "metadata": {},
   "outputs": [],
   "source": [
    "pf.plot_comp_mdp_clim_stats_given_var_or_dvar(\n",
    "    region=region, period1_start=period1_start_sim, period1_end=period1_end_sim, \n",
    "    period2_start=period2_start_sim, period2_end=period2_end_sim, months_subset=\"all\", \n",
    "    glass_source_pref=glass_source_pref_sim, var_or_dvar=\"mslp\", \n",
    "    perc=False, mask_perc_quantile=pf.mask_perc_quantile_default, \n",
    "    mask_period1=None, mask_period2=None, extents=None, cfv_data=None, output=True\n",
    ")"
   ]
  },
  {
   "cell_type": "code",
   "execution_count": null,
   "id": "1d83c3ef-5599-4705-922a-47bab89669d1",
   "metadata": {},
   "outputs": [],
   "source": [
    "pf.plot_comp_mdp_clim_stats_given_var_or_dvar(\n",
    "    region=region, period1_start=period1_start_sim, period1_end=period1_end_sim, \n",
    "    period2_start=period2_start_sim, period2_end=period2_end_sim, months_subset=\"all\", \n",
    "    glass_source_pref=glass_source_pref_sim, var_or_dvar=\"t2\", \n",
    "    perc=False, mask_perc_quantile=pf.mask_perc_quantile_default, \n",
    "    mask_period1=None, mask_period2=None, extents=None, cfv_data=None, output=True\n",
    ")"
   ]
  },
  {
   "cell_type": "code",
   "execution_count": null,
   "id": "73fd36a5-1483-471d-82bf-eff61822e207",
   "metadata": {},
   "outputs": [],
   "source": [
    "pf.plot_comp_mdp_clim_stats_given_var_or_dvar(\n",
    "    region=region, period1_start=period1_start_sim, period1_end=period1_end_sim, \n",
    "    period2_start=period2_start_sim, period2_end=period2_end_sim, months_subset=\"all\", \n",
    "    glass_source_pref=glass_source_pref_sim, var_or_dvar=\"nac\", \n",
    "    perc=False, mask_perc_quantile=pf.mask_perc_quantile_default, \n",
    "    mask_period1=None, mask_period2=None, extents=None, cfv_data=None, output=True\n",
    ")"
   ]
  },
  {
   "cell_type": "code",
   "execution_count": null,
   "id": "9b5369e0-ffe1-49de-9e4d-d7ecd6545c61",
   "metadata": {},
   "outputs": [],
   "source": []
  },
  {
   "cell_type": "markdown",
   "id": "eeb8c0b7-5583-472c-b146-a39c0ea8740b",
   "metadata": {},
   "source": [
    "# Scrap"
   ]
  },
  {
   "cell_type": "code",
   "execution_count": null,
   "id": "d8911c29-0341-4216-aa76-57a75ac53d05",
   "metadata": {},
   "outputs": [],
   "source": []
  },
  {
   "cell_type": "markdown",
   "id": "71d641c4-7097-4be7-9347-94a6019be275",
   "metadata": {},
   "source": [
    "# Comparison 1\n",
    "\n",
    "- period1 = Jan-1994 to Dec-1998\n",
    "- period2 = Jan-2004 to Dec-2008\n",
    "- extents = [113, 123, -35, -30]\n",
    "- tz = UTC +8\n",
    "- glass_data_source = AVHRR"
   ]
  },
  {
   "cell_type": "markdown",
   "id": "4787dfdf-9336-4575-9598-0898be8dd493",
   "metadata": {},
   "source": [
    "## Comparison 1, year round (all months)"
   ]
  },
  {
   "cell_type": "markdown",
   "id": "727b7d7d-6acb-43c3-abbf-e45e6ad43457",
   "metadata": {},
   "source": [
    "### Comparison 1, year round (all months), MDP climatology stats"
   ]
  },
  {
   "cell_type": "code",
   "execution_count": null,
   "id": "40ad33ca-12c7-4cf6-bef9-6bc2e00bb3e8",
   "metadata": {},
   "outputs": [],
   "source": [
    "pf.plot_comp_mdp_clim_stats_given_var_or_dvar(\n",
    "    region=\"wa\", period1_start=\"Jan-1994\", period1_end=\"Dec-1998\", \n",
    "    period2_start=\"Jan-2004\", period2_end=\"Dec-2008\", months_subset=\"all\", \n",
    "    glass_source_pref=\"avhrr\", var_or_dvar=\"mslp\", perc=False, \n",
    "    mask_perc_quantile=10, mask_period1=None, \n",
    "    mask_period2=None, extents=None, cfv_data=None, output=True\n",
    ")"
   ]
  },
  {
   "cell_type": "code",
   "execution_count": null,
   "id": "c92630b3-7300-47ac-8b73-cfddad1e734c",
   "metadata": {},
   "outputs": [],
   "source": [
    "pf.plot_comp_mdp_clim_stats_given_var_or_dvar(\n",
    "    region=\"wa\", period1_start=\"Jan-1994\", period1_end=\"Dec-1998\", \n",
    "    period2_start=\"Jan-2004\", period2_end=\"Dec-2008\", months_subset=\"all\", \n",
    "    glass_source_pref=\"avhrr\", var_or_dvar=\"nac\", perc=False, \n",
    "    mask_perc_quantile=20, mask_period1=None, \n",
    "    mask_period2=None, extents=None, cfv_data=None, output=True\n",
    ")"
   ]
  },
  {
   "cell_type": "code",
   "execution_count": null,
   "id": "39c9ff98-28d3-4558-9027-2c04d3211f63",
   "metadata": {},
   "outputs": [],
   "source": [
    "pf.plot_comp_mdp_clim_stats_given_var_or_dvar(\n",
    "    region=\"wa\", period1_start=\"Jan-1994\", period1_end=\"Dec-1998\", \n",
    "    period2_start=\"Jan-2004\", period2_end=\"Dec-2008\", months_subset=\"all\", \n",
    "    glass_source_pref=\"avhrr\", var_or_dvar=\"u100\", perc=False, \n",
    "    mask_perc_quantile=20, mask_period1=None, \n",
    "    mask_period2=None, extents=None, cfv_data=None, output=True\n",
    ")"
   ]
  },
  {
   "cell_type": "code",
   "execution_count": null,
   "id": "ab64f6d0-ca99-4dcd-8eeb-935207908002",
   "metadata": {},
   "outputs": [],
   "source": [
    "pf.plot_comp_mdp_clim_stats_given_var_or_dvar(\n",
    "    region=\"wa\", period1_start=\"Jan-1994\", period1_end=\"Dec-1998\", \n",
    "    period2_start=\"Jan-2004\", period2_end=\"Dec-2008\", months_subset=\"all\", \n",
    "    glass_source_pref=\"avhrr\", var_or_dvar=\"v100\", perc=False, \n",
    "    mask_perc_quantile=20, mask_period1=None, \n",
    "    mask_period2=None, extents=None, cfv_data=None, output=True\n",
    ")"
   ]
  },
  {
   "cell_type": "code",
   "execution_count": null,
   "id": "0877f844-a901-4274-9ac8-78762c0a8c88",
   "metadata": {},
   "outputs": [],
   "source": [
    "pf.plot_comp_mdp_clim_stats_given_var_or_dvar(\n",
    "    region=\"wa\", period1_start=\"Jan-1994\", period1_end=\"Dec-1998\", \n",
    "    period2_start=\"Jan-2004\", period2_end=\"Dec-2008\", months_subset=\"all\", \n",
    "    glass_source_pref=\"avhrr\", var_or_dvar=\"t2\", perc=False, \n",
    "    mask_perc_quantile=20, mask_period1=None, \n",
    "    mask_period2=None, extents=None, cfv_data=None, output=True\n",
    ")"
   ]
  },
  {
   "cell_type": "code",
   "execution_count": null,
   "id": "98eaa7de-62f5-4f65-be64-50d5a737128b",
   "metadata": {},
   "outputs": [],
   "source": [
    "pf.plot_comp_mdp_clim_stats_given_var_or_dvar(\n",
    "    region=\"wa\", period1_start=\"Jan-1994\", period1_end=\"Dec-1998\", \n",
    "    period2_start=\"Jan-2004\", period2_end=\"Dec-2008\", months_subset=\"all\", \n",
    "    glass_source_pref=\"avhrr\", var_or_dvar=\"ws100\", perc=False, \n",
    "    mask_perc_quantile=10, mask_period1=None, \n",
    "    mask_period2=None, extents=None, cfv_data=None, output=True\n",
    ")"
   ]
  },
  {
   "cell_type": "code",
   "execution_count": null,
   "id": "fc7a9107-8f83-4ee1-890d-f142beab4ca4",
   "metadata": {},
   "outputs": [],
   "source": [
    "pf.plot_comp_mdp_clim_stats_given_var_or_dvar(\n",
    "    region=\"wa\", period1_start=\"Jan-1994\", period1_end=\"Dec-1998\", \n",
    "    period2_start=\"Jan-2004\", period2_end=\"Dec-2008\", months_subset=\"all\", \n",
    "    glass_source_pref=\"avhrr\", var_or_dvar=\"wv100\", perc=False, \n",
    "    mask_perc_quantile=10, mask_period1=None, \n",
    "    mask_period2=None, extents=None, cfv_data=None, output=True\n",
    ")"
   ]
  },
  {
   "cell_type": "code",
   "execution_count": null,
   "id": "6a6f3031-2239-47d8-bad2-63b1fb9ce8b0",
   "metadata": {},
   "outputs": [],
   "source": [
    "pf.plot_comp_mdp_clim_stats_given_var_or_dvar(\n",
    "    region=\"wa\", period1_start=\"Jan-1994\", period1_end=\"Dec-1998\", \n",
    "    period2_start=\"Jan-2004\", period2_end=\"Dec-2008\", months_subset=\"all\", \n",
    "    glass_source_pref=\"avhrr\", var_or_dvar=\"slhf\", perc=False, \n",
    "    mask_perc_quantile=10, mask_period1=None, \n",
    "    mask_period2=None, extents=None, cfv_data=None, output=True\n",
    ")"
   ]
  },
  {
   "cell_type": "code",
   "execution_count": null,
   "id": "5898bc0f-7a45-44ad-8d7f-b61944987efc",
   "metadata": {},
   "outputs": [],
   "source": [
    "pf.plot_comp_mdp_clim_stats_given_var_or_dvar(\n",
    "    region=\"wa\", period1_start=\"Jan-1994\", period1_end=\"Dec-1998\", \n",
    "    period2_start=\"Jan-2004\", period2_end=\"Dec-2008\", months_subset=\"all\", \n",
    "    glass_source_pref=\"avhrr\", var_or_dvar=\"sshf\", perc=False, \n",
    "    mask_perc_quantile=10, mask_period1=None, \n",
    "    mask_period2=None, extents=None, cfv_data=None, output=True\n",
    ")"
   ]
  },
  {
   "cell_type": "code",
   "execution_count": null,
   "id": "db6bf80e-1e87-4902-8af1-940504c33a21",
   "metadata": {},
   "outputs": [],
   "source": [
    "pf.plot_comp_mdp_clim_stats_given_var_or_dvar(\n",
    "    region=\"wa\", period1_start=\"Jan-1994\", period1_end=\"Dec-1998\", \n",
    "    period2_start=\"Jan-2004\", period2_end=\"Dec-2008\", months_subset=\"all\", \n",
    "    glass_source_pref=\"avhrr\", var_or_dvar=\"nse\", perc=False, \n",
    "    mask_perc_quantile=10, mask_period1=None, \n",
    "    mask_period2=None, extents=None, cfv_data=None, output=True\n",
    ")"
   ]
  },
  {
   "cell_type": "code",
   "execution_count": null,
   "id": "ffe58252-0b27-4f9a-9378-53bf820837cd",
   "metadata": {},
   "outputs": [],
   "source": [
    "pf.plot_comp_mdp_clim_stats_given_var_or_dvar(\n",
    "    region=\"wa\", period1_start=\"Jan-1994\", period1_end=\"Dec-1998\", \n",
    "    period2_start=\"Jan-2004\", period2_end=\"Dec-2008\", months_subset=\"all\", \n",
    "    glass_source_pref=\"avhrr\", var_or_dvar=\"vidmf\", perc=False, \n",
    "    mask_perc_quantile=10, mask_period1=None, \n",
    "    mask_period2=None, extents=None, cfv_data=None, output=True\n",
    ")"
   ]
  },
  {
   "cell_type": "code",
   "execution_count": null,
   "id": "82879a6f-0331-4e2e-9109-a76da49f5aca",
   "metadata": {},
   "outputs": [],
   "source": [
    "pf.plot_comp_mdp_clim_stats_given_var_or_dvar(\n",
    "    region=\"wa\", period1_start=\"Jan-1994\", period1_end=\"Dec-1998\", \n",
    "    period2_start=\"Jan-2004\", period2_end=\"Dec-2008\", months_subset=\"all\", \n",
    "    glass_source_pref=\"avhrr\", var_or_dvar=\"viec\", perc=False, \n",
    "    mask_perc_quantile=10, mask_period1=None, \n",
    "    mask_period2=None, extents=None, cfv_data=None, output=True\n",
    ")"
   ]
  },
  {
   "cell_type": "code",
   "execution_count": null,
   "id": "131b3dec-8c69-4b0a-8ab5-544f3b4cc46e",
   "metadata": {},
   "outputs": [],
   "source": [
    "pf.plot_comp_mdp_clim_stats_given_var_or_dvar(\n",
    "    region=\"wa\", period1_start=\"Jan-1994\", period1_end=\"Dec-1998\", \n",
    "    period2_start=\"Jan-2004\", period2_end=\"Dec-2008\", months_subset=\"all\", \n",
    "    glass_source_pref=\"avhrr\", var_or_dvar=\"vipile\", perc=False, \n",
    "    mask_perc_quantile=10, mask_period1=None, \n",
    "    mask_period2=None, extents=None, cfv_data=None, output=True\n",
    ")"
   ]
  },
  {
   "cell_type": "code",
   "execution_count": null,
   "id": "a71ecbb0-eb90-4e35-92b2-e7d289cc84a0",
   "metadata": {},
   "outputs": [],
   "source": [
    "pf.plot_comp_mdp_clim_stats_given_var_or_dvar(\n",
    "    region=\"wa\", period1_start=\"Jan-1994\", period1_end=\"Dec-1998\", \n",
    "    period2_start=\"Jan-2004\", period2_end=\"Dec-2008\", months_subset=\"all\", \n",
    "    glass_source_pref=\"avhrr\", var_or_dvar=\"vike\", perc=False, \n",
    "    mask_perc_quantile=10, mask_period1=None, \n",
    "    mask_period2=None, extents=None, cfv_data=None, output=True\n",
    ")"
   ]
  },
  {
   "cell_type": "code",
   "execution_count": null,
   "id": "7a5afb37-0428-4011-9e80-b07b9f4d5700",
   "metadata": {},
   "outputs": [],
   "source": [
    "pf.plot_comp_mdp_clim_stats_given_var_or_dvar(\n",
    "    region=\"wa\", period1_start=\"Jan-1994\", period1_end=\"Dec-1998\", \n",
    "    period2_start=\"Jan-2004\", period2_end=\"Dec-2008\", months_subset=\"all\", \n",
    "    glass_source_pref=\"avhrr\", var_or_dvar=\"tcclw\", perc=False, \n",
    "    mask_perc_quantile=10, mask_period1=None, \n",
    "    mask_period2=None, extents=None, cfv_data=None, output=True\n",
    ")"
   ]
  },
  {
   "cell_type": "code",
   "execution_count": null,
   "id": "e9b179d0-c5a6-4f1a-a38a-c54d6501106e",
   "metadata": {},
   "outputs": [],
   "source": [
    "pf.plot_comp_mdp_clim_stats_given_var_or_dvar(\n",
    "    region=\"wa\", period1_start=\"Jan-1994\", period1_end=\"Dec-1998\", \n",
    "    period2_start=\"Jan-2004\", period2_end=\"Dec-2008\", months_subset=\"all\", \n",
    "    glass_source_pref=\"avhrr\", var_or_dvar=\"tcwv\", perc=False, \n",
    "    mask_perc_quantile=10, mask_period1=None, \n",
    "    mask_period2=None, extents=None, cfv_data=None, output=True\n",
    ")"
   ]
  },
  {
   "cell_type": "code",
   "execution_count": null,
   "id": "1fb1c747-b6d8-4bd1-9e55-37fa49e18854",
   "metadata": {},
   "outputs": [],
   "source": [
    "pf.plot_comp_mdp_clim_stats_given_var_or_dvar(\n",
    "    region=\"wa\", period1_start=\"Jan-1994\", period1_end=\"Dec-1998\", \n",
    "    period2_start=\"Jan-2004\", period2_end=\"Dec-2008\", months_subset=\"all\", \n",
    "    glass_source_pref=\"avhrr\", var_or_dvar=\"blh\", perc=False, \n",
    "    mask_perc_quantile=10, mask_period1=None, \n",
    "    mask_period2=None, extents=None, cfv_data=None, output=True\n",
    ")"
   ]
  },
  {
   "cell_type": "code",
   "execution_count": null,
   "id": "b96620e2-b00f-40f7-86e3-1bd953a6e246",
   "metadata": {},
   "outputs": [],
   "source": [
    "pf.plot_comp_mdp_clim_stats_given_var_or_dvar(\n",
    "    region=\"wa\", period1_start=\"Jan-1994\", period1_end=\"Dec-1998\", \n",
    "    period2_start=\"Jan-2004\", period2_end=\"Dec-2008\", months_subset=\"all\", \n",
    "    glass_source_pref=\"avhrr\", var_or_dvar=\"fa\", perc=False, \n",
    "    mask_perc_quantile=10, mask_period1=None, \n",
    "    mask_period2=None, extents=None, cfv_data=None, output=True\n",
    ")"
   ]
  },
  {
   "cell_type": "code",
   "execution_count": null,
   "id": "26650d44-859b-4599-a40d-ecfbc0cd249f",
   "metadata": {},
   "outputs": [],
   "source": [
    "pf.plot_comp_mdp_clim_stats_given_var_or_dvar(\n",
    "    region=\"wa\", period1_start=\"Jan-1994\", period1_end=\"Dec-1998\", \n",
    "    period2_start=\"Jan-2004\", period2_end=\"Dec-2008\", months_subset=\"all\", \n",
    "    glass_source_pref=\"avhrr\", var_or_dvar=\"cbh\", perc=False, \n",
    "    mask_perc_quantile=10, mask_period1=None, \n",
    "    mask_period2=None, extents=None, cfv_data=None, output=True\n",
    ")"
   ]
  },
  {
   "cell_type": "code",
   "execution_count": null,
   "id": "439537fd-e59c-4d46-a7db-7235cd3767f4",
   "metadata": {},
   "outputs": [],
   "source": [
    "pf.plot_comp_mdp_clim_stats_given_var_or_dvar(\n",
    "    region=\"wa\", period1_start=\"Jan-1994\", period1_end=\"Dec-1998\", \n",
    "    period2_start=\"Jan-2004\", period2_end=\"Dec-2008\", months_subset=\"all\", \n",
    "    glass_source_pref=\"avhrr\", var_or_dvar=\"tcc\", perc=False, \n",
    "    mask_perc_quantile=10, mask_period1=None, \n",
    "    mask_period2=None, extents=None, cfv_data=None, output=True\n",
    ")"
   ]
  },
  {
   "cell_type": "code",
   "execution_count": null,
   "id": "266a9d75-5df9-48e2-a8bf-98b4566feac8",
   "metadata": {},
   "outputs": [],
   "source": [
    "pf.plot_comp_mdp_clim_stats_given_var_or_dvar(\n",
    "    region=\"wa\", period1_start=\"Jan-1994\", period1_end=\"Dec-1998\", \n",
    "    period2_start=\"Jan-2004\", period2_end=\"Dec-2008\", months_subset=\"all\", \n",
    "    glass_source_pref=\"avhrr\", var_or_dvar=\"cape\", perc=False, \n",
    "    mask_perc_quantile=10, mask_period1=None, \n",
    "    mask_period2=None, extents=None, cfv_data=None, output=True\n",
    ")"
   ]
  },
  {
   "cell_type": "code",
   "execution_count": null,
   "id": "a36daf37-cef6-4170-b152-7cae62947a4a",
   "metadata": {},
   "outputs": [],
   "source": [
    "pf.plot_comp_mdp_clim_stats_given_var_or_dvar(\n",
    "    region=\"wa\", period1_start=\"Jan-1994\", period1_end=\"Dec-1998\", \n",
    "    period2_start=\"Jan-2004\", period2_end=\"Dec-2008\", months_subset=\"all\", \n",
    "    glass_source_pref=\"avhrr\", var_or_dvar=\"ci\", perc=False, \n",
    "    mask_perc_quantile=10, mask_period1=None, \n",
    "    mask_period2=None, extents=None, cfv_data=None, output=True\n",
    ")"
   ]
  },
  {
   "cell_type": "markdown",
   "id": "e303896d-9acc-4071-82b8-0c1545345195",
   "metadata": {},
   "source": [
    "### Comparison 1, year round (all months), MDP climatology values"
   ]
  },
  {
   "cell_type": "code",
   "execution_count": null,
   "id": "e19797f1-654d-4a13-bb60-9e412b27ac70",
   "metadata": {},
   "outputs": [],
   "source": []
  },
  {
   "cell_type": "markdown",
   "id": "ed11e895-8941-467c-a3f4-b63090b6417c",
   "metadata": {},
   "source": [
    "### Comparison 1, year round (all months), WSD climatology"
   ]
  },
  {
   "cell_type": "code",
   "execution_count": null,
   "id": "0f5494bf-30ab-463c-80c5-1d991a410538",
   "metadata": {},
   "outputs": [],
   "source": [
    "pf.plot_comp_wsd_clim(\n",
    "    region=\"wa\", period1_start=\"Jan-1994\", period1_end=\"Dec-1998\", \n",
    "    period2_start=\"Jan-2004\", period2_end=\"Dec-2008\", months_subset=\"all\",\n",
    "    glass_source_pref=\"avhrr\", perc=False, mask_perc_quantile=10, \n",
    "    mask_period1=None, mask_period2=None, extents=None, cfv_data=None, output=True\n",
    ")"
   ]
  },
  {
   "cell_type": "markdown",
   "id": "e1a3bb4c-800d-4537-a7ee-73f029c126f6",
   "metadata": {},
   "source": [
    "## Comparison 1, wet season (MAM months)"
   ]
  },
  {
   "cell_type": "markdown",
   "id": "54ff9a48-03cf-4fc6-ae44-b09e8e7149a8",
   "metadata": {},
   "source": [
    "### Comparison 1, wet season (MAM months), MDP climatology stats"
   ]
  },
  {
   "cell_type": "code",
   "execution_count": null,
   "id": "0efc6e06-5e33-4bb6-95b8-2a372e36eee4",
   "metadata": {},
   "outputs": [],
   "source": []
  },
  {
   "cell_type": "markdown",
   "id": "825cad5d-eca3-4273-8823-0a3510bdb390",
   "metadata": {},
   "source": [
    "### Comparison 1, wet season (MAM months), MDP climatology values"
   ]
  },
  {
   "cell_type": "code",
   "execution_count": null,
   "id": "028346de-00a5-4377-9590-b636221bb840",
   "metadata": {},
   "outputs": [],
   "source": []
  },
  {
   "cell_type": "markdown",
   "id": "b69959bb-395d-4f5c-b4d4-573c38707eda",
   "metadata": {},
   "source": [
    "### Comparison 1, wet season (MAM months), WSD climatology"
   ]
  },
  {
   "cell_type": "code",
   "execution_count": null,
   "id": "e0b87ba2-1351-4ddc-bcca-40dd5c051caa",
   "metadata": {},
   "outputs": [],
   "source": []
  },
  {
   "cell_type": "markdown",
   "id": "6835eb38-d319-4e4a-a0ca-262821223105",
   "metadata": {},
   "source": [
    "## Comparison 1, dry season (DJF months)"
   ]
  },
  {
   "cell_type": "code",
   "execution_count": null,
   "id": "c84d39a6-35fd-4cec-bc12-310a5d41ab48",
   "metadata": {},
   "outputs": [],
   "source": []
  },
  {
   "cell_type": "markdown",
   "id": "41c6e22a-4568-4e32-a54a-7d405734fe75",
   "metadata": {},
   "source": [
    "### Comparison 1, dry season (DJF months), MDP climatology stats"
   ]
  },
  {
   "cell_type": "code",
   "execution_count": null,
   "id": "fad32ac2-7e44-45b5-b661-6c0be62f4dca",
   "metadata": {},
   "outputs": [],
   "source": []
  },
  {
   "cell_type": "markdown",
   "id": "265ba8e7-cc25-4004-908e-4504d6e39dda",
   "metadata": {},
   "source": [
    "### Comparison 1, dry season (DJF months), MDP climatology values"
   ]
  },
  {
   "cell_type": "code",
   "execution_count": null,
   "id": "1755fcef-d1e8-41f8-88ee-751c38393d96",
   "metadata": {},
   "outputs": [],
   "source": []
  },
  {
   "cell_type": "markdown",
   "id": "e333c2d2-6bf3-4ef7-a422-22c1cad65798",
   "metadata": {},
   "source": [
    "### Comparison 1, dry season (DJF months), WSD climatology"
   ]
  },
  {
   "cell_type": "code",
   "execution_count": null,
   "id": "94d00224-8b1e-4847-947f-80da243537e2",
   "metadata": {},
   "outputs": [],
   "source": []
  },
  {
   "cell_type": "markdown",
   "id": "df5d69bd-0094-4c58-916f-20e7b4b385f7",
   "metadata": {},
   "source": [
    "# Comparison 2\n",
    "\n",
    "- period1 = Jan-2019 to Dec-2019\n",
    "- period2 = Jan-2021 to Dec-2021\n",
    "- extents = [113, 123, -35, -30] or [117, 122, -35, -30]\n",
    "- tz = UTC +8\n",
    "- glass_data_source = MODIS"
   ]
  },
  {
   "cell_type": "markdown",
   "id": "afae2b22-f0d0-4a0c-9747-b3684b620c84",
   "metadata": {},
   "source": [
    "## Comparison 2, year round (all months)"
   ]
  },
  {
   "cell_type": "markdown",
   "id": "f6e6c398-2e75-4f57-b101-752e7a923b66",
   "metadata": {},
   "source": [
    "### Comparison 2, year round (all months), MDP climatology stats"
   ]
  },
  {
   "cell_type": "code",
   "execution_count": null,
   "id": "a38d5c3a-872c-4803-8790-45f50f81f542",
   "metadata": {},
   "outputs": [],
   "source": []
  },
  {
   "cell_type": "markdown",
   "id": "7ac06827-e735-49c0-971a-43b3a52773ed",
   "metadata": {},
   "source": [
    "### Comparison 2, year round (all months), MDP climatology values"
   ]
  },
  {
   "cell_type": "code",
   "execution_count": null,
   "id": "8c84f97f-8327-440f-9567-46c1094a4177",
   "metadata": {},
   "outputs": [],
   "source": []
  },
  {
   "cell_type": "markdown",
   "id": "c20c0047-17e7-4bdd-8e70-633d62518c90",
   "metadata": {},
   "source": [
    "### Comparison 2, year round (all months), WSD climatology"
   ]
  },
  {
   "cell_type": "code",
   "execution_count": null,
   "id": "6b717b09-39fb-4534-a364-22132100085b",
   "metadata": {},
   "outputs": [],
   "source": []
  },
  {
   "cell_type": "markdown",
   "id": "9414da5a-1850-435e-9d91-bb3c2ba13703",
   "metadata": {},
   "source": [
    "## Comparison 2, wet season (MAM months)"
   ]
  },
  {
   "cell_type": "markdown",
   "id": "83f9e19e-7fb3-4511-8bf6-be3e98bd6a5b",
   "metadata": {},
   "source": [
    "### Comparison 2, wet season (MAM months), MDP climatology stats"
   ]
  },
  {
   "cell_type": "code",
   "execution_count": null,
   "id": "60564f8d-7c4a-4821-918c-542f223b0a49",
   "metadata": {},
   "outputs": [],
   "source": []
  },
  {
   "cell_type": "markdown",
   "id": "ffd4cf19-088d-45ef-8dc3-bafc9b42d1a3",
   "metadata": {},
   "source": [
    "### Comparison 2, wet season (MAM months), MDP climatology values"
   ]
  },
  {
   "cell_type": "code",
   "execution_count": null,
   "id": "9e11baea-b256-4a1d-9517-f22877a6749c",
   "metadata": {},
   "outputs": [],
   "source": []
  },
  {
   "cell_type": "markdown",
   "id": "39aaff4b-928e-4454-b491-e136c68a87bf",
   "metadata": {},
   "source": [
    "### Comparison 2, wet season (MAM months), WSD climatology"
   ]
  },
  {
   "cell_type": "code",
   "execution_count": null,
   "id": "af0ec66f-587e-4d79-9b5b-76981a63b4d0",
   "metadata": {},
   "outputs": [],
   "source": []
  },
  {
   "cell_type": "markdown",
   "id": "07cfc57f-1301-4195-aa8a-7d6456871588",
   "metadata": {},
   "source": [
    "## Comparison 2, dry season (DJF months)"
   ]
  },
  {
   "cell_type": "code",
   "execution_count": null,
   "id": "c5546c05-6b2e-4caa-af5c-7a070600dce8",
   "metadata": {},
   "outputs": [],
   "source": []
  },
  {
   "cell_type": "markdown",
   "id": "c0aae89f-d585-4ded-9ca8-7c6b958a1d33",
   "metadata": {},
   "source": [
    "### Comparison 2, dry season (DJF months), MDP climatology stats"
   ]
  },
  {
   "cell_type": "code",
   "execution_count": null,
   "id": "8c7bc05c-d70e-40d6-945c-32cbf075cf5f",
   "metadata": {},
   "outputs": [],
   "source": []
  },
  {
   "cell_type": "markdown",
   "id": "2c7b0993-bd6d-4571-8687-5eadda8eb32f",
   "metadata": {},
   "source": [
    "### Comparison 2, dry season (DJF months), MDP climatology values"
   ]
  },
  {
   "cell_type": "code",
   "execution_count": null,
   "id": "4a8937cc-dbaf-46e5-b4ff-83b9f329ac45",
   "metadata": {},
   "outputs": [],
   "source": []
  },
  {
   "cell_type": "markdown",
   "id": "07858048-bfd4-46be-96ae-7d54ce91eef2",
   "metadata": {},
   "source": [
    "### Comparison 2, dry season (DJF months), WSD climatology"
   ]
  },
  {
   "cell_type": "code",
   "execution_count": null,
   "id": "e47719c8-44de-4752-9950-a3c4e44f1fbe",
   "metadata": {},
   "outputs": [],
   "source": []
  },
  {
   "cell_type": "code",
   "execution_count": null,
   "id": "c134698e-2e3b-4277-b0a1-0045e50de849",
   "metadata": {},
   "outputs": [],
   "source": []
  }
 ],
 "metadata": {
  "kernelspec": {
   "display_name": "Python 3 (ipykernel)",
   "language": "python",
   "name": "python3"
  },
  "language_info": {
   "codemirror_mode": {
    "name": "ipython",
    "version": 3
   },
   "file_extension": ".py",
   "mimetype": "text/x-python",
   "name": "python",
   "nbconvert_exporter": "python",
   "pygments_lexer": "ipython3",
   "version": "3.10.4"
  }
 },
 "nbformat": 4,
 "nbformat_minor": 5
}
