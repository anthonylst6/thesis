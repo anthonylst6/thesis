{
 "cells": [
  {
   "cell_type": "markdown",
   "id": "91a1c803-3c9f-44c2-8dc7-ace8b6a41fdb",
   "metadata": {
    "tags": []
   },
   "source": [
    "# Setup\n",
    "\n",
    "Note: the following code requires up to 70 GB of RAM over 18 hours if using 6 CPUs\n",
    "\n",
    "It can also be run with less RAM but this will require manual restarting of code everytime RAM limit is reached"
   ]
  },
  {
   "cell_type": "markdown",
   "id": "c376f7e4-8563-4845-9f58-9dec736cd5cc",
   "metadata": {},
   "source": [
    "## Import libraries for analysis"
   ]
  },
  {
   "cell_type": "code",
   "execution_count": null,
   "id": "65d428b8-385f-4551-a4f9-f3e47db9143c",
   "metadata": {},
   "outputs": [],
   "source": [
    "import importlib\n",
    "from glob import glob\n",
    "from datetime import datetime"
   ]
  },
  {
   "cell_type": "markdown",
   "id": "a0b117e4-f25e-43dd-baa6-a5b1fea84532",
   "metadata": {},
   "source": [
    "## Import calc_funcs module for use in analysis"
   ]
  },
  {
   "cell_type": "code",
   "execution_count": null,
   "id": "d329ff48-0e82-4665-8f77-e5c31a44df97",
   "metadata": {},
   "outputs": [],
   "source": [
    "# Choose calc_funcs_ver to use in plotting scripts.\n",
    "cfv = \"latest\"\n",
    "\n",
    "assert (isinstance(cfv, str) & (len(cfv) == 5) & (cfv[:3] == \"cfv\") & \n",
    "        cfv[3].isnumeric() & cfv[4].isalpha() & cfv[4].islower()) | (cfv == \"latest\"), \\\n",
    "    (\"cfv must be 'latest' or of form 'cfvXY' where X is a single digit number \" +\n",
    "     \"and Y is a lowercase alphabet character. eg. cfv1n\")\n",
    "\n",
    "if cfv == \"latest\":\n",
    "    calc_funcs_scripts = glob(\"calc_funcs_*.py\")\n",
    "    calc_funcs_scripts.sort()\n",
    "    calc_funcs_module = calc_funcs_scripts[-1][:-3]\n",
    "    \n",
    "else:\n",
    "    calc_funcs_module = \"calc_funcs_\" + cfv[2:]\n",
    "    \n",
    "cf = importlib.import_module(calc_funcs_module)\n",
    "\n",
    "print(f\"Using: {calc_funcs_module}\")"
   ]
  },
  {
   "cell_type": "markdown",
   "id": "519a42af-198e-47c8-b127-85cef910e890",
   "metadata": {},
   "source": [
    "## Import plot_funcs module for use in analysis"
   ]
  },
  {
   "cell_type": "code",
   "execution_count": null,
   "id": "c357f502-e2c6-4fe0-9498-e2c61bcd0f7e",
   "metadata": {},
   "outputs": [],
   "source": [
    "# Choose plot_funcs_ver to use.\n",
    "pfv = \"latest\"\n",
    "\n",
    "assert (isinstance(pfv, str) & (len(pfv) == 5) & (pfv[:3] == \"pfv\") & \n",
    "        pfv[3].isnumeric() & pfv[4].isalpha() & pfv[4].islower()) | (pfv == \"latest\"), \\\n",
    "    (\"pfv must be 'latest' or of form 'pfvXY' where X is a single digit number \" +\n",
    "     \"and Y is a lowercase alphabet character. eg. pfv1e\")\n",
    "\n",
    "if pfv == \"latest\":\n",
    "    plot_funcs_scripts = glob(\"plot_funcs_*.py\")\n",
    "    plot_funcs_scripts.sort()\n",
    "    plot_funcs_module = plot_funcs_scripts[-1][:-3]\n",
    "    \n",
    "else:\n",
    "    plot_funcs_module = \"plot_funcs_\" + pfv[2:]\n",
    "    \n",
    "pf = importlib.import_module(plot_funcs_module)\n",
    "\n",
    "print(f\"Using: {plot_funcs_module}\")"
   ]
  },
  {
   "cell_type": "markdown",
   "id": "6fec7992-6d4a-46d5-8ee6-0c14ef370642",
   "metadata": {},
   "source": [
    "## Analysis settings using selected periods from results below\n",
    "\n",
    "Specify these all here in the beginning so errors from changes are minimised"
   ]
  },
  {
   "cell_type": "code",
   "execution_count": null,
   "id": "13a1a957-2a79-4df4-96d1-b2bd2fe49a91",
   "metadata": {},
   "outputs": [],
   "source": [
    "# General analysis settings\n",
    "region = \"wa\"\n",
    "year_start = 1983\n",
    "year_end = 2019\n",
    "window_size = 5\n",
    "months_wet = \"mam\"\n",
    "months_dry = \"djf\"\n",
    "\n",
    "# Periods with similar background atmospheric oscillations\n",
    "period1_mid_sim = \"Dec-1999\"\n",
    "period1_start_sim = \"Jun-1997\"\n",
    "period1_end_sim = \"May-2002\"\n",
    "period2_mid_sim = \"Mar-2013\"\n",
    "period2_start_sim = \"Sep-2010\"\n",
    "period2_end_sim = \"Aug-2015\"\n",
    "if (datetime.strptime(period1_start_sim, \"%b-%Y\") >= \n",
    "    datetime.strptime(cf.modis_earliest, \"%b-%Y\")):\n",
    "    glass_source_pref_sim = \"modis\"\n",
    "else:\n",
    "    glass_source_pref_sim = \"avhrr\"\n",
    "\n",
    "# Periods with dissimilar background atmospheric oscillations\n",
    "period1_mid_dis = \"Sep-1990\"\n",
    "period1_start_dis = \"Mar-1988\"\n",
    "period1_end_dis = \"Feb-1993\"\n",
    "period2_mid_dis = \"Jul-2016\"\n",
    "period2_start_dis = \"Jan-2014\"\n",
    "period2_end_dis = \"Dec-2018\"\n",
    "if (datetime.strptime(period1_start_dis, \"%b-%Y\") >= \n",
    "    datetime.strptime(cf.modis_earliest, \"%b-%Y\")):\n",
    "    glass_source_pref_dis = \"modis\"\n",
    "else:\n",
    "    glass_source_pref_dis = \"avhrr\"\n",
    "\n",
    "# Single months with very dissimilar background atmospheric oscillations\n",
    "month1_dis = \"Nov-1996\"\n",
    "month2_dis = \"Sep-2015\"\n",
    "if (datetime.strptime(month1_dis, \"%b-%Y\") >= \n",
    "    datetime.strptime(cf.modis_earliest, \"%b-%Y\")):\n",
    "    glass_source_pref_dis_month = \"modis\"\n",
    "else:\n",
    "    glass_source_pref_dis_month = \"avhrr\""
   ]
  },
  {
   "cell_type": "code",
   "execution_count": null,
   "id": "f55a807f-6b45-4e8c-bf44-285e72d87fb8",
   "metadata": {},
   "outputs": [],
   "source": [
    "pf.create_all_possible_comp_plot_files(\n",
    "    region=region, period1_start=period1_start_sim, period1_end=period1_end_sim, \n",
    "    period2_start=period2_start_sim, period2_end=period2_end_sim, \n",
    "    period1_months=\"jja\", period2_months=\"djf\", \n",
    "    period1_hours=[8,9,10,11,12,13,14,15], period2_hours=[8,9,10,11,12,13,14,15],\n",
    "    glass_source_pref=glass_source_pref_sim, perc=False, \n",
    "    mask_perc_quantile=pf.mask_perc_quantile_default, \n",
    "    mask_period1=None, mask_period2=None, extents=None, cfv_data=None\n",
    ")"
   ]
  },
  {
   "cell_type": "markdown",
   "id": "4deb12cb-39b9-45c1-890f-a9ec2e69aa56",
   "metadata": {
    "tags": []
   },
   "source": [
    "# Selection of periods for analysis"
   ]
  },
  {
   "cell_type": "markdown",
   "id": "63573b7a-5057-4218-9ef4-2f69da00cd5d",
   "metadata": {
    "jp-MarkdownHeadingCollapsed": true,
    "tags": []
   },
   "source": [
    "## Years with extensive or concentrated leaf area index change\n",
    "\n",
    "5-year rolling averages are used to average out LAI changes from short-term climate fluctuations"
   ]
  },
  {
   "cell_type": "code",
   "execution_count": null,
   "id": "3b381c17-e69c-4652-afe8-02e99570509c",
   "metadata": {},
   "outputs": [],
   "source": [
    "# Plot the glass rolling avg files to identify years with significant LAI change \n",
    "# using AVHRR data\n",
    "pf.create_glass_rolling_plot(\n",
    "    region=region, year_start=year_start, year_end=year_end, period_months=\"all\", \n",
    "    window_size=window_size, param_glass_mean=\"mlai\", glass_source_pref=\"avhrr\", \n",
    "    extents=None, vmin=None, vmax=None, cfv_data=None, output=True\n",
    ")"
   ]
  },
  {
   "cell_type": "code",
   "execution_count": null,
   "id": "8fcf6cab-f95c-41b5-b222-d4c068e5b744",
   "metadata": {},
   "outputs": [],
   "source": [
    "# Plot the glass rolling avg files to identify years with significant LAI change \n",
    "# using MODIS data\n",
    "pf.create_glass_rolling_plot(\n",
    "    region=region, year_start=year_start, year_end=year_end, period_months=\"all\", \n",
    "    window_size=window_size, param_glass_mean=\"mlai\", glass_source_pref=\"modis\", \n",
    "    extents=None, vmin=None, vmax=None, cfv_data=None, output=True\n",
    ")"
   ]
  },
  {
   "cell_type": "code",
   "execution_count": null,
   "id": "2166d15f-e729-4d04-881c-c795092e5f35",
   "metadata": {},
   "outputs": [],
   "source": [
    "# Check the difference in MLAI for periods with similar background\n",
    "# atmospheric oscillations\n",
    "pf.create_individual_comp_plot(\n",
    "    calc_func=cf.calc_glass_mean_clim, region=region, \n",
    "    period1_start=period1_start_sim, period1_end=period1_end_sim, \n",
    "    period2_start=period2_start_sim, period2_end=period2_end_sim, \n",
    "    months_subset=\"all\", arg_extra=\"mlai\", glass_source_pref=glass_source_pref_sim, \n",
    "    var_or_dvar=None, perc=False, mask_perc_quantile=pf.mask_perc_quantile_default, \n",
    "    mask_period1=None, mask_period2=None, extents=None, \n",
    "    vmin_periods=None, vmax_periods=None, vmin_diff=None, vmax_diff=None, \n",
    "    ax_period1=None, ax_period2=None, ax_diff=None, cfv_data=None, output=True\n",
    ")"
   ]
  },
  {
   "cell_type": "code",
   "execution_count": null,
   "id": "7afe1b62-069a-465e-bfb6-3717e86a8c2c",
   "metadata": {},
   "outputs": [],
   "source": [
    "# Check the difference in MLAI for periods with dissimilar background\n",
    "# atmospheric oscillations\n",
    "pf.create_individual_comp_plot(\n",
    "    calc_func=cf.calc_glass_mean_clim, region=region, \n",
    "    period1_start=period1_start_dis, period1_end=period1_end_dis, \n",
    "    period2_start=period2_start_dis, period2_end=period2_end_dis, \n",
    "    months_subset=\"all\", arg_extra=\"mlai\", glass_source_pref=glass_source_pref_dis, \n",
    "    var_or_dvar=None, perc=False, mask_perc_quantile=pf.mask_perc_quantile_default, \n",
    "    mask_period1=None, mask_period2=None, extents=None, \n",
    "    vmin_periods=None, vmax_periods=None, vmin_diff=None, vmax_diff=None, \n",
    "    ax_period1=None, ax_period2=None, ax_diff=None, cfv_data=None, output=True\n",
    ")"
   ]
  },
  {
   "cell_type": "markdown",
   "id": "c4b102c0-669e-4622-a8cf-989816ecb66e",
   "metadata": {
    "jp-MarkdownHeadingCollapsed": true,
    "tags": []
   },
   "source": [
    "## Periods with similar / dissimilar background atmospheric oscillations\n",
    "\n",
    "Select periods based on:\n",
    "- similar/dissimilar pattern in monthly values over each period\n",
    "- having similar/dissimilar 5-year rolling averages for relevant indices\n",
    "- for WA this is mainly the AAOI and DMI\n",
    "- for CA and SA this is mainly the AMOI, PDOI and ONI"
   ]
  },
  {
   "cell_type": "code",
   "execution_count": null,
   "id": "7fba0d23-ef84-4aee-bdaf-45d73777961c",
   "metadata": {},
   "outputs": [],
   "source": [
    "# Create climate indices plot to help select periods with similar background \n",
    "# atmospheric oscillations\n",
    "pf.create_climate_indices_plot(\n",
    "    year_start=year_start, year_end=year_end, window_size=window_size, \n",
    "    period1_mid=period1_mid_sim, period2_mid=period2_mid_sim, \n",
    "    month1_mark=None, month2_mark=None, \n",
    "    cfv_data=None, output=True\n",
    ")"
   ]
  },
  {
   "cell_type": "code",
   "execution_count": null,
   "id": "e0efef61-6f04-4cea-88d8-5952f3d42132",
   "metadata": {},
   "outputs": [],
   "source": [
    "# Create climate indices plot to help select periods with dissimilar background \n",
    "# atmospheric oscillations\n",
    "pf.create_climate_indices_plot(\n",
    "    year_start=year_start, year_end=year_end, window_size=window_size, \n",
    "    period1_mid=period1_mid_dis, period2_mid=period2_mid_dis, \n",
    "    month1_mark=month1_dis, month2_mark=month2_dis, \n",
    "    cfv_data=None, output=True\n",
    ")"
   ]
  },
  {
   "cell_type": "code",
   "execution_count": null,
   "id": "14eadd0e-3bcf-4445-92b2-37568754e778",
   "metadata": {},
   "outputs": [],
   "source": []
  },
  {
   "cell_type": "markdown",
   "id": "4f603b70-712e-4918-bf5a-9aa76c64c796",
   "metadata": {
    "tags": []
   },
   "source": [
    "# Create all output files"
   ]
  },
  {
   "cell_type": "markdown",
   "id": "e19d76bf-011f-4bcc-b4c9-14dfd6538b9a",
   "metadata": {
    "jp-MarkdownHeadingCollapsed": true,
    "tags": []
   },
   "source": [
    "## Create all output data files over each season\n",
    "\n",
    "- this outputs all possible files for the difference in results between periods\n",
    "- it does so by invoking the create_all_possible_diff_data_files function\n",
    "- this function in turn calls upon the create_all_possible_calc_data_files function\n",
    "- so intermediate data files for each period are also implicitly outputted"
   ]
  },
  {
   "cell_type": "code",
   "execution_count": null,
   "id": "fb49e8ab-d9cc-43d0-bfa6-332820c0f103",
   "metadata": {},
   "outputs": [],
   "source": [
    "# Create all possible diff data files for periods with similar background \n",
    "# atmospheric oscillations (year round, wet season only, and dry season only)\n",
    "cf.create_all_possible_diff_data_files(\n",
    "    region=region, period1_start=period1_start_sim, period1_end=period1_end_sim,\n",
    "    period2_start=period2_start_sim, period2_end=period2_end_sim, months_subset=\"all\"\n",
    ")\n",
    "cf.create_all_possible_diff_data_files(\n",
    "    region=region, period1_start=period1_start_sim, period1_end=period1_end_sim,\n",
    "    period2_start=period2_start_sim, period2_end=period2_end_sim, months_subset=months_wet\n",
    ")\n",
    "cf.create_all_possible_diff_data_files(\n",
    "    region=region, period1_start=period1_start_sim, period1_end=period1_end_sim,\n",
    "    period2_start=period2_start_sim, period2_end=period2_end_sim, months_subset=months_dry\n",
    ")"
   ]
  },
  {
   "cell_type": "code",
   "execution_count": null,
   "id": "b3ffe173-d194-4b61-9f8e-cc16c05896a8",
   "metadata": {},
   "outputs": [],
   "source": [
    "# Create all possible diff data files for periods with dissimilar background \n",
    "# atmospheric oscillations (year round, wet season only, and dry season only)\n",
    "cf.create_all_possible_diff_data_files(\n",
    "    region=region, period1_start=period1_start_dis, period1_end=period1_end_dis,\n",
    "    period2_start=period2_start_dis, period2_end=period2_end_dis, months_subset=\"all\"\n",
    ")\n",
    "cf.create_all_possible_diff_data_files(\n",
    "    region=region, period1_start=period1_start_dis, period1_end=period1_end_dis,\n",
    "    period2_start=period2_start_dis, period2_end=period2_end_dis, months_subset=months_wet\n",
    ")\n",
    "cf.create_all_possible_diff_data_files(\n",
    "    region=region, period1_start=period1_start_dis, period1_end=period1_end_dis,\n",
    "    period2_start=period2_start_dis, period2_end=period2_end_dis, months_subset=months_dry\n",
    ")"
   ]
  },
  {
   "cell_type": "code",
   "execution_count": null,
   "id": "6c05a8a1-7f85-4124-8f53-9867612cbf79",
   "metadata": {},
   "outputs": [],
   "source": [
    "# Create all possible diff data files for months with dissimilar background \n",
    "# atmospheric oscillations\n",
    "cf.create_all_possible_diff_data_files(\n",
    "    region=region, period1_start=month1_dis, period1_end=month1_dis,\n",
    "    period2_start=month2_dis, period2_end=month2_dis, months_subset=\"all\"\n",
    ")"
   ]
  },
  {
   "cell_type": "markdown",
   "id": "7b00af8b-2a48-46be-9e76-0714fa18a0dd",
   "metadata": {
    "jp-MarkdownHeadingCollapsed": true,
    "tags": []
   },
   "source": [
    "## Create all static plot files"
   ]
  },
  {
   "cell_type": "code",
   "execution_count": null,
   "id": "d22dfa29-cffc-490d-b1c5-010bbb34fab6",
   "metadata": {},
   "outputs": [],
   "source": [
    "# Create climate indices plot with no labels\n",
    "pf.create_climate_indices_plot(\n",
    "    year_start=year_start, year_end=year_end, window_size=window_size, \n",
    "    period1_mid=None, period2_mid=None, month1_mark=None, month2_mark=None, \n",
    "    cfv_data=None, output=True\n",
    ")"
   ]
  },
  {
   "cell_type": "code",
   "execution_count": null,
   "id": "9f1b752b-bde3-4f16-bfb0-69e446b5c35b",
   "metadata": {},
   "outputs": [],
   "source": [
    "# Plot for land surface elevation\n",
    "pf.create_orog_static_plot(\n",
    "    param_orog=\"lse\", region=region, extents=None, vmin=None, vmax=None, \n",
    "    ax=None, cfv_data=None, output=True\n",
    ")"
   ]
  },
  {
   "cell_type": "code",
   "execution_count": null,
   "id": "fd9f0854-5ffa-4ef8-8f02-2600c403f6a4",
   "metadata": {},
   "outputs": [],
   "source": [
    "# Plot for slope of sub-gridscale orography\n",
    "pf.create_orog_static_plot(\n",
    "    param_orog=\"ssgo\", region=region, extents=None, vmin=None, vmax=None, \n",
    "    ax=None, cfv_data=None, output=True\n",
    ")"
   ]
  },
  {
   "cell_type": "markdown",
   "id": "ef7b1649-2bf5-4432-b321-b65a85aff04e",
   "metadata": {
    "tags": []
   },
   "source": [
    "## Create all output comparison plot files over each season"
   ]
  },
  {
   "cell_type": "code",
   "execution_count": null,
   "id": "70b2ddbb-4f7f-4d8c-9cf4-0feb0c10e9c5",
   "metadata": {},
   "outputs": [],
   "source": [
    "# Create all possible comp plot files for periods with similar background \n",
    "# atmospheric oscillations (year round, wet season only, and dry season only)\n",
    "pf.create_all_possible_comp_plot_files(\n",
    "    region=region, period1_start=period1_start_sim, period1_end=period1_end_sim, \n",
    "    period2_start=period2_start_sim, period2_end=period2_end_sim, months_subset=\"all\", \n",
    "    glass_source_pref=glass_source_pref_sim, perc=False, \n",
    "    mask_perc_quantile=pf.mask_perc_quantile_default, \n",
    "    mask_period1=None, mask_period2=None, extents=None, cfv_data=None\n",
    ")\n",
    "pf.create_all_possible_comp_plot_files(\n",
    "    region=region, period1_start=period1_start_sim, period1_end=period1_end_sim, \n",
    "    period2_start=period2_start_sim, period2_end=period2_end_sim, months_subset=months_wet, \n",
    "    glass_source_pref=glass_source_pref_sim, perc=False, \n",
    "    mask_perc_quantile=pf.mask_perc_quantile_default, \n",
    "    mask_period1=None, mask_period2=None, extents=None, cfv_data=None\n",
    ")\n",
    "pf.create_all_possible_comp_plot_files(\n",
    "    region=region, period1_start=period1_start_sim, period1_end=period1_end_sim, \n",
    "    period2_start=period2_start_sim, period2_end=period2_end_sim, months_subset=months_dry, \n",
    "    glass_source_pref=glass_source_pref_sim, perc=False, \n",
    "    mask_perc_quantile=pf.mask_perc_quantile_default, \n",
    "    mask_period1=None, mask_period2=None, extents=None, cfv_data=None\n",
    ")"
   ]
  },
  {
   "cell_type": "code",
   "execution_count": null,
   "id": "686cc006-2d2a-4684-b265-0e7ea301473b",
   "metadata": {},
   "outputs": [],
   "source": [
    "# Create all possible comp plot files for periods with dissimilar background \n",
    "# atmospheric oscillations (year round, wet season only, and dry season only)\n",
    "pf.create_all_possible_comp_plot_files(\n",
    "    region=region, period1_start=period1_start_dis, period1_end=period1_end_dis, \n",
    "    period2_start=period2_start_dis, period2_end=period2_end_dis, months_subset=\"all\", \n",
    "    glass_source_pref=glass_source_pref_dis, perc=False, \n",
    "    mask_perc_quantile=pf.mask_perc_quantile_default, \n",
    "    mask_period1=None, mask_period2=None, extents=None, cfv_data=None\n",
    ")\n",
    "pf.create_all_possible_comp_plot_files(\n",
    "    region=region, period1_start=period1_start_dis, period1_end=period1_end_dis, \n",
    "    period2_start=period2_start_dis, period2_end=period2_end_dis, months_subset=months_wet, \n",
    "    glass_source_pref=glass_source_pref_dis, perc=False, \n",
    "    mask_perc_quantile=pf.mask_perc_quantile_default, \n",
    "    mask_period1=None, mask_period2=None, extents=None, cfv_data=None\n",
    ")\n",
    "pf.create_all_possible_comp_plot_files(\n",
    "    region=region, period1_start=period1_start_dis, period1_end=period1_end_dis, \n",
    "    period2_start=period2_start_dis, period2_end=period2_end_dis, months_subset=months_dry, \n",
    "    glass_source_pref=glass_source_pref_dis, perc=False, \n",
    "    mask_perc_quantile=pf.mask_perc_quantile_default, \n",
    "    mask_period1=None, mask_period2=None, extents=None, cfv_data=None\n",
    ")"
   ]
  },
  {
   "cell_type": "code",
   "execution_count": null,
   "id": "894dbc64-6df8-4624-8d71-e988a216c359",
   "metadata": {},
   "outputs": [],
   "source": [
    "# Create all possible comp plot files for months with dissimilar background \n",
    "# atmospheric oscillations\n",
    "pf.create_all_possible_comp_plot_files(\n",
    "    region=region, period1_start=month1_dis, period1_end=month1_dis, \n",
    "    period2_start=month2_dis, period2_end=month2_dis, months_subset=\"all\", \n",
    "    glass_source_pref=glass_source_pref_dis_month, perc=False, \n",
    "    mask_perc_quantile=pf.mask_perc_quantile_default, \n",
    "    mask_period1=None, mask_period2=None, extents=None, cfv_data=None\n",
    ")"
   ]
  },
  {
   "cell_type": "code",
   "execution_count": null,
   "id": "1b187ba2-d467-4082-98e9-726dd5d34785",
   "metadata": {},
   "outputs": [],
   "source": []
  },
  {
   "cell_type": "markdown",
   "id": "4fce2381-8d1d-4b81-9e2f-9db5dfb35edd",
   "metadata": {},
   "source": [
    "# Overview for similar periods"
   ]
  },
  {
   "cell_type": "markdown",
   "id": "1f3769bb-13b8-41f7-888b-f4d194be0dd3",
   "metadata": {},
   "source": [
    "## Similar periods (all months)"
   ]
  },
  {
   "cell_type": "markdown",
   "id": "643e8403-61ac-4499-8f0d-3c39be44a794",
   "metadata": {
    "jp-MarkdownHeadingCollapsed": true,
    "tags": []
   },
   "source": [
    "### Similar periods (all months): MDP stats "
   ]
  },
  {
   "cell_type": "code",
   "execution_count": null,
   "id": "0827daeb-4973-423a-aa92-2c5c49d15e9f",
   "metadata": {},
   "outputs": [],
   "source": [
    "pf.plot_comp_mdp_clim_stats_given_var_or_dvar(\n",
    "    region=region, period1_start=period1_start_sim, period1_end=period1_end_sim, \n",
    "    period2_start=period2_start_sim, period2_end=period2_end_sim, months_subset=\"all\", \n",
    "    glass_source_pref=glass_source_pref_sim, var_or_dvar=\"wv100\", \n",
    "    perc=False, mask_perc_quantile=pf.mask_perc_quantile_default, \n",
    "    mask_period1=None, mask_period2=None, extents=None, cfv_data=None, output=True\n",
    ")"
   ]
  },
  {
   "cell_type": "code",
   "execution_count": null,
   "id": "498b72c1-084a-4fff-8828-9ea47d536539",
   "metadata": {},
   "outputs": [],
   "source": [
    "pf.plot_comp_mdp_clim_stats_given_var_or_dvar(\n",
    "    region=region, period1_start=period1_start_sim, period1_end=period1_end_sim, \n",
    "    period2_start=period2_start_sim, period2_end=period2_end_sim, months_subset=\"all\", \n",
    "    glass_source_pref=glass_source_pref_sim, var_or_dvar=\"ws100\", \n",
    "    perc=False, mask_perc_quantile=pf.mask_perc_quantile_default, \n",
    "    mask_period1=None, mask_period2=None, extents=None, cfv_data=None, output=True\n",
    ")"
   ]
  },
  {
   "cell_type": "code",
   "execution_count": null,
   "id": "a38cea90-25cb-4c01-a629-60b8e72f6911",
   "metadata": {},
   "outputs": [],
   "source": [
    "pf.plot_comp_mdp_clim_stats_given_var_or_dvar(\n",
    "    region=region, period1_start=period1_start_sim, period1_end=period1_end_sim, \n",
    "    period2_start=period2_start_sim, period2_end=period2_end_sim, months_subset=\"all\", \n",
    "    glass_source_pref=glass_source_pref_sim, var_or_dvar=\"u100\", \n",
    "    perc=False, mask_perc_quantile=pf.mask_perc_quantile_default, \n",
    "    mask_period1=None, mask_period2=None, extents=None, cfv_data=None, output=True\n",
    ")"
   ]
  },
  {
   "cell_type": "code",
   "execution_count": null,
   "id": "5378f198-078a-439b-bbf1-1acc2bd8460a",
   "metadata": {},
   "outputs": [],
   "source": [
    "pf.plot_comp_mdp_clim_stats_given_var_or_dvar(\n",
    "    region=region, period1_start=period1_start_sim, period1_end=period1_end_sim, \n",
    "    period2_start=period2_start_sim, period2_end=period2_end_sim, months_subset=\"all\", \n",
    "    glass_source_pref=glass_source_pref_sim, var_or_dvar=\"v100\", \n",
    "    perc=False, mask_perc_quantile=pf.mask_perc_quantile_default, \n",
    "    mask_period1=None, mask_period2=None, extents=None, cfv_data=None, output=True\n",
    ")"
   ]
  },
  {
   "cell_type": "code",
   "execution_count": null,
   "id": "8005a514-d39c-4ebb-927d-0fcbb4b45756",
   "metadata": {},
   "outputs": [],
   "source": [
    "pf.plot_comp_mdp_clim_stats_given_var_or_dvar(\n",
    "    region=region, period1_start=period1_start_sim, period1_end=period1_end_sim, \n",
    "    period2_start=period2_start_sim, period2_end=period2_end_sim, months_subset=\"all\", \n",
    "    glass_source_pref=glass_source_pref_sim, var_or_dvar=\"mslp\", \n",
    "    perc=False, mask_perc_quantile=pf.mask_perc_quantile_default, \n",
    "    mask_period1=None, mask_period2=None, extents=None, cfv_data=None, output=True\n",
    ")"
   ]
  },
  {
   "cell_type": "code",
   "execution_count": null,
   "id": "1d83c3ef-5599-4705-922a-47bab89669d1",
   "metadata": {},
   "outputs": [],
   "source": [
    "pf.plot_comp_mdp_clim_stats_given_var_or_dvar(\n",
    "    region=region, period1_start=period1_start_sim, period1_end=period1_end_sim, \n",
    "    period2_start=period2_start_sim, period2_end=period2_end_sim, months_subset=\"all\", \n",
    "    glass_source_pref=glass_source_pref_sim, var_or_dvar=\"t2\", \n",
    "    perc=False, mask_perc_quantile=pf.mask_perc_quantile_default, \n",
    "    mask_period1=None, mask_period2=None, extents=None, cfv_data=None, output=True\n",
    ")"
   ]
  },
  {
   "cell_type": "code",
   "execution_count": null,
   "id": "73fd36a5-1483-471d-82bf-eff61822e207",
   "metadata": {},
   "outputs": [],
   "source": [
    "pf.plot_comp_mdp_clim_stats_given_var_or_dvar(\n",
    "    region=region, period1_start=period1_start_sim, period1_end=period1_end_sim, \n",
    "    period2_start=period2_start_sim, period2_end=period2_end_sim, months_subset=\"all\", \n",
    "    glass_source_pref=glass_source_pref_sim, var_or_dvar=\"nac\", \n",
    "    perc=False, mask_perc_quantile=pf.mask_perc_quantile_default, \n",
    "    mask_period1=None, mask_period2=None, extents=None, cfv_data=None, output=True\n",
    ")"
   ]
  },
  {
   "cell_type": "markdown",
   "id": "fd4fd34e-d695-450b-887d-699fca2beac3",
   "metadata": {
    "jp-MarkdownHeadingCollapsed": true,
    "tags": []
   },
   "source": [
    "### Similar periods (all months): MDP values"
   ]
  },
  {
   "cell_type": "code",
   "execution_count": null,
   "id": "9f6d53a0-c5b8-4dad-bdec-8ea1d153f2fc",
   "metadata": {},
   "outputs": [],
   "source": [
    "pf.plot_comp_mdp_clim_values_given_var_or_dvar(\n",
    "    region=region, period1_start=period1_start_sim, period1_end=period1_end_sim, \n",
    "    period2_start=period2_start_sim, period2_end=period2_end_sim, months_subset=\"all\", \n",
    "    glass_source_pref=glass_source_pref_sim, var_or_dvar=\"dwv100\", time=\"0-5\",\n",
    "    perc=False, mask_perc_quantile=pf.mask_perc_quantile_default, \n",
    "    mask_period1=None, mask_period2=None, extents=None, cfv_data=None, output=True\n",
    ")"
   ]
  },
  {
   "cell_type": "code",
   "execution_count": null,
   "id": "5b5c21a0-f481-48c5-a3d5-98fabada28aa",
   "metadata": {},
   "outputs": [],
   "source": [
    "pf.plot_comp_mdp_clim_values_given_var_or_dvar(\n",
    "    region=region, period1_start=period1_start_sim, period1_end=period1_end_sim, \n",
    "    period2_start=period2_start_sim, period2_end=period2_end_sim, months_subset=\"all\", \n",
    "    glass_source_pref=glass_source_pref_sim, var_or_dvar=\"dwv100\", time=\"6-11\",\n",
    "    perc=False, mask_perc_quantile=pf.mask_perc_quantile_default, \n",
    "    mask_period1=None, mask_period2=None, extents=None, cfv_data=None, output=True\n",
    ")"
   ]
  },
  {
   "cell_type": "code",
   "execution_count": null,
   "id": "92ec9503-8850-43f5-b2c7-ee607a8f6c54",
   "metadata": {},
   "outputs": [],
   "source": [
    "pf.plot_comp_mdp_clim_values_given_var_or_dvar(\n",
    "    region=region, period1_start=period1_start_sim, period1_end=period1_end_sim, \n",
    "    period2_start=period2_start_sim, period2_end=period2_end_sim, months_subset=\"all\", \n",
    "    glass_source_pref=glass_source_pref_sim, var_or_dvar=\"dwv100\", time=\"12-17\",\n",
    "    perc=False, mask_perc_quantile=pf.mask_perc_quantile_default, \n",
    "    mask_period1=None, mask_period2=None, extents=None, cfv_data=None, output=True\n",
    ")"
   ]
  },
  {
   "cell_type": "code",
   "execution_count": null,
   "id": "84d0897b-680f-4d7d-9863-a28e1c4ec097",
   "metadata": {},
   "outputs": [],
   "source": [
    "pf.plot_comp_mdp_clim_values_given_var_or_dvar(\n",
    "    region=region, period1_start=period1_start_sim, period1_end=period1_end_sim, \n",
    "    period2_start=period2_start_sim, period2_end=period2_end_sim, months_subset=\"all\", \n",
    "    glass_source_pref=glass_source_pref_sim, var_or_dvar=\"dwv100\", time=\"18-23\",\n",
    "    perc=False, mask_perc_quantile=pf.mask_perc_quantile_default, \n",
    "    mask_period1=None, mask_period2=None, extents=None, cfv_data=None, output=True\n",
    ")"
   ]
  },
  {
   "cell_type": "code",
   "execution_count": null,
   "id": "1de299dd-e12c-4215-a3f6-ad73031ef563",
   "metadata": {},
   "outputs": [],
   "source": [
    "pf.plot_comp_mdp_clim_values_given_var_or_dvar(\n",
    "    region=region, period1_start=period1_start_sim, period1_end=period1_end_sim, \n",
    "    period2_start=period2_start_sim, period2_end=period2_end_sim, months_subset=\"all\", \n",
    "    glass_source_pref=glass_source_pref_sim, var_or_dvar=\"dmslp\", time=\"0-5\",\n",
    "    perc=False, mask_perc_quantile=pf.mask_perc_quantile_default, \n",
    "    mask_period1=None, mask_period2=None, extents=None, cfv_data=None, output=True\n",
    ")"
   ]
  },
  {
   "cell_type": "code",
   "execution_count": null,
   "id": "32c8e99a-d41c-415c-bdaf-923fa1df0649",
   "metadata": {},
   "outputs": [],
   "source": [
    "pf.plot_comp_mdp_clim_values_given_var_or_dvar(\n",
    "    region=region, period1_start=period1_start_sim, period1_end=period1_end_sim, \n",
    "    period2_start=period2_start_sim, period2_end=period2_end_sim, months_subset=\"all\", \n",
    "    glass_source_pref=glass_source_pref_sim, var_or_dvar=\"dmslp\", time=\"6-11\",\n",
    "    perc=False, mask_perc_quantile=pf.mask_perc_quantile_default, \n",
    "    mask_period1=None, mask_period2=None, extents=None, cfv_data=None, output=True\n",
    ")"
   ]
  },
  {
   "cell_type": "code",
   "execution_count": null,
   "id": "d2f87e08-526a-4738-b014-7589b7a6625e",
   "metadata": {},
   "outputs": [],
   "source": [
    "pf.plot_comp_mdp_clim_values_given_var_or_dvar(\n",
    "    region=region, period1_start=period1_start_sim, period1_end=period1_end_sim, \n",
    "    period2_start=period2_start_sim, period2_end=period2_end_sim, months_subset=\"all\", \n",
    "    glass_source_pref=glass_source_pref_sim, var_or_dvar=\"dmslp\", time=\"12-17\",\n",
    "    perc=False, mask_perc_quantile=pf.mask_perc_quantile_default, \n",
    "    mask_period1=None, mask_period2=None, extents=None, cfv_data=None, output=True\n",
    ")"
   ]
  },
  {
   "cell_type": "code",
   "execution_count": null,
   "id": "5f942dbf-30f0-492d-841d-5b0b1b1fc5c5",
   "metadata": {},
   "outputs": [],
   "source": [
    "pf.plot_comp_mdp_clim_values_given_var_or_dvar(\n",
    "    region=region, period1_start=period1_start_sim, period1_end=period1_end_sim, \n",
    "    period2_start=period2_start_sim, period2_end=period2_end_sim, months_subset=\"all\", \n",
    "    glass_source_pref=glass_source_pref_sim, var_or_dvar=\"dmslp\", time=\"18-23\",\n",
    "    perc=False, mask_perc_quantile=pf.mask_perc_quantile_default, \n",
    "    mask_period1=None, mask_period2=None, extents=None, cfv_data=None, output=True\n",
    ")"
   ]
  },
  {
   "cell_type": "code",
   "execution_count": null,
   "id": "377bdb85-a8b3-4e11-b2d8-676024638822",
   "metadata": {},
   "outputs": [],
   "source": [
    "pf.plot_comp_mdp_clim_values_given_var_or_dvar(\n",
    "    region=region, period1_start=period1_start_sim, period1_end=period1_end_sim, \n",
    "    period2_start=period2_start_sim, period2_end=period2_end_sim, months_subset=\"all\", \n",
    "    glass_source_pref=glass_source_pref_sim, var_or_dvar=\"dt2\", time=\"0-5\",\n",
    "    perc=False, mask_perc_quantile=pf.mask_perc_quantile_default, \n",
    "    mask_period1=None, mask_period2=None, extents=None, cfv_data=None, output=True\n",
    ")"
   ]
  },
  {
   "cell_type": "code",
   "execution_count": null,
   "id": "6f844d8f-fbdc-4b90-ad67-7d104de3a794",
   "metadata": {},
   "outputs": [],
   "source": [
    "pf.plot_comp_mdp_clim_values_given_var_or_dvar(\n",
    "    region=region, period1_start=period1_start_sim, period1_end=period1_end_sim, \n",
    "    period2_start=period2_start_sim, period2_end=period2_end_sim, months_subset=\"all\", \n",
    "    glass_source_pref=glass_source_pref_sim, var_or_dvar=\"dt2\", time=\"6-11\",\n",
    "    perc=False, mask_perc_quantile=pf.mask_perc_quantile_default, \n",
    "    mask_period1=None, mask_period2=None, extents=None, cfv_data=None, output=True\n",
    ")"
   ]
  },
  {
   "cell_type": "code",
   "execution_count": null,
   "id": "5476fc84-729e-4f67-ac21-7929a53259f2",
   "metadata": {},
   "outputs": [],
   "source": [
    "pf.plot_comp_mdp_clim_values_given_var_or_dvar(\n",
    "    region=region, period1_start=period1_start_sim, period1_end=period1_end_sim, \n",
    "    period2_start=period2_start_sim, period2_end=period2_end_sim, months_subset=\"all\", \n",
    "    glass_source_pref=glass_source_pref_sim, var_or_dvar=\"dt2\", time=\"12-17\",\n",
    "    perc=False, mask_perc_quantile=pf.mask_perc_quantile_default, \n",
    "    mask_period1=None, mask_period2=None, extents=None, cfv_data=None, output=True\n",
    ")"
   ]
  },
  {
   "cell_type": "code",
   "execution_count": null,
   "id": "4e81fd62-310c-4fdc-a38b-10a3cf3eccb4",
   "metadata": {},
   "outputs": [],
   "source": [
    "pf.plot_comp_mdp_clim_values_given_var_or_dvar(\n",
    "    region=region, period1_start=period1_start_sim, period1_end=period1_end_sim, \n",
    "    period2_start=period2_start_sim, period2_end=period2_end_sim, months_subset=\"all\", \n",
    "    glass_source_pref=glass_source_pref_sim, var_or_dvar=\"dt2\", time=\"18-23\",\n",
    "    perc=False, mask_perc_quantile=pf.mask_perc_quantile_default, \n",
    "    mask_period1=None, mask_period2=None, extents=None, cfv_data=None, output=True\n",
    ")"
   ]
  },
  {
   "cell_type": "code",
   "execution_count": null,
   "id": "443d465e-2abb-43b0-9152-be210ef489a4",
   "metadata": {},
   "outputs": [],
   "source": [
    "pf.plot_comp_mdp_clim_values_given_var_or_dvar(\n",
    "    region=region, period1_start=period1_start_sim, period1_end=period1_end_sim, \n",
    "    period2_start=period2_start_sim, period2_end=period2_end_sim, months_subset=\"all\", \n",
    "    glass_source_pref=glass_source_pref_sim, var_or_dvar=\"dnac\", time=\"0-5\",\n",
    "    perc=False, mask_perc_quantile=pf.mask_perc_quantile_default, \n",
    "    mask_period1=None, mask_period2=None, extents=None, cfv_data=None, output=True\n",
    ")"
   ]
  },
  {
   "cell_type": "code",
   "execution_count": null,
   "id": "6a8880ba-c870-4e9f-bea1-c380d12d74d4",
   "metadata": {},
   "outputs": [],
   "source": [
    "pf.plot_comp_mdp_clim_values_given_var_or_dvar(\n",
    "    region=region, period1_start=period1_start_sim, period1_end=period1_end_sim, \n",
    "    period2_start=period2_start_sim, period2_end=period2_end_sim, months_subset=\"all\", \n",
    "    glass_source_pref=glass_source_pref_sim, var_or_dvar=\"dnac\", time=\"6-11\",\n",
    "    perc=False, mask_perc_quantile=pf.mask_perc_quantile_default, \n",
    "    mask_period1=None, mask_period2=None, extents=None, cfv_data=None, output=True\n",
    ")"
   ]
  },
  {
   "cell_type": "code",
   "execution_count": null,
   "id": "3684d7ea-0432-41eb-be30-a6e16df58e30",
   "metadata": {},
   "outputs": [],
   "source": [
    "pf.plot_comp_mdp_clim_values_given_var_or_dvar(\n",
    "    region=region, period1_start=period1_start_sim, period1_end=period1_end_sim, \n",
    "    period2_start=period2_start_sim, period2_end=period2_end_sim, months_subset=\"all\", \n",
    "    glass_source_pref=glass_source_pref_sim, var_or_dvar=\"dnac\", time=\"12-17\",\n",
    "    perc=False, mask_perc_quantile=pf.mask_perc_quantile_default, \n",
    "    mask_period1=None, mask_period2=None, extents=None, cfv_data=None, output=True\n",
    ")"
   ]
  },
  {
   "cell_type": "code",
   "execution_count": null,
   "id": "d4eab4d1-3df7-4f63-8110-7ebeacc17c9a",
   "metadata": {},
   "outputs": [],
   "source": [
    "pf.plot_comp_mdp_clim_values_given_var_or_dvar(\n",
    "    region=region, period1_start=period1_start_sim, period1_end=period1_end_sim, \n",
    "    period2_start=period2_start_sim, period2_end=period2_end_sim, months_subset=\"all\", \n",
    "    glass_source_pref=glass_source_pref_sim, var_or_dvar=\"dnac\", time=\"18-23\",\n",
    "    perc=False, mask_perc_quantile=pf.mask_perc_quantile_default, \n",
    "    mask_period1=None, mask_period2=None, extents=None, cfv_data=None, output=True\n",
    ")"
   ]
  },
  {
   "cell_type": "code",
   "execution_count": null,
   "id": "01121cb3-a528-40b8-a685-dfe0724d09db",
   "metadata": {},
   "outputs": [],
   "source": [
    "pf.plot_comp_mdp_clim_values_given_var_or_dvar(\n",
    "    region=region, period1_start=period1_start_sim, period1_end=period1_end_sim, \n",
    "    period2_start=period2_start_sim, period2_end=period2_end_sim, months_subset=\"all\", \n",
    "    glass_source_pref=glass_source_pref_sim, var_or_dvar=\"nac\", time=\"0-5\",\n",
    "    perc=False, mask_perc_quantile=pf.mask_perc_quantile_default, \n",
    "    mask_period1=None, mask_period2=None, extents=None, cfv_data=None, output=True\n",
    ")"
   ]
  },
  {
   "cell_type": "code",
   "execution_count": null,
   "id": "632d2810-35db-43e9-8337-d6b77f7bfe54",
   "metadata": {},
   "outputs": [],
   "source": [
    "pf.plot_comp_mdp_clim_values_given_var_or_dvar(\n",
    "    region=region, period1_start=period1_start_sim, period1_end=period1_end_sim, \n",
    "    period2_start=period2_start_sim, period2_end=period2_end_sim, months_subset=\"all\", \n",
    "    glass_source_pref=glass_source_pref_sim, var_or_dvar=\"nac\", time=\"6-11\",\n",
    "    perc=False, mask_perc_quantile=pf.mask_perc_quantile_default, \n",
    "    mask_period1=None, mask_period2=None, extents=None, cfv_data=None, output=True\n",
    ")"
   ]
  },
  {
   "cell_type": "code",
   "execution_count": null,
   "id": "791a4744-af43-4e89-8675-92a5d7603a03",
   "metadata": {},
   "outputs": [],
   "source": [
    "pf.plot_comp_mdp_clim_values_given_var_or_dvar(\n",
    "    region=region, period1_start=period1_start_sim, period1_end=period1_end_sim, \n",
    "    period2_start=period2_start_sim, period2_end=period2_end_sim, months_subset=\"all\", \n",
    "    glass_source_pref=glass_source_pref_sim, var_or_dvar=\"nac\", time=\"12-17\",\n",
    "    perc=False, mask_perc_quantile=pf.mask_perc_quantile_default, \n",
    "    mask_period1=None, mask_period2=None, extents=None, cfv_data=None, output=True\n",
    ")"
   ]
  },
  {
   "cell_type": "code",
   "execution_count": null,
   "id": "40bc092d-a943-4d27-8c96-48323155b92b",
   "metadata": {},
   "outputs": [],
   "source": [
    "pf.plot_comp_mdp_clim_values_given_var_or_dvar(\n",
    "    region=region, period1_start=period1_start_sim, period1_end=period1_end_sim, \n",
    "    period2_start=period2_start_sim, period2_end=period2_end_sim, months_subset=\"all\", \n",
    "    glass_source_pref=glass_source_pref_sim, var_or_dvar=\"nac\", time=\"18-23\",\n",
    "    perc=False, mask_perc_quantile=pf.mask_perc_quantile_default, \n",
    "    mask_period1=None, mask_period2=None, extents=None, cfv_data=None, output=True\n",
    ")"
   ]
  },
  {
   "cell_type": "markdown",
   "id": "33223ffe-67f4-46f8-95a8-0514c583bb6a",
   "metadata": {
    "jp-MarkdownHeadingCollapsed": true,
    "tags": []
   },
   "source": [
    "### Similar periods (all months): WSD"
   ]
  },
  {
   "cell_type": "code",
   "execution_count": null,
   "id": "385bbc54-1546-48ac-b54f-6efae3724ed1",
   "metadata": {},
   "outputs": [],
   "source": [
    "pf.plot_comp_wsd_clim(\n",
    "    region=region, period1_start=period1_start_sim, period1_end=period1_end_sim, \n",
    "    period2_start=period2_start_sim, period2_end=period2_end_sim, months_subset=\"all\", \n",
    "    glass_source_pref=glass_source_pref_sim, \n",
    "    perc=False, mask_perc_quantile=pf.mask_perc_quantile_default, \n",
    "    mask_period1=None, mask_period2=None, extents=None, cfv_data=None, output=True\n",
    ")"
   ]
  },
  {
   "cell_type": "markdown",
   "id": "6395dec0-6104-4b50-b185-29c5c861bd4d",
   "metadata": {},
   "source": [
    "## Similar periods (wet season)"
   ]
  },
  {
   "cell_type": "markdown",
   "id": "a69cabaf-f443-444b-9359-1fdfed8e8175",
   "metadata": {
    "jp-MarkdownHeadingCollapsed": true,
    "tags": []
   },
   "source": [
    "### Similar periods (wet season): MDP stats"
   ]
  },
  {
   "cell_type": "code",
   "execution_count": null,
   "id": "341198ea-781d-4e66-b8d5-0207e492b009",
   "metadata": {},
   "outputs": [],
   "source": [
    "pf.plot_comp_mdp_clim_stats_given_var_or_dvar(\n",
    "    region=region, period1_start=period1_start_sim, period1_end=period1_end_sim, \n",
    "    period2_start=period2_start_sim, period2_end=period2_end_sim, months_subset=months_wet, \n",
    "    glass_source_pref=glass_source_pref_sim, var_or_dvar=\"wv100\", \n",
    "    perc=False, mask_perc_quantile=pf.mask_perc_quantile_default, \n",
    "    mask_period1=None, mask_period2=None, extents=None, cfv_data=None, output=True\n",
    ")"
   ]
  },
  {
   "cell_type": "code",
   "execution_count": null,
   "id": "0716ebb0-41e7-4d3d-ae5e-037eed7f5efe",
   "metadata": {},
   "outputs": [],
   "source": [
    "pf.plot_comp_mdp_clim_stats_given_var_or_dvar(\n",
    "    region=region, period1_start=period1_start_sim, period1_end=period1_end_sim, \n",
    "    period2_start=period2_start_sim, period2_end=period2_end_sim, months_subset=months_wet, \n",
    "    glass_source_pref=glass_source_pref_sim, var_or_dvar=\"ws100\", \n",
    "    perc=False, mask_perc_quantile=pf.mask_perc_quantile_default, \n",
    "    mask_period1=None, mask_period2=None, extents=None, cfv_data=None, output=True\n",
    ")"
   ]
  },
  {
   "cell_type": "code",
   "execution_count": null,
   "id": "1c8cbd7c-eb68-4037-b019-8ebbaaa30a79",
   "metadata": {},
   "outputs": [],
   "source": [
    "pf.plot_comp_mdp_clim_stats_given_var_or_dvar(\n",
    "    region=region, period1_start=period1_start_sim, period1_end=period1_end_sim, \n",
    "    period2_start=period2_start_sim, period2_end=period2_end_sim, months_subset=months_wet, \n",
    "    glass_source_pref=glass_source_pref_sim, var_or_dvar=\"u100\", \n",
    "    perc=False, mask_perc_quantile=pf.mask_perc_quantile_default, \n",
    "    mask_period1=None, mask_period2=None, extents=None, cfv_data=None, output=True\n",
    ")"
   ]
  },
  {
   "cell_type": "code",
   "execution_count": null,
   "id": "facf8a5a-773a-476f-8fcb-23698d5fca18",
   "metadata": {},
   "outputs": [],
   "source": [
    "pf.plot_comp_mdp_clim_stats_given_var_or_dvar(\n",
    "    region=region, period1_start=period1_start_sim, period1_end=period1_end_sim, \n",
    "    period2_start=period2_start_sim, period2_end=period2_end_sim, months_subset=months_wet, \n",
    "    glass_source_pref=glass_source_pref_sim, var_or_dvar=\"v100\", \n",
    "    perc=False, mask_perc_quantile=pf.mask_perc_quantile_default, \n",
    "    mask_period1=None, mask_period2=None, extents=None, cfv_data=None, output=True\n",
    ")"
   ]
  },
  {
   "cell_type": "code",
   "execution_count": null,
   "id": "2070a983-cf86-4c20-9255-cfb033322bb3",
   "metadata": {},
   "outputs": [],
   "source": [
    "pf.plot_comp_mdp_clim_stats_given_var_or_dvar(\n",
    "    region=region, period1_start=period1_start_sim, period1_end=period1_end_sim, \n",
    "    period2_start=period2_start_sim, period2_end=period2_end_sim, months_subset=months_wet, \n",
    "    glass_source_pref=glass_source_pref_sim, var_or_dvar=\"mslp\", \n",
    "    perc=False, mask_perc_quantile=pf.mask_perc_quantile_default, \n",
    "    mask_period1=None, mask_period2=None, extents=None, cfv_data=None, output=True\n",
    ")"
   ]
  },
  {
   "cell_type": "code",
   "execution_count": null,
   "id": "731f534c-6bff-4444-ae47-85bfacc6024d",
   "metadata": {},
   "outputs": [],
   "source": [
    "pf.plot_comp_mdp_clim_stats_given_var_or_dvar(\n",
    "    region=region, period1_start=period1_start_sim, period1_end=period1_end_sim, \n",
    "    period2_start=period2_start_sim, period2_end=period2_end_sim, months_subset=months_wet, \n",
    "    glass_source_pref=glass_source_pref_sim, var_or_dvar=\"t2\", \n",
    "    perc=False, mask_perc_quantile=pf.mask_perc_quantile_default, \n",
    "    mask_period1=None, mask_period2=None, extents=None, cfv_data=None, output=True\n",
    ")"
   ]
  },
  {
   "cell_type": "code",
   "execution_count": null,
   "id": "7e6bf7fc-2098-4c35-8372-2b8dca1095eb",
   "metadata": {},
   "outputs": [],
   "source": [
    "pf.plot_comp_mdp_clim_stats_given_var_or_dvar(\n",
    "    region=region, period1_start=period1_start_sim, period1_end=period1_end_sim, \n",
    "    period2_start=period2_start_sim, period2_end=period2_end_sim, months_subset=months_wet, \n",
    "    glass_source_pref=glass_source_pref_sim, var_or_dvar=\"nac\", \n",
    "    perc=False, mask_perc_quantile=pf.mask_perc_quantile_default, \n",
    "    mask_period1=None, mask_period2=None, extents=None, cfv_data=None, output=True\n",
    ")"
   ]
  },
  {
   "cell_type": "markdown",
   "id": "1c1d2d99-04b4-4651-8ca5-66e20539ed95",
   "metadata": {
    "jp-MarkdownHeadingCollapsed": true,
    "tags": []
   },
   "source": [
    "### Similar periods (wet season): MDP values"
   ]
  },
  {
   "cell_type": "code",
   "execution_count": null,
   "id": "957a934d-7a10-4679-b598-b64af1c9d2c2",
   "metadata": {},
   "outputs": [],
   "source": [
    "pf.plot_comp_mdp_clim_values_given_var_or_dvar(\n",
    "    region=region, period1_start=period1_start_sim, period1_end=period1_end_sim, \n",
    "    period2_start=period2_start_sim, period2_end=period2_end_sim, months_subset=months_wet, \n",
    "    glass_source_pref=glass_source_pref_sim, var_or_dvar=\"dwv100\", time=\"0-5\",\n",
    "    perc=False, mask_perc_quantile=pf.mask_perc_quantile_default, \n",
    "    mask_period1=None, mask_period2=None, extents=None, cfv_data=None, output=True\n",
    ")"
   ]
  },
  {
   "cell_type": "code",
   "execution_count": null,
   "id": "449eac8d-3b98-44a6-938e-78919369fad4",
   "metadata": {},
   "outputs": [],
   "source": [
    "pf.plot_comp_mdp_clim_values_given_var_or_dvar(\n",
    "    region=region, period1_start=period1_start_sim, period1_end=period1_end_sim, \n",
    "    period2_start=period2_start_sim, period2_end=period2_end_sim, months_subset=months_wet, \n",
    "    glass_source_pref=glass_source_pref_sim, var_or_dvar=\"dwv100\", time=\"6-11\",\n",
    "    perc=False, mask_perc_quantile=pf.mask_perc_quantile_default, \n",
    "    mask_period1=None, mask_period2=None, extents=None, cfv_data=None, output=True\n",
    ")"
   ]
  },
  {
   "cell_type": "code",
   "execution_count": null,
   "id": "123d401d-cf66-44e6-bbe7-62b7311a3bee",
   "metadata": {},
   "outputs": [],
   "source": [
    "pf.plot_comp_mdp_clim_values_given_var_or_dvar(\n",
    "    region=region, period1_start=period1_start_sim, period1_end=period1_end_sim, \n",
    "    period2_start=period2_start_sim, period2_end=period2_end_sim, months_subset=months_wet, \n",
    "    glass_source_pref=glass_source_pref_sim, var_or_dvar=\"dwv100\", time=\"12-17\",\n",
    "    perc=False, mask_perc_quantile=pf.mask_perc_quantile_default, \n",
    "    mask_period1=None, mask_period2=None, extents=None, cfv_data=None, output=True\n",
    ")"
   ]
  },
  {
   "cell_type": "code",
   "execution_count": null,
   "id": "0dd18242-e984-4f96-8214-ec9fc223b3fb",
   "metadata": {},
   "outputs": [],
   "source": [
    "pf.plot_comp_mdp_clim_values_given_var_or_dvar(\n",
    "    region=region, period1_start=period1_start_sim, period1_end=period1_end_sim, \n",
    "    period2_start=period2_start_sim, period2_end=period2_end_sim, months_subset=months_wet, \n",
    "    glass_source_pref=glass_source_pref_sim, var_or_dvar=\"dwv100\", time=\"18-23\",\n",
    "    perc=False, mask_perc_quantile=pf.mask_perc_quantile_default, \n",
    "    mask_period1=None, mask_period2=None, extents=None, cfv_data=None, output=True\n",
    ")"
   ]
  },
  {
   "cell_type": "code",
   "execution_count": null,
   "id": "4d94d9a9-c0ba-4dc0-bb0d-ee1914fe14f7",
   "metadata": {},
   "outputs": [],
   "source": [
    "pf.plot_comp_mdp_clim_values_given_var_or_dvar(\n",
    "    region=region, period1_start=period1_start_sim, period1_end=period1_end_sim, \n",
    "    period2_start=period2_start_sim, period2_end=period2_end_sim, months_subset=months_wet, \n",
    "    glass_source_pref=glass_source_pref_sim, var_or_dvar=\"dmslp\", time=\"0-5\",\n",
    "    perc=False, mask_perc_quantile=pf.mask_perc_quantile_default, \n",
    "    mask_period1=None, mask_period2=None, extents=None, cfv_data=None, output=True\n",
    ")"
   ]
  },
  {
   "cell_type": "code",
   "execution_count": null,
   "id": "d5346c65-594c-4610-9ee6-5c4769b88073",
   "metadata": {},
   "outputs": [],
   "source": [
    "pf.plot_comp_mdp_clim_values_given_var_or_dvar(\n",
    "    region=region, period1_start=period1_start_sim, period1_end=period1_end_sim, \n",
    "    period2_start=period2_start_sim, period2_end=period2_end_sim, months_subset=months_wet, \n",
    "    glass_source_pref=glass_source_pref_sim, var_or_dvar=\"dmslp\", time=\"6-11\",\n",
    "    perc=False, mask_perc_quantile=pf.mask_perc_quantile_default, \n",
    "    mask_period1=None, mask_period2=None, extents=None, cfv_data=None, output=True\n",
    ")"
   ]
  },
  {
   "cell_type": "code",
   "execution_count": null,
   "id": "a5df88fd-dd22-49f7-aa75-10c5170b2857",
   "metadata": {},
   "outputs": [],
   "source": [
    "pf.plot_comp_mdp_clim_values_given_var_or_dvar(\n",
    "    region=region, period1_start=period1_start_sim, period1_end=period1_end_sim, \n",
    "    period2_start=period2_start_sim, period2_end=period2_end_sim, months_subset=months_wet, \n",
    "    glass_source_pref=glass_source_pref_sim, var_or_dvar=\"dmslp\", time=\"12-17\",\n",
    "    perc=False, mask_perc_quantile=pf.mask_perc_quantile_default, \n",
    "    mask_period1=None, mask_period2=None, extents=None, cfv_data=None, output=True\n",
    ")"
   ]
  },
  {
   "cell_type": "code",
   "execution_count": null,
   "id": "6916e9ab-ac6b-456f-8b1a-630eafb10fe0",
   "metadata": {},
   "outputs": [],
   "source": [
    "pf.plot_comp_mdp_clim_values_given_var_or_dvar(\n",
    "    region=region, period1_start=period1_start_sim, period1_end=period1_end_sim, \n",
    "    period2_start=period2_start_sim, period2_end=period2_end_sim, months_subset=months_wet, \n",
    "    glass_source_pref=glass_source_pref_sim, var_or_dvar=\"dmslp\", time=\"18-23\",\n",
    "    perc=False, mask_perc_quantile=pf.mask_perc_quantile_default, \n",
    "    mask_period1=None, mask_period2=None, extents=None, cfv_data=None, output=True\n",
    ")"
   ]
  },
  {
   "cell_type": "code",
   "execution_count": null,
   "id": "11dab186-6bfc-47b9-b740-36e9f32a7bff",
   "metadata": {},
   "outputs": [],
   "source": [
    "pf.plot_comp_mdp_clim_values_given_var_or_dvar(\n",
    "    region=region, period1_start=period1_start_sim, period1_end=period1_end_sim, \n",
    "    period2_start=period2_start_sim, period2_end=period2_end_sim, months_subset=months_wet, \n",
    "    glass_source_pref=glass_source_pref_sim, var_or_dvar=\"dt2\", time=\"0-5\",\n",
    "    perc=False, mask_perc_quantile=pf.mask_perc_quantile_default, \n",
    "    mask_period1=None, mask_period2=None, extents=None, cfv_data=None, output=True\n",
    ")"
   ]
  },
  {
   "cell_type": "code",
   "execution_count": null,
   "id": "38339a36-4312-44a3-b646-5c2d4a11cdf8",
   "metadata": {},
   "outputs": [],
   "source": [
    "pf.plot_comp_mdp_clim_values_given_var_or_dvar(\n",
    "    region=region, period1_start=period1_start_sim, period1_end=period1_end_sim, \n",
    "    period2_start=period2_start_sim, period2_end=period2_end_sim, months_subset=months_wet, \n",
    "    glass_source_pref=glass_source_pref_sim, var_or_dvar=\"dt2\", time=\"6-11\",\n",
    "    perc=False, mask_perc_quantile=pf.mask_perc_quantile_default, \n",
    "    mask_period1=None, mask_period2=None, extents=None, cfv_data=None, output=True\n",
    ")"
   ]
  },
  {
   "cell_type": "code",
   "execution_count": null,
   "id": "dcae3bb3-43b4-4ec4-bcd9-a6ede004ebec",
   "metadata": {},
   "outputs": [],
   "source": [
    "pf.plot_comp_mdp_clim_values_given_var_or_dvar(\n",
    "    region=region, period1_start=period1_start_sim, period1_end=period1_end_sim, \n",
    "    period2_start=period2_start_sim, period2_end=period2_end_sim, months_subset=months_wet, \n",
    "    glass_source_pref=glass_source_pref_sim, var_or_dvar=\"dt2\", time=\"12-17\",\n",
    "    perc=False, mask_perc_quantile=pf.mask_perc_quantile_default, \n",
    "    mask_period1=None, mask_period2=None, extents=None, cfv_data=None, output=True\n",
    ")"
   ]
  },
  {
   "cell_type": "code",
   "execution_count": null,
   "id": "149a8b96-7706-4b56-a299-f761f342140a",
   "metadata": {},
   "outputs": [],
   "source": [
    "pf.plot_comp_mdp_clim_values_given_var_or_dvar(\n",
    "    region=region, period1_start=period1_start_sim, period1_end=period1_end_sim, \n",
    "    period2_start=period2_start_sim, period2_end=period2_end_sim, months_subset=months_wet, \n",
    "    glass_source_pref=glass_source_pref_sim, var_or_dvar=\"dt2\", time=\"18-23\",\n",
    "    perc=False, mask_perc_quantile=pf.mask_perc_quantile_default, \n",
    "    mask_period1=None, mask_period2=None, extents=None, cfv_data=None, output=True\n",
    ")"
   ]
  },
  {
   "cell_type": "code",
   "execution_count": null,
   "id": "60472123-843b-47e5-9c03-8efe100c7903",
   "metadata": {},
   "outputs": [],
   "source": [
    "pf.plot_comp_mdp_clim_values_given_var_or_dvar(\n",
    "    region=region, period1_start=period1_start_sim, period1_end=period1_end_sim, \n",
    "    period2_start=period2_start_sim, period2_end=period2_end_sim, months_subset=months_wet, \n",
    "    glass_source_pref=glass_source_pref_sim, var_or_dvar=\"dnac\", time=\"0-5\",\n",
    "    perc=False, mask_perc_quantile=pf.mask_perc_quantile_default, \n",
    "    mask_period1=None, mask_period2=None, extents=None, cfv_data=None, output=True\n",
    ")"
   ]
  },
  {
   "cell_type": "code",
   "execution_count": null,
   "id": "ac9d07af-e857-4dcd-80f3-c9154276a70b",
   "metadata": {},
   "outputs": [],
   "source": [
    "pf.plot_comp_mdp_clim_values_given_var_or_dvar(\n",
    "    region=region, period1_start=period1_start_sim, period1_end=period1_end_sim, \n",
    "    period2_start=period2_start_sim, period2_end=period2_end_sim, months_subset=months_wet, \n",
    "    glass_source_pref=glass_source_pref_sim, var_or_dvar=\"dnac\", time=\"6-11\",\n",
    "    perc=False, mask_perc_quantile=pf.mask_perc_quantile_default, \n",
    "    mask_period1=None, mask_period2=None, extents=None, cfv_data=None, output=True\n",
    ")"
   ]
  },
  {
   "cell_type": "code",
   "execution_count": null,
   "id": "165bdf48-db6d-41ab-a13a-4d090899e186",
   "metadata": {},
   "outputs": [],
   "source": [
    "pf.plot_comp_mdp_clim_values_given_var_or_dvar(\n",
    "    region=region, period1_start=period1_start_sim, period1_end=period1_end_sim, \n",
    "    period2_start=period2_start_sim, period2_end=period2_end_sim, months_subset=months_wet, \n",
    "    glass_source_pref=glass_source_pref_sim, var_or_dvar=\"dnac\", time=\"12-17\",\n",
    "    perc=False, mask_perc_quantile=pf.mask_perc_quantile_default, \n",
    "    mask_period1=None, mask_period2=None, extents=None, cfv_data=None, output=True\n",
    ")"
   ]
  },
  {
   "cell_type": "code",
   "execution_count": null,
   "id": "400b2689-cbcd-4fff-a921-8b5ce01a6a3a",
   "metadata": {},
   "outputs": [],
   "source": [
    "pf.plot_comp_mdp_clim_values_given_var_or_dvar(\n",
    "    region=region, period1_start=period1_start_sim, period1_end=period1_end_sim, \n",
    "    period2_start=period2_start_sim, period2_end=period2_end_sim, months_subset=months_wet, \n",
    "    glass_source_pref=glass_source_pref_sim, var_or_dvar=\"dnac\", time=\"18-23\",\n",
    "    perc=False, mask_perc_quantile=pf.mask_perc_quantile_default, \n",
    "    mask_period1=None, mask_period2=None, extents=None, cfv_data=None, output=True\n",
    ")"
   ]
  },
  {
   "cell_type": "code",
   "execution_count": null,
   "id": "2bd56b79-cd49-4295-9a56-5de3044a7826",
   "metadata": {},
   "outputs": [],
   "source": [
    "pf.plot_comp_mdp_clim_values_given_var_or_dvar(\n",
    "    region=region, period1_start=period1_start_sim, period1_end=period1_end_sim, \n",
    "    period2_start=period2_start_sim, period2_end=period2_end_sim, months_subset=months_wet, \n",
    "    glass_source_pref=glass_source_pref_sim, var_or_dvar=\"nac\", time=\"0-5\",\n",
    "    perc=False, mask_perc_quantile=pf.mask_perc_quantile_default, \n",
    "    mask_period1=None, mask_period2=None, extents=None, cfv_data=None, output=True\n",
    ")"
   ]
  },
  {
   "cell_type": "code",
   "execution_count": null,
   "id": "d27ad776-ef25-4687-ab8b-8ab5f18f1093",
   "metadata": {},
   "outputs": [],
   "source": [
    "pf.plot_comp_mdp_clim_values_given_var_or_dvar(\n",
    "    region=region, period1_start=period1_start_sim, period1_end=period1_end_sim, \n",
    "    period2_start=period2_start_sim, period2_end=period2_end_sim, months_subset=months_wet, \n",
    "    glass_source_pref=glass_source_pref_sim, var_or_dvar=\"nac\", time=\"6-11\",\n",
    "    perc=False, mask_perc_quantile=pf.mask_perc_quantile_default, \n",
    "    mask_period1=None, mask_period2=None, extents=None, cfv_data=None, output=True\n",
    ")"
   ]
  },
  {
   "cell_type": "code",
   "execution_count": null,
   "id": "21468cc0-9fee-4d55-95dc-9de0d721472e",
   "metadata": {},
   "outputs": [],
   "source": [
    "pf.plot_comp_mdp_clim_values_given_var_or_dvar(\n",
    "    region=region, period1_start=period1_start_sim, period1_end=period1_end_sim, \n",
    "    period2_start=period2_start_sim, period2_end=period2_end_sim, months_subset=months_wet, \n",
    "    glass_source_pref=glass_source_pref_sim, var_or_dvar=\"nac\", time=\"12-17\",\n",
    "    perc=False, mask_perc_quantile=pf.mask_perc_quantile_default, \n",
    "    mask_period1=None, mask_period2=None, extents=None, cfv_data=None, output=True\n",
    ")"
   ]
  },
  {
   "cell_type": "code",
   "execution_count": null,
   "id": "d979a577-df17-431f-8843-4ff0d0f3a091",
   "metadata": {},
   "outputs": [],
   "source": [
    "pf.plot_comp_mdp_clim_values_given_var_or_dvar(\n",
    "    region=region, period1_start=period1_start_sim, period1_end=period1_end_sim, \n",
    "    period2_start=period2_start_sim, period2_end=period2_end_sim, months_subset=months_wet, \n",
    "    glass_source_pref=glass_source_pref_sim, var_or_dvar=\"nac\", time=\"18-23\",\n",
    "    perc=False, mask_perc_quantile=pf.mask_perc_quantile_default, \n",
    "    mask_period1=None, mask_period2=None, extents=None, cfv_data=None, output=True\n",
    ")"
   ]
  },
  {
   "cell_type": "markdown",
   "id": "031f6e63-a35c-4162-93f1-74f7cfe08818",
   "metadata": {
    "jp-MarkdownHeadingCollapsed": true,
    "tags": []
   },
   "source": [
    "### Similar periods (wet season): WSD"
   ]
  },
  {
   "cell_type": "code",
   "execution_count": null,
   "id": "0850d931-e1db-4dad-ae05-9580c163b4ce",
   "metadata": {},
   "outputs": [],
   "source": [
    "pf.plot_comp_wsd_clim(\n",
    "    region=region, period1_start=period1_start_sim, period1_end=period1_end_sim, \n",
    "    period2_start=period2_start_sim, period2_end=period2_end_sim, months_subset=months_wet, \n",
    "    glass_source_pref=glass_source_pref_sim, \n",
    "    perc=False, mask_perc_quantile=pf.mask_perc_quantile_default, \n",
    "    mask_period1=None, mask_period2=None, extents=None, cfv_data=None, output=True\n",
    ")"
   ]
  },
  {
   "cell_type": "markdown",
   "id": "cc3b333f-c6ef-48f2-bfb0-d953ba420b80",
   "metadata": {},
   "source": [
    "## Similar periods (dry season)"
   ]
  },
  {
   "cell_type": "markdown",
   "id": "d31cff45-01fc-4d6d-938f-4c3502d42f14",
   "metadata": {
    "jp-MarkdownHeadingCollapsed": true,
    "tags": []
   },
   "source": [
    "### Similar periods (dry season): MDP stats"
   ]
  },
  {
   "cell_type": "code",
   "execution_count": null,
   "id": "93996e5f-fea2-4a03-aed4-881a944a55fb",
   "metadata": {},
   "outputs": [],
   "source": [
    "pf.plot_comp_mdp_clim_stats_given_var_or_dvar(\n",
    "    region=region, period1_start=period1_start_sim, period1_end=period1_end_sim, \n",
    "    period2_start=period2_start_sim, period2_end=period2_end_sim, months_subset=months_dry, \n",
    "    glass_source_pref=glass_source_pref_sim, var_or_dvar=\"wv100\", \n",
    "    perc=False, mask_perc_quantile=pf.mask_perc_quantile_default, \n",
    "    mask_period1=None, mask_period2=None, extents=None, cfv_data=None, output=True\n",
    ")"
   ]
  },
  {
   "cell_type": "code",
   "execution_count": null,
   "id": "fddab7cd-e16e-406d-9098-f74d28f72636",
   "metadata": {},
   "outputs": [],
   "source": [
    "pf.plot_comp_mdp_clim_stats_given_var_or_dvar(\n",
    "    region=region, period1_start=period1_start_sim, period1_end=period1_end_sim, \n",
    "    period2_start=period2_start_sim, period2_end=period2_end_sim, months_subset=months_dry, \n",
    "    glass_source_pref=glass_source_pref_sim, var_or_dvar=\"ws100\", \n",
    "    perc=False, mask_perc_quantile=pf.mask_perc_quantile_default, \n",
    "    mask_period1=None, mask_period2=None, extents=None, cfv_data=None, output=True\n",
    ")"
   ]
  },
  {
   "cell_type": "code",
   "execution_count": null,
   "id": "816a9f8e-fe4d-457e-884d-d6fd1b3668d9",
   "metadata": {},
   "outputs": [],
   "source": [
    "pf.plot_comp_mdp_clim_stats_given_var_or_dvar(\n",
    "    region=region, period1_start=period1_start_sim, period1_end=period1_end_sim, \n",
    "    period2_start=period2_start_sim, period2_end=period2_end_sim, months_subset=months_dry, \n",
    "    glass_source_pref=glass_source_pref_sim, var_or_dvar=\"u100\", \n",
    "    perc=False, mask_perc_quantile=pf.mask_perc_quantile_default, \n",
    "    mask_period1=None, mask_period2=None, extents=None, cfv_data=None, output=True\n",
    ")"
   ]
  },
  {
   "cell_type": "code",
   "execution_count": null,
   "id": "0c4b80ae-194b-4636-abda-e91fb5d177cf",
   "metadata": {},
   "outputs": [],
   "source": [
    "pf.plot_comp_mdp_clim_stats_given_var_or_dvar(\n",
    "    region=region, period1_start=period1_start_sim, period1_end=period1_end_sim, \n",
    "    period2_start=period2_start_sim, period2_end=period2_end_sim, months_subset=months_dry, \n",
    "    glass_source_pref=glass_source_pref_sim, var_or_dvar=\"v100\", \n",
    "    perc=False, mask_perc_quantile=pf.mask_perc_quantile_default, \n",
    "    mask_period1=None, mask_period2=None, extents=None, cfv_data=None, output=True\n",
    ")"
   ]
  },
  {
   "cell_type": "code",
   "execution_count": null,
   "id": "2f067fc8-c789-496d-ab6c-a410adbf7004",
   "metadata": {},
   "outputs": [],
   "source": [
    "pf.plot_comp_mdp_clim_stats_given_var_or_dvar(\n",
    "    region=region, period1_start=period1_start_sim, period1_end=period1_end_sim, \n",
    "    period2_start=period2_start_sim, period2_end=period2_end_sim, months_subset=months_dry, \n",
    "    glass_source_pref=glass_source_pref_sim, var_or_dvar=\"mslp\", \n",
    "    perc=False, mask_perc_quantile=pf.mask_perc_quantile_default, \n",
    "    mask_period1=None, mask_period2=None, extents=None, cfv_data=None, output=True\n",
    ")"
   ]
  },
  {
   "cell_type": "code",
   "execution_count": null,
   "id": "0f71fb97-358a-4305-befe-63954cc6c5ad",
   "metadata": {},
   "outputs": [],
   "source": [
    "pf.plot_comp_mdp_clim_stats_given_var_or_dvar(\n",
    "    region=region, period1_start=period1_start_sim, period1_end=period1_end_sim, \n",
    "    period2_start=period2_start_sim, period2_end=period2_end_sim, months_subset=months_dry, \n",
    "    glass_source_pref=glass_source_pref_sim, var_or_dvar=\"t2\", \n",
    "    perc=False, mask_perc_quantile=pf.mask_perc_quantile_default, \n",
    "    mask_period1=None, mask_period2=None, extents=None, cfv_data=None, output=True\n",
    ")"
   ]
  },
  {
   "cell_type": "code",
   "execution_count": null,
   "id": "b1f80429-bd41-4880-b903-3166c9be4511",
   "metadata": {},
   "outputs": [],
   "source": [
    "pf.plot_comp_mdp_clim_stats_given_var_or_dvar(\n",
    "    region=region, period1_start=period1_start_sim, period1_end=period1_end_sim, \n",
    "    period2_start=period2_start_sim, period2_end=period2_end_sim, months_subset=months_dry, \n",
    "    glass_source_pref=glass_source_pref_sim, var_or_dvar=\"nac\", \n",
    "    perc=False, mask_perc_quantile=pf.mask_perc_quantile_default, \n",
    "    mask_period1=None, mask_period2=None, extents=None, cfv_data=None, output=True\n",
    ")"
   ]
  },
  {
   "cell_type": "markdown",
   "id": "88e61ca0-46f7-4877-b023-e6eb33b4f899",
   "metadata": {
    "jp-MarkdownHeadingCollapsed": true,
    "tags": []
   },
   "source": [
    "### Similar periods (dry season): MDP values"
   ]
  },
  {
   "cell_type": "code",
   "execution_count": null,
   "id": "8e2d10bc-9934-48e5-a754-00ef50d87b93",
   "metadata": {},
   "outputs": [],
   "source": [
    "pf.plot_comp_mdp_clim_values_given_var_or_dvar(\n",
    "    region=region, period1_start=period1_start_sim, period1_end=period1_end_sim, \n",
    "    period2_start=period2_start_sim, period2_end=period2_end_sim, months_subset=months_dry, \n",
    "    glass_source_pref=glass_source_pref_sim, var_or_dvar=\"dwv100\", time=\"0-5\",\n",
    "    perc=False, mask_perc_quantile=pf.mask_perc_quantile_default, \n",
    "    mask_period1=None, mask_period2=None, extents=None, cfv_data=None, output=True\n",
    ")"
   ]
  },
  {
   "cell_type": "code",
   "execution_count": null,
   "id": "6b0b4409-438d-4143-be79-43cd28adcc71",
   "metadata": {},
   "outputs": [],
   "source": [
    "pf.plot_comp_mdp_clim_values_given_var_or_dvar(\n",
    "    region=region, period1_start=period1_start_sim, period1_end=period1_end_sim, \n",
    "    period2_start=period2_start_sim, period2_end=period2_end_sim, months_subset=months_dry, \n",
    "    glass_source_pref=glass_source_pref_sim, var_or_dvar=\"dwv100\", time=\"6-11\",\n",
    "    perc=False, mask_perc_quantile=pf.mask_perc_quantile_default, \n",
    "    mask_period1=None, mask_period2=None, extents=None, cfv_data=None, output=True\n",
    ")"
   ]
  },
  {
   "cell_type": "code",
   "execution_count": null,
   "id": "199a046b-f4a2-4600-8f37-0d11681c8e20",
   "metadata": {},
   "outputs": [],
   "source": [
    "pf.plot_comp_mdp_clim_values_given_var_or_dvar(\n",
    "    region=region, period1_start=period1_start_sim, period1_end=period1_end_sim, \n",
    "    period2_start=period2_start_sim, period2_end=period2_end_sim, months_subset=months_dry, \n",
    "    glass_source_pref=glass_source_pref_sim, var_or_dvar=\"dwv100\", time=\"12-17\",\n",
    "    perc=False, mask_perc_quantile=pf.mask_perc_quantile_default, \n",
    "    mask_period1=None, mask_period2=None, extents=None, cfv_data=None, output=True\n",
    ")"
   ]
  },
  {
   "cell_type": "code",
   "execution_count": null,
   "id": "1a48d724-e3e6-4b65-bc36-cd9315151bf2",
   "metadata": {},
   "outputs": [],
   "source": [
    "pf.plot_comp_mdp_clim_values_given_var_or_dvar(\n",
    "    region=region, period1_start=period1_start_sim, period1_end=period1_end_sim, \n",
    "    period2_start=period2_start_sim, period2_end=period2_end_sim, months_subset=months_dry, \n",
    "    glass_source_pref=glass_source_pref_sim, var_or_dvar=\"dwv100\", time=\"18-23\",\n",
    "    perc=False, mask_perc_quantile=pf.mask_perc_quantile_default, \n",
    "    mask_period1=None, mask_period2=None, extents=None, cfv_data=None, output=True\n",
    ")"
   ]
  },
  {
   "cell_type": "code",
   "execution_count": null,
   "id": "60bab856-9762-400b-bb09-a21814512dfb",
   "metadata": {},
   "outputs": [],
   "source": [
    "pf.plot_comp_mdp_clim_values_given_var_or_dvar(\n",
    "    region=region, period1_start=period1_start_sim, period1_end=period1_end_sim, \n",
    "    period2_start=period2_start_sim, period2_end=period2_end_sim, months_subset=months_dry, \n",
    "    glass_source_pref=glass_source_pref_sim, var_or_dvar=\"dmslp\", time=\"0-5\",\n",
    "    perc=False, mask_perc_quantile=pf.mask_perc_quantile_default, \n",
    "    mask_period1=None, mask_period2=None, extents=None, cfv_data=None, output=True\n",
    ")"
   ]
  },
  {
   "cell_type": "code",
   "execution_count": null,
   "id": "f6faa983-60e5-410c-82b3-dc09fda06a56",
   "metadata": {},
   "outputs": [],
   "source": [
    "pf.plot_comp_mdp_clim_values_given_var_or_dvar(\n",
    "    region=region, period1_start=period1_start_sim, period1_end=period1_end_sim, \n",
    "    period2_start=period2_start_sim, period2_end=period2_end_sim, months_subset=months_dry, \n",
    "    glass_source_pref=glass_source_pref_sim, var_or_dvar=\"dmslp\", time=\"6-11\",\n",
    "    perc=False, mask_perc_quantile=pf.mask_perc_quantile_default, \n",
    "    mask_period1=None, mask_period2=None, extents=None, cfv_data=None, output=True\n",
    ")"
   ]
  },
  {
   "cell_type": "code",
   "execution_count": null,
   "id": "06b30f65-d4a5-4823-8eb3-b1608967e036",
   "metadata": {},
   "outputs": [],
   "source": [
    "pf.plot_comp_mdp_clim_values_given_var_or_dvar(\n",
    "    region=region, period1_start=period1_start_sim, period1_end=period1_end_sim, \n",
    "    period2_start=period2_start_sim, period2_end=period2_end_sim, months_subset=months_dry, \n",
    "    glass_source_pref=glass_source_pref_sim, var_or_dvar=\"dmslp\", time=\"12-17\",\n",
    "    perc=False, mask_perc_quantile=pf.mask_perc_quantile_default, \n",
    "    mask_period1=None, mask_period2=None, extents=None, cfv_data=None, output=True\n",
    ")"
   ]
  },
  {
   "cell_type": "code",
   "execution_count": null,
   "id": "e4c04806-6829-4945-92dc-964372248384",
   "metadata": {},
   "outputs": [],
   "source": [
    "pf.plot_comp_mdp_clim_values_given_var_or_dvar(\n",
    "    region=region, period1_start=period1_start_sim, period1_end=period1_end_sim, \n",
    "    period2_start=period2_start_sim, period2_end=period2_end_sim, months_subset=months_dry, \n",
    "    glass_source_pref=glass_source_pref_sim, var_or_dvar=\"dmslp\", time=\"18-23\",\n",
    "    perc=False, mask_perc_quantile=pf.mask_perc_quantile_default, \n",
    "    mask_period1=None, mask_period2=None, extents=None, cfv_data=None, output=True\n",
    ")"
   ]
  },
  {
   "cell_type": "code",
   "execution_count": null,
   "id": "04c8ffec-ce78-4972-917d-4581e3694ef5",
   "metadata": {},
   "outputs": [],
   "source": [
    "pf.plot_comp_mdp_clim_values_given_var_or_dvar(\n",
    "    region=region, period1_start=period1_start_sim, period1_end=period1_end_sim, \n",
    "    period2_start=period2_start_sim, period2_end=period2_end_sim, months_subset=months_dry, \n",
    "    glass_source_pref=glass_source_pref_sim, var_or_dvar=\"dt2\", time=\"0-5\",\n",
    "    perc=False, mask_perc_quantile=pf.mask_perc_quantile_default, \n",
    "    mask_period1=None, mask_period2=None, extents=None, cfv_data=None, output=True\n",
    ")"
   ]
  },
  {
   "cell_type": "code",
   "execution_count": null,
   "id": "ef32308e-8b36-4f3e-bbe4-18946bfd4136",
   "metadata": {},
   "outputs": [],
   "source": [
    "pf.plot_comp_mdp_clim_values_given_var_or_dvar(\n",
    "    region=region, period1_start=period1_start_sim, period1_end=period1_end_sim, \n",
    "    period2_start=period2_start_sim, period2_end=period2_end_sim, months_subset=months_dry, \n",
    "    glass_source_pref=glass_source_pref_sim, var_or_dvar=\"dt2\", time=\"6-11\",\n",
    "    perc=False, mask_perc_quantile=pf.mask_perc_quantile_default, \n",
    "    mask_period1=None, mask_period2=None, extents=None, cfv_data=None, output=True\n",
    ")"
   ]
  },
  {
   "cell_type": "code",
   "execution_count": null,
   "id": "c1e14fa7-a046-4ece-9a62-9d95b7479425",
   "metadata": {},
   "outputs": [],
   "source": [
    "pf.plot_comp_mdp_clim_values_given_var_or_dvar(\n",
    "    region=region, period1_start=period1_start_sim, period1_end=period1_end_sim, \n",
    "    period2_start=period2_start_sim, period2_end=period2_end_sim, months_subset=months_dry, \n",
    "    glass_source_pref=glass_source_pref_sim, var_or_dvar=\"dt2\", time=\"12-17\",\n",
    "    perc=False, mask_perc_quantile=pf.mask_perc_quantile_default, \n",
    "    mask_period1=None, mask_period2=None, extents=None, cfv_data=None, output=True\n",
    ")"
   ]
  },
  {
   "cell_type": "code",
   "execution_count": null,
   "id": "0e95467a-308e-4095-98c3-e064ebbef74a",
   "metadata": {},
   "outputs": [],
   "source": [
    "pf.plot_comp_mdp_clim_values_given_var_or_dvar(\n",
    "    region=region, period1_start=period1_start_sim, period1_end=period1_end_sim, \n",
    "    period2_start=period2_start_sim, period2_end=period2_end_sim, months_subset=months_dry, \n",
    "    glass_source_pref=glass_source_pref_sim, var_or_dvar=\"dt2\", time=\"18-23\",\n",
    "    perc=False, mask_perc_quantile=pf.mask_perc_quantile_default, \n",
    "    mask_period1=None, mask_period2=None, extents=None, cfv_data=None, output=True\n",
    ")"
   ]
  },
  {
   "cell_type": "code",
   "execution_count": null,
   "id": "08da0fc5-bce6-426a-8572-d0d276ab43fa",
   "metadata": {},
   "outputs": [],
   "source": [
    "pf.plot_comp_mdp_clim_values_given_var_or_dvar(\n",
    "    region=region, period1_start=period1_start_sim, period1_end=period1_end_sim, \n",
    "    period2_start=period2_start_sim, period2_end=period2_end_sim, months_subset=months_dry, \n",
    "    glass_source_pref=glass_source_pref_sim, var_or_dvar=\"dnac\", time=\"0-5\",\n",
    "    perc=False, mask_perc_quantile=pf.mask_perc_quantile_default, \n",
    "    mask_period1=None, mask_period2=None, extents=None, cfv_data=None, output=True\n",
    ")"
   ]
  },
  {
   "cell_type": "code",
   "execution_count": null,
   "id": "4f113ec1-ebfb-40d1-8a92-7def049f6a5c",
   "metadata": {},
   "outputs": [],
   "source": [
    "pf.plot_comp_mdp_clim_values_given_var_or_dvar(\n",
    "    region=region, period1_start=period1_start_sim, period1_end=period1_end_sim, \n",
    "    period2_start=period2_start_sim, period2_end=period2_end_sim, months_subset=months_dry, \n",
    "    glass_source_pref=glass_source_pref_sim, var_or_dvar=\"dnac\", time=\"6-11\",\n",
    "    perc=False, mask_perc_quantile=pf.mask_perc_quantile_default, \n",
    "    mask_period1=None, mask_period2=None, extents=None, cfv_data=None, output=True\n",
    ")"
   ]
  },
  {
   "cell_type": "code",
   "execution_count": null,
   "id": "889474b2-6a49-4b8a-9002-670d20944bc7",
   "metadata": {},
   "outputs": [],
   "source": [
    "pf.plot_comp_mdp_clim_values_given_var_or_dvar(\n",
    "    region=region, period1_start=period1_start_sim, period1_end=period1_end_sim, \n",
    "    period2_start=period2_start_sim, period2_end=period2_end_sim, months_subset=months_dry, \n",
    "    glass_source_pref=glass_source_pref_sim, var_or_dvar=\"dnac\", time=\"12-17\",\n",
    "    perc=False, mask_perc_quantile=pf.mask_perc_quantile_default, \n",
    "    mask_period1=None, mask_period2=None, extents=None, cfv_data=None, output=True\n",
    ")"
   ]
  },
  {
   "cell_type": "code",
   "execution_count": null,
   "id": "0b3723b5-6b54-4868-b9ef-888727b6c791",
   "metadata": {},
   "outputs": [],
   "source": [
    "pf.plot_comp_mdp_clim_values_given_var_or_dvar(\n",
    "    region=region, period1_start=period1_start_sim, period1_end=period1_end_sim, \n",
    "    period2_start=period2_start_sim, period2_end=period2_end_sim, months_subset=months_dry, \n",
    "    glass_source_pref=glass_source_pref_sim, var_or_dvar=\"dnac\", time=\"18-23\",\n",
    "    perc=False, mask_perc_quantile=pf.mask_perc_quantile_default, \n",
    "    mask_period1=None, mask_period2=None, extents=None, cfv_data=None, output=True\n",
    ")"
   ]
  },
  {
   "cell_type": "code",
   "execution_count": null,
   "id": "20c67780-28c8-4b25-9aed-3828da142994",
   "metadata": {},
   "outputs": [],
   "source": [
    "pf.plot_comp_mdp_clim_values_given_var_or_dvar(\n",
    "    region=region, period1_start=period1_start_sim, period1_end=period1_end_sim, \n",
    "    period2_start=period2_start_sim, period2_end=period2_end_sim, months_subset=months_dry, \n",
    "    glass_source_pref=glass_source_pref_sim, var_or_dvar=\"nac\", time=\"0-5\",\n",
    "    perc=False, mask_perc_quantile=pf.mask_perc_quantile_default, \n",
    "    mask_period1=None, mask_period2=None, extents=None, cfv_data=None, output=True\n",
    ")"
   ]
  },
  {
   "cell_type": "code",
   "execution_count": null,
   "id": "f6e9fa69-40ef-45d3-bc62-d93b4a7e2092",
   "metadata": {},
   "outputs": [],
   "source": [
    "pf.plot_comp_mdp_clim_values_given_var_or_dvar(\n",
    "    region=region, period1_start=period1_start_sim, period1_end=period1_end_sim, \n",
    "    period2_start=period2_start_sim, period2_end=period2_end_sim, months_subset=months_dry, \n",
    "    glass_source_pref=glass_source_pref_sim, var_or_dvar=\"nac\", time=\"6-11\",\n",
    "    perc=False, mask_perc_quantile=pf.mask_perc_quantile_default, \n",
    "    mask_period1=None, mask_period2=None, extents=None, cfv_data=None, output=True\n",
    ")"
   ]
  },
  {
   "cell_type": "code",
   "execution_count": null,
   "id": "1e615414-a49e-42f9-b0d2-6f115eaae2bc",
   "metadata": {},
   "outputs": [],
   "source": [
    "pf.plot_comp_mdp_clim_values_given_var_or_dvar(\n",
    "    region=region, period1_start=period1_start_sim, period1_end=period1_end_sim, \n",
    "    period2_start=period2_start_sim, period2_end=period2_end_sim, months_subset=months_dry, \n",
    "    glass_source_pref=glass_source_pref_sim, var_or_dvar=\"nac\", time=\"12-17\",\n",
    "    perc=False, mask_perc_quantile=pf.mask_perc_quantile_default, \n",
    "    mask_period1=None, mask_period2=None, extents=None, cfv_data=None, output=True\n",
    ")"
   ]
  },
  {
   "cell_type": "code",
   "execution_count": null,
   "id": "0a7f8df8-330c-4aba-865f-5edbefe04696",
   "metadata": {},
   "outputs": [],
   "source": [
    "pf.plot_comp_mdp_clim_values_given_var_or_dvar(\n",
    "    region=region, period1_start=period1_start_sim, period1_end=period1_end_sim, \n",
    "    period2_start=period2_start_sim, period2_end=period2_end_sim, months_subset=months_dry, \n",
    "    glass_source_pref=glass_source_pref_sim, var_or_dvar=\"nac\", time=\"18-23\",\n",
    "    perc=False, mask_perc_quantile=pf.mask_perc_quantile_default, \n",
    "    mask_period1=None, mask_period2=None, extents=None, cfv_data=None, output=True\n",
    ")"
   ]
  },
  {
   "cell_type": "markdown",
   "id": "0405cef2-8824-4f79-af8c-f8ae5d275d48",
   "metadata": {
    "jp-MarkdownHeadingCollapsed": true,
    "tags": []
   },
   "source": [
    "### Similar periods (dry season): WSD"
   ]
  },
  {
   "cell_type": "code",
   "execution_count": null,
   "id": "12819e11-cc89-4933-8d25-798d7582e772",
   "metadata": {},
   "outputs": [],
   "source": [
    "pf.plot_comp_wsd_clim(\n",
    "    region=region, period1_start=period1_start_sim, period1_end=period1_end_sim, \n",
    "    period2_start=period2_start_sim, period2_end=period2_end_sim, months_subset=months_dry, \n",
    "    glass_source_pref=glass_source_pref_sim, \n",
    "    perc=False, mask_perc_quantile=pf.mask_perc_quantile_default, \n",
    "    mask_period1=None, mask_period2=None, extents=None, cfv_data=None, output=True\n",
    ")"
   ]
  },
  {
   "cell_type": "code",
   "execution_count": null,
   "id": "af1b81fd-ddb9-402c-8415-bb08704d59a2",
   "metadata": {},
   "outputs": [],
   "source": []
  },
  {
   "cell_type": "markdown",
   "id": "58cb46b7-00a3-43f3-ac10-0ee63680f0b6",
   "metadata": {},
   "source": [
    "# Overview for dissimilar periods"
   ]
  },
  {
   "cell_type": "markdown",
   "id": "bd38eb26-d45a-4e1f-b2a3-cdb217d1249f",
   "metadata": {},
   "source": [
    "## Dissimilar periods (all months)"
   ]
  },
  {
   "cell_type": "markdown",
   "id": "ecb53b4e-a5a8-4dd4-9944-a2049f9f446d",
   "metadata": {
    "jp-MarkdownHeadingCollapsed": true,
    "tags": []
   },
   "source": [
    "### Dissimilar periods (all months): MDP stats "
   ]
  },
  {
   "cell_type": "code",
   "execution_count": null,
   "id": "3a8e11d3-1f1d-4cb3-a078-137860d90603",
   "metadata": {},
   "outputs": [],
   "source": [
    "pf.plot_comp_mdp_clim_stats_given_var_or_dvar(\n",
    "    region=region, period1_start=period1_start_dis, period1_end=period1_end_dis, \n",
    "    period2_start=period2_start_dis, period2_end=period2_end_dis, months_subset=\"all\", \n",
    "    glass_source_pref=glass_source_pref_dis, var_or_dvar=\"wv100\", \n",
    "    perc=False, mask_perc_quantile=pf.mask_perc_quantile_default, \n",
    "    mask_period1=None, mask_period2=None, extents=None, cfv_data=None, output=True\n",
    ")"
   ]
  },
  {
   "cell_type": "code",
   "execution_count": null,
   "id": "7a9b3799-74c0-41e2-8e46-8882faed01ca",
   "metadata": {},
   "outputs": [],
   "source": [
    "pf.plot_comp_mdp_clim_stats_given_var_or_dvar(\n",
    "    region=region, period1_start=period1_start_dis, period1_end=period1_end_dis, \n",
    "    period2_start=period2_start_dis, period2_end=period2_end_dis, months_subset=\"all\", \n",
    "    glass_source_pref=glass_source_pref_dis, var_or_dvar=\"ws100\", \n",
    "    perc=False, mask_perc_quantile=pf.mask_perc_quantile_default, \n",
    "    mask_period1=None, mask_period2=None, extents=None, cfv_data=None, output=True\n",
    ")"
   ]
  },
  {
   "cell_type": "code",
   "execution_count": null,
   "id": "9b59af1c-464f-4421-b0de-0c9e873fb80d",
   "metadata": {},
   "outputs": [],
   "source": [
    "pf.plot_comp_mdp_clim_stats_given_var_or_dvar(\n",
    "    region=region, period1_start=period1_start_dis, period1_end=period1_end_dis, \n",
    "    period2_start=period2_start_dis, period2_end=period2_end_dis, months_subset=\"all\", \n",
    "    glass_source_pref=glass_source_pref_dis, var_or_dvar=\"u100\", \n",
    "    perc=False, mask_perc_quantile=pf.mask_perc_quantile_default, \n",
    "    mask_period1=None, mask_period2=None, extents=None, cfv_data=None, output=True\n",
    ")"
   ]
  },
  {
   "cell_type": "code",
   "execution_count": null,
   "id": "aa453e06-eed8-441b-991e-1d99ef9eb1b7",
   "metadata": {},
   "outputs": [],
   "source": [
    "pf.plot_comp_mdp_clim_stats_given_var_or_dvar(\n",
    "    region=region, period1_start=period1_start_dis, period1_end=period1_end_dis, \n",
    "    period2_start=period2_start_dis, period2_end=period2_end_dis, months_subset=\"all\", \n",
    "    glass_source_pref=glass_source_pref_dis, var_or_dvar=\"v100\", \n",
    "    perc=False, mask_perc_quantile=pf.mask_perc_quantile_default, \n",
    "    mask_period1=None, mask_period2=None, extents=None, cfv_data=None, output=True\n",
    ")"
   ]
  },
  {
   "cell_type": "code",
   "execution_count": null,
   "id": "65d0d887-5d26-4eb1-80e1-6a1babc5dc8b",
   "metadata": {},
   "outputs": [],
   "source": [
    "pf.plot_comp_mdp_clim_stats_given_var_or_dvar(\n",
    "    region=region, period1_start=period1_start_dis, period1_end=period1_end_dis, \n",
    "    period2_start=period2_start_dis, period2_end=period2_end_dis, months_subset=\"all\", \n",
    "    glass_source_pref=glass_source_pref_dis, var_or_dvar=\"mslp\", \n",
    "    perc=False, mask_perc_quantile=pf.mask_perc_quantile_default, \n",
    "    mask_period1=None, mask_period2=None, extents=None, cfv_data=None, output=True\n",
    ")"
   ]
  },
  {
   "cell_type": "code",
   "execution_count": null,
   "id": "28985d84-a5de-4db6-80bf-22df834dbbb1",
   "metadata": {},
   "outputs": [],
   "source": [
    "pf.plot_comp_mdp_clim_stats_given_var_or_dvar(\n",
    "    region=region, period1_start=period1_start_dis, period1_end=period1_end_dis, \n",
    "    period2_start=period2_start_dis, period2_end=period2_end_dis, months_subset=\"all\", \n",
    "    glass_source_pref=glass_source_pref_dis, var_or_dvar=\"t2\", \n",
    "    perc=False, mask_perc_quantile=pf.mask_perc_quantile_default, \n",
    "    mask_period1=None, mask_period2=None, extents=None, cfv_data=None, output=True\n",
    ")"
   ]
  },
  {
   "cell_type": "code",
   "execution_count": null,
   "id": "bd9b19bb-3fae-44ef-84a8-4253ae0194fc",
   "metadata": {},
   "outputs": [],
   "source": [
    "pf.plot_comp_mdp_clim_stats_given_var_or_dvar(\n",
    "    region=region, period1_start=period1_start_dis, period1_end=period1_end_dis, \n",
    "    period2_start=period2_start_dis, period2_end=period2_end_dis, months_subset=\"all\", \n",
    "    glass_source_pref=glass_source_pref_dis, var_or_dvar=\"nac\", \n",
    "    perc=False, mask_perc_quantile=pf.mask_perc_quantile_default, \n",
    "    mask_period1=None, mask_period2=None, extents=None, cfv_data=None, output=True\n",
    ")"
   ]
  },
  {
   "cell_type": "markdown",
   "id": "9b066f73-8cff-4634-bfda-df6b87bac69d",
   "metadata": {
    "jp-MarkdownHeadingCollapsed": true,
    "tags": []
   },
   "source": [
    "### Dissimilar periods (all months): MDP values"
   ]
  },
  {
   "cell_type": "code",
   "execution_count": null,
   "id": "ad01fe35-80ab-48f7-abe3-3c24c3f29925",
   "metadata": {},
   "outputs": [],
   "source": [
    "pf.plot_comp_mdp_clim_values_given_var_or_dvar(\n",
    "    region=region, period1_start=period1_start_dis, period1_end=period1_end_dis, \n",
    "    period2_start=period2_start_dis, period2_end=period2_end_dis, months_subset=\"all\", \n",
    "    glass_source_pref=glass_source_pref_dis, var_or_dvar=\"dwv100\", time=\"0-5\",\n",
    "    perc=False, mask_perc_quantile=pf.mask_perc_quantile_default, \n",
    "    mask_period1=None, mask_period2=None, extents=None, cfv_data=None, output=True\n",
    ")"
   ]
  },
  {
   "cell_type": "code",
   "execution_count": null,
   "id": "135a4f1f-5c15-4d11-8349-b7553c0801ef",
   "metadata": {},
   "outputs": [],
   "source": [
    "pf.plot_comp_mdp_clim_values_given_var_or_dvar(\n",
    "    region=region, period1_start=period1_start_dis, period1_end=period1_end_dis, \n",
    "    period2_start=period2_start_dis, period2_end=period2_end_dis, months_subset=\"all\", \n",
    "    glass_source_pref=glass_source_pref_dis, var_or_dvar=\"dwv100\", time=\"6-11\",\n",
    "    perc=False, mask_perc_quantile=pf.mask_perc_quantile_default, \n",
    "    mask_period1=None, mask_period2=None, extents=None, cfv_data=None, output=True\n",
    ")"
   ]
  },
  {
   "cell_type": "code",
   "execution_count": null,
   "id": "d3dc39cc-e5b3-4f39-a653-fa3b92c38ed2",
   "metadata": {},
   "outputs": [],
   "source": [
    "pf.plot_comp_mdp_clim_values_given_var_or_dvar(\n",
    "    region=region, period1_start=period1_start_dis, period1_end=period1_end_dis, \n",
    "    period2_start=period2_start_dis, period2_end=period2_end_dis, months_subset=\"all\", \n",
    "    glass_source_pref=glass_source_pref_dis, var_or_dvar=\"dwv100\", time=\"12-17\",\n",
    "    perc=False, mask_perc_quantile=pf.mask_perc_quantile_default, \n",
    "    mask_period1=None, mask_period2=None, extents=None, cfv_data=None, output=True\n",
    ")"
   ]
  },
  {
   "cell_type": "code",
   "execution_count": null,
   "id": "87bd07fd-bf9c-4485-a98d-e326a036445b",
   "metadata": {},
   "outputs": [],
   "source": [
    "pf.plot_comp_mdp_clim_values_given_var_or_dvar(\n",
    "    region=region, period1_start=period1_start_dis, period1_end=period1_end_dis, \n",
    "    period2_start=period2_start_dis, period2_end=period2_end_dis, months_subset=\"all\", \n",
    "    glass_source_pref=glass_source_pref_dis, var_or_dvar=\"dwv100\", time=\"18-23\",\n",
    "    perc=False, mask_perc_quantile=pf.mask_perc_quantile_default, \n",
    "    mask_period1=None, mask_period2=None, extents=None, cfv_data=None, output=True\n",
    ")"
   ]
  },
  {
   "cell_type": "code",
   "execution_count": null,
   "id": "c97f5661-1ead-4df6-a80b-f86116cbf279",
   "metadata": {},
   "outputs": [],
   "source": [
    "pf.plot_comp_mdp_clim_values_given_var_or_dvar(\n",
    "    region=region, period1_start=period1_start_dis, period1_end=period1_end_dis, \n",
    "    period2_start=period2_start_dis, period2_end=period2_end_dis, months_subset=\"all\", \n",
    "    glass_source_pref=glass_source_pref_dis, var_or_dvar=\"dmslp\", time=\"0-5\",\n",
    "    perc=False, mask_perc_quantile=pf.mask_perc_quantile_default, \n",
    "    mask_period1=None, mask_period2=None, extents=None, cfv_data=None, output=True\n",
    ")"
   ]
  },
  {
   "cell_type": "code",
   "execution_count": null,
   "id": "3ef30303-ee92-4a65-acf2-b252087251b8",
   "metadata": {},
   "outputs": [],
   "source": [
    "pf.plot_comp_mdp_clim_values_given_var_or_dvar(\n",
    "    region=region, period1_start=period1_start_dis, period1_end=period1_end_dis, \n",
    "    period2_start=period2_start_dis, period2_end=period2_end_dis, months_subset=\"all\", \n",
    "    glass_source_pref=glass_source_pref_dis, var_or_dvar=\"dmslp\", time=\"6-11\",\n",
    "    perc=False, mask_perc_quantile=pf.mask_perc_quantile_default, \n",
    "    mask_period1=None, mask_period2=None, extents=None, cfv_data=None, output=True\n",
    ")"
   ]
  },
  {
   "cell_type": "code",
   "execution_count": null,
   "id": "66c01fa5-9d6f-48c3-b2b7-0a25ac472aa4",
   "metadata": {},
   "outputs": [],
   "source": [
    "pf.plot_comp_mdp_clim_values_given_var_or_dvar(\n",
    "    region=region, period1_start=period1_start_dis, period1_end=period1_end_dis, \n",
    "    period2_start=period2_start_dis, period2_end=period2_end_dis, months_subset=\"all\", \n",
    "    glass_source_pref=glass_source_pref_dis, var_or_dvar=\"dmslp\", time=\"12-17\",\n",
    "    perc=False, mask_perc_quantile=pf.mask_perc_quantile_default, \n",
    "    mask_period1=None, mask_period2=None, extents=None, cfv_data=None, output=True\n",
    ")"
   ]
  },
  {
   "cell_type": "code",
   "execution_count": null,
   "id": "f765d663-dfe6-481d-a636-812b38b047e1",
   "metadata": {},
   "outputs": [],
   "source": [
    "pf.plot_comp_mdp_clim_values_given_var_or_dvar(\n",
    "    region=region, period1_start=period1_start_dis, period1_end=period1_end_dis, \n",
    "    period2_start=period2_start_dis, period2_end=period2_end_dis, months_subset=\"all\", \n",
    "    glass_source_pref=glass_source_pref_dis, var_or_dvar=\"dmslp\", time=\"18-23\",\n",
    "    perc=False, mask_perc_quantile=pf.mask_perc_quantile_default, \n",
    "    mask_period1=None, mask_period2=None, extents=None, cfv_data=None, output=True\n",
    ")"
   ]
  },
  {
   "cell_type": "code",
   "execution_count": null,
   "id": "c9fe8767-a4be-4300-8d39-8cb9640c83b5",
   "metadata": {},
   "outputs": [],
   "source": [
    "pf.plot_comp_mdp_clim_values_given_var_or_dvar(\n",
    "    region=region, period1_start=period1_start_dis, period1_end=period1_end_dis, \n",
    "    period2_start=period2_start_dis, period2_end=period2_end_dis, months_subset=\"all\", \n",
    "    glass_source_pref=glass_source_pref_dis, var_or_dvar=\"dt2\", time=\"0-5\",\n",
    "    perc=False, mask_perc_quantile=pf.mask_perc_quantile_default, \n",
    "    mask_period1=None, mask_period2=None, extents=None, cfv_data=None, output=True\n",
    ")"
   ]
  },
  {
   "cell_type": "code",
   "execution_count": null,
   "id": "4c39fe6a-e9fe-4f49-945a-95f8afb959af",
   "metadata": {},
   "outputs": [],
   "source": [
    "pf.plot_comp_mdp_clim_values_given_var_or_dvar(\n",
    "    region=region, period1_start=period1_start_dis, period1_end=period1_end_dis, \n",
    "    period2_start=period2_start_dis, period2_end=period2_end_dis, months_subset=\"all\", \n",
    "    glass_source_pref=glass_source_pref_dis, var_or_dvar=\"dt2\", time=\"6-11\",\n",
    "    perc=False, mask_perc_quantile=pf.mask_perc_quantile_default, \n",
    "    mask_period1=None, mask_period2=None, extents=None, cfv_data=None, output=True\n",
    ")"
   ]
  },
  {
   "cell_type": "code",
   "execution_count": null,
   "id": "bf6dd6b6-f2ad-4394-8b77-524a92bf4080",
   "metadata": {},
   "outputs": [],
   "source": [
    "pf.plot_comp_mdp_clim_values_given_var_or_dvar(\n",
    "    region=region, period1_start=period1_start_dis, period1_end=period1_end_dis, \n",
    "    period2_start=period2_start_dis, period2_end=period2_end_dis, months_subset=\"all\", \n",
    "    glass_source_pref=glass_source_pref_dis, var_or_dvar=\"dt2\", time=\"12-17\",\n",
    "    perc=False, mask_perc_quantile=pf.mask_perc_quantile_default, \n",
    "    mask_period1=None, mask_period2=None, extents=None, cfv_data=None, output=True\n",
    ")"
   ]
  },
  {
   "cell_type": "code",
   "execution_count": null,
   "id": "83b7203d-362c-4628-aaca-80805001a61c",
   "metadata": {},
   "outputs": [],
   "source": [
    "pf.plot_comp_mdp_clim_values_given_var_or_dvar(\n",
    "    region=region, period1_start=period1_start_dis, period1_end=period1_end_dis, \n",
    "    period2_start=period2_start_dis, period2_end=period2_end_dis, months_subset=\"all\", \n",
    "    glass_source_pref=glass_source_pref_dis, var_or_dvar=\"dt2\", time=\"18-23\",\n",
    "    perc=False, mask_perc_quantile=pf.mask_perc_quantile_default, \n",
    "    mask_period1=None, mask_period2=None, extents=None, cfv_data=None, output=True\n",
    ")"
   ]
  },
  {
   "cell_type": "code",
   "execution_count": null,
   "id": "83434d12-04f0-4e5a-8879-8f8f6877c91a",
   "metadata": {},
   "outputs": [],
   "source": [
    "pf.plot_comp_mdp_clim_values_given_var_or_dvar(\n",
    "    region=region, period1_start=period1_start_dis, period1_end=period1_end_dis, \n",
    "    period2_start=period2_start_dis, period2_end=period2_end_dis, months_subset=\"all\", \n",
    "    glass_source_pref=glass_source_pref_dis, var_or_dvar=\"dnac\", time=\"0-5\",\n",
    "    perc=False, mask_perc_quantile=pf.mask_perc_quantile_default, \n",
    "    mask_period1=None, mask_period2=None, extents=None, cfv_data=None, output=True\n",
    ")"
   ]
  },
  {
   "cell_type": "code",
   "execution_count": null,
   "id": "93c3ab44-8cda-4062-891b-2c7b93f52f68",
   "metadata": {},
   "outputs": [],
   "source": [
    "pf.plot_comp_mdp_clim_values_given_var_or_dvar(\n",
    "    region=region, period1_start=period1_start_dis, period1_end=period1_end_dis, \n",
    "    period2_start=period2_start_dis, period2_end=period2_end_dis, months_subset=\"all\", \n",
    "    glass_source_pref=glass_source_pref_dis, var_or_dvar=\"dnac\", time=\"6-11\",\n",
    "    perc=False, mask_perc_quantile=pf.mask_perc_quantile_default, \n",
    "    mask_period1=None, mask_period2=None, extents=None, cfv_data=None, output=True\n",
    ")"
   ]
  },
  {
   "cell_type": "code",
   "execution_count": null,
   "id": "1a379351-3fdb-4847-b9de-a0d04c1014c7",
   "metadata": {},
   "outputs": [],
   "source": [
    "pf.plot_comp_mdp_clim_values_given_var_or_dvar(\n",
    "    region=region, period1_start=period1_start_dis, period1_end=period1_end_dis, \n",
    "    period2_start=period2_start_dis, period2_end=period2_end_dis, months_subset=\"all\", \n",
    "    glass_source_pref=glass_source_pref_dis, var_or_dvar=\"dnac\", time=\"12-17\",\n",
    "    perc=False, mask_perc_quantile=pf.mask_perc_quantile_default, \n",
    "    mask_period1=None, mask_period2=None, extents=None, cfv_data=None, output=True\n",
    ")"
   ]
  },
  {
   "cell_type": "code",
   "execution_count": null,
   "id": "7becf0ad-aad8-450d-8e33-21100e3fa708",
   "metadata": {},
   "outputs": [],
   "source": [
    "pf.plot_comp_mdp_clim_values_given_var_or_dvar(\n",
    "    region=region, period1_start=period1_start_dis, period1_end=period1_end_dis, \n",
    "    period2_start=period2_start_dis, period2_end=period2_end_dis, months_subset=\"all\", \n",
    "    glass_source_pref=glass_source_pref_dis, var_or_dvar=\"dnac\", time=\"18-23\",\n",
    "    perc=False, mask_perc_quantile=pf.mask_perc_quantile_default, \n",
    "    mask_period1=None, mask_period2=None, extents=None, cfv_data=None, output=True\n",
    ")"
   ]
  },
  {
   "cell_type": "code",
   "execution_count": null,
   "id": "1fcf99fa-da5d-463c-8d47-f13aa2a2c20b",
   "metadata": {},
   "outputs": [],
   "source": [
    "pf.plot_comp_mdp_clim_values_given_var_or_dvar(\n",
    "    region=region, period1_start=period1_start_dis, period1_end=period1_end_dis, \n",
    "    period2_start=period2_start_dis, period2_end=period2_end_dis, months_subset=\"all\", \n",
    "    glass_source_pref=glass_source_pref_dis, var_or_dvar=\"nac\", time=\"0-5\",\n",
    "    perc=False, mask_perc_quantile=pf.mask_perc_quantile_default, \n",
    "    mask_period1=None, mask_period2=None, extents=None, cfv_data=None, output=True\n",
    ")"
   ]
  },
  {
   "cell_type": "code",
   "execution_count": null,
   "id": "35112a3d-a333-41db-85ce-f01fad27f5da",
   "metadata": {},
   "outputs": [],
   "source": [
    "pf.plot_comp_mdp_clim_values_given_var_or_dvar(\n",
    "    region=region, period1_start=period1_start_dis, period1_end=period1_end_dis, \n",
    "    period2_start=period2_start_dis, period2_end=period2_end_dis, months_subset=\"all\", \n",
    "    glass_source_pref=glass_source_pref_dis, var_or_dvar=\"nac\", time=\"6-11\",\n",
    "    perc=False, mask_perc_quantile=pf.mask_perc_quantile_default, \n",
    "    mask_period1=None, mask_period2=None, extents=None, cfv_data=None, output=True\n",
    ")"
   ]
  },
  {
   "cell_type": "code",
   "execution_count": null,
   "id": "a658b99c-2e4e-482e-ba16-38d30a83e4ca",
   "metadata": {},
   "outputs": [],
   "source": [
    "pf.plot_comp_mdp_clim_values_given_var_or_dvar(\n",
    "    region=region, period1_start=period1_start_dis, period1_end=period1_end_dis, \n",
    "    period2_start=period2_start_dis, period2_end=period2_end_dis, months_subset=\"all\", \n",
    "    glass_source_pref=glass_source_pref_dis, var_or_dvar=\"nac\", time=\"12-17\",\n",
    "    perc=False, mask_perc_quantile=pf.mask_perc_quantile_default, \n",
    "    mask_period1=None, mask_period2=None, extents=None, cfv_data=None, output=True\n",
    ")"
   ]
  },
  {
   "cell_type": "code",
   "execution_count": null,
   "id": "43785777-6ffe-4baf-a907-1cd8d66b14a5",
   "metadata": {},
   "outputs": [],
   "source": [
    "pf.plot_comp_mdp_clim_values_given_var_or_dvar(\n",
    "    region=region, period1_start=period1_start_dis, period1_end=period1_end_dis, \n",
    "    period2_start=period2_start_dis, period2_end=period2_end_dis, months_subset=\"all\", \n",
    "    glass_source_pref=glass_source_pref_dis, var_or_dvar=\"nac\", time=\"18-23\",\n",
    "    perc=False, mask_perc_quantile=pf.mask_perc_quantile_default, \n",
    "    mask_period1=None, mask_period2=None, extents=None, cfv_data=None, output=True\n",
    ")"
   ]
  },
  {
   "cell_type": "markdown",
   "id": "7135c0a6-fba2-46d9-94e6-5195f053d08e",
   "metadata": {
    "jp-MarkdownHeadingCollapsed": true,
    "tags": []
   },
   "source": [
    "### Dissimilar periods (all months): WSD"
   ]
  },
  {
   "cell_type": "code",
   "execution_count": null,
   "id": "c5fc57ae-e520-42ea-b8ae-db2f2b791275",
   "metadata": {},
   "outputs": [],
   "source": [
    "pf.plot_comp_wsd_clim(\n",
    "    region=region, period1_start=period1_start_dis, period1_end=period1_end_dis, \n",
    "    period2_start=period2_start_dis, period2_end=period2_end_dis, months_subset=\"all\", \n",
    "    glass_source_pref=glass_source_pref_dis, \n",
    "    perc=False, mask_perc_quantile=pf.mask_perc_quantile_default, \n",
    "    mask_period1=None, mask_period2=None, extents=None, cfv_data=None, output=True\n",
    ")"
   ]
  },
  {
   "cell_type": "markdown",
   "id": "f19b2899-8d0a-4f22-afd6-00525cdb8a6e",
   "metadata": {},
   "source": [
    "## Dissimilar periods (wet season)"
   ]
  },
  {
   "cell_type": "markdown",
   "id": "32220414-45e5-43a3-bd64-1e2850ecf644",
   "metadata": {
    "jp-MarkdownHeadingCollapsed": true,
    "tags": []
   },
   "source": [
    "### Dissimilar periods (wet season): MDP stats"
   ]
  },
  {
   "cell_type": "code",
   "execution_count": null,
   "id": "cd913b64-2dfb-4490-b602-c0e83f280b5b",
   "metadata": {},
   "outputs": [],
   "source": [
    "pf.plot_comp_mdp_clim_stats_given_var_or_dvar(\n",
    "    region=region, period1_start=period1_start_dis, period1_end=period1_end_dis, \n",
    "    period2_start=period2_start_dis, period2_end=period2_end_dis, months_subset=months_wet, \n",
    "    glass_source_pref=glass_source_pref_dis, var_or_dvar=\"wv100\", \n",
    "    perc=False, mask_perc_quantile=pf.mask_perc_quantile_default, \n",
    "    mask_period1=None, mask_period2=None, extents=None, cfv_data=None, output=True\n",
    ")"
   ]
  },
  {
   "cell_type": "code",
   "execution_count": null,
   "id": "9eae8797-1933-471f-ba39-0a446f09834e",
   "metadata": {},
   "outputs": [],
   "source": [
    "pf.plot_comp_mdp_clim_stats_given_var_or_dvar(\n",
    "    region=region, period1_start=period1_start_dis, period1_end=period1_end_dis, \n",
    "    period2_start=period2_start_dis, period2_end=period2_end_dis, months_subset=months_wet, \n",
    "    glass_source_pref=glass_source_pref_dis, var_or_dvar=\"ws100\", \n",
    "    perc=False, mask_perc_quantile=pf.mask_perc_quantile_default, \n",
    "    mask_period1=None, mask_period2=None, extents=None, cfv_data=None, output=True\n",
    ")"
   ]
  },
  {
   "cell_type": "code",
   "execution_count": null,
   "id": "e175d3f0-7452-4094-8fa5-46f4a166bce9",
   "metadata": {},
   "outputs": [],
   "source": [
    "pf.plot_comp_mdp_clim_stats_given_var_or_dvar(\n",
    "    region=region, period1_start=period1_start_dis, period1_end=period1_end_dis, \n",
    "    period2_start=period2_start_dis, period2_end=period2_end_dis, months_subset=months_wet, \n",
    "    glass_source_pref=glass_source_pref_dis, var_or_dvar=\"u100\", \n",
    "    perc=False, mask_perc_quantile=pf.mask_perc_quantile_default, \n",
    "    mask_period1=None, mask_period2=None, extents=None, cfv_data=None, output=True\n",
    ")"
   ]
  },
  {
   "cell_type": "code",
   "execution_count": null,
   "id": "b03a42f1-5945-4a16-876c-bf2887cf365b",
   "metadata": {},
   "outputs": [],
   "source": [
    "pf.plot_comp_mdp_clim_stats_given_var_or_dvar(\n",
    "    region=region, period1_start=period1_start_dis, period1_end=period1_end_dis, \n",
    "    period2_start=period2_start_dis, period2_end=period2_end_dis, months_subset=months_wet, \n",
    "    glass_source_pref=glass_source_pref_dis, var_or_dvar=\"v100\", \n",
    "    perc=False, mask_perc_quantile=pf.mask_perc_quantile_default, \n",
    "    mask_period1=None, mask_period2=None, extents=None, cfv_data=None, output=True\n",
    ")"
   ]
  },
  {
   "cell_type": "code",
   "execution_count": null,
   "id": "89309b9c-f953-4403-b004-dc076f527b42",
   "metadata": {},
   "outputs": [],
   "source": [
    "pf.plot_comp_mdp_clim_stats_given_var_or_dvar(\n",
    "    region=region, period1_start=period1_start_dis, period1_end=period1_end_dis, \n",
    "    period2_start=period2_start_dis, period2_end=period2_end_dis, months_subset=months_wet, \n",
    "    glass_source_pref=glass_source_pref_dis, var_or_dvar=\"mslp\", \n",
    "    perc=False, mask_perc_quantile=pf.mask_perc_quantile_default, \n",
    "    mask_period1=None, mask_period2=None, extents=None, cfv_data=None, output=True\n",
    ")"
   ]
  },
  {
   "cell_type": "code",
   "execution_count": null,
   "id": "4bcb74d9-e8b0-4344-9395-120ac293d3a2",
   "metadata": {},
   "outputs": [],
   "source": [
    "pf.plot_comp_mdp_clim_stats_given_var_or_dvar(\n",
    "    region=region, period1_start=period1_start_dis, period1_end=period1_end_dis, \n",
    "    period2_start=period2_start_dis, period2_end=period2_end_dis, months_subset=months_wet, \n",
    "    glass_source_pref=glass_source_pref_dis, var_or_dvar=\"t2\", \n",
    "    perc=False, mask_perc_quantile=pf.mask_perc_quantile_default, \n",
    "    mask_period1=None, mask_period2=None, extents=None, cfv_data=None, output=True\n",
    ")"
   ]
  },
  {
   "cell_type": "code",
   "execution_count": null,
   "id": "3bf3ed86-4b4b-4d40-b163-739ae015ed8e",
   "metadata": {},
   "outputs": [],
   "source": [
    "pf.plot_comp_mdp_clim_stats_given_var_or_dvar(\n",
    "    region=region, period1_start=period1_start_dis, period1_end=period1_end_dis, \n",
    "    period2_start=period2_start_dis, period2_end=period2_end_dis, months_subset=months_wet, \n",
    "    glass_source_pref=glass_source_pref_dis, var_or_dvar=\"nac\", \n",
    "    perc=False, mask_perc_quantile=pf.mask_perc_quantile_default, \n",
    "    mask_period1=None, mask_period2=None, extents=None, cfv_data=None, output=True\n",
    ")"
   ]
  },
  {
   "cell_type": "markdown",
   "id": "196751b0-6a10-401f-bf7a-ddafeb913ed4",
   "metadata": {
    "jp-MarkdownHeadingCollapsed": true,
    "tags": []
   },
   "source": [
    "### Dissimilar periods (wet season): MDP values"
   ]
  },
  {
   "cell_type": "code",
   "execution_count": null,
   "id": "5ec52202-bf2f-49d9-997d-423a5337efc5",
   "metadata": {},
   "outputs": [],
   "source": [
    "pf.plot_comp_mdp_clim_values_given_var_or_dvar(\n",
    "    region=region, period1_start=period1_start_dis, period1_end=period1_end_dis, \n",
    "    period2_start=period2_start_dis, period2_end=period2_end_dis, months_subset=months_wet, \n",
    "    glass_source_pref=glass_source_pref_dis, var_or_dvar=\"dwv100\", time=\"0-5\",\n",
    "    perc=False, mask_perc_quantile=pf.mask_perc_quantile_default, \n",
    "    mask_period1=None, mask_period2=None, extents=None, cfv_data=None, output=True\n",
    ")"
   ]
  },
  {
   "cell_type": "code",
   "execution_count": null,
   "id": "ad4ba573-5835-42fa-9bcb-e67d5f697f3c",
   "metadata": {},
   "outputs": [],
   "source": [
    "pf.plot_comp_mdp_clim_values_given_var_or_dvar(\n",
    "    region=region, period1_start=period1_start_dis, period1_end=period1_end_dis, \n",
    "    period2_start=period2_start_dis, period2_end=period2_end_dis, months_subset=months_wet, \n",
    "    glass_source_pref=glass_source_pref_dis, var_or_dvar=\"dwv100\", time=\"6-11\",\n",
    "    perc=False, mask_perc_quantile=pf.mask_perc_quantile_default, \n",
    "    mask_period1=None, mask_period2=None, extents=None, cfv_data=None, output=True\n",
    ")"
   ]
  },
  {
   "cell_type": "code",
   "execution_count": null,
   "id": "6ed1c11b-141c-4d79-bcce-9a4039e7109b",
   "metadata": {},
   "outputs": [],
   "source": [
    "pf.plot_comp_mdp_clim_values_given_var_or_dvar(\n",
    "    region=region, period1_start=period1_start_dis, period1_end=period1_end_dis, \n",
    "    period2_start=period2_start_dis, period2_end=period2_end_dis, months_subset=months_wet, \n",
    "    glass_source_pref=glass_source_pref_dis, var_or_dvar=\"dwv100\", time=\"12-17\",\n",
    "    perc=False, mask_perc_quantile=pf.mask_perc_quantile_default, \n",
    "    mask_period1=None, mask_period2=None, extents=None, cfv_data=None, output=True\n",
    ")"
   ]
  },
  {
   "cell_type": "code",
   "execution_count": null,
   "id": "dc64f872-0863-4c23-8f33-3e27a66cce17",
   "metadata": {},
   "outputs": [],
   "source": [
    "pf.plot_comp_mdp_clim_values_given_var_or_dvar(\n",
    "    region=region, period1_start=period1_start_dis, period1_end=period1_end_dis, \n",
    "    period2_start=period2_start_dis, period2_end=period2_end_dis, months_subset=months_wet, \n",
    "    glass_source_pref=glass_source_pref_dis, var_or_dvar=\"dwv100\", time=\"18-23\",\n",
    "    perc=False, mask_perc_quantile=pf.mask_perc_quantile_default, \n",
    "    mask_period1=None, mask_period2=None, extents=None, cfv_data=None, output=True\n",
    ")"
   ]
  },
  {
   "cell_type": "code",
   "execution_count": null,
   "id": "b3a2a62c-315d-43d0-857c-d06fbe94b0fd",
   "metadata": {},
   "outputs": [],
   "source": [
    "pf.plot_comp_mdp_clim_values_given_var_or_dvar(\n",
    "    region=region, period1_start=period1_start_dis, period1_end=period1_end_dis, \n",
    "    period2_start=period2_start_dis, period2_end=period2_end_dis, months_subset=months_wet, \n",
    "    glass_source_pref=glass_source_pref_dis, var_or_dvar=\"dmslp\", time=\"0-5\",\n",
    "    perc=False, mask_perc_quantile=pf.mask_perc_quantile_default, \n",
    "    mask_period1=None, mask_period2=None, extents=None, cfv_data=None, output=True\n",
    ")"
   ]
  },
  {
   "cell_type": "code",
   "execution_count": null,
   "id": "187be9c2-9e5a-4367-8648-51f50f131dbc",
   "metadata": {},
   "outputs": [],
   "source": [
    "pf.plot_comp_mdp_clim_values_given_var_or_dvar(\n",
    "    region=region, period1_start=period1_start_dis, period1_end=period1_end_dis, \n",
    "    period2_start=period2_start_dis, period2_end=period2_end_dis, months_subset=months_wet, \n",
    "    glass_source_pref=glass_source_pref_dis, var_or_dvar=\"dmslp\", time=\"6-11\",\n",
    "    perc=False, mask_perc_quantile=pf.mask_perc_quantile_default, \n",
    "    mask_period1=None, mask_period2=None, extents=None, cfv_data=None, output=True\n",
    ")"
   ]
  },
  {
   "cell_type": "code",
   "execution_count": null,
   "id": "77bc0a4d-3702-421a-9bbc-8402885e90e8",
   "metadata": {},
   "outputs": [],
   "source": [
    "pf.plot_comp_mdp_clim_values_given_var_or_dvar(\n",
    "    region=region, period1_start=period1_start_dis, period1_end=period1_end_dis, \n",
    "    period2_start=period2_start_dis, period2_end=period2_end_dis, months_subset=months_wet, \n",
    "    glass_source_pref=glass_source_pref_dis, var_or_dvar=\"dmslp\", time=\"12-17\",\n",
    "    perc=False, mask_perc_quantile=pf.mask_perc_quantile_default, \n",
    "    mask_period1=None, mask_period2=None, extents=None, cfv_data=None, output=True\n",
    ")"
   ]
  },
  {
   "cell_type": "code",
   "execution_count": null,
   "id": "1387cf31-bfdd-497f-b753-aa569b761cfa",
   "metadata": {},
   "outputs": [],
   "source": [
    "pf.plot_comp_mdp_clim_values_given_var_or_dvar(\n",
    "    region=region, period1_start=period1_start_dis, period1_end=period1_end_dis, \n",
    "    period2_start=period2_start_dis, period2_end=period2_end_dis, months_subset=months_wet, \n",
    "    glass_source_pref=glass_source_pref_dis, var_or_dvar=\"dmslp\", time=\"18-23\",\n",
    "    perc=False, mask_perc_quantile=pf.mask_perc_quantile_default, \n",
    "    mask_period1=None, mask_period2=None, extents=None, cfv_data=None, output=True\n",
    ")"
   ]
  },
  {
   "cell_type": "code",
   "execution_count": null,
   "id": "201e9f21-21f4-4e3c-87f7-eb9e1e9d5df7",
   "metadata": {},
   "outputs": [],
   "source": [
    "pf.plot_comp_mdp_clim_values_given_var_or_dvar(\n",
    "    region=region, period1_start=period1_start_dis, period1_end=period1_end_dis, \n",
    "    period2_start=period2_start_dis, period2_end=period2_end_dis, months_subset=months_wet, \n",
    "    glass_source_pref=glass_source_pref_dis, var_or_dvar=\"dt2\", time=\"0-5\",\n",
    "    perc=False, mask_perc_quantile=pf.mask_perc_quantile_default, \n",
    "    mask_period1=None, mask_period2=None, extents=None, cfv_data=None, output=True\n",
    ")"
   ]
  },
  {
   "cell_type": "code",
   "execution_count": null,
   "id": "053e6cc7-b228-4efb-a262-1134ed417d83",
   "metadata": {},
   "outputs": [],
   "source": [
    "pf.plot_comp_mdp_clim_values_given_var_or_dvar(\n",
    "    region=region, period1_start=period1_start_dis, period1_end=period1_end_dis, \n",
    "    period2_start=period2_start_dis, period2_end=period2_end_dis, months_subset=months_wet, \n",
    "    glass_source_pref=glass_source_pref_dis, var_or_dvar=\"dt2\", time=\"6-11\",\n",
    "    perc=False, mask_perc_quantile=pf.mask_perc_quantile_default, \n",
    "    mask_period1=None, mask_period2=None, extents=None, cfv_data=None, output=True\n",
    ")"
   ]
  },
  {
   "cell_type": "code",
   "execution_count": null,
   "id": "b32f9031-b53d-4242-894c-698531190ada",
   "metadata": {},
   "outputs": [],
   "source": [
    "pf.plot_comp_mdp_clim_values_given_var_or_dvar(\n",
    "    region=region, period1_start=period1_start_dis, period1_end=period1_end_dis, \n",
    "    period2_start=period2_start_dis, period2_end=period2_end_dis, months_subset=months_wet, \n",
    "    glass_source_pref=glass_source_pref_dis, var_or_dvar=\"dt2\", time=\"12-17\",\n",
    "    perc=False, mask_perc_quantile=pf.mask_perc_quantile_default, \n",
    "    mask_period1=None, mask_period2=None, extents=None, cfv_data=None, output=True\n",
    ")"
   ]
  },
  {
   "cell_type": "code",
   "execution_count": null,
   "id": "4b5ba8fe-cfc4-4c9e-ad1f-a88f6dcbecfd",
   "metadata": {},
   "outputs": [],
   "source": [
    "pf.plot_comp_mdp_clim_values_given_var_or_dvar(\n",
    "    region=region, period1_start=period1_start_dis, period1_end=period1_end_dis, \n",
    "    period2_start=period2_start_dis, period2_end=period2_end_dis, months_subset=months_wet, \n",
    "    glass_source_pref=glass_source_pref_dis, var_or_dvar=\"dt2\", time=\"18-23\",\n",
    "    perc=False, mask_perc_quantile=pf.mask_perc_quantile_default, \n",
    "    mask_period1=None, mask_period2=None, extents=None, cfv_data=None, output=True\n",
    ")"
   ]
  },
  {
   "cell_type": "code",
   "execution_count": null,
   "id": "91a4ef06-54f0-47af-a00e-890848fb97d3",
   "metadata": {},
   "outputs": [],
   "source": [
    "pf.plot_comp_mdp_clim_values_given_var_or_dvar(\n",
    "    region=region, period1_start=period1_start_dis, period1_end=period1_end_dis, \n",
    "    period2_start=period2_start_dis, period2_end=period2_end_dis, months_subset=months_wet, \n",
    "    glass_source_pref=glass_source_pref_dis, var_or_dvar=\"dnac\", time=\"0-5\",\n",
    "    perc=False, mask_perc_quantile=pf.mask_perc_quantile_default, \n",
    "    mask_period1=None, mask_period2=None, extents=None, cfv_data=None, output=True\n",
    ")"
   ]
  },
  {
   "cell_type": "code",
   "execution_count": null,
   "id": "4d01d69f-c4f8-4703-a6c6-8e7cabb42f38",
   "metadata": {},
   "outputs": [],
   "source": [
    "pf.plot_comp_mdp_clim_values_given_var_or_dvar(\n",
    "    region=region, period1_start=period1_start_dis, period1_end=period1_end_dis, \n",
    "    period2_start=period2_start_dis, period2_end=period2_end_dis, months_subset=months_wet, \n",
    "    glass_source_pref=glass_source_pref_dis, var_or_dvar=\"dnac\", time=\"6-11\",\n",
    "    perc=False, mask_perc_quantile=pf.mask_perc_quantile_default, \n",
    "    mask_period1=None, mask_period2=None, extents=None, cfv_data=None, output=True\n",
    ")"
   ]
  },
  {
   "cell_type": "code",
   "execution_count": null,
   "id": "0aa5558c-f0a1-4f26-9c4a-dba692ca7b56",
   "metadata": {},
   "outputs": [],
   "source": [
    "pf.plot_comp_mdp_clim_values_given_var_or_dvar(\n",
    "    region=region, period1_start=period1_start_dis, period1_end=period1_end_dis, \n",
    "    period2_start=period2_start_dis, period2_end=period2_end_dis, months_subset=months_wet, \n",
    "    glass_source_pref=glass_source_pref_dis, var_or_dvar=\"dnac\", time=\"12-17\",\n",
    "    perc=False, mask_perc_quantile=pf.mask_perc_quantile_default, \n",
    "    mask_period1=None, mask_period2=None, extents=None, cfv_data=None, output=True\n",
    ")"
   ]
  },
  {
   "cell_type": "code",
   "execution_count": null,
   "id": "37bc76fd-f565-4126-81d2-786ab55843be",
   "metadata": {},
   "outputs": [],
   "source": [
    "pf.plot_comp_mdp_clim_values_given_var_or_dvar(\n",
    "    region=region, period1_start=period1_start_dis, period1_end=period1_end_dis, \n",
    "    period2_start=period2_start_dis, period2_end=period2_end_dis, months_subset=months_wet, \n",
    "    glass_source_pref=glass_source_pref_dis, var_or_dvar=\"dnac\", time=\"18-23\",\n",
    "    perc=False, mask_perc_quantile=pf.mask_perc_quantile_default, \n",
    "    mask_period1=None, mask_period2=None, extents=None, cfv_data=None, output=True\n",
    ")"
   ]
  },
  {
   "cell_type": "code",
   "execution_count": null,
   "id": "adf46fb4-36d5-4b4b-bcec-c6918a963285",
   "metadata": {},
   "outputs": [],
   "source": [
    "pf.plot_comp_mdp_clim_values_given_var_or_dvar(\n",
    "    region=region, period1_start=period1_start_dis, period1_end=period1_end_dis, \n",
    "    period2_start=period2_start_dis, period2_end=period2_end_dis, months_subset=months_wet, \n",
    "    glass_source_pref=glass_source_pref_dis, var_or_dvar=\"nac\", time=\"0-5\",\n",
    "    perc=False, mask_perc_quantile=pf.mask_perc_quantile_default, \n",
    "    mask_period1=None, mask_period2=None, extents=None, cfv_data=None, output=True\n",
    ")"
   ]
  },
  {
   "cell_type": "code",
   "execution_count": null,
   "id": "fab98be4-8fbb-495d-a556-20672e887fc2",
   "metadata": {},
   "outputs": [],
   "source": [
    "pf.plot_comp_mdp_clim_values_given_var_or_dvar(\n",
    "    region=region, period1_start=period1_start_dis, period1_end=period1_end_dis, \n",
    "    period2_start=period2_start_dis, period2_end=period2_end_dis, months_subset=months_wet, \n",
    "    glass_source_pref=glass_source_pref_dis, var_or_dvar=\"nac\", time=\"6-11\",\n",
    "    perc=False, mask_perc_quantile=pf.mask_perc_quantile_default, \n",
    "    mask_period1=None, mask_period2=None, extents=None, cfv_data=None, output=True\n",
    ")"
   ]
  },
  {
   "cell_type": "code",
   "execution_count": null,
   "id": "75b06c47-2dd3-4d7c-bb3d-7dea8da75a9b",
   "metadata": {},
   "outputs": [],
   "source": [
    "pf.plot_comp_mdp_clim_values_given_var_or_dvar(\n",
    "    region=region, period1_start=period1_start_dis, period1_end=period1_end_dis, \n",
    "    period2_start=period2_start_dis, period2_end=period2_end_dis, months_subset=months_wet, \n",
    "    glass_source_pref=glass_source_pref_dis, var_or_dvar=\"nac\", time=\"12-17\",\n",
    "    perc=False, mask_perc_quantile=pf.mask_perc_quantile_default, \n",
    "    mask_period1=None, mask_period2=None, extents=None, cfv_data=None, output=True\n",
    ")"
   ]
  },
  {
   "cell_type": "code",
   "execution_count": null,
   "id": "0af37009-7027-40a0-9ced-6f5601ea5e98",
   "metadata": {},
   "outputs": [],
   "source": [
    "pf.plot_comp_mdp_clim_values_given_var_or_dvar(\n",
    "    region=region, period1_start=period1_start_dis, period1_end=period1_end_dis, \n",
    "    period2_start=period2_start_dis, period2_end=period2_end_dis, months_subset=months_wet, \n",
    "    glass_source_pref=glass_source_pref_dis, var_or_dvar=\"nac\", time=\"18-23\",\n",
    "    perc=False, mask_perc_quantile=pf.mask_perc_quantile_default, \n",
    "    mask_period1=None, mask_period2=None, extents=None, cfv_data=None, output=True\n",
    ")"
   ]
  },
  {
   "cell_type": "markdown",
   "id": "fb032f5a-e72c-4992-94f4-abde39440f48",
   "metadata": {
    "jp-MarkdownHeadingCollapsed": true,
    "tags": []
   },
   "source": [
    "### Dissimilar periods (wet season): WSD"
   ]
  },
  {
   "cell_type": "code",
   "execution_count": null,
   "id": "f93d0920-abbc-4731-9fde-ff4f049dd979",
   "metadata": {},
   "outputs": [],
   "source": [
    "pf.plot_comp_wsd_clim(\n",
    "    region=region, period1_start=period1_start_dis, period1_end=period1_end_dis, \n",
    "    period2_start=period2_start_dis, period2_end=period2_end_dis, months_subset=months_wet, \n",
    "    glass_source_pref=glass_source_pref_dis, \n",
    "    perc=False, mask_perc_quantile=pf.mask_perc_quantile_default, \n",
    "    mask_period1=None, mask_period2=None, extents=None, cfv_data=None, output=True\n",
    ")"
   ]
  },
  {
   "cell_type": "markdown",
   "id": "f75d2eae-31f1-4a8a-83af-689deac89e75",
   "metadata": {},
   "source": [
    "## Dissimilar periods (dry season)"
   ]
  },
  {
   "cell_type": "markdown",
   "id": "9217ac65-7f9c-41b8-bede-f388f089fe10",
   "metadata": {
    "jp-MarkdownHeadingCollapsed": true,
    "tags": []
   },
   "source": [
    "### Dissimilar periods (dry season): MDP stats"
   ]
  },
  {
   "cell_type": "code",
   "execution_count": null,
   "id": "5e89e5f8-2dc0-4d7d-a4b8-cdef90e0958b",
   "metadata": {},
   "outputs": [],
   "source": [
    "pf.plot_comp_mdp_clim_stats_given_var_or_dvar(\n",
    "    region=region, period1_start=period1_start_dis, period1_end=period1_end_dis, \n",
    "    period2_start=period2_start_dis, period2_end=period2_end_dis, months_subset=months_dry, \n",
    "    glass_source_pref=glass_source_pref_dis, var_or_dvar=\"wv100\", \n",
    "    perc=False, mask_perc_quantile=pf.mask_perc_quantile_default, \n",
    "    mask_period1=None, mask_period2=None, extents=None, cfv_data=None, output=True\n",
    ")"
   ]
  },
  {
   "cell_type": "code",
   "execution_count": null,
   "id": "31eecc72-2950-4746-9d51-0f278a20126b",
   "metadata": {},
   "outputs": [],
   "source": [
    "pf.plot_comp_mdp_clim_stats_given_var_or_dvar(\n",
    "    region=region, period1_start=period1_start_dis, period1_end=period1_end_dis, \n",
    "    period2_start=period2_start_dis, period2_end=period2_end_dis, months_subset=months_dry, \n",
    "    glass_source_pref=glass_source_pref_dis, var_or_dvar=\"ws100\", \n",
    "    perc=False, mask_perc_quantile=pf.mask_perc_quantile_default, \n",
    "    mask_period1=None, mask_period2=None, extents=None, cfv_data=None, output=True\n",
    ")"
   ]
  },
  {
   "cell_type": "code",
   "execution_count": null,
   "id": "fbc6898b-3b63-435c-944e-6126ca6cf824",
   "metadata": {},
   "outputs": [],
   "source": [
    "pf.plot_comp_mdp_clim_stats_given_var_or_dvar(\n",
    "    region=region, period1_start=period1_start_dis, period1_end=period1_end_dis, \n",
    "    period2_start=period2_start_dis, period2_end=period2_end_dis, months_subset=months_dry, \n",
    "    glass_source_pref=glass_source_pref_dis, var_or_dvar=\"u100\", \n",
    "    perc=False, mask_perc_quantile=pf.mask_perc_quantile_default, \n",
    "    mask_period1=None, mask_period2=None, extents=None, cfv_data=None, output=True\n",
    ")"
   ]
  },
  {
   "cell_type": "code",
   "execution_count": null,
   "id": "e76ad4e5-3dc9-43b8-9026-bafbe2ed2ccb",
   "metadata": {},
   "outputs": [],
   "source": [
    "pf.plot_comp_mdp_clim_stats_given_var_or_dvar(\n",
    "    region=region, period1_start=period1_start_dis, period1_end=period1_end_dis, \n",
    "    period2_start=period2_start_dis, period2_end=period2_end_dis, months_subset=months_dry, \n",
    "    glass_source_pref=glass_source_pref_dis, var_or_dvar=\"v100\", \n",
    "    perc=False, mask_perc_quantile=pf.mask_perc_quantile_default, \n",
    "    mask_period1=None, mask_period2=None, extents=None, cfv_data=None, output=True\n",
    ")"
   ]
  },
  {
   "cell_type": "code",
   "execution_count": null,
   "id": "69009ae3-7b97-4b5f-b21a-b6e38dc228dd",
   "metadata": {},
   "outputs": [],
   "source": [
    "pf.plot_comp_mdp_clim_stats_given_var_or_dvar(\n",
    "    region=region, period1_start=period1_start_dis, period1_end=period1_end_dis, \n",
    "    period2_start=period2_start_dis, period2_end=period2_end_dis, months_subset=months_dry, \n",
    "    glass_source_pref=glass_source_pref_dis, var_or_dvar=\"mslp\", \n",
    "    perc=False, mask_perc_quantile=pf.mask_perc_quantile_default, \n",
    "    mask_period1=None, mask_period2=None, extents=None, cfv_data=None, output=True\n",
    ")"
   ]
  },
  {
   "cell_type": "code",
   "execution_count": null,
   "id": "3044f6db-48d4-4246-9cb4-00c7b98961a2",
   "metadata": {},
   "outputs": [],
   "source": [
    "pf.plot_comp_mdp_clim_stats_given_var_or_dvar(\n",
    "    region=region, period1_start=period1_start_dis, period1_end=period1_end_dis, \n",
    "    period2_start=period2_start_dis, period2_end=period2_end_dis, months_subset=months_dry, \n",
    "    glass_source_pref=glass_source_pref_dis, var_or_dvar=\"t2\", \n",
    "    perc=False, mask_perc_quantile=pf.mask_perc_quantile_default, \n",
    "    mask_period1=None, mask_period2=None, extents=None, cfv_data=None, output=True\n",
    ")"
   ]
  },
  {
   "cell_type": "code",
   "execution_count": null,
   "id": "28cd0ab9-2579-443d-a188-9869a44ca0ed",
   "metadata": {},
   "outputs": [],
   "source": [
    "pf.plot_comp_mdp_clim_stats_given_var_or_dvar(\n",
    "    region=region, period1_start=period1_start_dis, period1_end=period1_end_dis, \n",
    "    period2_start=period2_start_dis, period2_end=period2_end_dis, months_subset=months_dry, \n",
    "    glass_source_pref=glass_source_pref_dis, var_or_dvar=\"nac\", \n",
    "    perc=False, mask_perc_quantile=pf.mask_perc_quantile_default, \n",
    "    mask_period1=None, mask_period2=None, extents=None, cfv_data=None, output=True\n",
    ")"
   ]
  },
  {
   "cell_type": "markdown",
   "id": "43ee8445-2326-4d89-a08e-8137b4df5388",
   "metadata": {
    "jp-MarkdownHeadingCollapsed": true,
    "tags": []
   },
   "source": [
    "### Dissimilar periods (dry season): MDP values"
   ]
  },
  {
   "cell_type": "code",
   "execution_count": null,
   "id": "5195804f-6c65-4416-84dd-e6e63f8000b9",
   "metadata": {},
   "outputs": [],
   "source": [
    "pf.plot_comp_mdp_clim_values_given_var_or_dvar(\n",
    "    region=region, period1_start=period1_start_dis, period1_end=period1_end_dis, \n",
    "    period2_start=period2_start_dis, period2_end=period2_end_dis, months_subset=months_dry, \n",
    "    glass_source_pref=glass_source_pref_dis, var_or_dvar=\"dwv100\", time=\"0-5\",\n",
    "    perc=False, mask_perc_quantile=pf.mask_perc_quantile_default, \n",
    "    mask_period1=None, mask_period2=None, extents=None, cfv_data=None, output=True\n",
    ")"
   ]
  },
  {
   "cell_type": "code",
   "execution_count": null,
   "id": "4cb5bc38-4f2b-480c-942d-97b23e09c87b",
   "metadata": {},
   "outputs": [],
   "source": [
    "pf.plot_comp_mdp_clim_values_given_var_or_dvar(\n",
    "    region=region, period1_start=period1_start_dis, period1_end=period1_end_dis, \n",
    "    period2_start=period2_start_dis, period2_end=period2_end_dis, months_subset=months_dry, \n",
    "    glass_source_pref=glass_source_pref_dis, var_or_dvar=\"dwv100\", time=\"6-11\",\n",
    "    perc=False, mask_perc_quantile=pf.mask_perc_quantile_default, \n",
    "    mask_period1=None, mask_period2=None, extents=None, cfv_data=None, output=True\n",
    ")"
   ]
  },
  {
   "cell_type": "code",
   "execution_count": null,
   "id": "aecc9eac-19b9-4965-acab-b309cd1daca0",
   "metadata": {},
   "outputs": [],
   "source": [
    "pf.plot_comp_mdp_clim_values_given_var_or_dvar(\n",
    "    region=region, period1_start=period1_start_dis, period1_end=period1_end_dis, \n",
    "    period2_start=period2_start_dis, period2_end=period2_end_dis, months_subset=months_dry, \n",
    "    glass_source_pref=glass_source_pref_dis, var_or_dvar=\"dwv100\", time=\"12-17\",\n",
    "    perc=False, mask_perc_quantile=pf.mask_perc_quantile_default, \n",
    "    mask_period1=None, mask_period2=None, extents=None, cfv_data=None, output=True\n",
    ")"
   ]
  },
  {
   "cell_type": "code",
   "execution_count": null,
   "id": "39722591-fcd6-455e-aecf-2e8715764541",
   "metadata": {},
   "outputs": [],
   "source": [
    "pf.plot_comp_mdp_clim_values_given_var_or_dvar(\n",
    "    region=region, period1_start=period1_start_dis, period1_end=period1_end_dis, \n",
    "    period2_start=period2_start_dis, period2_end=period2_end_dis, months_subset=months_dry, \n",
    "    glass_source_pref=glass_source_pref_dis, var_or_dvar=\"dwv100\", time=\"18-23\",\n",
    "    perc=False, mask_perc_quantile=pf.mask_perc_quantile_default, \n",
    "    mask_period1=None, mask_period2=None, extents=None, cfv_data=None, output=True\n",
    ")"
   ]
  },
  {
   "cell_type": "code",
   "execution_count": null,
   "id": "f187d042-3da9-4a2d-8ee9-42c2a715f445",
   "metadata": {},
   "outputs": [],
   "source": [
    "pf.plot_comp_mdp_clim_values_given_var_or_dvar(\n",
    "    region=region, period1_start=period1_start_dis, period1_end=period1_end_dis, \n",
    "    period2_start=period2_start_dis, period2_end=period2_end_dis, months_subset=months_dry, \n",
    "    glass_source_pref=glass_source_pref_dis, var_or_dvar=\"dmslp\", time=\"0-5\",\n",
    "    perc=False, mask_perc_quantile=pf.mask_perc_quantile_default, \n",
    "    mask_period1=None, mask_period2=None, extents=None, cfv_data=None, output=True\n",
    ")"
   ]
  },
  {
   "cell_type": "code",
   "execution_count": null,
   "id": "00618d1a-0de0-443a-88ee-9ff0e66c2ce1",
   "metadata": {},
   "outputs": [],
   "source": [
    "pf.plot_comp_mdp_clim_values_given_var_or_dvar(\n",
    "    region=region, period1_start=period1_start_dis, period1_end=period1_end_dis, \n",
    "    period2_start=period2_start_dis, period2_end=period2_end_dis, months_subset=months_dry, \n",
    "    glass_source_pref=glass_source_pref_dis, var_or_dvar=\"dmslp\", time=\"6-11\",\n",
    "    perc=False, mask_perc_quantile=pf.mask_perc_quantile_default, \n",
    "    mask_period1=None, mask_period2=None, extents=None, cfv_data=None, output=True\n",
    ")"
   ]
  },
  {
   "cell_type": "code",
   "execution_count": null,
   "id": "31534269-c5ec-4213-9340-5b2ca15fc985",
   "metadata": {},
   "outputs": [],
   "source": [
    "pf.plot_comp_mdp_clim_values_given_var_or_dvar(\n",
    "    region=region, period1_start=period1_start_dis, period1_end=period1_end_dis, \n",
    "    period2_start=period2_start_dis, period2_end=period2_end_dis, months_subset=months_dry, \n",
    "    glass_source_pref=glass_source_pref_dis, var_or_dvar=\"dmslp\", time=\"12-17\",\n",
    "    perc=False, mask_perc_quantile=pf.mask_perc_quantile_default, \n",
    "    mask_period1=None, mask_period2=None, extents=None, cfv_data=None, output=True\n",
    ")"
   ]
  },
  {
   "cell_type": "code",
   "execution_count": null,
   "id": "27aaedf8-fe8d-4bb3-b939-df2b134b871f",
   "metadata": {},
   "outputs": [],
   "source": [
    "pf.plot_comp_mdp_clim_values_given_var_or_dvar(\n",
    "    region=region, period1_start=period1_start_dis, period1_end=period1_end_dis, \n",
    "    period2_start=period2_start_dis, period2_end=period2_end_dis, months_subset=months_dry, \n",
    "    glass_source_pref=glass_source_pref_dis, var_or_dvar=\"dmslp\", time=\"18-23\",\n",
    "    perc=False, mask_perc_quantile=pf.mask_perc_quantile_default, \n",
    "    mask_period1=None, mask_period2=None, extents=None, cfv_data=None, output=True\n",
    ")"
   ]
  },
  {
   "cell_type": "code",
   "execution_count": null,
   "id": "b8da9ca7-2cfa-49d6-86b0-ad89dd04fdcc",
   "metadata": {},
   "outputs": [],
   "source": [
    "pf.plot_comp_mdp_clim_values_given_var_or_dvar(\n",
    "    region=region, period1_start=period1_start_dis, period1_end=period1_end_dis, \n",
    "    period2_start=period2_start_dis, period2_end=period2_end_dis, months_subset=months_dry, \n",
    "    glass_source_pref=glass_source_pref_dis, var_or_dvar=\"dt2\", time=\"0-5\",\n",
    "    perc=False, mask_perc_quantile=pf.mask_perc_quantile_default, \n",
    "    mask_period1=None, mask_period2=None, extents=None, cfv_data=None, output=True\n",
    ")"
   ]
  },
  {
   "cell_type": "code",
   "execution_count": null,
   "id": "8a19c9cd-cab7-4eab-b202-bb6c670feccc",
   "metadata": {},
   "outputs": [],
   "source": [
    "pf.plot_comp_mdp_clim_values_given_var_or_dvar(\n",
    "    region=region, period1_start=period1_start_dis, period1_end=period1_end_dis, \n",
    "    period2_start=period2_start_dis, period2_end=period2_end_dis, months_subset=months_dry, \n",
    "    glass_source_pref=glass_source_pref_dis, var_or_dvar=\"dt2\", time=\"6-11\",\n",
    "    perc=False, mask_perc_quantile=pf.mask_perc_quantile_default, \n",
    "    mask_period1=None, mask_period2=None, extents=None, cfv_data=None, output=True\n",
    ")"
   ]
  },
  {
   "cell_type": "code",
   "execution_count": null,
   "id": "1da8c190-e625-4ca2-9ee4-e8d34ea4b6f9",
   "metadata": {},
   "outputs": [],
   "source": [
    "pf.plot_comp_mdp_clim_values_given_var_or_dvar(\n",
    "    region=region, period1_start=period1_start_dis, period1_end=period1_end_dis, \n",
    "    period2_start=period2_start_dis, period2_end=period2_end_dis, months_subset=months_dry, \n",
    "    glass_source_pref=glass_source_pref_dis, var_or_dvar=\"dt2\", time=\"12-17\",\n",
    "    perc=False, mask_perc_quantile=pf.mask_perc_quantile_default, \n",
    "    mask_period1=None, mask_period2=None, extents=None, cfv_data=None, output=True\n",
    ")"
   ]
  },
  {
   "cell_type": "code",
   "execution_count": null,
   "id": "c05f3852-a1cd-4660-948c-e48489147d06",
   "metadata": {},
   "outputs": [],
   "source": [
    "pf.plot_comp_mdp_clim_values_given_var_or_dvar(\n",
    "    region=region, period1_start=period1_start_dis, period1_end=period1_end_dis, \n",
    "    period2_start=period2_start_dis, period2_end=period2_end_dis, months_subset=months_dry, \n",
    "    glass_source_pref=glass_source_pref_dis, var_or_dvar=\"dt2\", time=\"18-23\",\n",
    "    perc=False, mask_perc_quantile=pf.mask_perc_quantile_default, \n",
    "    mask_period1=None, mask_period2=None, extents=None, cfv_data=None, output=True\n",
    ")"
   ]
  },
  {
   "cell_type": "code",
   "execution_count": null,
   "id": "a0ba2bda-0655-4ad0-9288-73ea7f862336",
   "metadata": {},
   "outputs": [],
   "source": [
    "pf.plot_comp_mdp_clim_values_given_var_or_dvar(\n",
    "    region=region, period1_start=period1_start_dis, period1_end=period1_end_dis, \n",
    "    period2_start=period2_start_dis, period2_end=period2_end_dis, months_subset=months_dry, \n",
    "    glass_source_pref=glass_source_pref_dis, var_or_dvar=\"dnac\", time=\"0-5\",\n",
    "    perc=False, mask_perc_quantile=pf.mask_perc_quantile_default, \n",
    "    mask_period1=None, mask_period2=None, extents=None, cfv_data=None, output=True\n",
    ")"
   ]
  },
  {
   "cell_type": "code",
   "execution_count": null,
   "id": "881c61ee-8a17-4073-a8d3-7dfda18ece29",
   "metadata": {},
   "outputs": [],
   "source": [
    "pf.plot_comp_mdp_clim_values_given_var_or_dvar(\n",
    "    region=region, period1_start=period1_start_dis, period1_end=period1_end_dis, \n",
    "    period2_start=period2_start_dis, period2_end=period2_end_dis, months_subset=months_dry, \n",
    "    glass_source_pref=glass_source_pref_dis, var_or_dvar=\"dnac\", time=\"6-11\",\n",
    "    perc=False, mask_perc_quantile=pf.mask_perc_quantile_default, \n",
    "    mask_period1=None, mask_period2=None, extents=None, cfv_data=None, output=True\n",
    ")"
   ]
  },
  {
   "cell_type": "code",
   "execution_count": null,
   "id": "675cf58c-4310-49e5-8ecb-63be7b69cf9f",
   "metadata": {},
   "outputs": [],
   "source": [
    "pf.plot_comp_mdp_clim_values_given_var_or_dvar(\n",
    "    region=region, period1_start=period1_start_dis, period1_end=period1_end_dis, \n",
    "    period2_start=period2_start_dis, period2_end=period2_end_dis, months_subset=months_dry, \n",
    "    glass_source_pref=glass_source_pref_dis, var_or_dvar=\"dnac\", time=\"12-17\",\n",
    "    perc=False, mask_perc_quantile=pf.mask_perc_quantile_default, \n",
    "    mask_period1=None, mask_period2=None, extents=None, cfv_data=None, output=True\n",
    ")"
   ]
  },
  {
   "cell_type": "code",
   "execution_count": null,
   "id": "4fdcfc09-6a46-4a0b-8d43-422543ffba39",
   "metadata": {},
   "outputs": [],
   "source": [
    "pf.plot_comp_mdp_clim_values_given_var_or_dvar(\n",
    "    region=region, period1_start=period1_start_dis, period1_end=period1_end_dis, \n",
    "    period2_start=period2_start_dis, period2_end=period2_end_dis, months_subset=months_dry, \n",
    "    glass_source_pref=glass_source_pref_dis, var_or_dvar=\"dnac\", time=\"18-23\",\n",
    "    perc=False, mask_perc_quantile=pf.mask_perc_quantile_default, \n",
    "    mask_period1=None, mask_period2=None, extents=None, cfv_data=None, output=True\n",
    ")"
   ]
  },
  {
   "cell_type": "code",
   "execution_count": null,
   "id": "2b35e506-73a7-4cf6-b2c8-b89c28a602dc",
   "metadata": {},
   "outputs": [],
   "source": [
    "pf.plot_comp_mdp_clim_values_given_var_or_dvar(\n",
    "    region=region, period1_start=period1_start_dis, period1_end=period1_end_dis, \n",
    "    period2_start=period2_start_dis, period2_end=period2_end_dis, months_subset=months_dry, \n",
    "    glass_source_pref=glass_source_pref_dis, var_or_dvar=\"nac\", time=\"0-5\",\n",
    "    perc=False, mask_perc_quantile=pf.mask_perc_quantile_default, \n",
    "    mask_period1=None, mask_period2=None, extents=None, cfv_data=None, output=True\n",
    ")"
   ]
  },
  {
   "cell_type": "code",
   "execution_count": null,
   "id": "3e042e18-ba7d-45ea-adc5-abf54fae93cd",
   "metadata": {},
   "outputs": [],
   "source": [
    "pf.plot_comp_mdp_clim_values_given_var_or_dvar(\n",
    "    region=region, period1_start=period1_start_dis, period1_end=period1_end_dis, \n",
    "    period2_start=period2_start_dis, period2_end=period2_end_dis, months_subset=months_dry, \n",
    "    glass_source_pref=glass_source_pref_dis, var_or_dvar=\"nac\", time=\"6-11\",\n",
    "    perc=False, mask_perc_quantile=pf.mask_perc_quantile_default, \n",
    "    mask_period1=None, mask_period2=None, extents=None, cfv_data=None, output=True\n",
    ")"
   ]
  },
  {
   "cell_type": "code",
   "execution_count": null,
   "id": "12ce5d9f-33d8-474f-81e4-d295e183e28d",
   "metadata": {},
   "outputs": [],
   "source": [
    "pf.plot_comp_mdp_clim_values_given_var_or_dvar(\n",
    "    region=region, period1_start=period1_start_dis, period1_end=period1_end_dis, \n",
    "    period2_start=period2_start_dis, period2_end=period2_end_dis, months_subset=months_dry, \n",
    "    glass_source_pref=glass_source_pref_dis, var_or_dvar=\"nac\", time=\"12-17\",\n",
    "    perc=False, mask_perc_quantile=pf.mask_perc_quantile_default, \n",
    "    mask_period1=None, mask_period2=None, extents=None, cfv_data=None, output=True\n",
    ")"
   ]
  },
  {
   "cell_type": "code",
   "execution_count": null,
   "id": "a6ded209-9ad2-45fb-aa98-6ef251b619d9",
   "metadata": {},
   "outputs": [],
   "source": [
    "pf.plot_comp_mdp_clim_values_given_var_or_dvar(\n",
    "    region=region, period1_start=period1_start_dis, period1_end=period1_end_dis, \n",
    "    period2_start=period2_start_dis, period2_end=period2_end_dis, months_subset=months_dry, \n",
    "    glass_source_pref=glass_source_pref_dis, var_or_dvar=\"nac\", time=\"18-23\",\n",
    "    perc=False, mask_perc_quantile=pf.mask_perc_quantile_default, \n",
    "    mask_period1=None, mask_period2=None, extents=None, cfv_data=None, output=True\n",
    ")"
   ]
  },
  {
   "cell_type": "markdown",
   "id": "c150e5e5-8ac9-4033-a6c0-c898c3ad99c7",
   "metadata": {
    "jp-MarkdownHeadingCollapsed": true,
    "tags": []
   },
   "source": [
    "### Dissimilar periods (dry season): WSD"
   ]
  },
  {
   "cell_type": "code",
   "execution_count": null,
   "id": "700763e6-99b6-4e80-9e72-c74eb1a77794",
   "metadata": {},
   "outputs": [],
   "source": [
    "pf.plot_comp_wsd_clim(\n",
    "    region=region, period1_start=period1_start_dis, period1_end=period1_end_dis, \n",
    "    period2_start=period2_start_dis, period2_end=period2_end_dis, months_subset=months_dry, \n",
    "    glass_source_pref=glass_source_pref_dis, \n",
    "    perc=False, mask_perc_quantile=pf.mask_perc_quantile_default, \n",
    "    mask_period1=None, mask_period2=None, extents=None, cfv_data=None, output=True\n",
    ")"
   ]
  },
  {
   "cell_type": "code",
   "execution_count": null,
   "id": "126ef23e-f75e-493d-9552-8f65a6919b86",
   "metadata": {},
   "outputs": [],
   "source": []
  },
  {
   "cell_type": "markdown",
   "id": "91462c15-5bfc-4325-8040-59a198749a54",
   "metadata": {},
   "source": [
    "# Overview for dissimilar months"
   ]
  },
  {
   "cell_type": "markdown",
   "id": "b58c1b89-7427-45a0-8d07-fb3d9d47f6d7",
   "metadata": {},
   "source": [
    "## Dissimilar months"
   ]
  },
  {
   "cell_type": "markdown",
   "id": "820e8cb6-1b83-4035-8442-79215ae806b4",
   "metadata": {
    "jp-MarkdownHeadingCollapsed": true,
    "tags": []
   },
   "source": [
    "### Dissimilar months: MDP stats "
   ]
  },
  {
   "cell_type": "code",
   "execution_count": null,
   "id": "5926d4ca-5f09-4051-b8d0-e78db80d21a3",
   "metadata": {},
   "outputs": [],
   "source": [
    "pf.plot_comp_mdp_clim_stats_given_var_or_dvar(\n",
    "    region=region, period1_start=month1_dis, period1_end=month1_dis, \n",
    "    period2_start=month2_dis, period2_end=month2_dis, months_subset=\"all\", \n",
    "    glass_source_pref=glass_source_pref_dis_month, var_or_dvar=\"wv100\", \n",
    "    perc=False, mask_perc_quantile=pf.mask_perc_quantile_default, \n",
    "    mask_period1=None, mask_period2=None, extents=None, cfv_data=None, output=True\n",
    ")"
   ]
  },
  {
   "cell_type": "code",
   "execution_count": null,
   "id": "41fc0c3b-f580-4580-bc10-3c714ab10421",
   "metadata": {},
   "outputs": [],
   "source": [
    "pf.plot_comp_mdp_clim_stats_given_var_or_dvar(\n",
    "    region=region, period1_start=month1_dis, period1_end=month1_dis, \n",
    "    period2_start=month2_dis, period2_end=month2_dis, months_subset=\"all\", \n",
    "    glass_source_pref=glass_source_pref_dis_month, var_or_dvar=\"ws100\", \n",
    "    perc=False, mask_perc_quantile=pf.mask_perc_quantile_default, \n",
    "    mask_period1=None, mask_period2=None, extents=None, cfv_data=None, output=True\n",
    ")"
   ]
  },
  {
   "cell_type": "code",
   "execution_count": null,
   "id": "2857739f-c273-4f8e-a983-c18e116b42d8",
   "metadata": {},
   "outputs": [],
   "source": [
    "pf.plot_comp_mdp_clim_stats_given_var_or_dvar(\n",
    "    region=region, period1_start=month1_dis, period1_end=month1_dis, \n",
    "    period2_start=month2_dis, period2_end=month2_dis, months_subset=\"all\", \n",
    "    glass_source_pref=glass_source_pref_dis_month, var_or_dvar=\"u100\", \n",
    "    perc=False, mask_perc_quantile=pf.mask_perc_quantile_default, \n",
    "    mask_period1=None, mask_period2=None, extents=None, cfv_data=None, output=True\n",
    ")"
   ]
  },
  {
   "cell_type": "code",
   "execution_count": null,
   "id": "b548d19d-3426-49a1-9d84-5e3a66ff5ece",
   "metadata": {},
   "outputs": [],
   "source": [
    "pf.plot_comp_mdp_clim_stats_given_var_or_dvar(\n",
    "    region=region, period1_start=month1_dis, period1_end=month1_dis, \n",
    "    period2_start=month2_dis, period2_end=month2_dis, months_subset=\"all\", \n",
    "    glass_source_pref=glass_source_pref_dis_month, var_or_dvar=\"v100\", \n",
    "    perc=False, mask_perc_quantile=pf.mask_perc_quantile_default, \n",
    "    mask_period1=None, mask_period2=None, extents=None, cfv_data=None, output=True\n",
    ")"
   ]
  },
  {
   "cell_type": "code",
   "execution_count": null,
   "id": "aa15a876-8b5c-4432-abeb-09a678fd4539",
   "metadata": {},
   "outputs": [],
   "source": [
    "pf.plot_comp_mdp_clim_stats_given_var_or_dvar(\n",
    "    region=region, period1_start=month1_dis, period1_end=month1_dis, \n",
    "    period2_start=month2_dis, period2_end=month2_dis, months_subset=\"all\", \n",
    "    glass_source_pref=glass_source_pref_dis_month, var_or_dvar=\"mslp\", \n",
    "    perc=False, mask_perc_quantile=pf.mask_perc_quantile_default, \n",
    "    mask_period1=None, mask_period2=None, extents=None, cfv_data=None, output=True\n",
    ")"
   ]
  },
  {
   "cell_type": "code",
   "execution_count": null,
   "id": "41dced74-c62e-4906-b765-f42817cd6a31",
   "metadata": {},
   "outputs": [],
   "source": [
    "pf.plot_comp_mdp_clim_stats_given_var_or_dvar(\n",
    "    region=region, period1_start=month1_dis, period1_end=month1_dis, \n",
    "    period2_start=month2_dis, period2_end=month2_dis, months_subset=\"all\", \n",
    "    glass_source_pref=glass_source_pref_dis_month, var_or_dvar=\"t2\", \n",
    "    perc=False, mask_perc_quantile=pf.mask_perc_quantile_default, \n",
    "    mask_period1=None, mask_period2=None, extents=None, cfv_data=None, output=True\n",
    ")"
   ]
  },
  {
   "cell_type": "code",
   "execution_count": null,
   "id": "701745bc-3b56-4ea4-b844-e26e4ceb595c",
   "metadata": {},
   "outputs": [],
   "source": [
    "pf.plot_comp_mdp_clim_stats_given_var_or_dvar(\n",
    "    region=region, period1_start=month1_dis, period1_end=month1_dis, \n",
    "    period2_start=month2_dis, period2_end=month2_dis, months_subset=\"all\", \n",
    "    glass_source_pref=glass_source_pref_dis_month, var_or_dvar=\"nac\", \n",
    "    perc=False, mask_perc_quantile=pf.mask_perc_quantile_default, \n",
    "    mask_period1=None, mask_period2=None, extents=None, cfv_data=None, output=True\n",
    ")"
   ]
  },
  {
   "cell_type": "markdown",
   "id": "4c6a7fc7-865e-4d5c-805d-457c42b186cb",
   "metadata": {
    "jp-MarkdownHeadingCollapsed": true,
    "tags": []
   },
   "source": [
    "### Dissimilar months: MDP values"
   ]
  },
  {
   "cell_type": "code",
   "execution_count": null,
   "id": "5fa62ab4-dc9b-44c5-9dd2-acdbfd7437d5",
   "metadata": {},
   "outputs": [],
   "source": [
    "pf.plot_comp_mdp_clim_values_given_var_or_dvar(\n",
    "    region=region, period1_start=month1_dis, period1_end=month1_dis, \n",
    "    period2_start=month2_dis, period2_end=month2_dis, months_subset=\"all\", \n",
    "    glass_source_pref=glass_source_pref_dis_month, var_or_dvar=\"dwv100\", time=\"0-5\",\n",
    "    perc=False, mask_perc_quantile=pf.mask_perc_quantile_default, \n",
    "    mask_period1=None, mask_period2=None, extents=None, cfv_data=None, output=True\n",
    ")"
   ]
  },
  {
   "cell_type": "code",
   "execution_count": null,
   "id": "1180addb-3da2-41d3-8f29-d5bb1f7c99dd",
   "metadata": {},
   "outputs": [],
   "source": [
    "pf.plot_comp_mdp_clim_values_given_var_or_dvar(\n",
    "    region=region, period1_start=month1_dis, period1_end=month1_dis, \n",
    "    period2_start=month2_dis, period2_end=month2_dis, months_subset=\"all\", \n",
    "    glass_source_pref=glass_source_pref_dis_month, var_or_dvar=\"dwv100\", time=\"6-11\",\n",
    "    perc=False, mask_perc_quantile=pf.mask_perc_quantile_default, \n",
    "    mask_period1=None, mask_period2=None, extents=None, cfv_data=None, output=True\n",
    ")"
   ]
  },
  {
   "cell_type": "code",
   "execution_count": null,
   "id": "178f57e4-bc3c-424b-984c-6168985a5760",
   "metadata": {},
   "outputs": [],
   "source": [
    "pf.plot_comp_mdp_clim_values_given_var_or_dvar(\n",
    "    region=region, period1_start=month1_dis, period1_end=month1_dis, \n",
    "    period2_start=month2_dis, period2_end=month2_dis, months_subset=\"all\", \n",
    "    glass_source_pref=glass_source_pref_dis_month, var_or_dvar=\"dwv100\", time=\"12-17\",\n",
    "    perc=False, mask_perc_quantile=pf.mask_perc_quantile_default, \n",
    "    mask_period1=None, mask_period2=None, extents=None, cfv_data=None, output=True\n",
    ")"
   ]
  },
  {
   "cell_type": "code",
   "execution_count": null,
   "id": "2522e6ac-41b0-4a1d-b2b7-6df6592603b8",
   "metadata": {},
   "outputs": [],
   "source": [
    "pf.plot_comp_mdp_clim_values_given_var_or_dvar(\n",
    "    region=region, period1_start=month1_dis, period1_end=month1_dis, \n",
    "    period2_start=month2_dis, period2_end=month2_dis, months_subset=\"all\", \n",
    "    glass_source_pref=glass_source_pref_dis_month, var_or_dvar=\"dwv100\", time=\"18-23\",\n",
    "    perc=False, mask_perc_quantile=pf.mask_perc_quantile_default, \n",
    "    mask_period1=None, mask_period2=None, extents=None, cfv_data=None, output=True\n",
    ")"
   ]
  },
  {
   "cell_type": "code",
   "execution_count": null,
   "id": "cfc7fbf0-808a-45aa-85fb-feb43742d2ab",
   "metadata": {},
   "outputs": [],
   "source": [
    "pf.plot_comp_mdp_clim_values_given_var_or_dvar(\n",
    "    region=region, period1_start=month1_dis, period1_end=month1_dis, \n",
    "    period2_start=month2_dis, period2_end=month2_dis, months_subset=\"all\", \n",
    "    glass_source_pref=glass_source_pref_dis_month, var_or_dvar=\"dmslp\", time=\"0-5\",\n",
    "    perc=False, mask_perc_quantile=pf.mask_perc_quantile_default, \n",
    "    mask_period1=None, mask_period2=None, extents=None, cfv_data=None, output=True\n",
    ")"
   ]
  },
  {
   "cell_type": "code",
   "execution_count": null,
   "id": "2cc58dbf-5a19-42c1-8cab-faaaccb2ed74",
   "metadata": {},
   "outputs": [],
   "source": [
    "pf.plot_comp_mdp_clim_values_given_var_or_dvar(\n",
    "    region=region, period1_start=month1_dis, period1_end=month1_dis, \n",
    "    period2_start=month2_dis, period2_end=month2_dis, months_subset=\"all\", \n",
    "    glass_source_pref=glass_source_pref_dis_month, var_or_dvar=\"dmslp\", time=\"6-11\",\n",
    "    perc=False, mask_perc_quantile=pf.mask_perc_quantile_default, \n",
    "    mask_period1=None, mask_period2=None, extents=None, cfv_data=None, output=True\n",
    ")"
   ]
  },
  {
   "cell_type": "code",
   "execution_count": null,
   "id": "da3aaf6b-bcf9-42a1-a6f1-782dc35896c4",
   "metadata": {},
   "outputs": [],
   "source": [
    "pf.plot_comp_mdp_clim_values_given_var_or_dvar(\n",
    "    region=region, period1_start=month1_dis, period1_end=month1_dis, \n",
    "    period2_start=month2_dis, period2_end=month2_dis, months_subset=\"all\", \n",
    "    glass_source_pref=glass_source_pref_dis_month, var_or_dvar=\"dmslp\", time=\"12-17\",\n",
    "    perc=False, mask_perc_quantile=pf.mask_perc_quantile_default, \n",
    "    mask_period1=None, mask_period2=None, extents=None, cfv_data=None, output=True\n",
    ")"
   ]
  },
  {
   "cell_type": "code",
   "execution_count": null,
   "id": "540db75e-efb4-4482-a02c-442847dd6ba6",
   "metadata": {},
   "outputs": [],
   "source": [
    "pf.plot_comp_mdp_clim_values_given_var_or_dvar(\n",
    "    region=region, period1_start=month1_dis, period1_end=month1_dis, \n",
    "    period2_start=month2_dis, period2_end=month2_dis, months_subset=\"all\", \n",
    "    glass_source_pref=glass_source_pref_dis_month, var_or_dvar=\"dmslp\", time=\"18-23\",\n",
    "    perc=False, mask_perc_quantile=pf.mask_perc_quantile_default, \n",
    "    mask_period1=None, mask_period2=None, extents=None, cfv_data=None, output=True\n",
    ")"
   ]
  },
  {
   "cell_type": "code",
   "execution_count": null,
   "id": "2203d633-6f7c-4a59-864f-1e8340965a70",
   "metadata": {},
   "outputs": [],
   "source": [
    "pf.plot_comp_mdp_clim_values_given_var_or_dvar(\n",
    "    region=region, period1_start=month1_dis, period1_end=month1_dis, \n",
    "    period2_start=month2_dis, period2_end=month2_dis, months_subset=\"all\", \n",
    "    glass_source_pref=glass_source_pref_dis_month, var_or_dvar=\"dt2\", time=\"0-5\",\n",
    "    perc=False, mask_perc_quantile=pf.mask_perc_quantile_default, \n",
    "    mask_period1=None, mask_period2=None, extents=None, cfv_data=None, output=True\n",
    ")"
   ]
  },
  {
   "cell_type": "code",
   "execution_count": null,
   "id": "bccc07cc-f3e0-46cc-8568-beddb412d058",
   "metadata": {},
   "outputs": [],
   "source": [
    "pf.plot_comp_mdp_clim_values_given_var_or_dvar(\n",
    "    region=region, period1_start=month1_dis, period1_end=month1_dis, \n",
    "    period2_start=month2_dis, period2_end=month2_dis, months_subset=\"all\", \n",
    "    glass_source_pref=glass_source_pref_dis_month, var_or_dvar=\"dt2\", time=\"6-11\",\n",
    "    perc=False, mask_perc_quantile=pf.mask_perc_quantile_default, \n",
    "    mask_period1=None, mask_period2=None, extents=None, cfv_data=None, output=True\n",
    ")"
   ]
  },
  {
   "cell_type": "code",
   "execution_count": null,
   "id": "3f45e5e9-76d2-428c-a08b-da35d6e12285",
   "metadata": {},
   "outputs": [],
   "source": [
    "pf.plot_comp_mdp_clim_values_given_var_or_dvar(\n",
    "    region=region, period1_start=month1_dis, period1_end=month1_dis, \n",
    "    period2_start=month2_dis, period2_end=month2_dis, months_subset=\"all\", \n",
    "    glass_source_pref=glass_source_pref_dis_month, var_or_dvar=\"dt2\", time=\"12-17\",\n",
    "    perc=False, mask_perc_quantile=pf.mask_perc_quantile_default, \n",
    "    mask_period1=None, mask_period2=None, extents=None, cfv_data=None, output=True\n",
    ")"
   ]
  },
  {
   "cell_type": "code",
   "execution_count": null,
   "id": "ad32e409-7eb0-4e87-8a50-851d59241a7e",
   "metadata": {},
   "outputs": [],
   "source": [
    "pf.plot_comp_mdp_clim_values_given_var_or_dvar(\n",
    "    region=region, period1_start=month1_dis, period1_end=month1_dis, \n",
    "    period2_start=month2_dis, period2_end=month2_dis, months_subset=\"all\", \n",
    "    glass_source_pref=glass_source_pref_dis_month, var_or_dvar=\"dt2\", time=\"18-23\",\n",
    "    perc=False, mask_perc_quantile=pf.mask_perc_quantile_default, \n",
    "    mask_period1=None, mask_period2=None, extents=None, cfv_data=None, output=True\n",
    ")"
   ]
  },
  {
   "cell_type": "code",
   "execution_count": null,
   "id": "1d81b50c-38d7-40db-847c-e877b84784a9",
   "metadata": {},
   "outputs": [],
   "source": [
    "pf.plot_comp_mdp_clim_values_given_var_or_dvar(\n",
    "    region=region, period1_start=month1_dis, period1_end=month1_dis, \n",
    "    period2_start=month2_dis, period2_end=month2_dis, months_subset=\"all\", \n",
    "    glass_source_pref=glass_source_pref_dis_month, var_or_dvar=\"dnac\", time=\"0-5\",\n",
    "    perc=False, mask_perc_quantile=pf.mask_perc_quantile_default, \n",
    "    mask_period1=None, mask_period2=None, extents=None, cfv_data=None, output=True\n",
    ")"
   ]
  },
  {
   "cell_type": "code",
   "execution_count": null,
   "id": "ef07f21f-98d3-4fc7-ae6f-ff2ede8a280d",
   "metadata": {},
   "outputs": [],
   "source": [
    "pf.plot_comp_mdp_clim_values_given_var_or_dvar(\n",
    "    region=region, period1_start=month1_dis, period1_end=month1_dis, \n",
    "    period2_start=month2_dis, period2_end=month2_dis, months_subset=\"all\", \n",
    "    glass_source_pref=glass_source_pref_dis_month, var_or_dvar=\"dnac\", time=\"6-11\",\n",
    "    perc=False, mask_perc_quantile=pf.mask_perc_quantile_default, \n",
    "    mask_period1=None, mask_period2=None, extents=None, cfv_data=None, output=True\n",
    ")"
   ]
  },
  {
   "cell_type": "code",
   "execution_count": null,
   "id": "1985c280-2fb9-491a-b628-3a30a5698d78",
   "metadata": {},
   "outputs": [],
   "source": [
    "pf.plot_comp_mdp_clim_values_given_var_or_dvar(\n",
    "    region=region, period1_start=month1_dis, period1_end=month1_dis, \n",
    "    period2_start=month2_dis, period2_end=month2_dis, months_subset=\"all\", \n",
    "    glass_source_pref=glass_source_pref_dis_month, var_or_dvar=\"dnac\", time=\"12-17\",\n",
    "    perc=False, mask_perc_quantile=pf.mask_perc_quantile_default, \n",
    "    mask_period1=None, mask_period2=None, extents=None, cfv_data=None, output=True\n",
    ")"
   ]
  },
  {
   "cell_type": "code",
   "execution_count": null,
   "id": "9ba9f898-dea9-446e-a0de-2f77a4ad7798",
   "metadata": {},
   "outputs": [],
   "source": [
    "pf.plot_comp_mdp_clim_values_given_var_or_dvar(\n",
    "    region=region, period1_start=month1_dis, period1_end=month1_dis, \n",
    "    period2_start=month2_dis, period2_end=month2_dis, months_subset=\"all\", \n",
    "    glass_source_pref=glass_source_pref_dis_month, var_or_dvar=\"dnac\", time=\"18-23\",\n",
    "    perc=False, mask_perc_quantile=pf.mask_perc_quantile_default, \n",
    "    mask_period1=None, mask_period2=None, extents=None, cfv_data=None, output=True\n",
    ")"
   ]
  },
  {
   "cell_type": "code",
   "execution_count": null,
   "id": "d7c536f4-0019-4d0d-81dc-758c3e419dab",
   "metadata": {},
   "outputs": [],
   "source": [
    "pf.plot_comp_mdp_clim_values_given_var_or_dvar(\n",
    "    region=region, period1_start=month1_dis, period1_end=month1_dis, \n",
    "    period2_start=month2_dis, period2_end=month2_dis, months_subset=\"all\", \n",
    "    glass_source_pref=glass_source_pref_dis_month, var_or_dvar=\"nac\", time=\"0-5\",\n",
    "    perc=False, mask_perc_quantile=pf.mask_perc_quantile_default, \n",
    "    mask_period1=None, mask_period2=None, extents=None, cfv_data=None, output=True\n",
    ")"
   ]
  },
  {
   "cell_type": "code",
   "execution_count": null,
   "id": "154d9970-1616-4317-8104-dd2e94f17b27",
   "metadata": {},
   "outputs": [],
   "source": [
    "pf.plot_comp_mdp_clim_values_given_var_or_dvar(\n",
    "    region=region, period1_start=month1_dis, period1_end=month1_dis, \n",
    "    period2_start=month2_dis, period2_end=month2_dis, months_subset=\"all\", \n",
    "    glass_source_pref=glass_source_pref_dis_month, var_or_dvar=\"nac\", time=\"6-11\",\n",
    "    perc=False, mask_perc_quantile=pf.mask_perc_quantile_default, \n",
    "    mask_period1=None, mask_period2=None, extents=None, cfv_data=None, output=True\n",
    ")"
   ]
  },
  {
   "cell_type": "code",
   "execution_count": null,
   "id": "9ac0bc12-dbc6-4515-8750-ab52b1adfc58",
   "metadata": {},
   "outputs": [],
   "source": [
    "pf.plot_comp_mdp_clim_values_given_var_or_dvar(\n",
    "    region=region, period1_start=month1_dis, period1_end=month1_dis, \n",
    "    period2_start=month2_dis, period2_end=month2_dis, months_subset=\"all\", \n",
    "    glass_source_pref=glass_source_pref_dis_month, var_or_dvar=\"nac\", time=\"12-17\",\n",
    "    perc=False, mask_perc_quantile=pf.mask_perc_quantile_default, \n",
    "    mask_period1=None, mask_period2=None, extents=None, cfv_data=None, output=True\n",
    ")"
   ]
  },
  {
   "cell_type": "code",
   "execution_count": null,
   "id": "dc4be2f5-1749-452d-887e-d9b73ded4b74",
   "metadata": {},
   "outputs": [],
   "source": [
    "pf.plot_comp_mdp_clim_values_given_var_or_dvar(\n",
    "    region=region, period1_start=month1_dis, period1_end=month1_dis, \n",
    "    period2_start=month2_dis, period2_end=month2_dis, months_subset=\"all\", \n",
    "    glass_source_pref=glass_source_pref_dis_month, var_or_dvar=\"nac\", time=\"18-23\",\n",
    "    perc=False, mask_perc_quantile=pf.mask_perc_quantile_default, \n",
    "    mask_period1=None, mask_period2=None, extents=None, cfv_data=None, output=True\n",
    ")"
   ]
  },
  {
   "cell_type": "markdown",
   "id": "dd13cde0-13d6-40e0-85fa-e3030fef79c2",
   "metadata": {
    "jp-MarkdownHeadingCollapsed": true,
    "tags": []
   },
   "source": [
    "### Dissimilar months: WSD"
   ]
  },
  {
   "cell_type": "code",
   "execution_count": null,
   "id": "e4c3ecb4-f4f6-41d9-afc1-46b079d73dd3",
   "metadata": {},
   "outputs": [],
   "source": [
    "pf.plot_comp_wsd_clim(\n",
    "    region=region, period1_start=month1_dis, period1_end=month1_dis, \n",
    "    period2_start=month2_dis, period2_end=month2_dis, months_subset=\"all\", \n",
    "    glass_source_pref=glass_source_pref_dis_month, \n",
    "    perc=False, mask_perc_quantile=pf.mask_perc_quantile_default, \n",
    "    mask_period1=None, mask_period2=None, extents=None, cfv_data=None, output=True\n",
    ")"
   ]
  },
  {
   "cell_type": "code",
   "execution_count": null,
   "id": "bb511646-6006-4039-9b6a-14461f45b3d3",
   "metadata": {},
   "outputs": [],
   "source": []
  },
  {
   "cell_type": "markdown",
   "id": "ddc9c58d-b488-4e39-bea1-d1988f06029f",
   "metadata": {
    "tags": []
   },
   "source": [
    "# Selected analysis and insights"
   ]
  },
  {
   "cell_type": "code",
   "execution_count": null,
   "id": "9b5369e0-ffe1-49de-9e4d-d7ecd6545c61",
   "metadata": {},
   "outputs": [],
   "source": []
  },
  {
   "cell_type": "markdown",
   "id": "7463d3af-7e00-4aa7-8eae-7199ef0a010c",
   "metadata": {},
   "source": [
    "# Scrap"
   ]
  },
  {
   "cell_type": "markdown",
   "id": "afa43f03-f07f-4eae-8397-22e561211ca5",
   "metadata": {},
   "source": [
    "## WA settings"
   ]
  },
  {
   "cell_type": "code",
   "execution_count": null,
   "id": "7759f964-8e1c-4deb-a93f-3b9c748878b2",
   "metadata": {},
   "outputs": [],
   "source": [
    "# General analysis settings\n",
    "region = \"wa\"\n",
    "year_start = 1983\n",
    "year_end = 2019\n",
    "window_size = 5\n",
    "months_wet = \"mam\"\n",
    "months_dry = \"djf\"\n",
    "\n",
    "# Periods with similar background atmospheric oscillations\n",
    "period1_mid_sim = \"Dec-1999\"\n",
    "period1_start_sim = \"Jun-1997\"\n",
    "period1_end_sim = \"May-2002\"\n",
    "period2_mid_sim = \"Mar-2013\"\n",
    "period2_start_sim = \"Sep-2010\"\n",
    "period2_end_sim = \"Aug-2015\"\n",
    "if (datetime.strptime(period1_start_sim, \"%b-%Y\") >= \n",
    "    datetime.strptime(cf.modis_earliest, \"%b-%Y\")):\n",
    "    glass_source_pref_sim = \"modis\"\n",
    "else:\n",
    "    glass_source_pref_sim = \"avhrr\"\n",
    "\n",
    "# Periods with dissimilar background atmospheric oscillations\n",
    "period1_mid_dis = \"Sep-1990\"\n",
    "period1_start_dis = \"Mar-1988\"\n",
    "period1_end_dis = \"Feb-1993\"\n",
    "period2_mid_dis = \"Jul-2016\"\n",
    "period2_start_dis = \"Jan-2014\"\n",
    "period2_end_dis = \"Dec-2018\"\n",
    "if (datetime.strptime(period1_start_dis, \"%b-%Y\") >= \n",
    "    datetime.strptime(cf.modis_earliest, \"%b-%Y\")):\n",
    "    glass_source_pref_dis = \"modis\"\n",
    "else:\n",
    "    glass_source_pref_dis = \"avhrr\"\n",
    "\n",
    "# Single months with very dissimilar background atmospheric oscillations\n",
    "month1_dis = \"Nov-1996\"\n",
    "month2_dis = \"Sep-2015\"\n",
    "if (datetime.strptime(month1_dis, \"%b-%Y\") >= \n",
    "    datetime.strptime(cf.modis_earliest, \"%b-%Y\")):\n",
    "    glass_source_pref_dis_month = \"modis\"\n",
    "else:\n",
    "    glass_source_pref_dis_month = \"avhrr\""
   ]
  },
  {
   "cell_type": "markdown",
   "id": "bef60b81-daad-4873-ab6d-07fdb4c0d6dc",
   "metadata": {},
   "source": [
    "## CA settings"
   ]
  },
  {
   "cell_type": "code",
   "execution_count": null,
   "id": "762741ee-6f5a-4328-ad45-ec1f4232a182",
   "metadata": {},
   "outputs": [],
   "source": [
    "# General analysis settings\n",
    "region = \"ca\"\n",
    "year_start = 1983\n",
    "year_end = 2019\n",
    "window_size = 5\n",
    "months_wet = [5, 6, 7, 8, 9, 10]\n",
    "months_dry = [11, 12, 1, 2, 3, 4]\n",
    "\n",
    "# Periods with similar background atmospheric oscillations\n",
    "period1_mid_sim = \"Jul-1983\"\n",
    "period1_start_sim = \"Jan-1981\"\n",
    "period1_end_sim = \"Dec-1985\"\n",
    "period2_mid_sim = \"Jul-1994\"\n",
    "period2_start_sim = \"Jan-1992\"\n",
    "period2_end_sim = \"Dec-1996\"\n",
    "if (datetime.strptime(period1_start_sim, \"%b-%Y\") >= \n",
    "    datetime.strptime(cf.modis_earliest, \"%b-%Y\")):\n",
    "    glass_source_pref_sim = \"modis\"\n",
    "else:\n",
    "    glass_source_pref_sim = \"avhrr\"\n",
    "    \n",
    "# Periods with dissimilar background atmospheric oscillations\n",
    "period1_mid_dis = \"Mar-1985\"\n",
    "period1_start_dis = \"Sep-1982\"\n",
    "period1_end_dis = \"Aug-1987\"\n",
    "period2_mid_dis = \"Jul-2010\"\n",
    "period2_start_dis = \"Jan-2008\"\n",
    "period2_end_dis = \"Dec-2012\"\n",
    "if (datetime.strptime(period1_start_dis, \"%b-%Y\") >= \n",
    "    datetime.strptime(cf.modis_earliest, \"%b-%Y\")):\n",
    "    glass_source_pref_dis = \"modis\"\n",
    "else:\n",
    "    glass_source_pref_dis = \"avhrr\"\n",
    "\n",
    "# Single months with very dissimilar background atmospheric oscillations\n",
    "month1_dis = \"Nov-1996\"\n",
    "month2_dis = \"Sep-2015\"\n",
    "if (datetime.strptime(month1_dis, \"%b-%Y\") >= \n",
    "    datetime.strptime(cf.modis_earliest, \"%b-%Y\")):\n",
    "    glass_source_pref_dis_month = \"modis\"\n",
    "else:\n",
    "    glass_source_pref_dis_month = \"avhrr\""
   ]
  },
  {
   "cell_type": "markdown",
   "id": "f47e3984-b445-4688-8d0e-573fbf6b1f92",
   "metadata": {},
   "source": [
    "## SA settings"
   ]
  },
  {
   "cell_type": "code",
   "execution_count": null,
   "id": "144ad8a8-49e7-4a1d-8967-b5dc40da65cf",
   "metadata": {},
   "outputs": [],
   "source": [
    "# General analysis settings\n",
    "region = \"sa\"\n",
    "year_start = 1983\n",
    "year_end = 2019\n",
    "window_size = 5\n",
    "months_wet = [1, 2, 3, 4, 5, 6]\n",
    "months_dry = [7, 8, 9, 10, 11, 12]\n",
    "\n",
    "# Periods with similar background atmospheric oscillations\n",
    "period1_mid_sim = \"Jul-2005\"\n",
    "period1_start_sim = \"Jan-2003\"\n",
    "period1_end_sim = \"Dec-2007\"\n",
    "period2_mid_sim = \"Jul-2018\"\n",
    "period2_start_sim = \"Jan-2016\"\n",
    "period2_end_sim = \"Dec-2020\"\n",
    "if (datetime.strptime(period1_start_sim, \"%b-%Y\") >= \n",
    "    datetime.strptime(cf.modis_earliest, \"%b-%Y\")):\n",
    "    glass_source_pref_sim = \"modis\"\n",
    "else:\n",
    "    glass_source_pref_sim = \"avhrr\"\n",
    "    \n",
    "# Periods with dissimilar background atmospheric oscillations\n",
    "period1_mid_dis = \"Mar-1985\"\n",
    "period1_start_dis = \"Sep-1982\"\n",
    "period1_end_dis = \"Aug-1987\"\n",
    "period2_mid_dis = \"Jul-2010\"\n",
    "period2_start_dis = \"Jan-2008\"\n",
    "period2_end_dis = \"Dec-2012\"\n",
    "if (datetime.strptime(period1_start_dis, \"%b-%Y\") >= \n",
    "    datetime.strptime(cf.modis_earliest, \"%b-%Y\")):\n",
    "    glass_source_pref_dis = \"modis\"\n",
    "else:\n",
    "    glass_source_pref_dis = \"avhrr\"\n",
    "\n",
    "# Single months with very dissimilar background atmospheric oscillations\n",
    "month1_dis = \"Nov-1996\"\n",
    "month2_dis = \"Sep-2015\"\n",
    "if (datetime.strptime(month1_dis, \"%b-%Y\") >= \n",
    "    datetime.strptime(cf.modis_earliest, \"%b-%Y\")):\n",
    "    glass_source_pref_dis_month = \"modis\"\n",
    "else:\n",
    "    glass_source_pref_dis_month = \"avhrr\""
   ]
  },
  {
   "cell_type": "code",
   "execution_count": null,
   "id": "8748860a-31cf-481d-a4a9-85a44c15b8ab",
   "metadata": {},
   "outputs": [],
   "source": []
  },
  {
   "cell_type": "code",
   "execution_count": null,
   "id": "f52b6e55-02f8-4cbf-aaa6-988ac2b1a4d5",
   "metadata": {},
   "outputs": [],
   "source": [
    "# Create all possible diff data files for periods with similar background \n",
    "# atmospheric oscillations (year round, wet season only, and dry season only)\n",
    "cf.create_all_possible_calc_data_files(\"wa\", \"Jan-2001\", \"Dec-2021\", [1])\n",
    "cf.create_all_possible_calc_data_files(\"wa\", \"Jan-2001\", \"Dec-2021\", [2])\n",
    "cf.create_all_possible_calc_data_files(\"wa\", \"Jan-2001\", \"Dec-2021\", [3])\n",
    "cf.create_all_possible_calc_data_files(\"wa\", \"Jan-2001\", \"Dec-2021\", [4])\n",
    "cf.create_all_possible_calc_data_files(\"wa\", \"Jan-2001\", \"Dec-2021\", [5])\n",
    "cf.create_all_possible_calc_data_files(\"wa\", \"Jan-2001\", \"Dec-2021\", [6])\n",
    "cf.create_all_possible_calc_data_files(\"wa\", \"Jan-2001\", \"Dec-2021\", [7])\n",
    "cf.create_all_possible_calc_data_files(\"wa\", \"Jan-2001\", \"Dec-2021\", [8])\n",
    "cf.create_all_possible_calc_data_files(\"wa\", \"Jan-2001\", \"Dec-2021\", [9])\n",
    "cf.create_all_possible_calc_data_files(\"wa\", \"Jan-2001\", \"Dec-2021\", [10])\n",
    "cf.create_all_possible_calc_data_files(\"wa\", \"Jan-2001\", \"Dec-2021\", [11])\n",
    "cf.create_all_possible_calc_data_files(\"wa\", \"Jan-2001\", \"Dec-2021\", [12])"
   ]
  },
  {
   "cell_type": "code",
   "execution_count": null,
   "id": "e668a3e2-60d4-4064-83fd-3b747eea295a",
   "metadata": {},
   "outputs": [],
   "source": [
    "import numpy as np\n",
    "import xarray as xr\n",
    "import geopandas as gpd\n",
    "import matplotlib.pyplot as plt\n",
    "import matplotlib.colors as colors\n",
    "import matplotlib.dates as mdates\n",
    "import cartopy.crs as ccrs\n",
    "import cartopy.feature as cfeature\n",
    "import cmocean\n",
    "import inspect\n",
    "import logging\n",
    "import copy\n",
    "import importlib\n",
    "import math\n",
    "from glob import glob\n",
    "from pathlib import Path\n",
    "from datetime import datetime\n",
    "from dateutil.relativedelta import relativedelta\n",
    "from textwrap import wrap"
   ]
  },
  {
   "cell_type": "code",
   "execution_count": null,
   "id": "d48f51c0-ebef-4846-8e2b-94cc947a1203",
   "metadata": {},
   "outputs": [],
   "source": [
    "var_or_dvar = \"slhf\"\n",
    "month1 = 5\n",
    "month2 = 10\n",
    "\n",
    "da1 = xr.open_dataset(f\"../data_processed/era5_mdp_clim_stats_given_var_or_dvar/cfv1n_calc_wa_Jan-2001_Dec-2021_{month1}_era5-mdp_{var_or_dvar}_stats.nc\")[\"mean\"]\n",
    "da2 = xr.open_dataset(f\"../data_processed/era5_mdp_clim_stats_given_var_or_dvar/cfv1n_calc_wa_Jan-2001_Dec-2021_{month2}_era5-mdp_{var_or_dvar}_stats.nc\")[\"mean\"]\n",
    "fig, axes = plt.subplots(1, 3, figsize=(20, 5), \n",
    "                             subplot_kw = {\"projection\": ccrs.PlateCarree()}\n",
    "                        )\n",
    "da1.plot(ax=axes[0])\n",
    "da2.plot(ax=axes[1])\n",
    "(da2-da1).plot(ax=axes[2])\n",
    "\n",
    "path_sbfwa = cf.get_path_for_sbfwa_def()\n",
    "if Path(path_sbfwa).exists() == False:\n",
    "    cf.proc_sbfwa_def()\n",
    "gdf_sbfwa = gpd.read_file(path_sbfwa)\n",
    "\n",
    "for i in range(0, 2+1):\n",
    "    ax=axes[i]\n",
    "    ax.set_extent(extents=cf.regions[\"wa\"][\"extents\"], crs=ccrs.PlateCarree())\n",
    "    ax.add_geometries(gdf_sbfwa.geometry, crs=ccrs.PlateCarree(), \n",
    "                      facecolor='none', edgecolor='k')\n",
    "    ax.add_feature(cfeature.COASTLINE)\n",
    "    grid = ax.gridlines(draw_labels=True, x_inline=False, y_inline=False)\n",
    "    grid.top_labels = False\n",
    "    grid.right_labels = False\n",
    "\n",
    "fig.tight_layout()"
   ]
  },
  {
   "cell_type": "code",
   "execution_count": null,
   "id": "69168786-e081-460a-9108-39857d45680d",
   "metadata": {},
   "outputs": [],
   "source": []
  },
  {
   "cell_type": "code",
   "execution_count": null,
   "id": "218f10ac-f93f-4535-be22-b8a7296dae9c",
   "metadata": {},
   "outputs": [],
   "source": [
    "pf.plot_comp_mdp_clim_stats_given_var_or_dvar(\n",
    "    region=region, period1_start=period1_start_sim, period1_end=period1_end_sim, \n",
    "    period2_start=period2_start_sim, period2_end=period2_end_sim, \n",
    "    period1_months=\"all\", period2_months=\"all\", \n",
    "    glass_source_pref=glass_source_pref_sim, var_or_dvar=\"wv100\", \n",
    "    perc=False, mask_perc_quantile=pf.mask_perc_quantile_default, \n",
    "    mask_period1=None, mask_period2=None, extents=None, cfv_data=None, output=True\n",
    ")"
   ]
  },
  {
   "cell_type": "code",
   "execution_count": null,
   "id": "db8aa76c-6592-4334-b385-eafe4b579cdf",
   "metadata": {},
   "outputs": [],
   "source": [
    "pf.plot_comp_mdp_clim_values_given_var_or_dvar(\n",
    "    region=region, period1_start=period1_start_sim, period1_end=period1_end_sim, \n",
    "    period2_start=period2_start_sim, period2_end=period2_end_sim, period1_months=\"all\", period2_months=\"all\",\n",
    "    glass_source_pref=glass_source_pref_sim, var_or_dvar=\"dwv100\", time=\"0-5\",\n",
    "    perc=False, mask_perc_quantile=pf.mask_perc_quantile_default, \n",
    "    mask_period1=None, mask_period2=None, extents=None, cfv_data=None, output=True\n",
    ")"
   ]
  },
  {
   "cell_type": "code",
   "execution_count": null,
   "id": "2cd887e1-9188-4bda-96c5-730355f6677b",
   "metadata": {},
   "outputs": [],
   "source": [
    "pf.plot_comp_mdp_clim_values_given_hour(\n",
    "    region=region, period1_start=period1_start_sim, period1_end=period1_end_sim, \n",
    "    period2_start=period2_start_sim, period2_end=period2_end_sim, period1_months=\"all\", period2_months=\"all\",\n",
    "    glass_source_pref=glass_source_pref_sim, hour=10, var_or_dvar_layer=\"cld\", var_or_dvar_type=\"dvars\",\n",
    "    perc=False, mask_perc_quantile=pf.mask_perc_quantile_default, \n",
    "    mask_period1=None, mask_period2=None, extents=None, cfv_data=None, output=True\n",
    ")"
   ]
  },
  {
   "cell_type": "code",
   "execution_count": null,
   "id": "2a976661-633f-48a6-8326-d526899375aa",
   "metadata": {},
   "outputs": [],
   "source": [
    "pf.plot_comp_wsd_clim(\n",
    "    region=region, period1_start=period1_start_sim, period1_end=period1_end_sim, \n",
    "    period2_start=period2_start_sim, period2_end=period2_end_sim, period1_months=\"all\", period2_months=\"all\",\n",
    "    glass_source_pref=glass_source_pref_sim, \n",
    "    perc=False, mask_perc_quantile=pf.mask_perc_quantile_default, \n",
    "    mask_period1=None, mask_period2=None, extents=None, cfv_data=None, output=True\n",
    ")"
   ]
  },
  {
   "cell_type": "code",
   "execution_count": null,
   "id": "655e6176-d67c-40a2-94fc-395aeeaa71cd",
   "metadata": {},
   "outputs": [],
   "source": [
    "pf.plot_comp_wsd_clim(\n",
    "    region=\"wa\", period1_start=\"Jan-2001\", period1_end=\"Dec-2021\", \n",
    "    period2_start=\"Jan-2001\", period2_end=\"Dec-2021\", period1_months=\"djf\", period2_months=\"mam\",\n",
    "    glass_source_pref=\"modis\", \n",
    "    perc=False, mask_perc_quantile=pf.mask_perc_quantile_default, \n",
    "    mask_period1=None, mask_period2=None, extents=None, cfv_data=None, output=True\n",
    ")"
   ]
  },
  {
   "cell_type": "code",
   "execution_count": null,
   "id": "25859b6a-bfd9-489e-8d2b-0d386ec5d652",
   "metadata": {},
   "outputs": [],
   "source": [
    "pf.plot_comp_mdp_clim_values_given_hour(\n",
    "    region=\"wa\", period1_start=\"Jan-2001\", period1_end=\"Dec-2021\", \n",
    "    period2_start=\"Jan-2001\", period2_end=\"Dec-2021\", period1_months=[11,3,4,5,6,7], period2_months=[8,9,10],\n",
    "    glass_source_pref=\"modis\", hour=12, var_or_dvar_layer=\"atm\", var_or_dvar_type=\"vars\",\n",
    "    perc=False, mask_perc_quantile=pf.mask_perc_quantile_default, \n",
    "    mask_period1=None, mask_period2=None, extents=None, cfv_data=None, output=True\n",
    ")"
   ]
  },
  {
   "cell_type": "code",
   "execution_count": null,
   "id": "9184999f-a9a9-4779-915a-8d3ccbb3ffe1",
   "metadata": {},
   "outputs": [],
   "source": []
  },
  {
   "cell_type": "code",
   "execution_count": null,
   "id": "9d3b8df1-2e73-418a-b217-f553ee0a9718",
   "metadata": {},
   "outputs": [],
   "source": []
  }
 ],
 "metadata": {
  "kernelspec": {
   "display_name": "Python 3 (ipykernel)",
   "language": "python",
   "name": "python3"
  },
  "language_info": {
   "codemirror_mode": {
    "name": "ipython",
    "version": 3
   },
   "file_extension": ".py",
   "mimetype": "text/x-python",
   "name": "python",
   "nbconvert_exporter": "python",
   "pygments_lexer": "ipython3",
   "version": "3.10.4"
  }
 },
 "nbformat": 4,
 "nbformat_minor": 5
}
