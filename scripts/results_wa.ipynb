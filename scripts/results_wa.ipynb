{
 "cells": [
  {
   "cell_type": "code",
   "execution_count": null,
   "id": "898677e6-0eeb-4dd9-b357-624cf561b400",
   "metadata": {},
   "outputs": [],
   "source": [
    "# The following code requires up to 30 GB of RAM over 2 hours if using 4 CPUs"
   ]
  },
  {
   "cell_type": "code",
   "execution_count": null,
   "id": "65d428b8-385f-4551-a4f9-f3e47db9143c",
   "metadata": {},
   "outputs": [],
   "source": [
    "# Import libraries\n",
    "import importlib\n",
    "from glob import glob"
   ]
  },
  {
   "cell_type": "code",
   "execution_count": null,
   "id": "d329ff48-0e82-4665-8f77-e5c31a44df97",
   "metadata": {},
   "outputs": [],
   "source": [
    "# Choose calc_funcs_ver to use in plotting scripts.\n",
    "cfv = \"latest\"\n",
    "\n",
    "assert (isinstance(cfv, str) & (len(cfv) == 5) & (cfv[:3] == \"cfv\") & \n",
    "        cfv[3].isnumeric() & cfv[4].isalpha() & cfv[4].islower()) | (cfv == \"latest\"), \\\n",
    "    (\"cfv must be 'latest' or of form 'cfvXY' where X is a single digit number \" +\n",
    "     \"and Y is a lowercase alphabet character. eg. cfv1n\")\n",
    "\n",
    "if cfv == \"latest\":\n",
    "    calc_funcs_scripts = glob(\"calc_funcs_*.py\")\n",
    "    calc_funcs_scripts.sort()\n",
    "    calc_funcs_module = calc_funcs_scripts[-1][:-3]\n",
    "    \n",
    "else:\n",
    "    calc_funcs_module = \"calc_funcs_\" + cfv[2:]\n",
    "    \n",
    "cf = importlib.import_module(calc_funcs_module)\n",
    "\n",
    "print(f\"Using: {calc_funcs_module}\")"
   ]
  },
  {
   "cell_type": "code",
   "execution_count": null,
   "id": "c357f502-e2c6-4fe0-9498-e2c61bcd0f7e",
   "metadata": {},
   "outputs": [],
   "source": [
    "# Choose plot_funcs_ver to use.\n",
    "pfv = \"latest\"\n",
    "\n",
    "assert (isinstance(pfv, str) & (len(pfv) == 5) & (pfv[:3] == \"pfv\") & \n",
    "        pfv[3].isnumeric() & pfv[4].isalpha() & pfv[4].islower()) | (pfv == \"latest\"), \\\n",
    "    (\"pfv must be 'latest' or of form 'pfvXY' where X is a single digit number \" +\n",
    "     \"and Y is a lowercase alphabet character. eg. pfv1e\")\n",
    "\n",
    "if pfv == \"latest\":\n",
    "    plot_funcs_scripts = glob(\"plot_funcs_*.py\")\n",
    "    plot_funcs_scripts.sort()\n",
    "    plot_funcs_module = plot_funcs_scripts[-1][:-3]\n",
    "    \n",
    "else:\n",
    "    plot_funcs_module = \"plot_funcs_\" + pfv[2:]\n",
    "    \n",
    "pf = importlib.import_module(plot_funcs_module)\n",
    "\n",
    "print(f\"Using: {plot_funcs_module}\")"
   ]
  },
  {
   "cell_type": "code",
   "execution_count": null,
   "id": "7e63b55d-acce-4e35-8961-34c0516b0c19",
   "metadata": {},
   "outputs": [],
   "source": [
    "# Create glass rolling avg files to identify years with significant LAI change\n",
    "cf.calc_glass_rolling_avg_of_annual_diff(\"wa\", 1983, 2019, \"all\", 5, \"avhrr\")\n",
    "cf.calc_glass_rolling_avg_of_annual_diff(\"wa\", 1983, 2019, \"all\", 5, \"modis\")"
   ]
  },
  {
   "cell_type": "code",
   "execution_count": null,
   "id": "1ea814ad-a2a7-499a-8971-00d00defde7d",
   "metadata": {},
   "outputs": [],
   "source": [
    "# Create all possible diff data files for selected periods\n",
    "# Do this for year round, wet season only, and dry season only\n",
    "cf.create_all_possible_diff_data_files(\"wa\", \"Jan-1994\", \"Dec-1998\", \"Jan-2004\", \"Dec-2008\", \"all\")\n",
    "cf.create_all_possible_diff_data_files(\"wa\", \"Jan-1994\", \"Dec-1998\", \"Jan-2004\", \"Dec-2008\", \"mam\")\n",
    "cf.create_all_possible_diff_data_files(\"wa\", \"Jan-1994\", \"Dec-1998\", \"Jan-2004\", \"Dec-2008\", \"djf\")"
   ]
  },
  {
   "cell_type": "code",
   "execution_count": null,
   "id": "00f4c30b-0cd5-47c9-ac4d-5c375f25f13a",
   "metadata": {},
   "outputs": [],
   "source": [
    "# Create all possible diff data files for selected periods for rabbit-proof fence\n",
    "# Do this for year round, wet season only, and dry season only\n",
    "cf.create_all_possible_diff_data_files(\"wa\", \"Jan-2019\", \"Dec-2019\", \"Jan-2021\", \"Dec-2021\", \"all\")\n",
    "cf.create_all_possible_diff_data_files(\"wa\", \"Jan-2019\", \"Dec-2019\", \"Jan-2021\", \"Dec-2021\", \"mam\")\n",
    "cf.create_all_possible_diff_data_files(\"wa\", \"Jan-2019\", \"Dec-2019\", \"Jan-2021\", \"Dec-2021\", \"djf\")"
   ]
  },
  {
   "cell_type": "code",
   "execution_count": null,
   "id": "98acf437-f3b4-41bd-ac78-404f3baa9960",
   "metadata": {},
   "outputs": [],
   "source": [
    "# Plot the glass rolling avg files to identify years with significant LAI change using AVHRR data\n",
    "pf.create_glass_rolling_plot(\"wa\", 1983, 2019, \"all\", 5, \"mlai\", glass_source_pref=\"avhrr\", output=True)"
   ]
  },
  {
   "cell_type": "code",
   "execution_count": null,
   "id": "d37088ac-099d-4eee-950d-31a97e5d268c",
   "metadata": {},
   "outputs": [],
   "source": [
    "# Plot the glass rolling avg files to identify years with significant LAI change using MODIS data\n",
    "pf.create_glass_rolling_plot(\"wa\", 1983, 2019, \"all\", 5, \"mlai\", glass_source_pref=\"modis\", output=True)"
   ]
  },
  {
   "cell_type": "code",
   "execution_count": null,
   "id": "8ae58c1f-8859-4153-84a4-de0848664ecc",
   "metadata": {},
   "outputs": [],
   "source": [
    "# Plot the land surface elevation\n",
    "pf.create_orog_static_plot(\"lse\", \"wa\", output=True)"
   ]
  },
  {
   "cell_type": "code",
   "execution_count": null,
   "id": "16fc9442-533a-4f43-a0da-409512e97634",
   "metadata": {},
   "outputs": [],
   "source": [
    "# Plot the slope of sub-gridscale orography\n",
    "pf.create_orog_static_plot(\"ssgo\", \"wa\", output=True)"
   ]
  },
  {
   "cell_type": "code",
   "execution_count": null,
   "id": "2725af32-d92b-49a0-ad0c-7c5587f31017",
   "metadata": {},
   "outputs": [],
   "source": []
  },
  {
   "cell_type": "code",
   "execution_count": null,
   "id": "112f7c9f-0f28-43a9-a5eb-3293e4893ffc",
   "metadata": {},
   "outputs": [],
   "source": []
  },
  {
   "cell_type": "code",
   "execution_count": null,
   "id": "1e740162-c3c9-4bc5-93d4-6624dd642ec3",
   "metadata": {},
   "outputs": [],
   "source": []
  },
  {
   "cell_type": "code",
   "execution_count": null,
   "id": "265aeb4c-1b15-45f1-babe-91543efdcae4",
   "metadata": {},
   "outputs": [],
   "source": []
  },
  {
   "cell_type": "code",
   "execution_count": null,
   "id": "41b571e3-0c67-450e-91ad-9fea951d002b",
   "metadata": {},
   "outputs": [],
   "source": []
  },
  {
   "cell_type": "code",
   "execution_count": null,
   "id": "ef2a6c6e-ebf9-4902-804f-14504231c2e0",
   "metadata": {},
   "outputs": [],
   "source": []
  },
  {
   "cell_type": "code",
   "execution_count": null,
   "id": "cb249ff9-c8ef-411f-9209-ecf74a8a8dd6",
   "metadata": {},
   "outputs": [],
   "source": []
  },
  {
   "cell_type": "markdown",
   "id": "71d641c4-7097-4be7-9347-94a6019be275",
   "metadata": {},
   "source": [
    "# Comparison 1\n",
    "\n",
    "- period1 = Jan-1994 to Dec-1998\n",
    "- period2 = Jan-2004 to Dec-2008\n",
    "- extents = [113, 123, -35, -30]\n",
    "- tz = UTC +8\n",
    "- glass_data_source = AVHRR"
   ]
  },
  {
   "cell_type": "markdown",
   "id": "4787dfdf-9336-4575-9598-0898be8dd493",
   "metadata": {},
   "source": [
    "## Comparison 1, year round (all months)"
   ]
  },
  {
   "cell_type": "code",
   "execution_count": null,
   "id": "24a54701-50b5-40cc-bdfd-b650821a5640",
   "metadata": {},
   "outputs": [],
   "source": [
    "%%time\n",
    "pf.create_all_possible_comp_plot_files(\n",
    "    region=\"wa\", period1_start=\"Jan-1994\", period1_end=\"Dec-1998\", \n",
    "    period2_start=\"Jan-2004\", period2_end=\"Dec-2008\", months_subset=\"all\", \n",
    "    glass_source_pref=\"avhrr\", perc=False, mask_perc_quantile=pf.mask_perc_quantile_default, \n",
    "    mask_period1=None, mask_period2=None, extents=None, cfv_data=None\n",
    ")"
   ]
  },
  {
   "cell_type": "markdown",
   "id": "727b7d7d-6acb-43c3-abbf-e45e6ad43457",
   "metadata": {},
   "source": [
    "### Comparison 1, year round (all months), MDP climatology stats"
   ]
  },
  {
   "cell_type": "code",
   "execution_count": null,
   "id": "40ad33ca-12c7-4cf6-bef9-6bc2e00bb3e8",
   "metadata": {},
   "outputs": [],
   "source": [
    "pf.plot_comp_mdp_clim_stats_given_var_or_dvar(\n",
    "    region=\"wa\", period1_start=\"Jan-1994\", period1_end=\"Dec-1998\", \n",
    "    period2_start=\"Jan-2004\", period2_end=\"Dec-2008\", months_subset=\"all\", \n",
    "    glass_source_pref=\"avhrr\", var_or_dvar=\"mslp\", perc=False, \n",
    "    mask_perc_quantile=10, mask_period1=None, \n",
    "    mask_period2=None, extents=None, cfv_data=None, output=True\n",
    ")"
   ]
  },
  {
   "cell_type": "code",
   "execution_count": null,
   "id": "c92630b3-7300-47ac-8b73-cfddad1e734c",
   "metadata": {},
   "outputs": [],
   "source": [
    "pf.plot_comp_mdp_clim_stats_given_var_or_dvar(\n",
    "    region=\"wa\", period1_start=\"Jan-1994\", period1_end=\"Dec-1998\", \n",
    "    period2_start=\"Jan-2004\", period2_end=\"Dec-2008\", months_subset=\"all\", \n",
    "    glass_source_pref=\"avhrr\", var_or_dvar=\"nac\", perc=False, \n",
    "    mask_perc_quantile=20, mask_period1=None, \n",
    "    mask_period2=None, extents=None, cfv_data=None, output=True\n",
    ")"
   ]
  },
  {
   "cell_type": "code",
   "execution_count": null,
   "id": "39c9ff98-28d3-4558-9027-2c04d3211f63",
   "metadata": {},
   "outputs": [],
   "source": [
    "pf.plot_comp_mdp_clim_stats_given_var_or_dvar(\n",
    "    region=\"wa\", period1_start=\"Jan-1994\", period1_end=\"Dec-1998\", \n",
    "    period2_start=\"Jan-2004\", period2_end=\"Dec-2008\", months_subset=\"all\", \n",
    "    glass_source_pref=\"avhrr\", var_or_dvar=\"u100\", perc=False, \n",
    "    mask_perc_quantile=20, mask_period1=None, \n",
    "    mask_period2=None, extents=None, cfv_data=None, output=True\n",
    ")"
   ]
  },
  {
   "cell_type": "code",
   "execution_count": null,
   "id": "ab64f6d0-ca99-4dcd-8eeb-935207908002",
   "metadata": {},
   "outputs": [],
   "source": [
    "pf.plot_comp_mdp_clim_stats_given_var_or_dvar(\n",
    "    region=\"wa\", period1_start=\"Jan-1994\", period1_end=\"Dec-1998\", \n",
    "    period2_start=\"Jan-2004\", period2_end=\"Dec-2008\", months_subset=\"all\", \n",
    "    glass_source_pref=\"avhrr\", var_or_dvar=\"v100\", perc=False, \n",
    "    mask_perc_quantile=20, mask_period1=None, \n",
    "    mask_period2=None, extents=None, cfv_data=None, output=True\n",
    ")"
   ]
  },
  {
   "cell_type": "code",
   "execution_count": null,
   "id": "0877f844-a901-4274-9ac8-78762c0a8c88",
   "metadata": {},
   "outputs": [],
   "source": [
    "pf.plot_comp_mdp_clim_stats_given_var_or_dvar(\n",
    "    region=\"wa\", period1_start=\"Jan-1994\", period1_end=\"Dec-1998\", \n",
    "    period2_start=\"Jan-2004\", period2_end=\"Dec-2008\", months_subset=\"all\", \n",
    "    glass_source_pref=\"avhrr\", var_or_dvar=\"t2\", perc=False, \n",
    "    mask_perc_quantile=20, mask_period1=None, \n",
    "    mask_period2=None, extents=None, cfv_data=None, output=True\n",
    ")"
   ]
  },
  {
   "cell_type": "code",
   "execution_count": null,
   "id": "98eaa7de-62f5-4f65-be64-50d5a737128b",
   "metadata": {},
   "outputs": [],
   "source": [
    "pf.plot_comp_mdp_clim_stats_given_var_or_dvar(\n",
    "    region=\"wa\", period1_start=\"Jan-1994\", period1_end=\"Dec-1998\", \n",
    "    period2_start=\"Jan-2004\", period2_end=\"Dec-2008\", months_subset=\"all\", \n",
    "    glass_source_pref=\"avhrr\", var_or_dvar=\"ws100\", perc=False, \n",
    "    mask_perc_quantile=10, mask_period1=None, \n",
    "    mask_period2=None, extents=None, cfv_data=None, output=True\n",
    ")"
   ]
  },
  {
   "cell_type": "code",
   "execution_count": null,
   "id": "fc7a9107-8f83-4ee1-890d-f142beab4ca4",
   "metadata": {},
   "outputs": [],
   "source": [
    "pf.plot_comp_mdp_clim_stats_given_var_or_dvar(\n",
    "    region=\"wa\", period1_start=\"Jan-1994\", period1_end=\"Dec-1998\", \n",
    "    period2_start=\"Jan-2004\", period2_end=\"Dec-2008\", months_subset=\"all\", \n",
    "    glass_source_pref=\"avhrr\", var_or_dvar=\"wv100\", perc=False, \n",
    "    mask_perc_quantile=10, mask_period1=None, \n",
    "    mask_period2=None, extents=None, cfv_data=None, output=True\n",
    ")"
   ]
  },
  {
   "cell_type": "code",
   "execution_count": null,
   "id": "6a6f3031-2239-47d8-bad2-63b1fb9ce8b0",
   "metadata": {},
   "outputs": [],
   "source": [
    "pf.plot_comp_mdp_clim_stats_given_var_or_dvar(\n",
    "    region=\"wa\", period1_start=\"Jan-1994\", period1_end=\"Dec-1998\", \n",
    "    period2_start=\"Jan-2004\", period2_end=\"Dec-2008\", months_subset=\"all\", \n",
    "    glass_source_pref=\"avhrr\", var_or_dvar=\"slhf\", perc=False, \n",
    "    mask_perc_quantile=10, mask_period1=None, \n",
    "    mask_period2=None, extents=None, cfv_data=None, output=True\n",
    ")"
   ]
  },
  {
   "cell_type": "code",
   "execution_count": null,
   "id": "5898bc0f-7a45-44ad-8d7f-b61944987efc",
   "metadata": {},
   "outputs": [],
   "source": [
    "pf.plot_comp_mdp_clim_stats_given_var_or_dvar(\n",
    "    region=\"wa\", period1_start=\"Jan-1994\", period1_end=\"Dec-1998\", \n",
    "    period2_start=\"Jan-2004\", period2_end=\"Dec-2008\", months_subset=\"all\", \n",
    "    glass_source_pref=\"avhrr\", var_or_dvar=\"sshf\", perc=False, \n",
    "    mask_perc_quantile=10, mask_period1=None, \n",
    "    mask_period2=None, extents=None, cfv_data=None, output=True\n",
    ")"
   ]
  },
  {
   "cell_type": "code",
   "execution_count": null,
   "id": "db6bf80e-1e87-4902-8af1-940504c33a21",
   "metadata": {},
   "outputs": [],
   "source": [
    "pf.plot_comp_mdp_clim_stats_given_var_or_dvar(\n",
    "    region=\"wa\", period1_start=\"Jan-1994\", period1_end=\"Dec-1998\", \n",
    "    period2_start=\"Jan-2004\", period2_end=\"Dec-2008\", months_subset=\"all\", \n",
    "    glass_source_pref=\"avhrr\", var_or_dvar=\"nse\", perc=False, \n",
    "    mask_perc_quantile=10, mask_period1=None, \n",
    "    mask_period2=None, extents=None, cfv_data=None, output=True\n",
    ")"
   ]
  },
  {
   "cell_type": "code",
   "execution_count": null,
   "id": "ffe58252-0b27-4f9a-9378-53bf820837cd",
   "metadata": {},
   "outputs": [],
   "source": [
    "pf.plot_comp_mdp_clim_stats_given_var_or_dvar(\n",
    "    region=\"wa\", period1_start=\"Jan-1994\", period1_end=\"Dec-1998\", \n",
    "    period2_start=\"Jan-2004\", period2_end=\"Dec-2008\", months_subset=\"all\", \n",
    "    glass_source_pref=\"avhrr\", var_or_dvar=\"vidmf\", perc=False, \n",
    "    mask_perc_quantile=10, mask_period1=None, \n",
    "    mask_period2=None, extents=None, cfv_data=None, output=True\n",
    ")"
   ]
  },
  {
   "cell_type": "code",
   "execution_count": null,
   "id": "82879a6f-0331-4e2e-9109-a76da49f5aca",
   "metadata": {},
   "outputs": [],
   "source": [
    "pf.plot_comp_mdp_clim_stats_given_var_or_dvar(\n",
    "    region=\"wa\", period1_start=\"Jan-1994\", period1_end=\"Dec-1998\", \n",
    "    period2_start=\"Jan-2004\", period2_end=\"Dec-2008\", months_subset=\"all\", \n",
    "    glass_source_pref=\"avhrr\", var_or_dvar=\"viec\", perc=False, \n",
    "    mask_perc_quantile=10, mask_period1=None, \n",
    "    mask_period2=None, extents=None, cfv_data=None, output=True\n",
    ")"
   ]
  },
  {
   "cell_type": "code",
   "execution_count": null,
   "id": "131b3dec-8c69-4b0a-8ab5-544f3b4cc46e",
   "metadata": {},
   "outputs": [],
   "source": [
    "pf.plot_comp_mdp_clim_stats_given_var_or_dvar(\n",
    "    region=\"wa\", period1_start=\"Jan-1994\", period1_end=\"Dec-1998\", \n",
    "    period2_start=\"Jan-2004\", period2_end=\"Dec-2008\", months_subset=\"all\", \n",
    "    glass_source_pref=\"avhrr\", var_or_dvar=\"vipile\", perc=False, \n",
    "    mask_perc_quantile=10, mask_period1=None, \n",
    "    mask_period2=None, extents=None, cfv_data=None, output=True\n",
    ")"
   ]
  },
  {
   "cell_type": "code",
   "execution_count": null,
   "id": "a71ecbb0-eb90-4e35-92b2-e7d289cc84a0",
   "metadata": {},
   "outputs": [],
   "source": [
    "pf.plot_comp_mdp_clim_stats_given_var_or_dvar(\n",
    "    region=\"wa\", period1_start=\"Jan-1994\", period1_end=\"Dec-1998\", \n",
    "    period2_start=\"Jan-2004\", period2_end=\"Dec-2008\", months_subset=\"all\", \n",
    "    glass_source_pref=\"avhrr\", var_or_dvar=\"vike\", perc=False, \n",
    "    mask_perc_quantile=10, mask_period1=None, \n",
    "    mask_period2=None, extents=None, cfv_data=None, output=True\n",
    ")"
   ]
  },
  {
   "cell_type": "code",
   "execution_count": null,
   "id": "7a5afb37-0428-4011-9e80-b07b9f4d5700",
   "metadata": {},
   "outputs": [],
   "source": [
    "pf.plot_comp_mdp_clim_stats_given_var_or_dvar(\n",
    "    region=\"wa\", period1_start=\"Jan-1994\", period1_end=\"Dec-1998\", \n",
    "    period2_start=\"Jan-2004\", period2_end=\"Dec-2008\", months_subset=\"all\", \n",
    "    glass_source_pref=\"avhrr\", var_or_dvar=\"tcclw\", perc=False, \n",
    "    mask_perc_quantile=10, mask_period1=None, \n",
    "    mask_period2=None, extents=None, cfv_data=None, output=True\n",
    ")"
   ]
  },
  {
   "cell_type": "code",
   "execution_count": null,
   "id": "e9b179d0-c5a6-4f1a-a38a-c54d6501106e",
   "metadata": {},
   "outputs": [],
   "source": [
    "pf.plot_comp_mdp_clim_stats_given_var_or_dvar(\n",
    "    region=\"wa\", period1_start=\"Jan-1994\", period1_end=\"Dec-1998\", \n",
    "    period2_start=\"Jan-2004\", period2_end=\"Dec-2008\", months_subset=\"all\", \n",
    "    glass_source_pref=\"avhrr\", var_or_dvar=\"tcwv\", perc=False, \n",
    "    mask_perc_quantile=10, mask_period1=None, \n",
    "    mask_period2=None, extents=None, cfv_data=None, output=True\n",
    ")"
   ]
  },
  {
   "cell_type": "code",
   "execution_count": null,
   "id": "1fb1c747-b6d8-4bd1-9e55-37fa49e18854",
   "metadata": {},
   "outputs": [],
   "source": [
    "pf.plot_comp_mdp_clim_stats_given_var_or_dvar(\n",
    "    region=\"wa\", period1_start=\"Jan-1994\", period1_end=\"Dec-1998\", \n",
    "    period2_start=\"Jan-2004\", period2_end=\"Dec-2008\", months_subset=\"all\", \n",
    "    glass_source_pref=\"avhrr\", var_or_dvar=\"blh\", perc=False, \n",
    "    mask_perc_quantile=10, mask_period1=None, \n",
    "    mask_period2=None, extents=None, cfv_data=None, output=True\n",
    ")"
   ]
  },
  {
   "cell_type": "code",
   "execution_count": null,
   "id": "b96620e2-b00f-40f7-86e3-1bd953a6e246",
   "metadata": {},
   "outputs": [],
   "source": [
    "pf.plot_comp_mdp_clim_stats_given_var_or_dvar(\n",
    "    region=\"wa\", period1_start=\"Jan-1994\", period1_end=\"Dec-1998\", \n",
    "    period2_start=\"Jan-2004\", period2_end=\"Dec-2008\", months_subset=\"all\", \n",
    "    glass_source_pref=\"avhrr\", var_or_dvar=\"fa\", perc=False, \n",
    "    mask_perc_quantile=10, mask_period1=None, \n",
    "    mask_period2=None, extents=None, cfv_data=None, output=True\n",
    ")"
   ]
  },
  {
   "cell_type": "code",
   "execution_count": null,
   "id": "26650d44-859b-4599-a40d-ecfbc0cd249f",
   "metadata": {},
   "outputs": [],
   "source": [
    "pf.plot_comp_mdp_clim_stats_given_var_or_dvar(\n",
    "    region=\"wa\", period1_start=\"Jan-1994\", period1_end=\"Dec-1998\", \n",
    "    period2_start=\"Jan-2004\", period2_end=\"Dec-2008\", months_subset=\"all\", \n",
    "    glass_source_pref=\"avhrr\", var_or_dvar=\"cbh\", perc=False, \n",
    "    mask_perc_quantile=10, mask_period1=None, \n",
    "    mask_period2=None, extents=None, cfv_data=None, output=True\n",
    ")"
   ]
  },
  {
   "cell_type": "code",
   "execution_count": null,
   "id": "439537fd-e59c-4d46-a7db-7235cd3767f4",
   "metadata": {},
   "outputs": [],
   "source": [
    "pf.plot_comp_mdp_clim_stats_given_var_or_dvar(\n",
    "    region=\"wa\", period1_start=\"Jan-1994\", period1_end=\"Dec-1998\", \n",
    "    period2_start=\"Jan-2004\", period2_end=\"Dec-2008\", months_subset=\"all\", \n",
    "    glass_source_pref=\"avhrr\", var_or_dvar=\"tcc\", perc=False, \n",
    "    mask_perc_quantile=10, mask_period1=None, \n",
    "    mask_period2=None, extents=None, cfv_data=None, output=True\n",
    ")"
   ]
  },
  {
   "cell_type": "code",
   "execution_count": null,
   "id": "266a9d75-5df9-48e2-a8bf-98b4566feac8",
   "metadata": {},
   "outputs": [],
   "source": [
    "pf.plot_comp_mdp_clim_stats_given_var_or_dvar(\n",
    "    region=\"wa\", period1_start=\"Jan-1994\", period1_end=\"Dec-1998\", \n",
    "    period2_start=\"Jan-2004\", period2_end=\"Dec-2008\", months_subset=\"all\", \n",
    "    glass_source_pref=\"avhrr\", var_or_dvar=\"cape\", perc=False, \n",
    "    mask_perc_quantile=10, mask_period1=None, \n",
    "    mask_period2=None, extents=None, cfv_data=None, output=True\n",
    ")"
   ]
  },
  {
   "cell_type": "code",
   "execution_count": null,
   "id": "a36daf37-cef6-4170-b152-7cae62947a4a",
   "metadata": {},
   "outputs": [],
   "source": [
    "pf.plot_comp_mdp_clim_stats_given_var_or_dvar(\n",
    "    region=\"wa\", period1_start=\"Jan-1994\", period1_end=\"Dec-1998\", \n",
    "    period2_start=\"Jan-2004\", period2_end=\"Dec-2008\", months_subset=\"all\", \n",
    "    glass_source_pref=\"avhrr\", var_or_dvar=\"ci\", perc=False, \n",
    "    mask_perc_quantile=10, mask_period1=None, \n",
    "    mask_period2=None, extents=None, cfv_data=None, output=True\n",
    ")"
   ]
  },
  {
   "cell_type": "markdown",
   "id": "e303896d-9acc-4071-82b8-0c1545345195",
   "metadata": {},
   "source": [
    "### Comparison 1, year round (all months), MDP climatology values"
   ]
  },
  {
   "cell_type": "code",
   "execution_count": null,
   "id": "e19797f1-654d-4a13-bb60-9e412b27ac70",
   "metadata": {},
   "outputs": [],
   "source": []
  },
  {
   "cell_type": "markdown",
   "id": "ed11e895-8941-467c-a3f4-b63090b6417c",
   "metadata": {},
   "source": [
    "### Comparison 1, year round (all months), WSD climatology"
   ]
  },
  {
   "cell_type": "code",
   "execution_count": null,
   "id": "0f5494bf-30ab-463c-80c5-1d991a410538",
   "metadata": {},
   "outputs": [],
   "source": [
    "pf.plot_comp_wsd_clim(\n",
    "    region=\"wa\", period1_start=\"Jan-1994\", period1_end=\"Dec-1998\", \n",
    "    period2_start=\"Jan-2004\", period2_end=\"Dec-2008\", months_subset=\"all\",\n",
    "    glass_source_pref=\"avhrr\", perc=False, mask_perc_quantile=10, \n",
    "    mask_period1=None, mask_period2=None, extents=None, cfv_data=None, output=True\n",
    ")"
   ]
  },
  {
   "cell_type": "markdown",
   "id": "e1a3bb4c-800d-4537-a7ee-73f029c126f6",
   "metadata": {},
   "source": [
    "## Comparison 1, wet season (MAM months)"
   ]
  },
  {
   "cell_type": "markdown",
   "id": "54ff9a48-03cf-4fc6-ae44-b09e8e7149a8",
   "metadata": {},
   "source": [
    "### Comparison 1, wet season (MAM months), MDP climatology stats"
   ]
  },
  {
   "cell_type": "code",
   "execution_count": null,
   "id": "0efc6e06-5e33-4bb6-95b8-2a372e36eee4",
   "metadata": {},
   "outputs": [],
   "source": []
  },
  {
   "cell_type": "markdown",
   "id": "825cad5d-eca3-4273-8823-0a3510bdb390",
   "metadata": {},
   "source": [
    "### Comparison 1, wet season (MAM months), MDP climatology values"
   ]
  },
  {
   "cell_type": "code",
   "execution_count": null,
   "id": "028346de-00a5-4377-9590-b636221bb840",
   "metadata": {},
   "outputs": [],
   "source": []
  },
  {
   "cell_type": "markdown",
   "id": "b69959bb-395d-4f5c-b4d4-573c38707eda",
   "metadata": {},
   "source": [
    "### Comparison 1, wet season (MAM months), WSD climatology"
   ]
  },
  {
   "cell_type": "code",
   "execution_count": null,
   "id": "e0b87ba2-1351-4ddc-bcca-40dd5c051caa",
   "metadata": {},
   "outputs": [],
   "source": []
  },
  {
   "cell_type": "markdown",
   "id": "6835eb38-d319-4e4a-a0ca-262821223105",
   "metadata": {},
   "source": [
    "## Comparison 1, dry season (DJF months)"
   ]
  },
  {
   "cell_type": "code",
   "execution_count": null,
   "id": "c84d39a6-35fd-4cec-bc12-310a5d41ab48",
   "metadata": {},
   "outputs": [],
   "source": []
  },
  {
   "cell_type": "markdown",
   "id": "41c6e22a-4568-4e32-a54a-7d405734fe75",
   "metadata": {},
   "source": [
    "### Comparison 1, dry season (DJF months), MDP climatology stats"
   ]
  },
  {
   "cell_type": "code",
   "execution_count": null,
   "id": "fad32ac2-7e44-45b5-b661-6c0be62f4dca",
   "metadata": {},
   "outputs": [],
   "source": []
  },
  {
   "cell_type": "markdown",
   "id": "265ba8e7-cc25-4004-908e-4504d6e39dda",
   "metadata": {},
   "source": [
    "### Comparison 1, dry season (DJF months), MDP climatology values"
   ]
  },
  {
   "cell_type": "code",
   "execution_count": null,
   "id": "1755fcef-d1e8-41f8-88ee-751c38393d96",
   "metadata": {},
   "outputs": [],
   "source": []
  },
  {
   "cell_type": "markdown",
   "id": "e333c2d2-6bf3-4ef7-a422-22c1cad65798",
   "metadata": {},
   "source": [
    "### Comparison 1, dry season (DJF months), WSD climatology"
   ]
  },
  {
   "cell_type": "code",
   "execution_count": null,
   "id": "94d00224-8b1e-4847-947f-80da243537e2",
   "metadata": {},
   "outputs": [],
   "source": []
  },
  {
   "cell_type": "markdown",
   "id": "df5d69bd-0094-4c58-916f-20e7b4b385f7",
   "metadata": {},
   "source": [
    "# Comparison 2\n",
    "\n",
    "- period1 = Jan-2019 to Dec-2019\n",
    "- period2 = Jan-2021 to Dec-2021\n",
    "- extents = [113, 123, -35, -30] or [117, 122, -35, -30]\n",
    "- tz = UTC +8\n",
    "- glass_data_source = MODIS"
   ]
  },
  {
   "cell_type": "markdown",
   "id": "afae2b22-f0d0-4a0c-9747-b3684b620c84",
   "metadata": {},
   "source": [
    "## Comparison 2, year round (all months)"
   ]
  },
  {
   "cell_type": "markdown",
   "id": "f6e6c398-2e75-4f57-b101-752e7a923b66",
   "metadata": {},
   "source": [
    "### Comparison 2, year round (all months), MDP climatology stats"
   ]
  },
  {
   "cell_type": "code",
   "execution_count": null,
   "id": "a38d5c3a-872c-4803-8790-45f50f81f542",
   "metadata": {},
   "outputs": [],
   "source": []
  },
  {
   "cell_type": "markdown",
   "id": "7ac06827-e735-49c0-971a-43b3a52773ed",
   "metadata": {},
   "source": [
    "### Comparison 2, year round (all months), MDP climatology values"
   ]
  },
  {
   "cell_type": "code",
   "execution_count": null,
   "id": "8c84f97f-8327-440f-9567-46c1094a4177",
   "metadata": {},
   "outputs": [],
   "source": []
  },
  {
   "cell_type": "markdown",
   "id": "c20c0047-17e7-4bdd-8e70-633d62518c90",
   "metadata": {},
   "source": [
    "### Comparison 2, year round (all months), WSD climatology"
   ]
  },
  {
   "cell_type": "code",
   "execution_count": null,
   "id": "6b717b09-39fb-4534-a364-22132100085b",
   "metadata": {},
   "outputs": [],
   "source": []
  },
  {
   "cell_type": "markdown",
   "id": "9414da5a-1850-435e-9d91-bb3c2ba13703",
   "metadata": {},
   "source": [
    "## Comparison 2, wet season (MAM months)"
   ]
  },
  {
   "cell_type": "markdown",
   "id": "83f9e19e-7fb3-4511-8bf6-be3e98bd6a5b",
   "metadata": {},
   "source": [
    "### Comparison 2, wet season (MAM months), MDP climatology stats"
   ]
  },
  {
   "cell_type": "code",
   "execution_count": null,
   "id": "60564f8d-7c4a-4821-918c-542f223b0a49",
   "metadata": {},
   "outputs": [],
   "source": []
  },
  {
   "cell_type": "markdown",
   "id": "ffd4cf19-088d-45ef-8dc3-bafc9b42d1a3",
   "metadata": {},
   "source": [
    "### Comparison 2, wet season (MAM months), MDP climatology values"
   ]
  },
  {
   "cell_type": "code",
   "execution_count": null,
   "id": "9e11baea-b256-4a1d-9517-f22877a6749c",
   "metadata": {},
   "outputs": [],
   "source": []
  },
  {
   "cell_type": "markdown",
   "id": "39aaff4b-928e-4454-b491-e136c68a87bf",
   "metadata": {},
   "source": [
    "### Comparison 2, wet season (MAM months), WSD climatology"
   ]
  },
  {
   "cell_type": "code",
   "execution_count": null,
   "id": "af0ec66f-587e-4d79-9b5b-76981a63b4d0",
   "metadata": {},
   "outputs": [],
   "source": []
  },
  {
   "cell_type": "markdown",
   "id": "07cfc57f-1301-4195-aa8a-7d6456871588",
   "metadata": {},
   "source": [
    "## Comparison 2, dry season (DJF months)"
   ]
  },
  {
   "cell_type": "code",
   "execution_count": null,
   "id": "c5546c05-6b2e-4caa-af5c-7a070600dce8",
   "metadata": {},
   "outputs": [],
   "source": []
  },
  {
   "cell_type": "markdown",
   "id": "c0aae89f-d585-4ded-9ca8-7c6b958a1d33",
   "metadata": {},
   "source": [
    "### Comparison 2, dry season (DJF months), MDP climatology stats"
   ]
  },
  {
   "cell_type": "code",
   "execution_count": null,
   "id": "8c7bc05c-d70e-40d6-945c-32cbf075cf5f",
   "metadata": {},
   "outputs": [],
   "source": []
  },
  {
   "cell_type": "markdown",
   "id": "2c7b0993-bd6d-4571-8687-5eadda8eb32f",
   "metadata": {},
   "source": [
    "### Comparison 2, dry season (DJF months), MDP climatology values"
   ]
  },
  {
   "cell_type": "code",
   "execution_count": null,
   "id": "4a8937cc-dbaf-46e5-b4ff-83b9f329ac45",
   "metadata": {},
   "outputs": [],
   "source": []
  },
  {
   "cell_type": "markdown",
   "id": "07858048-bfd4-46be-96ae-7d54ce91eef2",
   "metadata": {},
   "source": [
    "### Comparison 2, dry season (DJF months), WSD climatology"
   ]
  },
  {
   "cell_type": "code",
   "execution_count": null,
   "id": "e47719c8-44de-4752-9950-a3c4e44f1fbe",
   "metadata": {},
   "outputs": [],
   "source": []
  },
  {
   "cell_type": "code",
   "execution_count": null,
   "id": "c134698e-2e3b-4277-b0a1-0045e50de849",
   "metadata": {},
   "outputs": [],
   "source": []
  }
 ],
 "metadata": {
  "kernelspec": {
   "display_name": "Python 3 (ipykernel)",
   "language": "python",
   "name": "python3"
  },
  "language_info": {
   "codemirror_mode": {
    "name": "ipython",
    "version": 3
   },
   "file_extension": ".py",
   "mimetype": "text/x-python",
   "name": "python",
   "nbconvert_exporter": "python",
   "pygments_lexer": "ipython3",
   "version": "3.10.4"
  }
 },
 "nbformat": 4,
 "nbformat_minor": 5
}
