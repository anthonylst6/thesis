{
 "cells": [
  {
   "cell_type": "code",
   "execution_count": 7,
   "id": "21c2f851-e9fd-4c7d-a07f-4774bdf282e8",
   "metadata": {},
   "outputs": [],
   "source": [
    "# import libraries\n",
    "from pathlib import Path"
   ]
  },
  {
   "cell_type": "code",
   "execution_count": 5,
   "id": "b51f9478-9689-4667-8483-dc5fe78f086e",
   "metadata": {},
   "outputs": [],
   "source": [
    "Path(\"ca_era5-prs_hour\").mkdir(parents=True, exist_ok=True)"
   ]
  },
  {
   "cell_type": "code",
   "execution_count": 8,
   "id": "8d32e097-ddde-4248-9114-7e3ee36f5d71",
   "metadata": {},
   "outputs": [
    {
     "name": "stdout",
     "output_type": "stream",
     "text": [
      "10u_19801231-20201231.txt      \u001b[0m\u001b[01;34msa_era5-slv_hour\u001b[0m/\n",
      "\u001b[01;34mca_era5-slv_hour\u001b[0m/              \u001b[01;34msa_era5-slv_month-hour\u001b[0m/\n",
      "\u001b[01;34mca_era5-slv_month-hour\u001b[0m/        \u001b[01;34mwa_bom_hour\u001b[0m/\n",
      "download_data.ipynb            \u001b[01;34mwa_bom_minute\u001b[0m/\n",
      "geop_19801231-20201231.txt     \u001b[01;34mwa_bufex\u001b[0m/\n",
      "\u001b[01;34mglobal_era5-slv_static\u001b[0m/        \u001b[01;34mwa_era5-slv_hour\u001b[0m/\n",
      "\u001b[01;34mglobal_glass-lai-avhrr_month\u001b[0m/  \u001b[01;34mwa_era5-slv_month-hour\u001b[0m/\n",
      "\u001b[01;34mglobal_glass-lai-modis_month\u001b[0m/\n"
     ]
    }
   ],
   "source": [
    "ls"
   ]
  },
  {
   "cell_type": "code",
   "execution_count": null,
   "id": "2a09d3c1-c7ae-4fd5-bfb2-d1ac356cb6ed",
   "metadata": {},
   "outputs": [],
   "source": []
  }
 ],
 "metadata": {
  "kernelspec": {
   "display_name": "Python 3 (ipykernel)",
   "language": "python",
   "name": "python3"
  },
  "language_info": {
   "codemirror_mode": {
    "name": "ipython",
    "version": 3
   },
   "file_extension": ".py",
   "mimetype": "text/x-python",
   "name": "python",
   "nbconvert_exporter": "python",
   "pygments_lexer": "ipython3",
   "version": "3.10.4"
  }
 },
 "nbformat": 4,
 "nbformat_minor": 5
}
