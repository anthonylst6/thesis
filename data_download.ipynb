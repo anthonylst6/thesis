{
 "cells": [
  {
   "cell_type": "markdown",
   "id": "2c33f8a5-7262-4268-a3cd-66a6431c7a15",
   "metadata": {},
   "source": [
    "# Setup\n",
    "\n",
    "## Note:\n",
    "- Download of ERA5 data below will require around XXX GB of storage, and may take several days due to queueing in the ECMWF Climate Data Store (CDS).\n",
    "- Download of GLASS data will require around XXX GB of storage\n",
    "- So a total of around XXX GB of storage will be required.\n",
    "- Also recommended is a system with at least 16 GB of RAM, as the code below invokes parallel downloads (alternatively, set a lower number of workers for the ThreadPoolExecutor so that there are fewer parallel downloads)"
   ]
  },
  {
   "cell_type": "code",
   "execution_count": 32,
   "id": "21c2f851-e9fd-4c7d-a07f-4774bdf282e8",
   "metadata": {},
   "outputs": [],
   "source": [
    "# Import libraries\n",
    "from pathlib import Path\n",
    "import cdsapi\n",
    "from concurrent.futures import ThreadPoolExecutor, as_completed"
   ]
  },
  {
   "cell_type": "markdown",
   "id": "45348c69-c048-4ad1-8e82-3b6404409a97",
   "metadata": {},
   "source": [
    "# Download ERA5 data\n",
    "\n",
    "If haven't already, first set up ECMWF CDS API using instructions from here: https://confluence.ecmwf.int/display/CKB/How+to+download+ERA5#HowtodownloadERA5-4-DownloadERA5familydatathroughtheCDSAPI"
   ]
  },
  {
   "cell_type": "code",
   "execution_count": 33,
   "id": "97c88fbb-2824-41fd-bc52-6c52c5b13b29",
   "metadata": {},
   "outputs": [],
   "source": [
    "# Open CDS API client for ERA5 downloads\n",
    "c = cdsapi.Client()"
   ]
  },
  {
   "cell_type": "code",
   "execution_count": 34,
   "id": "1d1cb6ab-18af-4f3e-90aa-9281ada92bab",
   "metadata": {},
   "outputs": [],
   "source": [
    "# Areas for each region in NWSE format to retrieve data for\n",
    "area = {\"ca\": [17, -91, 7, -81],\n",
    "        \"sa\": [0, -65, -15, -30],\n",
    "        \"wa\": [-30, 113, -35, 123]}"
   ]
  },
  {
   "cell_type": "code",
   "execution_count": 35,
   "id": "212d6a4d-1240-4ee1-9b06-41390f26f821",
   "metadata": {},
   "outputs": [],
   "source": [
    "# Years to retrieve data for\n",
    "years = [\n",
    "            '1980', '1981', '1982',\n",
    "            '1983', '1984', '1985',\n",
    "            '1986', '1987', '1988',\n",
    "            '1989', '1990', '1991',\n",
    "            '1992', '1993', '1994',\n",
    "            '1995', '1996', '1997',\n",
    "            '1998', '1999', '2000',\n",
    "            '2001', '2002', '2003',\n",
    "            '2004', '2005', '2006',\n",
    "            '2007', '2008', '2009',\n",
    "            '2010', '2011', '2012',\n",
    "            '2013', '2014', '2015',\n",
    "            '2016', '2017', '2018',\n",
    "            '2019', '2020', '2021',\n",
    "]"
   ]
  },
  {
   "cell_type": "markdown",
   "id": "8163630c-875d-486e-b444-6caa5ddf6ae3",
   "metadata": {},
   "source": [
    "## Static data (global)"
   ]
  },
  {
   "cell_type": "code",
   "execution_count": 36,
   "id": "17a0bf87-fa31-4a1e-954a-e4637b96d555",
   "metadata": {},
   "outputs": [],
   "source": [
    "# Define function to retrieve static data\n",
    "def retrieve_era5_slv_static(variable, file_name):\n",
    "    # Create global_era5-slv_static folder to download data into\n",
    "    # (if it doesn't already exist)\n",
    "    Path(\"data_raw/global_era5-slv_static\").mkdir(parents=True, exist_ok=True)\n",
    "    file_path = \"data_raw/global_era5-slv_static/{file_name}\".format(file_name=file_name)\n",
    "    if Path(file_path).exists():\n",
    "        print(file_path, \"already exists\")\n",
    "    else:\n",
    "        c.retrieve(\n",
    "            'reanalysis-era5-single-levels-monthly-means',\n",
    "            {\n",
    "                'product_type': 'monthly_averaged_reanalysis',\n",
    "                'variable': variable,\n",
    "                'year': '2022',\n",
    "                'month': '01',\n",
    "                'time': '00:00',\n",
    "                'format': 'netcdf',\n",
    "            },\n",
    "            file_path)\n",
    "        print(\"Retrieved\", file_path)"
   ]
  },
  {
   "cell_type": "code",
   "execution_count": null,
   "id": "2650077a-56d0-4092-a638-e021821f52ad",
   "metadata": {},
   "outputs": [],
   "source": [
    "# Retrieve ERA5 static geopotential data (for topography)\n",
    "retrieve_era5_slv_static('geopotential', 'geopotential.nc')"
   ]
  },
  {
   "cell_type": "code",
   "execution_count": null,
   "id": "550c0043-82bb-4b2e-a953-3aaf6f29622f",
   "metadata": {},
   "outputs": [],
   "source": [
    "# Retrieve ERA5 land-sea mask\n",
    "retrieve_era5_slv_static('land_sea_mask', 'land-sea-mask.nc')"
   ]
  },
  {
   "cell_type": "markdown",
   "id": "bfc0d7fe-d615-4a5c-a731-69416bff35e0",
   "metadata": {},
   "source": [
    "## Monthly averaged reanalysis by hour of day, on single levels"
   ]
  },
  {
   "cell_type": "code",
   "execution_count": null,
   "id": "18dc561f-a9f3-4689-b4cb-456ed79b399e",
   "metadata": {},
   "outputs": [],
   "source": [
    "# Define request to retrieve monthly reanalysis (to be used with retrieve function)\n",
    "def request_era5_slv_month_hour(region):\n",
    "    file_name = 'data_raw/{region}_era5-slv_month-hour_{yearstart}-{yearend}.nc'.format(region=region, yearstart=years[0], yearend=years[-1])\n",
    "    if Path(file_name).exists():\n",
    "        return(file_name + \" already exists\")\n",
    "    else:\n",
    "        c.retrieve(\n",
    "            'reanalysis-era5-single-levels-monthly-means',\n",
    "            {\n",
    "                'product_type': 'monthly_averaged_reanalysis_by_hour_of_day',\n",
    "                'variable': [\n",
    "                    '100m_u_component_of_wind', '100m_v_component_of_wind', '10m_u_component_of_wind',\n",
    "                    '10m_v_component_of_wind', '2m_temperature', 'mean_sea_level_pressure',\n",
    "                    'surface_latent_heat_flux', 'surface_sensible_heat_flux',\n",
    "                ],\n",
    "                'year': years,\n",
    "                'month': [\n",
    "                    '01', '02', '03',\n",
    "                    '04', '05', '06',\n",
    "                    '07', '08', '09',\n",
    "                    '10', '11', '12',\n",
    "                ],\n",
    "                'time': [\n",
    "                    '00:00', '01:00', '02:00',\n",
    "                    '03:00', '04:00', '05:00',\n",
    "                    '06:00', '07:00', '08:00',\n",
    "                    '09:00', '10:00', '11:00',\n",
    "                    '12:00', '13:00', '14:00',\n",
    "                    '15:00', '16:00', '17:00',\n",
    "                    '18:00', '19:00', '20:00',\n",
    "                    '21:00', '22:00', '23:00',\n",
    "                ],\n",
    "                'format': 'netcdf',\n",
    "                'area': area[region],\n",
    "            },\n",
    "            file_name)\n",
    "        return(\"Retrieved \" + file_name)\n",
    "        \n",
    "# Define function to retrieve hourly reanalysis    \n",
    "def retrieve_era5_slv_month_hour(regions):\n",
    "    # Run up to 10 parallel retrieve requests (to queue and download data for all regions simultaneously)\n",
    "    with ThreadPoolExecutor(max_workers=10) as executor:\n",
    "        futures = [\n",
    "            executor.submit(request_era5_slv_month_hour, region) for region in regions\n",
    "        ]\n",
    "        for f in as_completed(futures):\n",
    "                try:\n",
    "                    print(f.result())\n",
    "                except:\n",
    "                    print(\"Could not retrieve\")"
   ]
  },
  {
   "cell_type": "code",
   "execution_count": null,
   "id": "772c91f5-2a6b-4ef2-baee-6941dc17154c",
   "metadata": {},
   "outputs": [],
   "source": [
    "# Retrieve monthly reanalysis data for Central America, South America and Western Australia\n",
    "retrieve_era5_slv_month_hour([\"ca\", \"sa\", \"wa\"])"
   ]
  },
  {
   "cell_type": "markdown",
   "id": "5bfa95ea-9a7e-4449-94ac-4a45037b674e",
   "metadata": {},
   "source": [
    "## Hourly reanalysis, on single levels"
   ]
  },
  {
   "cell_type": "code",
   "execution_count": null,
   "id": "34c919b7-db8d-4d9f-9f3c-79aee7431eec",
   "metadata": {},
   "outputs": [],
   "source": [
    "# Define request to retrieve hourly reanalysis (to be used with retrieve function)\n",
    "def request_era5_slv_hour(region, year):\n",
    "    file_name = 'data_raw/{region}_era5-slv_hour/{region}_era5-slv_hour_{year}.nc'.format(region=region, year=year)\n",
    "    if Path(file_name).exists():\n",
    "        return(file_name + \" already exists\")\n",
    "    else:\n",
    "        c.retrieve(\n",
    "        'reanalysis-era5-single-levels',\n",
    "        {\n",
    "            'product_type': 'reanalysis',\n",
    "            'variable': [\n",
    "                '100m_u_component_of_wind', '100m_v_component_of_wind', '10m_u_component_of_wind',\n",
    "                '10m_v_component_of_wind', '2m_temperature', 'mean_sea_level_pressure',\n",
    "                'surface_latent_heat_flux', 'surface_sensible_heat_flux',\n",
    "            ],\n",
    "            'year': year,\n",
    "            'month': [\n",
    "                '01', '02', '03',\n",
    "                '04', '05', '06',\n",
    "                '07', '08', '09',\n",
    "                '10', '11', '12',\n",
    "            ],\n",
    "            'day': [\n",
    "                '01', '02', '03',\n",
    "                '04', '05', '06',\n",
    "                '07', '08', '09',\n",
    "                '10', '11', '12',\n",
    "                '13', '14', '15',\n",
    "                '16', '17', '18',\n",
    "                '19', '20', '21',\n",
    "                '22', '23', '24',\n",
    "                '25', '26', '27',\n",
    "                '28', '29', '30',\n",
    "                '31',\n",
    "            ],\n",
    "            'time': [\n",
    "                '00:00', '01:00', '02:00',\n",
    "                '03:00', '04:00', '05:00',\n",
    "                '06:00', '07:00', '08:00',\n",
    "                '09:00', '10:00', '11:00',\n",
    "                '12:00', '13:00', '14:00',\n",
    "                '15:00', '16:00', '17:00',\n",
    "                '18:00', '19:00', '20:00',\n",
    "                '21:00', '22:00', '23:00',\n",
    "            ],\n",
    "            'area': area[region],\n",
    "            'format': 'netcdf',\n",
    "        },\n",
    "        file_name)\n",
    "        return(\"Retrieved \" + file_name)\n",
    "\n",
    "# Define function to retrieve hourly reanalysis    \n",
    "def retrieve_era5_slv_hour(region):\n",
    "    # Create {region}_era5-slv_hour folder to download data into\n",
    "    # (if it doesn't already exist)\n",
    "    Path(\"data_raw/{region}_era5-slv_hour\".format(region=region)).mkdir(parents=True, exist_ok=True)\n",
    "    # Run up to 10 parallel retrieve requests (can only retrieve 1 year per request for hourly data)\n",
    "    with ThreadPoolExecutor(max_workers=10) as executor:\n",
    "        futures = [\n",
    "            executor.submit(request_era5_slv_hour, region, year) for year in years\n",
    "        ]\n",
    "        for f in as_completed(futures):\n",
    "                try:\n",
    "                    print(f.result())\n",
    "                except:\n",
    "                    print(\"Could not retrieve\")"
   ]
  },
  {
   "cell_type": "code",
   "execution_count": null,
   "id": "87d36474-719d-4e5a-9303-be583057f47e",
   "metadata": {},
   "outputs": [],
   "source": [
    "# Retrieve hourly reanalysis data for Central America\n",
    "retrieve_era5_slv_hour(\"ca\")"
   ]
  },
  {
   "cell_type": "code",
   "execution_count": null,
   "id": "dd02aeff-e99f-4dcd-9655-d105b19ec999",
   "metadata": {},
   "outputs": [],
   "source": [
    "# Retrieve hourly reanalysis data for South America\n",
    "retrieve_era5_slv_hour(\"sa\")"
   ]
  },
  {
   "cell_type": "code",
   "execution_count": null,
   "id": "48d6e71d-fbc5-4f16-a56b-e305d6b88c9b",
   "metadata": {},
   "outputs": [],
   "source": [
    "# Retrieve hourly reanalysis data for Western Australia\n",
    "retrieve_era5_slv_hour(\"wa\")"
   ]
  },
  {
   "cell_type": "markdown",
   "id": "b9b3cedb-edc9-4306-bf18-005654aeebfe",
   "metadata": {},
   "source": [
    "# Download GLASS data"
   ]
  },
  {
   "cell_type": "code",
   "execution_count": null,
   "id": "9249a35c-e965-435f-8b65-9df103e14b35",
   "metadata": {},
   "outputs": [],
   "source": [
    "# AVHRR 0.05 deg data (1981-2008)\n",
    "\n",
    "# Create global_glass-lai-avhrr_month folder to download data into\n",
    "# (if it doesn't already exist)\n",
    "Path(\"data_raw/global_glass-lai-avhrr_month\").mkdir(parents=True, exist_ok=True)\n",
    "\n"
   ]
  },
  {
   "cell_type": "code",
   "execution_count": null,
   "id": "e9624447-fba6-443d-972e-d0afa33b0a1c",
   "metadata": {},
   "outputs": [],
   "source": [
    "# MODIS 0.05 deg data (2000-2021)\n",
    "\n",
    "# Create global_glass-lai-modis_month folder to download data into\n",
    "# (if it doesn't already exist)\n",
    "Path(\"data_raw/global_glass-lai-modis_month\").mkdir(parents=True, exist_ok=True)\n",
    "\n"
   ]
  },
  {
   "cell_type": "code",
   "execution_count": null,
   "id": "7080d885-a270-4d2f-ae15-c22685ad16aa",
   "metadata": {},
   "outputs": [],
   "source": [
    "# AVHRR 0.05 deg data (1981-2008)\n",
    "\n",
    "# Create global_glass-lai-avhrr_month folder to download data into\n",
    "# (if it doesn't already exist)\n",
    "Path(\"data_raw/global_glass-fapar-avhrr_month\").mkdir(parents=True, exist_ok=True)\n",
    "\n"
   ]
  },
  {
   "cell_type": "code",
   "execution_count": null,
   "id": "e4d09325-f3df-4745-b216-61f6844864ee",
   "metadata": {},
   "outputs": [],
   "source": [
    "# MODIS 0.05 deg data (2000-2021)\n",
    "\n",
    "# Create global_glass-lai-modis_month folder to download data into\n",
    "# (if it doesn't already exist)\n",
    "Path(\"data_raw/global_glass-fapar-modis_month\").mkdir(parents=True, exist_ok=True)\n",
    "\n"
   ]
  },
  {
   "cell_type": "markdown",
   "id": "16b4993a-4b27-4afd-8ab1-842ecf81f0f5",
   "metadata": {},
   "source": [
    "# Download other data"
   ]
  },
  {
   "cell_type": "markdown",
   "id": "91152b82-cab5-4a53-9721-a947af6cbc2d",
   "metadata": {},
   "source": [
    "## BoM hourly observation data\n",
    "\n",
    "Request from http://www.bom.gov.au/catalogue/data-feeds.shtml"
   ]
  },
  {
   "cell_type": "code",
   "execution_count": null,
   "id": "667814af-0f0f-4dc4-b4b1-7538f90a581c",
   "metadata": {},
   "outputs": [],
   "source": [
    "# Create wa_bom_hour folder to download data into\n",
    "# (if it doesn't already exist)\n",
    "Path(\"data_raw/wa_bom_hour\").mkdir(parents=True, exist_ok=True)"
   ]
  },
  {
   "cell_type": "markdown",
   "id": "90f11442-cd34-4acd-97d6-71f9158027c4",
   "metadata": {},
   "source": [
    "## BoM minutely observation data\n",
    "\n",
    "Request from http://www.bom.gov.au/catalogue/data-feeds.shtml"
   ]
  },
  {
   "cell_type": "code",
   "execution_count": null,
   "id": "671795ab-9b46-4bd2-b53a-39e16de862bc",
   "metadata": {},
   "outputs": [],
   "source": [
    "# Create wa_bom_minute folder to download data into\n",
    "# (if it doesn't already exist)\n",
    "Path(\"data_raw/wa_bom_minute\").mkdir(parents=True, exist_ok=True)"
   ]
  },
  {
   "cell_type": "markdown",
   "id": "2d6ea73b-3126-4182-b4d6-3ceb5b3564e8",
   "metadata": {},
   "source": [
    "## Bunny Fence Experiment (2005-2007) data\n",
    "\n",
    "Request from https://www.eol.ucar.edu/field_projects/bufex"
   ]
  },
  {
   "cell_type": "code",
   "execution_count": null,
   "id": "ec968c1e-6b9d-4c83-bf29-10bee19bb9e8",
   "metadata": {},
   "outputs": [],
   "source": [
    "# Create wa_bufex folder to download data into\n",
    "# (if it doesn't already exist)\n",
    "Path(\"data_raw/wa_bufex\").mkdir(parents=True, exist_ok=True)"
   ]
  },
  {
   "cell_type": "code",
   "execution_count": null,
   "id": "49d0235e-3a2d-481f-b67f-6a50803f8002",
   "metadata": {},
   "outputs": [],
   "source": []
  },
  {
   "cell_type": "markdown",
   "id": "2baa4f12-e035-4de0-b475-3b64f792ee70",
   "metadata": {},
   "source": [
    "# When finished downloading, add note to top on amount of storage required"
   ]
  },
  {
   "cell_type": "code",
   "execution_count": null,
   "id": "fdc8b5c4-9b93-4c7a-96a6-d8bb6baa3fb1",
   "metadata": {},
   "outputs": [],
   "source": []
  }
 ],
 "metadata": {
  "kernelspec": {
   "display_name": "Python 3 (ipykernel)",
   "language": "python",
   "name": "python3"
  },
  "language_info": {
   "codemirror_mode": {
    "name": "ipython",
    "version": 3
   },
   "file_extension": ".py",
   "mimetype": "text/x-python",
   "name": "python",
   "nbconvert_exporter": "python",
   "pygments_lexer": "ipython3",
   "version": "3.10.4"
  }
 },
 "nbformat": 4,
 "nbformat_minor": 5
}
