{
 "cells": [
  {
   "cell_type": "markdown",
   "id": "2c33f8a5-7262-4268-a3cd-66a6431c7a15",
   "metadata": {},
   "source": [
    "# Setup"
   ]
  },
  {
   "cell_type": "code",
   "execution_count": 1,
   "id": "21c2f851-e9fd-4c7d-a07f-4774bdf282e8",
   "metadata": {},
   "outputs": [],
   "source": [
    "# Import libraries\n",
    "from pathlib import Path\n",
    "import cdsapi"
   ]
  },
  {
   "cell_type": "code",
   "execution_count": 2,
   "id": "332193fa-1be6-46ed-90c1-074fe7040988",
   "metadata": {},
   "outputs": [],
   "source": [
    "# Create data_raw folder to download data into\n",
    "# (if it doesn't already exist)\n",
    "Path(\"data_raw\").mkdir(parents=True, exist_ok=True)"
   ]
  },
  {
   "cell_type": "code",
   "execution_count": 3,
   "id": "97c88fbb-2824-41fd-bc52-6c52c5b13b29",
   "metadata": {},
   "outputs": [],
   "source": [
    "# Open CDS API client for downloads\n",
    "c = cdsapi.Client()"
   ]
  },
  {
   "cell_type": "markdown",
   "id": "45348c69-c048-4ad1-8e82-3b6404409a97",
   "metadata": {},
   "source": [
    "# Download ERA5 data\n",
    "\n",
    "First set up ECMWF CDS API using instructions from here: https://confluence.ecmwf.int/display/CKB/How+to+download+ERA5#HowtodownloadERA5-4-DownloadERA5familydatathroughtheCDSAPI"
   ]
  },
  {
   "cell_type": "markdown",
   "id": "8163630c-875d-486e-b444-6caa5ddf6ae3",
   "metadata": {},
   "source": [
    "## Static data"
   ]
  },
  {
   "cell_type": "markdown",
   "id": "07e6ae7f-8fb6-4874-b239-367a7db076d7",
   "metadata": {},
   "source": [
    "### Global data"
   ]
  },
  {
   "cell_type": "code",
   "execution_count": 15,
   "id": "f9579e1b-1763-4763-bf7e-65414975e4f8",
   "metadata": {},
   "outputs": [],
   "source": [
    "# Create global_era5-slv_static folder to download data into\n",
    "# (if it doesn't already exist)\n",
    "Path(\"data_raw/global_era5-slv_static\").mkdir(parents=True, exist_ok=True)"
   ]
  },
  {
   "cell_type": "code",
   "execution_count": 16,
   "id": "76da1d7f-1dbe-46a0-9528-d15e98aa8f34",
   "metadata": {},
   "outputs": [
    {
     "name": "stderr",
     "output_type": "stream",
     "text": [
      "2022-07-24 01:06:03,027 INFO Welcome to the CDS\n",
      "2022-07-24 01:06:03,028 INFO Sending request to https://cds.climate.copernicus.eu/api/v2/resources/reanalysis-era5-single-levels-monthly-means\n",
      "2022-07-24 01:06:03,437 INFO Downloading https://download-0009-clone.copernicus-climate.eu/cache-compute-0009/cache/data4/adaptor.mars.internal-1658588657.7740393-22191-16-f1af7a4b-8991-4f33-ab02-91c8cb5e3304.nc to data_raw/global_era5-slv_static/geopotential.nc (2M)\n",
      "2022-07-24 01:06:06,657 INFO Download rate 632.7K/s                             \n"
     ]
    },
    {
     "data": {
      "text/plain": [
       "Result(content_length=2086244,content_type=application/x-netcdf,location=https://download-0009-clone.copernicus-climate.eu/cache-compute-0009/cache/data4/adaptor.mars.internal-1658588657.7740393-22191-16-f1af7a4b-8991-4f33-ab02-91c8cb5e3304.nc)"
      ]
     },
     "execution_count": 16,
     "metadata": {},
     "output_type": "execute_result"
    }
   ],
   "source": [
    "c.retrieve(\n",
    "    'reanalysis-era5-single-levels-monthly-means',\n",
    "    {\n",
    "        'product_type': 'monthly_averaged_reanalysis',\n",
    "        'variable': 'geopotential',\n",
    "        'year': '2022',\n",
    "        'month': '01',\n",
    "        'time': '00:00',\n",
    "        'format': 'netcdf',\n",
    "    },\n",
    "    'data_raw/global_era5-slv_static/geopotential.nc')"
   ]
  },
  {
   "cell_type": "code",
   "execution_count": 17,
   "id": "65907788-17b4-4183-ad97-b99cafb87872",
   "metadata": {},
   "outputs": [
    {
     "name": "stderr",
     "output_type": "stream",
     "text": [
      "2022-07-24 01:11:34,972 INFO Welcome to the CDS\n",
      "2022-07-24 01:11:34,974 INFO Sending request to https://cds.climate.copernicus.eu/api/v2/resources/reanalysis-era5-single-levels-monthly-means\n",
      "2022-07-24 01:11:35,277 INFO Request is queued\n",
      "2022-07-24 01:11:36,732 INFO Request is completed\n",
      "2022-07-24 01:11:36,734 INFO Downloading https://download-0009-clone.copernicus-climate.eu/cache-compute-0009/cache/data2/adaptor.mars.internal-1658589095.837056-1100-8-425f9e2f-e705-48d5-a7ac-8e87ad433e73.nc to data_raw/global_era5-slv_static/land-sea-mask.nc (2M)\n",
      "2022-07-24 01:11:39,847 INFO Download rate 654.9K/s                             \n"
     ]
    },
    {
     "data": {
      "text/plain": [
       "Result(content_length=2086244,content_type=application/x-netcdf,location=https://download-0009-clone.copernicus-climate.eu/cache-compute-0009/cache/data2/adaptor.mars.internal-1658589095.837056-1100-8-425f9e2f-e705-48d5-a7ac-8e87ad433e73.nc)"
      ]
     },
     "execution_count": 17,
     "metadata": {},
     "output_type": "execute_result"
    }
   ],
   "source": [
    "c.retrieve(\n",
    "    'reanalysis-era5-single-levels-monthly-means',\n",
    "    {\n",
    "        'product_type': 'monthly_averaged_reanalysis',\n",
    "        'variable': 'land_sea_mask',\n",
    "        'year': '2022',\n",
    "        'month': '01',\n",
    "        'time': '00:00',\n",
    "        'format': 'netcdf',\n",
    "    },\n",
    "    'data_raw/global_era5-slv_static/land-sea-mask.nc')"
   ]
  },
  {
   "cell_type": "markdown",
   "id": "bfc0d7fe-d615-4a5c-a731-69416bff35e0",
   "metadata": {},
   "source": [
    "## Monthly averaged reanalysis by hour of day, on single levels"
   ]
  },
  {
   "cell_type": "markdown",
   "id": "8053d0af-ddeb-4d88-9eae-6be6616a0018",
   "metadata": {},
   "source": [
    "### Central America data"
   ]
  },
  {
   "cell_type": "code",
   "execution_count": null,
   "id": "f543c6e0-e62f-4e8e-91bc-fdfde59826d2",
   "metadata": {},
   "outputs": [],
   "source": [
    "# Create ca_era5-slv_month-hour folder to download data into\n",
    "# (if it doesn't already exist)\n",
    "Path(\"data_raw/ca_era5-slv_month-hour\").mkdir(parents=True, exist_ok=True)"
   ]
  },
  {
   "cell_type": "code",
   "execution_count": null,
   "id": "5b9149b9-bc23-4e65-9077-20e650637679",
   "metadata": {},
   "outputs": [],
   "source": []
  },
  {
   "cell_type": "markdown",
   "id": "337c0b1e-c11e-4dce-8cac-5a4d058e1678",
   "metadata": {},
   "source": [
    "### South America data"
   ]
  },
  {
   "cell_type": "code",
   "execution_count": null,
   "id": "79c4a8ee-98a3-4466-8712-f0e902cdb3c9",
   "metadata": {},
   "outputs": [],
   "source": [
    "# Create sa_era5-slv_month-hour folder to download data into\n",
    "# (if it doesn't already exist)\n",
    "Path(\"data_raw/sa_era5-slv_month-hour\").mkdir(parents=True, exist_ok=True)"
   ]
  },
  {
   "cell_type": "code",
   "execution_count": null,
   "id": "fa0d0efd-b317-4e06-800b-5c81439db789",
   "metadata": {},
   "outputs": [],
   "source": []
  },
  {
   "cell_type": "markdown",
   "id": "0bc2391f-ecd4-4b87-a9ac-da9e45c5406b",
   "metadata": {},
   "source": [
    "### Western Australia data"
   ]
  },
  {
   "cell_type": "code",
   "execution_count": null,
   "id": "b661297f-801e-4738-b0ec-ab42d23aa775",
   "metadata": {},
   "outputs": [],
   "source": [
    "# Create wa_era5-slv_month-hour folder to download data into\n",
    "# (if it doesn't already exist)\n",
    "Path(\"data_raw/wa_era5-slv_month-hour\").mkdir(parents=True, exist_ok=True)"
   ]
  },
  {
   "cell_type": "code",
   "execution_count": null,
   "id": "3bff97a5-0ce2-4321-90ba-283218fd2a5b",
   "metadata": {},
   "outputs": [],
   "source": []
  },
  {
   "cell_type": "markdown",
   "id": "dc67b00f-7009-4acb-aa83-39c75d68a815",
   "metadata": {},
   "source": [
    "### Northern Congolian Forests data"
   ]
  },
  {
   "cell_type": "code",
   "execution_count": null,
   "id": "0315a1da-aae2-47e7-b547-9ac1642a8d7e",
   "metadata": {},
   "outputs": [],
   "source": [
    "# Create nc_era5-slv_month-hour folder to download data into\n",
    "# (if it doesn't already exist)\n",
    "Path(\"data_raw/nc_era5-slv_month-hour\").mkdir(parents=True, exist_ok=True)"
   ]
  },
  {
   "cell_type": "code",
   "execution_count": null,
   "id": "1754f57c-3d08-44a2-9109-99fb04dc0905",
   "metadata": {},
   "outputs": [],
   "source": []
  },
  {
   "cell_type": "markdown",
   "id": "630b0978-bf12-4e99-b82d-c25e5c7b3d08",
   "metadata": {},
   "source": [
    "### Eastern China data"
   ]
  },
  {
   "cell_type": "code",
   "execution_count": null,
   "id": "7a6e3e56-edb0-460c-9b6c-90a630118a9b",
   "metadata": {},
   "outputs": [],
   "source": [
    "# Create ec_era5-slv_month-hour folder to download data into\n",
    "# (if it doesn't already exist)\n",
    "Path(\"data_raw/ec_era5-slv_month-hour\").mkdir(parents=True, exist_ok=True)"
   ]
  },
  {
   "cell_type": "code",
   "execution_count": null,
   "id": "7e3ab427-bcca-411e-87c1-c313302a885e",
   "metadata": {},
   "outputs": [],
   "source": []
  },
  {
   "cell_type": "markdown",
   "id": "5bfa95ea-9a7e-4449-94ac-4a45037b674e",
   "metadata": {},
   "source": [
    "## Hourly reanalysis, on single levels"
   ]
  },
  {
   "cell_type": "markdown",
   "id": "23e0d04a-f15d-4810-8dc0-9793876c22bd",
   "metadata": {},
   "source": [
    "### Central America data"
   ]
  },
  {
   "cell_type": "code",
   "execution_count": null,
   "id": "f5eed9b3-b1ba-4c98-9e80-49f3937f1665",
   "metadata": {},
   "outputs": [],
   "source": [
    "# Create ca_era5-slv_hour folder to download data into\n",
    "# (if it doesn't already exist)\n",
    "Path(\"data_raw/ca_era5-slv_hour\").mkdir(parents=True, exist_ok=True)"
   ]
  },
  {
   "cell_type": "code",
   "execution_count": null,
   "id": "58fa555d-7393-4259-b16a-0d5986bad99f",
   "metadata": {},
   "outputs": [],
   "source": []
  },
  {
   "cell_type": "markdown",
   "id": "3ffcabd7-691b-41fc-8489-49f3bee24aa3",
   "metadata": {},
   "source": [
    "### South America data"
   ]
  },
  {
   "cell_type": "code",
   "execution_count": null,
   "id": "9527b2b1-6efd-4e1f-9aa9-3fe2a9eb7484",
   "metadata": {},
   "outputs": [],
   "source": [
    "# Create sa_era5-slv_hour folder to download data into\n",
    "# (if it doesn't already exist)\n",
    "Path(\"data_raw/sa_era5-slv_hour\").mkdir(parents=True, exist_ok=True)"
   ]
  },
  {
   "cell_type": "code",
   "execution_count": null,
   "id": "157ed1a1-a635-4a10-b870-3484ee15157f",
   "metadata": {},
   "outputs": [],
   "source": []
  },
  {
   "cell_type": "markdown",
   "id": "7744047c-9802-4dcc-9703-3f04868db786",
   "metadata": {},
   "source": [
    "### Western Australia data"
   ]
  },
  {
   "cell_type": "code",
   "execution_count": null,
   "id": "8ae6ad2e-e4c7-4f61-8ac4-df31c69f5724",
   "metadata": {},
   "outputs": [],
   "source": [
    "# Create wa_era5-slv_hour folder to download data into\n",
    "# (if it doesn't already exist)\n",
    "Path(\"data_raw/wa_era5-slv_hour\").mkdir(parents=True, exist_ok=True)"
   ]
  },
  {
   "cell_type": "code",
   "execution_count": null,
   "id": "50a2e6de-4c34-491f-9c03-4078fd01e6a2",
   "metadata": {},
   "outputs": [],
   "source": []
  },
  {
   "cell_type": "markdown",
   "id": "0e799086-55b1-48e6-b04b-ee902926a155",
   "metadata": {},
   "source": [
    "### Northern Congolian Forests data"
   ]
  },
  {
   "cell_type": "code",
   "execution_count": null,
   "id": "f83d3ee4-f21c-4015-a0f3-a2c119787597",
   "metadata": {},
   "outputs": [],
   "source": [
    "# Create nc_era5-slv_hour folder to download data into\n",
    "# (if it doesn't already exist)\n",
    "Path(\"data_raw/nc_era5-slv_hour\").mkdir(parents=True, exist_ok=True)"
   ]
  },
  {
   "cell_type": "code",
   "execution_count": null,
   "id": "f12b532b-35a3-48c0-a7ab-d345cf45033a",
   "metadata": {},
   "outputs": [],
   "source": []
  },
  {
   "cell_type": "markdown",
   "id": "0efa2dd9-621a-4faa-b4ef-32fe18fee2cf",
   "metadata": {},
   "source": [
    "### Eastern China data"
   ]
  },
  {
   "cell_type": "code",
   "execution_count": null,
   "id": "ea61570d-f39c-46b1-8c6f-514cc3ac3fb3",
   "metadata": {},
   "outputs": [],
   "source": [
    "# Create ec_era5-slv_hour folder to download data into\n",
    "# (if it doesn't already exist)\n",
    "Path(\"data_raw/ec_era5-slv_hour\").mkdir(parents=True, exist_ok=True)"
   ]
  },
  {
   "cell_type": "code",
   "execution_count": null,
   "id": "db63bd39-2d13-4261-b52f-9e8c67007136",
   "metadata": {},
   "outputs": [],
   "source": []
  },
  {
   "cell_type": "markdown",
   "id": "b9b3cedb-edc9-4306-bf18-005654aeebfe",
   "metadata": {},
   "source": [
    "# Download GLASS LAI data"
   ]
  },
  {
   "cell_type": "code",
   "execution_count": null,
   "id": "9249a35c-e965-435f-8b65-9df103e14b35",
   "metadata": {},
   "outputs": [],
   "source": [
    "# AVHRR 0.05 deg data (1981-2008)\n",
    "\n",
    "# Create global_glass-lai-avhrr_month folder to download data into\n",
    "# (if it doesn't already exist)\n",
    "Path(\"data_raw/global_glass-lai-avhrr_month\").mkdir(parents=True, exist_ok=True)\n",
    "\n"
   ]
  },
  {
   "cell_type": "code",
   "execution_count": null,
   "id": "e9624447-fba6-443d-972e-d0afa33b0a1c",
   "metadata": {},
   "outputs": [],
   "source": [
    "# MODIS 0.05 deg data (2000-2021)\n",
    "\n",
    "# Create global_glass-lai-modis_month folder to download data into\n",
    "# (if it doesn't already exist)\n",
    "Path(\"data_raw/global_glass-lai-modis_month\").mkdir(parents=True, exist_ok=True)\n",
    "\n"
   ]
  },
  {
   "cell_type": "markdown",
   "id": "16b4993a-4b27-4afd-8ab1-842ecf81f0f5",
   "metadata": {},
   "source": [
    "# Download other data"
   ]
  },
  {
   "cell_type": "markdown",
   "id": "91152b82-cab5-4a53-9721-a947af6cbc2d",
   "metadata": {},
   "source": [
    "## BoM hourly observation data\n",
    "\n",
    "Request from http://www.bom.gov.au/catalogue/data-feeds.shtml"
   ]
  },
  {
   "cell_type": "code",
   "execution_count": null,
   "id": "667814af-0f0f-4dc4-b4b1-7538f90a581c",
   "metadata": {},
   "outputs": [],
   "source": [
    "# Create wa_bom_hour folder to download data into\n",
    "# (if it doesn't already exist)\n",
    "Path(\"data_raw/wa_bom_hour\").mkdir(parents=True, exist_ok=True)"
   ]
  },
  {
   "cell_type": "markdown",
   "id": "90f11442-cd34-4acd-97d6-71f9158027c4",
   "metadata": {},
   "source": [
    "## BoM minutely observation data\n",
    "\n",
    "Request from http://www.bom.gov.au/catalogue/data-feeds.shtml"
   ]
  },
  {
   "cell_type": "code",
   "execution_count": null,
   "id": "671795ab-9b46-4bd2-b53a-39e16de862bc",
   "metadata": {},
   "outputs": [],
   "source": [
    "# Create wa_bom_minute folder to download data into\n",
    "# (if it doesn't already exist)\n",
    "Path(\"data_raw/wa_bom_minute\").mkdir(parents=True, exist_ok=True)"
   ]
  },
  {
   "cell_type": "markdown",
   "id": "2d6ea73b-3126-4182-b4d6-3ceb5b3564e8",
   "metadata": {},
   "source": [
    "## Bunny Fence Experiment (2005-2007) data\n",
    "\n",
    "Request from https://www.eol.ucar.edu/field_projects/bufex"
   ]
  },
  {
   "cell_type": "code",
   "execution_count": null,
   "id": "ec968c1e-6b9d-4c83-bf29-10bee19bb9e8",
   "metadata": {},
   "outputs": [],
   "source": [
    "# Create wa_bufex folder to download data into\n",
    "# (if it doesn't already exist)\n",
    "Path(\"data_raw/wa_bufex\").mkdir(parents=True, exist_ok=True)"
   ]
  },
  {
   "cell_type": "code",
   "execution_count": null,
   "id": "3cefee12-1fc2-485d-ab56-6d85ca67e4b5",
   "metadata": {},
   "outputs": [],
   "source": []
  }
 ],
 "metadata": {
  "kernelspec": {
   "display_name": "Python 3 (ipykernel)",
   "language": "python",
   "name": "python3"
  },
  "language_info": {
   "codemirror_mode": {
    "name": "ipython",
    "version": 3
   },
   "file_extension": ".py",
   "mimetype": "text/x-python",
   "name": "python",
   "nbconvert_exporter": "python",
   "pygments_lexer": "ipython3",
   "version": "3.10.4"
  }
 },
 "nbformat": 4,
 "nbformat_minor": 5
}
