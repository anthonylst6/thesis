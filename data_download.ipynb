{
 "cells": [
  {
   "cell_type": "markdown",
   "id": "2c33f8a5-7262-4268-a3cd-66a6431c7a15",
   "metadata": {},
   "source": [
    "# Setup\n",
    "\n",
    "Note: Download of data below will require around XXX GB of storage, and may take several days due to queueing in the ECMWF Climate Data Store (CDS)."
   ]
  },
  {
   "cell_type": "code",
   "execution_count": null,
   "id": "21c2f851-e9fd-4c7d-a07f-4774bdf282e8",
   "metadata": {},
   "outputs": [],
   "source": [
    "# Import libraries\n",
    "from pathlib import Path\n",
    "import cdsapi\n",
    "from concurrent.futures import ThreadPoolExecutor, as_completed"
   ]
  },
  {
   "cell_type": "code",
   "execution_count": null,
   "id": "332193fa-1be6-46ed-90c1-074fe7040988",
   "metadata": {},
   "outputs": [],
   "source": [
    "# Create data_raw folder to download data into\n",
    "# (if it doesn't already exist)\n",
    "Path(\"data_raw\").mkdir(parents=True, exist_ok=True)"
   ]
  },
  {
   "cell_type": "code",
   "execution_count": null,
   "id": "97c88fbb-2824-41fd-bc52-6c52c5b13b29",
   "metadata": {},
   "outputs": [],
   "source": [
    "# Open CDS API client for ERA5 downloads\n",
    "c = cdsapi.Client()"
   ]
  },
  {
   "cell_type": "code",
   "execution_count": null,
   "id": "1d1cb6ab-18af-4f3e-90aa-9281ada92bab",
   "metadata": {},
   "outputs": [],
   "source": [
    "# Areas for each region in NWSE format to retrieve data for\n",
    "area = {\"ca\": [17, -91, 7, -81],\n",
    "        \"sa\": [0, -65, -15, -30],\n",
    "        \"wa\": [-30, 113, -35, 123]}"
   ]
  },
  {
   "cell_type": "code",
   "execution_count": null,
   "id": "212d6a4d-1240-4ee1-9b06-41390f26f821",
   "metadata": {},
   "outputs": [],
   "source": [
    "# Years to retrieve data for\n",
    "years = [\n",
    "            '1980', '1981', '1982',\n",
    "            '1983', '1984', '1985',\n",
    "            '1986', '1987', '1988',\n",
    "            '1989', '1990', '1991',\n",
    "            '1992', '1993', '1994',\n",
    "            '1995', '1996', '1997',\n",
    "            '1998', '1999', '2000',\n",
    "            '2001', '2002', '2003',\n",
    "            '2004', '2005', '2006',\n",
    "            '2007', '2008', '2009',\n",
    "            '2010', '2011', '2012',\n",
    "            '2013', '2014', '2015',\n",
    "            '2016', '2017', '2018',\n",
    "            '2019', '2020', '2021',\n",
    "]"
   ]
  },
  {
   "cell_type": "code",
   "execution_count": null,
   "id": "18dc561f-a9f3-4689-b4cb-456ed79b399e",
   "metadata": {},
   "outputs": [],
   "source": [
    "# Define function to retrieve monthly averaged reanalysis by hour of day\n",
    "def retrieve_era5_slv_month_hour(region):\n",
    "    file_name = 'data_raw/{region}_era5-slv_month-hour_{yearstart}-{yearend}.nc'.format(region=region, yearstart=years[0], yearend=years[-1])\n",
    "    if Path(file_name).exists():\n",
    "        print(file_name, \"already exists\")\n",
    "    else:\n",
    "        c.retrieve(\n",
    "            'reanalysis-era5-single-levels-monthly-means',\n",
    "            {\n",
    "                'product_type': 'monthly_averaged_reanalysis_by_hour_of_day',\n",
    "                'variable': [\n",
    "                    '100m_u_component_of_wind', '100m_v_component_of_wind', '10m_u_component_of_wind',\n",
    "                    '10m_v_component_of_wind', '2m_temperature', 'mean_sea_level_pressure',\n",
    "                    'surface_latent_heat_flux', 'surface_sensible_heat_flux',\n",
    "                ],\n",
    "                'year': years,\n",
    "                'month': [\n",
    "                    '01', '02', '03',\n",
    "                    '04', '05', '06',\n",
    "                    '07', '08', '09',\n",
    "                    '10', '11', '12',\n",
    "                ],\n",
    "                'time': [\n",
    "                    '00:00', '01:00', '02:00',\n",
    "                    '03:00', '04:00', '05:00',\n",
    "                    '06:00', '07:00', '08:00',\n",
    "                    '09:00', '10:00', '11:00',\n",
    "                    '12:00', '13:00', '14:00',\n",
    "                    '15:00', '16:00', '17:00',\n",
    "                    '18:00', '19:00', '20:00',\n",
    "                    '21:00', '22:00', '23:00',\n",
    "                ],\n",
    "                'format': 'netcdf',\n",
    "                'area': area[region],\n",
    "            },\n",
    "            file_name)\n",
    "        print(\"Retrieved\", file_name)"
   ]
  },
  {
   "cell_type": "code",
   "execution_count": null,
   "id": "34c919b7-db8d-4d9f-9f3c-79aee7431eec",
   "metadata": {},
   "outputs": [],
   "source": [
    "# Define function to retrieve hourly reanalysis (to be used with ThreadPoolExecutor)\n",
    "def retrieve_era5_slv_hour(region, year):\n",
    "    file_name = 'data_raw/{region}_era5-slv_hour/{region}_era5-slv_hour_{year}.nc'.format(region=region, year=year)\n",
    "    if Path(file_name).exists():\n",
    "        return(file_name + \" already exists\")\n",
    "    else:\n",
    "        c.retrieve(\n",
    "        'reanalysis-era5-single-levels',\n",
    "        {\n",
    "            'product_type': 'reanalysis',\n",
    "            'variable': [\n",
    "                '100m_u_component_of_wind', '100m_v_component_of_wind', '10m_u_component_of_wind',\n",
    "                '10m_v_component_of_wind', '2m_temperature', 'mean_sea_level_pressure',\n",
    "                'surface_latent_heat_flux', 'surface_sensible_heat_flux',\n",
    "            ],\n",
    "            'year': year,\n",
    "            'month': [\n",
    "                '01', '02', '03',\n",
    "                '04', '05', '06',\n",
    "                '07', '08', '09',\n",
    "                '10', '11', '12',\n",
    "            ],\n",
    "            'day': [\n",
    "                '01', '02', '03',\n",
    "                '04', '05', '06',\n",
    "                '07', '08', '09',\n",
    "                '10', '11', '12',\n",
    "                '13', '14', '15',\n",
    "                '16', '17', '18',\n",
    "                '19', '20', '21',\n",
    "                '22', '23', '24',\n",
    "                '25', '26', '27',\n",
    "                '28', '29', '30',\n",
    "                '31',\n",
    "            ],\n",
    "            'time': [\n",
    "                '00:00', '01:00', '02:00',\n",
    "                '03:00', '04:00', '05:00',\n",
    "                '06:00', '07:00', '08:00',\n",
    "                '09:00', '10:00', '11:00',\n",
    "                '12:00', '13:00', '14:00',\n",
    "                '15:00', '16:00', '17:00',\n",
    "                '18:00', '19:00', '20:00',\n",
    "                '21:00', '22:00', '23:00',\n",
    "            ],\n",
    "            'area': area[region],\n",
    "            'format': 'netcdf',\n",
    "        },\n",
    "        file_name)\n",
    "        return(\"Retrieved \" + file_name)"
   ]
  },
  {
   "cell_type": "markdown",
   "id": "45348c69-c048-4ad1-8e82-3b6404409a97",
   "metadata": {},
   "source": [
    "# Download ERA5 data\n",
    "\n",
    "First set up ECMWF CDS API using instructions from here: https://confluence.ecmwf.int/display/CKB/How+to+download+ERA5#HowtodownloadERA5-4-DownloadERA5familydatathroughtheCDSAPI"
   ]
  },
  {
   "cell_type": "markdown",
   "id": "8163630c-875d-486e-b444-6caa5ddf6ae3",
   "metadata": {},
   "source": [
    "## Static data"
   ]
  },
  {
   "cell_type": "markdown",
   "id": "07e6ae7f-8fb6-4874-b239-367a7db076d7",
   "metadata": {},
   "source": [
    "### Global data"
   ]
  },
  {
   "cell_type": "code",
   "execution_count": null,
   "id": "f9579e1b-1763-4763-bf7e-65414975e4f8",
   "metadata": {
    "tags": []
   },
   "outputs": [],
   "source": [
    "# Create global_era5-slv_static folder to download data into\n",
    "# (if it doesn't already exist)\n",
    "Path(\"data_raw/global_era5-slv_static\").mkdir(parents=True, exist_ok=True)"
   ]
  },
  {
   "cell_type": "code",
   "execution_count": null,
   "id": "76da1d7f-1dbe-46a0-9528-d15e98aa8f34",
   "metadata": {},
   "outputs": [],
   "source": [
    "# Retrieve ERA5 static geopotential data (for topography)\n",
    "c.retrieve(\n",
    "    'reanalysis-era5-single-levels-monthly-means',\n",
    "    {\n",
    "        'product_type': 'monthly_averaged_reanalysis',\n",
    "        'variable': 'geopotential',\n",
    "        'year': '2022',\n",
    "        'month': '01',\n",
    "        'time': '00:00',\n",
    "        'format': 'netcdf',\n",
    "    },\n",
    "    'data_raw/global_era5-slv_static/geopotential.nc')"
   ]
  },
  {
   "cell_type": "code",
   "execution_count": null,
   "id": "65907788-17b4-4183-ad97-b99cafb87872",
   "metadata": {},
   "outputs": [],
   "source": [
    "# Retrieve ERA5 land-sea mask\n",
    "c.retrieve(\n",
    "    'reanalysis-era5-single-levels-monthly-means',\n",
    "    {\n",
    "        'product_type': 'monthly_averaged_reanalysis',\n",
    "        'variable': 'land_sea_mask',\n",
    "        'year': '2022',\n",
    "        'month': '01',\n",
    "        'time': '00:00',\n",
    "        'format': 'netcdf',\n",
    "    },\n",
    "    'data_raw/global_era5-slv_static/land-sea-mask.nc')"
   ]
  },
  {
   "cell_type": "markdown",
   "id": "bfc0d7fe-d615-4a5c-a731-69416bff35e0",
   "metadata": {},
   "source": [
    "## Monthly averaged reanalysis by hour of day, on single levels"
   ]
  },
  {
   "cell_type": "markdown",
   "id": "8053d0af-ddeb-4d88-9eae-6be6616a0018",
   "metadata": {},
   "source": [
    "### Central America data"
   ]
  },
  {
   "cell_type": "code",
   "execution_count": null,
   "id": "0669ae93-a277-44e4-af1b-14209d6e393e",
   "metadata": {},
   "outputs": [],
   "source": [
    "retrieve_era5_slv_month_hour(\"ca\")"
   ]
  },
  {
   "cell_type": "markdown",
   "id": "337c0b1e-c11e-4dce-8cac-5a4d058e1678",
   "metadata": {},
   "source": [
    "### South America data"
   ]
  },
  {
   "cell_type": "code",
   "execution_count": null,
   "id": "4d904e5c-f925-453d-8e06-d6308688004f",
   "metadata": {},
   "outputs": [],
   "source": [
    "retrieve_era5_slv_month_hour(\"sa\")"
   ]
  },
  {
   "cell_type": "markdown",
   "id": "0bc2391f-ecd4-4b87-a9ac-da9e45c5406b",
   "metadata": {},
   "source": [
    "### Western Australia data"
   ]
  },
  {
   "cell_type": "code",
   "execution_count": null,
   "id": "e5e54213-68c5-4a97-90d3-7c6ce9930f7b",
   "metadata": {},
   "outputs": [],
   "source": [
    "retrieve_era5_slv_month_hour(\"wa\")"
   ]
  },
  {
   "cell_type": "markdown",
   "id": "5bfa95ea-9a7e-4449-94ac-4a45037b674e",
   "metadata": {},
   "source": [
    "## Hourly reanalysis, on single levels"
   ]
  },
  {
   "cell_type": "markdown",
   "id": "23e0d04a-f15d-4810-8dc0-9793876c22bd",
   "metadata": {},
   "source": [
    "### Central America data"
   ]
  },
  {
   "cell_type": "code",
   "execution_count": null,
   "id": "f5eed9b3-b1ba-4c98-9e80-49f3937f1665",
   "metadata": {},
   "outputs": [],
   "source": [
    "# Create ca_era5-slv_hour folder to download data into\n",
    "# (if it doesn't already exist)\n",
    "Path(\"data_raw/ca_era5-slv_hour\").mkdir(parents=True, exist_ok=True)"
   ]
  },
  {
   "cell_type": "code",
   "execution_count": null,
   "id": "3045dd3c-8403-44ad-a5b5-e192fe239bf1",
   "metadata": {},
   "outputs": [],
   "source": [
    "# Run up to 10 parallel retrieve requests (can only retrieve 1 year per request)\n",
    "with ThreadPoolExecutor(max_workers=10) as executor:\n",
    "    futures = [\n",
    "        executor.submit(retrieve_era5_slv_hour, \"ca\", year) for year in years\n",
    "    ]\n",
    "    for f in as_completed(futures):\n",
    "            try:\n",
    "                print(f.result())\n",
    "            except:\n",
    "                print(\"Could not retrieve\")"
   ]
  },
  {
   "cell_type": "markdown",
   "id": "3ffcabd7-691b-41fc-8489-49f3bee24aa3",
   "metadata": {},
   "source": [
    "### South America data"
   ]
  },
  {
   "cell_type": "code",
   "execution_count": null,
   "id": "9527b2b1-6efd-4e1f-9aa9-3fe2a9eb7484",
   "metadata": {},
   "outputs": [],
   "source": [
    "# Create sa_era5-slv_hour folder to download data into\n",
    "# (if it doesn't already exist)\n",
    "Path(\"data_raw/sa_era5-slv_hour\").mkdir(parents=True, exist_ok=True)"
   ]
  },
  {
   "cell_type": "code",
   "execution_count": null,
   "id": "3546910f-6ec2-4250-bdb8-5eeb201865d6",
   "metadata": {},
   "outputs": [],
   "source": [
    "# Run up to 10 parallel retrieve requests (can only retrieve 1 year per request)\n",
    "with ThreadPoolExecutor(max_workers=10) as executor:\n",
    "    futures = [\n",
    "        executor.submit(retrieve_era5_slv_hour, \"sa\", year) for year in years\n",
    "    ]\n",
    "    for f in as_completed(futures):\n",
    "            try:\n",
    "                print(f.result())\n",
    "            except:\n",
    "                print(\"Could not retrieve\")"
   ]
  },
  {
   "cell_type": "markdown",
   "id": "7744047c-9802-4dcc-9703-3f04868db786",
   "metadata": {},
   "source": [
    "### Western Australia data"
   ]
  },
  {
   "cell_type": "code",
   "execution_count": null,
   "id": "8ae6ad2e-e4c7-4f61-8ac4-df31c69f5724",
   "metadata": {},
   "outputs": [],
   "source": [
    "# Create wa_era5-slv_hour folder to download data into\n",
    "# (if it doesn't already exist)\n",
    "Path(\"data_raw/wa_era5-slv_hour\").mkdir(parents=True, exist_ok=True)"
   ]
  },
  {
   "cell_type": "code",
   "execution_count": null,
   "id": "2d21f55c-9135-4423-89d2-54868b52a56b",
   "metadata": {},
   "outputs": [],
   "source": [
    "# Run up to 10 parallel retrieve requests (can only retrieve 1 year per request)\n",
    "with ThreadPoolExecutor(max_workers=10) as executor:\n",
    "    futures = [\n",
    "        executor.submit(retrieve_era5_slv_hour, \"wa\", year) for year in years\n",
    "    ]\n",
    "    for f in as_completed(futures):\n",
    "            try:\n",
    "                print(f.result())\n",
    "            except:\n",
    "                print(\"Could not retrieve\")"
   ]
  },
  {
   "cell_type": "markdown",
   "id": "b9b3cedb-edc9-4306-bf18-005654aeebfe",
   "metadata": {},
   "source": [
    "# Download GLASS LAI data"
   ]
  },
  {
   "cell_type": "code",
   "execution_count": null,
   "id": "9249a35c-e965-435f-8b65-9df103e14b35",
   "metadata": {},
   "outputs": [],
   "source": [
    "# AVHRR 0.05 deg data (1981-2008)\n",
    "\n",
    "# Create global_glass-lai-avhrr_month folder to download data into\n",
    "# (if it doesn't already exist)\n",
    "Path(\"data_raw/global_glass-lai-avhrr_month\").mkdir(parents=True, exist_ok=True)\n",
    "\n"
   ]
  },
  {
   "cell_type": "code",
   "execution_count": null,
   "id": "e9624447-fba6-443d-972e-d0afa33b0a1c",
   "metadata": {},
   "outputs": [],
   "source": [
    "# MODIS 0.05 deg data (2000-2021)\n",
    "\n",
    "# Create global_glass-lai-modis_month folder to download data into\n",
    "# (if it doesn't already exist)\n",
    "Path(\"data_raw/global_glass-lai-modis_month\").mkdir(parents=True, exist_ok=True)\n",
    "\n"
   ]
  },
  {
   "cell_type": "markdown",
   "id": "16b4993a-4b27-4afd-8ab1-842ecf81f0f5",
   "metadata": {},
   "source": [
    "# Download other data"
   ]
  },
  {
   "cell_type": "markdown",
   "id": "91152b82-cab5-4a53-9721-a947af6cbc2d",
   "metadata": {},
   "source": [
    "## BoM hourly observation data\n",
    "\n",
    "Request from http://www.bom.gov.au/catalogue/data-feeds.shtml"
   ]
  },
  {
   "cell_type": "code",
   "execution_count": null,
   "id": "667814af-0f0f-4dc4-b4b1-7538f90a581c",
   "metadata": {},
   "outputs": [],
   "source": [
    "# Create wa_bom_hour folder to download data into\n",
    "# (if it doesn't already exist)\n",
    "Path(\"data_raw/wa_bom_hour\").mkdir(parents=True, exist_ok=True)"
   ]
  },
  {
   "cell_type": "markdown",
   "id": "90f11442-cd34-4acd-97d6-71f9158027c4",
   "metadata": {},
   "source": [
    "## BoM minutely observation data\n",
    "\n",
    "Request from http://www.bom.gov.au/catalogue/data-feeds.shtml"
   ]
  },
  {
   "cell_type": "code",
   "execution_count": null,
   "id": "671795ab-9b46-4bd2-b53a-39e16de862bc",
   "metadata": {},
   "outputs": [],
   "source": [
    "# Create wa_bom_minute folder to download data into\n",
    "# (if it doesn't already exist)\n",
    "Path(\"data_raw/wa_bom_minute\").mkdir(parents=True, exist_ok=True)"
   ]
  },
  {
   "cell_type": "markdown",
   "id": "2d6ea73b-3126-4182-b4d6-3ceb5b3564e8",
   "metadata": {},
   "source": [
    "## Bunny Fence Experiment (2005-2007) data\n",
    "\n",
    "Request from https://www.eol.ucar.edu/field_projects/bufex"
   ]
  },
  {
   "cell_type": "code",
   "execution_count": null,
   "id": "ec968c1e-6b9d-4c83-bf29-10bee19bb9e8",
   "metadata": {},
   "outputs": [],
   "source": [
    "# Create wa_bufex folder to download data into\n",
    "# (if it doesn't already exist)\n",
    "Path(\"data_raw/wa_bufex\").mkdir(parents=True, exist_ok=True)"
   ]
  },
  {
   "cell_type": "code",
   "execution_count": null,
   "id": "3cefee12-1fc2-485d-ab56-6d85ca67e4b5",
   "metadata": {},
   "outputs": [],
   "source": []
  },
  {
   "cell_type": "markdown",
   "id": "89df447f-07d9-4c78-ab0e-2c370a37560d",
   "metadata": {},
   "source": [
    "# To delete after"
   ]
  },
  {
   "cell_type": "code",
   "execution_count": null,
   "id": "d428d157-874f-46b1-ad72-14f5d930bd53",
   "metadata": {},
   "outputs": [],
   "source": [
    "c.retrieve(\n",
    "    'reanalysis-era5-single-levels-monthly-means',\n",
    "    {\n",
    "        'product_type': 'monthly_averaged_reanalysis_by_hour_of_day',\n",
    "        'variable': [\n",
    "            '100m_u_component_of_wind', '100m_v_component_of_wind', '10m_u_component_of_wind',\n",
    "            '10m_v_component_of_wind', '2m_temperature', 'mean_sea_level_pressure',\n",
    "            'surface_latent_heat_flux', 'surface_sensible_heat_flux',\n",
    "        ],\n",
    "        'year': [\n",
    "            '1980', '1981', '1982',\n",
    "            '1983', '1984', '1985',\n",
    "            '1986', '1987', '1988',\n",
    "            '1989', '1990', '1991',\n",
    "            '1992', '1993', '1994',\n",
    "            '1995', '1996', '1997',\n",
    "            '1998', '1999', '2000',\n",
    "            '2001', '2002', '2003',\n",
    "            '2004', '2005', '2006',\n",
    "            '2007', '2008', '2009',\n",
    "            '2010', '2011', '2012',\n",
    "            '2013', '2014', '2015',\n",
    "            '2016', '2017', '2018',\n",
    "            '2019', '2020', '2021',\n",
    "        ],\n",
    "        'month': [\n",
    "            '01', '02', '03',\n",
    "            '04', '05', '06',\n",
    "            '07', '08', '09',\n",
    "            '10', '11', '12',\n",
    "        ],\n",
    "        'time': [\n",
    "            '00:00', '01:00', '02:00',\n",
    "            '03:00', '04:00', '05:00',\n",
    "            '06:00', '07:00', '08:00',\n",
    "            '09:00', '10:00', '11:00',\n",
    "            '12:00', '13:00', '14:00',\n",
    "            '15:00', '16:00', '17:00',\n",
    "            '18:00', '19:00', '20:00',\n",
    "            '21:00', '22:00', '23:00',\n",
    "        ],\n",
    "        'format': 'netcdf',\n",
    "        'area': [\n",
    "            17, -91, 7,\n",
    "            -81,\n",
    "        ],\n",
    "    },\n",
    "    'data_raw/ca_era5-slv_month-hour_1980-2021.nc')"
   ]
  },
  {
   "cell_type": "code",
   "execution_count": null,
   "id": "fa0d0efd-b317-4e06-800b-5c81439db789",
   "metadata": {},
   "outputs": [],
   "source": [
    "c.retrieve(\n",
    "    'reanalysis-era5-single-levels-monthly-means',\n",
    "    {\n",
    "        'product_type': 'monthly_averaged_reanalysis_by_hour_of_day',\n",
    "        'variable': [\n",
    "            '100m_u_component_of_wind', '100m_v_component_of_wind', '10m_u_component_of_wind',\n",
    "            '10m_v_component_of_wind', '2m_temperature', 'mean_sea_level_pressure',\n",
    "            'surface_latent_heat_flux', 'surface_sensible_heat_flux',\n",
    "        ],\n",
    "        'year': [\n",
    "            '1980', '1981', '1982',\n",
    "            '1983', '1984', '1985',\n",
    "            '1986', '1987', '1988',\n",
    "            '1989', '1990', '1991',\n",
    "            '1992', '1993', '1994',\n",
    "            '1995', '1996', '1997',\n",
    "            '1998', '1999', '2000',\n",
    "            '2001', '2002', '2003',\n",
    "            '2004', '2005', '2006',\n",
    "            '2007', '2008', '2009',\n",
    "            '2010', '2011', '2012',\n",
    "            '2013', '2014', '2015',\n",
    "            '2016', '2017', '2018',\n",
    "            '2019', '2020', '2021',\n",
    "        ],\n",
    "        'month': [\n",
    "            '01', '02', '03',\n",
    "            '04', '05', '06',\n",
    "            '07', '08', '09',\n",
    "            '10', '11', '12',\n",
    "        ],\n",
    "        'time': [\n",
    "            '00:00', '01:00', '02:00',\n",
    "            '03:00', '04:00', '05:00',\n",
    "            '06:00', '07:00', '08:00',\n",
    "            '09:00', '10:00', '11:00',\n",
    "            '12:00', '13:00', '14:00',\n",
    "            '15:00', '16:00', '17:00',\n",
    "            '18:00', '19:00', '20:00',\n",
    "            '21:00', '22:00', '23:00',\n",
    "        ],\n",
    "        'format': 'netcdf',\n",
    "        'area': [\n",
    "            0, -65, -15,\n",
    "            -30,\n",
    "        ],\n",
    "    },\n",
    "    'data_raw/sa_era5-slv_month-hour_1980-2021.nc')"
   ]
  },
  {
   "cell_type": "code",
   "execution_count": null,
   "id": "3bff97a5-0ce2-4321-90ba-283218fd2a5b",
   "metadata": {},
   "outputs": [],
   "source": [
    "c.retrieve(\n",
    "    'reanalysis-era5-single-levels-monthly-means',\n",
    "    {\n",
    "        'product_type': 'monthly_averaged_reanalysis_by_hour_of_day',\n",
    "        'variable': [\n",
    "            '100m_u_component_of_wind', '100m_v_component_of_wind', '10m_u_component_of_wind',\n",
    "            '10m_v_component_of_wind', '2m_temperature', 'mean_sea_level_pressure',\n",
    "            'surface_latent_heat_flux', 'surface_sensible_heat_flux',\n",
    "        ],\n",
    "        'year': [\n",
    "            '1980', '1981', '1982',\n",
    "            '1983', '1984', '1985',\n",
    "            '1986', '1987', '1988',\n",
    "            '1989', '1990', '1991',\n",
    "            '1992', '1993', '1994',\n",
    "            '1995', '1996', '1997',\n",
    "            '1998', '1999', '2000',\n",
    "            '2001', '2002', '2003',\n",
    "            '2004', '2005', '2006',\n",
    "            '2007', '2008', '2009',\n",
    "            '2010', '2011', '2012',\n",
    "            '2013', '2014', '2015',\n",
    "            '2016', '2017', '2018',\n",
    "            '2019', '2020', '2021',\n",
    "        ],\n",
    "        'month': [\n",
    "            '01', '02', '03',\n",
    "            '04', '05', '06',\n",
    "            '07', '08', '09',\n",
    "            '10', '11', '12',\n",
    "        ],\n",
    "        'time': [\n",
    "            '00:00', '01:00', '02:00',\n",
    "            '03:00', '04:00', '05:00',\n",
    "            '06:00', '07:00', '08:00',\n",
    "            '09:00', '10:00', '11:00',\n",
    "            '12:00', '13:00', '14:00',\n",
    "            '15:00', '16:00', '17:00',\n",
    "            '18:00', '19:00', '20:00',\n",
    "            '21:00', '22:00', '23:00',\n",
    "        ],\n",
    "        'format': 'netcdf',\n",
    "        'area': [\n",
    "            -30, 113, -35,\n",
    "            123,\n",
    "        ],\n",
    "    },\n",
    "    'data_raw/wa_era5-slv_month-hour_1980-2021.nc')"
   ]
  },
  {
   "cell_type": "code",
   "execution_count": null,
   "id": "92b38cdf-24cd-438f-919d-e978e2416aa5",
   "metadata": {},
   "outputs": [],
   "source": []
  }
 ],
 "metadata": {
  "kernelspec": {
   "display_name": "Python 3 (ipykernel)",
   "language": "python",
   "name": "python3"
  },
  "language_info": {
   "codemirror_mode": {
    "name": "ipython",
    "version": 3
   },
   "file_extension": ".py",
   "mimetype": "text/x-python",
   "name": "python",
   "nbconvert_exporter": "python",
   "pygments_lexer": "ipython3",
   "version": "3.10.4"
  }
 },
 "nbformat": 4,
 "nbformat_minor": 5
}
